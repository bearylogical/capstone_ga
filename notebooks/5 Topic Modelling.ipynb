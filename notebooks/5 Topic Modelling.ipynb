{
 "cells": [
  {
   "cell_type": "markdown",
   "metadata": {},
   "source": [
    "# 05 Topic Modelling\n",
    "\n",
    "Given that our corpus is currently not labelled, we would like to understand, based on the corpus, the distribution of terms associated in the corpus. The grouping of the terms by their likelihood of association can be obtained via the latent dirichlet allocation method. \n",
    "\n",
    "\n",
    "## Import Libraries"
   ]
  },
  {
   "cell_type": "code",
   "execution_count": 5,
   "metadata": {},
   "outputs": [],
   "source": [
    "import datetime\n",
    "import numpy as np\n",
    "import pandas as pd\n",
    "from datetime import date \n",
    "\n",
    "import matplotlib.pyplot as plt\n",
    "import seaborn as sns\n",
    "\n",
    "import pyLDAvis.gensim\n",
    "import pyLDAvis\n",
    "import pymongo \n",
    "\n",
    "from tqdm import tqdm\n",
    "\n",
    "from bson.json_util import dumps"
   ]
  },
  {
   "cell_type": "markdown",
   "metadata": {},
   "source": [
    "## Import Corpus"
   ]
  },
  {
   "cell_type": "code",
   "execution_count": 2,
   "metadata": {},
   "outputs": [],
   "source": [
    "try:\n",
    "    client = pymongo.MongoClient(\"mongodb://localhost:27017/\")\n",
    "    client.server_info() # force connection on a request as the\n",
    "                         # connect=True parameter of MongoClient seems\n",
    "                         # to be useless here \n",
    "except pymongo.errors.ServerSelectionTimeoutError as err:\n",
    "    # do whatever you need\n",
    "    print(err)\n",
    "\n"
   ]
  },
  {
   "cell_type": "code",
   "execution_count": 3,
   "metadata": {},
   "outputs": [],
   "source": [
    "db = client[\"parliament\"]\n",
    "articles = db[\"articles\"]"
   ]
  },
  {
   "cell_type": "code",
   "execution_count": 4,
   "metadata": {},
   "outputs": [],
   "source": [
    "mongo_df = pd.DataFrame.from_records(articles.find())"
   ]
  },
  {
   "cell_type": "markdown",
   "metadata": {},
   "source": [
    "## Tokenise Reviews"
   ]
  },
  {
   "cell_type": "code",
   "execution_count": 8,
   "metadata": {},
   "outputs": [
    {
     "data": {
      "text/plain": [
       "Index(['_id', 'article_text', 'cleaned_join', 'html_clean', 'parliament_num',\n",
       "       'session_num', 'session_type', 'sitting_date', 'sitting_num', 'src_url',\n",
       "       'title', 'volume_num'],\n",
       "      dtype='object')"
      ]
     },
     "execution_count": 8,
     "metadata": {},
     "output_type": "execute_result"
    }
   ],
   "source": [
    "mongo_df.columns"
   ]
  },
  {
   "cell_type": "code",
   "execution_count": 10,
   "metadata": {},
   "outputs": [
    {
     "data": {
      "text/html": [
       "<div>\n",
       "<style scoped>\n",
       "    .dataframe tbody tr th:only-of-type {\n",
       "        vertical-align: middle;\n",
       "    }\n",
       "\n",
       "    .dataframe tbody tr th {\n",
       "        vertical-align: top;\n",
       "    }\n",
       "\n",
       "    .dataframe thead th {\n",
       "        text-align: right;\n",
       "    }\n",
       "</style>\n",
       "<table border=\"1\" class=\"dataframe\">\n",
       "  <thead>\n",
       "    <tr style=\"text-align: right;\">\n",
       "      <th></th>\n",
       "      <th>_id</th>\n",
       "      <th>article_text</th>\n",
       "      <th>cleaned_join</th>\n",
       "      <th>html_clean</th>\n",
       "      <th>parliament_num</th>\n",
       "      <th>session_num</th>\n",
       "      <th>session_type</th>\n",
       "      <th>sitting_date</th>\n",
       "      <th>sitting_num</th>\n",
       "      <th>src_url</th>\n",
       "      <th>title</th>\n",
       "      <th>volume_num</th>\n",
       "    </tr>\n",
       "  </thead>\n",
       "  <tbody>\n",
       "    <tr>\n",
       "      <th>0</th>\n",
       "      <td>5d2340c5d46d0af6e74a4c64</td>\n",
       "      <td>&lt;p&gt;[(proc text) Debate resumed. (proc text)]&lt;/...</td>\n",
       "      <td>[(proc text) Debate resumed. (proc text)]&lt;br/&gt;...</td>\n",
       "      <td>[[(proc text) Debate resumed. (proc text)], Mr...</td>\n",
       "      <td>13</td>\n",
       "      <td>2</td>\n",
       "      <td>SECOND READING BILLS</td>\n",
       "      <td>2019-05-08</td>\n",
       "      <td>105</td>\n",
       "      <td>https://sprs.parl.gov.sg/search/sprs3topic?rep...</td>\n",
       "      <td>PROTECTION FROM ONLINE FALSEHOODS AND MANIPULA...</td>\n",
       "      <td>94</td>\n",
       "    </tr>\n",
       "    <tr>\n",
       "      <th>1</th>\n",
       "      <td>5d2340c5d46d0af6e74a4c65</td>\n",
       "      <td>&lt;p class=\"ql-align-justify\"&gt;4 &lt;strong&gt;Mr Vikra...</td>\n",
       "      <td>Mr Vikram Nair asked the Minister for Foreign ...</td>\n",
       "      <td>[Mr Vikram Nair asked the Minister for Foreign...</td>\n",
       "      <td>13</td>\n",
       "      <td>2</td>\n",
       "      <td>ORAL ANSWERS</td>\n",
       "      <td>2019-05-08</td>\n",
       "      <td>105</td>\n",
       "      <td>https://sprs.parl.gov.sg/search/sprs3topic?rep...</td>\n",
       "      <td>STATE OF BILATERAL RELATIONS WITH MALAYSIA FOL...</td>\n",
       "      <td>94</td>\n",
       "    </tr>\n",
       "    <tr>\n",
       "      <th>2</th>\n",
       "      <td>5d2340c5d46d0af6e74a4c66</td>\n",
       "      <td>&lt;p class=\"ql-align-justify\"&gt;8 &lt;strong&gt;Assoc Pr...</td>\n",
       "      <td>Assoc Prof Walter Theseira asked the Minister ...</td>\n",
       "      <td>[Assoc Prof Walter Theseira asked the Minister...</td>\n",
       "      <td>13</td>\n",
       "      <td>2</td>\n",
       "      <td>ORAL ANSWERS</td>\n",
       "      <td>2019-05-08</td>\n",
       "      <td>105</td>\n",
       "      <td>https://sprs.parl.gov.sg/search/sprs3topic?rep...</td>\n",
       "      <td>COMPANIES WITH MEASURES TO DEAL WITH WORKPLACE...</td>\n",
       "      <td>94</td>\n",
       "    </tr>\n",
       "    <tr>\n",
       "      <th>3</th>\n",
       "      <td>5d2340c5d46d0af6e74a4c67</td>\n",
       "      <td>&lt;p&gt;5 &lt;strong&gt;Ms Irene Quay Siew Ching&lt;/strong&gt;...</td>\n",
       "      <td>Ms Irene Quay Siew Ching asked the Minister fo...</td>\n",
       "      <td>[Ms Irene Quay Siew Ching asked the Minister f...</td>\n",
       "      <td>13</td>\n",
       "      <td>2</td>\n",
       "      <td>ORAL ANSWERS</td>\n",
       "      <td>2019-05-08</td>\n",
       "      <td>105</td>\n",
       "      <td>https://sprs.parl.gov.sg/search/sprs3topic?rep...</td>\n",
       "      <td>REVIEW OF DRUG TESTING STANDARDS IN SINGAPORE ...</td>\n",
       "      <td>94</td>\n",
       "    </tr>\n",
       "    <tr>\n",
       "      <th>4</th>\n",
       "      <td>5d2340c5d46d0af6e74a4c68</td>\n",
       "      <td>&lt;p class=\"ql-align-justify\"&gt;2 &lt;strong&gt;Mr Lim B...</td>\n",
       "      <td>Mr Lim Biow Chuan asked the Deputy Prime Minis...</td>\n",
       "      <td>[Mr Lim Biow Chuan asked the Deputy Prime Mini...</td>\n",
       "      <td>13</td>\n",
       "      <td>2</td>\n",
       "      <td>ORAL ANSWERS</td>\n",
       "      <td>2019-05-08</td>\n",
       "      <td>105</td>\n",
       "      <td>https://sprs.parl.gov.sg/search/sprs3topic?rep...</td>\n",
       "      <td>LIVING IN PRIVATE PROPERTIES BUT WITH NO DECLA...</td>\n",
       "      <td>94</td>\n",
       "    </tr>\n",
       "  </tbody>\n",
       "</table>\n",
       "</div>"
      ],
      "text/plain": [
       "                        _id  \\\n",
       "0  5d2340c5d46d0af6e74a4c64   \n",
       "1  5d2340c5d46d0af6e74a4c65   \n",
       "2  5d2340c5d46d0af6e74a4c66   \n",
       "3  5d2340c5d46d0af6e74a4c67   \n",
       "4  5d2340c5d46d0af6e74a4c68   \n",
       "\n",
       "                                        article_text  \\\n",
       "0  <p>[(proc text) Debate resumed. (proc text)]</...   \n",
       "1  <p class=\"ql-align-justify\">4 <strong>Mr Vikra...   \n",
       "2  <p class=\"ql-align-justify\">8 <strong>Assoc Pr...   \n",
       "3  <p>5 <strong>Ms Irene Quay Siew Ching</strong>...   \n",
       "4  <p class=\"ql-align-justify\">2 <strong>Mr Lim B...   \n",
       "\n",
       "                                        cleaned_join  \\\n",
       "0  [(proc text) Debate resumed. (proc text)]<br/>...   \n",
       "1  Mr Vikram Nair asked the Minister for Foreign ...   \n",
       "2  Assoc Prof Walter Theseira asked the Minister ...   \n",
       "3  Ms Irene Quay Siew Ching asked the Minister fo...   \n",
       "4  Mr Lim Biow Chuan asked the Deputy Prime Minis...   \n",
       "\n",
       "                                          html_clean  parliament_num  \\\n",
       "0  [[(proc text) Debate resumed. (proc text)], Mr...              13   \n",
       "1  [Mr Vikram Nair asked the Minister for Foreign...              13   \n",
       "2  [Assoc Prof Walter Theseira asked the Minister...              13   \n",
       "3  [Ms Irene Quay Siew Ching asked the Minister f...              13   \n",
       "4  [Mr Lim Biow Chuan asked the Deputy Prime Mini...              13   \n",
       "\n",
       "   session_num          session_type sitting_date  sitting_num  \\\n",
       "0            2  SECOND READING BILLS   2019-05-08          105   \n",
       "1            2          ORAL ANSWERS   2019-05-08          105   \n",
       "2            2          ORAL ANSWERS   2019-05-08          105   \n",
       "3            2          ORAL ANSWERS   2019-05-08          105   \n",
       "4            2          ORAL ANSWERS   2019-05-08          105   \n",
       "\n",
       "                                             src_url  \\\n",
       "0  https://sprs.parl.gov.sg/search/sprs3topic?rep...   \n",
       "1  https://sprs.parl.gov.sg/search/sprs3topic?rep...   \n",
       "2  https://sprs.parl.gov.sg/search/sprs3topic?rep...   \n",
       "3  https://sprs.parl.gov.sg/search/sprs3topic?rep...   \n",
       "4  https://sprs.parl.gov.sg/search/sprs3topic?rep...   \n",
       "\n",
       "                                               title  volume_num  \n",
       "0  PROTECTION FROM ONLINE FALSEHOODS AND MANIPULA...          94  \n",
       "1  STATE OF BILATERAL RELATIONS WITH MALAYSIA FOL...          94  \n",
       "2  COMPANIES WITH MEASURES TO DEAL WITH WORKPLACE...          94  \n",
       "3  REVIEW OF DRUG TESTING STANDARDS IN SINGAPORE ...          94  \n",
       "4  LIVING IN PRIVATE PROPERTIES BUT WITH NO DECLA...          94  "
      ]
     },
     "execution_count": 10,
     "metadata": {},
     "output_type": "execute_result"
    }
   ],
   "source": [
    "mongo_df.head()"
   ]
  },
  {
   "cell_type": "code",
   "execution_count": 11,
   "metadata": {},
   "outputs": [
    {
     "name": "stderr",
     "output_type": "stream",
     "text": [
      "/Users/syamil/anaconda3/envs/pivot/lib/python3.7/site-packages/nltk/decorators.py:68: DeprecationWarning: `formatargspec` is deprecated since Python 3.5. Use `signature` and the `Signature` object directly\n",
      "  regargs, varargs, varkwargs, defaults, formatvalue=lambda value: \"\"\n"
     ]
    }
   ],
   "source": [
    "import gensim\n",
    "from gensim.utils import simple_preprocess\n",
    "from nltk.corpus import stopwords\n",
    "stop_words = stopwords.words('english')\n",
    "\n",
    "def sent_to_words(sentences):\n",
    "    for sentence in sentences:\n",
    "        yield(gensim.utils.simple_preprocess(str(sentence), deacc=True))  # deacc=True removes punctuations\n",
    "\n",
    "def remove_stopwords(texts):\n",
    "    return [[word for word in simple_preprocess(str(doc)) if word not in stop_words] for doc in texts]\n",
    "\n",
    "def bigrams(words, bi_min=15, tri_min=10):\n",
    "    bigram = gensim.models.Phrases(words, min_count = bi_min)\n",
    "    bigram_mod = gensim.models.phrases.Phraser(bigram)\n",
    "    return bigram_mod\n",
    "    \n",
    "def get_corpus(df):\n",
    "    words = list(sent_to_words(df.cleaned_join))\n",
    "    words = remove_stopwords(words)\n",
    "    bigram_mod = bigrams(words)\n",
    "    bigram = [bigram_mod[review] for review in words]\n",
    "    id2word = gensim.corpora.Dictionary(bigram)\n",
    "    id2word.filter_extremes(no_below=10, no_above=0.35)\n",
    "    id2word.compactify()\n",
    "    corpus = [id2word.doc2bow(text) for text in bigram]\n",
    "    return corpus, id2word, bigram\n",
    "\n",
    "train_corpus, train_id2word, bigram_train = get_corpus(mongo_df)"
   ]
  },
  {
   "cell_type": "code",
   "execution_count": 19,
   "metadata": {},
   "outputs": [
    {
     "name": "stderr",
     "output_type": "stream",
     "text": [
      "/Users/syamil/anaconda3/envs/pivot/lib/python3.7/site-packages/smart_open/smart_open_lib.py:398: UserWarning: This function is deprecated, use smart_open.open instead. See the migration notes for details: https://github.com/RaRe-Technologies/smart_open/blob/master/README.rst#migrating-to-the-new-open-function\n",
      "  'See the migration notes for details: %s' % _MIGRATION_NOTES_URL\n",
      "/Users/syamil/anaconda3/envs/pivot/lib/python3.7/site-packages/smart_open/smart_open_lib.py:398: UserWarning: This function is deprecated, use smart_open.open instead. See the migration notes for details: https://github.com/RaRe-Technologies/smart_open/blob/master/README.rst#migrating-to-the-new-open-function\n",
      "  'See the migration notes for details: %s' % _MIGRATION_NOTES_URL\n"
     ]
    }
   ],
   "source": [
    "import warnings\n",
    "import logging # This allows for seeing if the model converges. A log file is created.\n",
    "logging.basicConfig(filename='lda_model.log', format='%(asctime)s : %(levelname)s : %(message)s', level=logging.INFO)\n",
    "\n",
    "with warnings.catch_warnings():\n",
    "    warnings.simplefilter('ignore')\n",
    "    lda_train = gensim.models.ldamulticore.LdaMulticore(\n",
    "                           corpus=train_corpus,\n",
    "                           num_topics=10,\n",
    "                           id2word=train_id2word,\n",
    "                           chunksize=100,\n",
    "                           workers=5, # Num. Processing Cores - 1\n",
    "                           passes=50,\n",
    "                           eval_every = 1,\n",
    "                           per_word_topics=True)\n",
    "lda_train.save('lda_train.model')"
   ]
  },
  {
   "cell_type": "code",
   "execution_count": 9,
   "metadata": {},
   "outputs": [
    {
     "name": "stderr",
     "output_type": "stream",
     "text": [
      "/Users/syamil/anaconda3/envs/pivot/lib/python3.7/site-packages/scipy/sparse/sparsetools.py:21: DeprecationWarning: `scipy.sparse.sparsetools` is deprecated!\n",
      "scipy.sparse.sparsetools is a private module for scipy.sparse, and should not be used.\n",
      "  _deprecated()\n",
      "/Users/syamil/anaconda3/envs/pivot/lib/python3.7/site-packages/smart_open/smart_open_lib.py:398: UserWarning: This function is deprecated, use smart_open.open instead. See the migration notes for details: https://github.com/RaRe-Technologies/smart_open/blob/master/README.rst#migrating-to-the-new-open-function\n",
      "  'See the migration notes for details: %s' % _MIGRATION_NOTES_URL\n",
      "/Users/syamil/anaconda3/envs/pivot/lib/python3.7/site-packages/smart_open/smart_open_lib.py:398: UserWarning: This function is deprecated, use smart_open.open instead. See the migration notes for details: https://github.com/RaRe-Technologies/smart_open/blob/master/README.rst#migrating-to-the-new-open-function\n",
      "  'See the migration notes for details: %s' % _MIGRATION_NOTES_URL\n"
     ]
    }
   ],
   "source": [
    "from gensim.models.ldamodel import LdaModel\n",
    "\n",
    "model = LdaModel.load('lda_train.model')"
   ]
  },
  {
   "cell_type": "code",
   "execution_count": 12,
   "metadata": {},
   "outputs": [
    {
     "name": "stderr",
     "output_type": "stream",
     "text": [
      "/Users/syamil/anaconda3/envs/pivot/lib/python3.7/site-packages/pyLDAvis/_prepare.py:257: FutureWarning: Sorting because non-concatenation axis is not aligned. A future version\n",
      "of pandas will change to not sort by default.\n",
      "\n",
      "To accept the future behavior, pass 'sort=False'.\n",
      "\n",
      "To retain the current behavior and silence the warning, pass 'sort=True'.\n",
      "\n",
      "  return pd.concat([default_term_info] + list(topic_dfs))\n"
     ]
    },
    {
     "data": {
      "text/html": [
       "\n",
       "<link rel=\"stylesheet\" type=\"text/css\" href=\"https://cdn.rawgit.com/bmabey/pyLDAvis/files/ldavis.v1.0.0.css\">\n",
       "\n",
       "\n",
       "<div id=\"ldavis_el4733165887521847154599360\"></div>\n",
       "<script type=\"text/javascript\">\n",
       "\n",
       "var ldavis_el4733165887521847154599360_data = {\"mdsDat\": {\"x\": [0.0032942625343557585, -0.1579286876657066, -0.1653823470702465, 0.12457940739749891, 0.08191806263159897, 0.09643287015198751, -0.07805691594446149, -0.004387408431481604, 0.15457263468716426, -0.055041878290709584], \"y\": [0.0915458829126028, 0.1173740730050788, -0.0030468608160349234, -0.05190677517261008, 0.06591218338370411, 0.034263557472014615, -0.018746394492441944, 0.031991266912463415, -0.002605554954514379, -0.2647813782502629], \"topics\": [1, 2, 3, 4, 5, 6, 7, 8, 9, 10], \"cluster\": [1, 1, 1, 1, 1, 1, 1, 1, 1, 1], \"Freq\": [33.994667053222656, 14.127434730529785, 10.647567749023438, 7.595374584197998, 7.254306316375732, 6.7826247215271, 5.266439914703369, 5.195511341094971, 4.661178112030029, 4.4748921394348145]}, \"tinfo\": {\"Category\": [\"Default\", \"Default\", \"Default\", \"Default\", \"Default\", \"Default\", \"Default\", \"Default\", \"Default\", \"Default\", \"Default\", \"Default\", \"Default\", \"Default\", \"Default\", \"Default\", \"Default\", \"Default\", \"Default\", \"Default\", \"Default\", \"Default\", \"Default\", \"Default\", \"Default\", \"Default\", \"Default\", \"Default\", \"Default\", \"Default\", \"Topic1\", \"Topic1\", \"Topic1\", \"Topic1\", \"Topic1\", \"Topic1\", \"Topic1\", \"Topic1\", \"Topic1\", \"Topic1\", \"Topic1\", \"Topic1\", \"Topic1\", \"Topic1\", \"Topic1\", \"Topic1\", \"Topic1\", \"Topic1\", \"Topic1\", \"Topic1\", \"Topic1\", \"Topic1\", \"Topic1\", \"Topic1\", \"Topic1\", \"Topic1\", \"Topic1\", \"Topic1\", \"Topic1\", \"Topic1\", \"Topic1\", \"Topic1\", \"Topic1\", \"Topic1\", \"Topic1\", \"Topic1\", \"Topic1\", \"Topic1\", \"Topic1\", \"Topic1\", \"Topic1\", \"Topic1\", \"Topic1\", \"Topic1\", \"Topic1\", \"Topic1\", \"Topic1\", \"Topic1\", \"Topic1\", \"Topic1\", \"Topic1\", \"Topic1\", \"Topic1\", \"Topic1\", \"Topic1\", \"Topic1\", \"Topic1\", \"Topic1\", \"Topic1\", \"Topic1\", \"Topic1\", \"Topic1\", \"Topic1\", \"Topic1\", \"Topic1\", \"Topic1\", \"Topic1\", \"Topic1\", \"Topic1\", \"Topic1\", \"Topic1\", \"Topic1\", \"Topic1\", \"Topic1\", \"Topic1\", \"Topic1\", \"Topic1\", \"Topic1\", \"Topic1\", \"Topic1\", \"Topic1\", \"Topic1\", \"Topic1\", \"Topic1\", \"Topic1\", \"Topic1\", \"Topic1\", \"Topic2\", \"Topic2\", \"Topic2\", \"Topic2\", \"Topic2\", \"Topic2\", \"Topic2\", \"Topic2\", \"Topic2\", \"Topic2\", \"Topic2\", \"Topic2\", \"Topic2\", \"Topic2\", \"Topic2\", \"Topic2\", \"Topic2\", \"Topic2\", \"Topic2\", \"Topic2\", \"Topic2\", \"Topic2\", \"Topic2\", \"Topic2\", \"Topic2\", \"Topic2\", \"Topic2\", \"Topic2\", \"Topic2\", \"Topic2\", \"Topic2\", \"Topic2\", \"Topic2\", \"Topic2\", \"Topic2\", \"Topic2\", \"Topic2\", \"Topic2\", \"Topic2\", \"Topic2\", \"Topic2\", \"Topic2\", \"Topic2\", \"Topic2\", \"Topic2\", \"Topic2\", \"Topic2\", \"Topic2\", \"Topic2\", \"Topic2\", \"Topic2\", \"Topic2\", \"Topic2\", \"Topic2\", \"Topic2\", \"Topic2\", \"Topic2\", \"Topic2\", \"Topic2\", \"Topic2\", \"Topic2\", \"Topic2\", \"Topic2\", \"Topic2\", \"Topic2\", \"Topic2\", \"Topic2\", \"Topic2\", \"Topic2\", \"Topic2\", \"Topic2\", \"Topic2\", \"Topic2\", \"Topic2\", \"Topic2\", \"Topic2\", \"Topic2\", \"Topic2\", \"Topic2\", \"Topic3\", \"Topic3\", \"Topic3\", \"Topic3\", \"Topic3\", \"Topic3\", \"Topic3\", \"Topic3\", \"Topic3\", \"Topic3\", \"Topic3\", \"Topic3\", \"Topic3\", \"Topic3\", \"Topic3\", \"Topic3\", \"Topic3\", \"Topic3\", \"Topic3\", \"Topic3\", \"Topic3\", \"Topic3\", \"Topic3\", \"Topic3\", \"Topic3\", \"Topic3\", \"Topic3\", \"Topic3\", \"Topic3\", \"Topic3\", \"Topic3\", \"Topic3\", \"Topic3\", \"Topic3\", \"Topic3\", \"Topic3\", \"Topic3\", \"Topic3\", \"Topic3\", \"Topic3\", \"Topic3\", \"Topic3\", \"Topic3\", \"Topic3\", \"Topic3\", \"Topic3\", \"Topic3\", \"Topic3\", \"Topic3\", \"Topic3\", \"Topic3\", \"Topic3\", \"Topic3\", \"Topic3\", \"Topic3\", \"Topic3\", \"Topic3\", \"Topic3\", \"Topic3\", \"Topic3\", \"Topic3\", \"Topic3\", \"Topic3\", \"Topic3\", \"Topic3\", \"Topic3\", \"Topic3\", \"Topic3\", \"Topic3\", \"Topic3\", \"Topic3\", \"Topic3\", \"Topic3\", \"Topic3\", \"Topic3\", \"Topic3\", \"Topic3\", \"Topic3\", \"Topic3\", \"Topic3\", \"Topic3\", \"Topic3\", \"Topic3\", \"Topic3\", \"Topic4\", \"Topic4\", \"Topic4\", \"Topic4\", \"Topic4\", \"Topic4\", \"Topic4\", \"Topic4\", \"Topic4\", \"Topic4\", \"Topic4\", \"Topic4\", \"Topic4\", \"Topic4\", \"Topic4\", \"Topic4\", \"Topic4\", \"Topic4\", \"Topic4\", \"Topic4\", \"Topic4\", \"Topic4\", \"Topic4\", \"Topic4\", \"Topic4\", \"Topic4\", \"Topic4\", \"Topic4\", \"Topic4\", \"Topic4\", \"Topic4\", \"Topic4\", \"Topic4\", \"Topic4\", \"Topic4\", \"Topic4\", \"Topic4\", \"Topic4\", \"Topic4\", \"Topic4\", \"Topic4\", \"Topic4\", \"Topic4\", \"Topic4\", \"Topic4\", \"Topic4\", \"Topic4\", \"Topic4\", \"Topic4\", \"Topic4\", \"Topic4\", \"Topic4\", \"Topic4\", \"Topic4\", \"Topic4\", \"Topic4\", \"Topic4\", \"Topic4\", \"Topic4\", \"Topic4\", \"Topic4\", \"Topic4\", \"Topic4\", \"Topic4\", \"Topic4\", \"Topic4\", \"Topic4\", \"Topic4\", \"Topic4\", \"Topic4\", \"Topic4\", \"Topic4\", \"Topic4\", \"Topic4\", \"Topic4\", \"Topic4\", \"Topic4\", \"Topic4\", \"Topic4\", \"Topic4\", \"Topic4\", \"Topic4\", \"Topic4\", \"Topic4\", \"Topic4\", \"Topic4\", \"Topic4\", \"Topic5\", \"Topic5\", \"Topic5\", \"Topic5\", \"Topic5\", \"Topic5\", \"Topic5\", \"Topic5\", \"Topic5\", \"Topic5\", \"Topic5\", \"Topic5\", \"Topic5\", \"Topic5\", \"Topic5\", \"Topic5\", \"Topic5\", \"Topic5\", \"Topic5\", \"Topic5\", \"Topic5\", \"Topic5\", \"Topic5\", \"Topic5\", \"Topic5\", \"Topic5\", \"Topic5\", \"Topic5\", \"Topic5\", \"Topic5\", \"Topic5\", \"Topic5\", \"Topic5\", \"Topic5\", \"Topic5\", \"Topic5\", \"Topic5\", \"Topic5\", \"Topic5\", \"Topic5\", \"Topic5\", \"Topic5\", \"Topic5\", \"Topic5\", \"Topic5\", \"Topic5\", \"Topic5\", \"Topic5\", \"Topic5\", \"Topic5\", \"Topic5\", \"Topic5\", \"Topic5\", \"Topic5\", \"Topic5\", \"Topic5\", \"Topic5\", \"Topic5\", \"Topic5\", \"Topic5\", \"Topic5\", \"Topic5\", \"Topic5\", \"Topic5\", \"Topic5\", \"Topic5\", \"Topic5\", \"Topic5\", \"Topic5\", \"Topic5\", \"Topic5\", \"Topic5\", \"Topic5\", \"Topic5\", \"Topic5\", \"Topic5\", \"Topic5\", \"Topic5\", \"Topic5\", \"Topic6\", \"Topic6\", \"Topic6\", \"Topic6\", \"Topic6\", \"Topic6\", \"Topic6\", \"Topic6\", \"Topic6\", \"Topic6\", \"Topic6\", \"Topic6\", \"Topic6\", \"Topic6\", \"Topic6\", \"Topic6\", \"Topic6\", \"Topic6\", \"Topic6\", \"Topic6\", \"Topic6\", \"Topic6\", \"Topic6\", \"Topic6\", \"Topic6\", \"Topic6\", \"Topic6\", \"Topic6\", \"Topic6\", \"Topic6\", \"Topic6\", \"Topic6\", \"Topic6\", \"Topic6\", \"Topic6\", \"Topic6\", \"Topic6\", \"Topic6\", \"Topic6\", \"Topic6\", \"Topic6\", \"Topic6\", \"Topic6\", \"Topic6\", \"Topic6\", \"Topic6\", \"Topic6\", \"Topic6\", \"Topic6\", \"Topic6\", \"Topic6\", \"Topic6\", \"Topic6\", \"Topic6\", \"Topic6\", \"Topic6\", \"Topic6\", \"Topic6\", \"Topic6\", \"Topic6\", \"Topic6\", \"Topic6\", \"Topic6\", \"Topic6\", \"Topic6\", \"Topic6\", \"Topic6\", \"Topic6\", \"Topic6\", \"Topic6\", \"Topic6\", \"Topic6\", \"Topic6\", \"Topic6\", \"Topic7\", \"Topic7\", \"Topic7\", \"Topic7\", \"Topic7\", \"Topic7\", \"Topic7\", \"Topic7\", \"Topic7\", \"Topic7\", \"Topic7\", \"Topic7\", \"Topic7\", \"Topic7\", \"Topic7\", \"Topic7\", \"Topic7\", \"Topic7\", \"Topic7\", \"Topic7\", \"Topic7\", \"Topic7\", \"Topic7\", \"Topic7\", \"Topic7\", \"Topic7\", \"Topic7\", \"Topic7\", \"Topic7\", \"Topic7\", \"Topic7\", \"Topic7\", \"Topic7\", \"Topic7\", \"Topic7\", \"Topic7\", \"Topic7\", \"Topic7\", \"Topic7\", \"Topic7\", \"Topic7\", \"Topic7\", \"Topic7\", \"Topic7\", \"Topic7\", \"Topic7\", \"Topic7\", \"Topic7\", \"Topic7\", \"Topic7\", \"Topic7\", \"Topic7\", \"Topic7\", \"Topic7\", \"Topic7\", \"Topic7\", \"Topic7\", \"Topic7\", \"Topic7\", \"Topic7\", \"Topic7\", \"Topic7\", \"Topic7\", \"Topic7\", \"Topic7\", \"Topic7\", \"Topic7\", \"Topic7\", \"Topic7\", \"Topic7\", \"Topic7\", \"Topic7\", \"Topic7\", \"Topic7\", \"Topic7\", \"Topic7\", \"Topic7\", \"Topic8\", \"Topic8\", \"Topic8\", \"Topic8\", \"Topic8\", \"Topic8\", \"Topic8\", \"Topic8\", \"Topic8\", \"Topic8\", \"Topic8\", \"Topic8\", \"Topic8\", \"Topic8\", \"Topic8\", \"Topic8\", \"Topic8\", \"Topic8\", \"Topic8\", \"Topic8\", \"Topic8\", \"Topic8\", \"Topic8\", \"Topic8\", \"Topic8\", \"Topic8\", \"Topic8\", \"Topic8\", \"Topic8\", \"Topic8\", \"Topic8\", \"Topic8\", \"Topic8\", \"Topic8\", \"Topic8\", \"Topic8\", \"Topic8\", \"Topic8\", \"Topic8\", \"Topic8\", \"Topic8\", \"Topic8\", \"Topic8\", \"Topic8\", \"Topic8\", \"Topic8\", \"Topic8\", \"Topic8\", \"Topic8\", \"Topic8\", \"Topic8\", \"Topic8\", \"Topic8\", \"Topic8\", \"Topic8\", \"Topic8\", \"Topic8\", \"Topic8\", \"Topic8\", \"Topic8\", \"Topic8\", \"Topic8\", \"Topic8\", \"Topic8\", \"Topic8\", \"Topic8\", \"Topic8\", \"Topic8\", \"Topic8\", \"Topic8\", \"Topic8\", \"Topic8\", \"Topic8\", \"Topic8\", \"Topic9\", \"Topic9\", \"Topic9\", \"Topic9\", \"Topic9\", \"Topic9\", \"Topic9\", \"Topic9\", \"Topic9\", \"Topic9\", \"Topic9\", \"Topic9\", \"Topic9\", \"Topic9\", \"Topic9\", \"Topic9\", \"Topic9\", \"Topic9\", \"Topic9\", \"Topic9\", \"Topic9\", \"Topic9\", \"Topic9\", \"Topic9\", \"Topic9\", \"Topic9\", \"Topic9\", \"Topic9\", \"Topic9\", \"Topic9\", \"Topic9\", \"Topic9\", \"Topic9\", \"Topic9\", \"Topic9\", \"Topic9\", \"Topic9\", \"Topic9\", \"Topic9\", \"Topic9\", \"Topic9\", \"Topic9\", \"Topic9\", \"Topic9\", \"Topic9\", \"Topic9\", \"Topic9\", \"Topic9\", \"Topic9\", \"Topic9\", \"Topic9\", \"Topic9\", \"Topic9\", \"Topic9\", \"Topic9\", \"Topic9\", \"Topic9\", \"Topic9\", \"Topic9\", \"Topic9\", \"Topic9\", \"Topic9\", \"Topic9\", \"Topic9\", \"Topic9\", \"Topic9\", \"Topic9\", \"Topic9\", \"Topic9\", \"Topic9\", \"Topic9\", \"Topic9\", \"Topic9\", \"Topic9\", \"Topic10\", \"Topic10\", \"Topic10\", \"Topic10\", \"Topic10\", \"Topic10\", \"Topic10\", \"Topic10\", \"Topic10\", \"Topic10\", \"Topic10\", \"Topic10\", \"Topic10\", \"Topic10\", \"Topic10\", \"Topic10\", \"Topic10\", \"Topic10\", \"Topic10\", \"Topic10\", \"Topic10\", \"Topic10\", \"Topic10\", \"Topic10\", \"Topic10\", \"Topic10\", \"Topic10\", \"Topic10\", \"Topic10\", \"Topic10\", \"Topic10\", \"Topic10\", \"Topic10\", \"Topic10\", \"Topic10\", \"Topic10\", \"Topic10\", \"Topic10\", \"Topic10\", \"Topic10\", \"Topic10\", \"Topic10\", \"Topic10\", \"Topic10\", \"Topic10\", \"Topic10\", \"Topic10\", \"Topic10\", \"Topic10\", \"Topic10\", \"Topic10\", \"Topic10\", \"Topic10\", \"Topic10\", \"Topic10\", \"Topic10\", \"Topic10\", \"Topic10\", \"Topic10\", \"Topic10\", \"Topic10\", \"Topic10\", \"Topic10\", \"Topic10\", \"Topic10\", \"Topic10\", \"Topic10\", \"Topic10\", \"Topic10\", \"Topic10\", \"Topic10\", \"Topic10\", \"Topic10\", \"Topic10\", \"Topic10\", \"Topic10\", \"Topic10\", \"Topic10\", \"Topic10\", \"Topic10\", \"Topic10\", \"Topic10\"], \"Freq\": [13207.0, 6506.0, 8034.0, 10879.0, 34152.0, 7552.0, 6519.0, 9584.0, 25227.0, 7527.0, 12458.0, 14908.0, 9430.0, 22411.0, 17078.0, 15173.0, 4227.0, 4525.0, 3897.0, 19683.0, 5416.0, 8037.0, 19854.0, 6293.0, 5949.0, 27418.0, 3437.0, 12296.0, 3300.0, 4882.0, 1732.2298583984375, 1412.6505126953125, 1074.004638671875, 925.1634521484375, 882.0288696289062, 778.759033203125, 772.3599243164062, 683.3365478515625, 659.1387939453125, 577.7882690429688, 521.2315063476562, 512.963134765625, 455.2626953125, 449.6239318847656, 411.21826171875, 402.5466613769531, 398.501220703125, 388.5703125, 381.0618896484375, 361.7124938964844, 358.010498046875, 1087.2337646484375, 352.557373046875, 351.2438659667969, 346.2071533203125, 326.7884521484375, 325.0066833496094, 324.8221435546875, 317.624755859375, 315.4892272949219, 4399.72509765625, 1581.0111083984375, 1458.061279296875, 1270.427978515625, 4245.80615234375, 1942.451904296875, 3504.188232421875, 24093.525390625, 741.0635375976562, 4105.07861328125, 3132.4921875, 1312.8360595703125, 1496.5859375, 849.2382202148438, 3987.55078125, 2160.2373046875, 9416.5849609375, 3960.833251953125, 1387.9091796875, 1715.08203125, 7521.17822265625, 14785.7236328125, 16896.341796875, 4884.8017578125, 6243.69384765625, 4046.362548828125, 4432.6103515625, 3805.018798828125, 6553.69873046875, 2702.38671875, 17114.5390625, 13669.994140625, 8245.3759765625, 6196.58935546875, 9171.5048828125, 21763.54296875, 6207.8310546875, 11872.0107421875, 6904.2138671875, 18394.16796875, 5999.23583984375, 7298.5966796875, 6694.90771484375, 18363.49609375, 8154.45166015625, 13364.6337890625, 8474.935546875, 6697.27880859375, 11135.546875, 6066.56787109375, 10219.5625, 8167.31884765625, 5891.2412109375, 8322.197265625, 7197.05419921875, 6431.59033203125, 6286.25048828125, 2645.7333984375, 1962.1541748046875, 974.6450805664062, 745.2741088867188, 743.2178344726562, 740.2518920898438, 668.744873046875, 572.9505004882812, 571.096435546875, 549.6320190429688, 519.521240234375, 506.41326904296875, 504.7904357910156, 478.9141540527344, 476.6477966308594, 472.5567321777344, 456.04144287109375, 436.0626525878906, 427.3808288574219, 412.67449951171875, 411.16387939453125, 410.6250305175781, 410.35198974609375, 408.7548828125, 398.88116455078125, 378.221435546875, 359.3233337402344, 356.60302734375, 314.2659606933594, 317.9255676269531, 2387.29638671875, 1492.3250732421875, 12748.7451171875, 583.0607299804688, 775.3701782226562, 629.651123046875, 2185.94091796875, 3771.03125, 1232.06591796875, 1254.755126953125, 2288.41455078125, 888.8533935546875, 3682.567138671875, 4002.544677734375, 2187.1455078125, 4065.298828125, 7325.86328125, 9058.0263671875, 1949.2061767578125, 1656.015625, 1234.4447021484375, 1892.007568359375, 1100.0684814453125, 1752.6478271484375, 2191.5234375, 1872.9384765625, 1668.7379150390625, 4111.240234375, 2081.82470703125, 1698.4954833984375, 8821.017578125, 3408.62939453125, 2862.740478515625, 2739.45703125, 2662.87255859375, 2696.2490234375, 3712.003662109375, 3038.291748046875, 2969.40380859375, 3216.2587890625, 2634.93212890625, 3318.791748046875, 2835.23095703125, 3081.687255859375, 2975.34765625, 2406.5458984375, 2854.4482421875, 2509.738037109375, 2323.468505859375, 1149.019775390625, 930.6954345703125, 801.5184326171875, 578.8848876953125, 568.7630615234375, 467.18109130859375, 463.6743469238281, 458.0099792480469, 440.5717468261719, 398.7362365722656, 398.2269592285156, 387.1804504394531, 378.6611328125, 364.3980407714844, 363.12176513671875, 363.09747314453125, 354.81695556640625, 345.3598327636719, 342.8028869628906, 336.2242126464844, 330.4617614746094, 321.7484436035156, 319.7674560546875, 313.1307373046875, 306.765625, 305.54656982421875, 289.68975830078125, 283.3795471191406, 282.39385986328125, 260.14227294921875, 7981.20849609375, 1085.93798828125, 715.2896118164062, 623.8876342773438, 1180.833984375, 829.6513061523438, 2139.146484375, 753.798095703125, 1366.60791015625, 770.0264282226562, 880.640869140625, 1439.6962890625, 1776.1917724609375, 904.1319580078125, 655.4465942382812, 2559.740478515625, 935.7817993164062, 741.5971069335938, 581.8509521484375, 790.38671875, 1490.016845703125, 1059.7728271484375, 1579.9532470703125, 1694.4251708984375, 710.8423461914062, 1733.1142578125, 1882.5552978515625, 3877.32177734375, 1296.4814453125, 2848.6611328125, 3438.79931640625, 1244.0655517578125, 3789.62451171875, 1195.265380859375, 4852.3486328125, 1491.1588134765625, 1452.8927001953125, 2289.936279296875, 1726.7728271484375, 2441.56884765625, 1762.8509521484375, 2384.170654296875, 2245.98046875, 1685.939208984375, 2329.376220703125, 2046.83154296875, 1960.2010498046875, 1677.5206298828125, 1935.8026123046875, 2171.075439453125, 1836.5028076171875, 1720.516845703125, 1643.4984130859375, 1602.9013671875, 598.7874145507812, 298.8223876953125, 272.60491943359375, 252.62673950195312, 201.92108154296875, 189.7737274169922, 149.56983947753906, 143.90330505371094, 202.5675506591797, 132.395263671875, 129.98956298828125, 123.88922882080078, 117.82022857666016, 117.7353286743164, 107.00740051269531, 125.13887023925781, 103.21395874023438, 102.36652374267578, 99.90708923339844, 99.62538146972656, 92.65792083740234, 91.80149841308594, 90.48829650878906, 89.8774185180664, 87.94339752197266, 386.3365783691406, 83.50252532958984, 83.08929443359375, 82.8908920288086, 83.16219329833984, 249.9734344482422, 317.0906066894531, 434.2842712402344, 593.017822265625, 703.5380249023438, 231.17874145507812, 660.5790405273438, 231.0387420654297, 355.7315673828125, 501.583251953125, 202.79727172851562, 166.00563049316406, 385.5694885253906, 1121.742919921875, 357.9296569824219, 388.05645751953125, 2227.0234375, 616.5967407226562, 1875.8822021484375, 671.1928100585938, 1384.6407470703125, 3393.035888671875, 421.6071472167969, 2474.451171875, 4230.27685546875, 2231.06640625, 1160.642578125, 1739.47265625, 1797.4481201171875, 1720.4957275390625, 2219.385498046875, 984.3346557617188, 665.449951171875, 1421.70458984375, 2724.3349609375, 1134.340576171875, 4406.12255859375, 1165.8919677734375, 1088.3399658203125, 1788.212646484375, 1098.0552978515625, 2946.011474609375, 1358.513916015625, 1680.253662109375, 3958.4609375, 2600.447509765625, 1541.2158203125, 1867.258544921875, 1787.81396484375, 1415.10693359375, 1204.3717041015625, 1569.507080078125, 1590.77978515625, 1578.624755859375, 1444.10546875, 1522.2161865234375, 1346.8140869140625, 976.2568969726562, 544.24169921875, 540.2839965820312, 412.72113037109375, 387.6256103515625, 370.9948425292969, 352.5653076171875, 350.26776123046875, 330.0075378417969, 291.7695617675781, 281.8607482910156, 264.1725158691406, 262.4021911621094, 260.55438232421875, 252.14291381835938, 239.8330078125, 233.8547821044922, 230.2225341796875, 229.7008514404297, 223.21693420410156, 222.84027099609375, 211.49732971191406, 208.76617431640625, 172.3136749267578, 171.14422607421875, 167.42979431152344, 162.6748046875, 155.8914031982422, 151.11639404296875, 149.19174194335938, 3411.598388671875, 995.2070922851562, 587.5806274414062, 339.9248352050781, 983.1876220703125, 445.61407470703125, 589.4415893554688, 1579.0899658203125, 1082.542724609375, 395.52642822265625, 2977.09033203125, 593.1226196289062, 870.3257446289062, 388.47454833984375, 2057.10791015625, 5688.875, 1027.5501708984375, 582.51220703125, 611.3104858398438, 1006.1941528320312, 2546.912109375, 3335.1611328125, 1841.9310302734375, 1113.719482421875, 2363.45654296875, 4487.3056640625, 2985.502197265625, 2426.006103515625, 3178.00146484375, 1466.94921875, 1042.1744384765625, 3801.8232421875, 2492.93212890625, 3670.215576171875, 2079.876220703125, 1786.2279052734375, 1175.46435546875, 2666.560302734375, 3005.270263671875, 2980.40625, 2021.048095703125, 1678.783447265625, 1805.6151123046875, 1577.9014892578125, 1591.457275390625, 1335.842529296875, 1593.445068359375, 1371.29248046875, 1573.0382080078125, 899.9480590820312, 780.764892578125, 685.5047607421875, 625.5105590820312, 568.0593872070312, 511.1883850097656, 434.51202392578125, 363.7491760253906, 309.2167053222656, 290.0565490722656, 250.61245727539062, 242.9456329345703, 236.93731689453125, 231.3086395263672, 219.2782440185547, 201.69700622558594, 195.8056640625, 191.62672424316406, 181.95785522460938, 178.95040893554688, 174.3605499267578, 152.06863403320312, 148.8094024658203, 143.36036682128906, 138.69529724121094, 129.4398956298828, 122.96288299560547, 117.214111328125, 116.56411743164062, 108.59940338134766, 227.11953735351562, 2528.465087890625, 5620.9306640625, 2556.447998046875, 2594.022216796875, 301.8690185546875, 360.85906982421875, 557.9425659179688, 1080.072998046875, 1669.12353515625, 527.66748046875, 342.9560546875, 1000.4949340820312, 1146.5611572265625, 495.17913818359375, 1144.8089599609375, 574.9847412109375, 1433.13720703125, 1672.166259765625, 3537.12841796875, 1055.9952392578125, 1200.6263427734375, 3544.14892578125, 1281.964599609375, 760.299072265625, 2886.3173828125, 4452.1748046875, 1800.453857421875, 1385.2061767578125, 1971.130615234375, 2662.302490234375, 1380.1435546875, 1268.7392578125, 1810.13818359375, 2166.0087890625, 1567.8046875, 2198.55126953125, 1794.8450927734375, 1907.4256591796875, 1734.6915283203125, 1593.117431640625, 1328.5816650390625, 1245.1348876953125, 1188.895751953125, 2657.548828125, 753.9618530273438, 731.5899047851562, 719.6187744140625, 1074.3433837890625, 532.989013671875, 293.9357604980469, 659.4312133789062, 260.0547180175781, 259.6608581542969, 256.7712097167969, 232.9666748046875, 231.85958862304688, 216.67843627929688, 213.35569763183594, 206.6375732421875, 194.6843719482422, 178.07945251464844, 177.46629333496094, 442.6475524902344, 160.10958862304688, 156.371826171875, 155.7293243408203, 155.38711547851562, 155.0808563232422, 154.25521850585938, 154.1956787109375, 153.36563110351562, 153.19793701171875, 149.57223510742188, 299.9653625488281, 226.74237060546875, 776.67919921875, 386.5599060058594, 353.95086669921875, 410.7875671386719, 1315.8778076171875, 1734.8460693359375, 538.701904296875, 199.9417724609375, 229.5485382080078, 2706.11865234375, 364.6356506347656, 622.2218017578125, 884.04931640625, 762.3750610351562, 332.2018127441406, 467.2629089355469, 560.3309326171875, 1627.947021484375, 660.1856689453125, 996.9320068359375, 522.3231811523438, 586.4188232421875, 578.2933349609375, 850.7229614257812, 633.5858154296875, 1837.379150390625, 2504.73193359375, 788.94580078125, 998.8703002929688, 1258.9765625, 1506.3458251953125, 1313.6494140625, 1017.9553833007812, 983.8721923828125, 1222.064453125, 921.3275756835938, 1097.62451171875, 978.9283447265625, 769.0151977539062, 1037.9949951171875, 886.0842895507812, 943.9161987304688, 806.4619140625, 777.4137573242188, 773.7186279296875, 2349.451416015625, 1087.9610595703125, 603.0803833007812, 568.4996948242188, 485.52716064453125, 454.175537109375, 406.60003662109375, 379.796875, 376.4136047363281, 300.3025817871094, 271.48284912109375, 269.6214294433594, 267.935302734375, 247.5071563720703, 239.4814910888672, 218.1797332763672, 210.4989471435547, 207.25425720214844, 204.76785278320312, 193.51498413085938, 186.7927703857422, 182.5452423095703, 171.3873748779297, 166.33877563476562, 159.18026733398438, 157.28005981445312, 148.3017578125, 144.424560546875, 142.27601623535156, 139.08737182617188, 855.5165405273438, 2065.130615234375, 1607.5870361328125, 393.27728271484375, 470.74603271484375, 476.57275390625, 3750.562255859375, 851.2789306640625, 455.9959411621094, 1430.4981689453125, 251.44415283203125, 860.4845581054688, 603.1322021484375, 1062.1551513671875, 618.0299072265625, 353.19293212890625, 1145.7445068359375, 623.6371459960938, 447.7559814453125, 1183.331787109375, 433.5284118652344, 1123.29736328125, 424.11114501953125, 571.0354614257812, 1618.4364013671875, 2334.53564453125, 524.1893920898438, 829.27294921875, 1709.4793701171875, 1954.4691162109375, 1267.425537109375, 964.6785278320312, 841.71142578125, 980.8092651367188, 935.5758056640625, 1194.0958251953125, 787.6988525390625, 932.2661743164062, 935.6058959960938, 886.41748046875, 939.3173217773438, 872.3099365234375, 936.8159790039062, 854.9669799804688, 1662.9473876953125, 527.32275390625, 462.62335205078125, 390.39825439453125, 354.51971435546875, 333.5333557128906, 289.5061340332031, 283.6700439453125, 251.80966186523438, 234.9486846923828, 232.94717407226562, 217.6541290283203, 207.89234924316406, 207.87669372558594, 188.54421997070312, 187.4574432373047, 183.90109252929688, 2139.32763671875, 176.5939483642578, 172.97683715820312, 172.64419555664062, 167.46405029296875, 146.8374481201172, 141.11753845214844, 136.51068115234375, 133.61907958984375, 128.52720642089844, 120.40914154052734, 118.6130599975586, 118.6150894165039, 6410.52685546875, 617.7617797851562, 437.3956604003906, 783.7401733398438, 3740.346435546875, 1619.9500732421875, 1224.0633544921875, 331.01373291015625, 3169.04736328125, 1599.83056640625, 811.9945068359375, 361.2879943847656, 330.75628662109375, 558.93408203125, 524.3530883789062, 4123.5517578125, 264.8919372558594, 683.3126220703125, 1912.6009521484375, 891.6193237304688, 429.0366516113281, 1672.646240234375, 543.4412841796875, 1007.5716552734375, 2103.42333984375, 1375.752685546875, 2284.93994140625, 1946.90869140625, 1162.4443359375, 453.6447448730469, 1136.8817138671875, 1206.1927490234375, 1240.5841064453125, 1222.947265625, 767.0023193359375, 834.587158203125, 715.8674926757812, 878.2330932617188, 1036.0584716796875, 863.6054077148438, 767.4351196289062, 846.1476440429688, 836.8678588867188, 796.53515625, 802.6632080078125, 316.4948425292969, 275.3898620605469, 249.76966857910156, 216.29281616210938, 202.2425079345703, 189.03244018554688, 185.73399353027344, 184.3701171875, 184.0266571044922, 182.57591247558594, 181.90858459472656, 175.49655151367188, 165.49522399902344, 162.7230682373047, 157.30108642578125, 155.87017822265625, 151.02874755859375, 139.90530395507812, 139.28648376464844, 2710.04833984375, 134.77064514160156, 119.36112976074219, 113.97980499267578, 113.4788589477539, 113.12864685058594, 112.74079895019531, 112.05284118652344, 110.47544860839844, 109.4630126953125, 2705.1787109375, 467.3525085449219, 666.0743408203125, 1309.1361083984375, 394.91766357421875, 1309.6578369140625, 443.6688537597656, 297.58563232421875, 2093.052734375, 335.6676940917969, 930.6885375976562, 757.7571411132812, 286.69732666015625, 2183.98486328125, 319.5968322753906, 436.1996154785156, 1160.4595947265625, 376.42333984375, 377.0067138671875, 490.02423095703125, 596.6029052734375, 455.4554748535156, 391.69342041015625, 746.2620849609375, 1319.6971435546875, 510.6011047363281, 558.7821044921875, 1840.7557373046875, 1110.98974609375, 610.7186279296875, 2161.66162109375, 649.1470336914062, 537.3125610351562, 815.9548950195312, 1456.173828125, 1587.1337890625, 1501.4229736328125, 1459.5028076171875, 633.6898193359375, 1837.5035400390625, 1480.2186279296875, 635.6886596679688, 625.3734130859375, 785.7626342773438, 864.7774658203125, 796.0647583007812, 687.6363525390625, 740.4068603515625, 721.74658203125, 710.853515625, 686.041259765625, 688.4691772460938], \"Term\": [\"bill_accordingly\", \"students\", \"police_officers\", \"chilling_effect\", \"government_agencies\", \"careful\", \"labour_court\", \"comparable\", \"singh\", \"effected\", \"act\", \"company\", \"lawyer\", \"usage\", \"helped\", \"support_bill\", \"roses\", \"habits\", \"science\", \"public_discourse\", \"parliamentary\", \"fan\", \"new_york\", \"counts\", \"sedition_act\", \"per_capita\", \"patterns\", \"year\", \"walk\", \"healthcare\", \"workers_party\", \"population\", \"paper\", \"options\", \"electoral_process\", \"elections\", \"righteous\", \"choice_mode\", \"voters\", \"demonstrated\", \"cake_eat\", \"harassed\", \"pause\", \"plaintiff\", \"technology_adoption\", \"virtual_reality\", \"plastic\", \"earning\", \"kwang_nee\", \"tourism_industry\", \"pure\", \"waves\", \"phone_numbers\", \"families\", \"general_elections\", \"regime\", \"voices\", \"bigger_role\", \"cmc\", \"politically\", \"political_party\", \"ministries\", \"electoral\", \"yesterday\", \"national_council\", \"mandates\", \"evaluates\", \"per_capita\", \"speeches\", \"debated\", \"level\", \"mr_lim\", \"remembered\", \"mistrust\", \"think\", \"new\", \"said_earlier\", \"speech\", \"telling\", \"says\", \"sole\", \"thinking\", \"usage\", \"course\", \"believed\", \"part\", \"always\", \"feelings\", \"say_oh\", \"views_expressed\", \"singh\", \"myanmar\", \"knowingly\", \"world\", \"want\", \"government_agencies\", \"house_counsel\", \"eventual\", \"multiple\", \"one_minute\", \"capabilities\", \"way\", \"toilet\", \"would\", \"good_faith\", \"needs\", \"likely\", \"seed_funding\", \"sir_notwithstanding\", \"hoping\", \"time_frame\", \"make_informed\", \"gets\", \"firstly\", \"council\", \"important_thing\", \"take_account\", \"clauses\", \"supported\", \"clauses_inclusive\", \"clear\", \"namely\", \"high_quality\", \"intoxication\", \"timely\", \"courts_decide\", \"read_third\", \"nationalist\", \"bill_contains\", \"proposes\", \"guilty_offence\", \"explicitly\", \"recordings\", \"reader\", \"watches\", \"strata_society\", \"legal_profession\", \"matters_concerning\", \"purchase\", \"without_amendment\", \"committees\", \"filter\", \"choon\", \"children\", \"involvement\", \"release_details\", \"redistributive\", \"procedure\", \"amendment_bill\", \"bill_accordingly\", \"judgment\", \"proposing\", \"intimate\", \"leaders\", \"amendments\", \"tries\", \"legislative_changes\", \"isolated\", \"electives\", \"section_act\", \"legally\", \"amendment\", \"courts\", \"lawyer\", \"act\", \"public\", \"fate\", \"compensation\", \"cover\", \"regular\", \"rigorous\", \"provide\", \"partly_due\", \"provisions_bill\", \"cases\", \"practicable\", \"pragmatic\", \"would\", \"cash\", \"personal_mobility\", \"information_asymmetry\", \"product\", \"allow\", \"public_discourse\", \"members_parliament\", \"made_easier\", \"make_informed\", \"ordered_stand\", \"sir_notwithstanding\", \"ensures\", \"firstly\", \"time_frame\", \"sets\", \"one_minute\", \"new_york\", \"council\", \"hard\", \"mortgage_payments\", \"foster_culture\", \"siew_kum\", \"private_hire\", \"phase_development\", \"kid\", \"conspicuous\", \"proc_text\", \"malay_language\", \"taxi_driver\", \"surgery\", \"demonstrates\", \"motorised_pmds\", \"seniority_based\", \"intensifying\", \"line_sight\", \"stated_earlier\", \"scheme_wts\", \"age_band\", \"single_session\", \"real_wages\", \"navies\", \"workplace_fatality\", \"local_artistes\", \"non_discriminatory\", \"sdl\", \"survey_showed\", \"belongs\", \"symptom\", \"police_officers\", \"buddhists\", \"policy\", \"police_investigate\", \"exploitative\", \"remote\", \"voluntary_mediation\", \"prosecutorial\", \"might\", \"aided\", \"plethora\", \"guess\", \"aeds\", \"nothing_else\", \"buying\", \"heartening\", \"criminal_activities\", \"required_undergo\", \"vary_depending\", \"insert\", \"usage_patterns\", \"untoward\", \"appointments\", \"include\", \"officers_deployed\", \"officers\", \"office\", \"official\", \"incidents\", \"safety_security\", \"sedition_act\", \"video\", \"cash\", \"investigative\", \"public_discourse\", \"embraced\", \"study_conducted\", \"measures_taken\", \"pertaining\", \"numerous\", \"activities\", \"misconstrued\", \"ordered_stand\", \"agencies\", \"company\", \"act\", \"ensures\", \"personal_mobility\", \"take_account\", \"would\", \"work\", \"cases\", \"firstly\", \"continued\", \"resigned\", \"cushion_impact\", \"urban_landscape\", \"inclusion\", \"springboard\", \"arthur_fong\", \"greening\", \"broadcast\", \"ups_downs\", \"across_borders\", \"date_none\", \"rename\", \"dsa_scheme\", \"envision\", \"partnership_ppp\", \"chefs\", \"expected_increase\", \"quality_accessibility\", \"exchange_views\", \"actor\", \"modernise\", \"progressivity\", \"attract_locals\", \"plastics\", \"rigours\", \"strike_balance\", \"micro_manage\", \"pent_demand\", \"gaming\", \"gpa\", \"painstakingly\", \"delivers\", \"proactively_identify\", \"multifaceted\", \"digital_economy\", \"lifetime_wages\", \"revamped\", \"south_east\", \"ying\", \"unscathed\", \"transformative\", \"acquire_new\", \"hpv\", \"endure\", \"adjacent\", \"electro\", \"seeking_redress\", \"editor\", \"telecast\", \"technology\", \"market_conditions\", \"industry_stakeholders\", \"illegitimate\", \"savvy\", \"comparable\", \"busy\", \"capacity\", \"guarantees\", \"developed_countries\", \"opposite\", \"businesses\", \"mr_chen\", \"huge\", \"global_trade\", \"sessions\", \"inoculate\", \"new_york\", \"initially\", \"projects\", \"locations\", \"contagion\", \"helped\", \"material\", \"devices\", \"government_agencies\", \"support_bill\", \"progress\", \"continued\", \"except\", \"egg\", \"financial\", \"usage\", \"needs\", \"one_minute\", \"work\", \"singh\", \"public_discourse\", \"figure\", \"child_care\", \"takeaways\", \"unavoidable\", \"gain_experience\", \"cried\", \"contract_workers\", \"measures_place\", \"wounded\", \"ms_grace\", \"hup\", \"watched\", \"strive\", \"mixed_use\", \"subsidising\", \"healthcare_providers\", \"collaborating\", \"suitable\", \"sleeping\", \"phmca\", \"policeman\", \"basket\", \"table_shows\", \"seawater\", \"injecting\", \"priced\", \"noisy\", \"para_athletes\", \"parental_leave\", \"protectionist\", \"patterns\", \"tunnels\", \"countervailing\", \"amendment_section\", \"air_force\", \"granular\", \"mention\", \"monetised\", \"documents\", \"give_assurance\", \"healthcare_professionals\", \"professional_engineers\", \"increasing\", \"physical_infrastructure\", \"sense\", \"careful\", \"report_suspicious\", \"moment\", \"young_children\", \"hougang\", \"medicine\", \"healthcare\", \"chilling\", \"strengthens\", \"elected\", \"chilling_effect\", \"family\", \"parliamentary\", \"fan\", \"age\", \"trends\", \"support_bill\", \"sessions\", \"helped\", \"school\", \"heartened\", \"women\", \"company\", \"needs\", \"singh\", \"provide_details\", \"social_cohesion\", \"years\", \"neither\", \"work\", \"like\", \"one_minute\", \"misconstrued\", \"would\", \"chronic_obstructive\", \"extra_interest\", \"instinctive\", \"declining\", \"stunning\", \"virtuous\", \"award_tender\", \"explore_possibility\", \"severe\", \"assessing_applications\", \"key_role\", \"ceased\", \"tale\", \"pool_resources\", \"refused\", \"procurement_process\", \"consular_services\", \"healthcare_financing\", \"mrs_lina\", \"maximised\", \"organ_failure\", \"purposes\", \"controller\", \"unlock\", \"officers_trained\", \"reported_thestraits\", \"green_spaces\", \"adjusting\", \"genuinely\", \"average_monthly\", \"twenty\", \"defining\", \"labour_court\", \"stopping\", \"john\", \"ms_jessica\", \"two_cuts\", \"nordic_countries\", \"resident_workforce\", \"buyer\", \"counselling_services\", \"economic_forum\", \"guiding_principles\", \"cos\", \"mandate\", \"gyms\", \"insurers\", \"introduction\", \"ed\", \"comparable\", \"difficulties\", \"study_conducted\", \"helped\", \"guarantees\", \"crash\", \"work\", \"government_agencies\", \"school\", \"busy\", \"year\", \"singh\", \"safe_environment\", \"increased\", \"support_bill\", \"needs\", \"better_cure\", \"would\", \"time_frame\", \"one_minute\", \"sir_notwithstanding\", \"new_york\", \"measures_taken\", \"myanmar\", \"years\", \"food_sources\", \"littering\", \"amongst_things\", \"sgsecure\", \"pub\", \"habit\", \"advancing\", \"marry\", \"tax_credits\", \"cleanliness\", \"cost_incurred\", \"simtech\", \"simulated\", \"abdul\", \"nii\", \"desalination_plants\", \"spaces\", \"depletion\", \"sfma\", \"ttsh\", \"problems_faced\", \"dispensing\", \"business_federation\", \"cleanest\", \"housekeeping\", \"ntuc_snef\", \"situation_rakhine\", \"sterling\", \"mainland\", \"tweak\", \"xenophobia\", \"competitiveness\", \"subway\", \"precious_metals\", \"pollution\", \"evenings\", \"nationwide\", \"nea\", \"grassroots_leaders\", \"water_rationing\", \"seminars\", \"walk\", \"crunch\", \"centralised_dishwashing\", \"consists\", \"lessen\", \"singular\", \"specialises\", \"aunt\", \"filming\", \"commonly_known\", \"minister_trade\", \"christchurch\", \"environmental\", \"nations\", \"cheering\", \"volatile\", \"resign\", \"public_discourse\", \"charities\", \"manipulated\", \"areas\", \"ensures\", \"misconstrued\", \"healthcare\", \"respect\", \"year\", \"epidemic\", \"used\", \"measures_taken\", \"standards\", \"sir_notwithstanding\", \"work\", \"would\", \"time_frame\", \"would_like\", \"continued\", \"fair_reasonable\", \"stepped_enforcement\", \"stayed\", \"sums\", \"fare_formula\", \"housing_type\", \"syrian\", \"unsustainable\", \"uneven\", \"considerably\", \"industry_transformation\", \"unwelcome\", \"august_chamber\", \"crowd\", \"garbage\", \"congestion\", \"fong_asked\", \"exemption\", \"liberalise\", \"recommending\", \"casework\", \"pabs\", \"palatable\", \"neglect\", \"manager\", \"strictly\", \"profiteer\", \"electrical\", \"decision_final\", \"labour_force\", \"composition_fine\", \"bearing_mind\", \"negligence\", \"attend_courses\", \"standalone\", \"steady_state\", \"habits\", \"br_mrs\", \"relatively\", \"fertile\", \"hail\", \"khatib\", \"responsibly\", \"title\", \"collect\", \"investigation_bureau\", \"regulatory_oversight\", \"transferred\", \"supplement_scheme\", \"sectoral\", \"may_differ\", \"ecda\", \"notable\", \"care\", \"resign\", \"new_york\", \"coordinated\", \"decisively\", \"time_frame\", \"would\", \"year\", \"devices\", \"material\", \"systemic\", \"numerous\", \"one_minute\", \"services\", \"would_like\", \"take_account\", \"two_examples\", \"firstly\", \"years\", \"sir_notwithstanding\", \"needs\", \"evolve\", \"tabled\", \"investigative_powers\", \"keat_hong\", \"updates\", \"sombre\", \"sustainable_development\", \"underwriting\", \"lift\", \"remarked\", \"lions\", \"edb_ie\", \"hard_truths\", \"able_respond\", \"premised\", \"consultancy_services\", \"listings\", \"mokhtar\", \"risks_posed\", \"read_follows\", \"enrolment\", \"unattainable\", \"disturbed\", \"applied_learning\", \"little_india\", \"sub_regional\", \"timeframe\", \"surgeries\", \"monetary_authority\", \"refunds\", \"students\", \"credibility\", \"compulsory\", \"eipic\", \"roses\", \"red\", \"apologised\", \"next_chapter\", \"science\", \"banding\", \"student\", \"tonnes\", \"minimise_impact\", \"undermined\", \"evolution\", \"effected\", \"liquor\", \"convenient\", \"prohibitive\", \"youth\", \"fine_tune\", \"parliamentary\", \"undermines\", \"skip\", \"chilling_effect\", \"progress\", \"company\", \"support_bill\", \"safe_environment\", \"academic\", \"provide_details\", \"year\", \"work\", \"helped\", \"developed_countries\", \"devices\", \"quay\", \"misconstrued\", \"one_minute\", \"good_faith\", \"li\", \"time_frame\", \"new_york\", \"ensures\", \"disallowed\", \"cybersecurity_threats\", \"terror_threats\", \"sanctioned\", \"fabric\", \"positive_step\", \"motorised\", \"knock_effect\", \"november_last\", \"jamal\", \"legislative_framework\", \"economically_viable\", \"ibrahim_marine\", \"consistently_applied\", \"defence_force\", \"fire_fighting\", \"paramedic\", \"vii\", \"mapletree\", \"uavs\", \"safe\", \"establishments\", \"commission_psc\", \"monitors\", \"light_recent\", \"compromise_safety\", \"women_girls\", \"defied\", \"pa_scheme\", \"harnessing_technology\", \"materials\", \"reservist\", \"touch\", \"minimally\", \"pointers\", \"deferred\", \"memorial\", \"securing\", \"apparatus\", \"size\", \"trans_boundary\", \"mda\", \"bilateral\", \"defend\", \"buy_flat\", \"resisted\", \"approximately_million\", \"younger_ones\", \"occupational\", \"absence\", \"deterioration\", \"refrigerator\", \"foreign_affairs\", \"measures_introduced\", \"region\", \"six_month\", \"reduction\", \"international_norms\", \"chinese\", \"relations\", \"counts\", \"care_giving\", \"industrial\", \"years_old\", \"forged\", \"sedition_act\", \"safe_environment\", \"asked_deputy\", \"man_street\", \"usage\", \"year\", \"agreement\", \"venture_overseas\", \"economies\", \"continued\", \"inconsistency\", \"global_trade\", \"firstly\", \"years\", \"sir_notwithstanding\", \"asked\", \"two_examples\"], \"Total\": [13207.0, 6506.0, 8034.0, 10879.0, 34152.0, 7552.0, 6519.0, 9584.0, 25227.0, 7527.0, 12458.0, 14908.0, 9430.0, 22411.0, 17078.0, 15173.0, 4227.0, 4525.0, 3897.0, 19683.0, 5416.0, 8037.0, 19854.0, 6293.0, 5949.0, 27418.0, 3437.0, 12296.0, 3300.0, 4882.0, 1732.984130859375, 1413.40478515625, 1074.759033203125, 925.9176635742188, 882.7831420898438, 779.5132446289062, 773.1141357421875, 684.0923461914062, 659.8930053710938, 578.5425415039062, 521.9857177734375, 513.7173461914062, 456.0169677734375, 450.3781433105469, 411.9725341796875, 403.30084228515625, 399.2554931640625, 389.3244934082031, 381.81610107421875, 362.46661376953125, 358.7648010253906, 1089.5557861328125, 353.3116149902344, 351.998046875, 346.9613952636719, 327.5426940917969, 325.7609558105469, 325.576416015625, 318.37890625, 316.2446594238281, 4563.265625, 1610.8509521484375, 1487.6241455078125, 1292.56298828125, 4510.0625, 2031.904296875, 3738.26904296875, 27418.259765625, 757.8367919921875, 4428.89990234375, 3370.192626953125, 1368.4696044921875, 1576.12939453125, 875.3165893554688, 4387.6484375, 2323.646240234375, 10970.59765625, 4477.6669921875, 1471.75244140625, 1849.18603515625, 8969.234375, 19176.970703125, 22411.388671875, 5831.7373046875, 7639.63720703125, 4774.55908203125, 5310.2958984375, 4485.29248046875, 8286.6611328125, 3090.813720703125, 25227.9296875, 19671.939453125, 11052.9873046875, 7961.76611328125, 12499.0888671875, 34152.421875, 8053.3701171875, 17964.1484375, 9446.376953125, 30934.19140625, 8140.33203125, 10425.4365234375, 9435.935546875, 37825.8828125, 12566.890625, 25445.115234375, 13581.3466796875, 9652.931640625, 22194.173828125, 8501.96875, 22349.73828125, 15918.21484375, 8642.8779296875, 18824.84375, 14659.525390625, 11021.8759765625, 15189.1962890625, 2646.4931640625, 1962.9139404296875, 975.4046020507812, 746.0336303710938, 743.9776000976562, 741.0114135742188, 669.5043334960938, 573.7100830078125, 571.8558959960938, 550.3915405273438, 520.2808227539062, 507.1727294921875, 505.5498962402344, 479.67364501953125, 477.4073791503906, 473.31622314453125, 456.8009033203125, 436.8221130371094, 428.14056396484375, 413.4341125488281, 411.92333984375, 411.384521484375, 411.1114501953125, 409.5143737792969, 399.64068603515625, 378.9809265136719, 360.08282470703125, 357.3626403808594, 315.0255126953125, 318.6993713378906, 2404.820556640625, 1498.6536865234375, 13207.5771484375, 586.3301391601562, 784.8362426757812, 635.7962036132812, 2276.066650390625, 4002.389892578125, 1275.23974609375, 1306.796875, 2462.918701171875, 920.8643188476562, 4174.6650390625, 4623.408203125, 2490.81396484375, 4910.94287109375, 9430.759765625, 12458.033203125, 2271.721923828125, 1920.838134765625, 1404.626708984375, 2331.532958984375, 1268.9971923828125, 2348.4169921875, 3297.562744140625, 2686.0654296875, 2318.069580078125, 8986.1923828125, 3323.9873046875, 2477.2431640625, 37825.8828125, 9252.93359375, 6980.3056640625, 6930.1513671875, 6820.34130859375, 7089.06298828125, 19683.755859375, 12174.9208984375, 11454.2490234375, 15918.21484375, 8528.078125, 22194.173828125, 12813.017578125, 18824.84375, 22349.73828125, 8161.98974609375, 30934.19140625, 19854.1875, 14659.525390625, 1149.7645263671875, 931.4400024414062, 802.2630004882812, 579.634033203125, 569.507568359375, 467.92547607421875, 464.4187316894531, 458.7544860839844, 441.3163146972656, 399.48089599609375, 398.9715576171875, 387.9249267578125, 379.4058532714844, 365.1424560546875, 363.8662109375, 363.8421936035156, 355.56134033203125, 346.1042785644531, 343.5516357421875, 336.96868896484375, 331.21044921875, 322.4928283691406, 320.51190185546875, 313.87518310546875, 307.5102844238281, 306.29095458984375, 290.4344177246094, 284.12408447265625, 283.1383056640625, 260.88677978515625, 8034.33203125, 1094.6397705078125, 718.954345703125, 626.7053833007812, 1198.1614990234375, 839.4765625, 2190.021728515625, 762.6521606445312, 1400.437255859375, 780.3523559570312, 898.9869384765625, 1492.6995849609375, 1855.142333984375, 925.9993286132812, 667.54248046875, 2733.57958984375, 973.4724731445312, 769.38330078125, 597.6448974609375, 833.4716186523438, 1655.5921630859375, 1155.7874755859375, 1812.588134765625, 2015.375244140625, 754.4913330078125, 2121.60693359375, 2405.6259765625, 6158.24169921875, 1578.9110107421875, 4561.8271484375, 5949.11328125, 1595.2386474609375, 9252.93359375, 1577.886474609375, 19683.755859375, 2709.944091796875, 2654.23046875, 6900.89013671875, 3846.53759765625, 8509.7392578125, 4270.828125, 9063.2666015625, 8528.078125, 4453.13818359375, 14908.5322265625, 12458.033203125, 12813.017578125, 6980.3056640625, 15189.1962890625, 37825.8828125, 14816.4697265625, 8986.1923828125, 18824.84375, 12268.8193359375, 599.6104125976562, 299.6453552246094, 273.427734375, 253.4496307373047, 202.74456787109375, 190.59793090820312, 150.39268493652344, 144.72640991210938, 203.7777099609375, 133.21812438964844, 130.8125762939453, 124.71234893798828, 118.64309692382812, 118.55815887451172, 107.83026123046875, 126.10323333740234, 104.03680419921875, 103.18966674804688, 100.73001098632812, 100.4482192993164, 93.48095703125, 92.62631225585938, 91.31131744384766, 90.70037078857422, 88.79187774658203, 390.1200866699219, 84.32698822021484, 83.91215515136719, 83.71406555175781, 83.99446105957031, 254.3516845703125, 324.5259704589844, 446.92645263671875, 617.8508911132812, 736.5308227539062, 238.32362365722656, 713.9531860351562, 240.0675506591797, 377.4093322753906, 540.0703735351562, 211.37350463867188, 171.67991638183594, 423.189697265625, 1336.35546875, 391.7982482910156, 439.0911560058594, 3078.69189453125, 770.1786499023438, 2856.510009765625, 876.8339233398438, 2082.35205078125, 6101.517578125, 520.8966674804688, 4496.486328125, 9584.6396484375, 4290.20849609375, 1914.90673828125, 3288.423095703125, 3775.193359375, 3583.242431640625, 5154.0283203125, 1710.6729736328125, 987.7871704101562, 2985.93212890625, 7874.76171875, 2280.583251953125, 19854.1875, 2449.879638671875, 2202.2998046875, 4999.5859375, 2549.84765625, 17078.9765625, 3860.61474609375, 5964.1845703125, 34152.421875, 15173.7021484375, 5343.41015625, 12268.8193359375, 11491.2412109375, 6169.46142578125, 4057.483642578125, 22411.388671875, 25445.115234375, 30934.19140625, 14816.4697265625, 25227.9296875, 19683.755859375, 977.076416015625, 545.0613403320312, 541.1034545898438, 413.5408935546875, 388.4451599121094, 371.81451416015625, 353.3849182128906, 351.0872802734375, 330.8271484375, 292.5903625488281, 282.6803283691406, 264.99212646484375, 263.22174072265625, 261.37396240234375, 252.96250915527344, 240.652587890625, 234.67446899414062, 231.0420684814453, 230.5207061767578, 224.0364532470703, 223.659912109375, 212.31692504882812, 209.585693359375, 173.13319396972656, 171.96400451660156, 168.24935913085938, 163.49444580078125, 156.7109832763672, 151.9365692138672, 150.01138305664062, 3437.17919921875, 1011.6043090820312, 594.6858520507812, 343.8734436035156, 1006.1361083984375, 453.03948974609375, 603.8095703125, 1659.83349609375, 1141.414794921875, 404.9720153808594, 3418.973876953125, 630.4725341796875, 949.068115234375, 404.6553039550781, 2457.48681640625, 7552.64453125, 1172.9207763671875, 636.5399780273438, 671.989990234375, 1173.19775390625, 3394.413818359375, 4882.39306640625, 2823.2373046875, 1513.6361083984375, 4188.26953125, 10879.4111328125, 7080.02685546875, 5416.4697265625, 8037.9072265625, 3102.244384765625, 1805.5052490234375, 15173.7021484375, 7874.76171875, 17078.9765625, 6609.4248046875, 5518.6572265625, 2451.797119140625, 14908.5322265625, 25445.115234375, 25227.9296875, 10258.9560546875, 7660.3359375, 11744.5390625, 7192.93408203125, 14816.4697265625, 6391.9921875, 30934.19140625, 9063.2666015625, 37825.8828125, 900.8072509765625, 781.6239624023438, 686.364501953125, 626.3695068359375, 568.91845703125, 512.0474243164062, 435.3710632324219, 364.6081848144531, 310.0757751464844, 290.9181823730469, 251.47146606445312, 243.80471801757812, 237.79672241210938, 232.16770935058594, 220.13726806640625, 202.55601501464844, 196.66639709472656, 192.48593139648438, 182.8207550048828, 179.80950927734375, 175.21966552734375, 152.92771911621094, 149.66867065429688, 144.21937561035156, 139.554443359375, 130.301513671875, 123.82201385498047, 118.0732421875, 117.4231185913086, 109.4587173461914, 230.82949829101562, 2821.213134765625, 6519.41162109375, 3102.4140625, 3221.041259765625, 321.40838623046875, 398.68450927734375, 656.7214965820312, 1379.8565673828125, 2268.46484375, 623.8042602539062, 384.3873596191406, 1413.933837890625, 1728.021728515625, 621.4288330078125, 1783.8577880859375, 759.8162231445312, 2696.0458984375, 3417.78759765625, 9584.6396484375, 2057.16845703125, 2654.23046875, 17078.9765625, 3288.423095703125, 1402.30029296875, 14816.4697265625, 34152.421875, 6609.4248046875, 4290.20849609375, 12296.3798828125, 25227.9296875, 5878.921875, 5233.23193359375, 15173.7021484375, 25445.115234375, 10625.1982421875, 37825.8828125, 22349.73828125, 30934.19140625, 22194.173828125, 19854.1875, 6900.89013671875, 19671.939453125, 11744.5390625, 2658.34326171875, 754.7562255859375, 732.3841552734375, 720.4130249023438, 1075.569091796875, 533.7833251953125, 294.73004150390625, 661.3426513671875, 260.848876953125, 260.45501708984375, 257.56549072265625, 233.76129150390625, 232.6538848876953, 217.47262573242188, 214.14993286132812, 207.43182373046875, 195.47862243652344, 178.87368774414062, 178.26100158691406, 444.7412414550781, 160.90379333496094, 157.16607666015625, 156.5235137939453, 156.1813201904297, 155.87506103515625, 155.04981994628906, 154.989990234375, 154.15982055664062, 153.9921417236328, 150.3666229248047, 302.6326599121094, 228.73106384277344, 794.8424682617188, 392.7333984375, 359.5509033203125, 418.89532470703125, 1413.9747314453125, 1893.22216796875, 566.9090576171875, 203.00375366210938, 235.069091796875, 3300.69287109375, 384.841552734375, 683.7510375976562, 1004.5047607421875, 863.1167602539062, 350.16424560546875, 517.1617431640625, 649.9705810546875, 2307.92041015625, 825.857177734375, 1393.00341796875, 623.75537109375, 740.1099853515625, 755.734130859375, 1317.611328125, 874.5270385742188, 6760.849609375, 19683.755859375, 1859.3240966796875, 3463.20654296875, 6036.09033203125, 12813.017578125, 9063.2666015625, 4882.39306640625, 4801.333984375, 12296.3798828125, 4316.14892578125, 9165.998046875, 6900.89013671875, 2703.584716796875, 22194.173828125, 14816.4697265625, 37825.8828125, 22349.73828125, 13550.38671875, 12268.8193359375, 2350.294677734375, 1088.8043212890625, 603.9237670898438, 569.343017578125, 486.3704528808594, 455.0188903808594, 407.4433898925781, 380.6401062011719, 377.25689697265625, 301.1458740234375, 272.3262023925781, 270.46466064453125, 268.7792663574219, 248.3504638671875, 240.32479858398438, 219.02320861816406, 211.34222412109375, 208.0975341796875, 205.6112060546875, 194.3586883544922, 187.6368408203125, 183.3885040283203, 172.23109436035156, 167.1820068359375, 160.0235137939453, 158.123291015625, 149.1449737548828, 145.267822265625, 143.12449645996094, 139.93063354492188, 866.5521850585938, 2138.543701171875, 1680.2503662109375, 403.05767822265625, 486.58074951171875, 498.2809753417969, 4525.369140625, 945.0104370117188, 497.5660095214844, 1775.882568359375, 261.66015625, 1066.71728515625, 722.1466674804688, 1568.68359375, 825.0231323242188, 408.7942199707031, 1987.9747314453125, 885.7620849609375, 562.864990234375, 2266.7666015625, 545.8012084960938, 2302.843994140625, 530.63037109375, 871.7854614257812, 6760.849609375, 19854.1875, 792.6194458007812, 2729.6552734375, 22349.73828125, 37825.8828125, 12296.3798828125, 5964.1845703125, 3860.61474609375, 10229.43359375, 8509.7392578125, 30934.19140625, 4467.8173828125, 13550.38671875, 15189.1962890625, 11324.3359375, 18824.84375, 11744.5390625, 22194.173828125, 25445.115234375, 1663.78564453125, 528.1610107421875, 463.4615173339844, 391.236572265625, 355.3579406738281, 334.37152099609375, 290.3443603515625, 284.5081787109375, 252.64788818359375, 235.7868194580078, 233.78536987304688, 218.50619506835938, 208.7305145263672, 208.71493530273438, 189.3824920654297, 188.29566955566406, 184.73922729492188, 2149.19091796875, 177.43206787109375, 173.81497192382812, 173.48240661621094, 168.3023223876953, 147.67942810058594, 141.95579528808594, 137.3488311767578, 134.45834350585938, 129.36550903320312, 121.24739074707031, 119.45123291015625, 119.45331573486328, 6506.39990234375, 623.5501098632812, 446.577392578125, 829.7830200195312, 4227.7314453125, 1814.5380859375, 1360.756591796875, 346.32611083984375, 3897.0908203125, 1968.8201904296875, 946.7821044921875, 393.6182861328125, 359.3986511230469, 668.0715942382812, 634.0808715820312, 7527.7431640625, 283.2152099609375, 1053.583984375, 4698.1494140625, 1630.4822998046875, 569.7330322265625, 5416.4697265625, 888.0137329101562, 2760.65283203125, 10879.4111328125, 5343.41015625, 14908.5322265625, 15173.7021484375, 5878.921875, 667.5543212890625, 10258.9560546875, 12296.3798828125, 14816.4697265625, 17078.9765625, 3775.193359375, 5964.1845703125, 2814.3984375, 9063.2666015625, 30934.19140625, 12566.890625, 4917.28515625, 22349.73828125, 19854.1875, 12813.017578125, 803.4586791992188, 317.2902526855469, 276.1854248046875, 250.56556701660156, 217.08828735351562, 203.037841796875, 189.827880859375, 186.5294952392578, 185.16578674316406, 184.8240509033203, 183.37127685546875, 182.70420837402344, 176.29290771484375, 166.29055786132812, 163.51846313476562, 158.09654235839844, 156.6661376953125, 151.8241424560547, 140.70326232910156, 140.0821075439453, 2725.707275390625, 135.566162109375, 120.15658569335938, 114.7752914428711, 114.27422332763672, 113.92410278320312, 113.53624725341797, 112.84822082519531, 111.27310180664062, 110.25846862792969, 2744.1689453125, 471.1913146972656, 676.92236328125, 1347.2205810546875, 403.8673095703125, 1373.7779541015625, 457.08001708984375, 304.16632080078125, 2272.285888671875, 344.53265380859375, 1003.9356079101562, 825.4998779296875, 304.8011779785156, 2917.603271484375, 345.996826171875, 493.7293701171875, 1508.86474609375, 424.25482177734375, 428.99530029296875, 586.693359375, 773.2465209960938, 556.6240234375, 469.30975341796875, 1063.998779296875, 2258.841064453125, 679.8443603515625, 791.8057861328125, 4534.98583984375, 2174.79345703125, 906.2821655273438, 6293.11865234375, 1069.39990234375, 794.1241455078125, 1661.20654296875, 5057.31689453125, 5949.11328125, 5878.921875, 5557.16650390625, 1150.7857666015625, 22411.388671875, 12296.3798828125, 1367.725830078125, 1400.85888671875, 4046.56640625, 12268.8193359375, 7745.5302734375, 2985.93212890625, 18824.84375, 11744.5390625, 22194.173828125, 7465.916015625, 11324.3359375], \"loglift\": [30.0, 29.0, 28.0, 27.0, 26.0, 25.0, 24.0, 23.0, 22.0, 21.0, 20.0, 19.0, 18.0, 17.0, 16.0, 15.0, 14.0, 13.0, 12.0, 11.0, 10.0, 9.0, 8.0, 7.0, 6.0, 5.0, 4.0, 3.0, 2.0, 1.0, 1.0785000324249268, 1.0784000158309937, 1.0782999992370605, 1.0780999660491943, 1.0780999660491943, 1.0779999494552612, 1.0779999494552612, 1.0778000354766846, 1.0778000354766846, 1.0776000022888184, 1.0774999856948853, 1.0774999856948853, 1.077299952507019, 1.077299952507019, 1.0771000385284424, 1.0771000385284424, 1.0771000385284424, 1.0770000219345093, 1.0770000219345093, 1.0769000053405762, 1.076799988746643, 1.076799988746643, 1.076799988746643, 1.076799988746643, 1.076799988746643, 1.0765999555587769, 1.0765999555587769, 1.0765999555587769, 1.0765999555587769, 1.0765999555587769, 1.0425000190734863, 1.0602999925613403, 1.058899998664856, 1.0616999864578247, 1.0185999870300293, 1.0339000225067139, 1.014299988746643, 0.9496999979019165, 1.0565999746322632, 1.003000020980835, 1.0058000087738037, 1.037500023841858, 1.0271999835968018, 1.048699975013733, 0.983299970626831, 1.00600004196167, 0.9261999726295471, 0.9563000202178955, 1.020300030708313, 1.0037000179290771, 0.902899980545044, 0.8188999891281128, 0.796500027179718, 0.9017999768257141, 0.8772000074386597, 0.9135000109672546, 0.8982999920845032, 0.9144999980926514, 0.8442999720573425, 0.9447000026702881, 0.6909000277519226, 0.7149999737739563, 0.7858999967575073, 0.8282999992370605, 0.7694000005722046, 0.6284000277519226, 0.8187000155448914, 0.6647999882698059, 0.765500009059906, 0.5590999722480774, 0.7738000154495239, 0.7224000096321106, 0.73580002784729, 0.3562999963760376, 0.6464999914169312, 0.4350000023841858, 0.6074000000953674, 0.7134000062942505, 0.38929998874664307, 0.7414000034332275, 0.2964000105857849, 0.4115999937057495, 0.6956999897956848, 0.26269999146461487, 0.3675000071525574, 0.5403000116348267, 0.19670000672340393, 1.9567999839782715, 1.9566999673843384, 1.9563000202178955, 1.9559999704360962, 1.9559999704360962, 1.9559999704360962, 1.955899953842163, 1.9557000398635864, 1.9557000398635864, 1.9557000398635864, 1.9556000232696533, 1.9555000066757202, 1.9555000066757202, 1.9555000066757202, 1.955399990081787, 1.955399990081787, 1.955399990081787, 1.955299973487854, 1.955299973487854, 1.955199956893921, 1.955199956893921, 1.955199956893921, 1.955199956893921, 1.955199956893921, 1.9551000595092773, 1.9550000429153442, 1.9549000263214111, 1.9549000263214111, 1.9545999765396118, 1.9545999765396118, 1.9496999979019165, 1.9528000354766846, 1.9217000007629395, 1.9514000415802002, 1.9449000358581543, 1.9472999572753906, 1.916599988937378, 1.8975000381469727, 1.9226000308990479, 1.9163999557495117, 1.8835999965667725, 1.9217000007629395, 1.8315999507904053, 1.8128000497817993, 1.8270000219345093, 1.7681000232696533, 1.7044999599456787, 1.6382999420166016, 1.8039000034332275, 1.8086999654769897, 1.8279000520706177, 1.7482000589370728, 1.8142000436782837, 1.6643999814987183, 1.5484999418258667, 1.596500039100647, 1.6283999681472778, 1.1750999689102173, 1.4890999794006348, 1.5795999765396118, 0.5012000203132629, 0.9584000110626221, 1.0657000541687012, 1.0289000272750854, 1.0164999961853027, 0.9902999997138977, 0.2888000011444092, 0.5690000057220459, 0.6069999933242798, 0.3578000068664551, 0.7825000286102295, 0.0568000003695488, 0.4487000107765198, 0.14730000495910645, -0.05939999967813492, 0.7357000112533569, -0.42590001225471497, -0.1111999973654747, 0.11500000208616257, 2.2392001152038574, 2.239000082015991, 2.2388999462127686, 2.2385001182556152, 2.2385001182556152, 2.2381999492645264, 2.2381999492645264, 2.2381999492645264, 2.238100051879883, 2.23799991607666, 2.23799991607666, 2.2379000186920166, 2.2379000186920166, 2.237799882888794, 2.237799882888794, 2.237799882888794, 2.2376999855041504, 2.2376999855041504, 2.237600088119507, 2.237600088119507, 2.237600088119507, 2.237499952316284, 2.237499952316284, 2.237499952316284, 2.2374000549316406, 2.2374000549316406, 2.237299919128418, 2.2372000217437744, 2.2372000217437744, 2.236999988555908, 2.2332000732421875, 2.231800079345703, 2.2346999645233154, 2.235300064086914, 2.2253000736236572, 2.228100061416626, 2.2163000106811523, 2.228100061416626, 2.215399980545044, 2.2265000343322754, 2.2191998958587646, 2.203700065612793, 2.1963000297546387, 2.21589994430542, 2.2214999198913574, 2.174099922180176, 2.2002999782562256, 2.203000068664551, 2.2130000591278076, 2.1867001056671143, 2.134500026702881, 2.15310001373291, 2.1024999618530273, 2.0664000511169434, 2.1802000999450684, 2.037600040435791, 1.9946000576019287, 1.7771999835968018, 2.0427000522613525, 1.7690000534057617, 1.6916999816894531, 1.9911999702453613, 1.3472000360488892, 1.9621000289916992, 0.8395000100135803, 1.6425000429153442, 1.6371999979019165, 1.1367000341415405, 1.4388999938964844, 0.9912999868392944, 1.3550000190734863, 0.9043999910354614, 0.9056000113487244, 1.2684999704360962, 0.38350000977516174, 0.43380001187324524, 0.36239999532699585, 0.8141000270843506, 0.17980000376701355, -0.617900013923645, 0.15199999511241913, 0.5867999792098999, -0.19850000739097595, 0.2046000063419342, 2.576200008392334, 2.574899911880493, 2.5745999813079834, 2.574399948120117, 2.573499917984009, 2.5732998847961426, 2.5720999240875244, 2.571899890899658, 2.571700096130371, 2.5713999271392822, 2.5713000297546387, 2.571000099182129, 2.57069993019104, 2.57069993019104, 2.569999933242798, 2.5699000358581543, 2.569700002670288, 2.5696001052856445, 2.5694000720977783, 2.5694000720977783, 2.5687999725341797, 2.568700075149536, 2.5685999393463135, 2.56850004196167, 2.568000078201294, 2.5678999423980713, 2.5678000450134277, 2.5678000450134277, 2.567699909210205, 2.567699909210205, 2.56030011177063, 2.5543999671936035, 2.5488998889923096, 2.536600112915039, 2.5318000316619873, 2.5471999645233154, 2.4999001026153564, 2.539299964904785, 2.5185000896453857, 2.503700017929077, 2.5362000465393066, 2.5439999103546143, 2.484499931335449, 2.402600049972534, 2.4872000217437744, 2.4540998935699463, 2.2537999153137207, 2.3552000522613525, 2.157099962234497, 2.3104000091552734, 2.169600009918213, 1.9908000230789185, 2.3661000728607178, 1.980299949645996, 1.7596999406814575, 1.923799991607666, 2.076900005340576, 1.9407999515533447, 1.8355000019073486, 1.843999981880188, 1.7351000308990479, 2.024899959564209, 2.1826000213623047, 1.8356000185012817, 1.5161999464035034, 1.8791999816894531, 1.0721999406814575, 1.8351000547409058, 1.8727999925613403, 1.5494999885559082, 1.7351000308990479, 0.8202000260353088, 1.5332000255584717, 1.3107999563217163, 0.42260000109672546, 0.8137000203132629, 1.3343000411987305, 0.6949999928474426, 0.7170000076293945, 1.1052000522613525, 1.3630000352859497, -0.0812000036239624, -0.19470000267028809, -0.3977000117301941, 0.24940000474452972, -0.23019999265670776, -0.10440000146627426, 2.6226999759674072, 2.6221001148223877, 2.621999979019165, 2.6215999126434326, 2.621500015258789, 2.6214001178741455, 2.6212000846862793, 2.6212000846862793, 2.6210999488830566, 2.620800018310547, 2.620699882507324, 2.620500087738037, 2.6203999519348145, 2.6203999519348145, 2.620300054550171, 2.6201999187469482, 2.6201000213623047, 2.619999885559082, 2.619999885559082, 2.6198999881744385, 2.6198999881744385, 2.6196999549865723, 2.6196000576019287, 2.618799924850464, 2.618799924850464, 2.6187000274658203, 2.618499994277954, 2.618299961090088, 2.6182000637054443, 2.6180999279022217, 2.6161000728607178, 2.6071999073028564, 2.6115000247955322, 2.611999988555908, 2.6005001068115234, 2.6070001125335693, 2.5994999408721924, 2.573699951171875, 2.5706000328063965, 2.5999999046325684, 2.4851999282836914, 2.5625, 2.5369999408721924, 2.5827999114990234, 2.44569993019104, 2.3401999473571777, 2.4911999702453613, 2.534899950027466, 2.528899908065796, 2.4700000286102295, 2.3362998962402344, 2.2423999309539795, 2.196500062942505, 2.316800117492676, 2.0513999462127686, 1.7379000186920166, 1.76010000705719, 1.8203999996185303, 1.6956000328063965, 1.8746000528335571, 2.0739998817443848, 1.2395000457763672, 1.4733999967575073, 1.0859999656677246, 1.4673999547958374, 1.4954999685287476, 1.8883999586105347, 0.902400016784668, 0.48739999532699585, 0.4876999855041504, 0.9990000128746033, 1.1055999994277954, 0.7511000037193298, 1.106600046157837, 0.39250001311302185, 1.0580999851226807, -0.3424000144004822, 0.7350999712944031, -0.5564000010490417, 2.6898000240325928, 2.68969988822937, 2.689500093460083, 2.6893999576568604, 2.689300060272217, 2.6891000270843506, 2.688800096511841, 2.6884000301361084, 2.687999963760376, 2.6877999305725098, 2.6874001026153564, 2.687299966812134, 2.6872000694274902, 2.6870999336242676, 2.6868999004364014, 2.686500072479248, 2.6863999366760254, 2.686300039291382, 2.6861000061035156, 2.686000108718872, 2.6858999729156494, 2.6851999759674072, 2.684999942779541, 2.684799909591675, 2.6846001148223877, 2.6842000484466553, 2.683799982070923, 2.683500051498413, 2.683500051498413, 2.6828999519348145, 2.6745998859405518, 2.581199884414673, 2.5425000190734863, 2.4972000122070312, 2.474299907684326, 2.6280999183654785, 2.591099977493286, 2.5278000831604004, 2.4458000659942627, 2.384000062942505, 2.523400068283081, 2.57669997215271, 2.344899892807007, 2.280600070953369, 2.46370005607605, 2.247299909591675, 2.412100076675415, 2.0589001178741455, 1.9759000539779663, 1.6938999891281128, 2.023900032043457, 1.8975000381469727, 1.1181999444961548, 1.7488000392913818, 2.0785999298095703, 1.0549999475479126, 0.6534000039100647, 1.3903000354766846, 1.5602999925613403, 0.8600999712944031, 0.44200000166893005, 1.2416000366210938, 1.273800015449524, 0.5645999908447266, 0.2272000014781952, 0.7771999835968018, -0.15440000593662262, 0.1688999980688095, -0.09529999643564224, 0.14180000126361847, 0.1680999994277954, 1.0433000326156616, -0.06920000165700912, 0.4004000127315521, 2.94350004196167, 2.9428000450134277, 2.942699909210205, 2.942699909210205, 2.942699909210205, 2.9423000812530518, 2.9410998821258545, 2.9409000873565674, 2.9407999515533447, 2.940700054168701, 2.940700054168701, 2.9403998851776123, 2.9403998851776123, 2.9400999546051025, 2.9400999546051025, 2.940000057220459, 2.93969988822937, 2.9393999576568604, 2.939300060272217, 2.9391000270843506, 2.9388999938964844, 2.938699960708618, 2.938699960708618, 2.938699960708618, 2.938699960708618, 2.938699960708618, 2.938699960708618, 2.9386000633239746, 2.9386000633239746, 2.938499927520752, 2.934999942779541, 2.9351000785827637, 2.9207000732421875, 2.927999973297119, 2.928100109100342, 2.924299955368042, 2.8719000816345215, 2.8564000129699707, 2.8928000926971436, 2.9286000728607178, 2.9200000762939453, 2.7451999187469482, 2.889899969100952, 2.8494999408721924, 2.8160998821258545, 2.819700002670288, 2.8910999298095703, 2.8422999382019043, 2.7953999042510986, 2.5947999954223633, 2.719899892807007, 2.609299898147583, 2.7662999629974365, 2.7109999656677246, 2.6761999130249023, 2.5062999725341797, 2.621500015258789, 1.6410000324249268, 0.8822000026702881, 2.0864999294281006, 1.7005000114440918, 1.3762999773025513, 0.8029999732971191, 1.0124000310897827, 1.3760000467300415, 1.3587000370025635, 0.6349999904632568, 1.3995000123977661, 0.8215000033378601, 0.9908999800682068, 1.6865999698638916, -0.11869999766349792, 0.12710000574588776, -0.7469000220298767, -0.3781000077724457, 0.08560000360012054, 0.18019999563694, 2.9570000171661377, 2.9565999507904053, 2.9560000896453857, 2.955899953842163, 2.9556000232696533, 2.9554998874664307, 2.9553000926971436, 2.9551000595092773, 2.9551000595092773, 2.9546000957489014, 2.9542999267578125, 2.954200029373169, 2.954200029373169, 2.9539999961853027, 2.9537999629974365, 2.9535000324249268, 2.953399896621704, 2.9532999992370605, 2.9532999992370605, 2.953000068664551, 2.952899932861328, 2.9528000354766846, 2.952500104904175, 2.9523000717163086, 2.9521000385284424, 2.9519999027252197, 2.95169997215271, 2.9514999389648438, 2.9514000415802, 2.9512999057769775, 2.944499969482422, 2.9223999977111816, 2.9131999015808105, 2.932800054550171, 2.924299955368042, 2.9128000736236572, 2.7695999145507812, 2.8529000282287598, 2.8701000213623047, 2.7411000728607178, 2.9175000190734863, 2.742500066757202, 2.7772998809814453, 2.5673999786376953, 2.6684999465942383, 2.811199903488159, 2.4063000679016113, 2.6064999103546143, 2.728600025177002, 2.307300090789795, 2.727099895477295, 2.239500045776367, 2.733299970626831, 2.5343000888824463, 1.5276999473571777, 0.8167999982833862, 2.5439000129699707, 1.7660000324249268, 0.38670000433921814, -0.005499999970197678, 0.6850000023841858, 1.135599970817566, 1.4342000484466553, 0.6126999855041504, 0.7495999932289124, -0.2971000075340271, 1.2217999696731567, 0.2808000147342682, 0.17020000517368317, 0.4097999930381775, -0.04039999842643738, 0.35740000009536743, -0.2076999992132187, -0.4359000027179718, 3.0653998851776123, 3.064300060272217, 3.0641000270843506, 3.063699960708618, 3.063499927520752, 3.0634000301361084, 3.062999963760376, 3.0629000663757324, 3.0625998973846436, 3.062299966812134, 3.062299966812134, 3.062000036239624, 3.0618999004364014, 3.0618999004364014, 3.061500072479248, 3.0613999366760254, 3.061300039291382, 3.061300039291382, 3.061199903488159, 3.0611000061035156, 3.061000108718872, 3.0608999729156494, 3.0601999759674072, 3.059999942779541, 3.059799909591675, 3.0596001148223877, 3.0594000816345215, 3.059000015258789, 3.058799982070923, 3.058799982070923, 3.0510001182556152, 3.0566000938415527, 3.045099973678589, 3.0088000297546387, 2.9433999061584473, 2.952500104904175, 2.9600000381469727, 3.020699977874756, 2.859100103378296, 2.8584001064300537, 2.9123001098632812, 2.9802000522613525, 2.982800006866455, 2.887500047683716, 2.8759000301361084, 2.4639999866485596, 2.999000072479248, 2.6328999996185303, 2.1672000885009766, 2.4623000621795654, 2.7822999954223633, 1.8909000158309937, 2.5748000144958496, 2.058000087738037, 1.4226000308990479, 1.7089999914169312, 1.1902999877929688, 1.0125999450683594, 1.4450000524520874, 2.6796000003814697, 0.8659999966621399, 0.7440999746322632, 0.5856999754905701, 0.4293000102043152, 1.4722000360488892, 1.0993000268936157, 1.6969000101089478, 0.7318000197410583, -0.3305000066757202, 0.3882000148296356, 1.208400011062622, -0.20800000429153442, -0.1005999967455864, 0.28790000081062317, 3.1057000160217285, 3.1041998863220215, 3.103800058364868, 3.1034998893737793, 3.1029999256134033, 3.102799892425537, 3.1024999618530273, 3.102400064468384, 3.102400064468384, 3.102400064468384, 3.102299928665161, 3.102299928665161, 3.102099895477295, 3.101900100708008, 3.101799964904785, 3.101599931716919, 3.101599931716919, 3.1013998985290527, 3.1010000705718994, 3.1010000705718994, 3.1008999347686768, 3.100800037384033, 3.0999999046325684, 3.0996999740600586, 3.0996999740600586, 3.0996999740600586, 3.099600076675415, 3.099600076675415, 3.0994999408721924, 3.099400043487549, 3.092400074005127, 3.0985000133514404, 3.0905001163482666, 3.078000068664551, 3.0843000411987305, 3.0589001178741455, 3.076900005340576, 3.0848000049591064, 3.0244998931884766, 3.0806000232696533, 3.030900001525879, 3.0209999084472656, 3.0453999042510986, 2.8171000480651855, 3.0272998809814453, 2.982800006866455, 2.844099998474121, 2.9870998859405518, 2.9774999618530273, 2.9265999794006348, 2.8473000526428223, 2.906100034713745, 2.9258999824523926, 2.752000093460083, 2.569200038909912, 2.8203999996185303, 2.7581000328063965, 2.2049999237060547, 2.434999942779541, 2.7119998931884766, 2.038100004196167, 2.6075000762939453, 2.7160000801086426, 2.395699977874756, 1.8617000579833984, 1.7854000329971313, 1.7417000532150269, 1.769700050354004, 2.509999990463257, 0.6054999828338623, 0.9896000027656555, 2.3405001163482666, 2.3001999855041504, 1.4677000045776367, 0.4542999863624573, 0.8314999938011169, 1.6382999420166016, -0.1290999948978424, 0.3172000050544739, -0.3343999981880188, 0.7195000052452087, 0.30640000104904175], \"logprob\": [30.0, 29.0, 28.0, 27.0, 26.0, 25.0, 24.0, 23.0, 22.0, 21.0, 20.0, 19.0, 18.0, 17.0, 16.0, 15.0, 14.0, 13.0, 12.0, 11.0, 10.0, 9.0, 8.0, 7.0, 6.0, 5.0, 4.0, 3.0, 2.0, 1.0, -7.1890997886657715, -7.393099784851074, -7.667200088500977, -7.816299915313721, -7.864099979400635, -7.98859977722168, -7.9969000816345215, -8.11929988861084, -8.155400276184082, -8.287099838256836, -8.39009952545166, -8.406100273132324, -8.525400161743164, -8.5378999710083, -8.62720012664795, -8.648500442504883, -8.658599853515625, -8.683799743652344, -8.703300476074219, -8.755499839782715, -8.765700340270996, -7.654900074005127, -8.781100273132324, -8.784799575805664, -8.799300193786621, -8.857000350952148, -8.862500190734863, -8.86299991607666, -8.88539981842041, -8.892200469970703, -6.256999969482422, -7.2804999351501465, -7.361400127410889, -7.499199867248535, -6.292600154876709, -7.0746002197265625, -6.484600067138672, -4.556600093841553, -8.038200378417969, -6.326300144195557, -6.596700191497803, -7.466400146484375, -7.335400104522705, -7.9019999504089355, -6.355400085449219, -6.968299865722656, -5.496099948883057, -6.362100124359131, -7.410799980163574, -7.199100017547607, -5.720799922943115, -5.044899940490723, -4.911499977111816, -6.152400016784668, -5.9070000648498535, -6.340700149536133, -6.249599933624268, -6.402200222015381, -5.858500003814697, -6.7444000244140625, -4.898600101470947, -5.1234002113342285, -5.628900051116943, -5.914599895477295, -5.522500038146973, -4.658299922943115, -5.912700176239014, -5.264400005340576, -5.806399822235107, -4.826499938964844, -5.946899890899658, -5.750899791717529, -5.837200164794922, -4.828199863433838, -5.639999866485596, -5.145899772644043, -5.601399898529053, -5.836900234222412, -5.328400135040283, -5.935800075531006, -5.4141998291015625, -5.638400077819824, -5.965099811553955, -5.61959981918335, -5.764900207519531, -5.877299785614014, -5.900199890136719, -5.887499809265137, -6.186399936676025, -6.886199951171875, -7.1545000076293945, -7.157199859619141, -7.161200046539307, -7.262800216674805, -7.417399883270264, -7.4207000732421875, -7.459000110626221, -7.5152997970581055, -7.540900230407715, -7.544099807739258, -7.596700191497803, -7.601399898529053, -7.610099792480469, -7.645599842071533, -7.690400123596191, -7.7104997634887695, -7.74560022354126, -7.749199867248535, -7.750500202178955, -7.751200199127197, -7.755099773406982, -7.779600143432617, -7.832699775695801, -7.883999824523926, -7.891600131988525, -8.017999649047852, -8.006400108337402, -5.990300178527832, -6.460100173950195, -4.315000057220459, -7.399899959564209, -7.1149001121521, -7.3231000900268555, -6.078400135040283, -5.533100128173828, -6.651800155639648, -6.633500099182129, -6.032599925994873, -6.978300094604492, -5.5569000244140625, -5.473499774932861, -6.077899932861328, -5.458000183105469, -4.869100093841553, -4.656799793243408, -6.192999839782715, -6.356100082397461, -6.649799823760986, -6.222799777984619, -6.765100002288818, -6.299300193786621, -6.075900077819824, -6.232999801635742, -6.348400115966797, -5.446700096130371, -6.127200126647949, -6.330699920654297, -4.683300018310547, -5.634200096130371, -5.808700084686279, -5.852700233459473, -5.881100177764893, -5.868599891662598, -5.548900127410889, -5.749199867248535, -5.77209997177124, -5.692200183868408, -5.891600131988525, -5.660900115966797, -5.818299770355225, -5.735000133514404, -5.770100116729736, -5.9822998046875, -5.811600208282471, -5.940299987792969, -6.017399787902832, -6.438799858093262, -6.649499893188477, -6.798900127410889, -7.124300003051758, -7.142000198364258, -7.338699817657471, -7.34630012512207, -7.358500003814697, -7.39739990234375, -7.497099876403809, -7.4984002113342285, -7.526500225067139, -7.548799991607666, -7.587200164794922, -7.590700149536133, -7.590799808502197, -7.613800048828125, -7.6407999992370605, -7.6483001708984375, -7.667699813842773, -7.684899806976318, -7.711699962615967, -7.717800140380859, -7.738800048828125, -7.759399890899658, -7.763299942016602, -7.8165998458862305, -7.838600158691406, -7.842100143432617, -7.924200057983398, -4.5005998611450195, -6.495200157165527, -6.912700176239014, -7.049499988555908, -6.411499977111816, -6.764400005340576, -5.817299842834473, -6.860300064086914, -6.265399932861328, -6.839000225067139, -6.704800128936768, -6.213200092315674, -6.003200054168701, -6.678500175476074, -7.000100135803223, -5.637800216674805, -6.644100189208984, -6.8765997886657715, -7.119200229644775, -6.812900066375732, -6.178899765014648, -6.519599914550781, -6.120299816131592, -6.050300121307373, -6.919000148773193, -6.0278000831604, -5.945099830627441, -5.222499847412109, -6.317999839782715, -5.530799865722656, -5.342599868774414, -6.359300136566162, -5.2453999519348145, -6.3993000984191895, -4.998199939727783, -6.178100109100342, -6.204100131988525, -5.749199867248535, -6.031400203704834, -5.684999942779541, -6.010700225830078, -5.708799839019775, -5.768499851226807, -6.0553998947143555, -5.732100009918213, -5.861400127410889, -5.904600143432617, -6.060400009155273, -5.917200088500977, -5.802499771118164, -5.969799995422363, -6.035099983215332, -6.080900192260742, -6.105899810791016, -6.752699851989746, -7.447800159454346, -7.539599895477295, -7.615699768066406, -7.839799880981445, -7.901800155639648, -8.139900207519531, -8.178500175476074, -7.836599826812744, -8.261899948120117, -8.280200004577637, -8.328300476074219, -8.378499984741211, -8.379199981689453, -8.474699974060059, -8.31820011138916, -8.5108003616333, -8.519100189208984, -8.543399810791016, -8.546199798583984, -8.61870002746582, -8.628000259399414, -8.642399787902832, -8.649200439453125, -8.670999526977539, -7.190899848937988, -8.722800254821777, -8.727700233459473, -8.73009967803955, -8.726900100708008, -7.626299858093262, -7.388500213623047, -7.07390022277832, -6.762400150299072, -6.5914998054504395, -7.704500198364258, -6.6545000076293945, -7.705100059509277, -7.273499965667725, -6.929900169372559, -7.835400104522705, -8.035599708557129, -7.19290018081665, -6.125, -7.267300128936768, -7.186500072479248, -5.439199924468994, -6.723400115966797, -5.610799789428711, -6.638599872589111, -5.914400100708008, -5.018199920654297, -7.103600025177002, -5.333899974822998, -4.797599792480469, -5.437399864196777, -6.09089994430542, -5.686299800872803, -5.653500080108643, -5.697299957275391, -5.442699909210205, -6.25570011138916, -6.647200107574463, -5.888000011444092, -5.23769998550415, -6.113800048828125, -4.756899833679199, -6.086400032043457, -6.155200004577637, -5.658699989318848, -6.146299839019775, -5.15939998626709, -5.933499813079834, -5.720900058746338, -4.863999843597412, -5.284200191497803, -5.807300090789795, -5.6153998374938965, -5.658899784088135, -5.8927001953125, -6.053899765014648, -5.789100170135498, -5.775700092315674, -5.783299922943115, -5.872399806976318, -5.819699764251709, -5.9421000480651855, -6.2179999351501465, -6.802299976348877, -6.809599876403809, -7.07889986038208, -7.14169979095459, -7.185500144958496, -7.236499786376953, -7.243000030517578, -7.302599906921387, -7.4257001876831055, -7.460299968719482, -7.525100231170654, -7.531799793243408, -7.538899898529053, -7.571700096130371, -7.621799945831299, -7.646999835968018, -7.662700176239014, -7.664899826049805, -7.693600177764893, -7.695199966430664, -7.747499942779541, -7.760499954223633, -7.952400207519531, -7.959199905395508, -7.981100082397461, -8.009900093078613, -8.052499771118164, -8.083600044250488, -8.096500396728516, -4.966800212860107, -6.198699951171875, -6.7256999015808105, -7.2729997634887695, -6.210899829864502, -7.002200126647949, -6.722499847412109, -5.737100124359131, -6.11460018157959, -7.121500015258789, -5.103000164031982, -6.716300010681152, -6.332799911499023, -7.139500141143799, -5.472599983215332, -4.455399990081787, -6.166800022125244, -6.734399795532227, -6.686100006103516, -6.18779993057251, -5.259099960327148, -4.9893999099731445, -5.583099842071533, -6.08620023727417, -5.333799839019775, -4.692699909210205, -5.100200176239014, -5.307700157165527, -5.037700176239014, -5.810800075531006, -6.152599811553955, -4.858500003814697, -5.2804999351501465, -4.893700122833252, -5.461599826812744, -5.613800048828125, -6.032299995422363, -5.213200092315674, -5.093599796295166, -5.101900100708008, -5.490300178527832, -5.675899982452393, -5.603000164031982, -5.737800121307373, -5.729300022125244, -5.904399871826172, -5.728000164031982, -5.878200054168701, -5.740900039672852, -6.232100009918213, -6.374199867248535, -6.504300117492676, -6.595900058746338, -6.692200183868408, -6.797699928283691, -6.96019983291626, -7.138000011444092, -7.3003997802734375, -7.3643999099731445, -7.5106000900268555, -7.541600227355957, -7.566699981689453, -7.590700149536133, -7.644100189208984, -7.727700233459473, -7.757299900054932, -7.778900146484375, -7.830699920654297, -7.847400188446045, -7.873300075531006, -8.010100364685059, -8.031800270080566, -8.069100379943848, -8.10219955444336, -8.171299934387207, -8.222599983215332, -8.270500183105469, -8.276000022888184, -8.346799850463867, -7.609000205993652, -5.199100017547607, -4.400199890136719, -5.1880998611450195, -5.173500061035156, -7.32450008392334, -7.145999908447266, -6.71019983291626, -6.049699783325195, -5.6143999099731445, -6.765999794006348, -7.196899890899658, -6.126200199127197, -5.9899001121521, -6.829599857330322, -5.991499900817871, -6.680099964141846, -5.7667999267578125, -5.612599849700928, -4.863399982452393, -6.072199821472168, -5.943900108337402, -4.861400127410889, -5.878300189971924, -6.4008002281188965, -5.066699981689453, -4.633299827575684, -5.538700103759766, -5.800899982452393, -5.4481000900268555, -5.147500038146973, -5.804500102996826, -5.888700008392334, -5.533299922943115, -5.353799819946289, -5.677000045776367, -5.338900089263916, -5.541800022125244, -5.480999946594238, -5.575900077819824, -5.660999774932861, -5.842599868774414, -5.90749979019165, -5.953700065612793, -4.896299839019775, -6.156099796295166, -6.186200141906738, -6.202700138092041, -5.802000045776367, -6.502999782562256, -7.098100185394287, -6.29010009765625, -7.220600128173828, -7.222099781036377, -7.23330020904541, -7.330599784851074, -7.335299968719482, -7.4029998779296875, -7.418499946594238, -7.450500011444092, -7.5100998878479, -7.5991997718811035, -7.602700233459473, -6.688700199127197, -7.705599784851074, -7.7291998863220215, -7.73330020904541, -7.735499858856201, -7.737500190734863, -7.7428998947143555, -7.743199825286865, -7.748600006103516, -7.74970006942749, -7.77370023727417, -7.0777997970581055, -7.357600212097168, -6.126399993896484, -6.82420015335083, -6.912300109863281, -6.763400077819824, -5.5991997718811035, -5.322800159454346, -6.492300033569336, -7.483399868011475, -7.345300197601318, -4.878200054168701, -6.882599830627441, -6.348199844360352, -5.9969000816345215, -6.144999980926514, -6.9756999015808105, -6.6346001625061035, -6.452899932861328, -5.38640022277832, -6.288899898529053, -5.876800060272217, -6.523200035095215, -6.407400131225586, -6.42140007019043, -6.035399913787842, -6.330100059509277, -5.265399932861328, -4.95550012588501, -6.110799789428711, -5.874800205230713, -5.643400192260742, -5.464000225067139, -5.600900173187256, -5.855899810791016, -5.889999866485596, -5.6732001304626465, -5.955599784851074, -5.780600070953369, -5.894999980926514, -6.136300086975098, -5.836400032043457, -5.99459981918335, -5.931399822235107, -6.088799953460693, -6.125500202178955, -6.130300045013428, -5.00600004196167, -5.7758002281188965, -6.365799903869629, -6.424900054931641, -6.582699775695801, -6.649400234222412, -6.7600998878479, -6.8282999992370605, -6.837200164794922, -7.0630998611450195, -7.164000034332275, -7.170899868011475, -7.177199840545654, -7.256499767303467, -7.289400100708008, -7.382599830627441, -7.418399810791016, -7.434000015258789, -7.446000099182129, -7.502500057220459, -7.537899971008301, -7.5609002113342285, -7.624000072479248, -7.653900146484375, -7.69789981842041, -7.70989990234375, -7.768700122833252, -7.795100212097168, -7.810100078582764, -7.832799911499023, -6.016200065612793, -5.135000228881836, -5.38539981842041, -6.793399810791016, -6.61359977722168, -6.60129976272583, -4.5381999015808105, -6.021200180053711, -6.645400047302246, -5.502099990844727, -7.240699768066406, -6.01039981842041, -6.365799903869629, -5.799799919128418, -6.341400146484375, -6.900899887084961, -5.724100112915039, -6.332300186157227, -6.663700103759766, -5.691800117492676, -6.695899963378906, -5.743899822235107, -6.717899799346924, -6.420400142669678, -5.378699779510498, -5.01230001449585, -6.50600004196167, -6.047399997711182, -5.323999881744385, -5.190000057220459, -5.623199939727783, -5.896100044250488, -6.03249979019165, -5.879499912261963, -5.926700115203857, -5.682799816131592, -6.098800182342529, -5.930300235748291, -5.926700115203857, -5.9807000160217285, -5.922699928283691, -5.996799945831299, -5.9253997802734375, -6.0167999267578125, -5.243000030517578, -6.391600131988525, -6.522500038146973, -6.692200183868408, -6.788599967956543, -6.849599838256836, -6.991199970245361, -7.011600017547607, -7.13070011138916, -7.199999809265137, -7.208600044250488, -7.276500225067139, -7.322400093078613, -7.322400093078613, -7.420000076293945, -7.42579984664917, -7.445000171661377, -4.991099834442139, -7.485499858856201, -7.506199836730957, -7.5081000328063965, -7.538599967956543, -7.670000076293945, -7.709799766540527, -7.743000030517578, -7.764400005340576, -7.803199768066406, -7.868500232696533, -7.883500099182129, -7.883500099182129, -3.893699884414673, -6.23330020904541, -6.578499794006348, -5.995299816131592, -4.432400226593018, -5.269199848175049, -5.5493998527526855, -6.8572001457214355, -4.598199844360352, -5.281700134277344, -5.95989990234375, -6.769700050354004, -6.857999801635742, -6.3333001136779785, -6.397200107574463, -4.33489990234375, -7.080100059509277, -6.132400035858154, -5.1031999588012695, -5.866300106048584, -6.597799777984619, -5.237199783325195, -6.361499786376953, -5.744100093841553, -5.0081000328063965, -5.432600021362305, -4.925300121307373, -5.085400104522705, -5.601099967956543, -6.542099952697754, -5.623300075531006, -5.5640997886657715, -5.535999774932861, -5.5503997802734375, -6.016900062561035, -5.932400226593018, -6.085899829864502, -5.881499767303467, -5.71619987487793, -5.8983001708984375, -6.016300201416016, -5.918700218200684, -5.929699897766113, -5.979100227355957, -5.930699825286865, -6.861299991607666, -7.000400066375732, -7.0980000495910645, -7.242000102996826, -7.309100151062012, -7.376699924468994, -7.3942999839782715, -7.401599884033203, -7.403500080108643, -7.411399841308594, -7.41510009765625, -7.451000213623047, -7.5096001625061035, -7.526500225067139, -7.560400009155273, -7.5696001052856445, -7.601099967956543, -7.677599906921387, -7.68209981918335, -4.713900089263916, -7.715000152587891, -7.836400032043457, -7.882599830627441, -7.88700008392334, -7.890100002288818, -7.893499851226807, -7.899600028991699, -7.91379976272583, -7.922999858856201, -4.715700149536133, -6.471499919891357, -6.117199897766113, -5.441500186920166, -6.639900207519531, -5.441100120544434, -6.523499965667725, -6.922900199890137, -4.9721999168396, -6.802499771118164, -5.782700061798096, -5.9882001876831055, -6.96019983291626, -4.929699897766113, -6.851500034332275, -6.540500164031982, -5.561999797821045, -6.687900066375732, -6.686299800872803, -6.424099922180176, -6.22730016708374, -6.497300148010254, -6.648099899291992, -6.003499984741211, -5.4334001541137695, -6.382999897003174, -6.292799949645996, -5.1006999015808105, -5.605599880218506, -6.203999996185303, -4.940000057220459, -6.142899990081787, -6.331999778747559, -5.9141998291015625, -5.335000038146973, -5.248899936676025, -5.3043999671936035, -5.332699775695801, -6.166999816894531, -5.102399826049805, -5.318600177764893, -6.163899898529053, -6.180200099945068, -5.951900005340576, -5.856100082397461, -5.938899993896484, -6.085299968719482, -6.01140022277832, -6.036900043487549, -6.05210018157959, -6.087600231170654, -6.084099769592285]}, \"token.table\": {\"Topic\": [7, 9, 8, 9, 10, 1, 4, 9, 4, 6, 4, 1, 2, 3, 4, 5, 6, 7, 1, 2, 3, 4, 5, 6, 7, 8, 9, 10, 4, 2, 4, 6, 6, 7, 1, 3, 9, 10, 1, 2, 3, 5, 6, 8, 9, 10, 3, 2, 3, 4, 5, 6, 7, 8, 9, 10, 1, 2, 4, 6, 7, 8, 10, 1, 3, 5, 6, 9, 1, 2, 3, 4, 5, 6, 7, 8, 9, 10, 1, 2, 3, 4, 5, 6, 7, 8, 9, 10, 1, 2, 5, 2, 10, 4, 5, 1, 2, 3, 7, 2, 4, 9, 4, 10, 9, 3, 5, 2, 4, 6, 10, 1, 2, 3, 4, 5, 6, 7, 8, 9, 10, 4, 1, 2, 3, 4, 5, 6, 7, 8, 9, 10, 1, 2, 4, 5, 6, 7, 8, 9, 10, 6, 4, 8, 4, 8, 6, 7, 9, 6, 6, 1, 4, 6, 9, 5, 5, 6, 7, 8, 1, 2, 3, 4, 5, 6, 7, 8, 9, 3, 1, 2, 3, 4, 5, 6, 7, 8, 9, 10, 1, 4, 10, 1, 2, 3, 5, 6, 7, 2, 1, 3, 6, 8, 4, 3, 6, 7, 2, 4, 6, 7, 8, 10, 2, 4, 6, 7, 9, 10, 2, 3, 5, 6, 9, 10, 3, 5, 6, 1, 1, 2, 3, 4, 5, 6, 7, 8, 9, 10, 1, 3, 4, 5, 6, 9, 10, 1, 3, 6, 7, 8, 4, 6, 8, 9, 10, 1, 2, 3, 5, 6, 7, 9, 1, 2, 3, 4, 5, 6, 7, 8, 9, 8, 2, 3, 5, 6, 7, 8, 9, 10, 6, 4, 7, 1, 4, 6, 7, 1, 3, 4, 6, 7, 4, 5, 2, 1, 2, 3, 5, 9, 1, 3, 5, 6, 8, 9, 1, 4, 6, 10, 1, 2, 4, 7, 6, 2, 2, 7, 7, 2, 1, 5, 1, 5, 6, 7, 8, 10, 2, 3, 4, 6, 7, 8, 1, 3, 4, 5, 7, 8, 9, 2, 4, 6, 7, 2, 6, 8, 10, 7, 8, 6, 8, 10, 6, 9, 8, 8, 10, 1, 6, 7, 3, 6, 9, 2, 4, 6, 7, 1, 2, 3, 4, 5, 6, 7, 8, 9, 10, 5, 6, 2, 4, 5, 6, 9, 10, 4, 5, 6, 7, 8, 2, 3, 4, 5, 6, 7, 1, 2, 3, 4, 5, 6, 7, 8, 9, 10, 3, 5, 6, 10, 5, 8, 1, 3, 4, 5, 6, 7, 9, 10, 1, 2, 3, 4, 6, 10, 1, 2, 3, 7, 10, 2, 1, 2, 3, 5, 6, 7, 9, 5, 1, 2, 3, 8, 4, 7, 8, 4, 10, 4, 1, 2, 5, 6, 7, 8, 8, 2, 3, 4, 5, 6, 7, 8, 9, 6, 10, 1, 3, 10, 1, 9, 10, 10, 3, 5, 6, 9, 10, 1, 4, 1, 3, 7, 7, 2, 4, 6, 8, 10, 1, 2, 3, 4, 5, 6, 7, 8, 9, 10, 1, 2, 4, 5, 6, 7, 8, 9, 10, 2, 5, 6, 8, 9, 10, 1, 2, 4, 10, 7, 9, 1, 2, 5, 4, 1, 2, 3, 4, 5, 6, 7, 8, 9, 1, 6, 10, 10, 1, 4, 6, 8, 10, 1, 4, 6, 10, 9, 4, 6, 1, 2, 3, 4, 5, 6, 7, 8, 9, 10, 1, 3, 4, 5, 6, 7, 8, 9, 10, 6, 9, 1, 4, 5, 6, 8, 1, 1, 2, 1, 2, 1, 8, 4, 8, 2, 3, 6, 7, 8, 4, 6, 9, 9, 1, 2, 3, 4, 5, 6, 7, 8, 9, 10, 1, 4, 7, 9, 4, 1, 2, 3, 4, 5, 6, 7, 8, 9, 10, 10, 1, 2, 6, 10, 6, 7, 1, 2, 3, 4, 5, 6, 7, 8, 9, 10, 2, 6, 9, 9, 1, 2, 3, 4, 5, 6, 7, 8, 9, 10, 4, 8, 4, 2, 3, 6, 6, 6, 10, 8, 1, 1, 3, 5, 6, 8, 9, 1, 3, 5, 6, 8, 9, 8, 1, 2, 4, 9, 1, 2, 3, 5, 6, 8, 9, 1, 2, 5, 6, 8, 5, 1, 4, 5, 6, 7, 9, 2, 1, 4, 5, 6, 7, 8, 9, 10, 1, 3, 4, 9, 10, 1, 2, 3, 4, 5, 6, 7, 8, 9, 10, 8, 7, 1, 10, 1, 2, 3, 4, 5, 6, 9, 10, 3, 5, 4, 8, 1, 6, 1, 2, 3, 4, 5, 6, 7, 8, 9, 1, 5, 1, 3, 4, 6, 7, 9, 10, 1, 2, 3, 4, 5, 6, 7, 8, 9, 10, 1, 2, 3, 4, 5, 6, 7, 8, 9, 10, 4, 3, 5, 6, 7, 8, 6, 4, 1, 2, 4, 6, 8, 3, 7, 3, 6, 2, 4, 6, 7, 1, 5, 6, 7, 8, 3, 5, 8, 1, 3, 9, 10, 1, 2, 3, 4, 5, 6, 7, 9, 10, 6, 1, 4, 5, 6, 5, 1, 3, 4, 5, 6, 7, 8, 9, 10, 1, 3, 1, 2, 3, 4, 5, 6, 7, 8, 9, 10, 2, 1, 2, 4, 5, 6, 7, 8, 9, 1, 3, 5, 7, 1, 2, 3, 4, 5, 6, 7, 8, 9, 10, 7, 8, 4, 6, 7, 2, 4, 8, 10, 5, 10, 4, 8, 9, 1, 2, 3, 4, 5, 6, 7, 8, 9, 10, 1, 3, 4, 7, 8, 10, 1, 3, 7, 8, 10, 4, 1, 2, 3, 4, 5, 6, 7, 8, 9, 10, 1, 2, 3, 4, 5, 6, 7, 8, 9, 10, 1, 4, 5, 6, 8, 1, 7, 10, 2, 4, 6, 7, 8, 9, 8, 1, 2, 3, 4, 5, 6, 7, 8, 9, 10, 1, 2, 4, 6, 7, 8, 9, 5, 1, 3, 4, 5, 6, 7, 8, 9, 2, 3, 6, 1, 3, 5, 6, 3, 1, 2, 3, 4, 6, 7, 9, 10, 2, 10, 2, 1, 3, 4, 5, 6, 8, 9, 3, 4, 8, 10, 2, 3, 5, 7, 10, 9, 2, 1, 2, 4, 10, 1, 3, 4, 6, 9, 1, 2, 9, 6, 1, 3, 7, 8, 3, 10, 1, 2, 3, 4, 5, 6, 7, 8, 9, 10, 1, 3, 5, 6, 8, 1, 2, 3, 1, 2, 2, 1, 2, 3, 4, 5, 10, 1, 2, 6, 10, 5, 7, 10, 1, 2, 5, 6, 7, 8, 9, 1, 2, 3, 4, 5, 6, 7, 8, 9, 10, 8, 4, 6, 9, 10, 1, 3, 4, 5, 6, 7, 8, 9, 1, 2, 3, 4, 5, 6, 7, 8, 9, 10, 3, 9, 6, 9, 9, 7, 9, 3, 1, 2, 3, 4, 5, 6, 7, 8, 9, 10, 1, 2, 3, 4, 5, 6, 7, 8, 9, 10, 7, 1, 2, 3, 4, 5, 6, 7, 8, 9, 3, 1, 4, 7, 8, 10, 8, 1, 5, 6, 1, 6, 8, 2, 3, 4, 5, 6, 7, 8, 9, 10, 10, 3, 4, 6, 7, 9, 2, 4, 6, 7, 8, 10, 4, 6, 10, 2, 6, 5, 7, 8, 1, 10, 1, 9, 10, 5, 2, 3, 4, 5, 6, 7, 8, 9, 10, 1, 3, 4, 5, 6, 9, 10, 1, 2, 3, 4, 5, 6, 7, 8, 9, 10, 1, 10, 3, 5, 9, 4, 1, 3, 4, 1, 4, 9, 10, 4, 9, 1, 4, 7, 8, 1, 4, 9, 2, 3, 4, 5, 6, 7, 8, 9, 10, 1, 8, 10, 5, 4, 6, 9, 3, 5, 9, 9, 4, 5, 7, 10, 3, 10, 3, 3, 4, 5, 8, 9, 10, 1, 4, 6, 7, 8, 6, 5, 3, 5, 6, 4, 6, 1, 2, 3, 4, 5, 6, 7, 8, 9, 10, 1, 2, 3, 4, 5, 6, 7, 8, 9, 10, 2, 1, 4, 6, 9, 10, 2, 1, 3, 4, 7, 8, 1, 7, 8, 3, 1, 3, 7, 8, 1, 2, 3, 4, 5, 6, 7, 8, 9, 10, 8, 3, 6, 8, 1, 2, 3, 4, 5, 6, 7, 8, 9, 10, 1, 2, 3, 5, 6, 8, 1, 2, 3, 4, 5, 6, 7, 8, 9, 10, 2, 9, 7, 5, 3, 4, 6, 8, 10, 3, 8, 10, 3, 7, 10, 7, 1, 2, 3, 4, 5, 6, 7, 8, 9, 10, 5, 10, 2, 3, 2, 3, 7, 1, 3, 7, 8, 9, 6, 1, 2, 3, 4, 5, 6, 7, 9, 10, 1, 2, 3, 4, 5, 6, 7, 8, 9, 10, 1, 4, 6, 9, 1, 1, 2, 3, 4, 5, 6, 7, 8, 9, 10, 6, 10, 8, 1, 4, 8, 1, 5, 10, 5, 1, 5, 9, 1, 2, 3, 5, 6, 8, 9, 10, 1, 2, 3, 4, 7, 10, 4, 3, 4, 5, 1, 4, 1, 2, 3, 4, 5, 6, 7, 8, 9, 1, 2, 3, 5, 6, 7, 1, 2, 3, 5, 6, 8, 9, 3, 5, 1, 3, 4, 5, 1, 1, 4, 3, 5, 6, 9, 6, 10, 3, 9, 1, 3, 5, 1, 3, 1, 6, 10, 1, 7, 8, 6, 1, 10, 1, 2, 3, 10, 1, 2, 3, 4, 5, 6, 7, 8, 9, 10, 3, 7, 9, 5, 3, 4, 6, 7, 3, 1, 2, 9, 10, 6, 1, 2, 3, 4, 5, 6, 7, 8, 9, 10, 3, 5, 8, 3, 4, 5, 6, 7, 8, 9, 4, 3, 4, 5, 6, 7, 9, 4, 6, 7, 8, 9, 2, 1, 2, 3, 6, 5, 2, 3, 4, 5, 6, 7, 10, 1, 2, 3, 4, 5, 6, 7, 8, 9, 10, 1, 2, 3, 4, 5, 6, 7, 8, 9, 7, 1, 2, 3, 5, 6, 8, 9, 10, 1, 2, 3, 4, 5, 7, 8, 9, 2, 1, 6, 4, 1, 2, 4, 5, 6, 7, 8, 9, 9, 2, 2, 3, 8, 2, 1, 5, 6, 8, 9, 2, 1, 4, 7, 8, 10, 1, 4, 6, 10, 9, 6, 1, 1, 4, 7, 10, 2, 4, 5, 8, 9, 1, 3, 4, 6, 7, 8, 1, 6, 10, 5, 6, 8, 9, 2, 9, 1, 5, 6, 7, 8, 9, 3, 8, 4, 1, 3, 4, 5, 7, 6, 1, 3, 7, 3, 10, 4, 5, 6, 9, 1, 3, 4, 5, 6, 7, 8, 9, 4, 3, 10, 1, 2, 3, 4, 5, 6, 7, 8, 9, 10, 3, 6, 7, 8, 2, 4, 6, 7, 8, 1, 1, 2, 3, 6, 10, 4, 9, 1, 3, 7, 8, 9, 1, 10, 3, 4, 5, 6, 7, 9, 10, 3, 5, 6, 7, 8, 9, 10, 1, 2, 3, 5, 6, 7, 8, 9, 10, 10, 2, 4, 5, 6, 9, 1, 2, 3, 5, 6, 7, 8, 9, 1, 2, 3, 6, 3, 1, 2, 4, 5, 6, 7, 8, 9, 10, 1, 5, 6, 8, 9, 3, 5, 1, 2, 3, 7, 10, 1, 5, 6, 8, 9, 1, 10, 1, 3, 4, 6, 7, 10, 1, 2, 3, 4, 5, 6, 7, 8, 9, 10, 4, 6, 6, 7, 3, 4, 5, 6, 1, 2, 3, 4, 5, 6, 7, 8, 9, 10, 2, 3, 4, 5, 6, 7, 8, 9, 1, 2, 3, 4, 5, 6, 7, 8, 9, 10, 6, 7, 7, 3, 7, 7, 1, 4, 5, 6, 7, 8, 9, 10, 3, 5, 7, 1, 2, 3, 4, 5, 6, 7, 8, 9, 10, 7, 1, 2, 5, 6, 9, 10, 1, 10, 1, 3, 4, 6, 9, 5, 1, 3, 4, 5, 6, 7, 9, 1, 2, 3, 4, 5, 6, 9, 9, 4, 6, 7, 4, 6, 7, 8, 1, 2, 4, 5, 6, 9, 1, 2, 4, 5, 6, 8, 1, 2, 3, 4, 5, 6, 7, 8, 9, 10, 3, 8, 3, 8, 9, 10, 8, 7, 1, 4, 6, 8, 9, 10, 2, 5, 6, 8, 9, 8, 4, 6, 5, 1, 4, 9, 1, 4, 6, 9, 3, 6, 6, 9, 5, 4, 6, 7, 5, 8, 5, 7, 8, 1, 2, 3, 4, 5, 6, 7, 8, 9, 10, 2, 9, 3, 3, 9, 3, 8, 1, 2, 3, 4, 5, 6, 7, 8, 9, 10, 5, 9, 1, 2, 3, 4, 5, 6, 7, 8, 9, 10, 5, 6, 7, 3, 3, 4, 6, 7, 1, 1, 2, 3, 4, 5, 6, 7, 8, 9, 10, 1, 3, 6, 8, 9, 10, 1, 2, 3, 4, 5, 6, 7, 8, 9, 1, 2, 3, 4, 5, 6, 7, 8, 9, 10, 1, 2, 3, 4, 5, 6, 7, 8, 9, 10, 9, 2, 1, 3, 4, 5, 6, 7, 8, 10, 1, 2, 3, 4, 5, 6, 7, 8, 9, 10, 5, 9, 1, 10, 1, 2, 4, 6, 10, 1, 3, 4, 7, 8, 4, 9, 1, 2, 3, 4, 5, 6, 7, 2, 5, 10, 2, 7, 5, 6, 7, 5, 6, 4, 6, 1, 2, 3, 4, 5, 6, 7, 8, 9, 10, 10, 9, 5, 1, 4, 6, 9, 1, 6, 9, 10, 9, 8, 6, 4, 9, 8, 3, 4, 5, 8, 9, 4, 4, 1, 3, 4, 5, 6, 7, 8, 9, 10, 1, 2, 3, 9, 1, 2, 3, 4, 5, 6, 7, 8, 9, 10, 3, 5, 6, 2, 3, 4, 6, 9, 10, 1, 2, 3, 1, 2, 4, 5, 7, 9, 10, 1, 6, 1, 1, 4, 6, 7, 1, 3, 10, 1, 1, 4, 6, 7, 1, 2, 3, 4, 5, 6, 7, 8, 9, 5, 2, 4, 7, 1, 6, 1, 2, 3, 4, 5, 6, 7, 8, 9, 10, 2, 1, 3, 5, 6, 10, 1, 2, 3, 4, 5, 6, 7, 8, 9, 10, 1, 3, 1, 4, 6, 7, 9, 10, 1, 2, 3, 4, 5, 6, 7, 8, 9, 10, 1, 2, 3, 4, 5, 6, 7, 8, 9, 10, 5, 6, 7, 1, 2, 3, 4, 5, 6, 7, 8, 9, 10, 1, 2, 3, 4, 5, 6, 7, 8, 9, 10, 4, 6, 8, 9, 10, 1, 6, 4, 6, 5, 6, 9, 1, 6, 8, 10, 1, 3, 4, 5, 7, 9, 10], \"Freq\": [0.9978267550468445, 0.9965745806694031, 0.1551065742969513, 0.008522339165210724, 0.8351892828941345, 0.29360905289649963, 0.023968087509274483, 0.6800944805145264, 0.9669156670570374, 0.02912396565079689, 0.9908561706542969, 0.06750664114952087, 0.7270810604095459, 0.16431164741516113, 0.0027291628066450357, 0.010916651226580143, 0.0028897016309201717, 0.024562465026974678, 0.025053689256310463, 0.11520013958215714, 0.41280049085617065, 0.15032213926315308, 0.03348296880722046, 0.007492692209780216, 0.07937570661306381, 0.013814651407301426, 0.11824404448270798, 0.04425371065735817, 0.9955378174781799, 0.07146535068750381, 0.913735568523407, 0.015314004383981228, 0.9909103512763977, 0.9975230097770691, 0.02964732050895691, 0.9573389291763306, 0.0005390421720221639, 0.011858928017318249, 0.14956913888454437, 0.05512138456106186, 0.1002499982714653, 0.4728834331035614, 0.15150322020053864, 0.013216237537562847, 0.05189790949225426, 0.005802250932902098, 0.9971252679824829, 0.08959973603487015, 0.37860941886901855, 0.25869396328926086, 0.06220332533121109, 0.02807009220123291, 0.11250492930412292, 0.02537536434829235, 0.02312975563108921, 0.021557830274105072, 0.10309083759784698, 0.30854135751724243, 0.0277833454310894, 0.017547376453876495, 0.060684677213430405, 0.017547376453876495, 0.465005487203598, 0.012814723886549473, 0.9867337346076965, 0.9770050048828125, 0.01192681584507227, 0.009939013049006462, 0.26294025778770447, 0.38030412793159485, 0.06234956532716751, 0.044434644281864166, 0.06347806751728058, 0.056848134845495224, 0.017773857340216637, 0.06686355918645859, 0.033149655908346176, 0.01184923853725195, 0.8347933888435364, 0.03992244601249695, 0.01487676054239273, 0.017701461911201477, 0.013181939721107483, 0.03220159560441971, 0.009415671229362488, 0.019961223006248474, 0.008662417531013489, 0.009227357804775238, 0.11642780154943466, 0.8780262470245361, 0.005219177342951298, 0.9955602288246155, 0.004003593232482672, 0.008724140003323555, 0.9887358546257019, 0.02873283252120018, 0.9421870708465576, 0.02873283252120018, 0.9994754791259766, 0.021311674267053604, 0.07863272726535797, 0.8994995951652527, 0.0787753015756607, 0.9210988879203796, 0.9932669401168823, 0.8716817498207092, 0.12799377739429474, 0.016568748280405998, 0.043078746646642685, 0.17165222764015198, 0.7687898874282837, 0.16318510472774506, 0.054008468985557556, 0.15407323837280273, 0.15390756726264954, 0.023690830916166306, 0.040754858404397964, 0.20857872068881989, 0.0849887877702713, 0.06577105075120926, 0.05086073651909828, 0.9968628883361816, 0.38093113899230957, 0.17010638117790222, 0.08398165553808212, 0.05411258339881897, 0.05063008889555931, 0.0344231016933918, 0.05063008889555931, 0.059604205191135406, 0.023439856246113777, 0.09188424050807953, 0.11804576963186264, 0.2767597436904907, 0.04030831158161163, 0.16573193669319153, 0.09969109296798706, 0.004858591128140688, 0.014395825564861298, 0.01745493896305561, 0.26272380352020264, 0.9968438744544983, 0.022329309955239296, 0.9750465750694275, 0.9856390357017517, 0.9971007108688354, 0.13231368362903595, 0.8615774512290955, 0.0046155937016010284, 0.9958091974258423, 0.9991477131843567, 0.027427593246102333, 0.09701241552829742, 0.06298188120126724, 0.8126694560050964, 0.9937973618507385, 0.010287374258041382, 0.01589866913855076, 0.00794933456927538, 0.9656103849411011, 0.8173162937164307, 0.10222998261451721, 0.005235850811004639, 0.009162738919258118, 0.0026179254055023193, 0.04960968717932701, 0.003141510533168912, 0.006544813513755798, 0.0041886805556714535, 0.9959796667098999, 0.42813318967819214, 0.036140501499176025, 0.022587813436985016, 0.11717428267002106, 0.11491550505161285, 0.14757372438907623, 0.017034975811839104, 0.04884614795446396, 0.06672816723585129, 0.0008470430038869381, 0.9982295632362366, 0.05577406287193298, 0.9415974020957947, 0.006359985563904047, 0.965279221534729, 0.0074199833907186985, 0.016884246841073036, 0.0010599975939840078, 0.0030285646207630634, 0.9976876974105835, 0.06666593253612518, 0.014814651571214199, 0.01693102903664112, 0.9005191326141357, 0.9949808120727539, 0.9921072125434875, 0.007308340165764093, 0.9966553449630737, 0.34904736280441284, 0.43053701519966125, 0.19227679073810577, 0.011253333650529385, 0.008148965425789356, 0.008537011221051216, 0.12377020716667175, 0.5200213193893433, 0.32282814383506775, 0.03333171457052231, 0.07514519989490509, 0.9248639941215515, 0.049372598528862, 0.08375708013772964, 0.09389609843492508, 0.7357398867607117, 0.034384485334157944, 0.0022041338961571455, 0.9812109470367432, 0.013482288457453251, 0.004494096152484417, 0.9981116056442261, 0.7369478344917297, 0.10908646136522293, 0.03279964625835419, 0.005159494932740927, 0.021252203732728958, 0.045698381960392, 0.017935385927557945, 0.02518324740231037, 0.0054051848128438, 0.0004913804586976767, 0.022977620363235474, 0.10757704079151154, 0.6062958240509033, 0.017233215272426605, 0.062144018709659576, 0.020366527140140533, 0.16397665441036224, 0.09176569432020187, 0.1387956142425537, 0.09176569432020187, 0.021794352680444717, 0.6549776792526245, 0.10192632675170898, 0.14774641394615173, 0.12717412412166595, 0.014961661770939827, 0.6068823933601379, 0.16087080538272858, 0.006885005626827478, 0.031776949763298035, 0.7532460689544678, 0.01986059360206127, 0.008606256917119026, 0.018933765590190887, 0.22401033341884613, 0.4574796259403229, 0.19151604175567627, 0.0071220374666154385, 0.039950180798769, 0.022145085036754608, 0.03282814100384712, 0.02069842256605625, 0.004339991603046656, 0.9966059923171997, 0.3684237003326416, 0.40959984064102173, 0.11293715238571167, 0.020858250558376312, 0.04485063999891281, 0.03296251967549324, 0.003998731728643179, 0.006376356352120638, 0.996699333190918, 0.08921375870704651, 0.9096878170967102, 0.0935823917388916, 0.46629849076271057, 0.015597065910696983, 0.42434775829315186, 0.3050975501537323, 0.02428637258708477, 0.016696881502866745, 0.0075894915498793125, 0.6458657383918762, 0.9912513494491577, 0.9980528354644775, 0.996992826461792, 0.12786740064620972, 0.019126979634165764, 0.011688709259033203, 0.6524425148963928, 0.18879036605358124, 0.38246554136276245, 0.0034928361419588327, 0.41243040561676025, 0.007261422462761402, 0.0009191674180328846, 0.19330090284347534, 0.2850845456123352, 0.20231805741786957, 0.0013794413534924388, 0.510853111743927, 0.9984031915664673, 0.9974116683006287, 0.16192245483398438, 0.836866557598114, 0.999103844165802, 0.9998136758804321, 0.9995852112770081, 0.9924362301826477, 0.9982529878616333, 0.998614490032196, 0.9988098740577698, 0.9971259236335754, 0.15393507480621338, 0.01090878527611494, 0.04484722763299942, 0.03999887779355049, 0.7490699291229248, 0.9903743267059326, 0.9987439513206482, 0.02179553546011448, 0.012108631432056427, 0.03874761983752251, 0.799169659614563, 0.12835149466991425, 0.4076189398765564, 0.1562192738056183, 0.07398448139429092, 0.17889085412025452, 0.026830274611711502, 0.0031525571830570698, 0.15326793491840363, 0.13573801517486572, 0.441331148147583, 0.3690279722213745, 0.053836140781641006, 0.8785252571105957, 0.041292108595371246, 0.010678993538022041, 0.06905749440193176, 0.9924318790435791, 0.004371946677565575, 0.011539986357092857, 0.9878227710723877, 0.9918884634971619, 0.017914028838276863, 0.9785537719726562, 0.9953283071517944, 0.9961949586868286, 0.9922391176223755, 0.11647530645132065, 0.0019910309929400682, 0.8800356388092041, 0.9983553886413574, 0.9966115355491638, 0.993118941783905, 0.48081302642822266, 0.4306139647960663, 0.0043139830231666565, 0.08431876450777054, 0.2568299174308777, 0.02543031983077526, 0.1306564211845398, 0.15217438340187073, 0.09544520825147629, 0.0952821895480156, 0.06308675557374954, 0.04588868468999863, 0.06479841470718384, 0.07050393521785736, 0.9989107847213745, 0.9955323338508606, 0.019931966438889503, 0.06454160064458847, 0.04176221415400505, 0.21260763704776764, 0.6482634544372559, 0.012338835746049881, 0.1438269019126892, 0.013878034427762032, 0.13121050596237183, 0.049203939735889435, 0.6610990762710571, 0.20138636231422424, 0.06944356858730316, 0.02025437541306019, 0.044559624046087265, 0.6637647747993469, 0.9978044629096985, 0.49094358086586, 0.1584635227918625, 0.08902061730623245, 0.045635856688022614, 0.054435595870018005, 0.06207567825913429, 0.03792755678296089, 0.03608575090765953, 0.014939092099666595, 0.010368685238063335, 0.08015334606170654, 0.03526747226715088, 0.8464193344116211, 0.03687053918838501, 0.988757312297821, 0.010089360177516937, 0.4171222746372223, 0.09073402732610703, 0.06959982961416245, 0.013189009390771389, 0.042427293956279755, 0.02033967711031437, 0.0031780744902789593, 0.34354984760284424, 0.8376577496528625, 0.021948862820863724, 0.004286887124180794, 0.009774102829396725, 0.02349214255809784, 0.10271381586790085, 0.05640464648604393, 0.8277432918548584, 0.10527510195970535, 0.008145075291395187, 0.0022398957516998053, 0.9985033273696899, 0.053183894604444504, 0.8114832639694214, 0.135104238986969, 0.4571060836315155, 0.5419666767120361, 0.008018601685762405, 0.9910991787910461, 0.9978093504905701, 0.009245254099369049, 0.029790261760354042, 0.9615063667297363, 0.9985888600349426, 0.007795415818691254, 0.948442280292511, 0.04417402297258377, 0.997846245765686, 0.9959335327148438, 0.9937882423400879, 0.9268667101860046, 0.05373794957995415, 0.002483686665073037, 0.015127910301089287, 0.0006773691275157034, 0.001128948526456952, 0.9921432137489319, 0.012822131626307964, 0.05348660796880722, 0.23116472363471985, 0.11173572391271591, 0.19233198463916779, 0.04762506112456322, 0.30370134115219116, 0.04689236730337143, 0.999410092830658, 0.9968293309211731, 0.1333286166191101, 0.11790499836206436, 0.7485595941543579, 0.03785182163119316, 0.008735036477446556, 0.9535747766494751, 0.9924834966659546, 0.057422105222940445, 0.030128883197903633, 0.8960683941841125, 0.009215893223881721, 0.006734691560268402, 0.02156992256641388, 0.9768093228340149, 0.9990622401237488, 0.9989302754402161, 0.9951156377792358, 0.9979182481765747, 0.023278474807739258, 0.12544511258602142, 0.06983542442321777, 0.009052740409970284, 0.7720694541931152, 0.1406550407409668, 0.0066221775487065315, 0.015893226489424706, 0.4760020971298218, 0.0564209520816803, 0.06198358163237572, 0.025958934798836708, 0.011919919401407242, 0.20316840708255768, 0.0013244354631751776, 0.10764254629611969, 0.01458707358688116, 0.2816814184188843, 0.10412152856588364, 0.03655151650309563, 0.07444437593221664, 0.16179914772510529, 0.14000236988067627, 0.07947440445423126, 0.030624618753790855, 0.36652320623397827, 0.5133269429206848, 0.0656241849064827, 0.012638731859624386, 0.01118041668087244, 0.025796612724661827, 0.019008029252290726, 0.9558323621749878, 0.9994291067123413, 0.9925805926322937, 0.9953992962837219, 0.011389373801648617, 0.03942475467920303, 0.9488224387168884, 0.994579553604126, 0.9991665482521057, 0.017369825392961502, 0.21712282299995422, 0.06557109206914902, 0.020409544929862022, 0.002605473855510354, 0.10899566113948822, 0.4876578748226166, 0.07990120351314545, 0.062437016516923904, 0.8923290371894836, 0.04422622174024582, 0.9961456656455994, 0.34671369194984436, 0.27134114503860474, 0.18385958671569824, 0.003706846386194229, 0.19423875212669373, 0.1474638134241104, 0.3338416814804077, 0.48920536041259766, 0.028966106474399567, 0.9976834058761597, 0.8011128306388855, 0.19865520298480988, 0.1509084403514862, 0.02709975652396679, 0.0979045107960701, 0.026834072545170784, 0.03719574213027954, 0.07465717196464539, 0.028428174555301666, 0.0009298935765400529, 0.5478401780128479, 0.008236200548708439, 0.10535765439271927, 0.2022867053747177, 0.22935551404953003, 0.08736581355333328, 0.08234106004238129, 0.10276423394680023, 0.01248082984238863, 0.09417353570461273, 0.08379986137151718, 0.05423104390501976, 0.944825291633606, 0.23374809324741364, 0.015997059643268585, 0.5641947984695435, 0.07473253458738327, 0.11102437227964401, 0.999341607093811, 0.033664025366306305, 0.9653973579406738, 0.9800862669944763, 0.01949417218565941, 0.9991128444671631, 0.991272509098053, 0.883643388748169, 0.11387157440185547, 0.28524574637413025, 0.5501958727836609, 0.004059124272316694, 0.1254638433456421, 0.03505607321858406, 0.8395969867706299, 0.13544300198554993, 0.024694029241800308, 0.9972192645072937, 0.1034885048866272, 0.22125935554504395, 0.15296943485736847, 0.07718712836503983, 0.08631846308708191, 0.08124549686908722, 0.11753671616315842, 0.05455389246344566, 0.06220236420631409, 0.04323727637529373, 0.13241274654865265, 0.06620637327432632, 0.7917742133140564, 0.008106903173029423, 0.9952921271324158, 0.3783465325832367, 0.005097136367112398, 0.03822852298617363, 0.1482803374528885, 0.020620234310626984, 0.06209238991141319, 0.21338467299938202, 0.0032436323817819357, 0.060702260583639145, 0.0699697807431221, 0.9958237409591675, 0.9373322129249573, 0.015515201725065708, 0.004280055873095989, 0.04253305494785309, 0.016710618510842323, 0.9811520576477051, 0.6608718633651733, 0.08244197815656662, 0.059284746646881104, 0.030894868075847626, 0.0391891673207283, 0.06101040542125702, 0.01647726260125637, 0.029224876314401627, 0.012302281334996223, 0.008294298313558102, 0.0599292628467083, 0.1119730994105339, 0.8263930082321167, 0.9995278120040894, 0.22747759521007538, 0.17099981009960175, 0.13732197880744934, 0.1555967628955841, 0.07074953615665436, 0.07275106012821198, 0.04081369563937187, 0.04359842464327812, 0.053083907812833786, 0.027673250064253807, 0.9927527904510498, 0.9947258830070496, 0.990034282207489, 0.9991466999053955, 0.9856768250465393, 0.014188404195010662, 0.9983319640159607, 0.9992017149925232, 0.994986891746521, 0.9994491338729858, 0.9971646070480347, 0.3440665006637573, 0.02570611797273159, 0.4217498004436493, 0.07090368866920471, 0.06497150659561157, 0.07273983955383301, 0.5028672218322754, 0.05225240811705589, 0.3953765332698822, 0.030231749638915062, 0.005722882691770792, 0.013436333276331425, 0.9992383122444153, 0.015097576193511486, 0.8621236681938171, 0.11869818717241287, 0.0036442424170672894, 0.848328173160553, 0.03700985014438629, 0.015160661190748215, 0.023632794618606567, 0.05707542970776558, 0.009140986949205399, 0.00980983953922987, 0.11487246304750443, 0.0033786017447710037, 0.018582310527563095, 0.05743623152375221, 0.8052334189414978, 0.9988983273506165, 0.1178550198674202, 0.09489062428474426, 0.03249678760766983, 0.04159588739275932, 0.7053969502449036, 0.007799229118973017, 0.9983968734741211, 0.3243389427661896, 0.29673564434051514, 0.04165143147110939, 0.13111574947834015, 0.07245869934558868, 0.05890350416302681, 0.019470196217298508, 0.05520663037896156, 0.03510415926575661, 0.13164059817790985, 0.07898436486721039, 0.7529842257499695, 0.9930641055107117, 0.44207537174224854, 0.16371981799602509, 0.08727828413248062, 0.04881846532225609, 0.04839349538087845, 0.05917711928486824, 0.036175597459077835, 0.04988089203834534, 0.025179492309689522, 0.039309754967689514, 0.9936490654945374, 0.9998708963394165, 0.1640707403421402, 0.8352692127227783, 0.12160598486661911, 0.33120328187942505, 0.09253919124603271, 0.04824692755937576, 0.015225464478135109, 0.06841572374105453, 0.03499879688024521, 0.2878997027873993, 0.9996721744537354, 0.9988539814949036, 0.9914701581001282, 0.994487464427948, 0.9972290992736816, 0.9963966608047485, 0.6816016435623169, 0.039570152759552, 0.011685922741889954, 0.022561930119991302, 0.05669407919049263, 0.08839648216962814, 0.017239628359675407, 0.05715688690543175, 0.025107378140091896, 0.022223757579922676, 0.9778453707695007, 0.1959187239408493, 0.008372594602406025, 0.47623318433761597, 0.07568825781345367, 0.004688653163611889, 0.008707498200237751, 0.23041380941867828, 0.6488478779792786, 0.03962793946266174, 0.020132267847657204, 0.05291682854294777, 0.03668369725346565, 0.06779719889163971, 0.03429647162556648, 0.014641649089753628, 0.06875208765268326, 0.01631270721554756, 0.6372607946395874, 0.04690736159682274, 0.0011712199775502086, 0.11589222401380539, 0.040143564343452454, 0.1303567886352539, 0.009486882016062737, 0.015957873314619064, 5.856099960510619e-05, 0.002781647490337491, 0.9881603717803955, 0.011036565527319908, 0.9844616651535034, 0.004414626397192478, 0.9507697820663452, 0.04762668535113335, 0.9933613538742065, 0.9973889589309692, 0.036187559366226196, 0.004561456851661205, 0.5288248658180237, 0.38985252380371094, 0.04014081880450249, 0.9646950960159302, 0.034836214035749435, 0.292092889547348, 0.7072466611862183, 0.9985955953598022, 0.35765182971954346, 0.6418673396110535, 0.9985324740409851, 0.04375333711504936, 0.01900397427380085, 0.006629293318837881, 0.10187014192342758, 0.82888263463974, 0.026752257719635963, 0.007643502205610275, 0.9592595100402832, 0.9986036419868469, 0.9993350505828857, 0.9965001940727234, 0.9885861873626709, 0.03563826158642769, 0.004505987279117107, 0.024578111246228218, 0.010240879841148853, 0.6830666661262512, 0.0198673065751791, 0.2085043042898178, 0.0030722639057785273, 0.010445697233080864, 0.9974755048751831, 0.02018149383366108, 0.029248541221022606, 0.8707290887832642, 0.07955603301525116, 0.9972882866859436, 0.45463958382606506, 0.034428663551807404, 0.04185800999403, 0.3236294388771057, 0.04421365261077881, 0.015221093781292439, 0.041314397007226944, 0.03678430989384651, 0.0077917505986988544, 0.06328698247671127, 0.9365009665489197, 0.19538640975952148, 0.004742673132568598, 0.06926644593477249, 0.17249277234077454, 0.21488407254219055, 0.20750658214092255, 0.022483782842755318, 0.03466250002384186, 0.07160850614309311, 0.006850527599453926, 0.9986351132392883, 0.713599443435669, 0.06786663085222244, 0.0432840920984745, 0.04998842254281044, 0.05810418725013733, 0.01987774856388569, 0.02599397860467434, 0.02117156609892845, 0.030685363337397575, 0.08949897438287735, 0.8574854731559753, 0.02216165140271187, 0.7708573937416077, 0.13112522661685944, 0.035637255758047104, 0.003973491955548525, 0.008940356783568859, 0.013658878393471241, 0.013534706085920334, 0.015148937702178955, 0.0012417162070050836, 0.005960237700492144, 0.9943861365318298, 0.9977607727050781, 0.912120521068573, 0.08034221827983856, 0.004726013168692589, 0.24296732246875763, 0.6732219457626343, 0.061754193156957626, 0.02024727687239647, 0.9975932836532593, 0.9926661252975464, 0.8101415038108826, 0.055673230439424515, 0.1343836635351181, 0.5835667252540588, 0.10996313393115997, 0.04754181578755379, 0.07031470537185669, 0.04545505717396736, 0.06024382635951042, 0.014153670519590378, 0.005897362716495991, 0.03973915055394173, 0.023226536810398102, 0.007600175216794014, 0.8208189010620117, 0.003800087608397007, 0.055101267993450165, 0.048134442418813705, 0.06396813690662384, 0.027786388993263245, 0.8405382633209229, 0.07492401450872421, 0.012404637411236763, 0.04416051134467125, 0.9982259273529053, 0.09450611472129822, 0.13543294370174408, 0.18849581480026245, 0.09657182544469833, 0.12019835412502289, 0.07346172630786896, 0.08327383548021317, 0.04325075075030327, 0.06197122484445572, 0.10276895016431808, 0.060574423521757126, 0.02541450597345829, 0.08885522186756134, 0.12497057765722275, 0.1622324436903, 0.2424887716770172, 0.087135449051857, 0.11388755589723587, 0.03840838745236397, 0.056179434061050415, 0.03477095067501068, 0.021073302254080772, 0.9166886806488037, 0.012643981724977493, 0.01369764655828476, 0.23422031104564667, 0.08940667659044266, 0.6762166619300842, 0.20945608615875244, 0.5560911893844604, 0.12226466089487076, 0.034581560641527176, 0.041465092450380325, 0.03589271008968353, 0.9951301217079163, 0.09869914501905441, 0.3952294588088989, 0.2103850096464157, 0.12438400834798813, 0.05584293603897095, 0.002164454897865653, 0.03102385252714157, 0.02308751828968525, 0.01991298422217369, 0.03924878314137459, 0.2481754571199417, 0.004490016493946314, 0.4759417474269867, 0.060411132872104645, 0.05102291330695152, 0.15796694159507751, 0.0024490999057888985, 0.9943941235542297, 0.02499360591173172, 0.07278839498758316, 0.49724122881889343, 0.10128987580537796, 0.15697738528251648, 0.02981693297624588, 0.01841634139418602, 0.09822048991918564, 0.05039163678884506, 0.9478427171707153, 0.9994689226150513, 0.05001209303736687, 0.10265640169382095, 0.08949532359838486, 0.7567619681358337, 0.9976852536201477, 0.07541368901729584, 0.11731018126010895, 0.05292188376188278, 0.24101509153842926, 0.0006615235470235348, 0.015215042047202587, 0.09173126518726349, 0.4059549570083618, 0.9908835291862488, 0.007864154875278473, 0.9992467164993286, 0.33753135800361633, 0.058604344725608826, 0.009643753059208393, 0.014094715937972069, 0.5315191149711609, 0.008531011641025543, 0.04005866497755051, 0.04647815227508545, 0.06360168009996414, 0.8635151386260986, 0.02446218580007553, 0.1603410691022873, 0.7573422193527222, 0.01837901584804058, 0.05133449286222458, 0.01204142440110445, 0.9990041851997375, 0.998985230922699, 0.010150558315217495, 0.9289790987968445, 0.06049732863903046, 0.9955414533615112, 0.06364401429891586, 0.01924843341112137, 0.10089904814958572, 0.8053296208381653, 0.010555592365562916, 0.005116571206599474, 0.9943203926086426, 0.9968393445014954, 0.9981251955032349, 0.032810941338539124, 0.10780738294124603, 0.052497509866952896, 0.8062117695808411, 0.9990983605384827, 0.997161328792572, 0.7459521889686584, 0.050393614917993546, 0.041617706418037415, 0.024427784606814384, 0.03293227404356003, 0.03474174067378044, 0.016194716095924377, 0.0314847007393837, 0.018547022715210915, 0.003709404496476054, 0.9978625774383545, 0.08221600949764252, 0.055373094975948334, 0.8621943593025208, 0.9933493137359619, 0.10317302495241165, 0.7768197059631348, 0.12003275007009506, 0.03954190015792847, 0.9604288339614868, 0.9989500045776367, 0.06856413930654526, 0.8658115267753601, 0.030496982857584953, 0.011030823923647404, 0.0028117785695940256, 0.021412774920463562, 0.03902672231197357, 0.960363507270813, 0.000765229866374284, 0.9979752898216248, 0.1019560769200325, 0.8828469514846802, 0.013903101906180382, 0.9293237328529358, 0.005340940784662962, 0.007121254689991474, 0.03976034000515938, 0.009495005942881107, 0.008011411875486374, 0.0008901568362489343, 0.23935972154140472, 0.01179512683302164, 0.08642980456352234, 0.10432586073875427, 0.05755208060145378, 0.10290230810642242, 0.09395428001880646, 0.04880741983652115, 0.15598037838935852, 0.09883502125740051, 0.9970273971557617, 0.9692702293395996, 0.025175850838422775, 0.9974356293678284, 0.988849401473999, 0.596214771270752, 0.04098878428339958, 0.009073853492736816, 0.2090115249156952, 0.0675845667719841, 0.00969963613897562, 0.001095120212994516, 0.06617654860019684, 0.6240176558494568, 0.03085113875567913, 0.042411111295223236, 0.09402602165937424, 0.032397374510765076, 0.05389745160937309, 0.02805318310856819, 0.03681520000100136, 0.03379635512828827, 0.023782620206475258, 0.9984212517738342, 0.9966406226158142, 0.06355591118335724, 0.9356842041015625, 0.9959985613822937, 0.9989980459213257, 0.9974602460861206, 0.9983406066894531, 0.004200347699224949, 0.15861313045024872, 0.10100836306810379, 0.3576296269893646, 0.016201341524720192, 0.14581207931041718, 0.07600629329681396, 0.022401854395866394, 0.11300935596227646, 0.005000414326786995, 0.4782504737377167, 0.2592051327228546, 0.0818910077214241, 0.030556347221136093, 0.040421679615974426, 0.031167473644018173, 0.018246503546833992, 0.02514350786805153, 0.013532096520066261, 0.021564049646258354, 0.9935572147369385, 0.5130600333213806, 0.20203270018100739, 0.03612213954329491, 0.04893764853477478, 0.05082228034734726, 0.06489421427249908, 0.011433443054556847, 0.043032463639974594, 0.029651565477252007, 0.9987962245941162, 0.35540932416915894, 0.030414002016186714, 0.06169697269797325, 0.0017379429191350937, 0.5509279370307922, 0.9936040043830872, 0.1705746352672577, 0.030574699863791466, 0.7965514063835144, 0.9557536840438843, 0.01919381693005562, 0.02411530911922455, 0.1547698676586151, 0.10654865205287933, 0.1310923844575882, 0.08893492072820663, 0.07969492673873901, 0.28846099972724915, 0.03407246991991997, 0.056017450988292694, 0.06092619523406029, 0.9950017929077148, 0.007683618925511837, 0.6651132702827454, 0.32703402638435364, 0.9964577555656433, 0.0015120754251256585, 0.0689009428024292, 0.35201647877693176, 0.17121624946594238, 0.06346139311790466, 0.21809998154640198, 0.12640473246574402, 0.002550863428041339, 0.011296680197119713, 0.9857264757156372, 0.9977584481239319, 0.9954979419708252, 0.10260146111249924, 0.10260146111249924, 0.7951613068580627, 0.0811629444360733, 0.9182314872741699, 0.2650378942489624, 0.03289477527141571, 0.7011286020278931, 0.996903121471405, 0.0854962170124054, 0.33184126019477844, 0.08158367872238159, 0.04839955270290375, 0.1925838440656662, 0.14186576008796692, 0.07854059338569641, 0.006375988945364952, 0.033184126019477844, 0.030638573691248894, 0.0774802416563034, 0.004124423488974571, 0.7503504753112793, 0.022684328258037567, 0.0014730084221810102, 0.11312704533338547, 0.4245612919330597, 0.24952934682369232, 0.0802469253540039, 0.023901592940092087, 0.08484654873609543, 0.031458109617233276, 0.021108966320753098, 0.024476544931530952, 0.017166435718536377, 0.042628612369298935, 0.0284414105117321, 0.9713835120201111, 0.013249210081994534, 0.9754731059074402, 0.009936907328665257, 0.9961223602294922, 0.022135943174362183, 0.9761236906051636, 0.002142188139259815, 0.017814455553889275, 0.005195882637053728, 0.005195882637053728, 0.9716300368309021, 0.07790791988372803, 0.920982837677002, 0.1170133501291275, 0.09763076901435852, 0.7157196998596191, 0.06963371485471725, 0.9814688563346863, 0.01055342797189951, 0.008070268668234348, 0.14023640751838684, 0.26303982734680176, 0.06840800493955612, 0.15126995742321014, 0.04016212001442909, 0.14498083293437958, 0.0588088184595108, 0.09687456488609314, 0.03619004040956497, 0.9699347615242004, 0.013709325343370438, 0.01599421352148056, 0.9985692501068115, 0.9948550462722778, 0.00418762257322669, 0.9952582716941833, 0.015709932893514633, 0.9158890843391418, 0.06755270808935165, 0.9962224364280701, 0.003012350294739008, 0.9513002634048462, 0.045185256749391556, 0.9932451248168945, 0.999527633190155, 0.9956387877464294, 0.9968712329864502, 0.015198697336018085, 0.5752122402191162, 0.06722500175237656, 0.09586870670318604, 0.08183913677930832, 0.16484740376472473, 0.9594659805297852, 0.01899932511150837, 0.0014614865649491549, 0.010230406187474728, 0.009499662555754185, 0.9955105781555176, 0.9979822635650635, 0.028001759201288223, 0.031113065779209137, 0.9396145343780518, 0.9597784876823425, 0.03884432464838028, 0.7308622002601624, 0.034722305834293365, 0.011962258256971836, 0.02794722281396389, 0.037157103419303894, 0.0770665854215622, 0.014714635908603668, 0.032710954546928406, 0.01460877526551485, 0.018208039924502373, 0.6948984265327454, 0.10446351766586304, 0.05617137998342514, 0.03543118014931679, 0.009912597015500069, 0.063288114964962, 0.017334336414933205, 0.00671006552875042, 0.00691340072080493, 0.004930881317704916, 0.9986859560012817, 0.9414503574371338, 0.031706877052783966, 0.0031041698530316353, 0.011086320504546165, 0.012416679412126541, 0.9994602203369141, 0.003969649784266949, 0.09659481793642044, 0.003969649784266949, 0.7648192644119263, 0.1296752393245697, 0.06365036219358444, 0.930709719657898, 0.005657809786498547, 0.9984028339385986, 0.012676800601184368, 0.02376900054514408, 0.9164270758628845, 0.04753800109028816, 0.5252481698989868, 0.08009395748376846, 0.042758699506521225, 0.06252673268318176, 0.11809732019901276, 0.08512439578771591, 0.02739229053258896, 0.03360173478722572, 0.02483777329325676, 0.00035370246041566133, 0.9929298162460327, 0.01963992975652218, 0.023210827261209488, 0.9570002555847168, 0.3008508086204529, 0.0211318489164114, 0.018629394471645355, 0.13304723799228668, 0.21938195824623108, 0.11413979530334473, 0.013207405805587769, 0.061310168355703354, 0.09842993319034576, 0.020019646733999252, 0.9295735359191895, 0.028403636068105698, 0.023239338770508766, 0.004733939189463854, 0.012910743243992329, 0.0012910743243992329, 0.2614058256149292, 0.12642168998718262, 0.04769774526357651, 0.22191792726516724, 0.03475337475538254, 0.08023495972156525, 0.03565998375415802, 0.11760742962360382, 0.04215735197067261, 0.03218464553356171, 0.04331177845597267, 0.955746591091156, 0.9946302175521851, 0.9969757795333862, 0.9990500807762146, 0.05329504236578941, 0.8496752381324768, 0.07309034466743469, 0.02284073270857334, 0.19033965468406677, 0.7990496158599854, 0.009422754868865013, 0.9762426018714905, 0.022678202018141747, 0.993704080581665, 0.9932291507720947, 0.08895689994096756, 0.09741779416799545, 0.2869653105735779, 0.033256012946367264, 0.13584434986114502, 0.07908585667610168, 0.05664098262786865, 0.10999161750078201, 0.06651202589273453, 0.04559481516480446, 0.11888241767883301, 0.8787975311279297, 0.2169913351535797, 0.7827484607696533, 0.16685466468334198, 0.8168336749076843, 0.016025587916374207, 0.01457935944199562, 0.9423567652702332, 0.030484113842248917, 0.006626981310546398, 0.005301584955304861, 0.9960270524024963, 0.07014989107847214, 0.06803890317678452, 0.6295627951622009, 0.08687544614076614, 0.02581905759871006, 0.0022733760997653008, 0.047253746539354324, 0.005196288228034973, 0.0647912248969078, 0.5946171283721924, 0.09226036816835403, 0.046744391322135925, 0.05104384198784828, 0.051496416330337524, 0.061646997928619385, 0.024277344346046448, 0.03859806805849075, 0.03349044919013977, 0.005754150915890932, 0.2143310159444809, 0.4800121784210205, 0.1169331967830658, 0.18837687373161316, 0.9990088939666748, 0.30417171120643616, 0.308979332447052, 0.26336532831192017, 0.026031656190752983, 0.02028593048453331, 0.02614891529083252, 0.01571280136704445, 0.02181030623614788, 0.011022413149476051, 0.002462453907355666, 0.9930391907691956, 0.9885587692260742, 0.9978815317153931, 0.015726257115602493, 0.9828910827636719, 0.9928520917892456, 0.9992937445640564, 0.9954630732536316, 0.9957480430603027, 0.9938358068466187, 0.24314729869365692, 0.4478932023048401, 0.3088727593421936, 0.8474081158638, 0.12273384630680084, 0.0035605381708592176, 0.0023038776125758886, 0.0023038776125758886, 0.0023038776125758886, 0.001256660558283329, 0.018012134358286858, 0.20811109244823456, 0.6973024606704712, 0.004095209296792746, 0.0018614587606862187, 0.027921881526708603, 0.06068355590105057, 0.992300271987915, 0.002618426224216819, 0.004654979798942804, 0.9926744699478149, 0.9977698922157288, 0.9891296625137329, 0.8787574768066406, 0.0008388570277020335, 0.0336272269487381, 0.029980020597577095, 0.020241985097527504, 0.024253910407423973, 0.003428372321650386, 0.008023849688470364, 0.0008388570277020335, 0.2753461003303528, 0.41015395522117615, 0.2403906136751175, 0.06418056786060333, 0.00630344869568944, 0.003581505035981536, 0.027817225083708763, 0.3977603018283844, 0.44897520542144775, 0.1019098311662674, 0.017678236588835716, 0.002859714673832059, 0.0031196887139230967, 0.998022198677063, 0.9953737258911133, 0.9991180300712585, 0.024712391197681427, 0.012356195598840714, 0.9588407874107361, 0.9991604089736938, 0.9993600845336914, 0.9922782182693481, 0.9799919724464417, 0.008898905478417873, 0.007786542642861605, 0.0033370896708220243, 0.019808486104011536, 0.9780439734458923, 0.9956831932067871, 0.0031912922859191895, 0.006596690509468317, 0.9933620095252991, 0.9970495104789734, 0.004172726534307003, 0.9944998621940613, 0.9642217755317688, 0.00021914130775257945, 0.035500891506671906, 0.9960642457008362, 0.984561562538147, 0.013906236737966537, 0.9949703812599182, 0.9997135996818542, 0.994888424873352, 0.05716026574373245, 0.6263561844825745, 0.27858108282089233, 0.037906281650066376, 0.09768924117088318, 0.6854393482208252, 0.016954330727458, 0.006055118050426245, 0.05893648415803909, 0.020991075783967972, 0.03956010565161705, 0.015339632518589497, 0.038349080830812454, 0.020991075783967972, 0.012731282971799374, 0.9854012727737427, 0.9979802966117859, 0.9925743341445923, 0.9991087317466736, 0.971077024936676, 0.026850055903196335, 0.9943830370903015, 0.9992832541465759, 0.0008316629100590944, 0.9925896525382996, 0.004989977460354567, 0.0016633258201181889, 0.9972550272941589, 0.3514486849308014, 0.3904496729373932, 0.04398606717586517, 0.05967443436384201, 0.03181659057736397, 0.040027324110269547, 0.025218678638339043, 0.02551192045211792, 0.026391640305519104, 0.005424948409199715, 0.058686140924692154, 0.9405643939971924, 0.992323100566864, 0.03218918293714523, 0.2883926033973694, 0.14185696840286255, 0.08346729725599289, 0.10442769527435303, 0.09207603335380554, 0.25751346349716187, 0.9932382702827454, 0.09024830162525177, 0.24818283319473267, 0.1357981562614441, 0.10216788947582245, 0.016389431431889534, 0.40718159079551697, 0.4940290153026581, 0.060391414910554886, 0.28061574697494507, 0.10171185433864594, 0.06266176700592041, 0.9989122748374939, 0.011467359960079193, 0.9874671697616577, 0.988655149936676, 0.010489709675312042, 0.9932579398155212, 0.664733350276947, 0.1316123604774475, 0.03911980241537094, 0.09734462201595306, 0.022744070738554, 0.02001478150486946, 0.024260342121124268, 0.03655342757701874, 0.21863822638988495, 0.0734967589378357, 0.1158987358212471, 0.19699859619140625, 0.10654105246067047, 0.03957517817616463, 0.0640416070818901, 0.11082998663187027, 0.03743070736527443, 0.04572770372033119, 0.7199956178665161, 0.025020819157361984, 0.010353442281484604, 0.08455311506986618, 0.017687130719423294, 0.030628934502601624, 0.0349428690969944, 0.03106032684445381, 0.9985411763191223, 0.02421071007847786, 0.8579395413398743, 0.04842142015695572, 0.0171675942838192, 0.023770514875650406, 0.011885257437825203, 0.011445063166320324, 0.004842142108827829, 0.2657521367073059, 0.1885818988084793, 0.24649767577648163, 0.06843206286430359, 0.057306136935949326, 0.12726229429244995, 0.03800087794661522, 0.008179333060979843, 0.9990652799606323, 0.9978682398796082, 0.9939336180686951, 0.9884710907936096, 0.006750998552888632, 0.10268624126911163, 0.20821501314640045, 0.09273739904165268, 0.1296902298927307, 0.14283691346645355, 0.06253556907176971, 0.25440606474876404, 0.9953112602233887, 0.9992886185646057, 0.9982467293739319, 0.9984717965126038, 0.9981545209884644, 0.9993318915367126, 0.04684387892484665, 0.04959940165281296, 0.003857731120660901, 0.00716435769572854, 0.8927891850471497, 0.9978055357933044, 0.15155231952667236, 0.022732846438884735, 0.06314679980278015, 0.055569183081388474, 0.7059811949729919, 0.048506710678339005, 0.06467561423778534, 0.06647215783596039, 0.8174278736114502, 0.9962050914764404, 0.9948338270187378, 0.9983431100845337, 0.2364044189453125, 0.16114458441734314, 0.018150901421904564, 0.5843704342842102, 0.8668261766433716, 0.010244309902191162, 0.035461071878671646, 0.047281429171562195, 0.03940119221806526, 0.17756764590740204, 0.129277303814888, 0.027163323014974594, 0.01509073469787836, 0.0744476243853569, 0.5764660835266113, 0.31778183579444885, 0.007723863702267408, 0.6741829514503479, 0.06029350683093071, 0.012058701366186142, 0.9164612889289856, 0.01004891749471426, 0.996744692325592, 0.9966630339622498, 0.949795126914978, 0.010151450522243977, 0.014592710882425308, 0.006344656925648451, 0.01649610698223114, 0.0019033970311284065, 0.9887113571166992, 0.010720966383814812, 0.9942880868911743, 0.028134891763329506, 0.027282319962978363, 0.012788587249815464, 0.8764445185661316, 0.05626978352665901, 0.9900115132331848, 0.010397938080132008, 0.9644087553024292, 0.024695103988051414, 0.006366840563714504, 0.9911048412322998, 0.13407190144062042, 0.050729911774396896, 0.7826900482177734, 0.031887371093034744, 0.24597500264644623, 0.10827041417360306, 0.0010353728430345654, 0.08933788537979126, 0.03150491788983345, 0.27171140909194946, 0.23931904137134552, 0.012868205085396767, 0.9989820122718811, 0.11544786393642426, 0.8830748796463013, 0.1818244755268097, 0.03082476742565632, 0.13912799954414368, 0.1341293901205063, 0.06748124957084656, 0.0816439762711525, 0.20494304597377777, 0.01145514938980341, 0.11267701536417007, 0.03603165224194527, 0.013847602531313896, 0.052620887756347656, 0.09693321585655212, 0.8350104093551636, 0.00840391218662262, 0.9258310198783875, 0.049022823572158813, 0.01260586827993393, 0.00420195609331131, 0.9985588788986206, 0.21248355507850647, 0.7464602589607239, 0.015755293890833855, 0.014903656207025051, 0.010219650343060493, 0.9910816550254822, 0.9975649118423462, 0.02885708399116993, 0.038791488856077194, 0.039028022438287735, 0.00875173881649971, 0.8846352100372314, 0.005503159016370773, 0.9942373633384705, 0.18727923929691315, 0.045076292008161545, 0.06735929101705551, 0.23473691940307617, 0.012247143313288689, 0.19765529036521912, 0.25531890988349915, 0.6245304346084595, 0.005699470639228821, 0.007891574874520302, 0.15081676840782166, 0.12297704070806503, 0.0006576312589459121, 0.08724573999643326, 0.8583853244781494, 0.0460321307182312, 0.031083082780241966, 0.004831095226109028, 0.02351740561425686, 0.016407493501901627, 0.01494904886931181, 0.0033726512920111418, 0.0014584438176825643, 0.9977428317070007, 0.037807296961545944, 0.5502073764801025, 0.12209533154964447, 0.1521187722682953, 0.13766305148601532, 0.7909096479415894, 0.07542241364717484, 0.0368061400949955, 0.009292041882872581, 0.0492357537150383, 0.013877724297344685, 0.02184233069419861, 0.002654869109392166, 0.9274351000785828, 0.03785449266433716, 0.011356348171830177, 0.022712696343660355, 0.9983943104743958, 0.02360265888273716, 0.12073668092489243, 0.08139891177415848, 0.3147021234035492, 0.2723383605480194, 0.019063686951994896, 0.11665160208940506, 0.046297524124383926, 0.004992870148271322, 0.1503685712814331, 0.02309414930641651, 0.007184846792370081, 0.0061584399081766605, 0.8131706714630127, 0.9985042214393616, 0.9934548139572144, 0.03281700238585472, 0.8822264671325684, 0.07497607171535492, 0.006946665234863758, 0.0028744821902364492, 0.21528463065624237, 0.14072908461093903, 0.12087702006101608, 0.5218887329101562, 0.0008823140524327755, 0.019726049154996872, 0.9797271490097046, 0.05900038778781891, 0.5780693292617798, 0.046225376427173615, 0.04319971427321434, 0.006723691243678331, 0.2667624354362488, 0.6937788724899292, 0.02206583507359028, 0.030353473499417305, 0.04009144753217697, 0.041334591805934906, 0.06184649467468262, 0.02144426293671131, 0.05159054324030876, 0.03315054997801781, 0.004247414413839579, 0.7233591675758362, 0.2764160931110382, 0.02127034217119217, 0.978435754776001, 0.9976194500923157, 0.13875964283943176, 0.8370339870452881, 0.024008266627788544, 0.1407846212387085, 0.17525336146354675, 0.06289424747228622, 0.158466637134552, 0.11034470796585083, 0.07296627759933472, 0.006490865256637335, 0.1763724684715271, 0.04319782555103302, 0.05326985940337181, 0.18616436421871185, 0.009905061684548855, 0.3459152281284332, 0.31658101081848145, 0.0417790412902832, 0.015873495489358902, 0.07492290437221527, 0.008762169629335403, 0.3029898405075073, 0.29490357637405396, 0.050600405782461166, 0.12374433875083923, 0.0525607131421566, 0.04618971794843674, 0.04202406480908394, 0.03577559068799019, 0.044351931661367416, 0.0068610720336437225, 0.9965305924415588, 0.9929261207580566, 0.9994266629219055, 0.998906135559082, 0.9967433214187622, 0.997189462184906, 0.6784147620201111, 0.06032995879650116, 0.11812304705381393, 0.10551797598600388, 0.0011495195794850588, 0.009513265453279018, 0.013913150876760483, 0.013041101396083832, 0.9963454008102417, 0.04854864627122879, 0.948126494884491, 0.5017533302307129, 0.14954374730587006, 0.06506212055683136, 0.03694663196802139, 0.02775503136217594, 0.0781736671924591, 0.04676903039216995, 0.04221828654408455, 0.019825022667646408, 0.03203543275594711, 0.99361252784729, 0.004412774927914143, 0.20740041136741638, 0.01912202313542366, 0.007354624569416046, 0.011767399497330189, 0.751642644405365, 0.02321985922753811, 0.9752341508865356, 0.01485155988484621, 0.06375303864479065, 0.21697765588760376, 0.33941248059272766, 0.3651310205459595, 0.997741162776947, 0.54318767786026, 0.05378354340791702, 0.04386230558156967, 0.21918098628520966, 0.0715373307466507, 0.0030024792067706585, 0.0654018297791481, 0.8385331034660339, 0.010814746841788292, 0.04225555807352066, 0.010591762140393257, 0.03757288306951523, 0.03188677877187729, 0.028430519625544548, 0.9988889098167419, 0.9622291922569275, 0.03332395479083061, 0.9975515604019165, 0.021269941702485085, 0.021269941702485085, 0.9030057191848755, 0.05220803990960121, 0.8846124410629272, 0.08575894683599472, 0.00759324012324214, 0.0062532564625144005, 0.013176504522562027, 0.0024566364008933306, 0.9777830839157104, 0.021112725138664246, 0.9963275790214539, 0.01233094371855259, 0.01849641650915146, 0.9679791331291199, 0.007767464965581894, 0.3069998025894165, 0.03217949718236923, 0.09320957958698273, 0.03883732482790947, 0.05141322314739227, 0.2844371795654297, 0.07212646305561066, 0.08914090692996979, 0.024042153730988503, 0.9968094229698181, 0.9984703660011292, 0.028096597641706467, 0.9572911858558655, 0.004013799596577883, 0.010034498758614063, 0.9992612600326538, 0.9924765229225159, 0.02804267778992653, 0.08638434112071991, 0.8238745331764221, 0.019017448648810387, 0.005801933351904154, 0.0367455780506134, 0.9973360300064087, 0.7359760999679565, 0.1645045280456543, 0.06540541350841522, 0.03435435891151428, 0.9928960800170898, 0.9894389510154724, 0.007689939811825752, 0.9953585267066956, 0.13202615082263947, 0.009505882859230042, 0.857641875743866, 0.0013832534896209836, 0.01137341745197773, 0.0016906431410461664, 0.9853375554084778, 0.5474279522895813, 0.45248520374298096, 0.9983856081962585, 0.9965912103652954, 0.9961950778961182, 0.012581109069287777, 0.010064887814223766, 0.9775521755218506, 0.9954897165298462, 0.9976410865783691, 0.10659749805927277, 0.0977143719792366, 0.7959280014038086, 0.2110888957977295, 0.019507434219121933, 0.06129024922847748, 0.17134909331798553, 0.2505650818347931, 0.11928532272577286, 0.0013839734019711614, 0.005601797252893448, 0.12831410765647888, 0.0315677747130394, 0.9995343685150146, 0.9897119998931885, 0.9976156949996948, 0.9960436820983887, 0.9988139867782593, 0.9966009259223938, 0.9989117980003357, 0.37968868017196655, 0.13451379537582397, 0.07322008162736893, 0.038809578865766525, 0.04809650406241417, 0.05562380328774452, 0.06432418525218964, 0.09589973837137222, 0.04516379162669182, 0.06471521407365799, 0.9972054958343506, 0.9978017807006836, 0.41384679079055786, 0.09138073772192001, 0.12745901942253113, 0.049179691821336746, 0.06182025745511055, 0.07511918246746063, 0.04852132871747017, 0.0616227462887764, 0.038448382169008255, 0.03258895128965378, 0.9979607462882996, 0.9966495633125305, 0.9967457056045532, 0.9975648522377014, 0.03535447269678116, 0.7652532458305359, 0.0034214004408568144, 0.19616028666496277, 0.9976392984390259, 0.1449321061372757, 0.030456745997071266, 0.09592124819755554, 0.6567454934120178, 0.00945209339261055, 0.015053334645926952, 0.03465767577290535, 0.0003500775492284447, 0.010502326302230358, 0.001750387717038393, 0.9430934190750122, 0.02310171164572239, 0.009512469172477722, 0.014268703758716583, 0.009512469172477722, 0.9957078695297241, 0.908915102481842, 0.013902663253247738, 0.011623538099229336, 0.009572325274348259, 0.00273495027795434, 0.026893677189946175, 0.013218926265835762, 0.009800238534808159, 0.003418687731027603, 0.771028995513916, 0.07055337727069855, 0.039943743497133255, 0.00735256914049387, 0.012410718947649002, 0.03822293132543564, 0.013662219978868961, 0.036658551543951035, 0.010064154863357544, 0.00010429175745230168, 0.45727604627609253, 0.13311117887496948, 0.054765742272138596, 0.03266257420182228, 0.06102979928255081, 0.08031413704156876, 0.0360630638897419, 0.07646621763706207, 0.03785279393196106, 0.030380668118596077, 0.9971746206283569, 0.998762309551239, 0.06374771893024445, 0.03888610750436783, 0.08032212406396866, 0.046535834670066833, 0.05928537994623184, 0.0038248631171882153, 0.6770007610321045, 0.02996142767369747, 0.7095215916633606, 0.06432854384183884, 0.002861401531845331, 0.06072529777884483, 0.03899984434247017, 0.055214449763298035, 0.003073357045650482, 0.042921021580696106, 0.021831434220075607, 0.0006358670070767403, 0.08129703253507614, 0.9171321988105774, 0.014772742986679077, 0.9838646650314331, 0.9987126588821411, 0.005976479034870863, 0.059764787554740906, 0.006972558796405792, 0.9273503422737122, 0.013547656126320362, 0.21563352644443512, 0.05419062450528145, 0.012418684549629688, 0.7044780850410461, 0.960385262966156, 0.037847694009542465, 0.06037091463804245, 0.1633891612291336, 0.11686479300260544, 0.006646338850259781, 0.577123761177063, 0.018277432769536972, 0.05704774335026741, 0.9660928249359131, 0.025877486914396286, 0.0070574963465332985, 0.0022484983783215284, 0.9960848093032837, 0.9835861325263977, 0.01581646129488945, 0.9975618124008179, 0.012996605597436428, 0.9834098219871521, 0.09280521422624588, 0.9054778814315796, 0.40337905287742615, 0.13078029453754425, 0.09148439019918442, 0.04106200858950615, 0.0520118810236454, 0.060665808618068695, 0.04238659143447876, 0.0782385841012001, 0.03911929205060005, 0.060754112899303436, 0.9922751784324646, 0.9922620058059692, 0.9986920356750488, 0.03143375739455223, 0.12573502957820892, 0.005987382028251886, 0.8367366790771484, 0.3513459265232086, 0.016891630366444588, 0.6114770174026489, 0.0191438477486372, 0.9982138276100159, 0.9966683387756348, 0.9915450215339661, 0.9295085072517395, 0.07036120444536209, 0.9983183145523071, 0.9171236157417297, 0.011247742921113968, 0.07094729691743851, 0.9982820153236389, 0.9989927411079407, 0.9961835145950317, 0.9984356760978699, 0.7539024353027344, 0.009548716247081757, 0.07005366683006287, 0.018918951973319054, 0.03993505239486694, 0.01592940092086792, 0.004372776951640844, 0.005309800151735544, 0.0820118710398674, 0.07066957652568817, 0.02838863432407379, 0.8999801278114319, 0.0012080270098522305, 0.1614663302898407, 0.16299371421337128, 0.14957454800605774, 0.12819117307662964, 0.06349553912878036, 0.057495102286338806, 0.11979055404663086, 0.08542441576719284, 0.04342135041952133, 0.028147507458925247, 0.9738224148750305, 0.018405579030513763, 0.006692937575280666, 0.08137864619493484, 0.025698520243167877, 0.06067706272006035, 0.3726285398006439, 0.012849260121583939, 0.4461548626422882, 0.0137910395860672, 0.2062387317419052, 0.7798206210136414, 0.8742034435272217, 0.10515030473470688, 0.009706181474030018, 0.002264775801450014, 0.004853090737015009, 0.0035589332692325115, 0.9945717453956604, 0.999254047870636, 0.9979544281959534, 0.9976640939712524, 0.2149733453989029, 0.0320173054933548, 0.027443405240774155, 0.7249633073806763, 0.021004358306527138, 0.9767026305198669, 0.0022830823436379433, 0.9986467361450195, 0.14209137856960297, 0.03211446851491928, 0.00575636699795723, 0.8198278546333313, 0.733813464641571, 0.027522007003426552, 0.02448178455233574, 0.03256237506866455, 0.041843049228191376, 0.05416394770145416, 0.010560769587755203, 0.0339224711060524, 0.04112299904227257, 0.9962559938430786, 0.998117983341217, 0.009852034971117973, 0.9852034449577332, 0.9976542592048645, 0.0018356104847043753, 0.7001145482063293, 0.06474549323320389, 0.03558604046702385, 0.045561641454696655, 0.014579725451767445, 0.06560876220464706, 0.01544299814850092, 0.03961464762687683, 0.01726546324789524, 0.001438788720406592, 0.9972964525222778, 0.39970681071281433, 0.021208932623267174, 0.4792402982711792, 0.09951883554458618, 0.9952768683433533, 0.2510044574737549, 0.033408768475055695, 0.12398365139961243, 0.09745911508798599, 0.10738050192594528, 0.19478324055671692, 0.05979831889271736, 0.03111402504146099, 0.083758145570755, 0.01734556257724762, 0.9994321465492249, 0.9972116947174072, 0.7783448696136475, 0.1139194443821907, 0.022231249138712883, 0.010550422593951225, 0.006782414857298136, 0.06832654774188995, 0.4854612350463867, 0.2332001030445099, 0.057394564151763916, 0.018241478130221367, 0.0415852814912796, 0.05813479796051979, 0.024956457316875458, 0.05165775120258331, 0.020779423415660858, 0.008592000231146812, 0.4106893837451935, 0.12154634296894073, 0.0583009198307991, 0.06420481204986572, 0.08523742109537125, 0.0719536691904068, 0.05734153836965561, 0.0687803253531456, 0.04258181154727936, 0.019335241988301277, 0.9974997639656067, 0.006608671974390745, 0.9913008213043213, 0.11849015951156616, 0.002683716593310237, 0.08555363863706589, 0.10409567505121231, 0.10799926519393921, 0.16029107570648193, 0.09937883913516998, 0.10303845256567001, 0.09807764738798141, 0.12036062777042389, 0.35829418897628784, 0.0074928440153598785, 0.10157912224531174, 0.03746422007679939, 0.15377359092235565, 0.10123854130506516, 0.04385016858577728, 0.07424727082252502, 0.06062392145395279, 0.06147538125514984, 0.2510223686695099, 0.2118941843509674, 0.030098605901002884, 0.015651274472475052, 0.4912092387676239, 0.9825440049171448, 0.016246790066361427, 0.9432728886604309, 0.0556425042450428, 0.9092397093772888, 0.005952469538897276, 0.08333457261323929, 0.051855627447366714, 0.004714148119091988, 0.054212700575590134, 0.8862597942352295, 0.07850437611341476, 0.268632173538208, 0.007359785493463278, 0.015332886017858982, 0.01410625595599413, 0.5470774173736572, 0.06869132816791534], \"Term\": [\"abdul\", \"able_respond\", \"absence\", \"absence\", \"absence\", \"academic\", \"academic\", \"academic\", \"acquire_new\", \"acquire_new\", \"across_borders\", \"act\", \"act\", \"act\", \"act\", \"act\", \"act\", \"act\", \"activities\", \"activities\", \"activities\", \"activities\", \"activities\", \"activities\", \"activities\", \"activities\", \"activities\", \"activities\", \"actor\", \"adjacent\", \"adjacent\", \"adjacent\", \"adjusting\", \"advancing\", \"aeds\", \"aeds\", \"aeds\", \"aeds\", \"age\", \"age\", \"age\", \"age\", \"age\", \"age\", \"age\", \"age\", \"age_band\", \"agencies\", \"agencies\", \"agencies\", \"agencies\", \"agencies\", \"agencies\", \"agencies\", \"agencies\", \"agencies\", \"agreement\", \"agreement\", \"agreement\", \"agreement\", \"agreement\", \"agreement\", \"agreement\", \"aided\", \"aided\", \"air_force\", \"air_force\", \"air_force\", \"allow\", \"allow\", \"allow\", \"allow\", \"allow\", \"allow\", \"allow\", \"allow\", \"allow\", \"allow\", \"always\", \"always\", \"always\", \"always\", \"always\", \"always\", \"always\", \"always\", \"always\", \"always\", \"amendment\", \"amendment\", \"amendment\", \"amendment_bill\", \"amendment_bill\", \"amendment_section\", \"amendment_section\", \"amendments\", \"amendments\", \"amendments\", \"amongst_things\", \"apologised\", \"apologised\", \"apologised\", \"apparatus\", \"apparatus\", \"applied_learning\", \"appointments\", \"appointments\", \"approximately_million\", \"approximately_million\", \"approximately_million\", \"approximately_million\", \"areas\", \"areas\", \"areas\", \"areas\", \"areas\", \"areas\", \"areas\", \"areas\", \"areas\", \"areas\", \"arthur_fong\", \"asked\", \"asked\", \"asked\", \"asked\", \"asked\", \"asked\", \"asked\", \"asked\", \"asked\", \"asked\", \"asked_deputy\", \"asked_deputy\", \"asked_deputy\", \"asked_deputy\", \"asked_deputy\", \"asked_deputy\", \"asked_deputy\", \"asked_deputy\", \"asked_deputy\", \"assessing_applications\", \"attend_courses\", \"attend_courses\", \"attract_locals\", \"august_chamber\", \"aunt\", \"aunt\", \"aunt\", \"average_monthly\", \"award_tender\", \"banding\", \"banding\", \"banding\", \"banding\", \"basket\", \"bearing_mind\", \"bearing_mind\", \"bearing_mind\", \"bearing_mind\", \"believed\", \"believed\", \"believed\", \"believed\", \"believed\", \"believed\", \"believed\", \"believed\", \"believed\", \"belongs\", \"better_cure\", \"better_cure\", \"better_cure\", \"better_cure\", \"better_cure\", \"better_cure\", \"better_cure\", \"better_cure\", \"better_cure\", \"better_cure\", \"bigger_role\", \"bilateral\", \"bilateral\", \"bill_accordingly\", \"bill_accordingly\", \"bill_accordingly\", \"bill_accordingly\", \"bill_accordingly\", \"bill_accordingly\", \"bill_contains\", \"br_mrs\", \"br_mrs\", \"br_mrs\", \"br_mrs\", \"broadcast\", \"buddhists\", \"buddhists\", \"business_federation\", \"businesses\", \"businesses\", \"businesses\", \"businesses\", \"businesses\", \"businesses\", \"busy\", \"busy\", \"busy\", \"busy\", \"buy_flat\", \"buy_flat\", \"buyer\", \"buyer\", \"buyer\", \"buyer\", \"buyer\", \"buyer\", \"buying\", \"buying\", \"buying\", \"cake_eat\", \"capabilities\", \"capabilities\", \"capabilities\", \"capabilities\", \"capabilities\", \"capabilities\", \"capabilities\", \"capabilities\", \"capabilities\", \"capabilities\", \"capacity\", \"capacity\", \"capacity\", \"capacity\", \"capacity\", \"capacity\", \"capacity\", \"care\", \"care\", \"care\", \"care\", \"care\", \"care_giving\", \"care_giving\", \"care_giving\", \"care_giving\", \"care_giving\", \"careful\", \"careful\", \"careful\", \"careful\", \"careful\", \"careful\", \"careful\", \"cases\", \"cases\", \"cases\", \"cases\", \"cases\", \"cases\", \"cases\", \"cases\", \"cases\", \"casework\", \"cash\", \"cash\", \"cash\", \"cash\", \"cash\", \"cash\", \"cash\", \"cash\", \"ceased\", \"centralised_dishwashing\", \"centralised_dishwashing\", \"charities\", \"charities\", \"charities\", \"charities\", \"cheering\", \"cheering\", \"cheering\", \"cheering\", \"cheering\", \"chefs\", \"child_care\", \"children\", \"chilling\", \"chilling\", \"chilling\", \"chilling\", \"chilling\", \"chilling_effect\", \"chilling_effect\", \"chilling_effect\", \"chilling_effect\", \"chilling_effect\", \"chilling_effect\", \"chinese\", \"chinese\", \"chinese\", \"chinese\", \"choice_mode\", \"choon\", \"christchurch\", \"christchurch\", \"chronic_obstructive\", \"clauses\", \"clauses_inclusive\", \"cleanest\", \"cleanliness\", \"clear\", \"cmc\", \"collaborating\", \"collect\", \"collect\", \"collect\", \"collect\", \"collect\", \"commission_psc\", \"committees\", \"commonly_known\", \"commonly_known\", \"commonly_known\", \"commonly_known\", \"commonly_known\", \"company\", \"company\", \"company\", \"company\", \"company\", \"company\", \"company\", \"comparable\", \"comparable\", \"comparable\", \"comparable\", \"compensation\", \"compensation\", \"compensation\", \"compensation\", \"competitiveness\", \"competitiveness\", \"composition_fine\", \"composition_fine\", \"compromise_safety\", \"compulsory\", \"compulsory\", \"congestion\", \"considerably\", \"consistently_applied\", \"consists\", \"consists\", \"consists\", \"conspicuous\", \"consular_services\", \"consultancy_services\", \"contagion\", \"contagion\", \"contagion\", \"contagion\", \"continued\", \"continued\", \"continued\", \"continued\", \"continued\", \"continued\", \"continued\", \"continued\", \"continued\", \"continued\", \"contract_workers\", \"controller\", \"convenient\", \"convenient\", \"convenient\", \"convenient\", \"convenient\", \"convenient\", \"coordinated\", \"coordinated\", \"coordinated\", \"coordinated\", \"coordinated\", \"cos\", \"cos\", \"cos\", \"cos\", \"cos\", \"cost_incurred\", \"council\", \"council\", \"council\", \"council\", \"council\", \"council\", \"council\", \"council\", \"council\", \"council\", \"counselling_services\", \"counselling_services\", \"counselling_services\", \"counselling_services\", \"countervailing\", \"countervailing\", \"counts\", \"counts\", \"counts\", \"counts\", \"counts\", \"counts\", \"counts\", \"counts\", \"course\", \"course\", \"course\", \"course\", \"course\", \"course\", \"courts\", \"courts\", \"courts\", \"courts\", \"courts\", \"courts_decide\", \"cover\", \"cover\", \"cover\", \"crash\", \"crash\", \"credibility\", \"credibility\", \"cried\", \"criminal_activities\", \"criminal_activities\", \"criminal_activities\", \"crowd\", \"crunch\", \"crunch\", \"crunch\", \"cushion_impact\", \"cybersecurity_threats\", \"date_none\", \"debated\", \"debated\", \"debated\", \"debated\", \"debated\", \"debated\", \"decision_final\", \"decisively\", \"decisively\", \"decisively\", \"decisively\", \"decisively\", \"decisively\", \"decisively\", \"decisively\", \"declining\", \"defence_force\", \"defend\", \"defend\", \"defend\", \"deferred\", \"deferred\", \"deferred\", \"defied\", \"defining\", \"defining\", \"defining\", \"defining\", \"defining\", \"delivers\", \"delivers\", \"demonstrated\", \"demonstrates\", \"depletion\", \"desalination_plants\", \"deterioration\", \"deterioration\", \"deterioration\", \"deterioration\", \"deterioration\", \"developed_countries\", \"developed_countries\", \"developed_countries\", \"developed_countries\", \"developed_countries\", \"developed_countries\", \"developed_countries\", \"developed_countries\", \"developed_countries\", \"developed_countries\", \"devices\", \"devices\", \"devices\", \"devices\", \"devices\", \"devices\", \"devices\", \"devices\", \"devices\", \"difficulties\", \"difficulties\", \"difficulties\", \"difficulties\", \"difficulties\", \"difficulties\", \"digital_economy\", \"digital_economy\", \"digital_economy\", \"disallowed\", \"dispensing\", \"disturbed\", \"documents\", \"documents\", \"documents\", \"dsa_scheme\", \"earning\", \"ecda\", \"ecda\", \"ecda\", \"ecda\", \"ecda\", \"ecda\", \"ecda\", \"ecda\", \"economic_forum\", \"economic_forum\", \"economic_forum\", \"economically_viable\", \"economies\", \"economies\", \"economies\", \"economies\", \"economies\", \"ed\", \"ed\", \"ed\", \"ed\", \"edb_ie\", \"editor\", \"editor\", \"effected\", \"effected\", \"effected\", \"effected\", \"effected\", \"effected\", \"effected\", \"effected\", \"effected\", \"effected\", \"egg\", \"egg\", \"egg\", \"egg\", \"egg\", \"egg\", \"egg\", \"egg\", \"egg\", \"eipic\", \"eipic\", \"elected\", \"elected\", \"elected\", \"elected\", \"elected\", \"elections\", \"electives\", \"electives\", \"electoral\", \"electoral\", \"electoral_process\", \"electrical\", \"electro\", \"electro\", \"embraced\", \"embraced\", \"embraced\", \"embraced\", \"embraced\", \"endure\", \"endure\", \"endure\", \"enrolment\", \"ensures\", \"ensures\", \"ensures\", \"ensures\", \"ensures\", \"ensures\", \"ensures\", \"ensures\", \"ensures\", \"ensures\", \"environmental\", \"environmental\", \"environmental\", \"environmental\", \"envision\", \"epidemic\", \"epidemic\", \"epidemic\", \"epidemic\", \"epidemic\", \"epidemic\", \"epidemic\", \"epidemic\", \"epidemic\", \"epidemic\", \"establishments\", \"evaluates\", \"evaluates\", \"evaluates\", \"evaluates\", \"evenings\", \"evenings\", \"eventual\", \"eventual\", \"eventual\", \"eventual\", \"eventual\", \"eventual\", \"eventual\", \"eventual\", \"eventual\", \"eventual\", \"evolution\", \"evolution\", \"evolution\", \"evolve\", \"except\", \"except\", \"except\", \"except\", \"except\", \"except\", \"except\", \"except\", \"except\", \"except\", \"exchange_views\", \"exemption\", \"expected_increase\", \"explicitly\", \"exploitative\", \"exploitative\", \"explore_possibility\", \"extra_interest\", \"fabric\", \"fair_reasonable\", \"families\", \"family\", \"family\", \"family\", \"family\", \"family\", \"family\", \"fan\", \"fan\", \"fan\", \"fan\", \"fan\", \"fan\", \"fare_formula\", \"fate\", \"fate\", \"fate\", \"fate\", \"feelings\", \"feelings\", \"feelings\", \"feelings\", \"feelings\", \"feelings\", \"feelings\", \"fertile\", \"fertile\", \"fertile\", \"fertile\", \"fertile\", \"figure\", \"filming\", \"filming\", \"filming\", \"filming\", \"filming\", \"filming\", \"filter\", \"financial\", \"financial\", \"financial\", \"financial\", \"financial\", \"financial\", \"financial\", \"financial\", \"fine_tune\", \"fine_tune\", \"fine_tune\", \"fine_tune\", \"fire_fighting\", \"firstly\", \"firstly\", \"firstly\", \"firstly\", \"firstly\", \"firstly\", \"firstly\", \"firstly\", \"firstly\", \"firstly\", \"fong_asked\", \"food_sources\", \"foreign_affairs\", \"foreign_affairs\", \"forged\", \"forged\", \"forged\", \"forged\", \"forged\", \"forged\", \"forged\", \"forged\", \"foster_culture\", \"gain_experience\", \"gaming\", \"garbage\", \"general_elections\", \"genuinely\", \"gets\", \"gets\", \"gets\", \"gets\", \"gets\", \"gets\", \"gets\", \"gets\", \"gets\", \"give_assurance\", \"give_assurance\", \"global_trade\", \"global_trade\", \"global_trade\", \"global_trade\", \"global_trade\", \"global_trade\", \"global_trade\", \"good_faith\", \"good_faith\", \"good_faith\", \"good_faith\", \"good_faith\", \"good_faith\", \"good_faith\", \"good_faith\", \"good_faith\", \"good_faith\", \"government_agencies\", \"government_agencies\", \"government_agencies\", \"government_agencies\", \"government_agencies\", \"government_agencies\", \"government_agencies\", \"government_agencies\", \"government_agencies\", \"government_agencies\", \"gpa\", \"granular\", \"granular\", \"granular\", \"grassroots_leaders\", \"grassroots_leaders\", \"green_spaces\", \"greening\", \"guarantees\", \"guarantees\", \"guarantees\", \"guarantees\", \"guarantees\", \"guess\", \"guess\", \"guiding_principles\", \"guiding_principles\", \"guilty_offence\", \"gyms\", \"gyms\", \"habit\", \"habits\", \"habits\", \"habits\", \"habits\", \"habits\", \"hail\", \"hail\", \"hail\", \"harassed\", \"hard\", \"hard_truths\", \"harnessing_technology\", \"healthcare\", \"healthcare\", \"healthcare\", \"healthcare\", \"healthcare\", \"healthcare\", \"healthcare\", \"healthcare\", \"healthcare\", \"healthcare_financing\", \"healthcare_professionals\", \"healthcare_professionals\", \"healthcare_professionals\", \"healthcare_professionals\", \"healthcare_providers\", \"heartened\", \"heartened\", \"heartened\", \"heartened\", \"heartened\", \"heartened\", \"heartened\", \"heartened\", \"heartened\", \"heartening\", \"heartening\", \"helped\", \"helped\", \"helped\", \"helped\", \"helped\", \"helped\", \"helped\", \"helped\", \"helped\", \"helped\", \"high_quality\", \"hoping\", \"hoping\", \"hoping\", \"hoping\", \"hoping\", \"hoping\", \"hoping\", \"hoping\", \"hougang\", \"hougang\", \"hougang\", \"hougang\", \"house_counsel\", \"house_counsel\", \"house_counsel\", \"house_counsel\", \"house_counsel\", \"house_counsel\", \"house_counsel\", \"house_counsel\", \"house_counsel\", \"house_counsel\", \"housekeeping\", \"housing_type\", \"hpv\", \"hpv\", \"hpv\", \"huge\", \"huge\", \"huge\", \"huge\", \"hup\", \"ibrahim_marine\", \"illegitimate\", \"illegitimate\", \"illegitimate\", \"important_thing\", \"important_thing\", \"important_thing\", \"important_thing\", \"important_thing\", \"important_thing\", \"important_thing\", \"important_thing\", \"important_thing\", \"important_thing\", \"incidents\", \"incidents\", \"incidents\", \"incidents\", \"incidents\", \"incidents\", \"include\", \"include\", \"include\", \"include\", \"include\", \"inclusion\", \"inconsistency\", \"inconsistency\", \"inconsistency\", \"inconsistency\", \"inconsistency\", \"inconsistency\", \"inconsistency\", \"inconsistency\", \"inconsistency\", \"inconsistency\", \"increased\", \"increased\", \"increased\", \"increased\", \"increased\", \"increased\", \"increased\", \"increased\", \"increased\", \"increased\", \"increasing\", \"increasing\", \"increasing\", \"increasing\", \"increasing\", \"industrial\", \"industrial\", \"industrial\", \"industry_stakeholders\", \"industry_stakeholders\", \"industry_stakeholders\", \"industry_stakeholders\", \"industry_stakeholders\", \"industry_stakeholders\", \"industry_transformation\", \"information_asymmetry\", \"information_asymmetry\", \"information_asymmetry\", \"information_asymmetry\", \"information_asymmetry\", \"information_asymmetry\", \"information_asymmetry\", \"information_asymmetry\", \"information_asymmetry\", \"information_asymmetry\", \"initially\", \"initially\", \"initially\", \"initially\", \"initially\", \"initially\", \"initially\", \"injecting\", \"inoculate\", \"inoculate\", \"inoculate\", \"inoculate\", \"inoculate\", \"inoculate\", \"inoculate\", \"inoculate\", \"insert\", \"insert\", \"instinctive\", \"insurers\", \"insurers\", \"insurers\", \"insurers\", \"intensifying\", \"international_norms\", \"international_norms\", \"international_norms\", \"international_norms\", \"international_norms\", \"international_norms\", \"international_norms\", \"international_norms\", \"intimate\", \"intimate\", \"intoxication\", \"introduction\", \"introduction\", \"introduction\", \"introduction\", \"introduction\", \"introduction\", \"introduction\", \"investigation_bureau\", \"investigation_bureau\", \"investigation_bureau\", \"investigation_bureau\", \"investigative\", \"investigative\", \"investigative\", \"investigative\", \"investigative\", \"investigative_powers\", \"involvement\", \"isolated\", \"isolated\", \"isolated\", \"jamal\", \"john\", \"john\", \"john\", \"john\", \"john\", \"judgment\", \"judgment\", \"keat_hong\", \"key_role\", \"khatib\", \"khatib\", \"khatib\", \"khatib\", \"kid\", \"knock_effect\", \"knowingly\", \"knowingly\", \"knowingly\", \"knowingly\", \"knowingly\", \"knowingly\", \"knowingly\", \"knowingly\", \"knowingly\", \"knowingly\", \"kwang_nee\", \"labour_court\", \"labour_court\", \"labour_court\", \"labour_force\", \"lawyer\", \"lawyer\", \"lawyer\", \"leaders\", \"leaders\", \"legal_profession\", \"legally\", \"legally\", \"legally\", \"legally\", \"legally\", \"legally\", \"legislative_changes\", \"legislative_changes\", \"legislative_changes\", \"legislative_framework\", \"lessen\", \"lessen\", \"lessen\", \"level\", \"level\", \"level\", \"level\", \"level\", \"level\", \"level\", \"li\", \"li\", \"li\", \"li\", \"li\", \"li\", \"li\", \"li\", \"li\", \"li\", \"liberalise\", \"lifetime_wages\", \"lifetime_wages\", \"lift\", \"light_recent\", \"like\", \"like\", \"like\", \"like\", \"like\", \"like\", \"like\", \"like\", \"likely\", \"likely\", \"likely\", \"likely\", \"likely\", \"likely\", \"likely\", \"likely\", \"likely\", \"likely\", \"line_sight\", \"lions\", \"liquor\", \"liquor\", \"listings\", \"littering\", \"little_india\", \"local_artistes\", \"locations\", \"locations\", \"locations\", \"locations\", \"locations\", \"locations\", \"locations\", \"locations\", \"locations\", \"locations\", \"made_easier\", \"made_easier\", \"made_easier\", \"made_easier\", \"made_easier\", \"made_easier\", \"made_easier\", \"made_easier\", \"made_easier\", \"made_easier\", \"mainland\", \"make_informed\", \"make_informed\", \"make_informed\", \"make_informed\", \"make_informed\", \"make_informed\", \"make_informed\", \"make_informed\", \"make_informed\", \"malay_language\", \"man_street\", \"man_street\", \"man_street\", \"man_street\", \"man_street\", \"manager\", \"mandate\", \"mandate\", \"mandate\", \"mandates\", \"mandates\", \"mandates\", \"manipulated\", \"manipulated\", \"manipulated\", \"manipulated\", \"manipulated\", \"manipulated\", \"manipulated\", \"manipulated\", \"manipulated\", \"mapletree\", \"market_conditions\", \"market_conditions\", \"market_conditions\", \"marry\", \"marry\", \"material\", \"material\", \"material\", \"material\", \"material\", \"material\", \"materials\", \"materials\", \"materials\", \"matters_concerning\", \"maximised\", \"may_differ\", \"may_differ\", \"may_differ\", \"mda\", \"mda\", \"measures_introduced\", \"measures_introduced\", \"measures_introduced\", \"measures_place\", \"measures_taken\", \"measures_taken\", \"measures_taken\", \"measures_taken\", \"measures_taken\", \"measures_taken\", \"measures_taken\", \"measures_taken\", \"measures_taken\", \"medicine\", \"medicine\", \"medicine\", \"medicine\", \"medicine\", \"medicine\", \"medicine\", \"members_parliament\", \"members_parliament\", \"members_parliament\", \"members_parliament\", \"members_parliament\", \"members_parliament\", \"members_parliament\", \"members_parliament\", \"members_parliament\", \"members_parliament\", \"memorial\", \"memorial\", \"mention\", \"mention\", \"mention\", \"micro_manage\", \"might\", \"might\", \"might\", \"minimally\", \"minimally\", \"minimally\", \"minimally\", \"minimise_impact\", \"minimise_impact\", \"minister_trade\", \"minister_trade\", \"minister_trade\", \"minister_trade\", \"ministries\", \"ministries\", \"ministries\", \"misconstrued\", \"misconstrued\", \"misconstrued\", \"misconstrued\", \"misconstrued\", \"misconstrued\", \"misconstrued\", \"misconstrued\", \"misconstrued\", \"mistrust\", \"mistrust\", \"mistrust\", \"mixed_use\", \"modernise\", \"mokhtar\", \"mokhtar\", \"moment\", \"moment\", \"moment\", \"monetary_authority\", \"monetised\", \"monetised\", \"monetised\", \"monitors\", \"mortgage_payments\", \"motorised\", \"motorised_pmds\", \"mr_chen\", \"mr_chen\", \"mr_chen\", \"mr_chen\", \"mr_chen\", \"mr_chen\", \"mr_lim\", \"mr_lim\", \"mr_lim\", \"mr_lim\", \"mr_lim\", \"mrs_lina\", \"ms_grace\", \"ms_jessica\", \"ms_jessica\", \"ms_jessica\", \"multifaceted\", \"multifaceted\", \"multiple\", \"multiple\", \"multiple\", \"multiple\", \"multiple\", \"multiple\", \"multiple\", \"multiple\", \"multiple\", \"multiple\", \"myanmar\", \"myanmar\", \"myanmar\", \"myanmar\", \"myanmar\", \"myanmar\", \"myanmar\", \"myanmar\", \"myanmar\", \"myanmar\", \"namely\", \"national_council\", \"national_council\", \"national_council\", \"national_council\", \"national_council\", \"nationalist\", \"nations\", \"nations\", \"nations\", \"nations\", \"nations\", \"nationwide\", \"nationwide\", \"nationwide\", \"navies\", \"nea\", \"nea\", \"nea\", \"nea\", \"needs\", \"needs\", \"needs\", \"needs\", \"needs\", \"needs\", \"needs\", \"needs\", \"needs\", \"needs\", \"neglect\", \"negligence\", \"negligence\", \"negligence\", \"neither\", \"neither\", \"neither\", \"neither\", \"neither\", \"neither\", \"neither\", \"neither\", \"neither\", \"neither\", \"new\", \"new\", \"new\", \"new\", \"new\", \"new\", \"new_york\", \"new_york\", \"new_york\", \"new_york\", \"new_york\", \"new_york\", \"new_york\", \"new_york\", \"new_york\", \"new_york\", \"next_chapter\", \"next_chapter\", \"nii\", \"noisy\", \"non_discriminatory\", \"nordic_countries\", \"nordic_countries\", \"nordic_countries\", \"nordic_countries\", \"notable\", \"notable\", \"notable\", \"nothing_else\", \"nothing_else\", \"november_last\", \"ntuc_snef\", \"numerous\", \"numerous\", \"numerous\", \"numerous\", \"numerous\", \"numerous\", \"numerous\", \"numerous\", \"numerous\", \"numerous\", \"occupational\", \"occupational\", \"office\", \"office\", \"officers\", \"officers\", \"officers\", \"officers_deployed\", \"officers_deployed\", \"officers_deployed\", \"officers_deployed\", \"officers_deployed\", \"officers_trained\", \"official\", \"official\", \"official\", \"official\", \"official\", \"official\", \"official\", \"official\", \"official\", \"one_minute\", \"one_minute\", \"one_minute\", \"one_minute\", \"one_minute\", \"one_minute\", \"one_minute\", \"one_minute\", \"one_minute\", \"one_minute\", \"opposite\", \"opposite\", \"opposite\", \"opposite\", \"options\", \"ordered_stand\", \"ordered_stand\", \"ordered_stand\", \"ordered_stand\", \"ordered_stand\", \"ordered_stand\", \"ordered_stand\", \"ordered_stand\", \"ordered_stand\", \"ordered_stand\", \"organ_failure\", \"pa_scheme\", \"pabs\", \"painstakingly\", \"painstakingly\", \"palatable\", \"paper\", \"para_athletes\", \"paramedic\", \"parental_leave\", \"parliamentary\", \"parliamentary\", \"parliamentary\", \"part\", \"part\", \"part\", \"part\", \"part\", \"part\", \"part\", \"part\", \"partly_due\", \"partly_due\", \"partly_due\", \"partly_due\", \"partly_due\", \"partly_due\", \"partnership_ppp\", \"patterns\", \"patterns\", \"patterns\", \"pause\", \"pent_demand\", \"per_capita\", \"per_capita\", \"per_capita\", \"per_capita\", \"per_capita\", \"per_capita\", \"per_capita\", \"per_capita\", \"per_capita\", \"personal_mobility\", \"personal_mobility\", \"personal_mobility\", \"personal_mobility\", \"personal_mobility\", \"personal_mobility\", \"pertaining\", \"pertaining\", \"pertaining\", \"pertaining\", \"pertaining\", \"pertaining\", \"pertaining\", \"phase_development\", \"phmca\", \"phone_numbers\", \"physical_infrastructure\", \"physical_infrastructure\", \"physical_infrastructure\", \"plaintiff\", \"plastic\", \"plastics\", \"plethora\", \"plethora\", \"plethora\", \"plethora\", \"pointers\", \"pointers\", \"police_investigate\", \"police_investigate\", \"police_officers\", \"police_officers\", \"policeman\", \"policy\", \"policy\", \"political_party\", \"political_party\", \"political_party\", \"politically\", \"pollution\", \"pollution\", \"pool_resources\", \"population\", \"positive_step\", \"practicable\", \"practicable\", \"practicable\", \"practicable\", \"pragmatic\", \"pragmatic\", \"pragmatic\", \"pragmatic\", \"pragmatic\", \"pragmatic\", \"pragmatic\", \"pragmatic\", \"pragmatic\", \"pragmatic\", \"precious_metals\", \"precious_metals\", \"premised\", \"priced\", \"private_hire\", \"proactively_identify\", \"proactively_identify\", \"problems_faced\", \"proc_text\", \"procedure\", \"procedure\", \"procedure\", \"procedure\", \"procurement_process\", \"product\", \"product\", \"product\", \"product\", \"product\", \"product\", \"product\", \"product\", \"product\", \"product\", \"professional_engineers\", \"professional_engineers\", \"profiteer\", \"progress\", \"progress\", \"progress\", \"progress\", \"progress\", \"progress\", \"progress\", \"progressivity\", \"prohibitive\", \"prohibitive\", \"prohibitive\", \"prohibitive\", \"prohibitive\", \"prohibitive\", \"projects\", \"projects\", \"projects\", \"projects\", \"projects\", \"proposes\", \"proposing\", \"proposing\", \"prosecutorial\", \"prosecutorial\", \"protectionist\", \"provide\", \"provide\", \"provide\", \"provide\", \"provide\", \"provide\", \"provide\", \"provide_details\", \"provide_details\", \"provide_details\", \"provide_details\", \"provide_details\", \"provide_details\", \"provide_details\", \"provide_details\", \"provide_details\", \"provide_details\", \"provisions_bill\", \"provisions_bill\", \"provisions_bill\", \"provisions_bill\", \"provisions_bill\", \"provisions_bill\", \"provisions_bill\", \"provisions_bill\", \"provisions_bill\", \"pub\", \"public\", \"public\", \"public\", \"public\", \"public\", \"public\", \"public\", \"public\", \"public_discourse\", \"public_discourse\", \"public_discourse\", \"public_discourse\", \"public_discourse\", \"public_discourse\", \"public_discourse\", \"public_discourse\", \"purchase\", \"pure\", \"purposes\", \"quality_accessibility\", \"quay\", \"quay\", \"quay\", \"quay\", \"quay\", \"quay\", \"quay\", \"quay\", \"read_follows\", \"read_third\", \"reader\", \"real_wages\", \"recommending\", \"recordings\", \"red\", \"red\", \"red\", \"red\", \"red\", \"redistributive\", \"reduction\", \"reduction\", \"reduction\", \"reduction\", \"reduction\", \"refrigerator\", \"refrigerator\", \"refrigerator\", \"refrigerator\", \"refunds\", \"refused\", \"regime\", \"region\", \"region\", \"region\", \"region\", \"regular\", \"regular\", \"regular\", \"regular\", \"regular\", \"regulatory_oversight\", \"regulatory_oversight\", \"regulatory_oversight\", \"regulatory_oversight\", \"regulatory_oversight\", \"regulatory_oversight\", \"relations\", \"relations\", \"relations\", \"relatively\", \"relatively\", \"relatively\", \"relatively\", \"release_details\", \"remarked\", \"remembered\", \"remembered\", \"remembered\", \"remembered\", \"remembered\", \"remembered\", \"remote\", \"remote\", \"rename\", \"report_suspicious\", \"report_suspicious\", \"report_suspicious\", \"report_suspicious\", \"report_suspicious\", \"reported_thestraits\", \"required_undergo\", \"required_undergo\", \"required_undergo\", \"reservist\", \"reservist\", \"resident_workforce\", \"resident_workforce\", \"resident_workforce\", \"resident_workforce\", \"resign\", \"resign\", \"resign\", \"resign\", \"resign\", \"resign\", \"resign\", \"resign\", \"resigned\", \"resisted\", \"resisted\", \"respect\", \"respect\", \"respect\", \"respect\", \"respect\", \"respect\", \"respect\", \"respect\", \"respect\", \"respect\", \"responsibly\", \"responsibly\", \"responsibly\", \"responsibly\", \"revamped\", \"revamped\", \"revamped\", \"revamped\", \"revamped\", \"righteous\", \"rigorous\", \"rigorous\", \"rigorous\", \"rigorous\", \"rigorous\", \"rigours\", \"risks_posed\", \"roses\", \"roses\", \"roses\", \"roses\", \"roses\", \"safe\", \"safe\", \"safe_environment\", \"safe_environment\", \"safe_environment\", \"safe_environment\", \"safe_environment\", \"safe_environment\", \"safe_environment\", \"safety_security\", \"safety_security\", \"safety_security\", \"safety_security\", \"safety_security\", \"safety_security\", \"safety_security\", \"said_earlier\", \"said_earlier\", \"said_earlier\", \"said_earlier\", \"said_earlier\", \"said_earlier\", \"said_earlier\", \"said_earlier\", \"said_earlier\", \"sanctioned\", \"savvy\", \"savvy\", \"savvy\", \"savvy\", \"savvy\", \"say_oh\", \"say_oh\", \"say_oh\", \"say_oh\", \"say_oh\", \"say_oh\", \"say_oh\", \"say_oh\", \"says\", \"says\", \"says\", \"says\", \"scheme_wts\", \"school\", \"school\", \"school\", \"school\", \"school\", \"school\", \"school\", \"school\", \"school\", \"science\", \"science\", \"science\", \"science\", \"science\", \"sdl\", \"seawater\", \"section_act\", \"section_act\", \"section_act\", \"section_act\", \"section_act\", \"sectoral\", \"sectoral\", \"sectoral\", \"sectoral\", \"sectoral\", \"securing\", \"securing\", \"sedition_act\", \"sedition_act\", \"sedition_act\", \"sedition_act\", \"sedition_act\", \"sedition_act\", \"seed_funding\", \"seed_funding\", \"seed_funding\", \"seed_funding\", \"seed_funding\", \"seed_funding\", \"seed_funding\", \"seed_funding\", \"seed_funding\", \"seed_funding\", \"seeking_redress\", \"seeking_redress\", \"seminars\", \"seminars\", \"seniority_based\", \"sense\", \"sense\", \"sense\", \"services\", \"services\", \"services\", \"services\", \"services\", \"services\", \"services\", \"services\", \"services\", \"services\", \"sessions\", \"sessions\", \"sessions\", \"sessions\", \"sessions\", \"sessions\", \"sessions\", \"sessions\", \"sets\", \"sets\", \"sets\", \"sets\", \"sets\", \"sets\", \"sets\", \"sets\", \"sets\", \"sets\", \"severe\", \"sfma\", \"sgsecure\", \"siew_kum\", \"simtech\", \"simulated\", \"singh\", \"singh\", \"singh\", \"singh\", \"singh\", \"singh\", \"singh\", \"singh\", \"single_session\", \"singular\", \"singular\", \"sir_notwithstanding\", \"sir_notwithstanding\", \"sir_notwithstanding\", \"sir_notwithstanding\", \"sir_notwithstanding\", \"sir_notwithstanding\", \"sir_notwithstanding\", \"sir_notwithstanding\", \"sir_notwithstanding\", \"sir_notwithstanding\", \"situation_rakhine\", \"six_month\", \"six_month\", \"six_month\", \"six_month\", \"six_month\", \"six_month\", \"size\", \"size\", \"skip\", \"skip\", \"skip\", \"skip\", \"skip\", \"sleeping\", \"social_cohesion\", \"social_cohesion\", \"social_cohesion\", \"social_cohesion\", \"social_cohesion\", \"social_cohesion\", \"social_cohesion\", \"sole\", \"sole\", \"sole\", \"sole\", \"sole\", \"sole\", \"sole\", \"sombre\", \"south_east\", \"south_east\", \"spaces\", \"specialises\", \"specialises\", \"specialises\", \"specialises\", \"speech\", \"speech\", \"speech\", \"speech\", \"speech\", \"speech\", \"speeches\", \"speeches\", \"springboard\", \"standalone\", \"standalone\", \"standalone\", \"standards\", \"standards\", \"standards\", \"standards\", \"standards\", \"standards\", \"standards\", \"standards\", \"standards\", \"standards\", \"stated_earlier\", \"stayed\", \"steady_state\", \"steady_state\", \"steady_state\", \"steady_state\", \"stepped_enforcement\", \"sterling\", \"stopping\", \"stopping\", \"stopping\", \"stopping\", \"stopping\", \"stopping\", \"strata_society\", \"strengthens\", \"strengthens\", \"strengthens\", \"strengthens\", \"strictly\", \"strike_balance\", \"strike_balance\", \"strive\", \"student\", \"student\", \"student\", \"students\", \"students\", \"students\", \"students\", \"study_conducted\", \"study_conducted\", \"stunning\", \"sub_regional\", \"subsidising\", \"subway\", \"subway\", \"subway\", \"suitable\", \"sums\", \"supplement_scheme\", \"supplement_scheme\", \"supplement_scheme\", \"support_bill\", \"support_bill\", \"support_bill\", \"support_bill\", \"support_bill\", \"support_bill\", \"support_bill\", \"support_bill\", \"support_bill\", \"support_bill\", \"supported\", \"surgeries\", \"surgery\", \"survey_showed\", \"sustainable_development\", \"symptom\", \"syrian\", \"systemic\", \"systemic\", \"systemic\", \"systemic\", \"systemic\", \"systemic\", \"systemic\", \"systemic\", \"systemic\", \"systemic\", \"table_shows\", \"tabled\", \"take_account\", \"take_account\", \"take_account\", \"take_account\", \"take_account\", \"take_account\", \"take_account\", \"take_account\", \"take_account\", \"take_account\", \"takeaways\", \"tale\", \"tax_credits\", \"taxi_driver\", \"technology\", \"technology\", \"technology\", \"technology\", \"technology_adoption\", \"telecast\", \"telecast\", \"telecast\", \"telecast\", \"telecast\", \"telecast\", \"telecast\", \"telecast\", \"telecast\", \"telecast\", \"telling\", \"telling\", \"telling\", \"telling\", \"telling\", \"terror_threats\", \"think\", \"think\", \"think\", \"think\", \"think\", \"think\", \"think\", \"think\", \"think\", \"thinking\", \"thinking\", \"thinking\", \"thinking\", \"thinking\", \"thinking\", \"thinking\", \"thinking\", \"thinking\", \"thinking\", \"time_frame\", \"time_frame\", \"time_frame\", \"time_frame\", \"time_frame\", \"time_frame\", \"time_frame\", \"time_frame\", \"time_frame\", \"time_frame\", \"timeframe\", \"timely\", \"title\", \"title\", \"title\", \"title\", \"title\", \"title\", \"title\", \"title\", \"toilet\", \"toilet\", \"toilet\", \"toilet\", \"toilet\", \"toilet\", \"toilet\", \"toilet\", \"toilet\", \"toilet\", \"tonnes\", \"tonnes\", \"touch\", \"touch\", \"tourism_industry\", \"trans_boundary\", \"trans_boundary\", \"trans_boundary\", \"trans_boundary\", \"transferred\", \"transferred\", \"transferred\", \"transferred\", \"transferred\", \"transformative\", \"transformative\", \"trends\", \"trends\", \"trends\", \"trends\", \"trends\", \"trends\", \"trends\", \"tries\", \"tries\", \"tries\", \"ttsh\", \"ttsh\", \"tunnels\", \"tunnels\", \"tweak\", \"twenty\", \"twenty\", \"two_cuts\", \"two_cuts\", \"two_examples\", \"two_examples\", \"two_examples\", \"two_examples\", \"two_examples\", \"two_examples\", \"two_examples\", \"two_examples\", \"two_examples\", \"two_examples\", \"uavs\", \"unattainable\", \"unavoidable\", \"undermined\", \"undermined\", \"undermined\", \"undermined\", \"undermines\", \"undermines\", \"undermines\", \"undermines\", \"underwriting\", \"uneven\", \"unlock\", \"unscathed\", \"unscathed\", \"unsustainable\", \"untoward\", \"untoward\", \"untoward\", \"unwelcome\", \"updates\", \"ups_downs\", \"urban_landscape\", \"usage\", \"usage\", \"usage\", \"usage\", \"usage\", \"usage\", \"usage\", \"usage\", \"usage\", \"usage_patterns\", \"usage_patterns\", \"usage_patterns\", \"usage_patterns\", \"used\", \"used\", \"used\", \"used\", \"used\", \"used\", \"used\", \"used\", \"used\", \"used\", \"vary_depending\", \"vary_depending\", \"vary_depending\", \"venture_overseas\", \"venture_overseas\", \"venture_overseas\", \"venture_overseas\", \"venture_overseas\", \"venture_overseas\", \"video\", \"video\", \"video\", \"views_expressed\", \"views_expressed\", \"views_expressed\", \"views_expressed\", \"views_expressed\", \"views_expressed\", \"vii\", \"virtual_reality\", \"virtuous\", \"voices\", \"volatile\", \"volatile\", \"volatile\", \"volatile\", \"voluntary_mediation\", \"voluntary_mediation\", \"voluntary_mediation\", \"voters\", \"walk\", \"walk\", \"walk\", \"walk\", \"want\", \"want\", \"want\", \"want\", \"want\", \"want\", \"want\", \"want\", \"want\", \"watched\", \"watches\", \"water_rationing\", \"water_rationing\", \"waves\", \"waves\", \"way\", \"way\", \"way\", \"way\", \"way\", \"way\", \"way\", \"way\", \"way\", \"way\", \"without_amendment\", \"women\", \"women\", \"women\", \"women\", \"women_girls\", \"work\", \"work\", \"work\", \"work\", \"work\", \"work\", \"work\", \"work\", \"work\", \"work\", \"workers_party\", \"workplace_fatality\", \"world\", \"world\", \"world\", \"world\", \"world\", \"world\", \"would\", \"would\", \"would\", \"would\", \"would\", \"would\", \"would\", \"would\", \"would\", \"would\", \"would_like\", \"would_like\", \"would_like\", \"would_like\", \"would_like\", \"would_like\", \"would_like\", \"would_like\", \"would_like\", \"would_like\", \"wounded\", \"xenophobia\", \"xenophobia\", \"year\", \"year\", \"year\", \"year\", \"year\", \"year\", \"year\", \"year\", \"year\", \"year\", \"years\", \"years\", \"years\", \"years\", \"years\", \"years\", \"years\", \"years\", \"years\", \"years\", \"years_old\", \"years_old\", \"years_old\", \"years_old\", \"years_old\", \"yesterday\", \"yesterday\", \"ying\", \"ying\", \"young_children\", \"young_children\", \"young_children\", \"younger_ones\", \"younger_ones\", \"younger_ones\", \"younger_ones\", \"youth\", \"youth\", \"youth\", \"youth\", \"youth\", \"youth\", \"youth\"]}, \"R\": 30, \"lambda.step\": 0.01, \"plot.opts\": {\"xlab\": \"PC1\", \"ylab\": \"PC2\"}, \"topic.order\": [8, 10, 6, 2, 7, 9, 1, 5, 4, 3]};\n",
       "\n",
       "function LDAvis_load_lib(url, callback){\n",
       "  var s = document.createElement('script');\n",
       "  s.src = url;\n",
       "  s.async = true;\n",
       "  s.onreadystatechange = s.onload = callback;\n",
       "  s.onerror = function(){console.warn(\"failed to load library \" + url);};\n",
       "  document.getElementsByTagName(\"head\")[0].appendChild(s);\n",
       "}\n",
       "\n",
       "if(typeof(LDAvis) !== \"undefined\"){\n",
       "   // already loaded: just create the visualization\n",
       "   !function(LDAvis){\n",
       "       new LDAvis(\"#\" + \"ldavis_el4733165887521847154599360\", ldavis_el4733165887521847154599360_data);\n",
       "   }(LDAvis);\n",
       "}else if(typeof define === \"function\" && define.amd){\n",
       "   // require.js is available: use it to load d3/LDAvis\n",
       "   require.config({paths: {d3: \"https://cdnjs.cloudflare.com/ajax/libs/d3/3.5.5/d3.min\"}});\n",
       "   require([\"d3\"], function(d3){\n",
       "      window.d3 = d3;\n",
       "      LDAvis_load_lib(\"https://cdn.rawgit.com/bmabey/pyLDAvis/files/ldavis.v1.0.0.js\", function(){\n",
       "        new LDAvis(\"#\" + \"ldavis_el4733165887521847154599360\", ldavis_el4733165887521847154599360_data);\n",
       "      });\n",
       "    });\n",
       "}else{\n",
       "    // require.js not available: dynamically load d3 & LDAvis\n",
       "    LDAvis_load_lib(\"https://cdnjs.cloudflare.com/ajax/libs/d3/3.5.5/d3.min.js\", function(){\n",
       "         LDAvis_load_lib(\"https://cdn.rawgit.com/bmabey/pyLDAvis/files/ldavis.v1.0.0.js\", function(){\n",
       "                 new LDAvis(\"#\" + \"ldavis_el4733165887521847154599360\", ldavis_el4733165887521847154599360_data);\n",
       "            })\n",
       "         });\n",
       "}\n",
       "</script>"
      ],
      "text/plain": [
       "<IPython.core.display.HTML object>"
      ]
     },
     "execution_count": 12,
     "metadata": {},
     "output_type": "execute_result"
    }
   ],
   "source": [
    "pyLDAvis.enable_notebook(sort=True)\n",
    "vis = pyLDAvis.gensim.prepare(model, train_corpus, train_id2word)\n",
    "pyLDAvis.display(vis)"
   ]
  },
  {
   "cell_type": "code",
   "execution_count": 13,
   "metadata": {},
   "outputs": [],
   "source": [
    "pyLDAvis.save_html(vis, 'lda.html')"
   ]
  },
  {
   "cell_type": "markdown",
   "metadata": {},
   "source": [
    "## Topics Tuning"
   ]
  },
  {
   "cell_type": "code",
   "execution_count": 28,
   "metadata": {},
   "outputs": [],
   "source": [
    "from gensim.models import CoherenceModel\n",
    "\n",
    "def compute_coherence_values(dictionary, corpus, texts, limit, start=2, step=3):\n",
    "    \"\"\"\n",
    "    Compute c_v coherence for various number of topics\n",
    "\n",
    "    Parameters:\n",
    "    ----------\n",
    "    dictionary : Gensim dictionary\n",
    "    corpus : Gensim corpus\n",
    "    texts : List of input texts\n",
    "    limit : Max num of topics\n",
    "\n",
    "    Returns:\n",
    "    -------\n",
    "    model_list : List of LDA topic models\n",
    "    coherence_values : Coherence values corresponding to the LDA model with respective number of topics\n",
    "    \"\"\"\n",
    "    coherence_values = []\n",
    "    model_list = []\n",
    "    for num_topics in range(start, limit, step):\n",
    "        model = gensim.models.ldamulticore.LdaMulticore(\n",
    "                           corpus=corpus,\n",
    "                           num_topics=num_topics,\n",
    "                           id2word=train_id2word,\n",
    "                           chunksize=1000,\n",
    "                           workers=5, # Num. Processing Cores - 1\n",
    "                           passes=50,\n",
    "                           eval_every = 1,\n",
    "                           per_word_topics=True)\n",
    "        model_list.append(model)\n",
    "        coherencemodel = CoherenceModel(model=model, texts=texts, dictionary=dictionary, coherence='c_v')\n",
    "        coherence_values.append(coherencemodel.get_coherence())\n",
    "\n",
    "    return model_list, coherence_values\n"
   ]
  },
  {
   "cell_type": "code",
   "execution_count": 69,
   "metadata": {},
   "outputs": [],
   "source": [
    "# run\n",
    "model_list, coherence_values = compute_coherence_values(dictionary=train_id2word, \n",
    "                                                        corpus=train_corpus, texts=bigram_train, start=5, limit=40, step=2)"
   ]
  },
  {
   "cell_type": "markdown",
   "metadata": {},
   "source": [
    "## Visualise Coherence Scores"
   ]
  },
  {
   "cell_type": "code",
   "execution_count": 72,
   "metadata": {},
   "outputs": [
    {
     "data": {
      "image/png": "[encoded data removed]",
      "text/plain": [
       "<Figure size 432x288 with 1 Axes>"
      ]
     },
     "metadata": {
      "needs_background": "light"
     },
     "output_type": "display_data"
    }
   ],
   "source": [
    "import matplotlib.pyplot as plt\n",
    "\n",
    "%matplotlib inline\n",
    "\n",
    "# Show graph\n",
    "limit=40; start=5; step=2;\n",
    "x = range(start, limit, step)\n",
    "plt.plot(x, coherence_values)\n",
    "plt.xlabel(\"Num Topics\")\n",
    "plt.ylabel(\"Coherence score\")\n",
    "plt.legend((\"coherence_values\"), loc='best')\n",
    "plt.show()\n",
    "\n"
   ]
  },
  {
   "cell_type": "code",
   "execution_count": 37,
   "metadata": {},
   "outputs": [
    {
     "name": "stdout",
     "output_type": "stream",
     "text": [
      "\n",
      "Perplexity:  -8.480003947883418\n",
      "\n",
      "Coherence Score:  0.4453539206402436\n"
     ]
    }
   ],
   "source": [
    "from gensim.models import CoherenceModel\n",
    "\n",
    "# Compute Perplexity\n",
    "print('\\nPerplexity: ', lda_train.log_perplexity(train_corpus))  # a measure of how good the model is. lower the better.\n",
    "\n",
    "# Compute Coherence Score\n",
    "cm = CoherenceModel(model=lda_train, corpus=train_corpus,texts=bigram_train, coherence='c_v')\n",
    "coherence_lda = cm.get_coherence()\n",
    "print('\\nCoherence Score: ', coherence_lda)"
   ]
  },
  {
   "cell_type": "code",
   "execution_count": 73,
   "metadata": {},
   "outputs": [
    {
     "name": "stdout",
     "output_type": "stream",
     "text": [
      "1. Topic: 0  \n",
      "\t- Key Words: water , nea , public , residents , town_councils , food , ensure , town_council , ministry , areas , year , use , pub , sir , health , management , buildings , resources , measures , would\n",
      "2. Topic: 1  \n",
      "\t- Key Words: new , companies , government , industry , help , services , support , sector , businesses , smes , business , technology , continue , develop , local , example , growth , opportunities , development , need\n",
      "3. Topic: 2  \n",
      "\t- Key Words: saf , mas , defence , countries , asean , international , us , security , training , year , financial , foreign , region , ns , mindef , banks , china , financial_institutions , continue , investment\n",
      "4. Topic: 3  \n",
      "\t- Key Words: students , education , schools , school , community , moe , children , support , programmes , parents , teachers , sports , learning , programme , work , arts , help , year , training , provide\n",
      "5. Topic: 4  \n",
      "\t- Key Words: hdb , lta , new , flats , would , time , residents , public_transport , flat , year , one , housing , road , operators , commuters , transport , system , development , first , sir\n",
      "6. Topic: 5  \n",
      "\t- Key Words: police , public , officers , cases , security , safety , home_affairs , number , ministry , community , measures , order , would , crime , act , ensure , take , offence , work , home_team\n",
      "7. Topic: 6  \n",
      "\t- Key Words: care , children , support , help , patients , health , family , need , families , singaporeans , healthcare , community , medical , services , parents , elderly , scheme , seniors , provide , child\n",
      "8. Topic: 7  \n",
      "\t- Key Words: people , government , one , would , singaporeans , us , think , must , need , even , sir , time , said , want , like , first , know , make , good , society\n",
      "9. Topic: 8  \n",
      "\t- Key Words: workers , government , help , companies , work , singaporeans , jobs , budget , employers , would , need , year , one , support , scheme , time , sir , economy , employment , new\n",
      "10. Topic: 9  \n",
      "\t- Key Words: bill , act , would , law , case , court , legal , amendments , public , section , cases , sir , make , first , members , time , made , person , one , ensure\n"
     ]
    }
   ],
   "source": [
    "for idx, topic in lda_train.print_topics(-1, num_words=20):\n",
    "    print(\"{}. Topic: {}  \\n\\t- Key Words: {}\".format(idx+1, idx, (\",\".join(re.sub(r'\\d.\\d+\\*','',topic).replace('\"','').split('+')))))"
   ]
  },
  {
   "cell_type": "markdown",
   "metadata": {},
   "source": [
    "We see here that coherence improved greatly when the number of topics is greater than 8. Thus, the earlier assumption of having 10 topics generated via LDA is valid. Accordingly, we can label the 10 topics as follows:\n",
    "\n",
    "1. Topic: 0 - Environment\n",
    "\t- Key Words: water , nea , public , residents , town_councils , food , ensure , town_council , ministry , areas\n",
    "2. Topic: 1 - Business \n",
    "\t- Key Words: new , companies , government , industry , help , services , support , sector , businesses , smes  \n",
    "3. Topic: 2 - External Security   \n",
    "\t- Key Words: saf , mas , defence , countries , asean , international , us , security , training , year    \n",
    "4. Topic: 3 - Education   \n",
    "\t- Key Words: students , education , schools , school , community , moe , children , support , programmes , parents    \n",
    "5. Topic: 4 - Living   \n",
    "\t- Key Words: hdb , lta , new , flats , would , time , residents , public_transport , flat , year    \n",
    "6. Topic: 5 - Internal Security   \n",
    "\t- Key Words: police , public , officers , cases , security , safety , home_affairs , number , ministry , community    \n",
    "7. Topic: 6 - Healthcare   \n",
    "\t- Key Words: care , children , support , help , patients , health , family , need , families , singaporeans    \n",
    "8. Topic: 7 - Society   \n",
    "\t- Key Words: people , government , one , would , singaporeans , us , think , must , need , even    \n",
    "9. Topic: 8 - Employment   \n",
    "\t- Key Words: workers , government , help , companies , work , singaporeans , jobs , budget , employers , would    \n",
    "10. Topic: 9 - Law   \n",
    "\t- Key Words: bill , act , would , law , case , court , legal , amendments , public , section"
   ]
  },
  {
   "cell_type": "markdown",
   "metadata": {},
   "source": [
    "## Appending our Corpus with Tags!\n",
    "\n",
    "### Finding Dominant Topic in each sentence"
   ]
  },
  {
   "cell_type": "markdown",
   "metadata": {},
   "source": [
    "Using gensim's LDA topic modelling on a document"
   ]
  },
  {
   "cell_type": "code",
   "execution_count": 43,
   "metadata": {},
   "outputs": [
    {
     "data": {
      "text/plain": [
       "[(7, 0.43655953),\n",
       " (2, 0.17807838),\n",
       " (0, 0.13052306),\n",
       " (9, 0.09896996),\n",
       " (5, 0.058110144),\n",
       " (1, 0.054801296),\n",
       " (4, 0.042660255)]"
      ]
     },
     "execution_count": 43,
     "metadata": {},
     "output_type": "execute_result"
    }
   ],
   "source": [
    "sent_topics_df = pd.DataFrame()\n",
    "\n",
    "row = model[train_corpus][1]\n",
    "row = sorted(row[0], key=lambda x: x[1], reverse=True)\n",
    "row"
   ]
  },
  {
   "cell_type": "code",
   "execution_count": 146,
   "metadata": {},
   "outputs": [
    {
     "data": {
      "text/plain": [
       "3374"
      ]
     },
     "execution_count": 146,
     "metadata": {},
     "output_type": "execute_result"
    }
   ],
   "source": [
    "len(train_corpus[0])"
   ]
  },
  {
   "cell_type": "code",
   "execution_count": 45,
   "metadata": {},
   "outputs": [
    {
     "data": {
      "text/html": [
       "<div>\n",
       "<style scoped>\n",
       "    .dataframe tbody tr th:only-of-type {\n",
       "        vertical-align: middle;\n",
       "    }\n",
       "\n",
       "    .dataframe tbody tr th {\n",
       "        vertical-align: top;\n",
       "    }\n",
       "\n",
       "    .dataframe thead th {\n",
       "        text-align: right;\n",
       "    }\n",
       "</style>\n",
       "<table border=\"1\" class=\"dataframe\">\n",
       "  <thead>\n",
       "    <tr style=\"text-align: right;\">\n",
       "      <th></th>\n",
       "      <th>Document_No</th>\n",
       "      <th>Dominant_Topic</th>\n",
       "      <th>Topic_Perc_Contrib</th>\n",
       "      <th>Keywords</th>\n",
       "      <th>Text</th>\n",
       "    </tr>\n",
       "  </thead>\n",
       "  <tbody>\n",
       "    <tr>\n",
       "      <th>0</th>\n",
       "      <td>0</td>\n",
       "      <td>7.0</td>\n",
       "      <td>0.4911</td>\n",
       "      <td>people, government, one, would, singaporeans, ...</td>\n",
       "      <td>[proc_text, debate_resumed, proc_text, br_mr, ...</td>\n",
       "    </tr>\n",
       "    <tr>\n",
       "      <th>1</th>\n",
       "      <td>1</td>\n",
       "      <td>7.0</td>\n",
       "      <td>0.4366</td>\n",
       "      <td>people, government, one, would, singaporeans, ...</td>\n",
       "      <td>[mr_vikram, nair_asked, minister, foreign_affa...</td>\n",
       "    </tr>\n",
       "    <tr>\n",
       "      <th>2</th>\n",
       "      <td>2</td>\n",
       "      <td>5.0</td>\n",
       "      <td>0.3280</td>\n",
       "      <td>police, public, officers, cases, security, saf...</td>\n",
       "      <td>[assoc_prof, walter_theseira, asked_minister, ...</td>\n",
       "    </tr>\n",
       "    <tr>\n",
       "      <th>3</th>\n",
       "      <td>3</td>\n",
       "      <td>0.0</td>\n",
       "      <td>0.2807</td>\n",
       "      <td>water, nea, public, residents, town_councils, ...</td>\n",
       "      <td>[ms_irene, quay_siew, ching, asked_minister, h...</td>\n",
       "    </tr>\n",
       "    <tr>\n",
       "      <th>4</th>\n",
       "      <td>4</td>\n",
       "      <td>7.0</td>\n",
       "      <td>0.3995</td>\n",
       "      <td>people, government, one, would, singaporeans, ...</td>\n",
       "      <td>[mr_lim, biow_chuan, asked_deputy, prime_minis...</td>\n",
       "    </tr>\n",
       "    <tr>\n",
       "      <th>5</th>\n",
       "      <td>5</td>\n",
       "      <td>6.0</td>\n",
       "      <td>0.4204</td>\n",
       "      <td>care, children, support, help, patients, healt...</td>\n",
       "      <td>[mr_louis, ng_kok, kwang_asked, minister, heal...</td>\n",
       "    </tr>\n",
       "    <tr>\n",
       "      <th>6</th>\n",
       "      <td>6</td>\n",
       "      <td>7.0</td>\n",
       "      <td>0.3054</td>\n",
       "      <td>people, government, one, would, singaporeans, ...</td>\n",
       "      <td>[mr_png, eng_huat, asked_deputy, prime_ministe...</td>\n",
       "    </tr>\n",
       "    <tr>\n",
       "      <th>7</th>\n",
       "      <td>7</td>\n",
       "      <td>8.0</td>\n",
       "      <td>0.2996</td>\n",
       "      <td>workers, government, help, companies, work, si...</td>\n",
       "      <td>[mr_louis, ng_kok, kwang_asked, minister_manpo...</td>\n",
       "    </tr>\n",
       "    <tr>\n",
       "      <th>8</th>\n",
       "      <td>8</td>\n",
       "      <td>3.0</td>\n",
       "      <td>0.5370</td>\n",
       "      <td>students, education, schools, school, communit...</td>\n",
       "      <td>[ms_irene, quay_siew, ching, asked_minister, e...</td>\n",
       "    </tr>\n",
       "    <tr>\n",
       "      <th>9</th>\n",
       "      <td>9</td>\n",
       "      <td>7.0</td>\n",
       "      <td>0.4994</td>\n",
       "      <td>people, government, one, would, singaporeans, ...</td>\n",
       "      <td>[proc_text, resumption_debate, question, may, ...</td>\n",
       "    </tr>\n",
       "  </tbody>\n",
       "</table>\n",
       "</div>"
      ],
      "text/plain": [
       "   Document_No  Dominant_Topic  Topic_Perc_Contrib  \\\n",
       "0            0             7.0              0.4911   \n",
       "1            1             7.0              0.4366   \n",
       "2            2             5.0              0.3280   \n",
       "3            3             0.0              0.2807   \n",
       "4            4             7.0              0.3995   \n",
       "5            5             6.0              0.4204   \n",
       "6            6             7.0              0.3054   \n",
       "7            7             8.0              0.2996   \n",
       "8            8             3.0              0.5370   \n",
       "9            9             7.0              0.4994   \n",
       "\n",
       "                                            Keywords  \\\n",
       "0  people, government, one, would, singaporeans, ...   \n",
       "1  people, government, one, would, singaporeans, ...   \n",
       "2  police, public, officers, cases, security, saf...   \n",
       "3  water, nea, public, residents, town_councils, ...   \n",
       "4  people, government, one, would, singaporeans, ...   \n",
       "5  care, children, support, help, patients, healt...   \n",
       "6  people, government, one, would, singaporeans, ...   \n",
       "7  workers, government, help, companies, work, si...   \n",
       "8  students, education, schools, school, communit...   \n",
       "9  people, government, one, would, singaporeans, ...   \n",
       "\n",
       "                                                Text  \n",
       "0  [proc_text, debate_resumed, proc_text, br_mr, ...  \n",
       "1  [mr_vikram, nair_asked, minister, foreign_affa...  \n",
       "2  [assoc_prof, walter_theseira, asked_minister, ...  \n",
       "3  [ms_irene, quay_siew, ching, asked_minister, h...  \n",
       "4  [mr_lim, biow_chuan, asked_deputy, prime_minis...  \n",
       "5  [mr_louis, ng_kok, kwang_asked, minister, heal...  \n",
       "6  [mr_png, eng_huat, asked_deputy, prime_ministe...  \n",
       "7  [mr_louis, ng_kok, kwang_asked, minister_manpo...  \n",
       "8  [ms_irene, quay_siew, ching, asked_minister, e...  \n",
       "9  [proc_text, resumption_debate, question, may, ...  "
      ]
     },
     "execution_count": 45,
     "metadata": {},
     "output_type": "execute_result"
    }
   ],
   "source": [
    "def format_topics_sentences(ldamodel=model, corpus=train_corpus,texts=bigram_train):\n",
    "    # https://www.machinelearningplus.com/nlp/topic-modeling-gensim-python/\n",
    "    # Init output\n",
    "    sent_topics_df = pd.DataFrame()\n",
    "\n",
    "    # Get top 3 topic in each document\n",
    "    for i, row in enumerate(ldamodel[corpus]):\n",
    "        row = sorted(row[0], key=lambda x: x[1], reverse=True)\n",
    "        # Get the Dominant topic, Perc Contribution and Keywords for each document\n",
    "        for j, (topic_num, prop_topic) in enumerate(row):\n",
    "            if j == 0:  # => dominant topic\n",
    "                wp = ldamodel.show_topic(topic_num)\n",
    "                topic_keywords = \", \".join([word for word, prop in wp])\n",
    "                sent_topics_df = sent_topics_df.append(pd.Series([int(topic_num), round(prop_topic,4), topic_keywords]), ignore_index=True)\n",
    "            else:\n",
    "                break\n",
    "    sent_topics_df.columns = ['Dominant_Topic', 'Perc_Contribution', 'Topic_Keywords']\n",
    "\n",
    "    # Add original text to the end of the output\n",
    "    contents = pd.Series(texts)\n",
    "    sent_topics_df = pd.concat([sent_topics_df, contents], axis=1)\n",
    "    return(sent_topics_df)\n",
    "\n",
    "df_topic_sents_keywords = format_topics_sentences(ldamodel=model, corpus=train_corpus, texts=bigram_train)\n",
    "\n",
    "# Format\n",
    "df_dominant_topic = df_topic_sents_keywords.reset_index()\n",
    "df_dominant_topic.columns = ['Document_No', 'Dominant_Topic', 'Topic_Perc_Contrib', 'Keywords', 'Text']\n",
    "\n",
    "# Show\n",
    "df_dominant_topic.head(10)"
   ]
  },
  {
   "cell_type": "markdown",
   "metadata": {},
   "source": [
    "### LDA Inference \n",
    "\n",
    "#### Load Dictionary"
   ]
  },
  {
   "cell_type": "code",
   "execution_count": 15,
   "metadata": {},
   "outputs": [],
   "source": [
    "from gensim.corpora.dictionary import Dictionary"
   ]
  },
  {
   "cell_type": "code",
   "execution_count": 16,
   "metadata": {},
   "outputs": [],
   "source": [
    "lda_dict = Dictionary.load('lda_train.model.id2word')"
   ]
  },
  {
   "cell_type": "code",
   "execution_count": 17,
   "metadata": {},
   "outputs": [],
   "source": [
    "doc_bow_sample = lda_dict.doc2bow(mongo_df.cleaned_join[1].replace('<br/>','').split()) "
   ]
  },
  {
   "cell_type": "code",
   "execution_count": 18,
   "metadata": {},
   "outputs": [
    {
     "data": {
      "text/plain": [
       "[(7, 0.38439086),\n",
       " (2, 0.27236545),\n",
       " (0, 0.24063131),\n",
       " (9, 0.052908543),\n",
       " (4, 0.04900857)]"
      ]
     },
     "execution_count": 18,
     "metadata": {},
     "output_type": "execute_result"
    }
   ],
   "source": [
    "sorted(model.get_document_topics(doc_bow_sample),key=lambda x : x[1], reverse=True)"
   ]
  },
  {
   "cell_type": "code",
   "execution_count": 19,
   "metadata": {},
   "outputs": [],
   "source": [
    "def retrieve_dominant_topic(doc, model=model ,ref_dict=lda_dict, threshold=0.1):\n",
    "    doc_bow_sample = ref_dict.doc2bow(doc.split()) #input has to be a list of strings\n",
    "    highest_prob = sorted(model.get_document_topics(doc_bow_sample),key=lambda x : x[1], reverse=True)[0][1]\n",
    "    if highest_prob > threshold:\n",
    "        topic_num = sorted(model.get_document_topics(doc_bow_sample),key=lambda x : x[1], reverse=True)[0][0]\n",
    "    else:\n",
    "        topic_num = 11 # no topic identidied\n",
    "    \n",
    "    return topic_num "
   ]
  },
  {
   "cell_type": "code",
   "execution_count": 20,
   "metadata": {},
   "outputs": [
    {
     "name": "stdout",
     "output_type": "stream",
     "text": [
      "CPU times: user 44.8 s, sys: 3 s, total: 47.8 s\n",
      "Wall time: 28.7 s\n"
     ]
    }
   ],
   "source": [
    "%time mongo_df['dominant_topic'] = mongo_df.cleaned_join.map(lambda x : retrieve_dominant_topic(x))"
   ]
  },
  {
   "cell_type": "markdown",
   "metadata": {},
   "source": [
    "## Creating the mappings to put into our system"
   ]
  },
  {
   "cell_type": "markdown",
   "metadata": {},
   "source": [
    "1. Topic: 0 - Environment\n",
    "2. Topic: 1 - Business \n",
    "3. Topic: 2 - External Security   \n",
    "4. Topic: 3 - Education    \n",
    "5. Topic: 4 - Living   \n",
    "6. Topic: 5 - Internal Security     \n",
    "7. Topic: 6 - Healthcare       \n",
    "8. Topic: 7 - Society       \n",
    "9. Topic: 8 - Employment      \n",
    "10. Topic: 9 - Law   "
   ]
  },
  {
   "cell_type": "code",
   "execution_count": 21,
   "metadata": {},
   "outputs": [],
   "source": [
    "dominant_topic_mappings = {\n",
    "    0 : 'Environment',\n",
    "    1 : 'Business',\n",
    "    2 : 'External Security',\n",
    "    3 : 'Education',\n",
    "    4 : 'Living',\n",
    "    5 : 'Internal Security',\n",
    "    6 : 'Healthcare',\n",
    "    7 : 'Society',\n",
    "    8 : 'Employment',\n",
    "    9 : 'Law',\n",
    "    11 : 'Unidentified'\n",
    "}"
   ]
  },
  {
   "cell_type": "code",
   "execution_count": 22,
   "metadata": {},
   "outputs": [],
   "source": [
    "mongo_df['dominant_topic'] = mongo_df['dominant_topic'].map(dominant_topic_mappings)"
   ]
  },
  {
   "cell_type": "code",
   "execution_count": 8,
   "metadata": {},
   "outputs": [
    {
     "data": {
      "text/plain": [
       "<seaborn.axisgrid.FacetGrid at 0x12d7fc6a0>"
      ]
     },
     "execution_count": 8,
     "metadata": {},
     "output_type": "execute_result"
    },
    {
     "data": {
      "image/png": "[encoded data removed]",
      "text/plain": [
       "<Figure size 1080x360 with 1 Axes>"
      ]
     },
     "metadata": {
      "needs_background": "light"
     },
     "output_type": "display_data"
    }
   ],
   "source": [
    "\n",
    "sns.catplot(x='dominant_topic',kind=\"count\",data = mongo_df,height=5, aspect=3 )\n"
   ]
  },
  {
   "cell_type": "code",
   "execution_count": 24,
   "metadata": {},
   "outputs": [
    {
     "data": {
      "text/html": [
       "<div>\n",
       "<style scoped>\n",
       "    .dataframe tbody tr th:only-of-type {\n",
       "        vertical-align: middle;\n",
       "    }\n",
       "\n",
       "    .dataframe tbody tr th {\n",
       "        vertical-align: top;\n",
       "    }\n",
       "\n",
       "    .dataframe thead th {\n",
       "        text-align: right;\n",
       "    }\n",
       "</style>\n",
       "<table border=\"1\" class=\"dataframe\">\n",
       "  <thead>\n",
       "    <tr style=\"text-align: right;\">\n",
       "      <th></th>\n",
       "      <th>_id</th>\n",
       "      <th>article_text</th>\n",
       "      <th>chunks</th>\n",
       "      <th>cleaned_join</th>\n",
       "      <th>html_clean</th>\n",
       "      <th>parliament_num</th>\n",
       "      <th>parsed_convo</th>\n",
       "      <th>persons_involved</th>\n",
       "      <th>session_num</th>\n",
       "      <th>session_type</th>\n",
       "      <th>sitting_date</th>\n",
       "      <th>sitting_num</th>\n",
       "      <th>src_url</th>\n",
       "      <th>title</th>\n",
       "      <th>volume_num</th>\n",
       "      <th>dominant_topic</th>\n",
       "    </tr>\n",
       "  </thead>\n",
       "  <tbody>\n",
       "    <tr>\n",
       "      <th>0</th>\n",
       "      <td>5d27eca6172d9aa762d4802f</td>\n",
       "      <td>&lt;p&gt;[(proc text) Debate resumed. (proc text)]&lt;/...</td>\n",
       "      <td>{\"0\": {\"entity\": \"NA\", \"content\": \"[(proc text...</td>\n",
       "      <td>[(proc text) Debate resumed. (proc text)]&lt;br/&gt;...</td>\n",
       "      <td>[[(proc text) Debate resumed. (proc text)], Mr...</td>\n",
       "      <td>13</td>\n",
       "      <td>[{'content': '[(proc text) Debate resumed. (pr...</td>\n",
       "      <td>[Mr Leon Perera, Mr K Shanmugam, Assoc Prof Wa...</td>\n",
       "      <td>2</td>\n",
       "      <td>SECOND READING BILLS</td>\n",
       "      <td>2019-05-08</td>\n",
       "      <td>105</td>\n",
       "      <td>https://sprs.parl.gov.sg/search/sprs3topic?rep...</td>\n",
       "      <td>PROTECTION FROM ONLINE FALSEHOODS AND MANIPULA...</td>\n",
       "      <td>94</td>\n",
       "      <td>Society</td>\n",
       "    </tr>\n",
       "    <tr>\n",
       "      <th>1</th>\n",
       "      <td>5d27eca6172d9aa762d48030</td>\n",
       "      <td>&lt;p class=\"ql-align-justify\"&gt;4 &lt;strong&gt;Mr Vikra...</td>\n",
       "      <td>{\"0\": {\"entity\": \"NA\", \"content\": \"Mr Vikram N...</td>\n",
       "      <td>Mr Vikram Nair asked the Minister for Foreign ...</td>\n",
       "      <td>[Mr Vikram Nair asked the Minister for Foreign...</td>\n",
       "      <td>13</td>\n",
       "      <td>[{'content': 'Mr Vikram Nair asked the Ministe...</td>\n",
       "      <td>[Dr Vivian Balakrishnan, The Minister for Fore...</td>\n",
       "      <td>2</td>\n",
       "      <td>ORAL ANSWERS</td>\n",
       "      <td>2019-05-08</td>\n",
       "      <td>105</td>\n",
       "      <td>https://sprs.parl.gov.sg/search/sprs3topic?rep...</td>\n",
       "      <td>STATE OF BILATERAL RELATIONS WITH MALAYSIA FOL...</td>\n",
       "      <td>94</td>\n",
       "      <td>Society</td>\n",
       "    </tr>\n",
       "    <tr>\n",
       "      <th>2</th>\n",
       "      <td>5d27eca6172d9aa762d48031</td>\n",
       "      <td>&lt;p class=\"ql-align-justify\"&gt;8 &lt;strong&gt;Assoc Pr...</td>\n",
       "      <td>{\"0\": {\"entity\": \"NA\", \"content\": \"Assoc Prof ...</td>\n",
       "      <td>Assoc Prof Walter Theseira asked the Minister ...</td>\n",
       "      <td>[Assoc Prof Walter Theseira asked the Minister...</td>\n",
       "      <td>13</td>\n",
       "      <td>[{'content': 'Assoc Prof Walter Theseira asked...</td>\n",
       "      <td>[Ms Low Yen Ling, Ms Anthea Ong, Assoc Prof Wa...</td>\n",
       "      <td>2</td>\n",
       "      <td>ORAL ANSWERS</td>\n",
       "      <td>2019-05-08</td>\n",
       "      <td>105</td>\n",
       "      <td>https://sprs.parl.gov.sg/search/sprs3topic?rep...</td>\n",
       "      <td>COMPANIES WITH MEASURES TO DEAL WITH WORKPLACE...</td>\n",
       "      <td>94</td>\n",
       "      <td>Internal Security</td>\n",
       "    </tr>\n",
       "    <tr>\n",
       "      <th>3</th>\n",
       "      <td>5d27eca6172d9aa762d48032</td>\n",
       "      <td>&lt;p&gt;5 &lt;strong&gt;Ms Irene Quay Siew Ching&lt;/strong&gt;...</td>\n",
       "      <td>{\"0\": {\"entity\": \"NA\", \"content\": \"Ms Irene Qu...</td>\n",
       "      <td>Ms Irene Quay Siew Ching asked the Minister fo...</td>\n",
       "      <td>[Ms Irene Quay Siew Ching asked the Minister f...</td>\n",
       "      <td>13</td>\n",
       "      <td>[{'content': 'Ms Irene Quay Siew Ching asked t...</td>\n",
       "      <td>[The Senior Minister of State for Health, Dr L...</td>\n",
       "      <td>2</td>\n",
       "      <td>ORAL ANSWERS</td>\n",
       "      <td>2019-05-08</td>\n",
       "      <td>105</td>\n",
       "      <td>https://sprs.parl.gov.sg/search/sprs3topic?rep...</td>\n",
       "      <td>REVIEW OF DRUG TESTING STANDARDS IN SINGAPORE ...</td>\n",
       "      <td>94</td>\n",
       "      <td>Environment</td>\n",
       "    </tr>\n",
       "    <tr>\n",
       "      <th>4</th>\n",
       "      <td>5d27eca6172d9aa762d48033</td>\n",
       "      <td>&lt;p class=\"ql-align-justify\"&gt;2 &lt;strong&gt;Mr Lim B...</td>\n",
       "      <td>{\"0\": {\"entity\": \"NA\", \"content\": \"Mr Lim Biow...</td>\n",
       "      <td>Mr Lim Biow Chuan asked the Deputy Prime Minis...</td>\n",
       "      <td>[Mr Lim Biow Chuan asked the Deputy Prime Mini...</td>\n",
       "      <td>13</td>\n",
       "      <td>[{'content': 'Mr Lim Biow Chuan asked the Depu...</td>\n",
       "      <td>[Ms Indranee Rajah, The Second Minister for Fi...</td>\n",
       "      <td>2</td>\n",
       "      <td>ORAL ANSWERS</td>\n",
       "      <td>2019-05-08</td>\n",
       "      <td>105</td>\n",
       "      <td>https://sprs.parl.gov.sg/search/sprs3topic?rep...</td>\n",
       "      <td>LIVING IN PRIVATE PROPERTIES BUT WITH NO DECLA...</td>\n",
       "      <td>94</td>\n",
       "      <td>Employment</td>\n",
       "    </tr>\n",
       "  </tbody>\n",
       "</table>\n",
       "</div>"
      ],
      "text/plain": [
       "                        _id  \\\n",
       "0  5d27eca6172d9aa762d4802f   \n",
       "1  5d27eca6172d9aa762d48030   \n",
       "2  5d27eca6172d9aa762d48031   \n",
       "3  5d27eca6172d9aa762d48032   \n",
       "4  5d27eca6172d9aa762d48033   \n",
       "\n",
       "                                        article_text  \\\n",
       "0  <p>[(proc text) Debate resumed. (proc text)]</...   \n",
       "1  <p class=\"ql-align-justify\">4 <strong>Mr Vikra...   \n",
       "2  <p class=\"ql-align-justify\">8 <strong>Assoc Pr...   \n",
       "3  <p>5 <strong>Ms Irene Quay Siew Ching</strong>...   \n",
       "4  <p class=\"ql-align-justify\">2 <strong>Mr Lim B...   \n",
       "\n",
       "                                              chunks  \\\n",
       "0  {\"0\": {\"entity\": \"NA\", \"content\": \"[(proc text...   \n",
       "1  {\"0\": {\"entity\": \"NA\", \"content\": \"Mr Vikram N...   \n",
       "2  {\"0\": {\"entity\": \"NA\", \"content\": \"Assoc Prof ...   \n",
       "3  {\"0\": {\"entity\": \"NA\", \"content\": \"Ms Irene Qu...   \n",
       "4  {\"0\": {\"entity\": \"NA\", \"content\": \"Mr Lim Biow...   \n",
       "\n",
       "                                        cleaned_join  \\\n",
       "0  [(proc text) Debate resumed. (proc text)]<br/>...   \n",
       "1  Mr Vikram Nair asked the Minister for Foreign ...   \n",
       "2  Assoc Prof Walter Theseira asked the Minister ...   \n",
       "3  Ms Irene Quay Siew Ching asked the Minister fo...   \n",
       "4  Mr Lim Biow Chuan asked the Deputy Prime Minis...   \n",
       "\n",
       "                                          html_clean  parliament_num  \\\n",
       "0  [[(proc text) Debate resumed. (proc text)], Mr...              13   \n",
       "1  [Mr Vikram Nair asked the Minister for Foreign...              13   \n",
       "2  [Assoc Prof Walter Theseira asked the Minister...              13   \n",
       "3  [Ms Irene Quay Siew Ching asked the Minister f...              13   \n",
       "4  [Mr Lim Biow Chuan asked the Deputy Prime Mini...              13   \n",
       "\n",
       "                                        parsed_convo  \\\n",
       "0  [{'content': '[(proc text) Debate resumed. (pr...   \n",
       "1  [{'content': 'Mr Vikram Nair asked the Ministe...   \n",
       "2  [{'content': 'Assoc Prof Walter Theseira asked...   \n",
       "3  [{'content': 'Ms Irene Quay Siew Ching asked t...   \n",
       "4  [{'content': 'Mr Lim Biow Chuan asked the Depu...   \n",
       "\n",
       "                                    persons_involved  session_num  \\\n",
       "0  [Mr Leon Perera, Mr K Shanmugam, Assoc Prof Wa...            2   \n",
       "1  [Dr Vivian Balakrishnan, The Minister for Fore...            2   \n",
       "2  [Ms Low Yen Ling, Ms Anthea Ong, Assoc Prof Wa...            2   \n",
       "3  [The Senior Minister of State for Health, Dr L...            2   \n",
       "4  [Ms Indranee Rajah, The Second Minister for Fi...            2   \n",
       "\n",
       "           session_type sitting_date  sitting_num  \\\n",
       "0  SECOND READING BILLS   2019-05-08          105   \n",
       "1          ORAL ANSWERS   2019-05-08          105   \n",
       "2          ORAL ANSWERS   2019-05-08          105   \n",
       "3          ORAL ANSWERS   2019-05-08          105   \n",
       "4          ORAL ANSWERS   2019-05-08          105   \n",
       "\n",
       "                                             src_url  \\\n",
       "0  https://sprs.parl.gov.sg/search/sprs3topic?rep...   \n",
       "1  https://sprs.parl.gov.sg/search/sprs3topic?rep...   \n",
       "2  https://sprs.parl.gov.sg/search/sprs3topic?rep...   \n",
       "3  https://sprs.parl.gov.sg/search/sprs3topic?rep...   \n",
       "4  https://sprs.parl.gov.sg/search/sprs3topic?rep...   \n",
       "\n",
       "                                               title  volume_num  \\\n",
       "0  PROTECTION FROM ONLINE FALSEHOODS AND MANIPULA...          94   \n",
       "1  STATE OF BILATERAL RELATIONS WITH MALAYSIA FOL...          94   \n",
       "2  COMPANIES WITH MEASURES TO DEAL WITH WORKPLACE...          94   \n",
       "3  REVIEW OF DRUG TESTING STANDARDS IN SINGAPORE ...          94   \n",
       "4  LIVING IN PRIVATE PROPERTIES BUT WITH NO DECLA...          94   \n",
       "\n",
       "      dominant_topic  \n",
       "0            Society  \n",
       "1            Society  \n",
       "2  Internal Security  \n",
       "3        Environment  \n",
       "4         Employment  "
      ]
     },
     "execution_count": 24,
     "metadata": {},
     "output_type": "execute_result"
    }
   ],
   "source": [
    "mongo_df.head()"
   ]
  },
  {
   "cell_type": "code",
   "execution_count": 25,
   "metadata": {},
   "outputs": [
    {
     "data": {
      "text/plain": [
       "ObjectId('5d27eca6172d9aa762d4802f')"
      ]
     },
     "execution_count": 25,
     "metadata": {},
     "output_type": "execute_result"
    }
   ],
   "source": [
    "mongo_df._id[0]"
   ]
  },
  {
   "cell_type": "code",
   "execution_count": 73,
   "metadata": {},
   "outputs": [
    {
     "data": {
      "text/plain": [
       "<pymongo.results.UpdateResult at 0x12676aac8>"
      ]
     },
     "execution_count": 73,
     "metadata": {},
     "output_type": "execute_result"
    }
   ],
   "source": [
    "query = { \"_id\": mongo_df['_id'][0] }\n",
    "value = { \"$set\": { \"dominant_topic\": mongo_df['dominant_topic'][0] } }\n",
    "\n",
    "\n",
    "articles.update_one(query,value)"
   ]
  },
  {
   "cell_type": "code",
   "execution_count": 27,
   "metadata": {},
   "outputs": [
    {
     "name": "stderr",
     "output_type": "stream",
     "text": [
      "9531it [00:16, 584.68it/s]\n"
     ]
    }
   ],
   "source": [
    "from tqdm import tqdm\n",
    "\n",
    "for row in tqdm(mongo_df.itertuples()):\n",
    "    query = { \"_id\" : row._1 }\n",
    "    value = { \"$set\": { \"dominant_topic\": row.dominant_topic } }\n",
    "    articles.update_one(query,value)"
   ]
  }
 ],
 "metadata": {
  "kernelspec": {
   "display_name": "Python 3",
   "language": "python",
   "name": "python3"
  },
  "language_info": {
   "codemirror_mode": {
    "name": "ipython",
    "version": 3
   },
   "file_extension": ".py",
   "mimetype": "text/x-python",
   "name": "python",
   "nbconvert_exporter": "python",
   "pygments_lexer": "ipython3",
   "version": "3.6.8"
  }
 },
 "nbformat": 4,
 "nbformat_minor": 2
}
