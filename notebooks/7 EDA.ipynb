{
 "cells": [
  {
   "cell_type": "markdown",
   "metadata": {},
   "source": [
    "# Exploratory Data Analysis\n",
    "\n",
    "## Import Libraries"
   ]
  },
  {
   "cell_type": "code",
   "execution_count": 2,
   "metadata": {},
   "outputs": [],
   "source": [
    "import pymongo\n",
    "import pandas as pd\n",
    "import numpy as np\n",
    "import json\n",
    "import os\n",
    "import yaml\n",
    "\n",
    "import matplotlib.pyplot as plt\n",
    "import seaborn as sns\n",
    "\n",
    "\n",
    "import re"
   ]
  },
  {
   "cell_type": "markdown",
   "metadata": {},
   "source": [
    "## Load Data from DB"
   ]
  },
  {
   "cell_type": "code",
   "execution_count": 3,
   "metadata": {},
   "outputs": [],
   "source": [
    "with open(\"config.yaml\", \"r\") as ymlfile:\n",
    "    settings = yaml.safe_load(ymlfile)\n",
    "\n",
    "\n",
    "isRemote = False\n",
    "\n",
    "\n",
    "try:\n",
    "    if (isRemote):\n",
    "        client = pymongo.MongoClient(host = settings['mongo-remote']['host'],\n",
    "                                     port = settings['mongo-remote']['port'],\n",
    "                                     username = settings['mongo-remote']['user'],\n",
    "                                     password = settings['mongo-remote']['pw'],\n",
    "                                     authMechanism= settings['mongo-remote']['authMechanism'])\n",
    "        client.server_info()  # force connection on a request as the\n",
    "        # connect=True parameter of MongoClient seems\n",
    "        # to be useless here\n",
    "    else:\n",
    "        client = pymongo.MongoClient(\"mongodb://localhost:27017/\")\n",
    "        client.server_info()  # force connection on a request as the\n",
    "    # connect=True parameter of MongoClient seems\n",
    "    # to be useless here\n",
    "except pymongo.errors.ServerSelectionTimeoutError as err:\n",
    "    # do whatever you need\n",
    "    print(err)\n"
   ]
  },
  {
   "cell_type": "code",
   "execution_count": 4,
   "metadata": {},
   "outputs": [],
   "source": [
    "db = client[\"parliament\"]\n",
    "articles = db[\"articles\"]"
   ]
  },
  {
   "cell_type": "code",
   "execution_count": 5,
   "metadata": {},
   "outputs": [
    {
     "data": {
      "text/html": [
       "<div>\n",
       "<style scoped>\n",
       "    .dataframe tbody tr th:only-of-type {\n",
       "        vertical-align: middle;\n",
       "    }\n",
       "\n",
       "    .dataframe tbody tr th {\n",
       "        vertical-align: top;\n",
       "    }\n",
       "\n",
       "    .dataframe thead th {\n",
       "        text-align: right;\n",
       "    }\n",
       "</style>\n",
       "<table border=\"1\" class=\"dataframe\">\n",
       "  <thead>\n",
       "    <tr style=\"text-align: right;\">\n",
       "      <th></th>\n",
       "      <th>_id</th>\n",
       "      <th>article_text</th>\n",
       "      <th>chunks</th>\n",
       "      <th>cleaned_join</th>\n",
       "      <th>dominant_topic</th>\n",
       "      <th>html_clean</th>\n",
       "      <th>parliament_num</th>\n",
       "      <th>parsed_convo</th>\n",
       "      <th>persons_involved</th>\n",
       "      <th>session_num</th>\n",
       "      <th>session_type</th>\n",
       "      <th>sitting_date</th>\n",
       "      <th>sitting_num</th>\n",
       "      <th>src_url</th>\n",
       "      <th>title</th>\n",
       "      <th>volume_num</th>\n",
       "    </tr>\n",
       "  </thead>\n",
       "  <tbody>\n",
       "    <tr>\n",
       "      <th>0</th>\n",
       "      <td>5d27eca6172d9aa762d4802f</td>\n",
       "      <td>&lt;p&gt;[(proc text) Debate resumed. (proc text)]&lt;/...</td>\n",
       "      <td>[{'content': '[(proc text) Debate resumed. (pr...</td>\n",
       "      <td>[(proc text) Debate resumed. (proc text)]&lt;br/&gt;...</td>\n",
       "      <td>Society</td>\n",
       "      <td>[[(proc text) Debate resumed. (proc text)], Mr...</td>\n",
       "      <td>13</td>\n",
       "      <td>[{'content': '[(proc text) Debate resumed. (pr...</td>\n",
       "      <td>[Prof Lim Sun Sun, Miss Cheng Li Hui, An hon M...</td>\n",
       "      <td>2</td>\n",
       "      <td>SECOND READING BILLS</td>\n",
       "      <td>2019-05-08</td>\n",
       "      <td>105</td>\n",
       "      <td>https://sprs.parl.gov.sg/search/sprs3topic?rep...</td>\n",
       "      <td>PROTECTION FROM ONLINE FALSEHOODS AND MANIPULA...</td>\n",
       "      <td>94</td>\n",
       "    </tr>\n",
       "    <tr>\n",
       "      <th>1</th>\n",
       "      <td>5d27eca6172d9aa762d48030</td>\n",
       "      <td>&lt;p class=\"ql-align-justify\"&gt;4 &lt;strong&gt;Mr Vikra...</td>\n",
       "      <td>[{'content': 'Mr Vikram Nair asked the Ministe...</td>\n",
       "      <td>Mr Vikram Nair asked the Minister for Foreign ...</td>\n",
       "      <td>Society</td>\n",
       "      <td>[Mr Vikram Nair asked the Minister for Foreign...</td>\n",
       "      <td>13</td>\n",
       "      <td>[{'content': 'Mr Vikram Nair asked the Ministe...</td>\n",
       "      <td>[Mr Speaker, Assoc Prof Walter Theseira, Mr Vi...</td>\n",
       "      <td>2</td>\n",
       "      <td>ORAL ANSWERS</td>\n",
       "      <td>2019-05-08</td>\n",
       "      <td>105</td>\n",
       "      <td>https://sprs.parl.gov.sg/search/sprs3topic?rep...</td>\n",
       "      <td>STATE OF BILATERAL RELATIONS WITH MALAYSIA FOL...</td>\n",
       "      <td>94</td>\n",
       "    </tr>\n",
       "    <tr>\n",
       "      <th>2</th>\n",
       "      <td>5d27eca6172d9aa762d48031</td>\n",
       "      <td>&lt;p class=\"ql-align-justify\"&gt;8 &lt;strong&gt;Assoc Pr...</td>\n",
       "      <td>[{'content': 'Assoc Prof Walter Theseira asked...</td>\n",
       "      <td>Assoc Prof Walter Theseira asked the Minister ...</td>\n",
       "      <td>Internal Security</td>\n",
       "      <td>[Assoc Prof Walter Theseira asked the Minister...</td>\n",
       "      <td>13</td>\n",
       "      <td>[{'content': 'Assoc Prof Walter Theseira asked...</td>\n",
       "      <td>[Ms Anthea Ong, Assoc Prof Walter Theseira, Ms...</td>\n",
       "      <td>2</td>\n",
       "      <td>ORAL ANSWERS</td>\n",
       "      <td>2019-05-08</td>\n",
       "      <td>105</td>\n",
       "      <td>https://sprs.parl.gov.sg/search/sprs3topic?rep...</td>\n",
       "      <td>COMPANIES WITH MEASURES TO DEAL WITH WORKPLACE...</td>\n",
       "      <td>94</td>\n",
       "    </tr>\n",
       "    <tr>\n",
       "      <th>3</th>\n",
       "      <td>5d27eca6172d9aa762d48032</td>\n",
       "      <td>&lt;p&gt;5 &lt;strong&gt;Ms Irene Quay Siew Ching&lt;/strong&gt;...</td>\n",
       "      <td>[{'content': 'Ms Irene Quay Siew Ching asked t...</td>\n",
       "      <td>Ms Irene Quay Siew Ching asked the Minister fo...</td>\n",
       "      <td>Environment</td>\n",
       "      <td>[Ms Irene Quay Siew Ching asked the Minister f...</td>\n",
       "      <td>13</td>\n",
       "      <td>[{'content': 'Ms Irene Quay Siew Ching asked t...</td>\n",
       "      <td>[Ms Irene Quay Siew Ching, Dr Lam Pin Min, The...</td>\n",
       "      <td>2</td>\n",
       "      <td>ORAL ANSWERS</td>\n",
       "      <td>2019-05-08</td>\n",
       "      <td>105</td>\n",
       "      <td>https://sprs.parl.gov.sg/search/sprs3topic?rep...</td>\n",
       "      <td>REVIEW OF DRUG TESTING STANDARDS IN SINGAPORE ...</td>\n",
       "      <td>94</td>\n",
       "    </tr>\n",
       "    <tr>\n",
       "      <th>4</th>\n",
       "      <td>5d27eca6172d9aa762d48033</td>\n",
       "      <td>&lt;p class=\"ql-align-justify\"&gt;2 &lt;strong&gt;Mr Lim B...</td>\n",
       "      <td>[{'content': 'Mr Lim Biow Chuan asked the Depu...</td>\n",
       "      <td>Mr Lim Biow Chuan asked the Deputy Prime Minis...</td>\n",
       "      <td>Employment</td>\n",
       "      <td>[Mr Lim Biow Chuan asked the Deputy Prime Mini...</td>\n",
       "      <td>13</td>\n",
       "      <td>[{'content': 'Mr Lim Biow Chuan asked the Depu...</td>\n",
       "      <td>[The Second Minister for Finance, Mr Lim Biow ...</td>\n",
       "      <td>2</td>\n",
       "      <td>ORAL ANSWERS</td>\n",
       "      <td>2019-05-08</td>\n",
       "      <td>105</td>\n",
       "      <td>https://sprs.parl.gov.sg/search/sprs3topic?rep...</td>\n",
       "      <td>LIVING IN PRIVATE PROPERTIES BUT WITH NO DECLA...</td>\n",
       "      <td>94</td>\n",
       "    </tr>\n",
       "  </tbody>\n",
       "</table>\n",
       "</div>"
      ],
      "text/plain": [
       "                        _id  \\\n",
       "0  5d27eca6172d9aa762d4802f   \n",
       "1  5d27eca6172d9aa762d48030   \n",
       "2  5d27eca6172d9aa762d48031   \n",
       "3  5d27eca6172d9aa762d48032   \n",
       "4  5d27eca6172d9aa762d48033   \n",
       "\n",
       "                                        article_text  \\\n",
       "0  <p>[(proc text) Debate resumed. (proc text)]</...   \n",
       "1  <p class=\"ql-align-justify\">4 <strong>Mr Vikra...   \n",
       "2  <p class=\"ql-align-justify\">8 <strong>Assoc Pr...   \n",
       "3  <p>5 <strong>Ms Irene Quay Siew Ching</strong>...   \n",
       "4  <p class=\"ql-align-justify\">2 <strong>Mr Lim B...   \n",
       "\n",
       "                                              chunks  \\\n",
       "0  [{'content': '[(proc text) Debate resumed. (pr...   \n",
       "1  [{'content': 'Mr Vikram Nair asked the Ministe...   \n",
       "2  [{'content': 'Assoc Prof Walter Theseira asked...   \n",
       "3  [{'content': 'Ms Irene Quay Siew Ching asked t...   \n",
       "4  [{'content': 'Mr Lim Biow Chuan asked the Depu...   \n",
       "\n",
       "                                        cleaned_join     dominant_topic  \\\n",
       "0  [(proc text) Debate resumed. (proc text)]<br/>...            Society   \n",
       "1  Mr Vikram Nair asked the Minister for Foreign ...            Society   \n",
       "2  Assoc Prof Walter Theseira asked the Minister ...  Internal Security   \n",
       "3  Ms Irene Quay Siew Ching asked the Minister fo...        Environment   \n",
       "4  Mr Lim Biow Chuan asked the Deputy Prime Minis...         Employment   \n",
       "\n",
       "                                          html_clean  parliament_num  \\\n",
       "0  [[(proc text) Debate resumed. (proc text)], Mr...              13   \n",
       "1  [Mr Vikram Nair asked the Minister for Foreign...              13   \n",
       "2  [Assoc Prof Walter Theseira asked the Minister...              13   \n",
       "3  [Ms Irene Quay Siew Ching asked the Minister f...              13   \n",
       "4  [Mr Lim Biow Chuan asked the Deputy Prime Mini...              13   \n",
       "\n",
       "                                        parsed_convo  \\\n",
       "0  [{'content': '[(proc text) Debate resumed. (pr...   \n",
       "1  [{'content': 'Mr Vikram Nair asked the Ministe...   \n",
       "2  [{'content': 'Assoc Prof Walter Theseira asked...   \n",
       "3  [{'content': 'Ms Irene Quay Siew Ching asked t...   \n",
       "4  [{'content': 'Mr Lim Biow Chuan asked the Depu...   \n",
       "\n",
       "                                    persons_involved  session_num  \\\n",
       "0  [Prof Lim Sun Sun, Miss Cheng Li Hui, An hon M...            2   \n",
       "1  [Mr Speaker, Assoc Prof Walter Theseira, Mr Vi...            2   \n",
       "2  [Ms Anthea Ong, Assoc Prof Walter Theseira, Ms...            2   \n",
       "3  [Ms Irene Quay Siew Ching, Dr Lam Pin Min, The...            2   \n",
       "4  [The Second Minister for Finance, Mr Lim Biow ...            2   \n",
       "\n",
       "           session_type sitting_date  sitting_num  \\\n",
       "0  SECOND READING BILLS   2019-05-08          105   \n",
       "1          ORAL ANSWERS   2019-05-08          105   \n",
       "2          ORAL ANSWERS   2019-05-08          105   \n",
       "3          ORAL ANSWERS   2019-05-08          105   \n",
       "4          ORAL ANSWERS   2019-05-08          105   \n",
       "\n",
       "                                             src_url  \\\n",
       "0  https://sprs.parl.gov.sg/search/sprs3topic?rep...   \n",
       "1  https://sprs.parl.gov.sg/search/sprs3topic?rep...   \n",
       "2  https://sprs.parl.gov.sg/search/sprs3topic?rep...   \n",
       "3  https://sprs.parl.gov.sg/search/sprs3topic?rep...   \n",
       "4  https://sprs.parl.gov.sg/search/sprs3topic?rep...   \n",
       "\n",
       "                                               title  volume_num  \n",
       "0  PROTECTION FROM ONLINE FALSEHOODS AND MANIPULA...          94  \n",
       "1  STATE OF BILATERAL RELATIONS WITH MALAYSIA FOL...          94  \n",
       "2  COMPANIES WITH MEASURES TO DEAL WITH WORKPLACE...          94  \n",
       "3  REVIEW OF DRUG TESTING STANDARDS IN SINGAPORE ...          94  \n",
       "4  LIVING IN PRIVATE PROPERTIES BUT WITH NO DECLA...          94  "
      ]
     },
     "execution_count": 5,
     "metadata": {},
     "output_type": "execute_result"
    }
   ],
   "source": [
    "mongo_df = pd.DataFrame.from_records(articles.find())\n",
    "mongo_df.head()"
   ]
  },
  {
   "cell_type": "markdown",
   "metadata": {},
   "source": [
    "# Create Speaker-Speaker Interaction Table\n",
    "\n",
    "Given each document, we want to be able to see the interaction between one speaker to the next, including the response to procedural questions. This would give us an understanding of how speakers interact with each other."
   ]
  },
  {
   "cell_type": "code",
   "execution_count": 234,
   "metadata": {},
   "outputs": [],
   "source": [
    "network_template = pd.DataFrame(columns=['from','to','docID','doctopic'])"
   ]
  },
  {
   "cell_type": "code",
   "execution_count": 221,
   "metadata": {},
   "outputs": [],
   "source": [
    "seq = []\n",
    "\n",
    "for val in mongo_df.iloc[2].chunks.values():\n",
    "    if val['entity'] == 'NA' or len(val['entity']) >100:\n",
    "        seq.append('PROC')\n",
    "    else:\n",
    "        seq.append(val['entity'])"
   ]
  },
  {
   "cell_type": "code",
   "execution_count": 222,
   "metadata": {},
   "outputs": [
    {
     "data": {
      "text/plain": [
       "['Assoc Prof Walter Theseira',\n",
       " 'PROC',\n",
       " 'Assoc Prof Walter Theseira (Nominated Member)',\n",
       " 'Ms Low Yen Ling',\n",
       " 'Mr Patrick Tay Teck Guan (West Coast)',\n",
       " 'Ms Low Yen Ling',\n",
       " 'Ms Anthea Ong (Nominated Member)',\n",
       " 'Ms Low Yen Ling']"
      ]
     },
     "execution_count": 222,
     "metadata": {},
     "output_type": "execute_result"
    }
   ],
   "source": [
    "seq"
   ]
  },
  {
   "cell_type": "code",
   "execution_count": 223,
   "metadata": {},
   "outputs": [],
   "source": [
    "for idx in range(1, len(seq)):\n",
    "    network_template = network_template.append({\n",
    "        'from' :  seq[idx-1],\n",
    "        'to' : seq[idx],\n",
    "    }, ignore_index = True)"
   ]
  },
  {
   "cell_type": "code",
   "execution_count": 224,
   "metadata": {},
   "outputs": [
    {
     "data": {
      "text/html": [
       "<div>\n",
       "<style scoped>\n",
       "    .dataframe tbody tr th:only-of-type {\n",
       "        vertical-align: middle;\n",
       "    }\n",
       "\n",
       "    .dataframe tbody tr th {\n",
       "        vertical-align: top;\n",
       "    }\n",
       "\n",
       "    .dataframe thead th {\n",
       "        text-align: right;\n",
       "    }\n",
       "</style>\n",
       "<table border=\"1\" class=\"dataframe\">\n",
       "  <thead>\n",
       "    <tr style=\"text-align: right;\">\n",
       "      <th></th>\n",
       "      <th>from</th>\n",
       "      <th>to</th>\n",
       "      <th>docID</th>\n",
       "      <th>doctopic</th>\n",
       "    </tr>\n",
       "  </thead>\n",
       "  <tbody>\n",
       "    <tr>\n",
       "      <th>0</th>\n",
       "      <td>Assoc Prof Walter Theseira</td>\n",
       "      <td>PROC</td>\n",
       "      <td>NaN</td>\n",
       "      <td>NaN</td>\n",
       "    </tr>\n",
       "    <tr>\n",
       "      <th>1</th>\n",
       "      <td>PROC</td>\n",
       "      <td>Assoc Prof Walter Theseira (Nominated Member)</td>\n",
       "      <td>NaN</td>\n",
       "      <td>NaN</td>\n",
       "    </tr>\n",
       "    <tr>\n",
       "      <th>2</th>\n",
       "      <td>Assoc Prof Walter Theseira (Nominated Member)</td>\n",
       "      <td>Ms Low Yen Ling</td>\n",
       "      <td>NaN</td>\n",
       "      <td>NaN</td>\n",
       "    </tr>\n",
       "  </tbody>\n",
       "</table>\n",
       "</div>"
      ],
      "text/plain": [
       "                                            from  \\\n",
       "0                     Assoc Prof Walter Theseira   \n",
       "1                                           PROC   \n",
       "2  Assoc Prof Walter Theseira (Nominated Member)   \n",
       "\n",
       "                                              to docID doctopic  \n",
       "0                                           PROC   NaN      NaN  \n",
       "1  Assoc Prof Walter Theseira (Nominated Member)   NaN      NaN  \n",
       "2                                Ms Low Yen Ling   NaN      NaN  "
      ]
     },
     "execution_count": 224,
     "metadata": {},
     "output_type": "execute_result"
    }
   ],
   "source": [
    "network_template.iloc[:3]"
   ]
  },
  {
   "cell_type": "code",
   "execution_count": 236,
   "metadata": {},
   "outputs": [],
   "source": [
    "def construct_network(doc, template):\n",
    "    seq = []\n",
    "    \n",
    "    docID = doc._1 ## change to '_id' for nontuple operation\n",
    "    chunks = doc.chunks\n",
    "    topic = doc.dominant_topic\n",
    "    \n",
    "    for val in chunks.values():\n",
    "        if val['entity'] == 'NA' or len(val['entity']) >100:\n",
    "            seq.append('PROC')\n",
    "        else:\n",
    "            seq.append(val['entity'])\n",
    "            \n",
    "    for idx in range(1, len(seq)):\n",
    "        template = template.append({\n",
    "            'from' :  seq[idx-1],\n",
    "            'to' : seq[idx],\n",
    "            'docID' : docID,\n",
    "            'doctopic' : topic\n",
    "        }, ignore_index = True)\n",
    "        \n",
    "    return template"
   ]
  },
  {
   "cell_type": "code",
   "execution_count": 233,
   "metadata": {},
   "outputs": [
    {
     "data": {
      "text/html": [
       "<div>\n",
       "<style scoped>\n",
       "    .dataframe tbody tr th:only-of-type {\n",
       "        vertical-align: middle;\n",
       "    }\n",
       "\n",
       "    .dataframe tbody tr th {\n",
       "        vertical-align: top;\n",
       "    }\n",
       "\n",
       "    .dataframe thead th {\n",
       "        text-align: right;\n",
       "    }\n",
       "</style>\n",
       "<table border=\"1\" class=\"dataframe\">\n",
       "  <thead>\n",
       "    <tr style=\"text-align: right;\">\n",
       "      <th></th>\n",
       "      <th>from</th>\n",
       "      <th>to</th>\n",
       "      <th>docID</th>\n",
       "      <th>doctopic</th>\n",
       "    </tr>\n",
       "  </thead>\n",
       "  <tbody>\n",
       "    <tr>\n",
       "      <th>0</th>\n",
       "      <td>Assoc Prof Walter Theseira</td>\n",
       "      <td>PROC</td>\n",
       "      <td>5d27eca6172d9aa762d48031</td>\n",
       "      <td>Internal Security</td>\n",
       "    </tr>\n",
       "    <tr>\n",
       "      <th>1</th>\n",
       "      <td>PROC</td>\n",
       "      <td>Assoc Prof Walter Theseira (Nominated Member)</td>\n",
       "      <td>5d27eca6172d9aa762d48031</td>\n",
       "      <td>Internal Security</td>\n",
       "    </tr>\n",
       "    <tr>\n",
       "      <th>2</th>\n",
       "      <td>Assoc Prof Walter Theseira (Nominated Member)</td>\n",
       "      <td>Ms Low Yen Ling</td>\n",
       "      <td>5d27eca6172d9aa762d48031</td>\n",
       "      <td>Internal Security</td>\n",
       "    </tr>\n",
       "    <tr>\n",
       "      <th>3</th>\n",
       "      <td>Ms Low Yen Ling</td>\n",
       "      <td>Mr Patrick Tay Teck Guan (West Coast)</td>\n",
       "      <td>5d27eca6172d9aa762d48031</td>\n",
       "      <td>Internal Security</td>\n",
       "    </tr>\n",
       "    <tr>\n",
       "      <th>4</th>\n",
       "      <td>Mr Patrick Tay Teck Guan (West Coast)</td>\n",
       "      <td>Ms Low Yen Ling</td>\n",
       "      <td>5d27eca6172d9aa762d48031</td>\n",
       "      <td>Internal Security</td>\n",
       "    </tr>\n",
       "    <tr>\n",
       "      <th>5</th>\n",
       "      <td>Ms Low Yen Ling</td>\n",
       "      <td>Ms Anthea Ong (Nominated Member)</td>\n",
       "      <td>5d27eca6172d9aa762d48031</td>\n",
       "      <td>Internal Security</td>\n",
       "    </tr>\n",
       "    <tr>\n",
       "      <th>6</th>\n",
       "      <td>Ms Anthea Ong (Nominated Member)</td>\n",
       "      <td>Ms Low Yen Ling</td>\n",
       "      <td>5d27eca6172d9aa762d48031</td>\n",
       "      <td>Internal Security</td>\n",
       "    </tr>\n",
       "  </tbody>\n",
       "</table>\n",
       "</div>"
      ],
      "text/plain": [
       "                                            from  \\\n",
       "0                     Assoc Prof Walter Theseira   \n",
       "1                                           PROC   \n",
       "2  Assoc Prof Walter Theseira (Nominated Member)   \n",
       "3                                Ms Low Yen Ling   \n",
       "4          Mr Patrick Tay Teck Guan (West Coast)   \n",
       "5                                Ms Low Yen Ling   \n",
       "6               Ms Anthea Ong (Nominated Member)   \n",
       "\n",
       "                                              to                     docID  \\\n",
       "0                                           PROC  5d27eca6172d9aa762d48031   \n",
       "1  Assoc Prof Walter Theseira (Nominated Member)  5d27eca6172d9aa762d48031   \n",
       "2                                Ms Low Yen Ling  5d27eca6172d9aa762d48031   \n",
       "3          Mr Patrick Tay Teck Guan (West Coast)  5d27eca6172d9aa762d48031   \n",
       "4                                Ms Low Yen Ling  5d27eca6172d9aa762d48031   \n",
       "5               Ms Anthea Ong (Nominated Member)  5d27eca6172d9aa762d48031   \n",
       "6                                Ms Low Yen Ling  5d27eca6172d9aa762d48031   \n",
       "\n",
       "            doctopic  \n",
       "0  Internal Security  \n",
       "1  Internal Security  \n",
       "2  Internal Security  \n",
       "3  Internal Security  \n",
       "4  Internal Security  \n",
       "5  Internal Security  \n",
       "6  Internal Security  "
      ]
     },
     "execution_count": 233,
     "metadata": {},
     "output_type": "execute_result"
    }
   ],
   "source": [
    "construct_network(mongo_df.iloc[2], network_template)"
   ]
  },
  {
   "cell_type": "code",
   "execution_count": 237,
   "metadata": {},
   "outputs": [
    {
     "name": "stderr",
     "output_type": "stream",
     "text": [
      "9531it [03:05, 51.35it/s]\n"
     ]
    }
   ],
   "source": [
    "from tqdm import tqdm\n",
    "\n",
    "for row in tqdm(mongo_df.itertuples()):\n",
    "    network_template = construct_network(row,network_template)"
   ]
  },
  {
   "cell_type": "code",
   "execution_count": 39,
   "metadata": {},
   "outputs": [],
   "source": [
    "network_template.to_csv('networks.csv')"
   ]
  },
  {
   "cell_type": "code",
   "execution_count": 16,
   "metadata": {},
   "outputs": [],
   "source": [
    "network_template = pd.read_csv('networks.csv')\n",
    "network_template.drop(columns='Unnamed: 0',inplace=True)"
   ]
  },
  {
   "cell_type": "markdown",
   "metadata": {},
   "source": [
    "# Get Speaker statistics"
   ]
  },
  {
   "cell_type": "code",
   "execution_count": 32,
   "metadata": {},
   "outputs": [
    {
     "data": {
      "text/plain": [
       "PROC             10967\n",
       "The Chairman      1727\n",
       "Mdm Speaker        967\n",
       "Mr Speaker         954\n",
       "Ms Sylvia Lim      279\n",
       "Name: from, dtype: int64"
      ]
     },
     "execution_count": 32,
     "metadata": {},
     "output_type": "execute_result"
    }
   ],
   "source": [
    "network_template['from'].value_counts().head()"
   ]
  },
  {
   "cell_type": "code",
   "execution_count": 39,
   "metadata": {},
   "outputs": [],
   "source": [
    "def clean_names(name):\n",
    "    try:\n",
    "        if re.match('[t|T]he',name[:5]):\n",
    "            if 'The Chairman' not in name:\n",
    "                return (re.search(r'\\((.*?)\\)',name).group(1))\n",
    "            else:\n",
    "                return name\n",
    "        else:\n",
    "            return(re.sub(r'(\\(.*?\\))','',name).strip().replace('.',' '))\n",
    "    except AttributeError:\n",
    "        print(name)\n",
    "    except TypeError:\n",
    "        pass"
   ]
  },
  {
   "cell_type": "code",
   "execution_count": 40,
   "metadata": {},
   "outputs": [
    {
     "data": {
      "text/plain": [
       "'Er Lee Bee Wah'"
      ]
     },
     "execution_count": 40,
     "metadata": {},
     "output_type": "execute_result"
    }
   ],
   "source": [
    "clean_names(\"Er Lee Bee Wah (Ang Mo Kio) (In Malay)\")"
   ]
  },
  {
   "cell_type": "code",
   "execution_count": 41,
   "metadata": {},
   "outputs": [],
   "source": [
    "network_template['from_clean'] = network_template['from'].map(clean_names)\n",
    "network_template['to_clean'] = network_template['to'].map(clean_names)"
   ]
  },
  {
   "cell_type": "code",
   "execution_count": 42,
   "metadata": {},
   "outputs": [
    {
     "data": {
      "text/html": [
       "<div>\n",
       "<style scoped>\n",
       "    .dataframe tbody tr th:only-of-type {\n",
       "        vertical-align: middle;\n",
       "    }\n",
       "\n",
       "    .dataframe tbody tr th {\n",
       "        vertical-align: top;\n",
       "    }\n",
       "\n",
       "    .dataframe thead th {\n",
       "        text-align: right;\n",
       "    }\n",
       "</style>\n",
       "<table border=\"1\" class=\"dataframe\">\n",
       "  <thead>\n",
       "    <tr style=\"text-align: right;\">\n",
       "      <th></th>\n",
       "      <th>from</th>\n",
       "      <th>to</th>\n",
       "      <th>docID</th>\n",
       "      <th>doctopic</th>\n",
       "      <th>from_clean</th>\n",
       "      <th>to_clean</th>\n",
       "    </tr>\n",
       "  </thead>\n",
       "  <tbody>\n",
       "    <tr>\n",
       "      <th>0</th>\n",
       "      <td>PROC</td>\n",
       "      <td>Mr Deputy Speaker</td>\n",
       "      <td>5d27eca6172d9aa762d4802f</td>\n",
       "      <td>Society</td>\n",
       "      <td>PROC</td>\n",
       "      <td>Mr Deputy Speaker</td>\n",
       "    </tr>\n",
       "    <tr>\n",
       "      <th>1</th>\n",
       "      <td>Mr Deputy Speaker</td>\n",
       "      <td>Mr Png Eng Huat (Hougang)</td>\n",
       "      <td>5d27eca6172d9aa762d4802f</td>\n",
       "      <td>Society</td>\n",
       "      <td>Mr Deputy Speaker</td>\n",
       "      <td>Mr Png Eng Huat</td>\n",
       "    </tr>\n",
       "    <tr>\n",
       "      <th>2</th>\n",
       "      <td>Mr Png Eng Huat (Hougang)</td>\n",
       "      <td>Mr Deputy Speaker</td>\n",
       "      <td>5d27eca6172d9aa762d4802f</td>\n",
       "      <td>Society</td>\n",
       "      <td>Mr Png Eng Huat</td>\n",
       "      <td>Mr Deputy Speaker</td>\n",
       "    </tr>\n",
       "    <tr>\n",
       "      <th>3</th>\n",
       "      <td>Mr Deputy Speaker</td>\n",
       "      <td>The Minister for Communications and Informatio...</td>\n",
       "      <td>5d27eca6172d9aa762d4802f</td>\n",
       "      <td>Society</td>\n",
       "      <td>Mr Deputy Speaker</td>\n",
       "      <td>Mr S Iswaran</td>\n",
       "    </tr>\n",
       "    <tr>\n",
       "      <th>4</th>\n",
       "      <td>The Minister for Communications and Informatio...</td>\n",
       "      <td>Mr Deputy Speaker</td>\n",
       "      <td>5d27eca6172d9aa762d4802f</td>\n",
       "      <td>Society</td>\n",
       "      <td>Mr S Iswaran</td>\n",
       "      <td>Mr Deputy Speaker</td>\n",
       "    </tr>\n",
       "  </tbody>\n",
       "</table>\n",
       "</div>"
      ],
      "text/plain": [
       "                                                from  \\\n",
       "0                                               PROC   \n",
       "1                                  Mr Deputy Speaker   \n",
       "2                          Mr Png Eng Huat (Hougang)   \n",
       "3                                  Mr Deputy Speaker   \n",
       "4  The Minister for Communications and Informatio...   \n",
       "\n",
       "                                                  to  \\\n",
       "0                                  Mr Deputy Speaker   \n",
       "1                          Mr Png Eng Huat (Hougang)   \n",
       "2                                  Mr Deputy Speaker   \n",
       "3  The Minister for Communications and Informatio...   \n",
       "4                                  Mr Deputy Speaker   \n",
       "\n",
       "                      docID doctopic         from_clean           to_clean  \n",
       "0  5d27eca6172d9aa762d4802f  Society               PROC  Mr Deputy Speaker  \n",
       "1  5d27eca6172d9aa762d4802f  Society  Mr Deputy Speaker    Mr Png Eng Huat  \n",
       "2  5d27eca6172d9aa762d4802f  Society    Mr Png Eng Huat  Mr Deputy Speaker  \n",
       "3  5d27eca6172d9aa762d4802f  Society  Mr Deputy Speaker       Mr S Iswaran  \n",
       "4  5d27eca6172d9aa762d4802f  Society       Mr S Iswaran  Mr Deputy Speaker  "
      ]
     },
     "execution_count": 42,
     "metadata": {},
     "output_type": "execute_result"
    }
   ],
   "source": [
    "network_template.head()"
   ]
  },
  {
   "cell_type": "markdown",
   "metadata": {},
   "source": [
    "## Visualise the Dataset\n",
    "\n",
    "Next, we want to clean the data even further to drop the prefixes for each speaker"
   ]
  },
  {
   "cell_type": "code",
   "execution_count": 191,
   "metadata": {},
   "outputs": [
    {
     "data": {
      "text/plain": [
       "PROC             10957\n",
       "The Chairman      2064\n",
       "Mdm Speaker       1174\n",
       "Mr Speaker        1118\n",
       "Ms Sylvia Lim      526\n",
       "Name: from_clean, dtype: int64"
      ]
     },
     "execution_count": 191,
     "metadata": {},
     "output_type": "execute_result"
    }
   ],
   "source": [
    "network_template.from_clean.value_counts().head()"
   ]
  },
  {
   "cell_type": "code",
   "execution_count": 47,
   "metadata": {},
   "outputs": [],
   "source": [
    "network_template.dropna(inplace=True)"
   ]
  },
  {
   "cell_type": "code",
   "execution_count": 48,
   "metadata": {},
   "outputs": [],
   "source": [
    "network_template['from_clean'] = network_template.from_clean.map(lambda x : (re.sub(r'(\\(.*?\\))','',x).strip()))\n",
    "network_template['to_clean'] = network_template.to_clean.map(lambda x : (re.sub(r'(\\(.*?\\))','',x).strip()))"
   ]
  },
  {
   "cell_type": "code",
   "execution_count": 49,
   "metadata": {},
   "outputs": [],
   "source": [
    "network_template['from_clean'] = network_template.from_clean.map(lambda x : x.replace('.',' '))\n",
    "network_template['to_clean'] = network_template.to_clean.map(lambda x : x.replace('.',' '))"
   ]
  },
  {
   "cell_type": "markdown",
   "metadata": {},
   "source": [
    "We then remove any interaction that equals to one."
   ]
  },
  {
   "cell_type": "code",
   "execution_count": 50,
   "metadata": {},
   "outputs": [],
   "source": [
    "counts = network_template['from_clean'].value_counts()\n",
    "res = network_template[~network_template['from_clean'].isin(counts[counts < 2].index)]"
   ]
  },
  {
   "cell_type": "code",
   "execution_count": 51,
   "metadata": {},
   "outputs": [],
   "source": [
    "counts = res['to_clean'].value_counts()\n",
    "res = res[~res['to_clean'].isin(counts[counts < 2].index)]"
   ]
  },
  {
   "cell_type": "code",
   "execution_count": 52,
   "metadata": {},
   "outputs": [
    {
     "data": {
      "text/plain": [
       "'The Chairman'"
      ]
     },
     "execution_count": 52,
     "metadata": {},
     "output_type": "execute_result"
    }
   ],
   "source": [
    "re.sub(r'(\\[.*?\\])','','[Mr Speaker in the Chair]The Chairman')"
   ]
  },
  {
   "cell_type": "code",
   "execution_count": 53,
   "metadata": {},
   "outputs": [],
   "source": [
    "res.from_clean = res.from_clean.map(lambda x: re.sub(r'(\\[.*?\\])','',x).strip())\n",
    "res.to_clean = res.to_clean.map(lambda x: re.sub(r'(\\[.*?\\])','',x).strip())"
   ]
  },
  {
   "cell_type": "code",
   "execution_count": 54,
   "metadata": {},
   "outputs": [],
   "source": [
    "res.from_clean = res.from_clean.map(lambda x : 'Chairman' if x == 'The Chairman' else x)\n",
    "res.to_clean = res.to_clean.map(lambda x : 'Chairman' if x == 'The Chairman' else x)"
   ]
  },
  {
   "cell_type": "code",
   "execution_count": 55,
   "metadata": {},
   "outputs": [],
   "source": [
    "res.from_clean = res.from_clean.map(lambda x: re.sub(r'\\(|\\)','',x).strip())\n",
    "res.to_clean = res.to_clean.map(lambda x: re.sub(r'\\(|\\)','',x).strip())"
   ]
  },
  {
   "cell_type": "markdown",
   "metadata": {},
   "source": [
    "Remove any residual whitespaces."
   ]
  },
  {
   "cell_type": "code",
   "execution_count": 56,
   "metadata": {},
   "outputs": [],
   "source": [
    "res['to_salutation'] = res.to_clean.map(lambda x: ''.join(x.split(maxsplit=1)[:1]))\n",
    "res['from_salutation'] = res.from_clean.map(lambda x: ''.join(x.split(maxsplit=1)[:1]))"
   ]
  },
  {
   "cell_type": "code",
   "execution_count": 57,
   "metadata": {},
   "outputs": [],
   "source": [
    "sum_salutations = res['to_salutation'].value_counts() + res['from_salutation'].value_counts()"
   ]
  },
  {
   "cell_type": "code",
   "execution_count": 59,
   "metadata": {},
   "outputs": [],
   "source": [
    "salutations = ['Assoc','Assoc Prof','Dr','Er','Er Dr','MG','Mdm','Miss','Mrs','Ms','Prof','RAdm']\n",
    "salutations_list = \"|\".join(salutations)"
   ]
  },
  {
   "cell_type": "code",
   "execution_count": 60,
   "metadata": {},
   "outputs": [],
   "source": [
    "res['clean_from_salutation'] = res.from_clean.map(lambda x : re.sub(salutations_list,'',x).strip())\n",
    "res['clean_from_salutation'] = res.clean_from_salutation.map(lambda x : re.sub('Mr','',x).strip())\n",
    "\n",
    "res['clean_to_salutation'] = res.to_clean.map(lambda x : re.sub(salutations_list,'',x).strip())\n",
    "res['clean_to_salutation'] = res.clean_to_salutation.map(lambda x : re.sub('Mr','',x).strip())"
   ]
  },
  {
   "cell_type": "markdown",
   "metadata": {},
   "source": [
    "Generating the Network Diagram using networkx."
   ]
  },
  {
   "cell_type": "code",
   "execution_count": 75,
   "metadata": {},
   "outputs": [],
   "source": [
    "graph_df = res[['clean_from_salutation','clean_to_salutation']]\n",
    "graph_df.rename(columns={'clean_from_salutation':'from','clean_to_salutation':'to'},inplace=True)"
   ]
  },
  {
   "cell_type": "markdown",
   "metadata": {},
   "source": [
    "Grouping is performed to get the count of people per correspondence"
   ]
  },
  {
   "cell_type": "code",
   "execution_count": 76,
   "metadata": {},
   "outputs": [],
   "source": [
    "grouped_graph_df = graph_df.groupby(by=['to','from']).size().reset_index().rename(columns={0:'Count'})"
   ]
  },
  {
   "cell_type": "markdown",
   "metadata": {},
   "source": [
    "We generate an index containing combination of unique individuals in the `to` and `from` column."
   ]
  },
  {
   "cell_type": "code",
   "execution_count": 77,
   "metadata": {},
   "outputs": [],
   "source": [
    "unique_ppl = pd.Index(grouped_graph_df['from']\n",
    "                      .append(grouped_graph_df['to'])\n",
    "                      .reset_index(drop=True).unique())"
   ]
  },
  {
   "cell_type": "code",
   "execution_count": 78,
   "metadata": {},
   "outputs": [
    {
     "data": {
      "text/plain": [
       "Index(['K Shanmugam', 'Lam Pin Min', 'PROC', 'Ang Mong Seng', 'Baey Yam Keng',\n",
       "       'Cedric Foo Chee Keng', 'Chairman', 'Charles Chong',\n",
       "       'Eunice Elizabeth Olsen', 'Gan Kim Yong',\n",
       "       ...\n",
       "       'Loo Choon Yong', 'Mohd Ismail Hussein', 'An hon Member',\n",
       "       'Lee Boon Yang', 'Balaji Sadasivan', 'Cham Hui Fong', 'Goh Chok Tong',\n",
       "       '﻿ Speaker', 'Jessie Phua', 'Lee Kuan Yew'],\n",
       "      dtype='object', length=202)"
      ]
     },
     "execution_count": 78,
     "metadata": {},
     "output_type": "execute_result"
    }
   ],
   "source": [
    "unique_ppl\n",
    "\n"
   ]
  },
  {
   "cell_type": "code",
   "execution_count": 68,
   "metadata": {},
   "outputs": [],
   "source": [
    "grouped_graph_df.rename(columns={0:'count'}, inplace=True)\n",
    "temp_links_list = list(grouped_graph_df.apply(lambda row: {\"source\": row['from'], \"target\": row['to'], \"value\": row['Count']}, axis=1))"
   ]
  },
  {
   "cell_type": "code",
   "execution_count": 69,
   "metadata": {},
   "outputs": [],
   "source": [
    "links_list = []\n",
    "for link in temp_links_list:\n",
    "    record = {\"value\":link['value'], \"source\":unique_ppl.get_loc(link['source']),\n",
    "     \"target\": unique_ppl.get_loc(link['target'])}\n",
    "    links_list.append(record)"
   ]
  },
  {
   "cell_type": "code",
   "execution_count": 70,
   "metadata": {},
   "outputs": [],
   "source": [
    "grouped_graph_cnts = grouped_graph_df.groupby('to').size().reset_index().rename(columns={'to':'name',0:'count'}).to_dict('records')"
   ]
  },
  {
   "cell_type": "code",
   "execution_count": 71,
   "metadata": {},
   "outputs": [],
   "source": [
    "nodes_list = []\n",
    "\n",
    "for idx,name in enumerate(unique_ppl):\n",
    "    influence = 0\n",
    "    for item in grouped_graph_cnts:\n",
    "        if item['name'] == name:\n",
    "            influence = item['count']\n",
    "    nodes_list.append({\"name\":name, \"id\": idx, \"influence\" : influence })\n",
    "    "
   ]
  },
  {
   "cell_type": "code",
   "execution_count": 72,
   "metadata": {},
   "outputs": [
    {
     "data": {
      "text/plain": [
       "dict_keys(['nodes', 'links'])"
      ]
     },
     "execution_count": 72,
     "metadata": {},
     "output_type": "execute_result"
    }
   ],
   "source": [
    "json_prep = {\"nodes\":nodes_list, \"links\":links_list}\n",
    "\n",
    "json_prep.keys()"
   ]
  },
  {
   "cell_type": "code",
   "execution_count": 73,
   "metadata": {},
   "outputs": [],
   "source": [
    "json_dump = json.dumps(json_prep, indent=1, sort_keys=True)"
   ]
  },
  {
   "cell_type": "code",
   "execution_count": 79,
   "metadata": {},
   "outputs": [],
   "source": [
    "filename_out = 'node_export_influence.json'\n",
    "json_out = open(filename_out,'w')\n",
    "json_out.write(json_dump)\n",
    "json_out.close()"
   ]
  },
  {
   "cell_type": "markdown",
   "metadata": {},
   "source": [
    "## Add in Party Affliation / Role to network diagram"
   ]
  },
  {
   "cell_type": "code",
   "execution_count": 80,
   "metadata": {},
   "outputs": [],
   "source": [
    "mp_list = pd.read_csv('clean_mp.csv',infer_datetime_format=True)"
   ]
  },
  {
   "cell_type": "code",
   "execution_count": 87,
   "metadata": {},
   "outputs": [],
   "source": [
    "party_list = pd.read_csv('refer.csv',infer_datetime_format=True)"
   ]
  },
  {
   "cell_type": "code",
   "execution_count": 89,
   "metadata": {},
   "outputs": [],
   "source": [
    "party_list.drop(columns=['Unnamed: 0'],inplace=True)"
   ]
  },
  {
   "cell_type": "code",
   "execution_count": 114,
   "metadata": {},
   "outputs": [],
   "source": [
    "ncmp_list = pd.read_csv('ncmp.csv')\n",
    "nmp_list = pd.read_csv('nmp.csv')"
   ]
  },
  {
   "cell_type": "code",
   "execution_count": 115,
   "metadata": {},
   "outputs": [],
   "source": [
    "nmp_list['designation'] = 'NMP'"
   ]
  },
  {
   "cell_type": "code",
   "execution_count": 116,
   "metadata": {},
   "outputs": [
    {
     "data": {
      "text/html": [
       "<div>\n",
       "<style scoped>\n",
       "    .dataframe tbody tr th:only-of-type {\n",
       "        vertical-align: middle;\n",
       "    }\n",
       "\n",
       "    .dataframe tbody tr th {\n",
       "        vertical-align: top;\n",
       "    }\n",
       "\n",
       "    .dataframe thead th {\n",
       "        text-align: right;\n",
       "    }\n",
       "</style>\n",
       "<table border=\"1\" class=\"dataframe\">\n",
       "  <thead>\n",
       "    <tr style=\"text-align: right;\">\n",
       "      <th></th>\n",
       "      <th>ncmp</th>\n",
       "      <th>parliament</th>\n",
       "    </tr>\n",
       "  </thead>\n",
       "  <tbody>\n",
       "    <tr>\n",
       "      <th>0</th>\n",
       "      <td>Daniel Goh Pei Siong</td>\n",
       "      <td>13</td>\n",
       "    </tr>\n",
       "    <tr>\n",
       "      <th>1</th>\n",
       "      <td>Leon Perera</td>\n",
       "      <td>13</td>\n",
       "    </tr>\n",
       "    <tr>\n",
       "      <th>2</th>\n",
       "      <td>Dennis Tan Lip Fong</td>\n",
       "      <td>13</td>\n",
       "    </tr>\n",
       "    <tr>\n",
       "      <th>3</th>\n",
       "      <td>Gerald Giam</td>\n",
       "      <td>12</td>\n",
       "    </tr>\n",
       "    <tr>\n",
       "      <th>4</th>\n",
       "      <td>Yee Jenn Jong</td>\n",
       "      <td>12</td>\n",
       "    </tr>\n",
       "  </tbody>\n",
       "</table>\n",
       "</div>"
      ],
      "text/plain": [
       "                   ncmp  parliament\n",
       "0  Daniel Goh Pei Siong          13\n",
       "1           Leon Perera          13\n",
       "2   Dennis Tan Lip Fong          13\n",
       "3           Gerald Giam          12\n",
       "4         Yee Jenn Jong          12"
      ]
     },
     "execution_count": 116,
     "metadata": {},
     "output_type": "execute_result"
    }
   ],
   "source": [
    "ncmp_list.head()"
   ]
  },
  {
   "cell_type": "code",
   "execution_count": 117,
   "metadata": {},
   "outputs": [
    {
     "data": {
      "text/html": [
       "<div>\n",
       "<style scoped>\n",
       "    .dataframe tbody tr th:only-of-type {\n",
       "        vertical-align: middle;\n",
       "    }\n",
       "\n",
       "    .dataframe tbody tr th {\n",
       "        vertical-align: top;\n",
       "    }\n",
       "\n",
       "    .dataframe thead th {\n",
       "        text-align: right;\n",
       "    }\n",
       "</style>\n",
       "<table border=\"1\" class=\"dataframe\">\n",
       "  <thead>\n",
       "    <tr style=\"text-align: right;\">\n",
       "      <th></th>\n",
       "      <th>Unnamed: 0</th>\n",
       "      <th>name</th>\n",
       "      <th>designation</th>\n",
       "      <th>birth_year</th>\n",
       "      <th>party</th>\n",
       "      <th>constituency</th>\n",
       "      <th>salutation</th>\n",
       "      <th>matched_name</th>\n",
       "    </tr>\n",
       "  </thead>\n",
       "  <tbody>\n",
       "    <tr>\n",
       "      <th>0</th>\n",
       "      <td>0</td>\n",
       "      <td>AMRIN AMIN</td>\n",
       "      <td>Senior Parliamentary Secretary, Ministry of Ho...</td>\n",
       "      <td>1/1/78</td>\n",
       "      <td>People's Action Party</td>\n",
       "      <td>Sembawang GRC</td>\n",
       "      <td>Mr</td>\n",
       "      <td>AMRIN BIN AMIN</td>\n",
       "    </tr>\n",
       "    <tr>\n",
       "      <th>1</th>\n",
       "      <td>1</td>\n",
       "      <td>ANG HIN KEE</td>\n",
       "      <td>Member of Parliament</td>\n",
       "      <td>1/1/65</td>\n",
       "      <td>People's Action Party</td>\n",
       "      <td>Ang Mo Kio GRC</td>\n",
       "      <td>Mr</td>\n",
       "      <td>ANG HIN KEE</td>\n",
       "    </tr>\n",
       "    <tr>\n",
       "      <th>2</th>\n",
       "      <td>2</td>\n",
       "      <td>ANG WEI NENG</td>\n",
       "      <td>Member of Parliament</td>\n",
       "      <td>1/1/67</td>\n",
       "      <td>People's Action Party</td>\n",
       "      <td>Jurong GRC</td>\n",
       "      <td>Mr</td>\n",
       "      <td>ANG WEI NENG</td>\n",
       "    </tr>\n",
       "    <tr>\n",
       "      <th>3</th>\n",
       "      <td>3</td>\n",
       "      <td>BAEY YAM KENG</td>\n",
       "      <td>Senior Parliamentary Secretary, Ministry of Tr...</td>\n",
       "      <td>1/1/70</td>\n",
       "      <td>People's Action Party</td>\n",
       "      <td>Tampines GRC</td>\n",
       "      <td>Mr</td>\n",
       "      <td>BAEY YAM KENG</td>\n",
       "    </tr>\n",
       "    <tr>\n",
       "      <th>4</th>\n",
       "      <td>4</td>\n",
       "      <td>CHERYL CHAN WEI LING</td>\n",
       "      <td>Member of Parliament</td>\n",
       "      <td>1/1/76</td>\n",
       "      <td>People's Action Party</td>\n",
       "      <td>Fengshan</td>\n",
       "      <td>Miss</td>\n",
       "      <td>CHAN WEI LING  CHERYL</td>\n",
       "    </tr>\n",
       "  </tbody>\n",
       "</table>\n",
       "</div>"
      ],
      "text/plain": [
       "   Unnamed: 0                  name  \\\n",
       "0           0            AMRIN AMIN   \n",
       "1           1           ANG HIN KEE   \n",
       "2           2          ANG WEI NENG   \n",
       "3           3         BAEY YAM KENG   \n",
       "4           4  CHERYL CHAN WEI LING   \n",
       "\n",
       "                                         designation birth_year  \\\n",
       "0  Senior Parliamentary Secretary, Ministry of Ho...     1/1/78   \n",
       "1                               Member of Parliament     1/1/65   \n",
       "2                               Member of Parliament     1/1/67   \n",
       "3  Senior Parliamentary Secretary, Ministry of Tr...     1/1/70   \n",
       "4                               Member of Parliament     1/1/76   \n",
       "\n",
       "                   party    constituency salutation           matched_name  \n",
       "0  People's Action Party   Sembawang GRC         Mr         AMRIN BIN AMIN  \n",
       "1  People's Action Party  Ang Mo Kio GRC         Mr            ANG HIN KEE  \n",
       "2  People's Action Party      Jurong GRC         Mr           ANG WEI NENG  \n",
       "3  People's Action Party    Tampines GRC         Mr          BAEY YAM KENG  \n",
       "4  People's Action Party        Fengshan       Miss  CHAN WEI LING  CHERYL  "
      ]
     },
     "execution_count": 117,
     "metadata": {},
     "output_type": "execute_result"
    }
   ],
   "source": [
    "mp_list.head()"
   ]
  },
  {
   "cell_type": "code",
   "execution_count": 118,
   "metadata": {},
   "outputs": [],
   "source": [
    "nmp_list = nmp_list.rename(columns={'nmp':'name','Parliament':'parliament'})"
   ]
  },
  {
   "cell_type": "code",
   "execution_count": 119,
   "metadata": {},
   "outputs": [],
   "source": [
    "ncmp_list['designation'] = 'ncmp'\n",
    "ncmp_list.rename(columns={'ncmp':'name'},inplace=True)"
   ]
  },
  {
   "cell_type": "code",
   "execution_count": 120,
   "metadata": {},
   "outputs": [],
   "source": [
    "combinedlist = nmp_list.append(ncmp_list,ignore_index=True)"
   ]
  },
  {
   "cell_type": "code",
   "execution_count": 124,
   "metadata": {},
   "outputs": [],
   "source": [
    "combinedlist = combinedlist.append(mp_list.drop(columns=\"Unnamed: 0\"),ignore_index=True)[['constituency','designation','name','party']]"
   ]
  },
  {
   "cell_type": "code",
   "execution_count": 133,
   "metadata": {},
   "outputs": [],
   "source": [
    "combinedlist.designation = combinedlist.designation.map(lambda x : 'Nominated Member of Parliament' if x == 'NMP' else ('Non-Constituency Member of Parliament' if x=='ncmp' else x) )"
   ]
  },
  {
   "cell_type": "code",
   "execution_count": 138,
   "metadata": {},
   "outputs": [],
   "source": [
    "combinedlist.fillna('NA',inplace=True)"
   ]
  },
  {
   "cell_type": "code",
   "execution_count": 146,
   "metadata": {},
   "outputs": [],
   "source": [
    "# consolidate various designations\n",
    "combinedlist['clean_designation'] = combinedlist.designation.map(lambda x : 'Minister' if 'Minister' in x else x)\n",
    "combinedlist['clean_designation'] = combinedlist.clean_designation.map(lambda x : 'Parliamentary Secretary' if 'Parliamentary Secretary' in x else x)\n",
    "combinedlist['clean_designation'] = combinedlist.clean_designation.map(lambda x : 'Mayor' if 'Mayor' in x else x)"
   ]
  },
  {
   "cell_type": "code",
   "execution_count": 157,
   "metadata": {},
   "outputs": [],
   "source": [
    "combinedlist['party'] = combinedlist.party.map(lambda x : \"Nominated Member of Parliament\" if x == \"NA\" else x)"
   ]
  },
  {
   "cell_type": "code",
   "execution_count": 163,
   "metadata": {},
   "outputs": [],
   "source": [
    "party_list = party_list.rename(columns={\"Name\":\"name\",\"Party\":\"party\"})"
   ]
  },
  {
   "cell_type": "code",
   "execution_count": 165,
   "metadata": {},
   "outputs": [],
   "source": [
    "combinedlist = combinedlist.append(party_list,ignore_index=True)"
   ]
  },
  {
   "cell_type": "code",
   "execution_count": 166,
   "metadata": {},
   "outputs": [
    {
     "data": {
      "text/plain": [
       "People's Action Party                     400\n",
       "Workers' Party                            136\n",
       "Nominated Member of Parliament            131\n",
       "Independent                               106\n",
       "Liberal Socialist Party                    61\n",
       "Barisan Sosialis                           52\n",
       "National Solidarity Party                  40\n",
       "Singapore Democratic Party                 40\n",
       "Singapore Alliance                         39\n",
       "United People's Party                      38\n",
       "Progressive Party                          30\n",
       "United National Front                      30\n",
       "Labour Front                               26\n",
       "Singapore People's Alliance                25\n",
       "Singapore Democratic Alliance              23\n",
       "United People's Front                      18\n",
       "Reform Party                               17\n",
       "Democratic Party                           15\n",
       "Singapore People's Party                   13\n",
       "Labour Party                               13\n",
       "United Front                               12\n",
       "Singaporeans First                         10\n",
       "Pertubuhan Kebangsaan Melayu Singapura      9\n",
       "Malayan Chinese Association                 7\n",
       "Presidential Office                         7\n",
       "Partai Rakyat                               7\n",
       "United Malays National Organisation         7\n",
       "Singapore United Front                      7\n",
       "People's Front                              6\n",
       "Citizens' Party                             5\n",
       "Singapore Justice Party                     5\n",
       "People's Power Party                        4\n",
       "Malay Union                                 4\n",
       "Pan-Malayan Islamic Party                   3\n",
       "Justice Party, Singapore                    3\n",
       "Malayan Indian Congress                     2\n",
       "Katong United Residents' Association        1\n",
       "Singapore Congress                          1\n",
       "United Democratic Party                     1\n",
       "Democratic Progressive Party                1\n",
       "Name: party, dtype: int64"
      ]
     },
     "execution_count": 166,
     "metadata": {},
     "output_type": "execute_result"
    }
   ],
   "source": [
    "combinedlist.party.value_counts()"
   ]
  },
  {
   "cell_type": "code",
   "execution_count": 209,
   "metadata": {},
   "outputs": [],
   "source": [
    "combinedlist.to_csv('consolidated.csv')"
   ]
  },
  {
   "cell_type": "markdown",
   "metadata": {},
   "source": [
    "Fuzzy extraction of names using the fuzzy wuzzy library to closely approximate a name to the party"
   ]
  },
  {
   "cell_type": "code",
   "execution_count": 178,
   "metadata": {},
   "outputs": [],
   "source": [
    "from fuzzywuzzy import process, fuzz"
   ]
  },
  {
   "cell_type": "code",
   "execution_count": 241,
   "metadata": {},
   "outputs": [
    {
     "name": "stdout",
     "output_type": "stream",
     "text": [
      "{'name': 'PROC', 'id': 2, 'influence': 159, 'party': 3}\n",
      "{'name': 'Chairman', 'id': 6, 'influence': 170, 'party': 3}\n"
     ]
    },
    {
     "name": "stderr",
     "output_type": "stream",
     "text": [
      "WARNING:root:Applied processor reduces input query to empty string, all comparisons will have score 0. [Query: '']\n"
     ]
    },
    {
     "name": "stdout",
     "output_type": "stream",
     "text": [
      "{'name': '', 'id': 21, 'influence': 3, 'party': 3}\n",
      "{'name': 'Speaker', 'id': 69, 'influence': 163, 'party': 3}\n",
      "{'name': 'Deputy Speaker', 'id': 110, 'influence': 112, 'party': 3}\n",
      "{'name': 'Higher Education and Skills', 'id': 173, 'influence': 4, 'party': 3}\n",
      "{'name': 'Industry', 'id': 175, 'influence': 4, 'party': 3}\n",
      "{'name': 'Schools', 'id': 181, 'influence': 4, 'party': 3}\n",
      "{'name': 'Trade', 'id': 182, 'influence': 4, 'party': 3}\n",
      "{'name': 'Minister of State for Health', 'id': 186, 'influence': 1, 'party': 3}\n",
      "{'name': '\\ufeff Speaker', 'id': 199, 'influence': 2, 'party': 3}\n"
     ]
    }
   ],
   "source": [
    "for item in nodes_list:\n",
    "    try:\n",
    "        if item['name'] != 'None':\n",
    "            idx = process.extractOne(item['name'],combinedlist.name, score_cutoff=80) [2]\n",
    "            item['party'] = combinedlist.iloc[idx].party\n",
    "        else:\n",
    "            item['party'] = \"NA\"\n",
    "    except TypeError:\n",
    "        print(item)\n",
    "        item['party'] = \"NA\"\n",
    "        continue\n",
    "    "
   ]
  },
  {
   "cell_type": "code",
   "execution_count": 242,
   "metadata": {},
   "outputs": [],
   "source": [
    "parties = []\n",
    "for item in nodes_list:\n",
    "    parties.append(item['party'])\n",
    "\n",
    "dict\n",
    "legend = {}\n",
    "for idx,k in enumerate(list(set(parties))):\n",
    "    legend[k] = idx"
   ]
  },
  {
   "cell_type": "code",
   "execution_count": 243,
   "metadata": {},
   "outputs": [
    {
     "data": {
      "text/plain": [
       "[{'name': 'K Shanmugam',\n",
       "  'id': 0,\n",
       "  'influence': 62,\n",
       "  'party': \"People's Action Party\"},\n",
       " {'name': 'Lam Pin Min',\n",
       "  'id': 1,\n",
       "  'influence': 92,\n",
       "  'party': \"People's Action Party\"},\n",
       " {'name': 'PROC', 'id': 2, 'influence': 159, 'party': 'NA'}]"
      ]
     },
     "execution_count": 243,
     "metadata": {},
     "output_type": "execute_result"
    }
   ],
   "source": [
    "nodes_list[:3]"
   ]
  },
  {
   "cell_type": "code",
   "execution_count": 244,
   "metadata": {},
   "outputs": [],
   "source": [
    "for ent in nodes_list:\n",
    "    ent['party_key'] = legend[ent['party']]"
   ]
  },
  {
   "cell_type": "code",
   "execution_count": 245,
   "metadata": {},
   "outputs": [
    {
     "data": {
      "text/plain": [
       "{\"Workers' Party\": 0,\n",
       " \"Singapore People's Party\": 1,\n",
       " 'Presidential Office': 2,\n",
       " 'NA': 3,\n",
       " 'Barisan Sosialis': 4,\n",
       " \"People's Action Party\": 5,\n",
       " 'Nominated Member of Parliament': 6}"
      ]
     },
     "execution_count": 245,
     "metadata": {},
     "output_type": "execute_result"
    }
   ],
   "source": [
    "legend"
   ]
  },
  {
   "cell_type": "code",
   "execution_count": 247,
   "metadata": {},
   "outputs": [
    {
     "data": {
      "text/plain": [
       "dict_keys(['nodes', 'links'])"
      ]
     },
     "execution_count": 247,
     "metadata": {},
     "output_type": "execute_result"
    }
   ],
   "source": [
    "json_prep = {\"nodes\":nodes_list, \"links\":links_list}\n",
    "\n",
    "json_prep.keys()"
   ]
  },
  {
   "cell_type": "code",
   "execution_count": 248,
   "metadata": {},
   "outputs": [],
   "source": [
    "json_dump = json.dumps(json_prep, indent=1, sort_keys=True)"
   ]
  },
  {
   "cell_type": "code",
   "execution_count": 249,
   "metadata": {},
   "outputs": [],
   "source": [
    "filename_out = 'node_export_party_influence.json'\n",
    "json_out = open(filename_out,'w')\n",
    "json_out.write(json_dump)\n",
    "json_out.close()"
   ]
  },
  {
   "cell_type": "markdown",
   "metadata": {},
   "source": [
    "## Perform EDA on topics over time"
   ]
  },
  {
   "cell_type": "code",
   "execution_count": 6,
   "metadata": {},
   "outputs": [],
   "source": [
    "topic_date = mongo_df[['dominant_topic','sitting_date']].copy()"
   ]
  },
  {
   "cell_type": "code",
   "execution_count": 7,
   "metadata": {},
   "outputs": [],
   "source": [
    "topic_date.set_index(topic_date[\"sitting_date\"],inplace=True)"
   ]
  },
  {
   "cell_type": "code",
   "execution_count": 8,
   "metadata": {},
   "outputs": [
    {
     "name": "stderr",
     "output_type": "stream",
     "text": [
      "/Users/syamil/anaconda3/envs/pivot/lib/python3.7/site-packages/pandas/core/groupby/groupby.py:1436: FutureWarning: how in .resample() is deprecated\n",
      "the new syntax is .resample(...).count()\n",
      "  return get_resampler_for_grouping(self, rule, *args, **kwargs)\n"
     ]
    },
    {
     "data": {
      "text/html": [
       "<div>\n",
       "<style scoped>\n",
       "    .dataframe tbody tr th:only-of-type {\n",
       "        vertical-align: middle;\n",
       "    }\n",
       "\n",
       "    .dataframe tbody tr th {\n",
       "        vertical-align: top;\n",
       "    }\n",
       "\n",
       "    .dataframe thead th {\n",
       "        text-align: right;\n",
       "    }\n",
       "</style>\n",
       "<table border=\"1\" class=\"dataframe\">\n",
       "  <thead>\n",
       "    <tr style=\"text-align: right;\">\n",
       "      <th></th>\n",
       "      <th>dominant_topic</th>\n",
       "      <th>sitting_date</th>\n",
       "      <th>topic_count</th>\n",
       "    </tr>\n",
       "  </thead>\n",
       "  <tbody>\n",
       "    <tr>\n",
       "      <th>0</th>\n",
       "      <td>Business</td>\n",
       "      <td>2009-01-31</td>\n",
       "      <td>2</td>\n",
       "    </tr>\n",
       "    <tr>\n",
       "      <th>1</th>\n",
       "      <td>Business</td>\n",
       "      <td>2009-02-28</td>\n",
       "      <td>4</td>\n",
       "    </tr>\n",
       "    <tr>\n",
       "      <th>2</th>\n",
       "      <td>Business</td>\n",
       "      <td>2009-03-31</td>\n",
       "      <td>1</td>\n",
       "    </tr>\n",
       "    <tr>\n",
       "      <th>3</th>\n",
       "      <td>Business</td>\n",
       "      <td>2009-04-30</td>\n",
       "      <td>0</td>\n",
       "    </tr>\n",
       "    <tr>\n",
       "      <th>4</th>\n",
       "      <td>Business</td>\n",
       "      <td>2009-05-31</td>\n",
       "      <td>10</td>\n",
       "    </tr>\n",
       "  </tbody>\n",
       "</table>\n",
       "</div>"
      ],
      "text/plain": [
       "  dominant_topic sitting_date  topic_count\n",
       "0       Business   2009-01-31            2\n",
       "1       Business   2009-02-28            4\n",
       "2       Business   2009-03-31            1\n",
       "3       Business   2009-04-30            0\n",
       "4       Business   2009-05-31           10"
      ]
     },
     "execution_count": 8,
     "metadata": {},
     "output_type": "execute_result"
    }
   ],
   "source": [
    "topic_groupings_count = topic_date.groupby(by='dominant_topic').resample('M', how='count').rename(columns={'dominant_topic':'topic_count'})['topic_count'].reset_index()\n",
    "topic_groupings_count.head()"
   ]
  },
  {
   "cell_type": "code",
   "execution_count": 9,
   "metadata": {},
   "outputs": [],
   "source": [
    "topic_groupings_count['year'] = topic_groupings_count.sitting_date.map(lambda x : x.year)\n",
    "topic_groupings_count['month'] = topic_groupings_count.sitting_date.map(lambda x : x.month)"
   ]
  },
  {
   "cell_type": "code",
   "execution_count": 10,
   "metadata": {},
   "outputs": [
    {
     "data": {
      "text/plain": [
       "Business             125\n",
       "Internal Security    125\n",
       "External Security    125\n",
       "Healthcare           125\n",
       "Law                  125\n",
       "Society              125\n",
       "Environment          125\n",
       "Living               125\n",
       "Education            125\n",
       "Employment           125\n",
       "Name: dominant_topic, dtype: int64"
      ]
     },
     "execution_count": 10,
     "metadata": {},
     "output_type": "execute_result"
    }
   ],
   "source": [
    "topic_groupings_count.dominant_topic.value_counts()"
   ]
  },
  {
   "cell_type": "code",
   "execution_count": 11,
   "metadata": {},
   "outputs": [
    {
     "name": "stdout",
     "output_type": "stream",
     "text": [
      "<class 'pandas.core.frame.DataFrame'>\n",
      "RangeIndex: 1250 entries, 0 to 1249\n",
      "Data columns (total 5 columns):\n",
      "dominant_topic    1250 non-null object\n",
      "sitting_date      1250 non-null datetime64[ns]\n",
      "topic_count       1250 non-null int64\n",
      "year              1250 non-null int64\n",
      "month             1250 non-null int64\n",
      "dtypes: datetime64[ns](1), int64(3), object(1)\n",
      "memory usage: 48.9+ KB\n"
     ]
    }
   ],
   "source": [
    "topic_groupings_count.info()"
   ]
  },
  {
   "cell_type": "code",
   "execution_count": 18,
   "metadata": {},
   "outputs": [
    {
     "data": {
      "text/plain": [
       "Text(0.5, 1, 'Education')"
      ]
     },
     "execution_count": 18,
     "metadata": {},
     "output_type": "execute_result"
    },
    {
     "data": {
      "text/plain": [
       "<Figure size 1440x720 with 0 Axes>"
      ]
     },
     "metadata": {},
     "output_type": "display_data"
    },
    {
     "data": {
      "image/png": "[encoded data removed]",
      "text/plain": [
       "<Figure size 781.375x360 with 1 Axes>"
      ]
     },
     "metadata": {
      "needs_background": "light"
     },
     "output_type": "display_data"
    }
   ],
   "source": [
    "topic = \"Education\"\n",
    "\n",
    "plt.figure(figsize=(20,10))\n",
    "ax = sns.relplot(x=\"month\", y=\"topic_count\", hue=\"year\", kind = \"line\", data=topic_groupings_count[topic_groupings_count['dominant_topic'] == topic],aspect=2)\n",
    "plt.title(topic)"
   ]
  },
  {
   "cell_type": "code",
   "execution_count": null,
   "metadata": {},
   "outputs": [
    {
     "data": {
      "text/plain": [
       "[None, None, None, None, None, None, None, None, None, None]"
      ]
     },
     "execution_count": 93,
     "metadata": {},
     "output_type": "execute_result"
    },
    {
     "data": {
      "image/png": "[encoded data removed]",
      "text/plain": [
       "<Figure size 1440x720 with 1 Axes>"
      ]
     },
     "metadata": {
      "needs_background": "light"
     },
     "output_type": "display_data"
    }
   ],
   "source": [
    "plt.figure(figsize=(20,10))\n",
    "ax = sns.lineplot(x=\"year\", y=\"topic_count\", hue=\"dominant_topic\",  data=topic_groupings_count)\n",
    "plt.setp(ax.collections, alpha=0)"
   ]
  },
  {
   "cell_type": "code",
   "execution_count": null,
   "metadata": {},
   "outputs": [],
   "source": []
  }
 ],
 "metadata": {
  "kernelspec": {
   "display_name": "Python 3",
   "language": "python",
   "name": "python3"
  },
  "language_info": {
   "codemirror_mode": {
    "name": "ipython",
    "version": 3
   },
   "file_extension": ".py",
   "mimetype": "text/x-python",
   "name": "python",
   "nbconvert_exporter": "python",
   "pygments_lexer": "ipython3",
   "version": "3.6.8"
  }
 },
 "nbformat": 4,
 "nbformat_minor": 2
}
