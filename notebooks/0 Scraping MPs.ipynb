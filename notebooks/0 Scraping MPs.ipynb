{
 "cells": [
  {
   "cell_type": "markdown",
   "metadata": {},
   "source": [
    "# Scrape Parliament Members\n",
    "\n",
    "## Import Libraries"
   ]
  },
  {
   "cell_type": "code",
   "execution_count": 5,
   "metadata": {},
   "outputs": [],
   "source": [
    "import requests\n",
    "from bs4 import BeautifulSoup\n",
    "import re\n",
    "import numpy as np\n",
    "import pandas as pd\n",
    "from tqdm import tqdm"
   ]
  },
  {
   "cell_type": "code",
   "execution_count": 301,
   "metadata": {},
   "outputs": [],
   "source": [
    "url = \"http://www.singapore-elections.com/\"\n",
    "\n",
    "page = requests.get(url)"
   ]
  },
  {
   "cell_type": "code",
   "execution_count": 302,
   "metadata": {},
   "outputs": [
    {
     "data": {
      "text/plain": [
       "'ISO-8859-1'"
      ]
     },
     "execution_count": 302,
     "metadata": {},
     "output_type": "execute_result"
    }
   ],
   "source": [
    "page.encoding"
   ]
  },
  {
   "cell_type": "code",
   "execution_count": 303,
   "metadata": {},
   "outputs": [],
   "source": [
    "bs= BeautifulSoup(page.text,'html')"
   ]
  },
  {
   "cell_type": "code",
   "execution_count": 304,
   "metadata": {},
   "outputs": [],
   "source": [
    "candidate_pages = bs.find_all('a',{'href': re.compile(r'candidates/')})"
   ]
  },
  {
   "cell_type": "code",
   "execution_count": 305,
   "metadata": {},
   "outputs": [
    {
     "data": {
      "text/plain": [
       "'candidates/a-b.html'"
      ]
     },
     "execution_count": 305,
     "metadata": {},
     "output_type": "execute_result"
    }
   ],
   "source": [
    "candidate_pages[0]['href']"
   ]
  },
  {
   "cell_type": "code",
   "execution_count": 306,
   "metadata": {},
   "outputs": [],
   "source": [
    "uri = candidate_pages[0]['href']\n",
    "src = \"http://www.singapore-elections.com/\"\n",
    "page = src + uri\n",
    "res = requests.get(page)\n",
    "c  = BeautifulSoup(res.text,'lxml')"
   ]
  },
  {
   "cell_type": "code",
   "execution_count": 307,
   "metadata": {},
   "outputs": [],
   "source": [
    "candidate_row = c.find('table').find_all('table')[1].find_all('tr')"
   ]
  },
  {
   "cell_type": "code",
   "execution_count": 308,
   "metadata": {},
   "outputs": [
    {
     "data": {
      "text/plain": [
       "'\\n\\n\\n\\n\\xa0\\n\\xa0Elected MP\\n\\xa0\\n\\xa0Non-Constituency MP\\n\\xa0\\n\\xa0Forfeited deposit\\n\\n\\n\\n'"
      ]
     },
     "execution_count": 308,
     "metadata": {},
     "output_type": "execute_result"
    }
   ],
   "source": [
    "candidate_row[-6].get_text()"
   ]
  },
  {
   "cell_type": "code",
   "execution_count": 309,
   "metadata": {},
   "outputs": [
    {
     "data": {
      "text/plain": [
       "\"People's Action Party\""
      ]
     },
     "execution_count": 309,
     "metadata": {},
     "output_type": "execute_result"
    }
   ],
   "source": [
    "candidate_row[0].find('img')['title']"
   ]
  },
  {
   "cell_type": "code",
   "execution_count": 310,
   "metadata": {},
   "outputs": [],
   "source": [
    "def get_row_info(row):\n",
    "    name = row.find('td').get_text()\n",
    "    entity = {\n",
    "        'name' :  name,\n",
    "        'results' : []\n",
    "    }\n",
    "    details = row.find_all('td')\n",
    "    keys = []\n",
    "    for key,result in enumerate(details[1:]):\n",
    "        try:\n",
    "            ge_info = str(result).split('<br/>')\n",
    "            party = result.find('img')['title']\n",
    "            detail = {}\n",
    "            detail['id'] = key\n",
    "            keys.append(key)\n",
    "            detail['party'] = party\n",
    "            detail['GE_DATE'] = BeautifulSoup(ge_info[1],'lxml').get_text()\n",
    "            detail['Consituency'] = BeautifulSoup(ge_info[2],'lxml').get_text()\n",
    "            detail['Margin'] = BeautifulSoup(ge_info[3],'lxml').get_text()\n",
    "            entity['results'].append(detail)\n",
    "        except TypeError:\n",
    "            pass\n",
    "        except KeyError:\n",
    "            party = BeautifulSoup(ge_info[2],'lxml').get_text()\n",
    "            detail = {}\n",
    "            detail['id'] = key\n",
    "            keys.append(key)\n",
    "            detail['party'] = party\n",
    "            detail['GE_DATE'] = BeautifulSoup(ge_info[1],'lxml').get_text()\n",
    "            detail['Consituency'] = BeautifulSoup(ge_info[2],'lxml').get_text()\n",
    "            detail['Margin'] = BeautifulSoup(ge_info[3],'lxml').get_text()\n",
    "            entity['results'].append(detail)\n",
    "            continue\n",
    "\n",
    "    return max(keys) , entity"
   ]
  },
  {
   "cell_type": "code",
   "execution_count": 311,
   "metadata": {},
   "outputs": [
    {
     "data": {
      "text/plain": [
       "(1,\n",
       " {'name': 'ABDUL KARIM bin Abdul Sattar',\n",
       "  'results': [{'id': 0,\n",
       "    'party': 'Pertubuhan Kebangsaan Melayu Singapura',\n",
       "    'GE_DATE': 'GE 1988',\n",
       "    'Consituency': 'Buona Vista',\n",
       "    'Margin': '3.1%'},\n",
       "   {'id': 1,\n",
       "    'party': 'Pertubuhan Kebangsaan Melayu Singapura',\n",
       "    'GE_DATE': 'GE 1991',\n",
       "    'Consituency': 'Buona Vista',\n",
       "    'Margin': '20.6%'}]})"
      ]
     },
     "execution_count": 311,
     "metadata": {},
     "output_type": "execute_result"
    }
   ],
   "source": [
    "get_row_info(candidate_row[5])\n"
   ]
  },
  {
   "cell_type": "code",
   "execution_count": 312,
   "metadata": {},
   "outputs": [],
   "source": [
    "def parse_page(candidate_rows, data):\n",
    "    prev_idx = 0\n",
    "    idx = 0\n",
    "    for candidate in candidate_rows:\n",
    "        name = candidate.find('td').get_text()\n",
    "#         print(f\"{idx} : {name.strip()}\")\n",
    "        if \"Elected MP\" not in name.strip():\n",
    "#             print('true')\n",
    "            if not re.match('GE',name):\n",
    "#                 print('individual')\n",
    "                max_keys, info = get_row_info(candidate)\n",
    "                data.append(info)\n",
    "                prev_name = name\n",
    "                _, prev_info = get_row_info(candidate)\n",
    "                prev_idx = idx\n",
    "                prev_key_idx = max_keys\n",
    "#                 print(max_keys)\n",
    "#                 print(f\"Previous Index : {prev_idx}\")\n",
    "                idx += 1\n",
    "            else:\n",
    "#                 print('merged')\n",
    "                details = candidate.find_all('td')\n",
    "#                 print(details)\n",
    "                key = max_keys + 1\n",
    "#                 print(key)\n",
    "#                 print(f\"Previous Index : {prev_idx}\")\n",
    "                for result in details:\n",
    "                    if result.get_text().strip() != \"\":\n",
    "#                         print(f\"Previous Index : {prev_idx}\")\n",
    "#                         print(key,result.get_text())\n",
    "                        try:\n",
    "                            ge_info = str(result).split('<br/>')\n",
    "#                             print(BeautifulSoup(ge_info[1],'lxml').get_text())\n",
    "                            party = result.find('img')['title']\n",
    "                            detail = {}\n",
    "                            detail['id'] = key \n",
    "                            detail['party'] = party\n",
    "                            detail['GE_DATE'] = BeautifulSoup(ge_info[1],'lxml').get_text()\n",
    "                            detail['Consituency'] = BeautifulSoup(ge_info[2],'lxml').get_text()\n",
    "                            detail['Margin'] = BeautifulSoup(ge_info[3],'lxml').get_text()\n",
    "                            data[prev_idx]['results'].append(detail)\n",
    "#                             print(data[prev_idx]['results'])\n",
    "                        except TypeError:\n",
    "                            pass\n",
    "                        except IndexError:\n",
    "                            pass \n",
    "                        except KeyError:\n",
    "                            party = BeautifulSoup(ge_info[2],'lxml').get_text()\n",
    "                            detail = {}\n",
    "                            detail['id'] = key\n",
    "                            detail['party'] = party\n",
    "                            detail['GE_DATE'] = BeautifulSoup(ge_info[1],'lxml').get_text()\n",
    "                            detail['Consituency'] = BeautifulSoup(ge_info[2],'lxml').get_text()\n",
    "                            detail['Margin'] = BeautifulSoup(ge_info[3],'lxml').get_text()\n",
    "                            data[prev_idx]['results'].append(detail)\n",
    "                            continue\n",
    "                        \n",
    "                        key += 1\n",
    "                    else:\n",
    "                        pass\n",
    "                max_keys = key - 1\n",
    "        else:\n",
    "            break\n",
    "    return data"
   ]
  },
  {
   "cell_type": "code",
   "execution_count": 313,
   "metadata": {},
   "outputs": [
    {
     "name": "stderr",
     "output_type": "stream",
     "text": [
      "\n",
      "\n",
      "  0%|          | 0/16 [00:00<?, ?it/s]\u001b[A\u001b[A\n",
      "\n",
      "  6%|▋         | 1/16 [00:01<00:25,  1.67s/it]\u001b[A\u001b[A\n",
      "\n",
      " 12%|█▎        | 2/16 [00:03<00:23,  1.71s/it]\u001b[A\u001b[A\n",
      "\n",
      " 19%|█▉        | 3/16 [00:04<00:18,  1.43s/it]\u001b[A\u001b[A\n",
      "\n",
      " 25%|██▌       | 4/16 [00:05<00:15,  1.27s/it]\u001b[A\u001b[A\n",
      "\n",
      " 31%|███▏      | 5/16 [00:06<00:14,  1.28s/it]\u001b[A\u001b[A\n",
      "\n",
      " 38%|███▊      | 6/16 [00:07<00:11,  1.19s/it]\u001b[A\u001b[A\n",
      "\n",
      " 44%|████▍     | 7/16 [00:09<00:11,  1.31s/it]\u001b[A\u001b[A\n",
      "\n",
      " 50%|█████     | 8/16 [00:10<00:10,  1.37s/it]\u001b[A\u001b[A\n",
      "\n",
      " 56%|█████▋    | 9/16 [00:11<00:08,  1.21s/it]\u001b[A\u001b[A\n",
      "\n",
      " 62%|██████▎   | 10/16 [00:11<00:06,  1.04s/it]\u001b[A\u001b[A\n",
      "\n",
      " 69%|██████▉   | 11/16 [00:12<00:04,  1.09it/s]\u001b[A\u001b[A\n",
      "\n",
      " 75%|███████▌  | 12/16 [00:13<00:03,  1.12it/s]\u001b[A\u001b[A\n",
      "\n",
      " 81%|████████▏ | 13/16 [00:15<00:03,  1.20s/it]\u001b[A\u001b[A\n",
      "\n",
      " 88%|████████▊ | 14/16 [00:17<00:02,  1.43s/it]\u001b[A\u001b[A\n",
      "\n",
      " 94%|█████████▍| 15/16 [00:18<00:01,  1.30s/it]\u001b[A\u001b[A\n",
      "\n",
      "100%|██████████| 16/16 [00:19<00:00,  1.24s/it]\u001b[A\u001b[A"
     ]
    }
   ],
   "source": [
    "src = \"http://www.singapore-elections.com/\"\n",
    "info = []\n",
    "\n",
    "for row in tqdm(candidate_pages):\n",
    "    page_info = []\n",
    "    page = src + row['href']\n",
    "    res = requests.get(page)\n",
    "    c  = BeautifulSoup(res.text,'lxml')\n",
    "    rows = c.find('table').find_all('table')[1].find_all('tr')\n",
    "    info.extend(parse_page(rows, page_info))"
   ]
  },
  {
   "cell_type": "code",
   "execution_count": 248,
   "metadata": {},
   "outputs": [
    {
     "data": {
      "text/plain": [
       "{'name': 'ABDUL HAMID bin Jumat',\n",
       " 'results': [{'id': 0,\n",
       "   'party': 'United Malays National Organisation',\n",
       "   'GE_DATE': 'GE 1955',\n",
       "   'Consituency': 'Ulu Bedok',\n",
       "   'Margin': '61.0%'},\n",
       "  {'id': 1,\n",
       "   'party': 'United Malays National Organisation',\n",
       "   'GE_DATE': 'GE 1959',\n",
       "   'Consituency': 'Geylang Serai',\n",
       "   'Margin': '63.1%'}]}"
      ]
     },
     "execution_count": 248,
     "metadata": {},
     "output_type": "execute_result"
    }
   ],
   "source": [
    "info[3]"
   ]
  },
  {
   "cell_type": "code",
   "execution_count": 246,
   "metadata": {},
   "outputs": [
    {
     "data": {
      "text/plain": [
       "[<a href=\"candidates/a-b.html\">A - B</a>,\n",
       " <a href=\"candidates/c.html\">C</a>,\n",
       " <a href=\"candidates/d-f.html\">D - F</a>,\n",
       " <a href=\"candidates/g.html\">G</a>,\n",
       " <a href=\"candidates/h-i.html\">H - I</a>,\n",
       " <a href=\"candidates/j-k.html\">J - K</a>,\n",
       " <a href=\"candidates/la-le.html\">La - Le</a>,\n",
       " <a href=\"candidates/li-lu.html\">Li - Lu</a>,\n",
       " <a href=\"candidates/m.html\">M</a>,\n",
       " <a href=\"candidates/n.html\">N</a>,\n",
       " <a href=\"candidates/o.html\">O</a>,\n",
       " <a href=\"candidates/p-r.html\">P - R</a>,\n",
       " <a href=\"candidates/s.html\">S</a>,\n",
       " <a href=\"candidates/t.html\">T</a>,\n",
       " <a href=\"candidates/u-w.html\">U - W</a>,\n",
       " <a href=\"candidates/y-z.html\">Y - Z</a>]"
      ]
     },
     "execution_count": 246,
     "metadata": {},
     "output_type": "execute_result"
    }
   ],
   "source": [
    "candidate_pages"
   ]
  },
  {
   "cell_type": "markdown",
   "metadata": {},
   "source": [
    "## Data Consolidation"
   ]
  },
  {
   "cell_type": "code",
   "execution_count": 446,
   "metadata": {
    "scrolled": true
   },
   "outputs": [
    {
     "name": "stderr",
     "output_type": "stream",
     "text": [
      "\n",
      "\n",
      "\n",
      "  0%|          | 0/1135 [00:00<?, ?it/s]\u001b[A\u001b[A\u001b[A\n",
      "\n",
      "\n",
      "  1%|          | 9/1135 [00:00<00:12, 87.92it/s]\u001b[A\u001b[A\u001b[A\n",
      "\n",
      "\n",
      "  2%|▏         | 22/1135 [00:00<00:11, 96.83it/s]\u001b[A\u001b[A\u001b[A\n",
      "\n",
      "\n",
      "  4%|▎         | 42/1135 [00:00<00:09, 114.36it/s]\u001b[A\u001b[A\u001b[A\n",
      "\n",
      "\n",
      "  5%|▌         | 59/1135 [00:00<00:08, 126.59it/s]\u001b[A\u001b[A\u001b[A\n",
      "\n",
      "\n",
      "  6%|▋         | 71/1135 [00:00<00:08, 123.96it/s]\u001b[A\u001b[A\u001b[A\n",
      "\n",
      "\n",
      "  7%|▋         | 85/1135 [00:00<00:08, 127.32it/s]\u001b[A\u001b[A\u001b[A\n",
      "\n",
      "\n",
      "  9%|▊         | 99/1135 [00:00<00:07, 130.33it/s]\u001b[A\u001b[A\u001b[A\n",
      "\n",
      "\n",
      " 10%|▉         | 112/1135 [00:00<00:08, 126.61it/s]\u001b[A\u001b[A\u001b[A\n",
      "\n",
      "\n",
      " 11%|█▏        | 129/1135 [00:00<00:07, 135.40it/s]\u001b[A\u001b[A\u001b[A\n",
      "\n",
      "\n",
      " 13%|█▎        | 143/1135 [00:01<00:07, 128.05it/s]\u001b[A\u001b[A\u001b[A\n",
      "\n",
      "\n",
      " 14%|█▍        | 161/1135 [00:01<00:07, 132.12it/s]\u001b[A\u001b[A\u001b[A\n",
      "\n",
      "\n",
      " 15%|█▌        | 175/1135 [00:01<00:08, 107.12it/s]\u001b[A\u001b[A\u001b[A\n",
      "\n",
      "\n",
      " 17%|█▋        | 189/1135 [00:01<00:08, 114.21it/s]\u001b[A\u001b[A\u001b[A\n",
      "\n",
      "\n",
      " 18%|█▊        | 205/1135 [00:01<00:07, 124.25it/s]\u001b[A\u001b[A\u001b[A\n",
      "\n",
      "\n",
      " 19%|█▉        | 219/1135 [00:01<00:07, 127.51it/s]\u001b[A\u001b[A\u001b[A\n",
      "\n",
      "\n",
      " 21%|██        | 235/1135 [00:01<00:06, 135.15it/s]\u001b[A\u001b[A\u001b[A\n",
      "\n",
      "\n",
      " 22%|██▏       | 250/1135 [00:01<00:07, 119.95it/s]\u001b[A\u001b[A\u001b[A\n",
      "\n",
      "\n",
      " 24%|██▍       | 270/1135 [00:02<00:06, 135.75it/s]\u001b[A\u001b[A\u001b[A\n",
      "\n",
      "\n",
      " 25%|██▌       | 287/1135 [00:02<00:05, 142.73it/s]\u001b[A\u001b[A\u001b[A\n",
      "\n",
      "\n",
      " 27%|██▋       | 303/1135 [00:02<00:10, 80.48it/s] \u001b[A\u001b[A\u001b[A\n",
      "\n",
      "\n",
      " 28%|██▊       | 315/1135 [00:02<00:11, 71.98it/s]\u001b[A\u001b[A\u001b[A\n",
      "\n",
      "\n",
      " 29%|██▊       | 326/1135 [00:03<00:17, 46.54it/s]\u001b[A\u001b[A\u001b[A\n",
      "\n",
      "\n",
      " 29%|██▉       | 334/1135 [00:03<00:19, 40.42it/s]\u001b[A\u001b[A\u001b[A\n",
      "\n",
      "\n",
      " 30%|███       | 341/1135 [00:03<00:21, 37.26it/s]\u001b[A\u001b[A\u001b[A\n",
      "\n",
      "\n",
      " 31%|███       | 353/1135 [00:03<00:16, 46.87it/s]\u001b[A\u001b[A\u001b[A\n",
      "\n",
      "\n",
      " 33%|███▎      | 370/1135 [00:03<00:12, 59.74it/s]\u001b[A\u001b[A\u001b[A\n",
      "\n",
      "\n",
      " 34%|███▎      | 382/1135 [00:03<00:10, 69.59it/s]\u001b[A\u001b[A\u001b[A\n",
      "\n",
      "\n",
      " 35%|███▍      | 397/1135 [00:04<00:08, 82.40it/s]\u001b[A\u001b[A\u001b[A\n",
      "\n",
      "\n",
      " 36%|███▌      | 409/1135 [00:04<00:09, 78.09it/s]\u001b[A\u001b[A\u001b[A\n",
      "\n",
      "\n",
      " 37%|███▋      | 420/1135 [00:04<00:08, 84.66it/s]\u001b[A\u001b[A\u001b[A\n",
      "\n",
      "\n",
      " 38%|███▊      | 431/1135 [00:04<00:08, 83.05it/s]\u001b[A\u001b[A\u001b[A\n",
      "\n",
      "\n",
      " 39%|███▉      | 442/1135 [00:04<00:07, 89.59it/s]\u001b[A\u001b[A\u001b[A\n",
      "\n",
      "\n",
      " 40%|███▉      | 453/1135 [00:04<00:11, 59.76it/s]\u001b[A\u001b[A\u001b[A\n",
      "\n",
      "\n",
      " 41%|████      | 462/1135 [00:05<00:11, 60.34it/s]\u001b[A\u001b[A\u001b[A\n",
      "\n",
      "\n",
      " 42%|████▏     | 478/1135 [00:05<00:09, 72.52it/s]\u001b[A\u001b[A\u001b[A\n",
      "\n",
      "\n",
      " 43%|████▎     | 493/1135 [00:05<00:07, 85.55it/s]\u001b[A\u001b[A\u001b[A\n",
      "\n",
      "\n",
      " 44%|████▍     | 504/1135 [00:05<00:06, 90.15it/s]\u001b[A\u001b[A\u001b[A\n",
      "\n",
      "\n",
      " 46%|████▌     | 521/1135 [00:05<00:05, 103.66it/s]\u001b[A\u001b[A\u001b[A\n",
      "\n",
      "\n",
      " 47%|████▋     | 534/1135 [00:05<00:05, 109.10it/s]\u001b[A\u001b[A\u001b[A\n",
      "\n",
      "\n",
      " 48%|████▊     | 547/1135 [00:05<00:05, 111.49it/s]\u001b[A\u001b[A\u001b[A\n",
      "\n",
      "\n",
      " 50%|████▉     | 564/1135 [00:05<00:04, 123.82it/s]\u001b[A\u001b[A\u001b[A\n",
      "\n",
      "\n",
      " 51%|█████     | 578/1135 [00:05<00:04, 116.84it/s]\u001b[A\u001b[A\u001b[A\n",
      "\n",
      "\n",
      " 52%|█████▏    | 591/1135 [00:06<00:04, 117.67it/s]\u001b[A\u001b[A\u001b[A\n",
      "\n",
      "\n",
      " 54%|█████▍    | 611/1135 [00:06<00:03, 134.05it/s]\u001b[A\u001b[A\u001b[A\n",
      "\n",
      "\n",
      " 55%|█████▌    | 626/1135 [00:06<00:03, 131.92it/s]\u001b[A\u001b[A\u001b[A\n",
      "\n",
      "\n",
      " 56%|█████▋    | 641/1135 [00:06<00:04, 114.32it/s]\u001b[A\u001b[A\u001b[A\n",
      "\n",
      "\n",
      " 58%|█████▊    | 657/1135 [00:06<00:03, 124.02it/s]\u001b[A\u001b[A\u001b[A\n",
      "\n",
      "\n",
      " 59%|█████▉    | 671/1135 [00:06<00:03, 116.28it/s]\u001b[A\u001b[A\u001b[A\n",
      "\n",
      "\n",
      " 61%|██████    | 693/1135 [00:06<00:03, 135.24it/s]\u001b[A\u001b[A\u001b[A\n",
      "\n",
      "\n",
      " 62%|██████▏   | 709/1135 [00:06<00:03, 136.35it/s]\u001b[A\u001b[A\u001b[A\n",
      "\n",
      "\n",
      " 64%|██████▍   | 724/1135 [00:07<00:02, 138.16it/s]\u001b[A\u001b[A\u001b[A\n",
      "\n",
      "\n",
      " 65%|██████▌   | 739/1135 [00:07<00:02, 139.46it/s]\u001b[A\u001b[A\u001b[A\n",
      "\n",
      "\n",
      " 66%|██████▋   | 754/1135 [00:07<00:03, 100.87it/s]\u001b[A\u001b[A\u001b[A\n",
      "\n",
      "\n",
      " 68%|██████▊   | 767/1135 [00:07<00:04, 89.21it/s] \u001b[A\u001b[A\u001b[A\n",
      "\n",
      "\n",
      " 69%|██████▊   | 779/1135 [00:07<00:03, 96.28it/s]\u001b[A\u001b[A\u001b[A\n",
      "\n",
      "\n",
      " 70%|██████▉   | 790/1135 [00:07<00:03, 88.94it/s]\u001b[A\u001b[A\u001b[A\n",
      "\n",
      "\n",
      " 71%|███████   | 803/1135 [00:07<00:03, 95.08it/s]\u001b[A\u001b[A\u001b[A\n",
      "\n",
      "\n",
      " 72%|███████▏  | 817/1135 [00:08<00:03, 100.51it/s]\u001b[A\u001b[A\u001b[A\n",
      "\n",
      "\n",
      " 73%|███████▎  | 828/1135 [00:08<00:03, 79.61it/s] \u001b[A\u001b[A\u001b[A\n",
      "\n",
      "\n",
      " 74%|███████▍  | 838/1135 [00:08<00:04, 64.34it/s]\u001b[A\u001b[A\u001b[A\n",
      "\n",
      "\n",
      " 75%|███████▍  | 846/1135 [00:08<00:04, 63.68it/s]\u001b[A\u001b[A\u001b[A\n",
      "\n",
      "\n",
      " 75%|███████▌  | 854/1135 [00:08<00:04, 66.30it/s]\u001b[A\u001b[A\u001b[A\n",
      "\n",
      "\n",
      " 77%|███████▋  | 871/1135 [00:08<00:03, 81.12it/s]\u001b[A\u001b[A\u001b[A\n",
      "\n",
      "\n",
      " 78%|███████▊  | 890/1135 [00:08<00:02, 97.85it/s]\u001b[A\u001b[A\u001b[A\n",
      "\n",
      "\n",
      " 80%|███████▉  | 903/1135 [00:09<00:02, 89.32it/s]\u001b[A\u001b[A\u001b[A\n",
      "\n",
      "\n",
      " 81%|████████  | 916/1135 [00:09<00:02, 98.53it/s]\u001b[A\u001b[A\u001b[A\n",
      "\n",
      "\n",
      " 82%|████████▏ | 928/1135 [00:09<00:02, 99.01it/s]\u001b[A\u001b[A\u001b[A\n",
      "\n",
      "\n",
      " 83%|████████▎ | 943/1135 [00:09<00:01, 110.06it/s]\u001b[A\u001b[A\u001b[A\n",
      "\n",
      "\n",
      " 84%|████████▍ | 956/1135 [00:09<00:01, 108.79it/s]\u001b[A\u001b[A\u001b[A\n",
      "\n",
      "\n",
      " 85%|████████▌ | 968/1135 [00:09<00:01, 100.76it/s]\u001b[A\u001b[A\u001b[A\n",
      "\n",
      "\n",
      " 86%|████████▋ | 979/1135 [00:09<00:01, 95.18it/s] \u001b[A\u001b[A\u001b[A\n",
      "\n",
      "\n",
      " 87%|████████▋ | 990/1135 [00:10<00:02, 70.68it/s]\u001b[A\u001b[A\u001b[A\n",
      "\n",
      "\n",
      " 88%|████████▊ | 999/1135 [00:10<00:02, 64.91it/s]\u001b[A\u001b[A\u001b[A\n",
      "\n",
      "\n",
      " 89%|████████▊ | 1007/1135 [00:10<00:01, 65.45it/s]\u001b[A\u001b[A\u001b[A\n",
      "\n",
      "\n",
      " 90%|████████▉ | 1019/1135 [00:10<00:01, 75.07it/s]\u001b[A\u001b[A\u001b[A\n",
      "\n",
      "\n",
      " 91%|█████████ | 1029/1135 [00:10<00:01, 81.09it/s]\u001b[A\u001b[A\u001b[A\n",
      "\n",
      "\n",
      " 91%|█████████▏| 1038/1135 [00:10<00:01, 79.76it/s]\u001b[A\u001b[A\u001b[A\n",
      "\n",
      "\n",
      " 92%|█████████▏| 1047/1135 [00:10<00:01, 78.77it/s]\u001b[A\u001b[A\u001b[A\n",
      "\n",
      "\n",
      " 93%|█████████▎| 1057/1135 [00:10<00:00, 82.92it/s]\u001b[A\u001b[A\u001b[A\n",
      "\n",
      "\n",
      " 94%|█████████▍| 1066/1135 [00:11<00:00, 70.85it/s]\u001b[A\u001b[A\u001b[A\n",
      "\n",
      "\n",
      " 95%|█████████▍| 1074/1135 [00:11<00:00, 72.12it/s]\u001b[A\u001b[A\u001b[A\n",
      "\n",
      "\n",
      " 96%|█████████▌| 1085/1135 [00:11<00:00, 80.02it/s]\u001b[A\u001b[A\u001b[A\n",
      "\n",
      "\n",
      " 96%|█████████▋| 1094/1135 [00:11<00:00, 80.29it/s]\u001b[A\u001b[A\u001b[A\n",
      "\n",
      "\n",
      " 97%|█████████▋| 1105/1135 [00:11<00:00, 85.69it/s]\u001b[A\u001b[A\u001b[A\n",
      "\n",
      "\n",
      " 98%|█████████▊| 1114/1135 [00:11<00:00, 75.93it/s]\u001b[A\u001b[A\u001b[A\n",
      "\n",
      "\n",
      " 99%|█████████▉| 1123/1135 [00:11<00:00, 71.25it/s]\u001b[A\u001b[A\u001b[A\n",
      "\n",
      "\n",
      "100%|█████████▉| 1131/1135 [00:11<00:00, 67.08it/s]\u001b[A\u001b[A\u001b[A\n",
      "\n",
      "\n",
      "100%|██████████| 1135/1135 [00:11<00:00, 95.09it/s]\u001b[A\u001b[A\u001b[A"
     ]
    }
   ],
   "source": [
    "import pandas as pd\n",
    "import numpy as np\n",
    "\n",
    "template = pd.DataFrame(columns=[\"Name\",\"Party\",\"GE\",\"Constituency\",\"Margin\"])\n",
    "for person in tqdm(info):\n",
    "    name = person['name']\n",
    "    for result in person['results']:\n",
    "        detail = {\n",
    "            'Name' : name,\n",
    "            'Party' : result['party'],\n",
    "            'GE' : result['GE_DATE'],\n",
    "            'Constituency' : result ['Consituency'],\n",
    "            'Margin' : result['Margin']\n",
    "        }\n",
    "        template = template.append(detail,ignore_index=True)\n",
    "        \n",
    "                "
   ]
  },
  {
   "cell_type": "markdown",
   "metadata": {},
   "source": [
    "## Data Cleaning"
   ]
  },
  {
   "cell_type": "code",
   "execution_count": 447,
   "metadata": {},
   "outputs": [
    {
     "data": {
      "text/html": [
       "<div>\n",
       "<style scoped>\n",
       "    .dataframe tbody tr th:only-of-type {\n",
       "        vertical-align: middle;\n",
       "    }\n",
       "\n",
       "    .dataframe tbody tr th {\n",
       "        vertical-align: top;\n",
       "    }\n",
       "\n",
       "    .dataframe thead th {\n",
       "        text-align: right;\n",
       "    }\n",
       "</style>\n",
       "<table border=\"1\" class=\"dataframe\">\n",
       "  <thead>\n",
       "    <tr style=\"text-align: right;\">\n",
       "      <th></th>\n",
       "      <th>Name</th>\n",
       "      <th>Party</th>\n",
       "      <th>GE</th>\n",
       "      <th>Constituency</th>\n",
       "      <th>Margin</th>\n",
       "    </tr>\n",
       "  </thead>\n",
       "  <tbody>\n",
       "    <tr>\n",
       "      <th>0</th>\n",
       "      <td>ABBAS bin Abu Amin</td>\n",
       "      <td>People's Action Party</td>\n",
       "      <td>GE 1980</td>\n",
       "      <td>Pasir Panjang</td>\n",
       "      <td>72.6%</td>\n",
       "    </tr>\n",
       "    <tr>\n",
       "      <th>1</th>\n",
       "      <td>ABBAS bin Abu Amin</td>\n",
       "      <td>People's Action Party</td>\n",
       "      <td>GE 1984</td>\n",
       "      <td>Pasir Panjang</td>\n",
       "      <td>59.3%</td>\n",
       "    </tr>\n",
       "    <tr>\n",
       "      <th>2</th>\n",
       "      <td>ABBAS bin Abu Amin</td>\n",
       "      <td>People's Action Party</td>\n",
       "      <td>GE 1988</td>\n",
       "      <td>Pasir Panjang GRC</td>\n",
       "      <td>61.6%</td>\n",
       "    </tr>\n",
       "    <tr>\n",
       "      <th>3</th>\n",
       "      <td>ABDUL AZIZ bin Karim</td>\n",
       "      <td>People's Action Party</td>\n",
       "      <td>GE 1968</td>\n",
       "      <td>Kallang</td>\n",
       "      <td>Uncontested</td>\n",
       "    </tr>\n",
       "    <tr>\n",
       "      <th>4</th>\n",
       "      <td>ABDUL AZIZ bin Karim</td>\n",
       "      <td>People's Action Party</td>\n",
       "      <td>GE 1972</td>\n",
       "      <td>Kallang</td>\n",
       "      <td>79.8%</td>\n",
       "    </tr>\n",
       "  </tbody>\n",
       "</table>\n",
       "</div>"
      ],
      "text/plain": [
       "                   Name                  Party       GE       Constituency  \\\n",
       "0    ABBAS bin Abu Amin  People's Action Party  GE 1980      Pasir Panjang   \n",
       "1    ABBAS bin Abu Amin  People's Action Party  GE 1984      Pasir Panjang   \n",
       "2    ABBAS bin Abu Amin  People's Action Party  GE 1988  Pasir Panjang GRC   \n",
       "3  ABDUL AZIZ bin Karim  People's Action Party  GE 1968            Kallang   \n",
       "4  ABDUL AZIZ bin Karim  People's Action Party  GE 1972            Kallang   \n",
       "\n",
       "        Margin  \n",
       "0        72.6%  \n",
       "1        59.3%  \n",
       "2        61.6%  \n",
       "3  Uncontested  \n",
       "4        79.8%  "
      ]
     },
     "execution_count": 447,
     "metadata": {},
     "output_type": "execute_result"
    }
   ],
   "source": [
    "template.head()"
   ]
  },
  {
   "cell_type": "code",
   "execution_count": 448,
   "metadata": {},
   "outputs": [
    {
     "data": {
      "text/plain": [
       "Name            GOH Keow Wah (Gilbert)Îâ¼ÒºÍ\n",
       "Party                           Reform Party\n",
       "GE                                   GE 2015\n",
       "Constituency                  Ang Mo Kio GRC\n",
       "Margin                                 21.4%\n",
       "Name: 542, dtype: object"
      ]
     },
     "execution_count": 448,
     "metadata": {},
     "output_type": "execute_result"
    }
   ],
   "source": [
    "template.iloc[542]"
   ]
  },
  {
   "cell_type": "code",
   "execution_count": 449,
   "metadata": {},
   "outputs": [
    {
     "data": {
      "text/plain": [
       "'2011'"
      ]
     },
     "execution_count": 449,
     "metadata": {},
     "output_type": "execute_result"
    }
   ],
   "source": [
    "re.findall('\\d+',template.iloc[541].GE)[0]"
   ]
  },
  {
   "cell_type": "code",
   "execution_count": 450,
   "metadata": {},
   "outputs": [],
   "source": [
    "# Get English Names Only\n",
    "template.Name = template.Name.map(lambda x : re.sub(r'[^\\x00-\\x7F]+','',x))\n",
    "# Map to Election Type\n",
    "template['election_type'] = template.GE.map(lambda x : re.sub('\\d+','',x).strip())\n",
    "template['election_year'] = template.GE.map(lambda x : int(re.findall('\\d+',x)[0]))"
   ]
  },
  {
   "cell_type": "code",
   "execution_count": 451,
   "metadata": {},
   "outputs": [
    {
     "data": {
      "text/plain": [
       "Name             GOH Keow Wah (Gilbert)\n",
       "Party                      Reform Party\n",
       "GE                              GE 2015\n",
       "Constituency             Ang Mo Kio GRC\n",
       "Margin                            21.4%\n",
       "election_type                        GE\n",
       "election_year                      2015\n",
       "Name: 542, dtype: object"
      ]
     },
     "execution_count": 451,
     "metadata": {},
     "output_type": "execute_result"
    }
   ],
   "source": [
    "template.iloc[542]"
   ]
  },
  {
   "cell_type": "markdown",
   "metadata": {},
   "source": [
    "We want to filter the list such that the most recent election year will remain in the row. This is to allow us to instantiate the electionDB."
   ]
  },
  {
   "cell_type": "code",
   "execution_count": 452,
   "metadata": {},
   "outputs": [],
   "source": [
    "template.election_year = template.election_year.map(lambda x : pd.to_datetime(x,format='%Y'))"
   ]
  },
  {
   "cell_type": "code",
   "execution_count": 461,
   "metadata": {},
   "outputs": [
    {
     "data": {
      "text/html": [
       "<div>\n",
       "<style scoped>\n",
       "    .dataframe tbody tr th:only-of-type {\n",
       "        vertical-align: middle;\n",
       "    }\n",
       "\n",
       "    .dataframe tbody tr th {\n",
       "        vertical-align: top;\n",
       "    }\n",
       "\n",
       "    .dataframe thead th {\n",
       "        text-align: right;\n",
       "    }\n",
       "</style>\n",
       "<table border=\"1\" class=\"dataframe\">\n",
       "  <thead>\n",
       "    <tr style=\"text-align: right;\">\n",
       "      <th></th>\n",
       "      <th>Name</th>\n",
       "      <th>Party</th>\n",
       "      <th>GE</th>\n",
       "      <th>Constituency</th>\n",
       "      <th>Margin</th>\n",
       "      <th>election_type</th>\n",
       "      <th>election_year</th>\n",
       "    </tr>\n",
       "  </thead>\n",
       "  <tbody>\n",
       "    <tr>\n",
       "      <th>0</th>\n",
       "      <td>ABBAS bin Abu Amin</td>\n",
       "      <td>People's Action Party</td>\n",
       "      <td>GE 1980</td>\n",
       "      <td>Pasir Panjang</td>\n",
       "      <td>72.6%</td>\n",
       "      <td>GE</td>\n",
       "      <td>1980-01-01</td>\n",
       "    </tr>\n",
       "    <tr>\n",
       "      <th>1</th>\n",
       "      <td>ABBAS bin Abu Amin</td>\n",
       "      <td>People's Action Party</td>\n",
       "      <td>GE 1984</td>\n",
       "      <td>Pasir Panjang</td>\n",
       "      <td>59.3%</td>\n",
       "      <td>GE</td>\n",
       "      <td>1984-01-01</td>\n",
       "    </tr>\n",
       "    <tr>\n",
       "      <th>2</th>\n",
       "      <td>ABBAS bin Abu Amin</td>\n",
       "      <td>People's Action Party</td>\n",
       "      <td>GE 1988</td>\n",
       "      <td>Pasir Panjang GRC</td>\n",
       "      <td>61.6%</td>\n",
       "      <td>GE</td>\n",
       "      <td>1988-01-01</td>\n",
       "    </tr>\n",
       "    <tr>\n",
       "      <th>3</th>\n",
       "      <td>ABDUL AZIZ bin Karim</td>\n",
       "      <td>People's Action Party</td>\n",
       "      <td>GE 1968</td>\n",
       "      <td>Kallang</td>\n",
       "      <td>Uncontested</td>\n",
       "      <td>GE</td>\n",
       "      <td>1968-01-01</td>\n",
       "    </tr>\n",
       "    <tr>\n",
       "      <th>4</th>\n",
       "      <td>ABDUL AZIZ bin Karim</td>\n",
       "      <td>People's Action Party</td>\n",
       "      <td>GE 1972</td>\n",
       "      <td>Kallang</td>\n",
       "      <td>79.8%</td>\n",
       "      <td>GE</td>\n",
       "      <td>1972-01-01</td>\n",
       "    </tr>\n",
       "  </tbody>\n",
       "</table>\n",
       "</div>"
      ],
      "text/plain": [
       "                   Name                  Party       GE       Constituency  \\\n",
       "0    ABBAS bin Abu Amin  People's Action Party  GE 1980      Pasir Panjang   \n",
       "1    ABBAS bin Abu Amin  People's Action Party  GE 1984      Pasir Panjang   \n",
       "2    ABBAS bin Abu Amin  People's Action Party  GE 1988  Pasir Panjang GRC   \n",
       "3  ABDUL AZIZ bin Karim  People's Action Party  GE 1968            Kallang   \n",
       "4  ABDUL AZIZ bin Karim  People's Action Party  GE 1972            Kallang   \n",
       "\n",
       "        Margin election_type election_year  \n",
       "0        72.6%            GE    1980-01-01  \n",
       "1        59.3%            GE    1984-01-01  \n",
       "2        61.6%            GE    1988-01-01  \n",
       "3  Uncontested            GE    1968-01-01  \n",
       "4        79.8%            GE    1972-01-01  "
      ]
     },
     "execution_count": 461,
     "metadata": {},
     "output_type": "execute_result"
    }
   ],
   "source": [
    "template.head()"
   ]
  },
  {
   "cell_type": "code",
   "execution_count": 463,
   "metadata": {},
   "outputs": [],
   "source": [
    "recent_df = template.groupby('Name').last()"
   ]
  },
  {
   "cell_type": "markdown",
   "metadata": {},
   "source": [
    "### Get only names"
   ]
  },
  {
   "cell_type": "code",
   "execution_count": 469,
   "metadata": {},
   "outputs": [],
   "source": [
    "recent_df = recent_df.reset_index()"
   ]
  },
  {
   "cell_type": "code",
   "execution_count": 470,
   "metadata": {},
   "outputs": [
    {
     "data": {
      "text/plain": [
       "1133"
      ]
     },
     "execution_count": 470,
     "metadata": {},
     "output_type": "execute_result"
    }
   ],
   "source": [
    "len(recent_df.Name.unique())"
   ]
  },
  {
   "cell_type": "markdown",
   "metadata": {},
   "source": [
    "## Data Export"
   ]
  },
  {
   "cell_type": "code",
   "execution_count": 393,
   "metadata": {},
   "outputs": [],
   "source": [
    "template.to_csv('party.csv')"
   ]
  },
  {
   "cell_type": "markdown",
   "metadata": {},
   "source": [
    "## Rev 2 : Getting More Info On Current Members"
   ]
  },
  {
   "cell_type": "code",
   "execution_count": 279,
   "metadata": {},
   "outputs": [],
   "source": [
    "import unicodedata\n",
    "import re\n",
    "\n",
    "src = \"https://www.parliament.gov.sg/mps/list-of-current-mps/mp/details/amrin-amin\"\n",
    "r = requests.get(src)\n",
    "bs = BeautifulSoup(r.text,'html5lib')"
   ]
  },
  {
   "cell_type": "code",
   "execution_count": 280,
   "metadata": {},
   "outputs": [
    {
     "data": {
      "text/plain": [
       "'Mr Amrin Amin'"
      ]
     },
     "execution_count": 280,
     "metadata": {},
     "output_type": "execute_result"
    }
   ],
   "source": [
    "name = bs.find('h1',{'class':'indv-mp-header-mobile'}).get_text()\n",
    "name"
   ]
  },
  {
   "cell_type": "code",
   "execution_count": 323,
   "metadata": {},
   "outputs": [
    {
     "data": {
      "text/plain": [
       "'People’s Action Party'"
      ]
     },
     "execution_count": 323,
     "metadata": {},
     "output_type": "execute_result"
    }
   ],
   "source": [
    "party = bs.find('div',{'class':'row mp-party-wrap'}).find('div',{'class':\"col-md-9 col-xs-12\"}).get_text().strip()\n",
    "party"
   ]
  },
  {
   "cell_type": "code",
   "execution_count": 281,
   "metadata": {},
   "outputs": [
    {
     "data": {
      "text/plain": [
       "'Senior Parliamentary Secretary, Ministry of Home Affairs & Ministry of Health'"
      ]
     },
     "execution_count": 281,
     "metadata": {},
     "output_type": "execute_result"
    }
   ],
   "source": [
    "designation = bs.find('div',{'class':'row mp-designation-wrap'}).find('div',{'class':\"col-md-9 col-xs-12\"}).get_text().split('\\t',1)[0].replace('\\n','')\n",
    "designation"
   ]
  },
  {
   "cell_type": "code",
   "execution_count": 282,
   "metadata": {},
   "outputs": [
    {
     "data": {
      "text/plain": [
       "'1978'"
      ]
     },
     "execution_count": 282,
     "metadata": {},
     "output_type": "execute_result"
    }
   ],
   "source": [
    "year_birth = re.sub('\\n|\\t','',bs.find_all('div',{'class':'row mp-party-wrap'})[1].find('div',{'class':'col-md-9 col-xs-12'}).get_text())\n",
    "year_birth"
   ]
  },
  {
   "cell_type": "code",
   "execution_count": 293,
   "metadata": {},
   "outputs": [
    {
     "data": {
      "text/plain": [
       "'Sembawang GRC'"
      ]
     },
     "execution_count": 293,
     "metadata": {},
     "output_type": "execute_result"
    }
   ],
   "source": [
    "constituency = bs.find('div', {'class':'row mp-constituency-wrap'})\\\n",
    "                .find('div',{'class':\"col-md-9 col-xs-12\"}).get_text().split('\\n')[1].strip()\n",
    "constituency"
   ]
  },
  {
   "cell_type": "code",
   "execution_count": 107,
   "metadata": {},
   "outputs": [],
   "source": [
    "appts = bs.find('div',{'class':'indv-mp-info'})\n",
    "appts_clean = re.sub('(<!-- .* -->)','<seperator>',str(appts))"
   ]
  },
  {
   "cell_type": "code",
   "execution_count": 153,
   "metadata": {},
   "outputs": [
    {
     "data": {
      "text/plain": [
       "[<h2 class=\"indv-mp-subheader\">Office-Holding Appointments</h2>,\n",
       " <h2 class=\"indv-mp-subheader\">Member of Parliament</h2>,\n",
       " <h2 class=\"indv-mp-subheader\">Select Committees</h2>,\n",
       " <h2 class=\"indv-mp-subheader\">Meet the People Session</h2>]"
      ]
     },
     "execution_count": 153,
     "metadata": {},
     "output_type": "execute_result"
    }
   ],
   "source": [
    "split_appts = appts_clean.split('<seperator>')\n",
    "appts.find_all('h2',{'class':'indv-mp-subheader'})"
   ]
  },
  {
   "cell_type": "code",
   "execution_count": 406,
   "metadata": {},
   "outputs": [],
   "source": [
    "for item in split_appts:\n",
    "    if'Office-Holding Appointments' in item:\n",
    "    #OFFICE HOLDING APPOINTMENTS\n",
    "        office_appts = item\n",
    "        office_appts_list = BeautifulSoup(office_appts,'html').find_all('div', {'class':'row mp-info'})\n",
    "        o_appts = {}\n",
    "        for key,item in enumerate(office_appts_list):\n",
    "            pos_info = {}\n",
    "            pos_info_raw = re.sub('\\n\\n','',re.sub('\\n\\n\\n',' : ', item.get_text()))\n",
    "            pos_info['duration'] = pos_info_raw.split(':')[0].strip()\n",
    "            pos_info['position'] = pos_info_raw.split(':')[1].strip()\n",
    "            o_appts[key] = pos_info\n",
    "    if'Member of Parliament' in item:\n",
    "    #OFFICE HOLDING APPOINTMENTS\n",
    "        mp_appts = item\n",
    "        mp_appts_list = BeautifulSoup(mp_appts,'html').find_all('div', {'class':'row mp-info'})\n",
    "        m_appts = {}\n",
    "        for key,item in enumerate(mp_appts_list):\n",
    "            mp_info = {}\n",
    "            mp_info_raw = re.sub('\\n\\n','',re.sub('\\n\\n\\n',' : ', item.get_text()))\n",
    "            mp_info['duration'] = mp_info_raw.split(':')[0].strip()\n",
    "            mp_info['position'] = mp_info_raw.split(':')[1].strip()\n",
    "            m_appts[key] = mp_info \n",
    "    if 'Select Committees' in item:\n",
    "        select_list = BeautifulSoup(select,'html').find_all('div', {'class':'row mp-info'})\n",
    "        select_appts = {}\n",
    "        for key,item in enumerate(select_list):\n",
    "            select_info = {}\n",
    "            select_info_raw = re.sub('\\n\\n','',re.sub('\\n\\n\\n',' : ', item.get_text()))\n",
    "            select_info['committee_name'] = select_info_raw.split(':')[0].strip()\n",
    "            select_info['role'] = select_info_raw.split(':')[1].strip()\n",
    "            select_info['period'] = select_info_raw.split(':')[2].strip()\n",
    "            select_appts[key] = select_info"
   ]
  },
  {
   "cell_type": "code",
   "execution_count": 171,
   "metadata": {},
   "outputs": [
    {
     "data": {
      "text/plain": [
       "{0: {'duration': 'House Committee',\n",
       "  'position': 'Member',\n",
       "  'session': '13th Parliament, 2nd Session'},\n",
       " 1: {'duration': 'House Committee',\n",
       "  'position': 'Member',\n",
       "  'session': '13th Parliament, 1st Session'}}"
      ]
     },
     "execution_count": 171,
     "metadata": {},
     "output_type": "execute_result"
    }
   ],
   "source": [
    "select_appts"
   ]
  },
  {
   "cell_type": "code",
   "execution_count": 163,
   "metadata": {},
   "outputs": [
    {
     "data": {
      "text/plain": [
       "{0: {'duration': '11 September 2015 to Current', 'position': 'Sembawang GRC'}}"
      ]
     },
     "execution_count": 163,
     "metadata": {},
     "output_type": "execute_result"
    }
   ],
   "source": [
    "m_appts"
   ]
  },
  {
   "cell_type": "code",
   "execution_count": 160,
   "metadata": {},
   "outputs": [
    {
     "data": {
      "text/plain": [
       "{0: {'duration': '1 May 2018 to Current',\n",
       "  'position': 'Senior Parliamentary Secretary, Ministry of Home Affairs'},\n",
       " 1: {'duration': '1 May 2018 to Current',\n",
       "  'position': 'Senior Parliamentary Secretary, Ministry of Health'},\n",
       " 2: {'duration': '1 May 2017 to 30 April 2018',\n",
       "  'position': 'Parliamentary Secretary, Ministry of Health'},\n",
       " 3: {'duration': '1 October 2015 to 30 April 2018',\n",
       "  'position': 'Parliamentary Secretary, Ministry of Home Affairs'}}"
      ]
     },
     "execution_count": 160,
     "metadata": {},
     "output_type": "execute_result"
    }
   ],
   "source": [
    "o_appts"
   ]
  },
  {
   "cell_type": "code",
   "execution_count": 407,
   "metadata": {},
   "outputs": [],
   "source": [
    "## Build Profile\n",
    "src = \"https://www.parliament.gov.sg/mps/list-of-current-mps/mp/details/heng-swee-keat\"\n",
    "r = requests.get(src)\n",
    "bs = BeautifulSoup(r.text,'html5lib')\n",
    "prof = {}\n",
    "prof['name'] = bs.find('h1',{'class':'indv-mp-header-mobile'}).get_text()\n",
    "prof['designation'] = bs.find('div',{'class':'row mp-designation-wrap'}).find('div',{'class':\"col-md-9 col-xs-12\"}).get_text().split('\\t',1)[0].replace('\\n','')\n",
    "prof['birth_year'] = re.sub('\\n|\\t','',bs.find_all('div',{'class':'row mp-party-wrap'})[1].find('div',{'class':'col-md-9 col-xs-12'}).get_text())\n",
    "prof['constituency'] = bs.find('div', {'class':'row mp-constituency-wrap'}).find('div',{'class':\"col-md-9 col-xs-12\"}).get_text().split('\\n')[1].strip()\n",
    "prof['party'] = bs.find('div',{'class':'row mp-party-wrap'}).find('div',{'class':\"col-md-9 col-xs-12\"}).get_text().strip()\n",
    "appts = bs.find('div',{'class':'indv-mp-info'})\n",
    "appts_clean = re.sub('(<!-- .* -->)','<seperator>',str(appts))\n",
    "for item in split_appts:\n",
    "    if'Office-Holding Appointments' in item:\n",
    "        #OFFICE HOLDING APPOINTMENTS\n",
    "        office_appts = item\n",
    "        office_appts_list = BeautifulSoup(office_appts,'html').find_all('div', {'class':'row mp-info'})\n",
    "        o_appts = {}\n",
    "        for key,item in enumerate(office_appts_list):\n",
    "            pos_info = {}\n",
    "            pos_info_raw = re.sub('\\n\\n','',re.sub('\\n\\n\\n',' : ', item.get_text()))\n",
    "            pos_info['duration'] = pos_info_raw.split(':')[0].strip()\n",
    "            pos_info['position'] = pos_info_raw.split(':')[1].strip()\n",
    "            o_appts[key] = pos_info\n",
    "        prof['office_appts'] = o_appts\n",
    "    \n",
    "    if'Member of Parliament' in item:\n",
    "        # MEMBER OF PARLIAMENT INFO\n",
    "        mp_appts = item\n",
    "        mp_appts_list = BeautifulSoup(mp_appts,'html').find_all('div', {'class':'row mp-info'})\n",
    "        m_appts = {}\n",
    "        for key,item in enumerate(mp_appts_list):\n",
    "            mp_info = {}\n",
    "            mp_info_raw = re.sub('\\n\\n','',re.sub('\\n\\n\\n',' : ', item.get_text()))\n",
    "            mp_info['duration'] = mp_info_raw.split(':')[0].strip()\n",
    "            mp_info['position'] = mp_info_raw.split(':')[1].strip()\n",
    "            m_appts[key] = mp_info \n",
    "        prof['m_appts'] = m_appts\n",
    "         \n",
    "    if 'Select Committees' in item:\n",
    "        # SELECT COMMITEE\n",
    "        select_list = BeautifulSoup(select,'html').find_all('div', {'class':'row mp-info'})\n",
    "        select_appts = {}\n",
    "        for key,item in enumerate(select_list):\n",
    "            select_info = {}\n",
    "            select_info_raw = re.sub('\\n\\n','',re.sub('\\n\\n\\n',' : ', item.get_text()))\n",
    "            select_info['committee_name'] = select_info_raw.split(':')[0].strip()\n",
    "            select_info['role'] = select_info_raw.split(':')[1].strip()\n",
    "            select_info['period'] = select_info_raw.split(':')[2].strip()\n",
    "            select_appts[key] = select_info\n",
    "        prof['select_appts'] = select_appts\n"
   ]
  },
  {
   "cell_type": "code",
   "execution_count": 408,
   "metadata": {},
   "outputs": [
    {
     "data": {
      "text/plain": [
       "{'name': 'Mr Heng Swee Keat',\n",
       " 'designation': 'Deputy Prime Minister and Minister for Finance',\n",
       " 'birth_year': '1961',\n",
       " 'constituency': 'Tampines GRC',\n",
       " 'party': 'People’s Action Party',\n",
       " 'office_appts': {0: {'duration': '1 May 2018 to Current',\n",
       "   'position': 'Senior Parliamentary Secretary, Ministry of Home Affairs'},\n",
       "  1: {'duration': '1 May 2018 to Current',\n",
       "   'position': 'Senior Parliamentary Secretary, Ministry of Health'},\n",
       "  2: {'duration': '1 May 2017 to 30 April 2018',\n",
       "   'position': 'Parliamentary Secretary, Ministry of Health'},\n",
       "  3: {'duration': '1 October 2015 to 30 April 2018',\n",
       "   'position': 'Parliamentary Secretary, Ministry of Home Affairs'}},\n",
       " 'm_appts': {0: {'duration': '11 September 2015 to Current',\n",
       "   'position': 'Sembawang GRC'}},\n",
       " 'select_appts': {0: {'committee_name': 'House Committee',\n",
       "   'role': 'Member',\n",
       "   'period': '13th Parliament, 2nd Session'},\n",
       "  1: {'committee_name': 'House Committee',\n",
       "   'role': 'Member',\n",
       "   'period': '13th Parliament, 1st Session'}}}"
      ]
     },
     "execution_count": 408,
     "metadata": {},
     "output_type": "execute_result"
    }
   ],
   "source": [
    "prof"
   ]
  },
  {
   "cell_type": "markdown",
   "metadata": {},
   "source": [
    "## Get list of MPs"
   ]
  },
  {
   "cell_type": "code",
   "execution_count": 178,
   "metadata": {},
   "outputs": [],
   "source": [
    "list_url = 'https://www.parliament.gov.sg/mps/list-of-current-mps'\n",
    "r_list = requests.get(list_url)\n",
    "doc = BeautifulSoup(r_list.text)"
   ]
  },
  {
   "cell_type": "code",
   "execution_count": 187,
   "metadata": {},
   "outputs": [],
   "source": [
    "listmps_raw = doc.find_all('div',{'class':'col-md-8 col-xs-12 mp-sort-name'})\n",
    "mp_list = [ref.find('a')['href'] for ref in listmps_raw]"
   ]
  },
  {
   "cell_type": "code",
   "execution_count": 189,
   "metadata": {},
   "outputs": [
    {
     "data": {
      "text/plain": [
       "['/mps/current-list-of-mps/mp/details/amrin-amin',\n",
       " '/mps/current-list-of-mps/mp/details/ang-hin-kee',\n",
       " '/mps/current-list-of-mps/mp/details/ang-wei-neng']"
      ]
     },
     "execution_count": 189,
     "metadata": {},
     "output_type": "execute_result"
    }
   ],
   "source": [
    "mp_list[:3]"
   ]
  },
  {
   "cell_type": "code",
   "execution_count": 409,
   "metadata": {},
   "outputs": [],
   "source": [
    "def get_info(uri,data):\n",
    "    BASE_URL = \"https://www.parliament.gov.sg\"\n",
    "    r = requests.get(BASE_URL + uri)\n",
    "    bs = BeautifulSoup(r.text,'html5lib')\n",
    "    prof = {}\n",
    "    try:\n",
    "        prof['name'] = bs.find('h1',{'class':'indv-mp-header-mobile'}).get_text()\n",
    "        prof['designation'] = bs.find('div',{'class':'row mp-designation-wrap'}).find('div',{'class':\"col-md-9 col-xs-12\"}).get_text().split('\\t',1)[0].replace('\\n','')\n",
    "        if prof['designation'] != 'Nominated Member of Parliament':\n",
    "            prof['party'] = bs.find('div',{'class':'row mp-party-wrap'}).find('div',{'class':\"col-md-9 col-xs-12\"}).get_text().strip()\n",
    "            if prof['designation'] != 'Non-Constituency Member of Parliament':\n",
    "                prof['constituency'] = bs.find('div', {'class':'row mp-constituency-wrap'}).find('div',{'class':\"col-md-9 col-xs-12\"}).get_text().split('\\n')[1].strip()\n",
    "                prof['birth_year'] = re.sub('\\n|\\t','',bs.find_all('div',{'class':'row mp-party-wrap'})[1].find('div',{'class':'col-md-9 col-xs-12'}).get_text())\n",
    "                appts = bs.find('div',{'class':'indv-mp-info'})\n",
    "                appts_clean = re.sub('(<!-- .* -->)','<seperator>',str(appts))\n",
    "                for item in split_appts:\n",
    "                    if'Office-Holding Appointments' in item:\n",
    "                        #OFFICE HOLDING APPOINTMENTS\n",
    "                        office_appts = item\n",
    "                        office_appts_list = BeautifulSoup(office_appts,'html').find_all('div', {'class':'row mp-info'})\n",
    "                        o_appts = {}\n",
    "                        for key,item in enumerate(office_appts_list):\n",
    "                            pos_info = {}\n",
    "                            pos_info_raw = re.sub('\\n\\n','',re.sub('\\n\\n\\n',' : ', item.get_text()))\n",
    "                            pos_info['duration'] = pos_info_raw.split(':')[0].strip()\n",
    "                            pos_info['position'] = pos_info_raw.split(':')[1].strip()\n",
    "                            o_appts[key] = pos_info\n",
    "                        prof['office_appts'] = o_appts\n",
    "\n",
    "                    if'Member of Parliament' in item:\n",
    "                        # MEMBER OF PARLIAMENT INFO\n",
    "                        mp_appts = item\n",
    "                        mp_appts_list = BeautifulSoup(mp_appts,'html').find_all('div', {'class':'row mp-info'})\n",
    "                        m_appts = {}\n",
    "                        for key,item in enumerate(mp_appts_list):\n",
    "                            mp_info = {}\n",
    "                            mp_info_raw = re.sub('\\n\\n','',re.sub('\\n\\n\\n',' : ', item.get_text()))\n",
    "                            mp_info['duration'] = mp_info_raw.split(':')[0].strip()\n",
    "                            mp_info['position'] = mp_info_raw.split(':')[1].strip()\n",
    "                            m_appts[key] = mp_info \n",
    "                        prof['m_appts'] = m_appts\n",
    "\n",
    "                    if 'Select Committees' in item:\n",
    "                        # SELECT COMMITEE\n",
    "                        select_list = BeautifulSoup(select,'html').find_all('div', {'class':'row mp-info'})\n",
    "                        select_appts = {}\n",
    "                        for key,item in enumerate(select_list):\n",
    "                            select_info = {}\n",
    "                            select_info_raw = re.sub('\\n\\n','',re.sub('\\n\\n\\n',' : ', item.get_text()))\n",
    "                            select_info['committee_name'] = select_info_raw.split(':')[0].strip()\n",
    "                            select_info['role'] = select_info_raw.split(':')[1].strip()\n",
    "                            select_info['period'] = select_info_raw.split(':')[2].strip()\n",
    "                            select_appts[key] = select_info\n",
    "                        prof['select_appts'] = select_appts\n",
    "        else:\n",
    "            prof['birth_year'] = re.sub('\\n|\\t','',bs.find_all('div',{'class':'row mp-party-wrap'})[0].find('div',{'class':'col-md-9 col-xs-12'}).get_text())\n",
    "        data.append(prof)\n",
    "        return data\n",
    "    except:\n",
    "        print(f\"URL broke at {BASE_URL + uri}\")"
   ]
  },
  {
   "cell_type": "code",
   "execution_count": 410,
   "metadata": {
    "scrolled": true
   },
   "outputs": [
    {
     "name": "stderr",
     "output_type": "stream",
     "text": [
      "\n",
      "\n",
      "\n",
      "  0%|          | 0/100 [00:00<?, ?it/s]\u001b[A\u001b[A\u001b[A\n",
      "\n",
      "\n",
      "  1%|          | 1/100 [00:00<00:28,  3.43it/s]\u001b[A\u001b[A\u001b[A\n",
      "\n",
      "\n",
      "  2%|▏         | 2/100 [00:00<00:26,  3.71it/s]\u001b[A\u001b[A\u001b[A\n",
      "\n",
      "\n",
      "  3%|▎         | 3/100 [00:00<00:24,  3.88it/s]\u001b[A\u001b[A\u001b[A\n",
      "\n",
      "\n",
      "  4%|▍         | 4/100 [00:00<00:23,  4.07it/s]\u001b[A\u001b[A\u001b[A\n",
      "\n",
      "\n",
      "  5%|▌         | 5/100 [00:01<00:22,  4.31it/s]\u001b[A\u001b[A\u001b[A\n",
      "\n",
      "\n",
      "  6%|▌         | 6/100 [00:01<00:28,  3.29it/s]\u001b[A\u001b[A\u001b[A\n",
      "\n",
      "\n",
      "  7%|▋         | 7/100 [00:01<00:28,  3.31it/s]\u001b[A\u001b[A\u001b[A\n",
      "\n",
      "\n",
      "  8%|▊         | 8/100 [00:02<00:25,  3.67it/s]\u001b[A\u001b[A\u001b[A\n",
      "\n",
      "\n",
      "  9%|▉         | 9/100 [00:02<00:22,  4.07it/s]\u001b[A\u001b[A\u001b[A\n",
      "\n",
      "\n",
      " 10%|█         | 10/100 [00:02<00:20,  4.34it/s]\u001b[A\u001b[A\u001b[A\n",
      "\n",
      "\n",
      " 11%|█         | 11/100 [00:02<00:19,  4.53it/s]\u001b[A\u001b[A\u001b[A\n",
      "\n",
      "\n",
      " 12%|█▏        | 12/100 [00:02<00:21,  4.14it/s]\u001b[A\u001b[A\u001b[A\n",
      "\n",
      "\n",
      " 13%|█▎        | 13/100 [00:03<00:20,  4.34it/s]\u001b[A\u001b[A\u001b[A\n",
      "\n",
      "\n",
      " 14%|█▍        | 14/100 [00:03<00:18,  4.62it/s]\u001b[A\u001b[A\u001b[A\n",
      "\n",
      "\n",
      " 15%|█▌        | 15/100 [00:03<00:19,  4.40it/s]\u001b[A\u001b[A\u001b[A\n",
      "\n",
      "\n",
      " 16%|█▌        | 16/100 [00:03<00:17,  4.76it/s]\u001b[A\u001b[A\u001b[A\n",
      "\n",
      "\n",
      " 17%|█▋        | 17/100 [00:05<00:42,  1.96it/s]\u001b[A\u001b[A\u001b[A\n",
      "\n",
      "\n",
      " 18%|█▊        | 18/100 [00:05<00:34,  2.39it/s]\u001b[A\u001b[A\u001b[A\n",
      "\n",
      "\n",
      " 19%|█▉        | 19/100 [00:05<00:27,  2.90it/s]\u001b[A\u001b[A\u001b[A\n",
      "\n",
      "\n",
      " 20%|██        | 20/100 [00:05<00:24,  3.28it/s]\u001b[A\u001b[A\u001b[A\n",
      "\n",
      "\n",
      " 21%|██        | 21/100 [00:05<00:22,  3.58it/s]\u001b[A\u001b[A\u001b[A\n",
      "\n",
      "\n",
      " 22%|██▏       | 22/100 [00:06<00:24,  3.25it/s]\u001b[A\u001b[A\u001b[A\n",
      "\n",
      "\n",
      " 23%|██▎       | 23/100 [00:06<00:24,  3.20it/s]\u001b[A\u001b[A\u001b[A\n",
      "\n",
      "\n",
      " 24%|██▍       | 24/100 [00:06<00:22,  3.43it/s]\u001b[A\u001b[A\u001b[A\n",
      "\n",
      "\n",
      " 25%|██▌       | 25/100 [00:06<00:19,  3.75it/s]\u001b[A\u001b[A\u001b[A\n",
      "\n",
      "\n",
      " 26%|██▌       | 26/100 [00:07<00:20,  3.70it/s]\u001b[A\u001b[A\u001b[A\n",
      "\n",
      "\n",
      " 27%|██▋       | 27/100 [00:07<00:19,  3.65it/s]\u001b[A\u001b[A\u001b[A\n",
      "\n",
      "\n",
      " 28%|██▊       | 28/100 [00:07<00:17,  4.08it/s]\u001b[A\u001b[A\u001b[A\n",
      "\n",
      "\n",
      " 29%|██▉       | 29/100 [00:07<00:16,  4.19it/s]\u001b[A\u001b[A\u001b[A\n",
      "\n",
      "\n",
      " 30%|███       | 30/100 [00:08<00:16,  4.31it/s]\u001b[A\u001b[A\u001b[A\n",
      "\n",
      "\n",
      " 31%|███       | 31/100 [00:08<00:16,  4.21it/s]\u001b[A\u001b[A\u001b[A\n",
      "\n",
      "\n",
      " 32%|███▏      | 32/100 [00:08<00:15,  4.28it/s]\u001b[A\u001b[A\u001b[A\n",
      "\n",
      "\n",
      " 33%|███▎      | 33/100 [00:08<00:14,  4.55it/s]\u001b[A\u001b[A\u001b[A\n",
      "\n",
      "\n",
      " 34%|███▍      | 34/100 [00:09<00:14,  4.52it/s]\u001b[A\u001b[A\u001b[A\n",
      "\n",
      "\n",
      " 35%|███▌      | 35/100 [00:09<00:13,  4.84it/s]\u001b[A\u001b[A\u001b[A\n",
      "\n",
      "\n",
      " 36%|███▌      | 36/100 [00:09<00:12,  5.02it/s]\u001b[A\u001b[A\u001b[A\n",
      "\n",
      "\n",
      " 37%|███▋      | 37/100 [00:09<00:12,  5.14it/s]\u001b[A\u001b[A\u001b[A\n",
      "\n",
      "\n",
      " 38%|███▊      | 38/100 [00:09<00:13,  4.59it/s]\u001b[A\u001b[A\u001b[A\n",
      "\n",
      "\n",
      " 39%|███▉      | 39/100 [00:10<00:13,  4.62it/s]\u001b[A\u001b[A\u001b[A\n",
      "\n",
      "\n",
      " 40%|████      | 40/100 [00:10<00:12,  4.72it/s]\u001b[A\u001b[A\u001b[A\n",
      "\n",
      "\n",
      " 41%|████      | 41/100 [00:10<00:13,  4.31it/s]\u001b[A\u001b[A\u001b[A\n",
      "\n",
      "\n",
      " 42%|████▏     | 42/100 [00:10<00:12,  4.63it/s]\u001b[A\u001b[A\u001b[A\n",
      "\n",
      "\n",
      " 43%|████▎     | 43/100 [00:10<00:11,  4.79it/s]\u001b[A\u001b[A\u001b[A\n",
      "\n",
      "\n",
      " 44%|████▍     | 44/100 [00:11<00:11,  4.80it/s]\u001b[A\u001b[A\u001b[A\n",
      "\n",
      "\n",
      " 45%|████▌     | 45/100 [00:11<00:10,  5.02it/s]\u001b[A\u001b[A\u001b[A\n",
      "\n",
      "\n",
      " 46%|████▌     | 46/100 [00:11<00:10,  4.98it/s]\u001b[A\u001b[A\u001b[A\n",
      "\n",
      "\n",
      " 47%|████▋     | 47/100 [00:11<00:10,  4.89it/s]\u001b[A\u001b[A\u001b[A\n",
      "\n",
      "\n",
      " 48%|████▊     | 48/100 [00:11<00:10,  5.00it/s]\u001b[A\u001b[A\u001b[A\n",
      "\n",
      "\n",
      " 49%|████▉     | 49/100 [00:12<00:10,  4.97it/s]\u001b[A\u001b[A\u001b[A\n",
      "\n",
      "\n",
      " 50%|█████     | 50/100 [00:12<00:09,  5.01it/s]\u001b[A\u001b[A\u001b[A\n",
      "\n",
      "\n",
      " 51%|█████     | 51/100 [00:12<00:09,  4.95it/s]\u001b[A\u001b[A\u001b[A\n",
      "\n",
      "\n",
      " 52%|█████▏    | 52/100 [00:12<00:09,  5.09it/s]\u001b[A\u001b[A\u001b[A\n",
      "\n",
      "\n",
      " 53%|█████▎    | 53/100 [00:12<00:08,  5.47it/s]\u001b[A\u001b[A\u001b[A\n",
      "\n",
      "\n",
      " 54%|█████▍    | 54/100 [00:13<00:08,  5.17it/s]\u001b[A\u001b[A\u001b[A\n",
      "\n",
      "\n",
      " 55%|█████▌    | 55/100 [00:13<00:08,  5.16it/s]\u001b[A\u001b[A\u001b[A\n",
      "\n",
      "\n",
      " 56%|█████▌    | 56/100 [00:13<00:08,  5.28it/s]\u001b[A\u001b[A\u001b[A\n",
      "\n",
      "\n",
      " 57%|█████▋    | 57/100 [00:13<00:08,  5.26it/s]\u001b[A\u001b[A\u001b[A\n",
      "\n",
      "\n",
      " 58%|█████▊    | 58/100 [00:13<00:07,  5.29it/s]\u001b[A\u001b[A\u001b[A\n",
      "\n",
      "\n",
      " 59%|█████▉    | 59/100 [00:14<00:08,  5.07it/s]\u001b[A\u001b[A\u001b[A\n",
      "\n",
      "\n",
      " 60%|██████    | 60/100 [00:14<00:08,  4.58it/s]\u001b[A\u001b[A\u001b[A\n",
      "\n",
      "\n",
      " 61%|██████    | 61/100 [00:14<00:10,  3.59it/s]\u001b[A\u001b[A\u001b[A\n",
      "\n",
      "\n",
      " 62%|██████▏   | 62/100 [00:15<00:14,  2.63it/s]\u001b[A\u001b[A\u001b[A\n",
      "\n",
      "\n",
      " 63%|██████▎   | 63/100 [00:15<00:12,  2.97it/s]\u001b[A\u001b[A\u001b[A\n",
      "\n",
      "\n",
      " 64%|██████▍   | 64/100 [00:15<00:11,  3.22it/s]\u001b[A\u001b[A\u001b[A\n",
      "\n",
      "\n",
      " 65%|██████▌   | 65/100 [00:16<00:11,  3.01it/s]\u001b[A\u001b[A\u001b[A\n",
      "\n",
      "\n",
      " 66%|██████▌   | 66/100 [00:16<00:10,  3.35it/s]\u001b[A\u001b[A\u001b[A\n",
      "\n",
      "\n",
      " 67%|██████▋   | 67/100 [00:16<00:09,  3.49it/s]\u001b[A\u001b[A\u001b[A\n",
      "\n",
      "\n",
      " 68%|██████▊   | 68/100 [00:16<00:08,  3.84it/s]\u001b[A\u001b[A\u001b[A\n",
      "\n",
      "\n",
      " 69%|██████▉   | 69/100 [00:17<00:07,  4.27it/s]\u001b[A\u001b[A\u001b[A\n",
      "\n",
      "\n",
      " 70%|███████   | 70/100 [00:17<00:06,  4.48it/s]\u001b[A\u001b[A\u001b[A\n",
      "\n",
      "\n",
      " 71%|███████   | 71/100 [00:17<00:06,  4.64it/s]\u001b[A\u001b[A\u001b[A\n",
      "\n",
      "\n",
      " 72%|███████▏  | 72/100 [00:17<00:06,  4.66it/s]\u001b[A\u001b[A\u001b[A\n",
      "\n",
      "\n",
      " 73%|███████▎  | 73/100 [00:17<00:05,  4.52it/s]\u001b[A\u001b[A\u001b[A\n",
      "\n",
      "\n",
      " 74%|███████▍  | 74/100 [00:18<00:05,  4.56it/s]\u001b[A\u001b[A\u001b[A\n",
      "\n",
      "\n",
      " 75%|███████▌  | 75/100 [00:18<00:05,  4.55it/s]\u001b[A\u001b[A\u001b[A\n",
      "\n",
      "\n",
      " 76%|███████▌  | 76/100 [00:18<00:06,  3.84it/s]\u001b[A\u001b[A\u001b[A\n",
      "\n",
      "\n",
      " 77%|███████▋  | 77/100 [00:19<00:06,  3.43it/s]\u001b[A\u001b[A\u001b[A\n",
      "\n",
      "\n",
      " 78%|███████▊  | 78/100 [00:19<00:06,  3.40it/s]\u001b[A\u001b[A\u001b[A\n",
      "\n",
      "\n",
      " 79%|███████▉  | 79/100 [00:19<00:06,  3.30it/s]\u001b[A\u001b[A\u001b[A\n",
      "\n",
      "\n",
      " 80%|████████  | 80/100 [00:20<00:06,  3.00it/s]\u001b[A\u001b[A\u001b[A\n",
      "\n",
      "\n",
      " 81%|████████  | 81/100 [00:20<00:05,  3.21it/s]\u001b[A\u001b[A\u001b[A\n",
      "\n",
      "\n",
      " 82%|████████▏ | 82/100 [00:20<00:05,  3.15it/s]\u001b[A\u001b[A\u001b[A\n",
      "\n",
      "\n",
      " 83%|████████▎ | 83/100 [00:21<00:06,  2.79it/s]\u001b[A\u001b[A\u001b[A\n",
      "\n",
      "\n",
      " 84%|████████▍ | 84/100 [00:21<00:05,  3.17it/s]\u001b[A\u001b[A\u001b[A\n",
      "\n",
      "\n",
      " 85%|████████▌ | 85/100 [00:21<00:04,  3.55it/s]\u001b[A\u001b[A\u001b[A\n",
      "\n",
      "\n",
      " 86%|████████▌ | 86/100 [00:21<00:03,  3.93it/s]\u001b[A\u001b[A\u001b[A\n",
      "\n",
      "\n",
      " 87%|████████▋ | 87/100 [00:22<00:03,  3.47it/s]\u001b[A\u001b[A\u001b[A\n",
      "\n",
      "\n",
      " 88%|████████▊ | 88/100 [00:22<00:03,  3.55it/s]\u001b[A\u001b[A\u001b[A\n",
      "\n",
      "\n",
      " 89%|████████▉ | 89/100 [00:22<00:02,  3.93it/s]\u001b[A\u001b[A\u001b[A\n",
      "\n",
      "\n",
      " 90%|█████████ | 90/100 [00:22<00:02,  4.13it/s]\u001b[A\u001b[A\u001b[A\n",
      "\n",
      "\n",
      " 91%|█████████ | 91/100 [00:22<00:02,  4.42it/s]\u001b[A\u001b[A\u001b[A\n",
      "\n",
      "\n",
      " 92%|█████████▏| 92/100 [00:23<00:01,  4.47it/s]\u001b[A\u001b[A\u001b[A\n",
      "\n",
      "\n",
      " 93%|█████████▎| 93/100 [00:23<00:01,  4.55it/s]\u001b[A\u001b[A\u001b[A\n",
      "\n",
      "\n",
      " 94%|█████████▍| 94/100 [00:23<00:01,  4.58it/s]\u001b[A\u001b[A\u001b[A\n",
      "\n",
      "\n",
      " 95%|█████████▌| 95/100 [00:23<00:01,  4.63it/s]\u001b[A\u001b[A\u001b[A\n",
      "\n",
      "\n",
      " 96%|█████████▌| 96/100 [00:24<00:00,  4.79it/s]\u001b[A\u001b[A\u001b[A\n",
      "\n",
      "\n",
      " 97%|█████████▋| 97/100 [00:24<00:00,  4.46it/s]\u001b[A\u001b[A\u001b[A\n",
      "\n",
      "\n",
      " 98%|█████████▊| 98/100 [00:24<00:00,  4.58it/s]\u001b[A\u001b[A\u001b[A\n",
      "\n",
      "\n",
      " 99%|█████████▉| 99/100 [00:24<00:00,  4.66it/s]\u001b[A\u001b[A\u001b[A\n",
      "\n",
      "\n",
      "100%|██████████| 100/100 [00:25<00:00,  3.75it/s]\u001b[A\u001b[A\u001b[A"
     ]
    }
   ],
   "source": [
    "from tqdm import tqdm\n",
    "\n",
    "mp = []\n",
    "for uri in tqdm(mp_list):\n",
    "    mp = get_info(uri,mp)\n",
    "    "
   ]
  },
  {
   "cell_type": "code",
   "execution_count": 334,
   "metadata": {},
   "outputs": [],
   "source": [
    "df_mp = pd.DataFrame(mp)"
   ]
  },
  {
   "cell_type": "code",
   "execution_count": 340,
   "metadata": {},
   "outputs": [
    {
     "data": {
      "text/html": [
       "<div>\n",
       "<style scoped>\n",
       "    .dataframe tbody tr th:only-of-type {\n",
       "        vertical-align: middle;\n",
       "    }\n",
       "\n",
       "    .dataframe tbody tr th {\n",
       "        vertical-align: top;\n",
       "    }\n",
       "\n",
       "    .dataframe thead th {\n",
       "        text-align: right;\n",
       "    }\n",
       "</style>\n",
       "<table border=\"1\" class=\"dataframe\">\n",
       "  <thead>\n",
       "    <tr style=\"text-align: right;\">\n",
       "      <th></th>\n",
       "      <th>birth_year</th>\n",
       "      <th>constituency</th>\n",
       "      <th>designation</th>\n",
       "      <th>m_appts</th>\n",
       "      <th>name</th>\n",
       "      <th>office_appts</th>\n",
       "      <th>party</th>\n",
       "      <th>select_appts</th>\n",
       "      <th>salutation</th>\n",
       "    </tr>\n",
       "  </thead>\n",
       "  <tbody>\n",
       "    <tr>\n",
       "      <th>0</th>\n",
       "      <td>1978</td>\n",
       "      <td>Sembawang GRC</td>\n",
       "      <td>Senior Parliamentary Secretary, Ministry of Ho...</td>\n",
       "      <td>{0: {'duration': '11 September 2015 to Current...</td>\n",
       "      <td>Amrin Amin</td>\n",
       "      <td>{0: {'duration': '1 May 2018 to Current', 'pos...</td>\n",
       "      <td>People's Action Party</td>\n",
       "      <td>{0: {'duration': 'House Committee', 'position'...</td>\n",
       "      <td>Mr</td>\n",
       "    </tr>\n",
       "    <tr>\n",
       "      <th>1</th>\n",
       "      <td>1965</td>\n",
       "      <td>Ang Mo Kio GRC</td>\n",
       "      <td>Member of Parliament</td>\n",
       "      <td>{0: {'duration': '11 September 2015 to Current...</td>\n",
       "      <td>Ang Hin Kee</td>\n",
       "      <td>{0: {'duration': '1 May 2018 to Current', 'pos...</td>\n",
       "      <td>People’s Action Party</td>\n",
       "      <td>{0: {'duration': 'House Committee', 'position'...</td>\n",
       "      <td>Mr</td>\n",
       "    </tr>\n",
       "    <tr>\n",
       "      <th>2</th>\n",
       "      <td>1967</td>\n",
       "      <td>Jurong GRC</td>\n",
       "      <td>Member of Parliament</td>\n",
       "      <td>{0: {'duration': '11 September 2015 to Current...</td>\n",
       "      <td>Ang Wei Neng</td>\n",
       "      <td>{0: {'duration': '1 May 2018 to Current', 'pos...</td>\n",
       "      <td>People’s Action Party</td>\n",
       "      <td>{0: {'duration': 'House Committee', 'position'...</td>\n",
       "      <td>Mr</td>\n",
       "    </tr>\n",
       "    <tr>\n",
       "      <th>3</th>\n",
       "      <td>1970</td>\n",
       "      <td>Tampines GRC</td>\n",
       "      <td>Senior Parliamentary Secretary, Ministry of Tr...</td>\n",
       "      <td>{0: {'duration': '11 September 2015 to Current...</td>\n",
       "      <td>Baey Yam Keng</td>\n",
       "      <td>{0: {'duration': '1 May 2018 to Current', 'pos...</td>\n",
       "      <td>People’s Action Party</td>\n",
       "      <td>{0: {'duration': 'House Committee', 'position'...</td>\n",
       "      <td>Mr</td>\n",
       "    </tr>\n",
       "    <tr>\n",
       "      <th>4</th>\n",
       "      <td>1976</td>\n",
       "      <td>Fengshan</td>\n",
       "      <td>Member of Parliament</td>\n",
       "      <td>{0: {'duration': '11 September 2015 to Current...</td>\n",
       "      <td>Cheryl Chan Wei Ling</td>\n",
       "      <td>{0: {'duration': '1 May 2018 to Current', 'pos...</td>\n",
       "      <td>People's Action Party</td>\n",
       "      <td>{0: {'duration': 'House Committee', 'position'...</td>\n",
       "      <td>Miss</td>\n",
       "    </tr>\n",
       "  </tbody>\n",
       "</table>\n",
       "</div>"
      ],
      "text/plain": [
       "  birth_year    constituency  \\\n",
       "0       1978   Sembawang GRC   \n",
       "1       1965  Ang Mo Kio GRC   \n",
       "2       1967      Jurong GRC   \n",
       "3       1970    Tampines GRC   \n",
       "4       1976        Fengshan   \n",
       "\n",
       "                                         designation  \\\n",
       "0  Senior Parliamentary Secretary, Ministry of Ho...   \n",
       "1                               Member of Parliament   \n",
       "2                               Member of Parliament   \n",
       "3  Senior Parliamentary Secretary, Ministry of Tr...   \n",
       "4                               Member of Parliament   \n",
       "\n",
       "                                             m_appts                  name  \\\n",
       "0  {0: {'duration': '11 September 2015 to Current...            Amrin Amin   \n",
       "1  {0: {'duration': '11 September 2015 to Current...           Ang Hin Kee   \n",
       "2  {0: {'duration': '11 September 2015 to Current...          Ang Wei Neng   \n",
       "3  {0: {'duration': '11 September 2015 to Current...         Baey Yam Keng   \n",
       "4  {0: {'duration': '11 September 2015 to Current...  Cheryl Chan Wei Ling   \n",
       "\n",
       "                                        office_appts                  party  \\\n",
       "0  {0: {'duration': '1 May 2018 to Current', 'pos...  People's Action Party   \n",
       "1  {0: {'duration': '1 May 2018 to Current', 'pos...  People’s Action Party   \n",
       "2  {0: {'duration': '1 May 2018 to Current', 'pos...  People’s Action Party   \n",
       "3  {0: {'duration': '1 May 2018 to Current', 'pos...  People’s Action Party   \n",
       "4  {0: {'duration': '1 May 2018 to Current', 'pos...  People's Action Party   \n",
       "\n",
       "                                        select_appts salutation  \n",
       "0  {0: {'duration': 'House Committee', 'position'...         Mr  \n",
       "1  {0: {'duration': 'House Committee', 'position'...         Mr  \n",
       "2  {0: {'duration': 'House Committee', 'position'...         Mr  \n",
       "3  {0: {'duration': 'House Committee', 'position'...         Mr  \n",
       "4  {0: {'duration': 'House Committee', 'position'...       Miss  "
      ]
     },
     "execution_count": 340,
     "metadata": {},
     "output_type": "execute_result"
    }
   ],
   "source": [
    "df_mp.head()"
   ]
  },
  {
   "cell_type": "markdown",
   "metadata": {},
   "source": [
    "### Clean MP Data"
   ]
  },
  {
   "cell_type": "code",
   "execution_count": 336,
   "metadata": {},
   "outputs": [],
   "source": [
    "## create salutation column and map it accordingly\n",
    "df_mp['salutation'] = df_mp.name.map(lambda x : x.split()[0] if 'Assoc Prof' not in x else 'Assoc Prof')\n",
    "df_mp['name'] = df_mp.name.map(lambda x : x.split(' ',maxsplit=1)[1] if 'Assoc Prof' not in x else x.split(' ',maxsplit=2)[2])\n"
   ]
  },
  {
   "cell_type": "code",
   "execution_count": 359,
   "metadata": {},
   "outputs": [
    {
     "data": {
      "text/plain": [
       "23                                                 1941\n",
       "35                                                  ...\n",
       "24                                                  NaN\n",
       "64                                                  NaN\n",
       "77                                                  NaN\n",
       "Name: birth_year, dtype: object"
      ]
     },
     "execution_count": 359,
     "metadata": {},
     "output_type": "execute_result"
    }
   ],
   "source": [
    "df_mp.birth_year.sort_values(ascending=False).tail()"
   ]
  },
  {
   "cell_type": "code",
   "execution_count": 361,
   "metadata": {
    "scrolled": true
   },
   "outputs": [
    {
     "data": {
      "text/plain": [
       "birth_year                                                    ...\n",
       "constituency                                         Nee Soon GRC\n",
       "designation                                  Member of Parliament\n",
       "m_appts         {0: {'duration': '11 September 2015 to Current...\n",
       "name                                        Kwek Hian Chuan Henry\n",
       "office_appts    {0: {'duration': '1 May 2018 to Current', 'pos...\n",
       "party                                       People's Action Party\n",
       "select_appts    {0: {'duration': 'House Committee', 'position'...\n",
       "salutation                                                     Mr\n",
       "Name: 35, dtype: object"
      ]
     },
     "execution_count": 361,
     "metadata": {},
     "output_type": "execute_result"
    }
   ],
   "source": [
    "df_mp.iloc[35]"
   ]
  },
  {
   "cell_type": "code",
   "execution_count": 338,
   "metadata": {},
   "outputs": [
    {
     "data": {
      "text/plain": [
       "{0: {'duration': '11 September 2015 to Current', 'position': 'Sembawang GRC'}}"
      ]
     },
     "metadata": {},
     "output_type": "display_data"
    },
    {
     "data": {
      "text/plain": [
       "{0: {'duration': '1 May 2018 to Current',\n",
       "  'position': 'Senior Parliamentary Secretary, Ministry of Home Affairs'},\n",
       " 1: {'duration': '1 May 2018 to Current',\n",
       "  'position': 'Senior Parliamentary Secretary, Ministry of Health'},\n",
       " 2: {'duration': '1 May 2017 to 30 April 2018',\n",
       "  'position': 'Parliamentary Secretary, Ministry of Health'},\n",
       " 3: {'duration': '1 October 2015 to 30 April 2018',\n",
       "  'position': 'Parliamentary Secretary, Ministry of Home Affairs'}}"
      ]
     },
     "metadata": {},
     "output_type": "display_data"
    },
    {
     "data": {
      "text/plain": [
       "{0: {'duration': 'House Committee',\n",
       "  'position': 'Member',\n",
       "  'session': '13th Parliament, 2nd Session'},\n",
       " 1: {'duration': 'House Committee',\n",
       "  'position': 'Member',\n",
       "  'session': '13th Parliament, 1st Session'}}"
      ]
     },
     "metadata": {},
     "output_type": "display_data"
    }
   ],
   "source": [
    "display(df_mp.iloc[0].m_appts)\n",
    "display(df_mp.iloc[0].office_appts)\n",
    "display(df_mp.iloc[0].select_appts)"
   ]
  },
  {
   "cell_type": "code",
   "execution_count": 368,
   "metadata": {},
   "outputs": [],
   "source": [
    "df_mp['birth_year'] = df_mp.birth_year.map(lambda x: np.nan if len(str(x))>5 else x)"
   ]
  },
  {
   "cell_type": "code",
   "execution_count": 369,
   "metadata": {
    "scrolled": true
   },
   "outputs": [
    {
     "data": {
      "text/plain": [
       "23    1941\n",
       "24     NaN\n",
       "35     NaN\n",
       "64     NaN\n",
       "77     NaN\n",
       "Name: birth_year, dtype: object"
      ]
     },
     "execution_count": 369,
     "metadata": {},
     "output_type": "execute_result"
    }
   ],
   "source": [
    "df_mp.birth_year.sort_values(ascending=False).tail()"
   ]
  },
  {
   "cell_type": "code",
   "execution_count": 378,
   "metadata": {},
   "outputs": [],
   "source": [
    "df_mp.birth_year = df_mp.birth_year.map(lambda x : pd.to_datetime(x,format='%Y'))"
   ]
  },
  {
   "cell_type": "code",
   "execution_count": 394,
   "metadata": {},
   "outputs": [],
   "source": [
    "df_mp['year']= df_mp.birth_year.map(lambda x : x.year)"
   ]
  },
  {
   "cell_type": "code",
   "execution_count": 612,
   "metadata": {},
   "outputs": [
    {
     "data": {
      "text/html": [
       "<div>\n",
       "<style scoped>\n",
       "    .dataframe tbody tr th:only-of-type {\n",
       "        vertical-align: middle;\n",
       "    }\n",
       "\n",
       "    .dataframe tbody tr th {\n",
       "        vertical-align: top;\n",
       "    }\n",
       "\n",
       "    .dataframe thead th {\n",
       "        text-align: right;\n",
       "    }\n",
       "</style>\n",
       "<table border=\"1\" class=\"dataframe\">\n",
       "  <thead>\n",
       "    <tr style=\"text-align: right;\">\n",
       "      <th></th>\n",
       "      <th>birth_year</th>\n",
       "      <th>constituency</th>\n",
       "      <th>designation</th>\n",
       "      <th>m_appts</th>\n",
       "      <th>name</th>\n",
       "      <th>office_appts</th>\n",
       "      <th>party</th>\n",
       "      <th>select_appts</th>\n",
       "      <th>salutation</th>\n",
       "      <th>year</th>\n",
       "    </tr>\n",
       "  </thead>\n",
       "  <tbody>\n",
       "    <tr>\n",
       "      <th>0</th>\n",
       "      <td>1978-01-01</td>\n",
       "      <td>Sembawang GRC</td>\n",
       "      <td>Senior Parliamentary Secretary, Ministry of Ho...</td>\n",
       "      <td>{0: {'duration': '11 September 2015 to Current...</td>\n",
       "      <td>Amrin Amin</td>\n",
       "      <td>{0: {'duration': '1 May 2018 to Current', 'pos...</td>\n",
       "      <td>People's Action Party</td>\n",
       "      <td>{0: {'duration': 'House Committee', 'position'...</td>\n",
       "      <td>Mr</td>\n",
       "      <td>1978.0</td>\n",
       "    </tr>\n",
       "    <tr>\n",
       "      <th>1</th>\n",
       "      <td>1965-01-01</td>\n",
       "      <td>Ang Mo Kio GRC</td>\n",
       "      <td>Member of Parliament</td>\n",
       "      <td>{0: {'duration': '11 September 2015 to Current...</td>\n",
       "      <td>Ang Hin Kee</td>\n",
       "      <td>{0: {'duration': '1 May 2018 to Current', 'pos...</td>\n",
       "      <td>People’s Action Party</td>\n",
       "      <td>{0: {'duration': 'House Committee', 'position'...</td>\n",
       "      <td>Mr</td>\n",
       "      <td>1965.0</td>\n",
       "    </tr>\n",
       "    <tr>\n",
       "      <th>2</th>\n",
       "      <td>1967-01-01</td>\n",
       "      <td>Jurong GRC</td>\n",
       "      <td>Member of Parliament</td>\n",
       "      <td>{0: {'duration': '11 September 2015 to Current...</td>\n",
       "      <td>Ang Wei Neng</td>\n",
       "      <td>{0: {'duration': '1 May 2018 to Current', 'pos...</td>\n",
       "      <td>People’s Action Party</td>\n",
       "      <td>{0: {'duration': 'House Committee', 'position'...</td>\n",
       "      <td>Mr</td>\n",
       "      <td>1967.0</td>\n",
       "    </tr>\n",
       "    <tr>\n",
       "      <th>3</th>\n",
       "      <td>1970-01-01</td>\n",
       "      <td>Tampines GRC</td>\n",
       "      <td>Senior Parliamentary Secretary, Ministry of Tr...</td>\n",
       "      <td>{0: {'duration': '11 September 2015 to Current...</td>\n",
       "      <td>Baey Yam Keng</td>\n",
       "      <td>{0: {'duration': '1 May 2018 to Current', 'pos...</td>\n",
       "      <td>People’s Action Party</td>\n",
       "      <td>{0: {'duration': 'House Committee', 'position'...</td>\n",
       "      <td>Mr</td>\n",
       "      <td>1970.0</td>\n",
       "    </tr>\n",
       "    <tr>\n",
       "      <th>4</th>\n",
       "      <td>1976-01-01</td>\n",
       "      <td>Fengshan</td>\n",
       "      <td>Member of Parliament</td>\n",
       "      <td>{0: {'duration': '11 September 2015 to Current...</td>\n",
       "      <td>Cheryl Chan Wei Ling</td>\n",
       "      <td>{0: {'duration': '1 May 2018 to Current', 'pos...</td>\n",
       "      <td>People's Action Party</td>\n",
       "      <td>{0: {'duration': 'House Committee', 'position'...</td>\n",
       "      <td>Miss</td>\n",
       "      <td>1976.0</td>\n",
       "    </tr>\n",
       "  </tbody>\n",
       "</table>\n",
       "</div>"
      ],
      "text/plain": [
       "  birth_year    constituency  \\\n",
       "0 1978-01-01   Sembawang GRC   \n",
       "1 1965-01-01  Ang Mo Kio GRC   \n",
       "2 1967-01-01      Jurong GRC   \n",
       "3 1970-01-01    Tampines GRC   \n",
       "4 1976-01-01        Fengshan   \n",
       "\n",
       "                                         designation  \\\n",
       "0  Senior Parliamentary Secretary, Ministry of Ho...   \n",
       "1                               Member of Parliament   \n",
       "2                               Member of Parliament   \n",
       "3  Senior Parliamentary Secretary, Ministry of Tr...   \n",
       "4                               Member of Parliament   \n",
       "\n",
       "                                             m_appts                  name  \\\n",
       "0  {0: {'duration': '11 September 2015 to Current...            Amrin Amin   \n",
       "1  {0: {'duration': '11 September 2015 to Current...           Ang Hin Kee   \n",
       "2  {0: {'duration': '11 September 2015 to Current...          Ang Wei Neng   \n",
       "3  {0: {'duration': '11 September 2015 to Current...         Baey Yam Keng   \n",
       "4  {0: {'duration': '11 September 2015 to Current...  Cheryl Chan Wei Ling   \n",
       "\n",
       "                                        office_appts                  party  \\\n",
       "0  {0: {'duration': '1 May 2018 to Current', 'pos...  People's Action Party   \n",
       "1  {0: {'duration': '1 May 2018 to Current', 'pos...  People’s Action Party   \n",
       "2  {0: {'duration': '1 May 2018 to Current', 'pos...  People’s Action Party   \n",
       "3  {0: {'duration': '1 May 2018 to Current', 'pos...  People’s Action Party   \n",
       "4  {0: {'duration': '1 May 2018 to Current', 'pos...  People's Action Party   \n",
       "\n",
       "                                        select_appts salutation    year  \n",
       "0  {0: {'duration': 'House Committee', 'position'...         Mr  1978.0  \n",
       "1  {0: {'duration': 'House Committee', 'position'...         Mr  1965.0  \n",
       "2  {0: {'duration': 'House Committee', 'position'...         Mr  1967.0  \n",
       "3  {0: {'duration': 'House Committee', 'position'...         Mr  1970.0  \n",
       "4  {0: {'duration': 'House Committee', 'position'...       Miss  1976.0  "
      ]
     },
     "execution_count": 612,
     "metadata": {},
     "output_type": "execute_result"
    }
   ],
   "source": [
    "df_mp.head()"
   ]
  },
  {
   "cell_type": "code",
   "execution_count": 613,
   "metadata": {},
   "outputs": [],
   "source": [
    "df_mp['party'] = df_mp.party.map(lambda x : re.sub(\"’\",\"'\",str(x)))"
   ]
  },
  {
   "cell_type": "code",
   "execution_count": 614,
   "metadata": {},
   "outputs": [
    {
     "data": {
      "text/plain": [
       "People's Action Party    82\n",
       "Workers' Party            9\n",
       "nan                       9\n",
       "Name: party, dtype: int64"
      ]
     },
     "execution_count": 614,
     "metadata": {},
     "output_type": "execute_result"
    }
   ],
   "source": [
    "df_mp.party.value_counts()"
   ]
  },
  {
   "cell_type": "markdown",
   "metadata": {},
   "source": [
    "## Save to CSV"
   ]
  },
  {
   "cell_type": "code",
   "execution_count": 615,
   "metadata": {},
   "outputs": [],
   "source": [
    "df_mp.to_csv('current_mp_profile')"
   ]
  },
  {
   "cell_type": "code",
   "execution_count": 616,
   "metadata": {},
   "outputs": [
    {
     "data": {
      "text/plain": [
       "Mr            62\n",
       "Ms            15\n",
       "Dr            13\n",
       "Prof           3\n",
       "Assoc Prof     3\n",
       "Miss           2\n",
       "Er             1\n",
       "Mrs            1\n",
       "Name: salutation, dtype: int64"
      ]
     },
     "execution_count": 616,
     "metadata": {},
     "output_type": "execute_result"
    }
   ],
   "source": [
    "clean_mp.salutation.value_counts()"
   ]
  },
  {
   "cell_type": "code",
   "execution_count": 617,
   "metadata": {},
   "outputs": [
    {
     "data": {
      "text/html": [
       "<div>\n",
       "<style scoped>\n",
       "    .dataframe tbody tr th:only-of-type {\n",
       "        vertical-align: middle;\n",
       "    }\n",
       "\n",
       "    .dataframe tbody tr th {\n",
       "        vertical-align: top;\n",
       "    }\n",
       "\n",
       "    .dataframe thead th {\n",
       "        text-align: right;\n",
       "    }\n",
       "</style>\n",
       "<table border=\"1\" class=\"dataframe\">\n",
       "  <thead>\n",
       "    <tr style=\"text-align: right;\">\n",
       "      <th></th>\n",
       "      <th>name</th>\n",
       "      <th>designation</th>\n",
       "      <th>birth_year</th>\n",
       "      <th>party</th>\n",
       "      <th>constituency</th>\n",
       "      <th>salutation</th>\n",
       "      <th>matched_name</th>\n",
       "    </tr>\n",
       "  </thead>\n",
       "  <tbody>\n",
       "    <tr>\n",
       "      <th>37</th>\n",
       "      <td>DR LEE BEE WAH</td>\n",
       "      <td>Member of Parliament</td>\n",
       "      <td>1960-01-01</td>\n",
       "      <td>People’s Action Party</td>\n",
       "      <td>Nee Soon GRC</td>\n",
       "      <td>Er</td>\n",
       "      <td>LEE BEE WAH</td>\n",
       "    </tr>\n",
       "  </tbody>\n",
       "</table>\n",
       "</div>"
      ],
      "text/plain": [
       "              name           designation birth_year                  party  \\\n",
       "37  DR LEE BEE WAH  Member of Parliament 1960-01-01  People’s Action Party   \n",
       "\n",
       "    constituency salutation matched_name  \n",
       "37  Nee Soon GRC         Er  LEE BEE WAH  "
      ]
     },
     "execution_count": 617,
     "metadata": {},
     "output_type": "execute_result"
    }
   ],
   "source": [
    "clean_mp[clean_mp['salutation'] == 'Er']"
   ]
  },
  {
   "cell_type": "code",
   "execution_count": 34,
   "metadata": {},
   "outputs": [
    {
     "ename": "NameError",
     "evalue": "name 'template_name_party' is not defined",
     "output_type": "error",
     "traceback": [
      "\u001b[0;31m---------------------------------------------------------------------------\u001b[0m",
      "\u001b[0;31mNameError\u001b[0m                                 Traceback (most recent call last)",
      "\u001b[0;32m<ipython-input-34-c569f2c0aed4>\u001b[0m in \u001b[0;36m<module>\u001b[0;34m\u001b[0m\n\u001b[1;32m      1\u001b[0m \u001b[0;31m# remove words in brackets\u001b[0m\u001b[0;34m\u001b[0m\u001b[0;34m\u001b[0m\u001b[0;34m\u001b[0m\u001b[0m\n\u001b[0;32m----> 2\u001b[0;31m \u001b[0mtemplate_name_party\u001b[0m\u001b[0;34m.\u001b[0m\u001b[0mName\u001b[0m \u001b[0;34m=\u001b[0m \u001b[0mtemplate_name_party\u001b[0m\u001b[0;34m.\u001b[0m\u001b[0mName\u001b[0m\u001b[0;34m.\u001b[0m\u001b[0mmap\u001b[0m\u001b[0;34m(\u001b[0m\u001b[0;32mlambda\u001b[0m \u001b[0mx\u001b[0m \u001b[0;34m:\u001b[0m \u001b[0mre\u001b[0m\u001b[0;34m.\u001b[0m\u001b[0msub\u001b[0m\u001b[0;34m(\u001b[0m\u001b[0;34mr'\\[[^()]*\\]'\u001b[0m\u001b[0;34m,\u001b[0m\u001b[0;34m''\u001b[0m\u001b[0;34m,\u001b[0m\u001b[0mx\u001b[0m\u001b[0;34m)\u001b[0m\u001b[0;34m)\u001b[0m\u001b[0;34m\u001b[0m\u001b[0;34m\u001b[0m\u001b[0m\n\u001b[0m\u001b[1;32m      3\u001b[0m \u001b[0;31m# remove parentheses\u001b[0m\u001b[0;34m\u001b[0m\u001b[0;34m\u001b[0m\u001b[0;34m\u001b[0m\u001b[0m\n\u001b[1;32m      4\u001b[0m \u001b[0mtemplate_name_party\u001b[0m\u001b[0;34m.\u001b[0m\u001b[0mName\u001b[0m \u001b[0;34m=\u001b[0m \u001b[0mtemplate_name_party\u001b[0m\u001b[0;34m.\u001b[0m\u001b[0mName\u001b[0m\u001b[0;34m.\u001b[0m\u001b[0mmap\u001b[0m\u001b[0;34m(\u001b[0m\u001b[0;32mlambda\u001b[0m \u001b[0mx\u001b[0m \u001b[0;34m:\u001b[0m \u001b[0mre\u001b[0m\u001b[0;34m.\u001b[0m\u001b[0msub\u001b[0m\u001b[0;34m(\u001b[0m\u001b[0;34mr'\\(|\\)'\u001b[0m\u001b[0;34m,\u001b[0m\u001b[0;34m''\u001b[0m\u001b[0;34m,\u001b[0m\u001b[0mx\u001b[0m\u001b[0;34m)\u001b[0m\u001b[0;34m)\u001b[0m\u001b[0;34m\u001b[0m\u001b[0;34m\u001b[0m\u001b[0m\n\u001b[1;32m      5\u001b[0m \u001b[0;31m# remove characters\u001b[0m\u001b[0;34m\u001b[0m\u001b[0;34m\u001b[0m\u001b[0;34m\u001b[0m\u001b[0m\n",
      "\u001b[0;31mNameError\u001b[0m: name 'template_name_party' is not defined"
     ]
    }
   ],
   "source": [
    "# remove words in brackets\n",
    "template_name_party.Name = template_name_party.Name.map(lambda x : re.sub(r'\\[[^()]*\\]','',x))\n",
    "# remove parentheses\n",
    "template_name_party.Name = template_name_party.Name.map(lambda x : re.sub(r'\\(|\\)','',x))\n",
    "# remove characters\n",
    "template_name_party.Name = template_name_party.Name.map(lambda x : x.replace(',',' '))"
   ]
  },
  {
   "cell_type": "code",
   "execution_count": null,
   "metadata": {
    "scrolled": true
   },
   "outputs": [],
   "source": [
    "# reset index\n",
    "template_name_party = template_name_party.reset_index(drop=True)\n",
    "display(template_name_party)"
   ]
  },
  {
   "cell_type": "code",
   "execution_count": 35,
   "metadata": {},
   "outputs": [
    {
     "ename": "NameError",
     "evalue": "name 'template_name_party' is not defined",
     "output_type": "error",
     "traceback": [
      "\u001b[0;31m---------------------------------------------------------------------------\u001b[0m",
      "\u001b[0;31mNameError\u001b[0m                                 Traceback (most recent call last)",
      "\u001b[0;32m<ipython-input-35-244174a38892>\u001b[0m in \u001b[0;36m<module>\u001b[0;34m\u001b[0m\n\u001b[0;32m----> 1\u001b[0;31m \u001b[0mtemplate_name_party\u001b[0m\u001b[0;34m.\u001b[0m\u001b[0mName\u001b[0m \u001b[0;34m=\u001b[0m \u001b[0mtemplate_name_party\u001b[0m\u001b[0;34m.\u001b[0m\u001b[0mName\u001b[0m\u001b[0;34m.\u001b[0m\u001b[0mmap\u001b[0m\u001b[0;34m(\u001b[0m\u001b[0;32mlambda\u001b[0m \u001b[0mx\u001b[0m \u001b[0;34m:\u001b[0m \u001b[0mx\u001b[0m\u001b[0;34m.\u001b[0m\u001b[0mupper\u001b[0m\u001b[0;34m(\u001b[0m\u001b[0;34m)\u001b[0m\u001b[0;34m)\u001b[0m\u001b[0;34m\u001b[0m\u001b[0;34m\u001b[0m\u001b[0m\n\u001b[0m\u001b[1;32m      2\u001b[0m \u001b[0;34m\u001b[0m\u001b[0m\n\u001b[1;32m      3\u001b[0m \u001b[0mjson_template\u001b[0m \u001b[0;34m=\u001b[0m \u001b[0mtemplate_name_party\u001b[0m\u001b[0;34m.\u001b[0m\u001b[0mto_dict\u001b[0m\u001b[0;34m(\u001b[0m\u001b[0morient\u001b[0m\u001b[0;34m=\u001b[0m\u001b[0;34m'records'\u001b[0m\u001b[0;34m)\u001b[0m\u001b[0;34m\u001b[0m\u001b[0;34m\u001b[0m\u001b[0m\n",
      "\u001b[0;31mNameError\u001b[0m: name 'template_name_party' is not defined"
     ]
    }
   ],
   "source": [
    "template_name_party.Name = template_name_party.Name.map(lambda x : x.upper())\n",
    "\n",
    "json_template = template_name_party.to_dict(orient='records')"
   ]
  },
  {
   "cell_type": "code",
   "execution_count": 592,
   "metadata": {},
   "outputs": [
    {
     "data": {
      "text/plain": [
       "[{'Name': 'ABBAS BIN ABU AMIN', 'Party': \"People's Action Party\"},\n",
       " {'Name': 'ABDUL AZIZ BIN KARIM', 'Party': \"People's Action Party\"},\n",
       " {'Name': 'ABDUL HAMID BIN JUMAT',\n",
       "  'Party': 'United Malays National Organisation'}]"
      ]
     },
     "execution_count": 592,
     "metadata": {},
     "output_type": "execute_result"
    }
   ],
   "source": [
    "json_template[:3]"
   ]
  },
  {
   "cell_type": "code",
   "execution_count": 593,
   "metadata": {},
   "outputs": [
    {
     "data": {
      "text/plain": [
       "['ABBAS BIN ABU AMIN', 'ABDUL AZIZ BIN KARIM', 'ABDUL HAMID BIN JUMAT']"
      ]
     },
     "execution_count": 593,
     "metadata": {},
     "output_type": "execute_result"
    }
   ],
   "source": [
    "names = [name['Name'] for name in json_template]\n",
    "names[:3]"
   ]
  },
  {
   "cell_type": "code",
   "execution_count": 594,
   "metadata": {
    "scrolled": true
   },
   "outputs": [
    {
     "data": {
      "text/plain": [
       "People's Action Party         318\n",
       "Workers' Party                127\n",
       "Independent                   106\n",
       "Liberal Socialist Party        61\n",
       "Barisan Sosialis               52\n",
       "National Solidarity Party      40\n",
       "Singapore Democratic Party     40\n",
       "Singapore Alliance             39\n",
       "United People's Party          38\n",
       "Progressive Party              30\n",
       "Name: Party, dtype: int64"
      ]
     },
     "execution_count": 594,
     "metadata": {},
     "output_type": "execute_result"
    }
   ],
   "source": [
    "template_name_party.Party.value_counts().head(10)"
   ]
  },
  {
   "cell_type": "code",
   "execution_count": 618,
   "metadata": {},
   "outputs": [
    {
     "data": {
      "text/html": [
       "<div>\n",
       "<style scoped>\n",
       "    .dataframe tbody tr th:only-of-type {\n",
       "        vertical-align: middle;\n",
       "    }\n",
       "\n",
       "    .dataframe tbody tr th {\n",
       "        vertical-align: top;\n",
       "    }\n",
       "\n",
       "    .dataframe thead th {\n",
       "        text-align: right;\n",
       "    }\n",
       "</style>\n",
       "<table border=\"1\" class=\"dataframe\">\n",
       "  <thead>\n",
       "    <tr style=\"text-align: right;\">\n",
       "      <th></th>\n",
       "      <th>name</th>\n",
       "      <th>designation</th>\n",
       "      <th>birth_year</th>\n",
       "      <th>party</th>\n",
       "      <th>constituency</th>\n",
       "      <th>salutation</th>\n",
       "    </tr>\n",
       "  </thead>\n",
       "  <tbody>\n",
       "    <tr>\n",
       "      <th>0</th>\n",
       "      <td>Amrin Amin</td>\n",
       "      <td>Senior Parliamentary Secretary, Ministry of Ho...</td>\n",
       "      <td>1978-01-01</td>\n",
       "      <td>People's Action Party</td>\n",
       "      <td>Sembawang GRC</td>\n",
       "      <td>Mr</td>\n",
       "    </tr>\n",
       "    <tr>\n",
       "      <th>1</th>\n",
       "      <td>Ang Hin Kee</td>\n",
       "      <td>Member of Parliament</td>\n",
       "      <td>1965-01-01</td>\n",
       "      <td>People's Action Party</td>\n",
       "      <td>Ang Mo Kio GRC</td>\n",
       "      <td>Mr</td>\n",
       "    </tr>\n",
       "    <tr>\n",
       "      <th>2</th>\n",
       "      <td>Ang Wei Neng</td>\n",
       "      <td>Member of Parliament</td>\n",
       "      <td>1967-01-01</td>\n",
       "      <td>People's Action Party</td>\n",
       "      <td>Jurong GRC</td>\n",
       "      <td>Mr</td>\n",
       "    </tr>\n",
       "    <tr>\n",
       "      <th>3</th>\n",
       "      <td>Baey Yam Keng</td>\n",
       "      <td>Senior Parliamentary Secretary, Ministry of Tr...</td>\n",
       "      <td>1970-01-01</td>\n",
       "      <td>People's Action Party</td>\n",
       "      <td>Tampines GRC</td>\n",
       "      <td>Mr</td>\n",
       "    </tr>\n",
       "    <tr>\n",
       "      <th>4</th>\n",
       "      <td>Cheryl Chan Wei Ling</td>\n",
       "      <td>Member of Parliament</td>\n",
       "      <td>1976-01-01</td>\n",
       "      <td>People's Action Party</td>\n",
       "      <td>Fengshan</td>\n",
       "      <td>Miss</td>\n",
       "    </tr>\n",
       "  </tbody>\n",
       "</table>\n",
       "</div>"
      ],
      "text/plain": [
       "                   name                                        designation  \\\n",
       "0            Amrin Amin  Senior Parliamentary Secretary, Ministry of Ho...   \n",
       "1           Ang Hin Kee                               Member of Parliament   \n",
       "2          Ang Wei Neng                               Member of Parliament   \n",
       "3         Baey Yam Keng  Senior Parliamentary Secretary, Ministry of Tr...   \n",
       "4  Cheryl Chan Wei Ling                               Member of Parliament   \n",
       "\n",
       "  birth_year                  party    constituency salutation  \n",
       "0 1978-01-01  People's Action Party   Sembawang GRC         Mr  \n",
       "1 1965-01-01  People's Action Party  Ang Mo Kio GRC         Mr  \n",
       "2 1967-01-01  People's Action Party      Jurong GRC         Mr  \n",
       "3 1970-01-01  People's Action Party    Tampines GRC         Mr  \n",
       "4 1976-01-01  People's Action Party        Fengshan       Miss  "
      ]
     },
     "execution_count": 618,
     "metadata": {},
     "output_type": "execute_result"
    }
   ],
   "source": [
    "clean_mp = df_mp[['name','designation','birth_year','party','constituency','salutation']]\n",
    "clean_mp.head()"
   ]
  },
  {
   "cell_type": "code",
   "execution_count": 619,
   "metadata": {},
   "outputs": [],
   "source": [
    "clean_mp.name = clean_mp.name.map(lambda x : x.upper())"
   ]
  },
  {
   "cell_type": "code",
   "execution_count": 620,
   "metadata": {},
   "outputs": [
    {
     "data": {
      "text/html": [
       "<div>\n",
       "<style scoped>\n",
       "    .dataframe tbody tr th:only-of-type {\n",
       "        vertical-align: middle;\n",
       "    }\n",
       "\n",
       "    .dataframe tbody tr th {\n",
       "        vertical-align: top;\n",
       "    }\n",
       "\n",
       "    .dataframe thead th {\n",
       "        text-align: right;\n",
       "    }\n",
       "</style>\n",
       "<table border=\"1\" class=\"dataframe\">\n",
       "  <thead>\n",
       "    <tr style=\"text-align: right;\">\n",
       "      <th></th>\n",
       "      <th>name</th>\n",
       "      <th>designation</th>\n",
       "      <th>birth_year</th>\n",
       "      <th>party</th>\n",
       "      <th>constituency</th>\n",
       "      <th>salutation</th>\n",
       "    </tr>\n",
       "  </thead>\n",
       "  <tbody>\n",
       "    <tr>\n",
       "      <th>0</th>\n",
       "      <td>AMRIN AMIN</td>\n",
       "      <td>Senior Parliamentary Secretary, Ministry of Ho...</td>\n",
       "      <td>1978-01-01</td>\n",
       "      <td>People's Action Party</td>\n",
       "      <td>Sembawang GRC</td>\n",
       "      <td>Mr</td>\n",
       "    </tr>\n",
       "    <tr>\n",
       "      <th>1</th>\n",
       "      <td>ANG HIN KEE</td>\n",
       "      <td>Member of Parliament</td>\n",
       "      <td>1965-01-01</td>\n",
       "      <td>People's Action Party</td>\n",
       "      <td>Ang Mo Kio GRC</td>\n",
       "      <td>Mr</td>\n",
       "    </tr>\n",
       "    <tr>\n",
       "      <th>2</th>\n",
       "      <td>ANG WEI NENG</td>\n",
       "      <td>Member of Parliament</td>\n",
       "      <td>1967-01-01</td>\n",
       "      <td>People's Action Party</td>\n",
       "      <td>Jurong GRC</td>\n",
       "      <td>Mr</td>\n",
       "    </tr>\n",
       "    <tr>\n",
       "      <th>3</th>\n",
       "      <td>BAEY YAM KENG</td>\n",
       "      <td>Senior Parliamentary Secretary, Ministry of Tr...</td>\n",
       "      <td>1970-01-01</td>\n",
       "      <td>People's Action Party</td>\n",
       "      <td>Tampines GRC</td>\n",
       "      <td>Mr</td>\n",
       "    </tr>\n",
       "    <tr>\n",
       "      <th>4</th>\n",
       "      <td>CHERYL CHAN WEI LING</td>\n",
       "      <td>Member of Parliament</td>\n",
       "      <td>1976-01-01</td>\n",
       "      <td>People's Action Party</td>\n",
       "      <td>Fengshan</td>\n",
       "      <td>Miss</td>\n",
       "    </tr>\n",
       "  </tbody>\n",
       "</table>\n",
       "</div>"
      ],
      "text/plain": [
       "                   name                                        designation  \\\n",
       "0            AMRIN AMIN  Senior Parliamentary Secretary, Ministry of Ho...   \n",
       "1           ANG HIN KEE                               Member of Parliament   \n",
       "2          ANG WEI NENG                               Member of Parliament   \n",
       "3         BAEY YAM KENG  Senior Parliamentary Secretary, Ministry of Tr...   \n",
       "4  CHERYL CHAN WEI LING                               Member of Parliament   \n",
       "\n",
       "  birth_year                  party    constituency salutation  \n",
       "0 1978-01-01  People's Action Party   Sembawang GRC         Mr  \n",
       "1 1965-01-01  People's Action Party  Ang Mo Kio GRC         Mr  \n",
       "2 1967-01-01  People's Action Party      Jurong GRC         Mr  \n",
       "3 1970-01-01  People's Action Party    Tampines GRC         Mr  \n",
       "4 1976-01-01  People's Action Party        Fengshan       Miss  "
      ]
     },
     "execution_count": 620,
     "metadata": {},
     "output_type": "execute_result"
    }
   ],
   "source": [
    "clean_mp.head()"
   ]
  },
  {
   "cell_type": "markdown",
   "metadata": {},
   "source": [
    "Using Levenshtein distances to map similar names with the two DFs."
   ]
  },
  {
   "cell_type": "code",
   "execution_count": 622,
   "metadata": {},
   "outputs": [
    {
     "data": {
      "text/html": [
       "<div>\n",
       "<style scoped>\n",
       "    .dataframe tbody tr th:only-of-type {\n",
       "        vertical-align: middle;\n",
       "    }\n",
       "\n",
       "    .dataframe tbody tr th {\n",
       "        vertical-align: top;\n",
       "    }\n",
       "\n",
       "    .dataframe thead th {\n",
       "        text-align: right;\n",
       "    }\n",
       "</style>\n",
       "<table border=\"1\" class=\"dataframe\">\n",
       "  <thead>\n",
       "    <tr style=\"text-align: right;\">\n",
       "      <th></th>\n",
       "      <th>name</th>\n",
       "      <th>designation</th>\n",
       "      <th>birth_year</th>\n",
       "      <th>party</th>\n",
       "      <th>constituency</th>\n",
       "      <th>salutation</th>\n",
       "    </tr>\n",
       "  </thead>\n",
       "  <tbody>\n",
       "    <tr>\n",
       "      <th>15</th>\n",
       "      <td>ARASU DURAISAMY</td>\n",
       "      <td>Nominated Member of Parliament</td>\n",
       "      <td>1968-01-01</td>\n",
       "      <td>nan</td>\n",
       "      <td>NaN</td>\n",
       "      <td>Mr</td>\n",
       "    </tr>\n",
       "    <tr>\n",
       "      <th>18</th>\n",
       "      <td>DOUGLAS FOO</td>\n",
       "      <td>Nominated Member of Parliament</td>\n",
       "      <td>1969-01-01</td>\n",
       "      <td>nan</td>\n",
       "      <td>NaN</td>\n",
       "      <td>Mr</td>\n",
       "    </tr>\n",
       "    <tr>\n",
       "      <th>24</th>\n",
       "      <td>DANIEL GOH PEI SIONG</td>\n",
       "      <td>Non-Constituency Member of Parliament</td>\n",
       "      <td>NaT</td>\n",
       "      <td>Workers' Party</td>\n",
       "      <td>NaN</td>\n",
       "      <td>Assoc Prof</td>\n",
       "    </tr>\n",
       "    <tr>\n",
       "      <th>27</th>\n",
       "      <td>TERENCE HO WEE SAN</td>\n",
       "      <td>Nominated Member of Parliament</td>\n",
       "      <td>1969-01-01</td>\n",
       "      <td>nan</td>\n",
       "      <td>NaN</td>\n",
       "      <td>Mr</td>\n",
       "    </tr>\n",
       "    <tr>\n",
       "      <th>44</th>\n",
       "      <td>LIM SUN SUN</td>\n",
       "      <td>Nominated Member of Parliament</td>\n",
       "      <td>1972-01-01</td>\n",
       "      <td>nan</td>\n",
       "      <td>NaN</td>\n",
       "      <td>Prof</td>\n",
       "    </tr>\n",
       "    <tr>\n",
       "      <th>52</th>\n",
       "      <td>MOHAMED IRSHAD</td>\n",
       "      <td>Nominated Member of Parliament</td>\n",
       "      <td>1989-01-01</td>\n",
       "      <td>nan</td>\n",
       "      <td>NaN</td>\n",
       "      <td>Mr</td>\n",
       "    </tr>\n",
       "    <tr>\n",
       "      <th>60</th>\n",
       "      <td>ANTHEA ONG</td>\n",
       "      <td>Nominated Member of Parliament</td>\n",
       "      <td>1968-01-01</td>\n",
       "      <td>nan</td>\n",
       "      <td>NaN</td>\n",
       "      <td>Ms</td>\n",
       "    </tr>\n",
       "    <tr>\n",
       "      <th>64</th>\n",
       "      <td>LEON PERERA</td>\n",
       "      <td>Non-Constituency Member of Parliament</td>\n",
       "      <td>NaT</td>\n",
       "      <td>Workers' Party</td>\n",
       "      <td>NaN</td>\n",
       "      <td>Mr</td>\n",
       "    </tr>\n",
       "    <tr>\n",
       "      <th>68</th>\n",
       "      <td>IRENE QUAY SIEW CHING</td>\n",
       "      <td>Nominated Member of Parliament</td>\n",
       "      <td>1975-01-01</td>\n",
       "      <td>nan</td>\n",
       "      <td>NaN</td>\n",
       "      <td>Ms</td>\n",
       "    </tr>\n",
       "    <tr>\n",
       "      <th>77</th>\n",
       "      <td>DENNIS TAN LIP FONG</td>\n",
       "      <td>Non-Constituency Member of Parliament</td>\n",
       "      <td>NaT</td>\n",
       "      <td>Workers' Party</td>\n",
       "      <td>NaN</td>\n",
       "      <td>Mr</td>\n",
       "    </tr>\n",
       "    <tr>\n",
       "      <th>87</th>\n",
       "      <td>DR WALTER THESEIRA</td>\n",
       "      <td>Nominated Member of Parliament</td>\n",
       "      <td>1978-01-01</td>\n",
       "      <td>nan</td>\n",
       "      <td>NaN</td>\n",
       "      <td>Assoc Prof</td>\n",
       "    </tr>\n",
       "    <tr>\n",
       "      <th>96</th>\n",
       "      <td>YIP PIN XIU</td>\n",
       "      <td>Nominated Member of Parliament</td>\n",
       "      <td>1992-01-01</td>\n",
       "      <td>nan</td>\n",
       "      <td>NaN</td>\n",
       "      <td>Ms</td>\n",
       "    </tr>\n",
       "  </tbody>\n",
       "</table>\n",
       "</div>"
      ],
      "text/plain": [
       "                     name                            designation birth_year  \\\n",
       "15        ARASU DURAISAMY         Nominated Member of Parliament 1968-01-01   \n",
       "18            DOUGLAS FOO         Nominated Member of Parliament 1969-01-01   \n",
       "24   DANIEL GOH PEI SIONG  Non-Constituency Member of Parliament        NaT   \n",
       "27     TERENCE HO WEE SAN         Nominated Member of Parliament 1969-01-01   \n",
       "44            LIM SUN SUN         Nominated Member of Parliament 1972-01-01   \n",
       "52         MOHAMED IRSHAD         Nominated Member of Parliament 1989-01-01   \n",
       "60             ANTHEA ONG         Nominated Member of Parliament 1968-01-01   \n",
       "64            LEON PERERA  Non-Constituency Member of Parliament        NaT   \n",
       "68  IRENE QUAY SIEW CHING         Nominated Member of Parliament 1975-01-01   \n",
       "77    DENNIS TAN LIP FONG  Non-Constituency Member of Parliament        NaT   \n",
       "87     DR WALTER THESEIRA         Nominated Member of Parliament 1978-01-01   \n",
       "96            YIP PIN XIU         Nominated Member of Parliament 1992-01-01   \n",
       "\n",
       "             party constituency  salutation  \n",
       "15             nan          NaN          Mr  \n",
       "18             nan          NaN          Mr  \n",
       "24  Workers' Party          NaN  Assoc Prof  \n",
       "27             nan          NaN          Mr  \n",
       "44             nan          NaN        Prof  \n",
       "52             nan          NaN          Mr  \n",
       "60             nan          NaN          Ms  \n",
       "64  Workers' Party          NaN          Mr  \n",
       "68             nan          NaN          Ms  \n",
       "77  Workers' Party          NaN          Mr  \n",
       "87             nan          NaN  Assoc Prof  \n",
       "96             nan          NaN          Ms  "
      ]
     },
     "execution_count": 622,
     "metadata": {},
     "output_type": "execute_result"
    }
   ],
   "source": [
    "clean_mp[clean_mp['constituency'].isnull()]"
   ]
  },
  {
   "cell_type": "code",
   "execution_count": 569,
   "metadata": {},
   "outputs": [],
   "source": [
    "from nltk.metrics import edit_distance, edit_distance_align"
   ]
  },
  {
   "cell_type": "code",
   "execution_count": 547,
   "metadata": {},
   "outputs": [],
   "source": [
    "def get_closest_match_id(x, string_list):\n",
    "\n",
    "    best_match = None\n",
    "    scores = []\n",
    "    threshold = 30\n",
    "    for current_string in string_list:\n",
    "        scores.append(edit_distance(x, current_string))\n",
    "\n",
    "    min_score_idx = scores.index(min(scores))\n",
    "\n",
    "    return string_list[min_score_idx]"
   ]
  },
  {
   "cell_type": "code",
   "execution_count": 630,
   "metadata": {},
   "outputs": [
    {
     "name": "stderr",
     "output_type": "stream",
     "text": [
      "/Users/syamil/anaconda3/envs/pivot/lib/python3.7/site-packages/ipykernel_launcher.py:1: SettingWithCopyWarning: \n",
      "A value is trying to be set on a copy of a slice from a DataFrame.\n",
      "Try using .loc[row_indexer,col_indexer] = value instead\n",
      "\n",
      "See the caveats in the documentation: http://pandas.pydata.org/pandas-docs/stable/indexing.html#indexing-view-versus-copy\n",
      "  \"\"\"Entry point for launching an IPython kernel.\n"
     ]
    }
   ],
   "source": [
    "clean_mp['matched_name'] = clean_mp[~clean_mp['constituency'].isnull()].name.map(lambda x : get_closest_match_id(x,names))"
   ]
  },
  {
   "cell_type": "code",
   "execution_count": 626,
   "metadata": {},
   "outputs": [
    {
     "data": {
      "text/plain": [
       "'BAEY YAM KENG'"
      ]
     },
     "execution_count": 626,
     "metadata": {},
     "output_type": "execute_result"
    }
   ],
   "source": [
    "get_closest_match_id('ALEX YAM ZIMING',names)"
   ]
  },
  {
   "cell_type": "code",
   "execution_count": 627,
   "metadata": {},
   "outputs": [
    {
     "data": {
      "text/plain": [
       "20"
      ]
     },
     "execution_count": 627,
     "metadata": {},
     "output_type": "execute_result"
    }
   ],
   "source": [
    "edit_distance('MELVIN YONG YIK CHYE','YONG Yik Chye, Melvin')"
   ]
  },
  {
   "cell_type": "markdown",
   "metadata": {},
   "source": [
    "## Export files for local editing\n",
    "\n",
    "While the distance similarity seems to be able to map most of the data correctly, we will correct the labelling via manual edit since it is a short list."
   ]
  },
  {
   "cell_type": "code",
   "execution_count": 631,
   "metadata": {},
   "outputs": [],
   "source": [
    "clean_mp.to_csv('clean_mp.csv')"
   ]
  },
  {
   "cell_type": "code",
   "execution_count": 632,
   "metadata": {},
   "outputs": [],
   "source": [
    "template_name_party.to_csv('refer.csv')"
   ]
  },
  {
   "cell_type": "markdown",
   "metadata": {},
   "source": [
    "## Use fuzzy matching to match individuals"
   ]
  },
  {
   "cell_type": "code",
   "execution_count": 6,
   "metadata": {},
   "outputs": [],
   "source": [
    "mp_list = pd.read_csv('clean_mp.csv',infer_datetime_format=True)"
   ]
  },
  {
   "cell_type": "code",
   "execution_count": 7,
   "metadata": {},
   "outputs": [],
   "source": [
    "party_list = pd.read_csv('party.csv',infer_datetime_format=True)"
   ]
  },
  {
   "cell_type": "code",
   "execution_count": 8,
   "metadata": {},
   "outputs": [],
   "source": [
    "mp_list.drop(columns=['Unnamed: 0','matched_name'],axis=1,inplace=True)"
   ]
  },
  {
   "cell_type": "code",
   "execution_count": 9,
   "metadata": {},
   "outputs": [],
   "source": [
    "party_list.drop(columns=['Unnamed: 0'],axis=1,inplace=True)"
   ]
  },
  {
   "cell_type": "code",
   "execution_count": 10,
   "metadata": {},
   "outputs": [],
   "source": [
    "party_list_recent = party_list.groupby('Name').last()\n",
    "party_list_recent.reset_index(inplace=True)"
   ]
  },
  {
   "cell_type": "code",
   "execution_count": 11,
   "metadata": {},
   "outputs": [],
   "source": [
    "ncmp_list = pd.read_csv('ncmp.csv')\n",
    "nmp_list = pd.read_csv('nmp.csv')"
   ]
  },
  {
   "cell_type": "code",
   "execution_count": 12,
   "metadata": {},
   "outputs": [],
   "source": [
    "# remove words in brackets\n",
    "party_list.Name = party_list.Name.map(lambda x : re.sub(r'\\[[^()]*\\]','',x))\n",
    "# remove parentheses\n",
    "party_list.Name = party_list.Name.map(lambda x : re.sub(r'\\(|\\)','',x))\n",
    "# remove characters\n",
    "party_list.Name = party_list.Name.map(lambda x : x.replace(',',' '))"
   ]
  },
  {
   "cell_type": "code",
   "execution_count": 17,
   "metadata": {
    "scrolled": true
   },
   "outputs": [
    {
     "data": {
      "text/html": [
       "<div>\n",
       "<style scoped>\n",
       "    .dataframe tbody tr th:only-of-type {\n",
       "        vertical-align: middle;\n",
       "    }\n",
       "\n",
       "    .dataframe tbody tr th {\n",
       "        vertical-align: top;\n",
       "    }\n",
       "\n",
       "    .dataframe thead th {\n",
       "        text-align: right;\n",
       "    }\n",
       "</style>\n",
       "<table border=\"1\" class=\"dataframe\">\n",
       "  <thead>\n",
       "    <tr style=\"text-align: right;\">\n",
       "      <th></th>\n",
       "      <th>Name</th>\n",
       "      <th>Party</th>\n",
       "      <th>GE</th>\n",
       "      <th>Constituency</th>\n",
       "      <th>Margin</th>\n",
       "      <th>election_type</th>\n",
       "      <th>election_year</th>\n",
       "    </tr>\n",
       "  </thead>\n",
       "  <tbody>\n",
       "    <tr>\n",
       "      <th>0</th>\n",
       "      <td>ABBAS BIN ABU AMIN</td>\n",
       "      <td>People's Action Party</td>\n",
       "      <td>GE 1980</td>\n",
       "      <td>Pasir Panjang</td>\n",
       "      <td>72.6%</td>\n",
       "      <td>GE</td>\n",
       "      <td>1980</td>\n",
       "    </tr>\n",
       "    <tr>\n",
       "      <th>1</th>\n",
       "      <td>ABBAS BIN ABU AMIN</td>\n",
       "      <td>People's Action Party</td>\n",
       "      <td>GE 1984</td>\n",
       "      <td>Pasir Panjang</td>\n",
       "      <td>59.3%</td>\n",
       "      <td>GE</td>\n",
       "      <td>1984</td>\n",
       "    </tr>\n",
       "    <tr>\n",
       "      <th>2</th>\n",
       "      <td>ABBAS BIN ABU AMIN</td>\n",
       "      <td>People's Action Party</td>\n",
       "      <td>GE 1988</td>\n",
       "      <td>Pasir Panjang GRC</td>\n",
       "      <td>61.6%</td>\n",
       "      <td>GE</td>\n",
       "      <td>1988</td>\n",
       "    </tr>\n",
       "    <tr>\n",
       "      <th>3</th>\n",
       "      <td>ABDUL AZIZ BIN KARIM</td>\n",
       "      <td>People's Action Party</td>\n",
       "      <td>GE 1968</td>\n",
       "      <td>Kallang</td>\n",
       "      <td>Uncontested</td>\n",
       "      <td>GE</td>\n",
       "      <td>1968</td>\n",
       "    </tr>\n",
       "    <tr>\n",
       "      <th>4</th>\n",
       "      <td>ABDUL AZIZ BIN KARIM</td>\n",
       "      <td>People's Action Party</td>\n",
       "      <td>GE 1972</td>\n",
       "      <td>Kallang</td>\n",
       "      <td>79.8%</td>\n",
       "      <td>GE</td>\n",
       "      <td>1972</td>\n",
       "    </tr>\n",
       "  </tbody>\n",
       "</table>\n",
       "</div>"
      ],
      "text/plain": [
       "                   Name                  Party       GE       Constituency  \\\n",
       "0    ABBAS BIN ABU AMIN  People's Action Party  GE 1980      Pasir Panjang   \n",
       "1    ABBAS BIN ABU AMIN  People's Action Party  GE 1984      Pasir Panjang   \n",
       "2    ABBAS BIN ABU AMIN  People's Action Party  GE 1988  Pasir Panjang GRC   \n",
       "3  ABDUL AZIZ BIN KARIM  People's Action Party  GE 1968            Kallang   \n",
       "4  ABDUL AZIZ BIN KARIM  People's Action Party  GE 1972            Kallang   \n",
       "\n",
       "        Margin election_type  election_year  \n",
       "0        72.6%            GE           1980  \n",
       "1        59.3%            GE           1984  \n",
       "2        61.6%            GE           1988  \n",
       "3  Uncontested            GE           1968  \n",
       "4        79.8%            GE           1972  "
      ]
     },
     "metadata": {},
     "output_type": "display_data"
    }
   ],
   "source": [
    "# reset index\n",
    "party_list = party_list.reset_index(drop=True)\n",
    "display(party_list.head())"
   ]
  },
  {
   "cell_type": "code",
   "execution_count": 31,
   "metadata": {},
   "outputs": [],
   "source": [
    "party_list.Name = party_list.Name.map(lambda x : x.upper())\n",
    "party_list_recent.Name = party_list_recent.Name.map(lambda x : x.upper())"
   ]
  },
  {
   "cell_type": "code",
   "execution_count": 32,
   "metadata": {},
   "outputs": [],
   "source": [
    "party_list_grouped = party_list.groupby('Name').count().reset_index().drop(columns=['GE',\n",
    "                                                              'Constituency',\n",
    "                                                              'Margin','election_type',\n",
    "                                                              'election_year'])\n",
    "party_list_grouped = party_list_grouped.rename(columns={'Party':'count_election'})"
   ]
  },
  {
   "cell_type": "code",
   "execution_count": 35,
   "metadata": {},
   "outputs": [],
   "source": [
    "party_list_grouped.merge(party_list_recent,on='Name',how='inner')[['Name','count_election','Party']].to_csv('grouped_party_count')"
   ]
  },
  {
   "cell_type": "code",
   "execution_count": 47,
   "metadata": {},
   "outputs": [],
   "source": [
    "party_list_grouped.to_csv('election_counts.csv')"
   ]
  },
  {
   "cell_type": "markdown",
   "metadata": {},
   "source": [
    "## Load files"
   ]
  },
  {
   "cell_type": "code",
   "execution_count": 652,
   "metadata": {},
   "outputs": [
    {
     "data": {
      "text/html": [
       "<div>\n",
       "<style scoped>\n",
       "    .dataframe tbody tr th:only-of-type {\n",
       "        vertical-align: middle;\n",
       "    }\n",
       "\n",
       "    .dataframe tbody tr th {\n",
       "        vertical-align: top;\n",
       "    }\n",
       "\n",
       "    .dataframe thead th {\n",
       "        text-align: right;\n",
       "    }\n",
       "</style>\n",
       "<table border=\"1\" class=\"dataframe\">\n",
       "  <thead>\n",
       "    <tr style=\"text-align: right;\">\n",
       "      <th></th>\n",
       "      <th>Unnamed: 0</th>\n",
       "      <th>name</th>\n",
       "      <th>designation</th>\n",
       "      <th>birth_year</th>\n",
       "      <th>party</th>\n",
       "      <th>constituency</th>\n",
       "      <th>salutation</th>\n",
       "      <th>matched_name</th>\n",
       "    </tr>\n",
       "  </thead>\n",
       "  <tbody>\n",
       "    <tr>\n",
       "      <th>0</th>\n",
       "      <td>0</td>\n",
       "      <td>AMRIN AMIN</td>\n",
       "      <td>Senior Parliamentary Secretary, Ministry of Ho...</td>\n",
       "      <td>1978-01-01</td>\n",
       "      <td>People's Action Party</td>\n",
       "      <td>Sembawang GRC</td>\n",
       "      <td>Mr</td>\n",
       "      <td>AMRIN BIN AMIN</td>\n",
       "    </tr>\n",
       "    <tr>\n",
       "      <th>1</th>\n",
       "      <td>1</td>\n",
       "      <td>ANG HIN KEE</td>\n",
       "      <td>Member of Parliament</td>\n",
       "      <td>1965-01-01</td>\n",
       "      <td>People's Action Party</td>\n",
       "      <td>Ang Mo Kio GRC</td>\n",
       "      <td>Mr</td>\n",
       "      <td>ANG HIN KEE</td>\n",
       "    </tr>\n",
       "    <tr>\n",
       "      <th>2</th>\n",
       "      <td>2</td>\n",
       "      <td>ANG WEI NENG</td>\n",
       "      <td>Member of Parliament</td>\n",
       "      <td>1967-01-01</td>\n",
       "      <td>People's Action Party</td>\n",
       "      <td>Jurong GRC</td>\n",
       "      <td>Mr</td>\n",
       "      <td>ANG WEI NENG</td>\n",
       "    </tr>\n",
       "    <tr>\n",
       "      <th>3</th>\n",
       "      <td>3</td>\n",
       "      <td>BAEY YAM KENG</td>\n",
       "      <td>Senior Parliamentary Secretary, Ministry of Tr...</td>\n",
       "      <td>1970-01-01</td>\n",
       "      <td>People's Action Party</td>\n",
       "      <td>Tampines GRC</td>\n",
       "      <td>Mr</td>\n",
       "      <td>BAEY YAM KENG</td>\n",
       "    </tr>\n",
       "    <tr>\n",
       "      <th>4</th>\n",
       "      <td>4</td>\n",
       "      <td>CHERYL CHAN WEI LING</td>\n",
       "      <td>Member of Parliament</td>\n",
       "      <td>1976-01-01</td>\n",
       "      <td>People's Action Party</td>\n",
       "      <td>Fengshan</td>\n",
       "      <td>Miss</td>\n",
       "      <td>CHAN WEI LING  CHERYL</td>\n",
       "    </tr>\n",
       "  </tbody>\n",
       "</table>\n",
       "</div>"
      ],
      "text/plain": [
       "   Unnamed: 0                  name  \\\n",
       "0           0            AMRIN AMIN   \n",
       "1           1           ANG HIN KEE   \n",
       "2           2          ANG WEI NENG   \n",
       "3           3         BAEY YAM KENG   \n",
       "4           4  CHERYL CHAN WEI LING   \n",
       "\n",
       "                                         designation  birth_year  \\\n",
       "0  Senior Parliamentary Secretary, Ministry of Ho...  1978-01-01   \n",
       "1                               Member of Parliament  1965-01-01   \n",
       "2                               Member of Parliament  1967-01-01   \n",
       "3  Senior Parliamentary Secretary, Ministry of Tr...  1970-01-01   \n",
       "4                               Member of Parliament  1976-01-01   \n",
       "\n",
       "                   party    constituency salutation           matched_name  \n",
       "0  People's Action Party   Sembawang GRC         Mr         AMRIN BIN AMIN  \n",
       "1  People's Action Party  Ang Mo Kio GRC         Mr            ANG HIN KEE  \n",
       "2  People's Action Party      Jurong GRC         Mr           ANG WEI NENG  \n",
       "3  People's Action Party    Tampines GRC         Mr          BAEY YAM KENG  \n",
       "4  People's Action Party        Fengshan       Miss  CHAN WEI LING  CHERYL  "
      ]
     },
     "execution_count": 652,
     "metadata": {},
     "output_type": "execute_result"
    }
   ],
   "source": [
    "edited = pd.read_csv('clean_mp_train.csv',infer_datetime_format=True)\n",
    "edited.head()"
   ]
  },
  {
   "cell_type": "code",
   "execution_count": 653,
   "metadata": {},
   "outputs": [],
   "source": [
    "edited = edited.drop('Unnamed: 0',axis=1) # drop unnamed column"
   ]
  },
  {
   "cell_type": "code",
   "execution_count": 668,
   "metadata": {
    "scrolled": true
   },
   "outputs": [
    {
     "data": {
      "text/html": [
       "<div>\n",
       "<style scoped>\n",
       "    .dataframe tbody tr th:only-of-type {\n",
       "        vertical-align: middle;\n",
       "    }\n",
       "\n",
       "    .dataframe tbody tr th {\n",
       "        vertical-align: top;\n",
       "    }\n",
       "\n",
       "    .dataframe thead th {\n",
       "        text-align: right;\n",
       "    }\n",
       "</style>\n",
       "<table border=\"1\" class=\"dataframe\">\n",
       "  <thead>\n",
       "    <tr style=\"text-align: right;\">\n",
       "      <th></th>\n",
       "      <th>name</th>\n",
       "      <th>designation</th>\n",
       "      <th>birth_year</th>\n",
       "      <th>party</th>\n",
       "      <th>constituency</th>\n",
       "      <th>salutation</th>\n",
       "      <th>matched_name</th>\n",
       "      <th>Name</th>\n",
       "      <th>Party</th>\n",
       "    </tr>\n",
       "  </thead>\n",
       "  <tbody>\n",
       "    <tr>\n",
       "      <th>0</th>\n",
       "      <td>AMRIN AMIN</td>\n",
       "      <td>Senior Parliamentary Secretary, Ministry of Ho...</td>\n",
       "      <td>1978-01-01</td>\n",
       "      <td>People's Action Party</td>\n",
       "      <td>Sembawang GRC</td>\n",
       "      <td>Mr</td>\n",
       "      <td>AMRIN BIN AMIN</td>\n",
       "      <td>AMRIN BIN AMIN</td>\n",
       "      <td>People's Action Party</td>\n",
       "    </tr>\n",
       "    <tr>\n",
       "      <th>1</th>\n",
       "      <td>ANG HIN KEE</td>\n",
       "      <td>Member of Parliament</td>\n",
       "      <td>1965-01-01</td>\n",
       "      <td>People's Action Party</td>\n",
       "      <td>Ang Mo Kio GRC</td>\n",
       "      <td>Mr</td>\n",
       "      <td>ANG HIN KEE</td>\n",
       "      <td>ANG HIN KEE</td>\n",
       "      <td>People's Action Party</td>\n",
       "    </tr>\n",
       "    <tr>\n",
       "      <th>2</th>\n",
       "      <td>ANG WEI NENG</td>\n",
       "      <td>Member of Parliament</td>\n",
       "      <td>1967-01-01</td>\n",
       "      <td>People's Action Party</td>\n",
       "      <td>Jurong GRC</td>\n",
       "      <td>Mr</td>\n",
       "      <td>ANG WEI NENG</td>\n",
       "      <td>ANG WEI NENG</td>\n",
       "      <td>People's Action Party</td>\n",
       "    </tr>\n",
       "    <tr>\n",
       "      <th>3</th>\n",
       "      <td>BAEY YAM KENG</td>\n",
       "      <td>Senior Parliamentary Secretary, Ministry of Tr...</td>\n",
       "      <td>1970-01-01</td>\n",
       "      <td>People's Action Party</td>\n",
       "      <td>Tampines GRC</td>\n",
       "      <td>Mr</td>\n",
       "      <td>BAEY YAM KENG</td>\n",
       "      <td>BAEY YAM KENG</td>\n",
       "      <td>People's Action Party</td>\n",
       "    </tr>\n",
       "    <tr>\n",
       "      <th>4</th>\n",
       "      <td>CHERYL CHAN WEI LING</td>\n",
       "      <td>Member of Parliament</td>\n",
       "      <td>1976-01-01</td>\n",
       "      <td>People's Action Party</td>\n",
       "      <td>Fengshan</td>\n",
       "      <td>Miss</td>\n",
       "      <td>CHAN WEI LING  CHERYL</td>\n",
       "      <td>CHAN WEI LING  CHERYL</td>\n",
       "      <td>People's Action Party</td>\n",
       "    </tr>\n",
       "  </tbody>\n",
       "</table>\n",
       "</div>"
      ],
      "text/plain": [
       "                   name                                        designation  \\\n",
       "0            AMRIN AMIN  Senior Parliamentary Secretary, Ministry of Ho...   \n",
       "1           ANG HIN KEE                               Member of Parliament   \n",
       "2          ANG WEI NENG                               Member of Parliament   \n",
       "3         BAEY YAM KENG  Senior Parliamentary Secretary, Ministry of Tr...   \n",
       "4  CHERYL CHAN WEI LING                               Member of Parliament   \n",
       "\n",
       "   birth_year                  party    constituency salutation  \\\n",
       "0  1978-01-01  People's Action Party   Sembawang GRC         Mr   \n",
       "1  1965-01-01  People's Action Party  Ang Mo Kio GRC         Mr   \n",
       "2  1967-01-01  People's Action Party      Jurong GRC         Mr   \n",
       "3  1970-01-01  People's Action Party    Tampines GRC         Mr   \n",
       "4  1976-01-01  People's Action Party        Fengshan       Miss   \n",
       "\n",
       "            matched_name                   Name                  Party  \n",
       "0         AMRIN BIN AMIN         AMRIN BIN AMIN  People's Action Party  \n",
       "1            ANG HIN KEE            ANG HIN KEE  People's Action Party  \n",
       "2           ANG WEI NENG           ANG WEI NENG  People's Action Party  \n",
       "3          BAEY YAM KENG          BAEY YAM KENG  People's Action Party  \n",
       "4  CHAN WEI LING  CHERYL  CHAN WEI LING  CHERYL  People's Action Party  "
      ]
     },
     "execution_count": 668,
     "metadata": {},
     "output_type": "execute_result"
    }
   ],
   "source": [
    "merged = edited.merge(template_name_party,how='right',left_on='matched_name',right_on='Name')\n",
    "merged.head()"
   ]
  },
  {
   "cell_type": "code",
   "execution_count": 670,
   "metadata": {},
   "outputs": [],
   "source": [
    "merged = merged[['Name','Party','designation','birth_year','constituency','salutation']]"
   ]
  },
  {
   "cell_type": "code",
   "execution_count": 671,
   "metadata": {},
   "outputs": [],
   "source": [
    "merged.birth_year = merged.birth_year.map(lambda x : pd.to_datetime(x))"
   ]
  },
  {
   "cell_type": "markdown",
   "metadata": {},
   "source": [
    "## Insert names to DB"
   ]
  },
  {
   "cell_type": "code",
   "execution_count": 674,
   "metadata": {},
   "outputs": [
    {
     "data": {
      "text/html": [
       "<div>\n",
       "<style scoped>\n",
       "    .dataframe tbody tr th:only-of-type {\n",
       "        vertical-align: middle;\n",
       "    }\n",
       "\n",
       "    .dataframe tbody tr th {\n",
       "        vertical-align: top;\n",
       "    }\n",
       "\n",
       "    .dataframe thead th {\n",
       "        text-align: right;\n",
       "    }\n",
       "</style>\n",
       "<table border=\"1\" class=\"dataframe\">\n",
       "  <thead>\n",
       "    <tr style=\"text-align: right;\">\n",
       "      <th></th>\n",
       "      <th>name</th>\n",
       "      <th>party</th>\n",
       "      <th>designation</th>\n",
       "      <th>birth_year</th>\n",
       "      <th>constituency</th>\n",
       "      <th>salutation</th>\n",
       "    </tr>\n",
       "  </thead>\n",
       "  <tbody>\n",
       "    <tr>\n",
       "      <th>0</th>\n",
       "      <td>AMRIN BIN AMIN</td>\n",
       "      <td>People's Action Party</td>\n",
       "      <td>Senior Parliamentary Secretary, Ministry of Ho...</td>\n",
       "      <td>1978-01-01</td>\n",
       "      <td>Sembawang GRC</td>\n",
       "      <td>Mr</td>\n",
       "    </tr>\n",
       "    <tr>\n",
       "      <th>1</th>\n",
       "      <td>ANG HIN KEE</td>\n",
       "      <td>People's Action Party</td>\n",
       "      <td>Member of Parliament</td>\n",
       "      <td>1965-01-01</td>\n",
       "      <td>Ang Mo Kio GRC</td>\n",
       "      <td>Mr</td>\n",
       "    </tr>\n",
       "    <tr>\n",
       "      <th>2</th>\n",
       "      <td>ANG WEI NENG</td>\n",
       "      <td>People's Action Party</td>\n",
       "      <td>Member of Parliament</td>\n",
       "      <td>1967-01-01</td>\n",
       "      <td>Jurong GRC</td>\n",
       "      <td>Mr</td>\n",
       "    </tr>\n",
       "    <tr>\n",
       "      <th>3</th>\n",
       "      <td>BAEY YAM KENG</td>\n",
       "      <td>People's Action Party</td>\n",
       "      <td>Senior Parliamentary Secretary, Ministry of Tr...</td>\n",
       "      <td>1970-01-01</td>\n",
       "      <td>Tampines GRC</td>\n",
       "      <td>Mr</td>\n",
       "    </tr>\n",
       "    <tr>\n",
       "      <th>4</th>\n",
       "      <td>CHAN WEI LING  CHERYL</td>\n",
       "      <td>People's Action Party</td>\n",
       "      <td>Member of Parliament</td>\n",
       "      <td>1976-01-01</td>\n",
       "      <td>Fengshan</td>\n",
       "      <td>Miss</td>\n",
       "    </tr>\n",
       "  </tbody>\n",
       "</table>\n",
       "</div>"
      ],
      "text/plain": [
       "                    name                  party  \\\n",
       "0         AMRIN BIN AMIN  People's Action Party   \n",
       "1            ANG HIN KEE  People's Action Party   \n",
       "2           ANG WEI NENG  People's Action Party   \n",
       "3          BAEY YAM KENG  People's Action Party   \n",
       "4  CHAN WEI LING  CHERYL  People's Action Party   \n",
       "\n",
       "                                         designation birth_year  \\\n",
       "0  Senior Parliamentary Secretary, Ministry of Ho... 1978-01-01   \n",
       "1                               Member of Parliament 1965-01-01   \n",
       "2                               Member of Parliament 1967-01-01   \n",
       "3  Senior Parliamentary Secretary, Ministry of Tr... 1970-01-01   \n",
       "4                               Member of Parliament 1976-01-01   \n",
       "\n",
       "     constituency salutation  \n",
       "0   Sembawang GRC         Mr  \n",
       "1  Ang Mo Kio GRC         Mr  \n",
       "2      Jurong GRC         Mr  \n",
       "3    Tampines GRC         Mr  \n",
       "4        Fengshan       Miss  "
      ]
     },
     "execution_count": 674,
     "metadata": {},
     "output_type": "execute_result"
    }
   ],
   "source": [
    "merged = merged.rename({'Name':'name','Party':'party'},axis='columns')\n",
    "merged.head()"
   ]
  },
  {
   "cell_type": "code",
   "execution_count": 675,
   "metadata": {},
   "outputs": [],
   "source": [
    "from db.models import postgres_engine\n",
    "\n",
    "merged.to_sql('mem_parliament',postgres_engine,if_exists='append',index=False)"
   ]
  }
 ],
 "metadata": {
  "kernelspec": {
   "display_name": "Python 3",
   "language": "python",
   "name": "python3"
  },
  "language_info": {
   "codemirror_mode": {
    "name": "ipython",
    "version": 3
   },
   "file_extension": ".py",
   "mimetype": "text/x-python",
   "name": "python",
   "nbconvert_exporter": "python",
   "pygments_lexer": "ipython3",
   "version": "3.7.3"
  }
 },
 "nbformat": 4,
 "nbformat_minor": 2
}
