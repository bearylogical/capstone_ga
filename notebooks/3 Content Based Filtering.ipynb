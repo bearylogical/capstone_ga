{
 "cells": [
  {
   "cell_type": "markdown",
   "metadata": {},
   "source": [
    "# Doc2Vec Implementation on Corpus\n",
    "\n",
    "## Import Libraries"
   ]
  },
  {
   "cell_type": "code",
   "execution_count": 44,
   "metadata": {},
   "outputs": [],
   "source": [
    "import gensim\n",
    "from gensim.utils import simple_preprocess\n",
    "import pymongo\n",
    "import pandas as pd\n",
    "import numpy as np\n",
    "\n",
    "from bson import ObjectId\n",
    "from sklearn.model_selection import train_test_split"
   ]
  },
  {
   "cell_type": "markdown",
   "metadata": {},
   "source": [
    "## Read in Data from MongoDB"
   ]
  },
  {
   "cell_type": "code",
   "execution_count": 6,
   "metadata": {},
   "outputs": [],
   "source": [
    "client = pymongo.MongoClient(\"mongodb://localhost:27017/\")\n",
    "\n",
    "db = client[\"parliament\"]\n",
    "articles = db[\"articles\"]"
   ]
  },
  {
   "cell_type": "code",
   "execution_count": 66,
   "metadata": {},
   "outputs": [],
   "source": [
    "try:\n",
    "    remote_client = pymongo.MongoClient('192.168.1.42',\n",
    "                                 username='syamil',\n",
    "                                 password='Rskfazw9..',\n",
    "                                 authMechanism='SCRAM-SHA-256')\n",
    "    remote_client.server_info() # force connection on a request as the\n",
    "                         # connect=True parameter of MongoClient seems\n",
    "                         # to be useless here \n",
    "except pymongo.errors.ServerSelectionTimeoutError as err:\n",
    "    # do whatever you need\n",
    "    print(err)\n"
   ]
  },
  {
   "cell_type": "code",
   "execution_count": 68,
   "metadata": {},
   "outputs": [],
   "source": [
    "remote_db = remote_client[\"parliament\"]\n",
    "remote_articles = remote_db[\"articles\"]"
   ]
  },
  {
   "cell_type": "code",
   "execution_count": 63,
   "metadata": {},
   "outputs": [],
   "source": [
    "client = pymongo.MongoClient(\"mongodb://localhost:27017/\")\n",
    "\n",
    "db = client[\"parliament\"]\n",
    "articles = db[\"articles\"]"
   ]
  },
  {
   "cell_type": "code",
   "execution_count": 70,
   "metadata": {},
   "outputs": [
    {
     "data": {
      "text/html": [
       "<div>\n",
       "<style scoped>\n",
       "    .dataframe tbody tr th:only-of-type {\n",
       "        vertical-align: middle;\n",
       "    }\n",
       "\n",
       "    .dataframe tbody tr th {\n",
       "        vertical-align: top;\n",
       "    }\n",
       "\n",
       "    .dataframe thead th {\n",
       "        text-align: right;\n",
       "    }\n",
       "</style>\n",
       "<table border=\"1\" class=\"dataframe\">\n",
       "  <thead>\n",
       "    <tr style=\"text-align: right;\">\n",
       "      <th></th>\n",
       "      <th>_id</th>\n",
       "      <th>article_text</th>\n",
       "      <th>chunks</th>\n",
       "      <th>cleaned_join</th>\n",
       "      <th>dominant_topic</th>\n",
       "      <th>html_clean</th>\n",
       "      <th>parliament_num</th>\n",
       "      <th>parsed_convo</th>\n",
       "      <th>persons_involved</th>\n",
       "      <th>session_num</th>\n",
       "      <th>session_type</th>\n",
       "      <th>sitting_date</th>\n",
       "      <th>sitting_num</th>\n",
       "      <th>src_url</th>\n",
       "      <th>title</th>\n",
       "      <th>volume_num</th>\n",
       "    </tr>\n",
       "  </thead>\n",
       "  <tbody>\n",
       "    <tr>\n",
       "      <th>0</th>\n",
       "      <td>5d27eca6172d9aa762d4802f</td>\n",
       "      <td>&lt;p&gt;[(proc text) Debate resumed. (proc text)]&lt;/...</td>\n",
       "      <td>{\"0\": {\"entity\": \"NA\", \"content\": \"[(proc text...</td>\n",
       "      <td>[(proc text) Debate resumed. (proc text)]&lt;br/&gt;...</td>\n",
       "      <td>Society</td>\n",
       "      <td>[[(proc text) Debate resumed. (proc text)], Mr...</td>\n",
       "      <td>13</td>\n",
       "      <td>[{'content': '[(proc text) Debate resumed. (pr...</td>\n",
       "      <td>[Mr Leon Perera, Mr K Shanmugam, Assoc Prof Wa...</td>\n",
       "      <td>2</td>\n",
       "      <td>SECOND READING BILLS</td>\n",
       "      <td>2019-05-08</td>\n",
       "      <td>105</td>\n",
       "      <td>https://sprs.parl.gov.sg/search/sprs3topic?rep...</td>\n",
       "      <td>PROTECTION FROM ONLINE FALSEHOODS AND MANIPULA...</td>\n",
       "      <td>94</td>\n",
       "    </tr>\n",
       "    <tr>\n",
       "      <th>1</th>\n",
       "      <td>5d27eca6172d9aa762d48030</td>\n",
       "      <td>&lt;p class=\"ql-align-justify\"&gt;4 &lt;strong&gt;Mr Vikra...</td>\n",
       "      <td>{\"0\": {\"entity\": \"NA\", \"content\": \"Mr Vikram N...</td>\n",
       "      <td>Mr Vikram Nair asked the Minister for Foreign ...</td>\n",
       "      <td>Society</td>\n",
       "      <td>[Mr Vikram Nair asked the Minister for Foreign...</td>\n",
       "      <td>13</td>\n",
       "      <td>[{'content': 'Mr Vikram Nair asked the Ministe...</td>\n",
       "      <td>[Dr Vivian Balakrishnan, The Minister for Fore...</td>\n",
       "      <td>2</td>\n",
       "      <td>ORAL ANSWERS</td>\n",
       "      <td>2019-05-08</td>\n",
       "      <td>105</td>\n",
       "      <td>https://sprs.parl.gov.sg/search/sprs3topic?rep...</td>\n",
       "      <td>STATE OF BILATERAL RELATIONS WITH MALAYSIA FOL...</td>\n",
       "      <td>94</td>\n",
       "    </tr>\n",
       "    <tr>\n",
       "      <th>2</th>\n",
       "      <td>5d27eca6172d9aa762d48031</td>\n",
       "      <td>&lt;p class=\"ql-align-justify\"&gt;8 &lt;strong&gt;Assoc Pr...</td>\n",
       "      <td>{\"0\": {\"entity\": \"NA\", \"content\": \"Assoc Prof ...</td>\n",
       "      <td>Assoc Prof Walter Theseira asked the Minister ...</td>\n",
       "      <td>Internal Security</td>\n",
       "      <td>[Assoc Prof Walter Theseira asked the Minister...</td>\n",
       "      <td>13</td>\n",
       "      <td>[{'content': 'Assoc Prof Walter Theseira asked...</td>\n",
       "      <td>[Ms Low Yen Ling, Ms Anthea Ong, Assoc Prof Wa...</td>\n",
       "      <td>2</td>\n",
       "      <td>ORAL ANSWERS</td>\n",
       "      <td>2019-05-08</td>\n",
       "      <td>105</td>\n",
       "      <td>https://sprs.parl.gov.sg/search/sprs3topic?rep...</td>\n",
       "      <td>COMPANIES WITH MEASURES TO DEAL WITH WORKPLACE...</td>\n",
       "      <td>94</td>\n",
       "    </tr>\n",
       "    <tr>\n",
       "      <th>3</th>\n",
       "      <td>5d27eca6172d9aa762d48032</td>\n",
       "      <td>&lt;p&gt;5 &lt;strong&gt;Ms Irene Quay Siew Ching&lt;/strong&gt;...</td>\n",
       "      <td>{\"0\": {\"entity\": \"NA\", \"content\": \"Ms Irene Qu...</td>\n",
       "      <td>Ms Irene Quay Siew Ching asked the Minister fo...</td>\n",
       "      <td>Environment</td>\n",
       "      <td>[Ms Irene Quay Siew Ching asked the Minister f...</td>\n",
       "      <td>13</td>\n",
       "      <td>[{'content': 'Ms Irene Quay Siew Ching asked t...</td>\n",
       "      <td>[The Senior Minister of State for Health, Dr L...</td>\n",
       "      <td>2</td>\n",
       "      <td>ORAL ANSWERS</td>\n",
       "      <td>2019-05-08</td>\n",
       "      <td>105</td>\n",
       "      <td>https://sprs.parl.gov.sg/search/sprs3topic?rep...</td>\n",
       "      <td>REVIEW OF DRUG TESTING STANDARDS IN SINGAPORE ...</td>\n",
       "      <td>94</td>\n",
       "    </tr>\n",
       "    <tr>\n",
       "      <th>4</th>\n",
       "      <td>5d27eca6172d9aa762d48033</td>\n",
       "      <td>&lt;p class=\"ql-align-justify\"&gt;2 &lt;strong&gt;Mr Lim B...</td>\n",
       "      <td>{\"0\": {\"entity\": \"NA\", \"content\": \"Mr Lim Biow...</td>\n",
       "      <td>Mr Lim Biow Chuan asked the Deputy Prime Minis...</td>\n",
       "      <td>Employment</td>\n",
       "      <td>[Mr Lim Biow Chuan asked the Deputy Prime Mini...</td>\n",
       "      <td>13</td>\n",
       "      <td>[{'content': 'Mr Lim Biow Chuan asked the Depu...</td>\n",
       "      <td>[Ms Indranee Rajah, The Second Minister for Fi...</td>\n",
       "      <td>2</td>\n",
       "      <td>ORAL ANSWERS</td>\n",
       "      <td>2019-05-08</td>\n",
       "      <td>105</td>\n",
       "      <td>https://sprs.parl.gov.sg/search/sprs3topic?rep...</td>\n",
       "      <td>LIVING IN PRIVATE PROPERTIES BUT WITH NO DECLA...</td>\n",
       "      <td>94</td>\n",
       "    </tr>\n",
       "  </tbody>\n",
       "</table>\n",
       "</div>"
      ],
      "text/plain": [
       "                        _id  \\\n",
       "0  5d27eca6172d9aa762d4802f   \n",
       "1  5d27eca6172d9aa762d48030   \n",
       "2  5d27eca6172d9aa762d48031   \n",
       "3  5d27eca6172d9aa762d48032   \n",
       "4  5d27eca6172d9aa762d48033   \n",
       "\n",
       "                                        article_text  \\\n",
       "0  <p>[(proc text) Debate resumed. (proc text)]</...   \n",
       "1  <p class=\"ql-align-justify\">4 <strong>Mr Vikra...   \n",
       "2  <p class=\"ql-align-justify\">8 <strong>Assoc Pr...   \n",
       "3  <p>5 <strong>Ms Irene Quay Siew Ching</strong>...   \n",
       "4  <p class=\"ql-align-justify\">2 <strong>Mr Lim B...   \n",
       "\n",
       "                                              chunks  \\\n",
       "0  {\"0\": {\"entity\": \"NA\", \"content\": \"[(proc text...   \n",
       "1  {\"0\": {\"entity\": \"NA\", \"content\": \"Mr Vikram N...   \n",
       "2  {\"0\": {\"entity\": \"NA\", \"content\": \"Assoc Prof ...   \n",
       "3  {\"0\": {\"entity\": \"NA\", \"content\": \"Ms Irene Qu...   \n",
       "4  {\"0\": {\"entity\": \"NA\", \"content\": \"Mr Lim Biow...   \n",
       "\n",
       "                                        cleaned_join     dominant_topic  \\\n",
       "0  [(proc text) Debate resumed. (proc text)]<br/>...            Society   \n",
       "1  Mr Vikram Nair asked the Minister for Foreign ...            Society   \n",
       "2  Assoc Prof Walter Theseira asked the Minister ...  Internal Security   \n",
       "3  Ms Irene Quay Siew Ching asked the Minister fo...        Environment   \n",
       "4  Mr Lim Biow Chuan asked the Deputy Prime Minis...         Employment   \n",
       "\n",
       "                                          html_clean  parliament_num  \\\n",
       "0  [[(proc text) Debate resumed. (proc text)], Mr...              13   \n",
       "1  [Mr Vikram Nair asked the Minister for Foreign...              13   \n",
       "2  [Assoc Prof Walter Theseira asked the Minister...              13   \n",
       "3  [Ms Irene Quay Siew Ching asked the Minister f...              13   \n",
       "4  [Mr Lim Biow Chuan asked the Deputy Prime Mini...              13   \n",
       "\n",
       "                                        parsed_convo  \\\n",
       "0  [{'content': '[(proc text) Debate resumed. (pr...   \n",
       "1  [{'content': 'Mr Vikram Nair asked the Ministe...   \n",
       "2  [{'content': 'Assoc Prof Walter Theseira asked...   \n",
       "3  [{'content': 'Ms Irene Quay Siew Ching asked t...   \n",
       "4  [{'content': 'Mr Lim Biow Chuan asked the Depu...   \n",
       "\n",
       "                                    persons_involved  session_num  \\\n",
       "0  [Mr Leon Perera, Mr K Shanmugam, Assoc Prof Wa...            2   \n",
       "1  [Dr Vivian Balakrishnan, The Minister for Fore...            2   \n",
       "2  [Ms Low Yen Ling, Ms Anthea Ong, Assoc Prof Wa...            2   \n",
       "3  [The Senior Minister of State for Health, Dr L...            2   \n",
       "4  [Ms Indranee Rajah, The Second Minister for Fi...            2   \n",
       "\n",
       "           session_type sitting_date  sitting_num  \\\n",
       "0  SECOND READING BILLS   2019-05-08          105   \n",
       "1          ORAL ANSWERS   2019-05-08          105   \n",
       "2          ORAL ANSWERS   2019-05-08          105   \n",
       "3          ORAL ANSWERS   2019-05-08          105   \n",
       "4          ORAL ANSWERS   2019-05-08          105   \n",
       "\n",
       "                                             src_url  \\\n",
       "0  https://sprs.parl.gov.sg/search/sprs3topic?rep...   \n",
       "1  https://sprs.parl.gov.sg/search/sprs3topic?rep...   \n",
       "2  https://sprs.parl.gov.sg/search/sprs3topic?rep...   \n",
       "3  https://sprs.parl.gov.sg/search/sprs3topic?rep...   \n",
       "4  https://sprs.parl.gov.sg/search/sprs3topic?rep...   \n",
       "\n",
       "                                               title  volume_num  \n",
       "0  PROTECTION FROM ONLINE FALSEHOODS AND MANIPULA...          94  \n",
       "1  STATE OF BILATERAL RELATIONS WITH MALAYSIA FOL...          94  \n",
       "2  COMPANIES WITH MEASURES TO DEAL WITH WORKPLACE...          94  \n",
       "3  REVIEW OF DRUG TESTING STANDARDS IN SINGAPORE ...          94  \n",
       "4  LIVING IN PRIVATE PROPERTIES BUT WITH NO DECLA...          94  "
      ]
     },
     "execution_count": 70,
     "metadata": {},
     "output_type": "execute_result"
    }
   ],
   "source": [
    "mongo_df = pd.DataFrame.from_records(remote_articles.find())\n",
    "mongo_df.head()"
   ]
  },
  {
   "cell_type": "markdown",
   "metadata": {},
   "source": [
    "## Text Preprocessing"
   ]
  },
  {
   "cell_type": "code",
   "execution_count": 14,
   "metadata": {},
   "outputs": [],
   "source": [
    "def read_corpus(series_docs, tokens_only=False):\n",
    "    for line in series_docs.itertuples():\n",
    "        if tokens_only:\n",
    "            yield simple_preprocess(line.cleaned_join)\n",
    "        else:\n",
    "            # For training data, add tags\n",
    "            yield gensim.models.doc2vec.TaggedDocument(simple_preprocess(line.cleaned_join), tags=[str(line._1)])\n"
   ]
  },
  {
   "cell_type": "code",
   "execution_count": 16,
   "metadata": {},
   "outputs": [],
   "source": [
    "corpus = list(read_corpus(mongo_df,tokens_only=False))"
   ]
  },
  {
   "cell_type": "code",
   "execution_count": 17,
   "metadata": {},
   "outputs": [
    {
     "data": {
      "text/plain": [
       "['5d27eca6172d9aa762d48030']"
      ]
     },
     "execution_count": 17,
     "metadata": {},
     "output_type": "execute_result"
    }
   ],
   "source": [
    "corpus[1].tags"
   ]
  },
  {
   "cell_type": "markdown",
   "metadata": {},
   "source": [
    "## Instantiating a Doc2Vec GenSim Instance"
   ]
  },
  {
   "cell_type": "code",
   "execution_count": 18,
   "metadata": {},
   "outputs": [],
   "source": [
    "model = gensim.models.doc2vec.Doc2Vec(vector_size=50, min_count=3, epochs=100, workers=4)"
   ]
  },
  {
   "cell_type": "markdown",
   "metadata": {},
   "source": [
    "### Build a Vocabulary"
   ]
  },
  {
   "cell_type": "code",
   "execution_count": 19,
   "metadata": {},
   "outputs": [],
   "source": [
    "model.build_vocab(corpus)"
   ]
  },
  {
   "cell_type": "code",
   "execution_count": 20,
   "metadata": {},
   "outputs": [
    {
     "name": "stdout",
     "output_type": "stream",
     "text": [
      "CPU times: user 20min 22s, sys: 6.98 s, total: 20min 29s\n",
      "Wall time: 6min 42s\n"
     ]
    }
   ],
   "source": [
    "%time model.train(corpus, total_examples=model.corpus_count, epochs=model.epochs)"
   ]
  },
  {
   "cell_type": "markdown",
   "metadata": {},
   "source": [
    "### Save Model"
   ]
  },
  {
   "cell_type": "code",
   "execution_count": 21,
   "metadata": {},
   "outputs": [],
   "source": [
    "model.save('doc2vec')"
   ]
  },
  {
   "cell_type": "code",
   "execution_count": 20,
   "metadata": {},
   "outputs": [],
   "source": [
    "model.delete_temporary_training_data()"
   ]
  },
  {
   "cell_type": "markdown",
   "metadata": {},
   "source": [
    "## Load Model"
   ]
  },
  {
   "cell_type": "code",
   "execution_count": 122,
   "metadata": {},
   "outputs": [
    {
     "name": "stderr",
     "output_type": "stream",
     "text": [
      "/Users/syamil/anaconda3/envs/pivot/lib/python3.7/site-packages/smart_open/smart_open_lib.py:398: UserWarning: This function is deprecated, use smart_open.open instead. See the migration notes for details: https://github.com/RaRe-Technologies/smart_open/blob/master/README.rst#migrating-to-the-new-open-function\n",
      "  'See the migration notes for details: %s' % _MIGRATION_NOTES_URL\n"
     ]
    }
   ],
   "source": [
    "model = gensim.models.doc2vec.Doc2Vec.load('doc2vec')"
   ]
  },
  {
   "cell_type": "markdown",
   "metadata": {},
   "source": [
    "## Inference"
   ]
  },
  {
   "cell_type": "code",
   "execution_count": 53,
   "metadata": {},
   "outputs": [],
   "source": [
    "inference_1 = model.infer_vector(corpus[291].words)\n",
    "model.delete_temporary_training_data(keep_doctags_vectors=True, keep_inference=True)"
   ]
  },
  {
   "cell_type": "code",
   "execution_count": 73,
   "metadata": {},
   "outputs": [
    {
     "data": {
      "text/plain": [
       "[('5d27eca6172d9aa762d48152', 0.992645263671875),\n",
       " ('5d27eca6172d9aa762d49ef0', 0.9119903445243835),\n",
       " ('5d27eca6172d9aa762d48b2d', 0.907822847366333),\n",
       " ('5d27eca6172d9aa762d48fc3', 0.8947123289108276),\n",
       " ('5d27eca6172d9aa762d492f7', 0.8905215859413147),\n",
       " ('5d27eca6172d9aa762d49304', 0.8838604688644409),\n",
       " ('5d27eca6172d9aa762d48639', 0.8791929483413696),\n",
       " ('5d27eca6172d9aa762d49673', 0.8630969524383545),\n",
       " ('5d27eca6172d9aa762d49aac', 0.8347380757331848),\n",
       " ('5d27eca6172d9aa762d48b5c', 0.8256769180297852)]"
      ]
     },
     "metadata": {},
     "output_type": "display_data"
    }
   ],
   "source": [
    "results = model.docvecs.most_similar([inference_1])\n",
    "display(results)"
   ]
  },
  {
   "cell_type": "markdown",
   "metadata": {},
   "source": [
    "We can see that `most_similar` returns a list of tuples with the document ID and its respective probability."
   ]
  },
  {
   "cell_type": "code",
   "execution_count": 100,
   "metadata": {},
   "outputs": [
    {
     "data": {
      "text/html": [
       "<div>\n",
       "<style scoped>\n",
       "    .dataframe tbody tr th:only-of-type {\n",
       "        vertical-align: middle;\n",
       "    }\n",
       "\n",
       "    .dataframe tbody tr th {\n",
       "        vertical-align: top;\n",
       "    }\n",
       "\n",
       "    .dataframe thead th {\n",
       "        text-align: right;\n",
       "    }\n",
       "</style>\n",
       "<table border=\"1\" class=\"dataframe\">\n",
       "  <thead>\n",
       "    <tr style=\"text-align: right;\">\n",
       "      <th></th>\n",
       "      <th>_id</th>\n",
       "      <th>article_text</th>\n",
       "      <th>chunks</th>\n",
       "      <th>cleaned_join</th>\n",
       "      <th>dominant_topic</th>\n",
       "      <th>html_clean</th>\n",
       "      <th>parliament_num</th>\n",
       "      <th>parsed_convo</th>\n",
       "      <th>persons_involved</th>\n",
       "      <th>session_num</th>\n",
       "      <th>session_type</th>\n",
       "      <th>sitting_date</th>\n",
       "      <th>sitting_num</th>\n",
       "      <th>src_url</th>\n",
       "      <th>title</th>\n",
       "      <th>volume_num</th>\n",
       "    </tr>\n",
       "  </thead>\n",
       "  <tbody>\n",
       "    <tr>\n",
       "      <th>291</th>\n",
       "      <td>5d27eca6172d9aa762d48152</td>\n",
       "      <td>&lt;p&gt;&lt;strong&gt;The Chairman&lt;/strong&gt;: Head P, Mini...</td>\n",
       "      <td>{\"0\": {\"entity\": \"The Chairman\", \"content\": \" ...</td>\n",
       "      <td>The Chairman: Head P, Ministry of Home Affairs...</td>\n",
       "      <td>Internal Security</td>\n",
       "      <td>[The Chairman: Head P, Ministry of Home Affair...</td>\n",
       "      <td>13</td>\n",
       "      <td>[{'content': 'The Chairman: Head P, Ministry o...</td>\n",
       "      <td>[Mrs Josephine Teo, Mr Yee Chia Hsing, Ms Jess...</td>\n",
       "      <td>2</td>\n",
       "      <td>BUDGET</td>\n",
       "      <td>2019-03-01</td>\n",
       "      <td>96</td>\n",
       "      <td>https://sprs.parl.gov.sg/search/sprs3topic?rep...</td>\n",
       "      <td>COMMITTEE OF SUPPLY - HEAD P (MINISTRY OF HOME...</td>\n",
       "      <td>94</td>\n",
       "    </tr>\n",
       "  </tbody>\n",
       "</table>\n",
       "</div>"
      ],
      "text/plain": [
       "                          _id  \\\n",
       "291  5d27eca6172d9aa762d48152   \n",
       "\n",
       "                                          article_text  \\\n",
       "291  <p><strong>The Chairman</strong>: Head P, Mini...   \n",
       "\n",
       "                                                chunks  \\\n",
       "291  {\"0\": {\"entity\": \"The Chairman\", \"content\": \" ...   \n",
       "\n",
       "                                          cleaned_join     dominant_topic  \\\n",
       "291  The Chairman: Head P, Ministry of Home Affairs...  Internal Security   \n",
       "\n",
       "                                            html_clean  parliament_num  \\\n",
       "291  [The Chairman: Head P, Ministry of Home Affair...              13   \n",
       "\n",
       "                                          parsed_convo  \\\n",
       "291  [{'content': 'The Chairman: Head P, Ministry o...   \n",
       "\n",
       "                                      persons_involved  session_num  \\\n",
       "291  [Mrs Josephine Teo, Mr Yee Chia Hsing, Ms Jess...            2   \n",
       "\n",
       "    session_type sitting_date  sitting_num  \\\n",
       "291       BUDGET   2019-03-01           96   \n",
       "\n",
       "                                               src_url  \\\n",
       "291  https://sprs.parl.gov.sg/search/sprs3topic?rep...   \n",
       "\n",
       "                                                 title  volume_num  \n",
       "291  COMMITTEE OF SUPPLY - HEAD P (MINISTRY OF HOME...          94  "
      ]
     },
     "execution_count": 100,
     "metadata": {},
     "output_type": "execute_result"
    }
   ],
   "source": [
    "mongo_df[mongo_df['_id'] == ObjectId('5d27eca6172d9aa762d48152')]"
   ]
  },
  {
   "cell_type": "code",
   "execution_count": 101,
   "metadata": {},
   "outputs": [],
   "source": [
    "def fetch_recommended_document(document_id,mongo_conn,model,n_results=5):\n",
    "    \"\"\"\n",
    "    Fetch documents from mongoDB based on inference\n",
    "    \n",
    "    \"\"\"\n",
    "    document = mongo_conn.parliament.articles.find_one({'_id': ObjectId(document_id)})\n",
    "    inference = model.infer_vector(document['cleaned_join'].split())\n",
    "    results = model.docvecs.most_similar([inference])\n",
    "    ids = []\n",
    "    for item in results[:n_results]:\n",
    "        ids.append(ObjectId(item[0]))\n",
    "    \n",
    "    recommends = []\n",
    "    for recommend in mongo_conn.parliament.articles.find({\"_id\" : {\"$in\" : ids }}):\n",
    "        recommends.append({\n",
    "            \"_id\" : recommend[\"_id\"],\n",
    "            \"title\" : recommend[\"title\"],\n",
    "            \"sitting_date\" : recommend[\"sitting_date\"],\n",
    "            \"session_type\" : recommend[\"session_type\"]\n",
    "        })\n",
    "    return recommends\n",
    "    "
   ]
  },
  {
   "cell_type": "code",
   "execution_count": 102,
   "metadata": {},
   "outputs": [
    {
     "data": {
      "text/plain": [
       "[{'_id': ObjectId('5d27eca6172d9aa762d48152'),\n",
       "  'title': 'COMMITTEE OF SUPPLY - HEAD P (MINISTRY OF HOME AFFAIRS)',\n",
       "  'sitting_date': datetime.datetime(2019, 3, 1, 0, 0),\n",
       "  'session_type': 'BUDGET'},\n",
       " {'_id': ObjectId('5d27eca6172d9aa762d48639'),\n",
       "  'title': 'COMMITTEE OF SUPPLY – HEAD P (MINISTRY OF HOME AFFAIRS)',\n",
       "  'sitting_date': datetime.datetime(2018, 3, 2, 0, 0),\n",
       "  'session_type': 'MOTIONS'},\n",
       " {'_id': ObjectId('5d27eca6172d9aa762d48b2d'),\n",
       "  'title': 'COMMITTEE OF SUPPLY − HEAD P (MINISTRY OF HOME AFFAIRS)',\n",
       "  'sitting_date': datetime.datetime(2017, 3, 3, 0, 0),\n",
       "  'session_type': 'MOTIONS'},\n",
       " {'_id': ObjectId('5d27eca6172d9aa762d48fc3'),\n",
       "  'title': 'COMMITTEE OF SUPPLY – HEAD P (MINISTRY OF HOME AFFAIRS)',\n",
       "  'sitting_date': datetime.datetime(2016, 4, 6, 0, 0),\n",
       "  'session_type': 'MOTIONS'},\n",
       " {'_id': ObjectId('5d27eca6172d9aa762d492f7'),\n",
       "  'title': 'HEAD P – MINISTRY OF HOME AFFAIRS (COMMITTEE OF SUPPLY)',\n",
       "  'sitting_date': datetime.datetime(2015, 3, 6, 0, 0),\n",
       "  'session_type': 'MOTIONS'},\n",
       " {'_id': ObjectId('5d27eca6172d9aa762d49ef0'),\n",
       "  'title': 'COMMITTEE OF SUPPLY Âˆ’ HEAD P (MINISTRY OF HOME AFFAIRS)',\n",
       "  'sitting_date': datetime.datetime(2012, 3, 1, 0, 0),\n",
       "  'session_type': 'BUDGET'}]"
      ]
     },
     "execution_count": 102,
     "metadata": {},
     "output_type": "execute_result"
    }
   ],
   "source": [
    "fetch_recommended_document('5d27eca6172d9aa762d48b2d',remote_client,model,6)"
   ]
  }
 ],
 "metadata": {
  "kernelspec": {
   "display_name": "Python 3",
   "language": "python",
   "name": "python3"
  },
  "language_info": {
   "codemirror_mode": {
    "name": "ipython",
    "version": 3
   },
   "file_extension": ".py",
   "mimetype": "text/x-python",
   "name": "python",
   "nbconvert_exporter": "python",
   "pygments_lexer": "ipython3",
   "version": "3.7.3"
  }
 },
 "nbformat": 4,
 "nbformat_minor": 2
}
