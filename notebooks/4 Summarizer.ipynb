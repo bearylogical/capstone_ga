{
 "cells": [
  {
   "cell_type": "markdown",
   "metadata": {},
   "source": [
    "# 04 Text Summarizing\n"
   ]
  },
  {
   "cell_type": "markdown",
   "metadata": {},
   "source": [
    "## Import Libraries"
   ]
  },
  {
   "cell_type": "code",
   "execution_count": 2,
   "metadata": {},
   "outputs": [],
   "source": [
    "import re\n",
    "\n",
    "import datetime\n",
    "import numpy as np\n",
    "import pandas as pd\n",
    "from datetime import date \n",
    "\n",
    "###\n",
    "import pymongo\n",
    "\n",
    "### NLP\n",
    "\n",
    "import gensim\n",
    "import spacy\n",
    "\n",
    "### Custom Utils\n",
    "from text_utils.metrics import get_chunks_info, get_metric\n",
    "\n",
    " "
   ]
  },
  {
   "cell_type": "markdown",
   "metadata": {},
   "source": [
    "## Import sample text"
   ]
  },
  {
   "cell_type": "code",
   "execution_count": 3,
   "metadata": {},
   "outputs": [],
   "source": [
    "## for remote \n",
    "\n",
    "# try:\n",
    "#     client = pymongo.MongoClient('192.168.1.42',\n",
    "#                                  username='syamil',\n",
    "#                                  password='Rskfazw9..',\n",
    "#                                  authMechanism='SCRAM-SHA-256')\n",
    "#     client.server_info() # force connection on a request as the\n",
    "#                          # connect=True parameter of MongoClient seems\n",
    "#                          # to be useless here \n",
    "# except pymongo.errors.ServerSelectionTimeoutError as err:\n",
    "#     # do whatever you need\n",
    "#     print(err)\n",
    "    \n",
    "## for local\n",
    "try:\n",
    "    client = pymongo.MongoClient(\"mongodb://localhost:27017/\")\n",
    "    client.server_info() # force connection on a request as the\n",
    "                         # connect=True parameter of MongoClient seems\n",
    "                         # to be useless here \n",
    "except pymongo.errors.ServerSelectionTimeoutError as err:\n",
    "    # do whatever you need\n",
    "    print(err)\n",
    "\n"
   ]
  },
  {
   "cell_type": "code",
   "execution_count": 4,
   "metadata": {},
   "outputs": [],
   "source": [
    "db = client[\"parliament\"]\n",
    "articles = db[\"articles\"]"
   ]
  },
  {
   "cell_type": "code",
   "execution_count": 5,
   "metadata": {},
   "outputs": [
    {
     "data": {
      "text/plain": [
       "'[(proc text) Debate resumed. (proc text)]<br/>Mr Deputy Speaker: Mr Png Eng Huat.6.57 pm<br/>Mr Png Eng Huat (Hougang): Sir, if this Bill is drafted solely to target the perpetrators of hate, violence, intolerance and disdain towards another race or religion, by all means, let us do it. We should never allow such people to propagate their vile ideologies in any form or manner. This world has no pl'"
      ]
     },
     "execution_count": 5,
     "metadata": {},
     "output_type": "execute_result"
    }
   ],
   "source": [
    "articles.find_one()['cleaned_join'][:400]"
   ]
  },
  {
   "cell_type": "code",
   "execution_count": 6,
   "metadata": {},
   "outputs": [],
   "source": [
    "mongo_df = pd.DataFrame.from_records(articles.find())"
   ]
  },
  {
   "cell_type": "code",
   "execution_count": 7,
   "metadata": {},
   "outputs": [
    {
     "data": {
      "text/html": [
       "<div>\n",
       "<style scoped>\n",
       "    .dataframe tbody tr th:only-of-type {\n",
       "        vertical-align: middle;\n",
       "    }\n",
       "\n",
       "    .dataframe tbody tr th {\n",
       "        vertical-align: top;\n",
       "    }\n",
       "\n",
       "    .dataframe thead th {\n",
       "        text-align: right;\n",
       "    }\n",
       "</style>\n",
       "<table border=\"1\" class=\"dataframe\">\n",
       "  <thead>\n",
       "    <tr style=\"text-align: right;\">\n",
       "      <th></th>\n",
       "      <th>_id</th>\n",
       "      <th>article_text</th>\n",
       "      <th>chunks</th>\n",
       "      <th>cleaned_join</th>\n",
       "      <th>dominant_topic</th>\n",
       "      <th>html_clean</th>\n",
       "      <th>parliament_num</th>\n",
       "      <th>parsed_convo</th>\n",
       "      <th>persons_involved</th>\n",
       "      <th>session_num</th>\n",
       "      <th>session_type</th>\n",
       "      <th>sitting_date</th>\n",
       "      <th>sitting_num</th>\n",
       "      <th>src_url</th>\n",
       "      <th>title</th>\n",
       "      <th>volume_num</th>\n",
       "    </tr>\n",
       "  </thead>\n",
       "  <tbody>\n",
       "    <tr>\n",
       "      <th>0</th>\n",
       "      <td>5d27eca6172d9aa762d4802f</td>\n",
       "      <td>&lt;p&gt;[(proc text) Debate resumed. (proc text)]&lt;/...</td>\n",
       "      <td>[{'content': '[(proc text) Debate resumed. (pr...</td>\n",
       "      <td>[(proc text) Debate resumed. (proc text)]&lt;br/&gt;...</td>\n",
       "      <td>Society</td>\n",
       "      <td>[[(proc text) Debate resumed. (proc text)], Mr...</td>\n",
       "      <td>13</td>\n",
       "      <td>[{'content': '[(proc text) Debate resumed. (pr...</td>\n",
       "      <td>[Prof Lim Sun Sun, Miss Cheng Li Hui, An hon M...</td>\n",
       "      <td>2</td>\n",
       "      <td>SECOND READING BILLS</td>\n",
       "      <td>2019-05-08</td>\n",
       "      <td>105</td>\n",
       "      <td>https://sprs.parl.gov.sg/search/sprs3topic?rep...</td>\n",
       "      <td>PROTECTION FROM ONLINE FALSEHOODS AND MANIPULA...</td>\n",
       "      <td>94</td>\n",
       "    </tr>\n",
       "    <tr>\n",
       "      <th>1</th>\n",
       "      <td>5d27eca6172d9aa762d48030</td>\n",
       "      <td>&lt;p class=\"ql-align-justify\"&gt;4 &lt;strong&gt;Mr Vikra...</td>\n",
       "      <td>[{'content': 'Mr Vikram Nair asked the Ministe...</td>\n",
       "      <td>Mr Vikram Nair asked the Minister for Foreign ...</td>\n",
       "      <td>Society</td>\n",
       "      <td>[Mr Vikram Nair asked the Minister for Foreign...</td>\n",
       "      <td>13</td>\n",
       "      <td>[{'content': 'Mr Vikram Nair asked the Ministe...</td>\n",
       "      <td>[Mr Speaker, Assoc Prof Walter Theseira, Mr Vi...</td>\n",
       "      <td>2</td>\n",
       "      <td>ORAL ANSWERS</td>\n",
       "      <td>2019-05-08</td>\n",
       "      <td>105</td>\n",
       "      <td>https://sprs.parl.gov.sg/search/sprs3topic?rep...</td>\n",
       "      <td>STATE OF BILATERAL RELATIONS WITH MALAYSIA FOL...</td>\n",
       "      <td>94</td>\n",
       "    </tr>\n",
       "    <tr>\n",
       "      <th>2</th>\n",
       "      <td>5d27eca6172d9aa762d48031</td>\n",
       "      <td>&lt;p class=\"ql-align-justify\"&gt;8 &lt;strong&gt;Assoc Pr...</td>\n",
       "      <td>[{'content': 'Assoc Prof Walter Theseira asked...</td>\n",
       "      <td>Assoc Prof Walter Theseira asked the Minister ...</td>\n",
       "      <td>Internal Security</td>\n",
       "      <td>[Assoc Prof Walter Theseira asked the Minister...</td>\n",
       "      <td>13</td>\n",
       "      <td>[{'content': 'Assoc Prof Walter Theseira asked...</td>\n",
       "      <td>[Ms Anthea Ong, Assoc Prof Walter Theseira, Ms...</td>\n",
       "      <td>2</td>\n",
       "      <td>ORAL ANSWERS</td>\n",
       "      <td>2019-05-08</td>\n",
       "      <td>105</td>\n",
       "      <td>https://sprs.parl.gov.sg/search/sprs3topic?rep...</td>\n",
       "      <td>COMPANIES WITH MEASURES TO DEAL WITH WORKPLACE...</td>\n",
       "      <td>94</td>\n",
       "    </tr>\n",
       "    <tr>\n",
       "      <th>3</th>\n",
       "      <td>5d27eca6172d9aa762d48032</td>\n",
       "      <td>&lt;p&gt;5 &lt;strong&gt;Ms Irene Quay Siew Ching&lt;/strong&gt;...</td>\n",
       "      <td>[{'content': 'Ms Irene Quay Siew Ching asked t...</td>\n",
       "      <td>Ms Irene Quay Siew Ching asked the Minister fo...</td>\n",
       "      <td>Environment</td>\n",
       "      <td>[Ms Irene Quay Siew Ching asked the Minister f...</td>\n",
       "      <td>13</td>\n",
       "      <td>[{'content': 'Ms Irene Quay Siew Ching asked t...</td>\n",
       "      <td>[Ms Irene Quay Siew Ching, Dr Lam Pin Min, The...</td>\n",
       "      <td>2</td>\n",
       "      <td>ORAL ANSWERS</td>\n",
       "      <td>2019-05-08</td>\n",
       "      <td>105</td>\n",
       "      <td>https://sprs.parl.gov.sg/search/sprs3topic?rep...</td>\n",
       "      <td>REVIEW OF DRUG TESTING STANDARDS IN SINGAPORE ...</td>\n",
       "      <td>94</td>\n",
       "    </tr>\n",
       "    <tr>\n",
       "      <th>4</th>\n",
       "      <td>5d27eca6172d9aa762d48033</td>\n",
       "      <td>&lt;p class=\"ql-align-justify\"&gt;2 &lt;strong&gt;Mr Lim B...</td>\n",
       "      <td>[{'content': 'Mr Lim Biow Chuan asked the Depu...</td>\n",
       "      <td>Mr Lim Biow Chuan asked the Deputy Prime Minis...</td>\n",
       "      <td>Employment</td>\n",
       "      <td>[Mr Lim Biow Chuan asked the Deputy Prime Mini...</td>\n",
       "      <td>13</td>\n",
       "      <td>[{'content': 'Mr Lim Biow Chuan asked the Depu...</td>\n",
       "      <td>[The Second Minister for Finance, Mr Lim Biow ...</td>\n",
       "      <td>2</td>\n",
       "      <td>ORAL ANSWERS</td>\n",
       "      <td>2019-05-08</td>\n",
       "      <td>105</td>\n",
       "      <td>https://sprs.parl.gov.sg/search/sprs3topic?rep...</td>\n",
       "      <td>LIVING IN PRIVATE PROPERTIES BUT WITH NO DECLA...</td>\n",
       "      <td>94</td>\n",
       "    </tr>\n",
       "  </tbody>\n",
       "</table>\n",
       "</div>"
      ],
      "text/plain": [
       "                        _id  \\\n",
       "0  5d27eca6172d9aa762d4802f   \n",
       "1  5d27eca6172d9aa762d48030   \n",
       "2  5d27eca6172d9aa762d48031   \n",
       "3  5d27eca6172d9aa762d48032   \n",
       "4  5d27eca6172d9aa762d48033   \n",
       "\n",
       "                                        article_text  \\\n",
       "0  <p>[(proc text) Debate resumed. (proc text)]</...   \n",
       "1  <p class=\"ql-align-justify\">4 <strong>Mr Vikra...   \n",
       "2  <p class=\"ql-align-justify\">8 <strong>Assoc Pr...   \n",
       "3  <p>5 <strong>Ms Irene Quay Siew Ching</strong>...   \n",
       "4  <p class=\"ql-align-justify\">2 <strong>Mr Lim B...   \n",
       "\n",
       "                                              chunks  \\\n",
       "0  [{'content': '[(proc text) Debate resumed. (pr...   \n",
       "1  [{'content': 'Mr Vikram Nair asked the Ministe...   \n",
       "2  [{'content': 'Assoc Prof Walter Theseira asked...   \n",
       "3  [{'content': 'Ms Irene Quay Siew Ching asked t...   \n",
       "4  [{'content': 'Mr Lim Biow Chuan asked the Depu...   \n",
       "\n",
       "                                        cleaned_join     dominant_topic  \\\n",
       "0  [(proc text) Debate resumed. (proc text)]<br/>...            Society   \n",
       "1  Mr Vikram Nair asked the Minister for Foreign ...            Society   \n",
       "2  Assoc Prof Walter Theseira asked the Minister ...  Internal Security   \n",
       "3  Ms Irene Quay Siew Ching asked the Minister fo...        Environment   \n",
       "4  Mr Lim Biow Chuan asked the Deputy Prime Minis...         Employment   \n",
       "\n",
       "                                          html_clean  parliament_num  \\\n",
       "0  [[(proc text) Debate resumed. (proc text)], Mr...              13   \n",
       "1  [Mr Vikram Nair asked the Minister for Foreign...              13   \n",
       "2  [Assoc Prof Walter Theseira asked the Minister...              13   \n",
       "3  [Ms Irene Quay Siew Ching asked the Minister f...              13   \n",
       "4  [Mr Lim Biow Chuan asked the Deputy Prime Mini...              13   \n",
       "\n",
       "                                        parsed_convo  \\\n",
       "0  [{'content': '[(proc text) Debate resumed. (pr...   \n",
       "1  [{'content': 'Mr Vikram Nair asked the Ministe...   \n",
       "2  [{'content': 'Assoc Prof Walter Theseira asked...   \n",
       "3  [{'content': 'Ms Irene Quay Siew Ching asked t...   \n",
       "4  [{'content': 'Mr Lim Biow Chuan asked the Depu...   \n",
       "\n",
       "                                    persons_involved  session_num  \\\n",
       "0  [Prof Lim Sun Sun, Miss Cheng Li Hui, An hon M...            2   \n",
       "1  [Mr Speaker, Assoc Prof Walter Theseira, Mr Vi...            2   \n",
       "2  [Ms Anthea Ong, Assoc Prof Walter Theseira, Ms...            2   \n",
       "3  [Ms Irene Quay Siew Ching, Dr Lam Pin Min, The...            2   \n",
       "4  [The Second Minister for Finance, Mr Lim Biow ...            2   \n",
       "\n",
       "           session_type sitting_date  sitting_num  \\\n",
       "0  SECOND READING BILLS   2019-05-08          105   \n",
       "1          ORAL ANSWERS   2019-05-08          105   \n",
       "2          ORAL ANSWERS   2019-05-08          105   \n",
       "3          ORAL ANSWERS   2019-05-08          105   \n",
       "4          ORAL ANSWERS   2019-05-08          105   \n",
       "\n",
       "                                             src_url  \\\n",
       "0  https://sprs.parl.gov.sg/search/sprs3topic?rep...   \n",
       "1  https://sprs.parl.gov.sg/search/sprs3topic?rep...   \n",
       "2  https://sprs.parl.gov.sg/search/sprs3topic?rep...   \n",
       "3  https://sprs.parl.gov.sg/search/sprs3topic?rep...   \n",
       "4  https://sprs.parl.gov.sg/search/sprs3topic?rep...   \n",
       "\n",
       "                                               title  volume_num  \n",
       "0  PROTECTION FROM ONLINE FALSEHOODS AND MANIPULA...          94  \n",
       "1  STATE OF BILATERAL RELATIONS WITH MALAYSIA FOL...          94  \n",
       "2  COMPANIES WITH MEASURES TO DEAL WITH WORKPLACE...          94  \n",
       "3  REVIEW OF DRUG TESTING STANDARDS IN SINGAPORE ...          94  \n",
       "4  LIVING IN PRIVATE PROPERTIES BUT WITH NO DECLA...          94  "
      ]
     },
     "execution_count": 7,
     "metadata": {},
     "output_type": "execute_result"
    }
   ],
   "source": [
    "mongo_df.head()"
   ]
  },
  {
   "cell_type": "markdown",
   "metadata": {},
   "source": [
    "## Extractive Summarization using TextRank"
   ]
  },
  {
   "cell_type": "markdown",
   "metadata": {},
   "source": [
    "Source : https://www.aclweb.org/anthology/W04-3252"
   ]
  },
  {
   "cell_type": "code",
   "execution_count": 113,
   "metadata": {},
   "outputs": [],
   "source": [
    "from nltk.corpus import stopwords\n",
    "import matplotlib.pyplot as plt\n",
    "import seaborn as sns\n",
    "import pprint\n",
    "\n",
    "import networkx as nx"
   ]
  },
  {
   "cell_type": "markdown",
   "metadata": {},
   "source": [
    "### Step 0 : Import in Sample Text"
   ]
  },
  {
   "cell_type": "code",
   "execution_count": 23,
   "metadata": {},
   "outputs": [
    {
     "data": {
      "text/plain": [
       "'Mr Lim Biow Chuan asked the Minister for National Development (a) whether a traffic impact assessment had been carried out prior to having the construction staging ground located at Marina East; and (b) when will this temporary staging ground be relocated.<br/>Mr Lawrence Wong: The temporary occupation licence (TOL) for the construction staging ground at Marina East was first issued to LTA in 2014, before activities in the area generated significant traffic impact. In 2016, arising from new TOL applications in the East Coast/Marina Bay area, a joint Traffic Impact Assessment (TIA) was carried out for the TOLs in the East Coast/Marina Bay area, as they share the same access road. The Marina East staging ground is segregated from the existing residential area by East Coast Parkway and East Coast Park. Nevertheless, LTA has adopted measures to minimise dis-amenities to road users in the vicinity. For example, queue bays are provided in the staging ground, and throughput has been enhanced so that heavy vehicles do not overflow into public roads. LTA is also working closely with the developers and contractors in the area to develop localised traffic control plans to improve safety and minimise inconvenience to other road users. These include managing the schedules and routes of heavy vehicles to avoid peak hour traffic and residential areas, where possible. There are also signs to alert motorists to slow down and watch out for heavy vehicles.From a land-use perspective, the Marina East staging ground currently supports LTA’s rail and road infrastructure projects. When these projects are completed, we will review whether to continue the use of this staging ground, in connection with the timing of future development plans for the area. '"
      ]
     },
     "metadata": {},
     "output_type": "display_data"
    }
   ],
   "source": [
    "sample_text = mongo_df.iloc[1300].cleaned_join\n",
    "display(sample_text)"
   ]
  },
  {
   "cell_type": "markdown",
   "metadata": {},
   "source": [
    "## Step 1 : Extract Sentences from sample\n",
    "\n",
    "In this step, we will be splitting the text into sentences by using python's `.split()` method. Additionally, we will be doing some pre-processing as part of the process which includes removing stop words as well as stemming. \n",
    "\n",
    "The function `process_text` takes in a string of text (or in this case, the document) and then outputs a list of post-processed strings where each item on the list is a processed string.\n",
    "\n",
    "Furthermore, we will ignore the text at index 0 as this is typically the question statement and we are only interested in responses."
   ]
  },
  {
   "cell_type": "code",
   "execution_count": 263,
   "metadata": {},
   "outputs": [
    {
     "data": {
      "text/plain": [
       "['mr lawrence wong: the temporary occupation licence (tol) construction staging ground marina east first issued lta 2014, activities area generated significant traffic impact',\n",
       " 'in 2016, arising new tol applications east coast/marina bay area, joint traffic impact assessment (tia) carried tols east coast/marina bay area, share access road',\n",
       " 'the marina east staging ground segregated existing residential area east coast parkway east coast park',\n",
       " 'nevertheless, lta adopted measures minimise dis-amenities road users vicinity',\n",
       " 'for example, queue bays provided staging ground, throughput enhanced heavy vehicles overflow public roads',\n",
       " 'lta also working closely developers contractors area develop localised traffic control plans improve safety minimise inconvenience road users',\n",
       " 'these include managing schedules routes heavy vehicles avoid peak hour traffic residential areas, possible',\n",
       " 'there also signs alert motorists slow watch heavy vehicles',\n",
       " 'from land-use perspective, marina east staging ground currently supports lta’s rail road infrastructure projects',\n",
       " 'when projects completed, review whether continue use staging ground, connection timing future development plans area']"
      ]
     },
     "metadata": {},
     "output_type": "display_data"
    }
   ],
   "source": [
    "stop_words = set(stopwords.words(\"english\"))\n",
    "\n",
    "def process_text(text,stopwords = None):\n",
    "    text = text.replace('<br/>',' ')\n",
    "    split_text = text.split('.')\n",
    "    sentences = [sentence for sentence in split_text if len(sentence) > 1]\n",
    "    \n",
    "    process_sentences = []\n",
    "    \n",
    "    ## remove stopwords\n",
    "    for sentence in sentences:\n",
    "        words = sentence.split()\n",
    "        processed_words = [word.lower() for word in words if word not in stopwords]\n",
    "        process_sentences.append(\" \".join(processed_words))\n",
    "    \n",
    "    return process_sentences[1:]\n",
    "\n",
    "processed_text = process_text(sample_text,stop_words)\n",
    "display(processed_text)"
   ]
  },
  {
   "cell_type": "markdown",
   "metadata": {},
   "source": [
    "## Step 2 : Vectorizing our Text\n",
    "\n",
    "In this step, the sentences are then converted to Term-Frequency Inverse Document Frequency (TF-IDF). TF-IDF is used in this case over the Bag of Words (BoW) approach to penalise frequently occuring words within the same text. In plain speak, it's similar to assigning weights over the occurances of a certain word. If the word occurs more frequently, then the value is lower. Likewise, rarely accuring words are then given higher values. "
   ]
  },
  {
   "cell_type": "code",
   "execution_count": 264,
   "metadata": {},
   "outputs": [],
   "source": [
    "from sklearn.feature_extraction.text import TfidfVectorizer\n",
    "\n",
    "vectorizer = TfidfVectorizer()\n",
    "sent_vectors = vectorizer.fit_transform(processed_text)"
   ]
  },
  {
   "cell_type": "markdown",
   "metadata": {},
   "source": [
    "To better understand what is happening below the hood, a dataframe containing the vectors mapped to their associated word is shown below."
   ]
  },
  {
   "cell_type": "code",
   "execution_count": 265,
   "metadata": {},
   "outputs": [
    {
     "data": {
      "text/html": [
       "<div>\n",
       "<style scoped>\n",
       "    .dataframe tbody tr th:only-of-type {\n",
       "        vertical-align: middle;\n",
       "    }\n",
       "\n",
       "    .dataframe tbody tr th {\n",
       "        vertical-align: top;\n",
       "    }\n",
       "\n",
       "    .dataframe thead th {\n",
       "        text-align: right;\n",
       "    }\n",
       "</style>\n",
       "<table border=\"1\" class=\"dataframe\">\n",
       "  <thead>\n",
       "    <tr style=\"text-align: right;\">\n",
       "      <th></th>\n",
       "      <th>2014</th>\n",
       "      <th>2016</th>\n",
       "      <th>access</th>\n",
       "      <th>activities</th>\n",
       "      <th>adopted</th>\n",
       "      <th>alert</th>\n",
       "      <th>also</th>\n",
       "      <th>amenities</th>\n",
       "      <th>applications</th>\n",
       "      <th>area</th>\n",
       "      <th>...</th>\n",
       "      <th>traffic</th>\n",
       "      <th>use</th>\n",
       "      <th>users</th>\n",
       "      <th>vehicles</th>\n",
       "      <th>vicinity</th>\n",
       "      <th>watch</th>\n",
       "      <th>when</th>\n",
       "      <th>whether</th>\n",
       "      <th>wong</th>\n",
       "      <th>working</th>\n",
       "    </tr>\n",
       "  </thead>\n",
       "  <tbody>\n",
       "    <tr>\n",
       "      <th>0</th>\n",
       "      <td>0.235868</td>\n",
       "      <td>0.00000</td>\n",
       "      <td>0.00000</td>\n",
       "      <td>0.235868</td>\n",
       "      <td>0.000000</td>\n",
       "      <td>0.000000</td>\n",
       "      <td>0.000000</td>\n",
       "      <td>0.000000</td>\n",
       "      <td>0.00000</td>\n",
       "      <td>0.140063</td>\n",
       "      <td>...</td>\n",
       "      <td>0.155963</td>\n",
       "      <td>0.000000</td>\n",
       "      <td>0.000000</td>\n",
       "      <td>0.000000</td>\n",
       "      <td>0.000000</td>\n",
       "      <td>0.000000</td>\n",
       "      <td>0.000000</td>\n",
       "      <td>0.000000</td>\n",
       "      <td>0.235868</td>\n",
       "      <td>0.000000</td>\n",
       "    </tr>\n",
       "    <tr>\n",
       "      <th>1</th>\n",
       "      <td>0.000000</td>\n",
       "      <td>0.19567</td>\n",
       "      <td>0.19567</td>\n",
       "      <td>0.000000</td>\n",
       "      <td>0.000000</td>\n",
       "      <td>0.000000</td>\n",
       "      <td>0.000000</td>\n",
       "      <td>0.000000</td>\n",
       "      <td>0.19567</td>\n",
       "      <td>0.232386</td>\n",
       "      <td>...</td>\n",
       "      <td>0.129383</td>\n",
       "      <td>0.000000</td>\n",
       "      <td>0.000000</td>\n",
       "      <td>0.000000</td>\n",
       "      <td>0.000000</td>\n",
       "      <td>0.000000</td>\n",
       "      <td>0.000000</td>\n",
       "      <td>0.000000</td>\n",
       "      <td>0.000000</td>\n",
       "      <td>0.000000</td>\n",
       "    </tr>\n",
       "    <tr>\n",
       "      <th>2</th>\n",
       "      <td>0.000000</td>\n",
       "      <td>0.00000</td>\n",
       "      <td>0.00000</td>\n",
       "      <td>0.000000</td>\n",
       "      <td>0.000000</td>\n",
       "      <td>0.000000</td>\n",
       "      <td>0.000000</td>\n",
       "      <td>0.000000</td>\n",
       "      <td>0.00000</td>\n",
       "      <td>0.160048</td>\n",
       "      <td>...</td>\n",
       "      <td>0.000000</td>\n",
       "      <td>0.000000</td>\n",
       "      <td>0.000000</td>\n",
       "      <td>0.000000</td>\n",
       "      <td>0.000000</td>\n",
       "      <td>0.000000</td>\n",
       "      <td>0.000000</td>\n",
       "      <td>0.000000</td>\n",
       "      <td>0.000000</td>\n",
       "      <td>0.000000</td>\n",
       "    </tr>\n",
       "    <tr>\n",
       "      <th>3</th>\n",
       "      <td>0.000000</td>\n",
       "      <td>0.00000</td>\n",
       "      <td>0.00000</td>\n",
       "      <td>0.000000</td>\n",
       "      <td>0.346693</td>\n",
       "      <td>0.000000</td>\n",
       "      <td>0.000000</td>\n",
       "      <td>0.346693</td>\n",
       "      <td>0.00000</td>\n",
       "      <td>0.000000</td>\n",
       "      <td>...</td>\n",
       "      <td>0.000000</td>\n",
       "      <td>0.000000</td>\n",
       "      <td>0.294720</td>\n",
       "      <td>0.000000</td>\n",
       "      <td>0.346693</td>\n",
       "      <td>0.000000</td>\n",
       "      <td>0.000000</td>\n",
       "      <td>0.000000</td>\n",
       "      <td>0.000000</td>\n",
       "      <td>0.000000</td>\n",
       "    </tr>\n",
       "    <tr>\n",
       "      <th>4</th>\n",
       "      <td>0.000000</td>\n",
       "      <td>0.00000</td>\n",
       "      <td>0.00000</td>\n",
       "      <td>0.000000</td>\n",
       "      <td>0.000000</td>\n",
       "      <td>0.000000</td>\n",
       "      <td>0.000000</td>\n",
       "      <td>0.000000</td>\n",
       "      <td>0.00000</td>\n",
       "      <td>0.000000</td>\n",
       "      <td>...</td>\n",
       "      <td>0.000000</td>\n",
       "      <td>0.000000</td>\n",
       "      <td>0.000000</td>\n",
       "      <td>0.216402</td>\n",
       "      <td>0.000000</td>\n",
       "      <td>0.000000</td>\n",
       "      <td>0.000000</td>\n",
       "      <td>0.000000</td>\n",
       "      <td>0.000000</td>\n",
       "      <td>0.000000</td>\n",
       "    </tr>\n",
       "    <tr>\n",
       "      <th>5</th>\n",
       "      <td>0.000000</td>\n",
       "      <td>0.00000</td>\n",
       "      <td>0.00000</td>\n",
       "      <td>0.000000</td>\n",
       "      <td>0.000000</td>\n",
       "      <td>0.000000</td>\n",
       "      <td>0.222823</td>\n",
       "      <td>0.000000</td>\n",
       "      <td>0.00000</td>\n",
       "      <td>0.155651</td>\n",
       "      <td>...</td>\n",
       "      <td>0.173319</td>\n",
       "      <td>0.000000</td>\n",
       "      <td>0.222823</td>\n",
       "      <td>0.000000</td>\n",
       "      <td>0.000000</td>\n",
       "      <td>0.000000</td>\n",
       "      <td>0.000000</td>\n",
       "      <td>0.000000</td>\n",
       "      <td>0.000000</td>\n",
       "      <td>0.262117</td>\n",
       "    </tr>\n",
       "    <tr>\n",
       "      <th>6</th>\n",
       "      <td>0.000000</td>\n",
       "      <td>0.00000</td>\n",
       "      <td>0.00000</td>\n",
       "      <td>0.000000</td>\n",
       "      <td>0.000000</td>\n",
       "      <td>0.000000</td>\n",
       "      <td>0.000000</td>\n",
       "      <td>0.000000</td>\n",
       "      <td>0.00000</td>\n",
       "      <td>0.000000</td>\n",
       "      <td>...</td>\n",
       "      <td>0.188798</td>\n",
       "      <td>0.000000</td>\n",
       "      <td>0.000000</td>\n",
       "      <td>0.212354</td>\n",
       "      <td>0.000000</td>\n",
       "      <td>0.000000</td>\n",
       "      <td>0.000000</td>\n",
       "      <td>0.000000</td>\n",
       "      <td>0.000000</td>\n",
       "      <td>0.000000</td>\n",
       "    </tr>\n",
       "    <tr>\n",
       "      <th>7</th>\n",
       "      <td>0.000000</td>\n",
       "      <td>0.00000</td>\n",
       "      <td>0.00000</td>\n",
       "      <td>0.000000</td>\n",
       "      <td>0.000000</td>\n",
       "      <td>0.357395</td>\n",
       "      <td>0.303819</td>\n",
       "      <td>0.000000</td>\n",
       "      <td>0.00000</td>\n",
       "      <td>0.000000</td>\n",
       "      <td>...</td>\n",
       "      <td>0.000000</td>\n",
       "      <td>0.000000</td>\n",
       "      <td>0.000000</td>\n",
       "      <td>0.265806</td>\n",
       "      <td>0.000000</td>\n",
       "      <td>0.357395</td>\n",
       "      <td>0.000000</td>\n",
       "      <td>0.000000</td>\n",
       "      <td>0.000000</td>\n",
       "      <td>0.000000</td>\n",
       "    </tr>\n",
       "    <tr>\n",
       "      <th>8</th>\n",
       "      <td>0.000000</td>\n",
       "      <td>0.00000</td>\n",
       "      <td>0.00000</td>\n",
       "      <td>0.000000</td>\n",
       "      <td>0.000000</td>\n",
       "      <td>0.000000</td>\n",
       "      <td>0.000000</td>\n",
       "      <td>0.000000</td>\n",
       "      <td>0.00000</td>\n",
       "      <td>0.000000</td>\n",
       "      <td>...</td>\n",
       "      <td>0.000000</td>\n",
       "      <td>0.257492</td>\n",
       "      <td>0.000000</td>\n",
       "      <td>0.000000</td>\n",
       "      <td>0.000000</td>\n",
       "      <td>0.000000</td>\n",
       "      <td>0.000000</td>\n",
       "      <td>0.000000</td>\n",
       "      <td>0.000000</td>\n",
       "      <td>0.000000</td>\n",
       "    </tr>\n",
       "    <tr>\n",
       "      <th>9</th>\n",
       "      <td>0.000000</td>\n",
       "      <td>0.00000</td>\n",
       "      <td>0.00000</td>\n",
       "      <td>0.000000</td>\n",
       "      <td>0.000000</td>\n",
       "      <td>0.000000</td>\n",
       "      <td>0.000000</td>\n",
       "      <td>0.000000</td>\n",
       "      <td>0.00000</td>\n",
       "      <td>0.169831</td>\n",
       "      <td>...</td>\n",
       "      <td>0.000000</td>\n",
       "      <td>0.243123</td>\n",
       "      <td>0.000000</td>\n",
       "      <td>0.000000</td>\n",
       "      <td>0.000000</td>\n",
       "      <td>0.000000</td>\n",
       "      <td>0.285997</td>\n",
       "      <td>0.285997</td>\n",
       "      <td>0.000000</td>\n",
       "      <td>0.000000</td>\n",
       "    </tr>\n",
       "  </tbody>\n",
       "</table>\n",
       "<p>10 rows × 109 columns</p>\n",
       "</div>"
      ],
      "text/plain": [
       "       2014     2016   access  activities   adopted     alert      also  \\\n",
       "0  0.235868  0.00000  0.00000    0.235868  0.000000  0.000000  0.000000   \n",
       "1  0.000000  0.19567  0.19567    0.000000  0.000000  0.000000  0.000000   \n",
       "2  0.000000  0.00000  0.00000    0.000000  0.000000  0.000000  0.000000   \n",
       "3  0.000000  0.00000  0.00000    0.000000  0.346693  0.000000  0.000000   \n",
       "4  0.000000  0.00000  0.00000    0.000000  0.000000  0.000000  0.000000   \n",
       "5  0.000000  0.00000  0.00000    0.000000  0.000000  0.000000  0.222823   \n",
       "6  0.000000  0.00000  0.00000    0.000000  0.000000  0.000000  0.000000   \n",
       "7  0.000000  0.00000  0.00000    0.000000  0.000000  0.357395  0.303819   \n",
       "8  0.000000  0.00000  0.00000    0.000000  0.000000  0.000000  0.000000   \n",
       "9  0.000000  0.00000  0.00000    0.000000  0.000000  0.000000  0.000000   \n",
       "\n",
       "   amenities  applications      area  ...   traffic       use     users  \\\n",
       "0   0.000000       0.00000  0.140063  ...  0.155963  0.000000  0.000000   \n",
       "1   0.000000       0.19567  0.232386  ...  0.129383  0.000000  0.000000   \n",
       "2   0.000000       0.00000  0.160048  ...  0.000000  0.000000  0.000000   \n",
       "3   0.346693       0.00000  0.000000  ...  0.000000  0.000000  0.294720   \n",
       "4   0.000000       0.00000  0.000000  ...  0.000000  0.000000  0.000000   \n",
       "5   0.000000       0.00000  0.155651  ...  0.173319  0.000000  0.222823   \n",
       "6   0.000000       0.00000  0.000000  ...  0.188798  0.000000  0.000000   \n",
       "7   0.000000       0.00000  0.000000  ...  0.000000  0.000000  0.000000   \n",
       "8   0.000000       0.00000  0.000000  ...  0.000000  0.257492  0.000000   \n",
       "9   0.000000       0.00000  0.169831  ...  0.000000  0.243123  0.000000   \n",
       "\n",
       "   vehicles  vicinity     watch      when   whether      wong   working  \n",
       "0  0.000000  0.000000  0.000000  0.000000  0.000000  0.235868  0.000000  \n",
       "1  0.000000  0.000000  0.000000  0.000000  0.000000  0.000000  0.000000  \n",
       "2  0.000000  0.000000  0.000000  0.000000  0.000000  0.000000  0.000000  \n",
       "3  0.000000  0.346693  0.000000  0.000000  0.000000  0.000000  0.000000  \n",
       "4  0.216402  0.000000  0.000000  0.000000  0.000000  0.000000  0.000000  \n",
       "5  0.000000  0.000000  0.000000  0.000000  0.000000  0.000000  0.262117  \n",
       "6  0.212354  0.000000  0.000000  0.000000  0.000000  0.000000  0.000000  \n",
       "7  0.265806  0.000000  0.357395  0.000000  0.000000  0.000000  0.000000  \n",
       "8  0.000000  0.000000  0.000000  0.000000  0.000000  0.000000  0.000000  \n",
       "9  0.000000  0.000000  0.000000  0.285997  0.285997  0.000000  0.000000  \n",
       "\n",
       "[10 rows x 109 columns]"
      ]
     },
     "execution_count": 265,
     "metadata": {},
     "output_type": "execute_result"
    }
   ],
   "source": [
    "pd.DataFrame(sent_vectors.todense().tolist(),columns=vectorizer.get_feature_names())"
   ]
  },
  {
   "cell_type": "markdown",
   "metadata": {},
   "source": [
    "## Step 3 : Build Similarity Matrix\n",
    "\n",
    "In this step, a similarity matrix is created by applying a dot product with the sentence vector and its transpose."
   ]
  },
  {
   "cell_type": "code",
   "execution_count": 266,
   "metadata": {},
   "outputs": [],
   "source": [
    "sim_matrix = np.round(np.dot(sent_vectors, sent_vectors.T).A,3)"
   ]
  },
  {
   "cell_type": "markdown",
   "metadata": {},
   "source": [
    "Again, we display this matrix as part of a correlation table."
   ]
  },
  {
   "cell_type": "code",
   "execution_count": 267,
   "metadata": {},
   "outputs": [
    {
     "data": {
      "text/html": [
       "<div>\n",
       "<style scoped>\n",
       "    .dataframe tbody tr th:only-of-type {\n",
       "        vertical-align: middle;\n",
       "    }\n",
       "\n",
       "    .dataframe tbody tr th {\n",
       "        vertical-align: top;\n",
       "    }\n",
       "\n",
       "    .dataframe thead th {\n",
       "        text-align: right;\n",
       "    }\n",
       "</style>\n",
       "<table border=\"1\" class=\"dataframe\">\n",
       "  <thead>\n",
       "    <tr style=\"text-align: right;\">\n",
       "      <th></th>\n",
       "      <th>0</th>\n",
       "      <th>1</th>\n",
       "      <th>2</th>\n",
       "      <th>3</th>\n",
       "      <th>4</th>\n",
       "      <th>5</th>\n",
       "      <th>6</th>\n",
       "      <th>7</th>\n",
       "      <th>8</th>\n",
       "      <th>9</th>\n",
       "    </tr>\n",
       "  </thead>\n",
       "  <tbody>\n",
       "    <tr>\n",
       "      <th>0</th>\n",
       "      <td>1.000</td>\n",
       "      <td>0.200</td>\n",
       "      <td>0.224</td>\n",
       "      <td>0.036</td>\n",
       "      <td>0.048</td>\n",
       "      <td>0.076</td>\n",
       "      <td>0.029</td>\n",
       "      <td>0.000</td>\n",
       "      <td>0.144</td>\n",
       "      <td>0.071</td>\n",
       "    </tr>\n",
       "    <tr>\n",
       "      <th>1</th>\n",
       "      <td>0.200</td>\n",
       "      <td>1.000</td>\n",
       "      <td>0.374</td>\n",
       "      <td>0.030</td>\n",
       "      <td>0.000</td>\n",
       "      <td>0.081</td>\n",
       "      <td>0.024</td>\n",
       "      <td>0.000</td>\n",
       "      <td>0.130</td>\n",
       "      <td>0.039</td>\n",
       "    </tr>\n",
       "    <tr>\n",
       "      <th>2</th>\n",
       "      <td>0.224</td>\n",
       "      <td>0.374</td>\n",
       "      <td>1.000</td>\n",
       "      <td>0.000</td>\n",
       "      <td>0.055</td>\n",
       "      <td>0.025</td>\n",
       "      <td>0.056</td>\n",
       "      <td>0.000</td>\n",
       "      <td>0.200</td>\n",
       "      <td>0.082</td>\n",
       "    </tr>\n",
       "    <tr>\n",
       "      <th>3</th>\n",
       "      <td>0.036</td>\n",
       "      <td>0.030</td>\n",
       "      <td>0.000</td>\n",
       "      <td>1.000</td>\n",
       "      <td>0.000</td>\n",
       "      <td>0.211</td>\n",
       "      <td>0.000</td>\n",
       "      <td>0.000</td>\n",
       "      <td>0.092</td>\n",
       "      <td>0.000</td>\n",
       "    </tr>\n",
       "    <tr>\n",
       "      <th>4</th>\n",
       "      <td>0.048</td>\n",
       "      <td>0.000</td>\n",
       "      <td>0.055</td>\n",
       "      <td>0.000</td>\n",
       "      <td>1.000</td>\n",
       "      <td>0.000</td>\n",
       "      <td>0.092</td>\n",
       "      <td>0.115</td>\n",
       "      <td>0.062</td>\n",
       "      <td>0.059</td>\n",
       "    </tr>\n",
       "    <tr>\n",
       "      <th>5</th>\n",
       "      <td>0.076</td>\n",
       "      <td>0.081</td>\n",
       "      <td>0.025</td>\n",
       "      <td>0.211</td>\n",
       "      <td>0.000</td>\n",
       "      <td>1.000</td>\n",
       "      <td>0.033</td>\n",
       "      <td>0.068</td>\n",
       "      <td>0.069</td>\n",
       "      <td>0.081</td>\n",
       "    </tr>\n",
       "    <tr>\n",
       "      <th>6</th>\n",
       "      <td>0.029</td>\n",
       "      <td>0.024</td>\n",
       "      <td>0.056</td>\n",
       "      <td>0.000</td>\n",
       "      <td>0.092</td>\n",
       "      <td>0.033</td>\n",
       "      <td>1.000</td>\n",
       "      <td>0.113</td>\n",
       "      <td>0.000</td>\n",
       "      <td>0.000</td>\n",
       "    </tr>\n",
       "    <tr>\n",
       "      <th>7</th>\n",
       "      <td>0.000</td>\n",
       "      <td>0.000</td>\n",
       "      <td>0.000</td>\n",
       "      <td>0.000</td>\n",
       "      <td>0.115</td>\n",
       "      <td>0.068</td>\n",
       "      <td>0.113</td>\n",
       "      <td>1.000</td>\n",
       "      <td>0.000</td>\n",
       "      <td>0.000</td>\n",
       "    </tr>\n",
       "    <tr>\n",
       "      <th>8</th>\n",
       "      <td>0.144</td>\n",
       "      <td>0.130</td>\n",
       "      <td>0.200</td>\n",
       "      <td>0.092</td>\n",
       "      <td>0.062</td>\n",
       "      <td>0.069</td>\n",
       "      <td>0.000</td>\n",
       "      <td>0.000</td>\n",
       "      <td>1.000</td>\n",
       "      <td>0.186</td>\n",
       "    </tr>\n",
       "    <tr>\n",
       "      <th>9</th>\n",
       "      <td>0.071</td>\n",
       "      <td>0.039</td>\n",
       "      <td>0.082</td>\n",
       "      <td>0.000</td>\n",
       "      <td>0.059</td>\n",
       "      <td>0.081</td>\n",
       "      <td>0.000</td>\n",
       "      <td>0.000</td>\n",
       "      <td>0.186</td>\n",
       "      <td>1.000</td>\n",
       "    </tr>\n",
       "  </tbody>\n",
       "</table>\n",
       "</div>"
      ],
      "text/plain": [
       "       0      1      2      3      4      5      6      7      8      9\n",
       "0  1.000  0.200  0.224  0.036  0.048  0.076  0.029  0.000  0.144  0.071\n",
       "1  0.200  1.000  0.374  0.030  0.000  0.081  0.024  0.000  0.130  0.039\n",
       "2  0.224  0.374  1.000  0.000  0.055  0.025  0.056  0.000  0.200  0.082\n",
       "3  0.036  0.030  0.000  1.000  0.000  0.211  0.000  0.000  0.092  0.000\n",
       "4  0.048  0.000  0.055  0.000  1.000  0.000  0.092  0.115  0.062  0.059\n",
       "5  0.076  0.081  0.025  0.211  0.000  1.000  0.033  0.068  0.069  0.081\n",
       "6  0.029  0.024  0.056  0.000  0.092  0.033  1.000  0.113  0.000  0.000\n",
       "7  0.000  0.000  0.000  0.000  0.115  0.068  0.113  1.000  0.000  0.000\n",
       "8  0.144  0.130  0.200  0.092  0.062  0.069  0.000  0.000  1.000  0.186\n",
       "9  0.071  0.039  0.082  0.000  0.059  0.081  0.000  0.000  0.186  1.000"
      ]
     },
     "metadata": {},
     "output_type": "display_data"
    }
   ],
   "source": [
    "corr = pd.DataFrame(columns=range(len(processed_text)),index=range(len(processed_text)),data=sim_matrix)\n",
    "display(corr)"
   ]
  },
  {
   "cell_type": "markdown",
   "metadata": {},
   "source": [
    "And if we wanted to visualise it using seaborn:"
   ]
  },
  {
   "cell_type": "code",
   "execution_count": 268,
   "metadata": {},
   "outputs": [
    {
     "data": {
      "text/plain": [
       "<matplotlib.axes._subplots.AxesSubplot at 0x12659e128>"
      ]
     },
     "execution_count": 268,
     "metadata": {},
     "output_type": "execute_result"
    },
    {
     "data": {
      "image/png": "[encoded data removed]",
      "text/plain": [
       "<Figure size 576x576 with 2 Axes>"
      ]
     },
     "metadata": {
      "needs_background": "light"
     },
     "output_type": "display_data"
    }
   ],
   "source": [
    "# Generate a mask for the upper triangle\n",
    "mask = np.zeros_like(corr, dtype=np.bool)\n",
    "mask[np.triu_indices_from(mask)] = True\n",
    "\n",
    "# Set up the matplotlib figure\n",
    "f, ax = plt.subplots(figsize=(8, 8))\n",
    "\n",
    "# Generate a custom diverging colormap\n",
    "cmap = sns.diverging_palette(220, 10, as_cmap=True)\n",
    "\n",
    "sns.heatmap(corr, mask=mask, cmap=cmap,annot=True, vmax=0.4, center=0,\n",
    "            square=True, linewidths=.5, cbar_kws={\"shrink\": .5})"
   ]
  },
  {
   "cell_type": "markdown",
   "metadata": {},
   "source": [
    "We can already see how sentences are similar to each other just by comparing their positions in their table. For example, we see that sentence 1 and 2 are very similar.\n"
   ]
  },
  {
   "cell_type": "code",
   "execution_count": 285,
   "metadata": {},
   "outputs": [
    {
     "name": "stdout",
     "output_type": "stream",
     "text": [
      "Sentence 1 : in 2016, arising new tol applications east coast/marina bay area, joint traffic impact assessment (tia) carried tols east coast/marina bay area, share access road\n",
      "Sentence 2 : the marina east staging ground segregated existing residential area east coast parkway east coast park\n"
     ]
    }
   ],
   "source": [
    "print(f\"Sentence 1 : {processed_text[1]}\")\n",
    "print(f\"Sentence 2 : {processed_text[2]}\")"
   ]
  },
  {
   "cell_type": "markdown",
   "metadata": {},
   "source": [
    "## Step 4 : Create Similarity Graph\n",
    "\n",
    "Using the TextRank concept, a network graph is created such that each vertex is the sentence represented by its index, and the edges are linked to each other by weights computed by the similarity scores. \n",
    "\n",
    "> The basic idea implemented by a  graph-based ranking model is that of “voting”or“recommendation”. When one vertex links to another one,it is basically casting a vote for that other vertex. The higher the number of votes that are cast for a vertex,the higher the importance of the vertex. Moreover, the importance of the vertex casting the vote determines how important the vote itself is,and this information is also taken into account by the ranking model. Hence,the score associated with a vertex is determined based on the votes that are cast for it,and the score of the vertices casting these votes. ([Mihalcea & Tarau, 2004](https://www.aclweb.org/anthology/W04-3252))\n",
    "\n",
    "To compute this graph-derived score which is refered to as `TextRank` - similar to Google's PageRank, we import the popular `networkx` package. With network x, we can visualise the similarity matrix as a graph. And using this, we can see "
   ]
  },
  {
   "cell_type": "code",
   "execution_count": 270,
   "metadata": {},
   "outputs": [],
   "source": [
    "sentence_similarity_graph = nx.from_numpy_array(sim_matrix)"
   ]
  },
  {
   "cell_type": "code",
   "execution_count": 271,
   "metadata": {},
   "outputs": [
    {
     "name": "stderr",
     "output_type": "stream",
     "text": [
      "/Users/syamil/anaconda3/envs/pivot/lib/python3.7/site-packages/networkx/drawing/nx_pylab.py:579: MatplotlibDeprecationWarning: \n",
      "The iterable function was deprecated in Matplotlib 3.1 and will be removed in 3.3. Use np.iterable instead.\n",
      "  if not cb.iterable(width):\n"
     ]
    },
    {
     "data": {
      "image/png": "[encoded data removed]",
      "text/plain": [
       "<Figure size 576x576 with 1 Axes>"
      ]
     },
     "metadata": {},
     "output_type": "display_data"
    }
   ],
   "source": [
    "pos = nx.circular_layout(sentence_similarity_graph)\n",
    "plt.figure(figsize=(8,8))\n",
    "plt.figure(1)\n",
    "nx.draw_circular(sentence_similarity_graph, with_labels = True, node_color=\"Orange\")\n",
    "edge_labels = nx.get_edge_attributes(sentence_similarity_graph, 'weight')\n",
    "plt.figure(1)\n",
    "nx.draw_networkx_edge_labels(sentence_similarity_graph,pos=pos, edge_labels=edge_labels)\n",
    "plt.show()"
   ]
  },
  {
   "cell_type": "code",
   "execution_count": 272,
   "metadata": {},
   "outputs": [
    {
     "data": {
      "text/plain": [
       "{0: 0.10594604557676923,\n",
       " 1: 0.10711030046429679,\n",
       " 2: 0.11410080866901795,\n",
       " 3: 0.0893971718098718,\n",
       " 4: 0.09467680498110888,\n",
       " 5: 0.1019626373096041,\n",
       " 6: 0.09218045190228014,\n",
       " 7: 0.09190095545516967,\n",
       " 8: 0.10932632179093772,\n",
       " 9: 0.09339850204094387}"
      ]
     },
     "metadata": {},
     "output_type": "display_data"
    }
   ],
   "source": [
    "scores = nx.pagerank(sentence_similarity_graph)\n",
    "display(scores)"
   ]
  },
  {
   "cell_type": "markdown",
   "metadata": {},
   "source": [
    "## Step 5 : Sorting the Scores\n",
    "\n",
    "Once we have obtained the scores, we then look at picking the top n sentences that have the highest scores to best represent the text. In this case, we select the top **3** sentences."
   ]
  },
  {
   "cell_type": "code",
   "execution_count": 273,
   "metadata": {},
   "outputs": [
    {
     "data": {
      "text/plain": [
       "[(0.11410080866901795,\n",
       "  'The Marina East staging ground is segregated from the existing residential area by East Coast Parkway and East Coast Park'),\n",
       " (0.10932632179093772,\n",
       "  'When these projects are completed, we will review whether to continue the use of this staging ground, in connection with the timing of future development plans for the area'),\n",
       " (0.10711030046429679,\n",
       "  'In 2016, arising from new TOL applications in the East Coast/Marina Bay area, a joint Traffic Impact Assessment (TIA) was carried out for the TOLs in the East Coast/Marina Bay area, as they share the same access road')]"
      ]
     },
     "metadata": {},
     "output_type": "display_data"
    }
   ],
   "source": [
    "original_sentences = [sent for sent in sample_text.replace('<br/>',' ').split('. ') if len(sent)>1]\n",
    "\n",
    "sorted_sentences = sorted(((scores[idx], sentence) for idx,sentence in enumerate(original_sentences[1:])), reverse=True)\n",
    "display(sorted_sentences[:3])"
   ]
  },
  {
   "cell_type": "markdown",
   "metadata": {},
   "source": [
    "## Step 6 : Joining our Extracted Summary and Putting it together\n",
    "\n",
    "In this step, we will display our Question and Summarised response together to give us a feel of what the end product is."
   ]
  },
  {
   "cell_type": "code",
   "execution_count": 274,
   "metadata": {},
   "outputs": [
    {
     "data": {
      "text/plain": [
       "'The Marina East staging ground is segregated from the existing residential area by East Coast Parkway and East Coast Park. When these projects are completed, we will review whether to continue the use of this staging ground, in connection with the timing of future development plans for the area. In 2016, arising from new TOL applications in the East Coast/Marina Bay area, a joint Traffic Impact Assessment (TIA) was carried out for the TOLs in the East Coast/Marina Bay area, as they share the same access road'"
      ]
     },
     "execution_count": 274,
     "metadata": {},
     "output_type": "execute_result"
    }
   ],
   "source": [
    "\". \".join([sent[1] for sent in sorted_sentences[:3]])"
   ]
  },
  {
   "cell_type": "code",
   "execution_count": 275,
   "metadata": {},
   "outputs": [
    {
     "name": "stdout",
     "output_type": "stream",
     "text": [
      "Question : Mr Lim Biow Chuan asked the Minister for National Development (a) whether a traffic impact assessment had been carried out prior to having the construction staging ground located at Marina East; and (b) when will this temporary staging ground be relocated\n",
      "\n",
      "Response : The Marina East staging ground is segregated from the existing residential area by East Coast Parkway and East Coast Park. When these projects are completed, we will review whether to continue the use of this staging ground, in connection with the timing of future development plans for the area.\n"
     ]
    }
   ],
   "source": [
    "print(f\"Question : {original_sentences[0]}\")\n",
    "print(f\"\\nResponse : {'. '.join([sent[1] for sent in sorted_sentences[0:2]])}.\")"
   ]
  },
  {
   "cell_type": "markdown",
   "metadata": {},
   "source": [
    "As you may already see, it is somewhat faithful to the original text. At the same time, it is worth noting that this is a rudimentary implementation of TextRank. \n",
    "\n",
    "Many variations of TextRank exist which look at various similarity functions and text vectorisation techniques to improve the summarization capability. One such implementation is by [Barrios et al, 2016](https://arxiv.org/pdf/1602.03606.pdf).\n",
    "\n",
    "This implementation incorporated the following changes to the steps:\n",
    "1. Choosing Longest Common Substring\n",
    "2. BM25 Ranking model (variation of TF-IDF model using probabilistic )\n",
    "\n",
    "Which you can read more in the paper linked above. \n",
    "\n",
    "Consequentially, this variation is baked into the popular `Gensim` package. As a result, we can call out this function very easily as you can see below.\n"
   ]
  },
  {
   "cell_type": "markdown",
   "metadata": {},
   "source": [
    "## Enter Gensim\n",
    "\n",
    "We can use the summarizer function located in the `summarization.summarizer` module."
   ]
  },
  {
   "cell_type": "code",
   "execution_count": 283,
   "metadata": {},
   "outputs": [
    {
     "name": "stdout",
     "output_type": "stream",
     "text": [
      "Mr Lim Biow Chuan asked the Minister for National Development (a) whether a traffic impact assessment had been carried out prior to having the construction staging ground located at Marina East; and (b) when will this temporary staging ground be relocated.Mr Lawrence Wong: The temporary occupation licence (TOL) for the construction staging ground at Marina East was first issued to LTA in 2014, before activities in the area generated significant traffic impact.\n",
      "LTA is also working closely with the developers and contractors in the area to develop localised traffic control plans to improve safety and minimise inconvenience to other road users.\n"
     ]
    }
   ],
   "source": [
    "print(gensim.summarization.summarizer.summarize(sample_text.replace('<br/>',''), ratio=0.3,\n",
    "                                          word_count=None, split=False))"
   ]
  }
 ],
 "metadata": {
  "kernelspec": {
   "display_name": "Python 3",
   "language": "python",
   "name": "python3"
  },
  "language_info": {
   "codemirror_mode": {
    "name": "ipython",
    "version": 3
   },
   "file_extension": ".py",
   "mimetype": "text/x-python",
   "name": "python",
   "nbconvert_exporter": "python",
   "pygments_lexer": "ipython3",
   "version": "3.7.3"
  }
 },
 "nbformat": 4,
 "nbformat_minor": 2
}
