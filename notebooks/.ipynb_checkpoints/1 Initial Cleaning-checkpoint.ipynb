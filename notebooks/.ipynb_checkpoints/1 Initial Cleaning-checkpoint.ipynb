{
 "cells": [
  {
   "cell_type": "markdown",
   "metadata": {},
   "source": [
    "# Data Cleaning\n",
    "\n",
    "In this section, various methods of data cleaning are demonstrated on our dataset. Namely, we will be mapping the HTML content into a text friendly version.\n",
    "\n",
    "## Import libraries"
   ]
  },
  {
   "cell_type": "code",
   "execution_count": 6,
   "metadata": {},
   "outputs": [],
   "source": [
    "from bs4 import BeautifulSoup\n",
    "import re\n",
    "\n",
    "import datetime\n",
    "import numpy as np\n",
    "import pandas as pd\n",
    "from datetime import date \n",
    "import spacy\n",
    "\n",
    "from tqdm import tqdm\n",
    "\n",
    "import en_core_web_lg\n",
    "from text_utils.cleaning import parse_hansard_text, seperate_content\n",
    "from text_utils.metrics import get_chunks_info\n",
    "from db.models import postgres_engine\n",
    "\n",
    "from bson import json_util"
   ]
  },
  {
   "cell_type": "markdown",
   "metadata": {},
   "source": [
    "## Get Data from Postgres DB"
   ]
  },
  {
   "cell_type": "code",
   "execution_count": 6,
   "metadata": {},
   "outputs": [],
   "source": [
    "df = pd.read_sql_query('select * from Article INNER JOIN Link on Link.id=Article.article_id',con=postgres_engine)"
   ]
  },
  {
   "cell_type": "markdown",
   "metadata": {},
   "source": [
    "## Check DB Contents"
   ]
  },
  {
   "cell_type": "code",
   "execution_count": 7,
   "metadata": {},
   "outputs": [
    {
     "data": {
      "text/html": [
       "<div>\n",
       "<style scoped>\n",
       "    .dataframe tbody tr th:only-of-type {\n",
       "        vertical-align: middle;\n",
       "    }\n",
       "\n",
       "    .dataframe tbody tr th {\n",
       "        vertical-align: top;\n",
       "    }\n",
       "\n",
       "    .dataframe thead th {\n",
       "        text-align: right;\n",
       "    }\n",
       "</style>\n",
       "<table border=\"1\" class=\"dataframe\">\n",
       "  <thead>\n",
       "    <tr style=\"text-align: right;\">\n",
       "      <th></th>\n",
       "      <th>article_id</th>\n",
       "      <th>link_id</th>\n",
       "      <th>parliament_num</th>\n",
       "      <th>volume_num</th>\n",
       "      <th>sitting_num</th>\n",
       "      <th>session_num</th>\n",
       "      <th>session_type</th>\n",
       "      <th>article_text</th>\n",
       "      <th>created_on</th>\n",
       "      <th>updated_on</th>\n",
       "      <th>id</th>\n",
       "      <th>title</th>\n",
       "      <th>res_url</th>\n",
       "      <th>src_url</th>\n",
       "      <th>sitting_date</th>\n",
       "      <th>created_on</th>\n",
       "      <th>updated_on</th>\n",
       "    </tr>\n",
       "  </thead>\n",
       "  <tbody>\n",
       "    <tr>\n",
       "      <th>12003</th>\n",
       "      <td>12018</td>\n",
       "      <td>12018</td>\n",
       "      <td>10</td>\n",
       "      <td>77</td>\n",
       "      <td>8</td>\n",
       "      <td>1</td>\n",
       "      <td>BUDGET</td>\n",
       "      <td>&lt;span style=\"FONT-SIZE: 13pt; FONT-FAMILY: 'Ti...</td>\n",
       "      <td>2019-07-09 05:16:44.595440</td>\n",
       "      <td>None</td>\n",
       "      <td>12018</td>\n",
       "      <td>HEAD N - MINISTRY OF FOREIGN AFFAIRS</td>\n",
       "      <td>007_20040311_S0003_T0004</td>\n",
       "      <td>https://sprs.parl.gov.sg/search/topic?reportid...</td>\n",
       "      <td>2004-03-11</td>\n",
       "      <td>2019-07-09 05:16:44.584810</td>\n",
       "      <td>None</td>\n",
       "    </tr>\n",
       "    <tr>\n",
       "      <th>12004</th>\n",
       "      <td>12019</td>\n",
       "      <td>12019</td>\n",
       "      <td>10</td>\n",
       "      <td>77</td>\n",
       "      <td>8</td>\n",
       "      <td>1</td>\n",
       "      <td>BUDGET</td>\n",
       "      <td>&lt;span style=\"FONT-SIZE: 13pt; FONT-FAMILY: 'Ti...</td>\n",
       "      <td>2019-07-09 05:16:53.701711</td>\n",
       "      <td>None</td>\n",
       "      <td>12019</td>\n",
       "      <td>HEAD M - MINISTRY OF FINANCE</td>\n",
       "      <td>006_20040311_S0003_T0003</td>\n",
       "      <td>https://sprs.parl.gov.sg/search/topic?reportid...</td>\n",
       "      <td>2004-03-11</td>\n",
       "      <td>2019-07-09 05:16:53.695288</td>\n",
       "      <td>None</td>\n",
       "    </tr>\n",
       "    <tr>\n",
       "      <th>12005</th>\n",
       "      <td>12020</td>\n",
       "      <td>12020</td>\n",
       "      <td>10</td>\n",
       "      <td>77</td>\n",
       "      <td>8</td>\n",
       "      <td>1</td>\n",
       "      <td>BUDGET</td>\n",
       "      <td>&lt;span style=\"FONT-SIZE: 13pt; FONT-FAMILY: 'Ti...</td>\n",
       "      <td>2019-07-09 05:17:01.895183</td>\n",
       "      <td>None</td>\n",
       "      <td>12020</td>\n",
       "      <td>HEAD U - PRIME MINISTER'S OFFICE</td>\n",
       "      <td>005_20040311_S0003_T0006</td>\n",
       "      <td>https://sprs.parl.gov.sg/search/topic?reportid...</td>\n",
       "      <td>2004-03-11</td>\n",
       "      <td>2019-07-09 05:17:01.888632</td>\n",
       "      <td>None</td>\n",
       "    </tr>\n",
       "    <tr>\n",
       "      <th>12006</th>\n",
       "      <td>12021</td>\n",
       "      <td>12021</td>\n",
       "      <td>10</td>\n",
       "      <td>77</td>\n",
       "      <td>8</td>\n",
       "      <td>1</td>\n",
       "      <td>BUDGET</td>\n",
       "      <td>&lt;span style=\"FONT-SIZE: 13pt; FONT-FAMILY: 'Ti...</td>\n",
       "      <td>2019-07-09 05:17:11.742969</td>\n",
       "      <td>None</td>\n",
       "      <td>12021</td>\n",
       "      <td>HEAD P - MINISTRY OF HOME AFFAIRS</td>\n",
       "      <td>008_20040311_S0003_T0005</td>\n",
       "      <td>https://sprs.parl.gov.sg/search/topic?reportid...</td>\n",
       "      <td>2004-03-11</td>\n",
       "      <td>2019-07-09 05:17:11.736344</td>\n",
       "      <td>None</td>\n",
       "    </tr>\n",
       "    <tr>\n",
       "      <th>12007</th>\n",
       "      <td>12022</td>\n",
       "      <td>12022</td>\n",
       "      <td>10</td>\n",
       "      <td>77</td>\n",
       "      <td>8</td>\n",
       "      <td>1</td>\n",
       "      <td>BUDGET</td>\n",
       "      <td>&lt;span style=\"FONT-SIZE: 13pt; FONT-FAMILY: 'Ti...</td>\n",
       "      <td>2019-07-09 05:17:19.439789</td>\n",
       "      <td>None</td>\n",
       "      <td>12022</td>\n",
       "      <td>HEAD D - CABINET OFFICE</td>\n",
       "      <td>004_20040311_S0003_T0002</td>\n",
       "      <td>https://sprs.parl.gov.sg/search/topic?reportid...</td>\n",
       "      <td>2004-03-11</td>\n",
       "      <td>2019-07-09 05:17:19.431688</td>\n",
       "      <td>None</td>\n",
       "    </tr>\n",
       "  </tbody>\n",
       "</table>\n",
       "</div>"
      ],
      "text/plain": [
       "       article_id  link_id  parliament_num  volume_num  sitting_num  \\\n",
       "12003       12018    12018              10          77            8   \n",
       "12004       12019    12019              10          77            8   \n",
       "12005       12020    12020              10          77            8   \n",
       "12006       12021    12021              10          77            8   \n",
       "12007       12022    12022              10          77            8   \n",
       "\n",
       "       session_num session_type  \\\n",
       "12003            1       BUDGET   \n",
       "12004            1       BUDGET   \n",
       "12005            1       BUDGET   \n",
       "12006            1       BUDGET   \n",
       "12007            1       BUDGET   \n",
       "\n",
       "                                            article_text  \\\n",
       "12003  <span style=\"FONT-SIZE: 13pt; FONT-FAMILY: 'Ti...   \n",
       "12004  <span style=\"FONT-SIZE: 13pt; FONT-FAMILY: 'Ti...   \n",
       "12005  <span style=\"FONT-SIZE: 13pt; FONT-FAMILY: 'Ti...   \n",
       "12006  <span style=\"FONT-SIZE: 13pt; FONT-FAMILY: 'Ti...   \n",
       "12007  <span style=\"FONT-SIZE: 13pt; FONT-FAMILY: 'Ti...   \n",
       "\n",
       "                      created_on updated_on     id  \\\n",
       "12003 2019-07-09 05:16:44.595440       None  12018   \n",
       "12004 2019-07-09 05:16:53.701711       None  12019   \n",
       "12005 2019-07-09 05:17:01.895183       None  12020   \n",
       "12006 2019-07-09 05:17:11.742969       None  12021   \n",
       "12007 2019-07-09 05:17:19.439789       None  12022   \n",
       "\n",
       "                                      title                   res_url  \\\n",
       "12003  HEAD N - MINISTRY OF FOREIGN AFFAIRS  007_20040311_S0003_T0004   \n",
       "12004          HEAD M - MINISTRY OF FINANCE  006_20040311_S0003_T0003   \n",
       "12005      HEAD U - PRIME MINISTER'S OFFICE  005_20040311_S0003_T0006   \n",
       "12006     HEAD P - MINISTRY OF HOME AFFAIRS  008_20040311_S0003_T0005   \n",
       "12007               HEAD D - CABINET OFFICE  004_20040311_S0003_T0002   \n",
       "\n",
       "                                                 src_url sitting_date  \\\n",
       "12003  https://sprs.parl.gov.sg/search/topic?reportid...   2004-03-11   \n",
       "12004  https://sprs.parl.gov.sg/search/topic?reportid...   2004-03-11   \n",
       "12005  https://sprs.parl.gov.sg/search/topic?reportid...   2004-03-11   \n",
       "12006  https://sprs.parl.gov.sg/search/topic?reportid...   2004-03-11   \n",
       "12007  https://sprs.parl.gov.sg/search/topic?reportid...   2004-03-11   \n",
       "\n",
       "                      created_on updated_on  \n",
       "12003 2019-07-09 05:16:44.584810       None  \n",
       "12004 2019-07-09 05:16:53.695288       None  \n",
       "12005 2019-07-09 05:17:01.888632       None  \n",
       "12006 2019-07-09 05:17:11.736344       None  \n",
       "12007 2019-07-09 05:17:19.431688       None  "
      ]
     },
     "execution_count": 7,
     "metadata": {},
     "output_type": "execute_result"
    }
   ],
   "source": [
    "df.tail()"
   ]
  },
  {
   "cell_type": "code",
   "execution_count": 8,
   "metadata": {},
   "outputs": [
    {
     "data": {
      "text/plain": [
       "Written Answers to Questions for Oral Answer Not Answered by 3.00 pm    2322\n",
       "Written Answers to Questions                                            2271\n",
       "Oral Answers to Questions                                               1815\n",
       "ORAL ANSWERS TO QUESTIONS                                               1173\n",
       "Motions                                                                  785\n",
       "ORAL ANSWERS TO QUESTIONS NOT REACHED                                    615\n",
       "BILLS                                                                    611\n",
       "WRITTEN ANSWERS TO QUESTIONS                                             469\n",
       "Second Reading Bills                                                     356\n",
       "MOTIONS                                                                  356\n",
       "Bills Introduced                                                         299\n",
       "BUDGET                                                                   250\n",
       "President's Address                                                      113\n",
       "Budget                                                                   106\n",
       "PRESIDENT'S ADDRESS                                                       67\n",
       "ASSENTS TO BILLS PASSED                                                   60\n",
       "atbp                                                                      46\n",
       "Written Answers to Questions for Oral Answer Not Answered by 5.00 pm      40\n",
       "Ministerial Statements                                                    30\n",
       "MINISTERIAL STATEMENT                                                     28\n",
       "Announcement by Speaker                                                   26\n",
       "MISCELLANEOUS                                                             21\n",
       "Written Answers to Questions for Oral Answer not Answered by 3.00 pm      20\n",
       "BILLS\\r\\n                                                                 14\n",
       "Speaker                                                                   13\n",
       "ORAL ANSWERS TO QUESTIONS\\r\\n                                             13\n",
       "SPEAKER                                                                    9\n",
       "Tributes                                                                   6\n",
       "Assent to Bills Passed                                                     6\n",
       "ADMINISTRATION OF OATHS                                                    5\n",
       "WRITTEN ANSWERS TO QUESTIONS\\r\\n                                           5\n",
       "Ministerial statements                                                     4\n",
       "MOTIONS\\r\\n                                                                4\n",
       "Petitions                                                                  3\n",
       "Administration of Oaths                                                    3\n",
       "Clarification                                                              3\n",
       "Bill Introduced                                                            3\n",
       "Written Answer to Question                                                 3\n",
       "ORAL ANSWER TO QUESTION NOT REACHED                                        3\n",
       "Written Answer to Question for Oral Answer Not Answered by 3.00 pm         2\n",
       "TRIBUTES                                                                   2\n",
       "MOTION                                                                     2\n",
       "Oral Answer to Question                                                    2\n",
       "MINISTERIAL STATEMENT\\r\\n                                                  1\n",
       "MOTIONS      \\t                                                            1\n",
       "OBITUARY SPEECHES                                                          1\n",
       "Deputy Speaker                                                             1\n",
       "MINISTERIAL STATEMENT     \\t                                               1\n",
       "DEPUTY SPEAKER                                                             1\n",
       "PRESIDENT'S ADDRESS<p align=left>Column No : 9<p>                          1\n",
       "Name: session_type, dtype: int64"
      ]
     },
     "execution_count": 8,
     "metadata": {},
     "output_type": "execute_result"
    }
   ],
   "source": [
    "df.session_type.value_counts()"
   ]
  },
  {
   "cell_type": "code",
   "execution_count": 9,
   "metadata": {},
   "outputs": [
    {
     "data": {
      "text/plain": [
       "17"
      ]
     },
     "execution_count": 9,
     "metadata": {},
     "output_type": "execute_result"
    }
   ],
   "source": [
    "df.session_type.isna().sum()"
   ]
  },
  {
   "cell_type": "markdown",
   "metadata": {},
   "source": [
    "## Clean up session types\n",
    "\n",
    "We can see that there are various session types, so we will attempt to streamline the session types."
   ]
  },
  {
   "cell_type": "code",
   "execution_count": 10,
   "metadata": {},
   "outputs": [],
   "source": [
    "df.session_type = df[['session_type','title']].apply(lambda x : x.session_type if x.session_type is not None else x.title,axis=1  )\n"
   ]
  },
  {
   "cell_type": "code",
   "execution_count": 11,
   "metadata": {},
   "outputs": [
    {
     "data": {
      "text/plain": [
       "0"
      ]
     },
     "execution_count": 11,
     "metadata": {},
     "output_type": "execute_result"
    }
   ],
   "source": [
    "df.session_type.isna().sum()"
   ]
  },
  {
   "cell_type": "code",
   "execution_count": 12,
   "metadata": {},
   "outputs": [
    {
     "data": {
      "text/plain": [
       "Written Answers to Questions for Oral Answer Not Answered by 3.00 pm                 2322\n",
       "Written Answers to Questions                                                         2271\n",
       "Oral Answers to Questions                                                            1815\n",
       "ORAL ANSWERS TO QUESTIONS                                                            1173\n",
       "Motions                                                                               785\n",
       "ORAL ANSWERS TO QUESTIONS NOT REACHED                                                 615\n",
       "BILLS                                                                                 611\n",
       "WRITTEN ANSWERS TO QUESTIONS                                                          469\n",
       "Second Reading Bills                                                                  356\n",
       "MOTIONS                                                                               356\n",
       "Bills Introduced                                                                      299\n",
       "BUDGET                                                                                250\n",
       "President's Address                                                                   113\n",
       "Budget                                                                                106\n",
       "PRESIDENT'S ADDRESS                                                                    67\n",
       "ASSENTS TO BILLS PASSED                                                                60\n",
       "atbp                                                                                   46\n",
       "Written Answers to Questions for Oral Answer Not Answered by 5.00 pm                   40\n",
       "Ministerial Statements                                                                 30\n",
       "MINISTERIAL STATEMENT                                                                  28\n",
       "Announcement by Speaker                                                                26\n",
       "MISCELLANEOUS                                                                          21\n",
       "Written Answers to Questions for Oral Answer not Answered by 3.00 pm                   20\n",
       "BILLS\\r\\n                                                                              14\n",
       "ORAL ANSWERS TO QUESTIONS\\r\\n                                                          13\n",
       "Speaker                                                                                13\n",
       "ADMINISTRATION OF OATHS                                                                 9\n",
       "SPEAKER                                                                                 9\n",
       "Assent to Bills Passed                                                                  6\n",
       "Tributes                                                                                6\n",
       "                                                                                     ... \n",
       "Ministerial statements                                                                  4\n",
       "MOTIONS\\r\\n                                                                             4\n",
       "Written Answer to Question                                                              3\n",
       "Administration of Oaths                                                                 3\n",
       "Petitions                                                                               3\n",
       "ORAL ANSWER TO QUESTION NOT REACHED                                                     3\n",
       "Clarification                                                                           3\n",
       "Bill Introduced                                                                         3\n",
       "Oral Answer to Question                                                                 2\n",
       "Written Answer to Question for Oral Answer Not Answered by 3.00 pm                      2\n",
       "TRIBUTES                                                                                2\n",
       "CLARIFICATION BY NOMINATED MEMBER OF PARLIAMENT                                         2\n",
       "ADMINISTRATION OF OATH                                                                  2\n",
       "MOTION                                                                                  2\n",
       "CLARIFICATION BY MINISTER FOR HOME AFFAIRS                                              1\n",
       "Deputy Speaker                                                                          1\n",
       "MINISTERIAL STATEMENT     \\t                                                            1\n",
       "CLARIFICATION BY SENIOR MINISTER OF STATE FOR LAW                                       1\n",
       "CLARIFICATION BY THE MINISTER FOR COMMUNICATIONS AND INFORMATION                        1\n",
       "MOTIONS      \\t                                                                         1\n",
       "MINISTERIAL STATEMENT\\r\\n                                                               1\n",
       "CLARIFICATION BY SENIOR PARLIAMENTARY SECRETARY TO THE MINISTER FOR HEALTH              1\n",
       "CLARIFICATION BY THE SENIOR PARLIAMENTARY SECRETARY TO THE MINISTER FOR EDUCATION       1\n",
       "PRESIDENT'S ADDRESS<p align=left>Column No : 9<p>                                       1\n",
       "CLARIFICATION BY THE MINISTER OF STATE FOR EDUCATION                                    1\n",
       "CLARIFICATION BY MEMBER OF PARLIAMENT                                                   1\n",
       "CLARIFICATION BY THE SENIOR PARLIAMENTARY SECRETARY TO THE MINISTER FOR MANPOWER        1\n",
       "CLARIFICATION BY THE MINISTER FOR EDUCATION                                             1\n",
       "DEPUTY SPEAKER                                                                          1\n",
       "OBITUARY SPEECHES                                                                       1\n",
       "Name: session_type, Length: 61, dtype: int64"
      ]
     },
     "execution_count": 12,
     "metadata": {},
     "output_type": "execute_result"
    }
   ],
   "source": [
    "df.session_type.value_counts()"
   ]
  },
  {
   "cell_type": "code",
   "execution_count": 13,
   "metadata": {},
   "outputs": [],
   "source": [
    "# Convert to all upper case\n",
    "df.session_type = df.session_type.map(lambda x : x.upper())\n",
    "# Shorten any clarification XXXX to CLARIFICATION\n",
    "df.session_type = df.session_type.map(lambda x : 'CLARIFICATION' if re.search('CLARIFICATION',x) else x)\n",
    "# Convert ATBP to 'ASSENTS TO BILLS PASSED'\n",
    "df.session_type = df.session_type.map(lambda x : 'ASSENTS TO BILLS PASSED' if re.search('ATBP',x) else x)\n",
    "# remove \\t\\r\\n\n",
    "df.session_type = df.session_type.map(lambda x : re.sub('\\t|\\r\\n','',x))\n",
    "# Convert all variations of written answers to WRITTEN ANSWERS\n",
    "df.session_type = df.session_type.map(lambda x : 'WRITTEN ANSWERS' if re.search('WRITTEN ANSWER',x) else x)\n",
    "# Convert all variations of oral answers to ORAL ANSWERS\n",
    "df.session_type = df.session_type.map(lambda x : 'ORAL ANSWERS' if re.search('ORAL ANSWER',x) else x)\n",
    "# Clean 'PRESIDENT'S ADDRESS\"\n",
    "df.session_type = df.session_type.map(lambda x : \"PRESIDENT'S ADDRESS\" if re.search(\"PRESIDENT'S ADDRESS\",x) else x)\n",
    "# Clean MINISTERIAL STATEMENT\n",
    "df.session_type = df.session_type.map(lambda x : \"MINISTERIAL STATEMENTS\" if re.search(\"MINISTERIAL STATEMENT\",x) else x)\n",
    "# Clean BILLS INTRODUCED\n",
    "df.session_type = df.session_type.map(lambda x : \"(BILL INTRODUCED\" if re.search(\"(BILL|BILL'S) INTRODUCED\",x) else x)\n",
    "# Clean MOTION\n",
    "df.session_type = df.session_type.map(lambda x : \"MOTIONS\" if re.search(\"MOTION\",x) else x)"
   ]
  },
  {
   "cell_type": "code",
   "execution_count": 14,
   "metadata": {},
   "outputs": [
    {
     "data": {
      "text/plain": [
       "WRITTEN ANSWERS            5132\n",
       "ORAL ANSWERS               3621\n",
       "MOTIONS                    1148\n",
       "BILLS                       625\n",
       "SECOND READING BILLS        356\n",
       "BUDGET                      356\n",
       "BILLS INTRODUCED            299\n",
       "PRESIDENT'S ADDRESS         181\n",
       "ASSENTS TO BILLS PASSED     106\n",
       "MINISTERIAL STATEMENTS       64\n",
       "ANNOUNCEMENT BY SPEAKER      26\n",
       "SPEAKER                      22\n",
       "MISCELLANEOUS                21\n",
       "CLARIFICATION                14\n",
       "ADMINISTRATION OF OATHS      12\n",
       "TRIBUTES                      8\n",
       "ASSENT TO BILLS PASSED        6\n",
       "(BILL INTRODUCED              3\n",
       "PETITIONS                     3\n",
       "DEPUTY SPEAKER                2\n",
       "ADMINISTRATION OF OATH        2\n",
       "OBITUARY SPEECHES             1\n",
       "Name: session_type, dtype: int64"
      ]
     },
     "execution_count": 14,
     "metadata": {},
     "output_type": "execute_result"
    }
   ],
   "source": [
    "df.session_type.value_counts()"
   ]
  },
  {
   "cell_type": "code",
   "execution_count": 15,
   "metadata": {},
   "outputs": [
    {
     "data": {
      "text/plain": [
       "Index(['article_id', 'link_id', 'parliament_num', 'volume_num', 'sitting_num',\n",
       "       'session_num', 'session_type', 'article_text', 'created_on',\n",
       "       'updated_on', 'id', 'title', 'res_url', 'src_url', 'sitting_date',\n",
       "       'created_on', 'updated_on'],\n",
       "      dtype='object')"
      ]
     },
     "execution_count": 15,
     "metadata": {},
     "output_type": "execute_result"
    }
   ],
   "source": [
    "df.columns"
   ]
  },
  {
   "cell_type": "code",
   "execution_count": 16,
   "metadata": {},
   "outputs": [],
   "source": [
    "# select only articles between 2019 and 2009 (10 years)\n",
    "year_mask = (df.sitting_date.dt.year >= 2009) & (df.sitting_date.dt.year <= 2019)\n",
    "df_year = df[year_mask].copy()\n",
    "\n",
    "# select only Answers\n",
    "df_year.sort_values(by='session_type',na_position='first').head()\n",
    "\n",
    "# drop None session type and only get \"answers\"\n",
    "columns = ['parliament_num','volume_num',\n",
    "           'sitting_num','session_num',\n",
    "           'session_type','article_text',\n",
    "          'title','sitting_date','src_url']\n",
    "df = df_year[columns].copy()"
   ]
  },
  {
   "cell_type": "code",
   "execution_count": 17,
   "metadata": {},
   "outputs": [
    {
     "data": {
      "text/plain": [
       "'<p class=\"ql-align-justify\">4 <strong>Mr Vikram Nair</strong> asked&nbsp;the Minister for Foreign Affairs whether he can provide an update on the state of bilateral relations with Malaysia following the 9th Malaysia-Singapore Leaders\\' Retreat.&nbsp;</p><p class=\"ql-align-justify\"><strong>\\tThe Minister for Foreign Affairs (Dr Vivian Balakrishnan)</strong>: Mr Speaker, Malaysia hosted the 9<sup>th</'"
      ]
     },
     "execution_count": 17,
     "metadata": {},
     "output_type": "execute_result"
    }
   ],
   "source": [
    "df.iloc[1].article_text[:400] # new API"
   ]
  },
  {
   "cell_type": "code",
   "execution_count": 18,
   "metadata": {},
   "outputs": [
    {
     "data": {
      "text/plain": [
       "'<span style=\"FONT-SIZE: 13pt; FONT-FAMILY: \\'Times New Roman\\'\"><p>\\xa0\\xa0\\xa0\\xa0 15.\\xa0<b>Dr Lim Wee Kiak</b> asked the Minister for Transport following the recent errors in calculation of distances travelled by buses (a) how many commuters or EZ-</p><p align=\"left\">Column: 2215</p><p>\\r\\nLink card holders were affected; (b) whether there is a more convenient alternative for less literate commuters such as senio'"
      ]
     },
     "execution_count": 18,
     "metadata": {},
     "output_type": "execute_result"
    }
   ],
   "source": [
    "df.iloc[8400].article_text[:400] # old API v1"
   ]
  },
  {
   "cell_type": "code",
   "execution_count": 19,
   "metadata": {},
   "outputs": [
    {
     "data": {
      "text/plain": [
       "'<div class=\"body hansardBaseBody hansardContenteBody\" id=\"id-d2f0fd7a-ff91-410d-82b7-f6a1e5a30855\"><a name=\"id-d2f0fd7a-ff91-410d-82b7-f6a1e5a30855\"><!--a--></a><div class=\"section hcSection hcQuestion\" id=\"id-23e4d288-a0e0-4d63-8218-78508b6bbf99\"><a name=\"id-16cdf09d-8c4f-46dc-89aa-293369475309__id-23e4d288-a0e0-4d63-8218-78508b6bbf99\"><!--a--></a><p class=\"p hcParagraph\" id=\"id-52dd1191-0966-489e-8f18-fabc034dda98\"><a name=\"id-16cdf09d-8c4f-46dc-89aa-293369475309__id-52dd1191-0966-489e-8f18-fabc034dda98\"><!--a--></a><span class=\"ph hcInline hcQuestionNumber\">3 </span><span class=\"ph hcInline hcMember\"><strong class=\"ph b\">Ms Sylvia Lim</strong></span> asked\\r\\nthe Minister for Trade and Industry if he would provide an interim\\r\\nassessment on the impact of the Shell oil refinery fire and fac'"
      ]
     },
     "execution_count": 19,
     "metadata": {},
     "output_type": "execute_result"
    }
   ],
   "source": [
    "df.iloc[8290].article_text[:800] # old API v2"
   ]
  },
  {
   "cell_type": "markdown",
   "metadata": {},
   "source": [
    "## Cleaning HTML\n",
    "\n",
    "Here we do the following:\n",
    "1. Remove HTML Markup\n",
    "2. Create a list in which text are seperated into chunks from one speaker to the next\n",
    "\n",
    "A function `parse_hansard_text` was created. An attempt was made to run the parser on the newer API."
   ]
  },
  {
   "cell_type": "code",
   "execution_count": 16,
   "metadata": {},
   "outputs": [
    {
     "data": {
      "text/plain": [
       "'https://sprs.parl.gov.sg/search/topic?reportid=025_20111021_S0008_T0007'"
      ]
     },
     "metadata": {},
     "output_type": "display_data"
    },
    {
     "name": "stdout",
     "output_type": "stream",
     "text": [
      "\n",
      "\n",
      "old API v2\n"
     ]
    },
    {
     "data": {
      "text/plain": [
       "['Mr Patrick Tay Teck Guan asked the Deputy Prime Minister and Minister for Manpower what is the breakdown of Singaporean, permanent resident and foreign Professionals, Managers and Executives in Singapore from 2006 to 2010 according to the various industries/sectors. ',\n",
       " 'Mr Tharman Shanmugaratnam: The breakdown of Singaporean, permanent resident and foreign Professionals, Managers and Executives in Singapore from 2006 to 2010 according to the various industries/sectors are provided in Table 1 below.']"
      ]
     },
     "metadata": {},
     "output_type": "display_data"
    }
   ],
   "source": [
    "import unicodedata\n",
    "\n",
    "# display(df.iloc[8270].article_text)\n",
    "test = df.iloc[8270].article_text\n",
    "display(df.iloc[8270].src_url)\n",
    "print(\"\\n\")\n",
    "# display(test)\n",
    "# # print(\"\\n\")\n",
    "bs = BeautifulSoup(test, 'lxml')\n",
    "# print(bs.original_encoding)\n",
    "if (bs.find('div',{'align':\"left\"})):\n",
    "    print(\"old API v1\")\n",
    "    t = [unicodedata.normalize(\"NFKD\",re.sub('((Page|Column): \\d+)' ,' ',BeautifulSoup(t, 'html5lib').get_text(strip=True))).replace('. ','.') for t in test.split('<b>')]\n",
    "    display(t[1:])\n",
    "    p = t[2].split(':', 1)  # only select 2 terms in split\n",
    "    if len(p) > 1:\n",
    "        entity = p[0]\n",
    "        content = \" \".join([e.strip() for e in p[1].split('.')])\n",
    "elif (bs.find('div',{'class':\"body hansardBaseBody hansardContenteBody\"})):\n",
    "    print(\"old API v2\")\n",
    "    t = [unicodedata.normalize(\"NFKD\",re.sub('((Page|Column): \\d+)' ,' ',BeautifulSoup(t, 'html5lib').get_text(strip=True).replace('\\n',' '))) for t in test.split('<strong class=\"ph b\">')]\n",
    "    display(t[1:])\n",
    "    p = t[2].split(':', 1)  # only select 2 terms in split\n",
    "    if len(p) > 1:\n",
    "        entity = p[0]\n",
    "        content = \" \".join([e.strip() for e in p[1].split('.')])"
   ]
  },
  {
   "cell_type": "code",
   "execution_count": 17,
   "metadata": {},
   "outputs": [
    {
     "data": {
      "text/plain": [
       "['Mr Patrick Tay Teck Guan asked the Deputy Prime Minister and Minister for Manpower what is the breakdown of Singaporean, permanent resident and foreign Professionals, Managers and Executives in Singapore from 2006 to 2010 according to the various industries/sectors. ',\n",
       " 'Mr Tharman Shanmugaratnam: The breakdown of Singaporean, permanent resident and foreign Professionals, Managers and Executives in Singapore from 2006 to 2010 according to the various industries/sectors are provided in Table 1 below.']"
      ]
     },
     "execution_count": 17,
     "metadata": {},
     "output_type": "execute_result"
    }
   ],
   "source": [
    "parse_hansard_text(df.iloc[8270].article_text)"
   ]
  },
  {
   "cell_type": "code",
   "execution_count": 18,
   "metadata": {},
   "outputs": [
    {
     "data": {
      "text/plain": [
       "'<span style=\"FONT-SIZE: 13pt; FONT-FAMILY: \\'Times New Roman\\'\"><p>\\xa0\\xa0\\xa0\\xa0 15.\\xa0<b>Dr Lim Wee Kiak</b> asked the Minister for Transport following the recent errors in calculation of distances travelled by buses (a) how many commuters or EZ-</p><p align=\"left\">Column: 2215</p><p>\\r\\nLink card holders were affected; (b) whether there is a more convenient alternative for less literate commuters such as senior citizens, who\\xa0may\\xa0not\\xa0 know how to use the ticketing\\xa0machine to receive their refunds; and (c) what are the lessons learnt from this incident and how can we prevent it from occurring again.</p>\\n<p>\\xa0</p>\\n</span></div>\\n<!--MP_NAME:The Minister for Transport (Mr Raymond Lim Siang Keat)-->\\n<div align=\"left\"><span style=\"FONT-SIZE: 13pt; FONT-FAMILY: \\'Times New Roman\\'\"><p>\\xa0\\xa0\\xa0\\xa0 <b>The Minister for Transport (Mr Raymond Lim Siang Keat)</b>: Sir, the LTA and the public transport operators have completed a thorough review of all 6,600 bus stop pairs in the system.\\xa0 This review was undertaken after LTA found distance discrepancies in 13 bus stop pairs after the launch of distance fares on 3rd July 2010.\\xa0</p>\\n<p>\\xa0</p>\\n<p>\\xa0\\xa0\\xa0\\xa0 In this review, distance discrepancies were found in 68 bus stop pairs (about 1% of total bus stop pairs) which led to overcharging, and 30 bus stop pairs (about 0.45%) which led to undercharging.\\xa0 On a weekly basis about 6.9% of CEPAS cards were overcharged and 2.1% were undercharged.\\xa0\\xa0LTA and the bus operators have since apologised for the errors and for the inconvenience caused to commuters and have taken steps to refund commuters that were overcharged due to the distance errors.</p>\\n<p>\\xa0</p>\\n<p>\\xa0\\xa0\\xa0\\xa0 In response to commuters\\' feedback received on the old refund process, LTA has made improvements so that it is now faster and more convenient for affected commuters to get their refunds.\\xa0 Commuters can get a full refund on the spot and at their convenience at any TransitLink Add Value Machine (AVM), TransitLink Ticket Office or Concession Card Replacement Office which are available at most MRT stations, bus interchanges and selected bus stops.\\xa0 Commuters need not remember the bus service numbers, nor fill in any form.\\xa0 They only need to present their CEPAS\\r\\n</p><p align=\"left\">Column: 2216</p><p>\\r\\ncards to receive the refund if they are eligible for one.</p>\\n<p>\\xa0</p>\\n<p>\\xa0\\xa0\\xa0 \\xa0Senior citizens who are not familiar with the Add Value Machines can approach any TransitLink Ticket Offices with their cards.\\xa0 The staff at the Ticket Offices are trained to check the cards and refund the correct amount into their cards on the spot.\\xa0 To give commuters more time, a period of six months has been given for refunds.\\xa0 Affected commuters need not make a special trip and can get their refund when they next top up their cards.\\xa0 Unclaimed refunds will be contributed to the Public Transport Fund which will go to benefit needy families.<br/>\\r\\n\\xa0\\xa0<br/>\\r\\n\\xa0\\xa0\\xa0 \\xa0Going forward, the Public Transport Council has put in place a framework to require bus operators to ensure that bus stop distances are updated correctly and on time following changes to the bus stop locations.\\xa0 Failure to do so could result in penalties.</p>\\n<p>\\xa0</p>\\n</span></div>\\n<!--MP_NAME:Dr Lim Wee Kiak-->\\n<div align=\"left\"><span style=\"FONT-SIZE: 13pt; FONT-FAMILY: \\'Times New Roman\\'\"><p>\\xa0\\xa0\\xa0\\xa0 <b>Dr Lim Wee Kiak</b>:\\xa0 Sir, I would like to ask the Minister how many commuters or how many EZ-Link card holders were affected in this particular exercise and\\xa0currently, what is the percentage who have made claims for\\xa0their overcharged fares.\\xa0 I understand that commuters are supposed to make their claims\\xa0by 17th June this year.\\xa0 If by then the percentage is low, will the Minister consider extending the time for making claims by another six\\xa0months?\\xa0</p>\\n<p>\\xa0</p>\\n</span></div>\\n<!--MP_NAME:Mr Raymond Lim Siang Keat-->\\n<div align=\"left\"><span style=\"FONT-SIZE: 13pt; FONT-FAMILY: \\'Times New Roman\\'\"><p>\\xa0\\xa0\\xa0\\xa0 <b>Mr Raymond Lim Siang Keat</b>: I gave the Member the answer just now on the EZ-Link card.\\xa0 Through the CEPAS card,\\xa06.9% were overcharged and 2.1% were undercharged.\\xa0 That is the first question –</p>\\n</span></div>\\n<!--MP_NAME:Dr Lim Wee Kiak-->\\n<div align=\"left\"><span style=\"FONT-SIZE: 13pt; FONT-FAMILY: \\'Times New Roman\\'\"><p>\\xa0\\xa0\\xa0\\xa0 <b>Dr Lim Wee Kiak</b>: Percentage?</p>\\n</span></div>\\n<!--MP_NAME:Mr Raymond Lim Siang Keat-->\\n<div align=\"left\"><span style=\"FONT-SIZE: 13pt; FONT-FAMILY: \\'Times New Roman\\'\"><p>\\xa0\\xa0\\xa0\\xa0 <b>Mr Raymond Lim Siang Keat</b>: Yes, on a weekly basis.\\xa0</p>\\n<p>\\xa0</p>\\n<p>\\xa0\\xa0\\xa0\\xa0 The second question is how much have been claimed to date.\\xa0 We started \\r\\n</p><p align=\"left\">Column: 2217</p><p>\\r\\nthis on 18th December 2010.\\xa0 As at the end of last year 28th December, we have a total of about 169,000 transactions.\\xa0 We have refunded about $46,000.\\xa0 There was $300,000 overcharged and\\xa0$46,000 refunded.\\xa0</p>\\n<p>\\xa0</p>\\n<p>\\xa0\\xa0\\xa0\\xa0 Would we consider extending the claim period?\\xa0 Right now, we have given six months.\\xa0 It is quite a long time.\\xa0\\xa0I think we can look at it closer to that day.\\xa0 Right now, six months is sufficient.\\xa0\\xa0We will see where it goes from here.</p>\\n</span></div>\\n</div></body>'"
      ]
     },
     "execution_count": 18,
     "metadata": {},
     "output_type": "execute_result"
    }
   ],
   "source": [
    "df.iloc[8400].article_text"
   ]
  },
  {
   "cell_type": "code",
   "execution_count": 19,
   "metadata": {},
   "outputs": [
    {
     "data": {
      "text/plain": [
       "['Dr Lim Wee Kiak asked the Minister for Transport following the recent errors in calculation of distances travelled by buses (a) how many commuters or EZ- Link card holders were affected; (b) whether there is a more convenient alternative for less literate commuters such as senior citizens, who may not  know how to use the ticketing machine to receive their refunds; and (c) what are the lessons learnt from this incident and how can we prevent it from occurring again.',\n",
       " \"The Minister for Transport (Mr Raymond Lim Siang Keat): Sir, the LTA and the public transport operators have completed a thorough review of all 6,600 bus stop pairs in the system. This review was undertaken after LTA found distance discrepancies in 13 bus stop pairs after the launch of distance fares on 3rd July 2010.In this review, distance discrepancies were found in 68 bus stop pairs (about 1% of total bus stop pairs) which led to overcharging, and 30 bus stop pairs (about 0.45%) which led to undercharging. On a weekly basis about 6.9% of CEPAS cards were overcharged and 2.1% were undercharged. LTA and the bus operators have since apologised for the errors and for the inconvenience caused to commuters and have taken steps to refund commuters that were overcharged due to the distance errors.In response to commuters' feedback received on the old refund process, LTA has made improvements so that it is now faster and more convenient for affected commuters to get their refunds. Commuters can get a full refund on the spot and at their convenience at any TransitLink Add Value Machine (AVM), TransitLink Ticket Office or Concession Card Replacement Office which are available at most MRT stations, bus interchanges and selected bus stops. Commuters need not remember the bus service numbers, nor fill in any form. They only need to present their CEPAS cards to receive the refund if they are eligible for one.Senior citizens who are not familiar with the Add Value Machines can approach any TransitLink Ticket Offices with their cards. The staff at the Ticket Offices are trained to check the cards and refund the correct amount into their cards on the spot. To give commuters more time, a period of six months has been given for refunds. Affected commuters need not make a special trip and can get their refund when they next top up their cards. Unclaimed refunds will be contributed to the Public Transport Fund which will go to benefit needy families.Going forward, the Public Transport Council has put in place a framework to require bus operators to ensure that bus stop distances are updated correctly and on time following changes to the bus stop locations. Failure to do so could result in penalties.\",\n",
       " 'Dr Lim Wee Kiak:  Sir, I would like to ask the Minister how many commuters or how many EZ-Link card holders were affected in this particular exercise and currently, what is the percentage who have made claims for their overcharged fares. I understand that commuters are supposed to make their claims by 17th June this year. If by then the percentage is low, will the Minister consider extending the time for making claims by another six months?',\n",
       " 'Mr Raymond Lim Siang Keat: I gave the Member the answer just now on the EZ-Link card. Through the CEPAS card, 6.9% were overcharged and 2.1% were undercharged. That is the first question –',\n",
       " 'Dr Lim Wee Kiak: Percentage?',\n",
       " 'Mr Raymond Lim Siang Keat: Yes, on a weekly basis.The second question is how much have been claimed to date. We started this on 18th December 2010. As at the end of last year 28th December, we have a total of about 169,000 transactions. We have refunded about $46,000. There was $300,000 overcharged and $46,000 refunded.Would we consider extending the claim period?  Right now, we have given six months. It is quite a long time. I think we can look at it closer to that day. Right now, six months is sufficient. We will see where it goes from here.']"
      ]
     },
     "execution_count": 19,
     "metadata": {},
     "output_type": "execute_result"
    }
   ],
   "source": [
    "parse_hansard_text(df.iloc[8400].article_text)"
   ]
  },
  {
   "cell_type": "code",
   "execution_count": 20,
   "metadata": {},
   "outputs": [
    {
     "name": "stdout",
     "output_type": "stream",
     "text": [
      "Number of Speech Chunks : 6\n",
      "Word Count : 643 words\n",
      "Estmated reading time : 2 minutes\n",
      "Number of Individuals :  6\n",
      "Speakers :  {'The Minister for Transport (Mr Raymond Lim Siang Keat)', 'Mr Raymond Lim Siang Keat', 'NA', 'Dr Lim Wee Kiak'}\n"
     ]
    }
   ],
   "source": [
    "get_chunks_info(df.iloc[8400].article_text,returns=False,verbose=True)"
   ]
  },
  {
   "cell_type": "markdown",
   "metadata": {},
   "source": [
    "## Parse our cleaning function"
   ]
  },
  {
   "cell_type": "code",
   "execution_count": 77,
   "metadata": {},
   "outputs": [
    {
     "name": "stdout",
     "output_type": "stream",
     "text": [
      "CPU times: user 3min 2s, sys: 7.55 s, total: 3min 9s\n",
      "Wall time: 4min 56s\n"
     ]
    }
   ],
   "source": [
    "%time df['html_clean'] = df.article_text.map(parse_hansard_text)"
   ]
  },
  {
   "cell_type": "code",
   "execution_count": 27,
   "metadata": {},
   "outputs": [
    {
     "data": {
      "text/plain": [
       "['The Second Minister for Finance (Mrs Lim Hwee Hua) (for the Minister for Finance): Sir, the two Integrated Resorts (IRs) collect casino entry levies on behalf of the Totalisator Board.They also pay betting taxes and GST on their business receipts to the Government. However, the entry of the IRs has also led to a restructuring of the gaming industry as a whole.Hence, while the IRs have brought in new revenues, collections from other gaming activities such as lotteries, horse and sports betting, and fruit machines operated by clubs have fallen.Taken together, the net increase in collections by the Totalisator Board with the entry of the IRs was about $130 million in the eight months between April and November 2010.Likewise, the net increase in revenues to the Government with the entry of the IRs was about $420 million over the same period.The Totalisator Board will pool collections from the casino entry levies with their recurrent surpluses, which go towards funding activities benefiting the community.Just to recap, these range from educational and health programmes to sports and arts and culture.Some of Tote Board’s ongoing commitments include the Tote Board Social Service Fund, the Tote Board Community Healthcare Fund, the Yellow Ribbon Project and the Community Chest.The revenues collected by the Government from the IRs, like those from the rest of the gaming industry, flow into the Consolidated Fund.They are not earmarked for specific purposes, but go towards funding of the Government budget as a whole.This allows Government the flexibility to channel funds to areas with the greatest needs and strategic priority.']"
      ]
     },
     "execution_count": 27,
     "metadata": {},
     "output_type": "execute_result"
    }
   ],
   "source": [
    "df.iloc[8398].html_clean[1:2]"
   ]
  },
  {
   "cell_type": "markdown",
   "metadata": {},
   "source": [
    "## Joining our various chunks"
   ]
  },
  {
   "cell_type": "code",
   "execution_count": 78,
   "metadata": {},
   "outputs": [
    {
     "name": "stdout",
     "output_type": "stream",
     "text": [
      "CPU times: user 113 ms, sys: 494 ms, total: 608 ms\n",
      "Wall time: 1.21 s\n"
     ]
    }
   ],
   "source": [
    "%time df['cleaned_join'] = df.html_clean.map(lambda x : \"<br/>\".join(x))"
   ]
  },
  {
   "cell_type": "code",
   "execution_count": 32,
   "metadata": {},
   "outputs": [
    {
     "data": {
      "text/plain": [
       "'Ms Denise Phua Lay Peng asked the Minister for Finance (a) how much additional revenue will the Government be receiving as a result of the good financial performance of the two Integrated Resorts; (b) what is the breakdown of the revenue attributable to the casinos and other operational units; and (c) what are the likely ways in which this additional revenue will be utilised.<br/>The Second Minist'"
      ]
     },
     "execution_count": 32,
     "metadata": {},
     "output_type": "execute_result"
    }
   ],
   "source": [
    "df.iloc[8398].cleaned_join[:400]"
   ]
  },
  {
   "cell_type": "code",
   "execution_count": 33,
   "metadata": {},
   "outputs": [
    {
     "data": {
      "text/html": [
       "<div>\n",
       "<style scoped>\n",
       "    .dataframe tbody tr th:only-of-type {\n",
       "        vertical-align: middle;\n",
       "    }\n",
       "\n",
       "    .dataframe tbody tr th {\n",
       "        vertical-align: top;\n",
       "    }\n",
       "\n",
       "    .dataframe thead th {\n",
       "        text-align: right;\n",
       "    }\n",
       "</style>\n",
       "<table border=\"1\" class=\"dataframe\">\n",
       "  <thead>\n",
       "    <tr style=\"text-align: right;\">\n",
       "      <th></th>\n",
       "      <th>parliament_num</th>\n",
       "      <th>volume_num</th>\n",
       "      <th>sitting_num</th>\n",
       "      <th>session_num</th>\n",
       "      <th>session_type</th>\n",
       "      <th>article_text</th>\n",
       "      <th>title</th>\n",
       "      <th>sitting_date</th>\n",
       "      <th>src_url</th>\n",
       "      <th>html_clean</th>\n",
       "      <th>cleaned_join</th>\n",
       "    </tr>\n",
       "  </thead>\n",
       "  <tbody>\n",
       "    <tr>\n",
       "      <th>0</th>\n",
       "      <td>13</td>\n",
       "      <td>94</td>\n",
       "      <td>105</td>\n",
       "      <td>2</td>\n",
       "      <td>SECOND READING BILLS</td>\n",
       "      <td>&lt;p&gt;[(proc text) Debate resumed. (proc text)]&lt;/...</td>\n",
       "      <td>PROTECTION FROM ONLINE FALSEHOODS AND MANIPULA...</td>\n",
       "      <td>2019-05-08</td>\n",
       "      <td>https://sprs.parl.gov.sg/search/sprs3topic?rep...</td>\n",
       "      <td>[[(proc text) Debate resumed. (proc text)], Mr...</td>\n",
       "      <td>[(proc text) Debate resumed. (proc text)]&lt;br/&gt;...</td>\n",
       "    </tr>\n",
       "    <tr>\n",
       "      <th>1</th>\n",
       "      <td>13</td>\n",
       "      <td>94</td>\n",
       "      <td>105</td>\n",
       "      <td>2</td>\n",
       "      <td>ORAL ANSWERS</td>\n",
       "      <td>&lt;p class=\"ql-align-justify\"&gt;4 &lt;strong&gt;Mr Vikra...</td>\n",
       "      <td>STATE OF BILATERAL RELATIONS WITH MALAYSIA FOL...</td>\n",
       "      <td>2019-05-08</td>\n",
       "      <td>https://sprs.parl.gov.sg/search/sprs3topic?rep...</td>\n",
       "      <td>[Mr Vikram Nair asked the Minister for Foreign...</td>\n",
       "      <td>Mr Vikram Nair asked the Minister for Foreign ...</td>\n",
       "    </tr>\n",
       "    <tr>\n",
       "      <th>2</th>\n",
       "      <td>13</td>\n",
       "      <td>94</td>\n",
       "      <td>105</td>\n",
       "      <td>2</td>\n",
       "      <td>ORAL ANSWERS</td>\n",
       "      <td>&lt;p class=\"ql-align-justify\"&gt;8 &lt;strong&gt;Assoc Pr...</td>\n",
       "      <td>COMPANIES WITH MEASURES TO DEAL WITH WORKPLACE...</td>\n",
       "      <td>2019-05-08</td>\n",
       "      <td>https://sprs.parl.gov.sg/search/sprs3topic?rep...</td>\n",
       "      <td>[Assoc Prof Walter Theseira asked the Minister...</td>\n",
       "      <td>Assoc Prof Walter Theseira asked the Minister ...</td>\n",
       "    </tr>\n",
       "    <tr>\n",
       "      <th>3</th>\n",
       "      <td>13</td>\n",
       "      <td>94</td>\n",
       "      <td>105</td>\n",
       "      <td>2</td>\n",
       "      <td>ORAL ANSWERS</td>\n",
       "      <td>&lt;p&gt;5 &lt;strong&gt;Ms Irene Quay Siew Ching&lt;/strong&gt;...</td>\n",
       "      <td>REVIEW OF DRUG TESTING STANDARDS IN SINGAPORE ...</td>\n",
       "      <td>2019-05-08</td>\n",
       "      <td>https://sprs.parl.gov.sg/search/sprs3topic?rep...</td>\n",
       "      <td>[Ms Irene Quay Siew Ching asked the Minister f...</td>\n",
       "      <td>Ms Irene Quay Siew Ching asked the Minister fo...</td>\n",
       "    </tr>\n",
       "    <tr>\n",
       "      <th>4</th>\n",
       "      <td>13</td>\n",
       "      <td>94</td>\n",
       "      <td>105</td>\n",
       "      <td>2</td>\n",
       "      <td>ORAL ANSWERS</td>\n",
       "      <td>&lt;p class=\"ql-align-justify\"&gt;2 &lt;strong&gt;Mr Lim B...</td>\n",
       "      <td>LIVING IN PRIVATE PROPERTIES BUT WITH NO DECLA...</td>\n",
       "      <td>2019-05-08</td>\n",
       "      <td>https://sprs.parl.gov.sg/search/sprs3topic?rep...</td>\n",
       "      <td>[Mr Lim Biow Chuan asked the Deputy Prime Mini...</td>\n",
       "      <td>Mr Lim Biow Chuan asked the Deputy Prime Minis...</td>\n",
       "    </tr>\n",
       "  </tbody>\n",
       "</table>\n",
       "</div>"
      ],
      "text/plain": [
       "   parliament_num  volume_num  sitting_num  session_num          session_type  \\\n",
       "0              13          94          105            2  SECOND READING BILLS   \n",
       "1              13          94          105            2          ORAL ANSWERS   \n",
       "2              13          94          105            2          ORAL ANSWERS   \n",
       "3              13          94          105            2          ORAL ANSWERS   \n",
       "4              13          94          105            2          ORAL ANSWERS   \n",
       "\n",
       "                                        article_text  \\\n",
       "0  <p>[(proc text) Debate resumed. (proc text)]</...   \n",
       "1  <p class=\"ql-align-justify\">4 <strong>Mr Vikra...   \n",
       "2  <p class=\"ql-align-justify\">8 <strong>Assoc Pr...   \n",
       "3  <p>5 <strong>Ms Irene Quay Siew Ching</strong>...   \n",
       "4  <p class=\"ql-align-justify\">2 <strong>Mr Lim B...   \n",
       "\n",
       "                                               title sitting_date  \\\n",
       "0  PROTECTION FROM ONLINE FALSEHOODS AND MANIPULA...   2019-05-08   \n",
       "1  STATE OF BILATERAL RELATIONS WITH MALAYSIA FOL...   2019-05-08   \n",
       "2  COMPANIES WITH MEASURES TO DEAL WITH WORKPLACE...   2019-05-08   \n",
       "3  REVIEW OF DRUG TESTING STANDARDS IN SINGAPORE ...   2019-05-08   \n",
       "4  LIVING IN PRIVATE PROPERTIES BUT WITH NO DECLA...   2019-05-08   \n",
       "\n",
       "                                             src_url  \\\n",
       "0  https://sprs.parl.gov.sg/search/sprs3topic?rep...   \n",
       "1  https://sprs.parl.gov.sg/search/sprs3topic?rep...   \n",
       "2  https://sprs.parl.gov.sg/search/sprs3topic?rep...   \n",
       "3  https://sprs.parl.gov.sg/search/sprs3topic?rep...   \n",
       "4  https://sprs.parl.gov.sg/search/sprs3topic?rep...   \n",
       "\n",
       "                                          html_clean  \\\n",
       "0  [[(proc text) Debate resumed. (proc text)], Mr...   \n",
       "1  [Mr Vikram Nair asked the Minister for Foreign...   \n",
       "2  [Assoc Prof Walter Theseira asked the Minister...   \n",
       "3  [Ms Irene Quay Siew Ching asked the Minister f...   \n",
       "4  [Mr Lim Biow Chuan asked the Deputy Prime Mini...   \n",
       "\n",
       "                                        cleaned_join  \n",
       "0  [(proc text) Debate resumed. (proc text)]<br/>...  \n",
       "1  Mr Vikram Nair asked the Minister for Foreign ...  \n",
       "2  Assoc Prof Walter Theseira asked the Minister ...  \n",
       "3  Ms Irene Quay Siew Ching asked the Minister fo...  \n",
       "4  Mr Lim Biow Chuan asked the Deputy Prime Minis...  "
      ]
     },
     "execution_count": 33,
     "metadata": {},
     "output_type": "execute_result"
    }
   ],
   "source": [
    "df.head()"
   ]
  },
  {
   "cell_type": "markdown",
   "metadata": {},
   "source": [
    "## Import into DocDB (Mongo)\n",
    "\n",
    "We use MongoDB for production as it will allow for quicker document retrieval in the future."
   ]
  },
  {
   "cell_type": "code",
   "execution_count": 105,
   "metadata": {},
   "outputs": [],
   "source": [
    "import pymongo "
   ]
  },
  {
   "cell_type": "code",
   "execution_count": 13,
   "metadata": {},
   "outputs": [],
   "source": [
    "client = pymongo.MongoClient(\"mongodb://localhost:27017/\")\n",
    "\n",
    "db = client[\"parliament\"]\n",
    "articles = db[\"articles\"]"
   ]
  },
  {
   "cell_type": "code",
   "execution_count": 34,
   "metadata": {},
   "outputs": [
    {
     "name": "stdout",
     "output_type": "stream",
     "text": [
      "['admin', 'config', 'local', 'parliament']\n"
     ]
    }
   ],
   "source": [
    "x = articles.insert_many(df.to_dict('records'))\n",
    "print(client.list_database_names())"
   ]
  },
  {
   "cell_type": "code",
   "execution_count": 35,
   "metadata": {},
   "outputs": [
    {
     "name": "stdout",
     "output_type": "stream",
     "text": [
      "['articles']\n"
     ]
    }
   ],
   "source": [
    "print(db.list_collection_names())"
   ]
  },
  {
   "cell_type": "code",
   "execution_count": 107,
   "metadata": {},
   "outputs": [
    {
     "data": {
      "text/plain": [
       "dict_keys(['_id', 'parliament_num', 'volume_num', 'sitting_num', 'session_num', 'session_type', 'article_text', 'title', 'sitting_date', 'src_url', 'html_clean', 'cleaned_join'])"
      ]
     },
     "execution_count": 107,
     "metadata": {},
     "output_type": "execute_result"
    }
   ],
   "source": [
    "articles.find_one().keys()"
   ]
  },
  {
   "cell_type": "code",
   "execution_count": 37,
   "metadata": {},
   "outputs": [
    {
     "name": "stdout",
     "output_type": "stream",
     "text": [
      "[(proc text) Debate resumed. (proc text)]<br/>Mr Deputy Speaker: Mr Png Eng Huat.6.57 pm<br/>Mr Png Eng Huat (Hougang): Sir, if this Bill is drafted solely to target the perpetrators of hate, violence, intolerance and disdain towards another race or religion, by all means, let us do it. We should never allow such people to propagate their vile ideologies in any form or manner. This world has no pl\n"
     ]
    }
   ],
   "source": [
    "print(articles.find_one()['cleaned_join'][:400])"
   ]
  },
  {
   "cell_type": "code",
   "execution_count": 7,
   "metadata": {},
   "outputs": [],
   "source": [
    "mongo_df = pd.DataFrame.from_records(articles.find())"
   ]
  },
  {
   "cell_type": "code",
   "execution_count": 8,
   "metadata": {},
   "outputs": [
    {
     "data": {
      "text/html": [
       "<div>\n",
       "<style scoped>\n",
       "    .dataframe tbody tr th:only-of-type {\n",
       "        vertical-align: middle;\n",
       "    }\n",
       "\n",
       "    .dataframe tbody tr th {\n",
       "        vertical-align: top;\n",
       "    }\n",
       "\n",
       "    .dataframe thead th {\n",
       "        text-align: right;\n",
       "    }\n",
       "</style>\n",
       "<table border=\"1\" class=\"dataframe\">\n",
       "  <thead>\n",
       "    <tr style=\"text-align: right;\">\n",
       "      <th></th>\n",
       "      <th>_id</th>\n",
       "      <th>article_text</th>\n",
       "      <th>chunks</th>\n",
       "      <th>cleaned_join</th>\n",
       "      <th>dominant_topic</th>\n",
       "      <th>html_clean</th>\n",
       "      <th>parliament_num</th>\n",
       "      <th>parsed_convo</th>\n",
       "      <th>persons_involved</th>\n",
       "      <th>session_num</th>\n",
       "      <th>session_type</th>\n",
       "      <th>sitting_date</th>\n",
       "      <th>sitting_num</th>\n",
       "      <th>src_url</th>\n",
       "      <th>title</th>\n",
       "      <th>volume_num</th>\n",
       "    </tr>\n",
       "  </thead>\n",
       "  <tbody>\n",
       "    <tr>\n",
       "      <th>0</th>\n",
       "      <td>5d27eca6172d9aa762d4802f</td>\n",
       "      <td>&lt;p&gt;[(proc text) Debate resumed. (proc text)]&lt;/...</td>\n",
       "      <td>{\"0\": {\"entity\": \"NA\", \"content\": \"[(proc text...</td>\n",
       "      <td>[(proc text) Debate resumed. (proc text)]&lt;br/&gt;...</td>\n",
       "      <td>Society</td>\n",
       "      <td>[[(proc text) Debate resumed. (proc text)], Mr...</td>\n",
       "      <td>13</td>\n",
       "      <td>[{'content': '[(proc text) Debate resumed. (pr...</td>\n",
       "      <td>[Mr Leon Perera, Mr K Shanmugam, Assoc Prof Wa...</td>\n",
       "      <td>2</td>\n",
       "      <td>SECOND READING BILLS</td>\n",
       "      <td>2019-05-08</td>\n",
       "      <td>105</td>\n",
       "      <td>https://sprs.parl.gov.sg/search/sprs3topic?rep...</td>\n",
       "      <td>PROTECTION FROM ONLINE FALSEHOODS AND MANIPULA...</td>\n",
       "      <td>94</td>\n",
       "    </tr>\n",
       "    <tr>\n",
       "      <th>1</th>\n",
       "      <td>5d27eca6172d9aa762d48030</td>\n",
       "      <td>&lt;p class=\"ql-align-justify\"&gt;4 &lt;strong&gt;Mr Vikra...</td>\n",
       "      <td>{\"0\": {\"entity\": \"NA\", \"content\": \"Mr Vikram N...</td>\n",
       "      <td>Mr Vikram Nair asked the Minister for Foreign ...</td>\n",
       "      <td>Society</td>\n",
       "      <td>[Mr Vikram Nair asked the Minister for Foreign...</td>\n",
       "      <td>13</td>\n",
       "      <td>[{'content': 'Mr Vikram Nair asked the Ministe...</td>\n",
       "      <td>[Dr Vivian Balakrishnan, The Minister for Fore...</td>\n",
       "      <td>2</td>\n",
       "      <td>ORAL ANSWERS</td>\n",
       "      <td>2019-05-08</td>\n",
       "      <td>105</td>\n",
       "      <td>https://sprs.parl.gov.sg/search/sprs3topic?rep...</td>\n",
       "      <td>STATE OF BILATERAL RELATIONS WITH MALAYSIA FOL...</td>\n",
       "      <td>94</td>\n",
       "    </tr>\n",
       "    <tr>\n",
       "      <th>2</th>\n",
       "      <td>5d27eca6172d9aa762d48031</td>\n",
       "      <td>&lt;p class=\"ql-align-justify\"&gt;8 &lt;strong&gt;Assoc Pr...</td>\n",
       "      <td>{\"0\": {\"entity\": \"NA\", \"content\": \"Assoc Prof ...</td>\n",
       "      <td>Assoc Prof Walter Theseira asked the Minister ...</td>\n",
       "      <td>Internal Security</td>\n",
       "      <td>[Assoc Prof Walter Theseira asked the Minister...</td>\n",
       "      <td>13</td>\n",
       "      <td>[{'content': 'Assoc Prof Walter Theseira asked...</td>\n",
       "      <td>[Ms Low Yen Ling, Ms Anthea Ong, Assoc Prof Wa...</td>\n",
       "      <td>2</td>\n",
       "      <td>ORAL ANSWERS</td>\n",
       "      <td>2019-05-08</td>\n",
       "      <td>105</td>\n",
       "      <td>https://sprs.parl.gov.sg/search/sprs3topic?rep...</td>\n",
       "      <td>COMPANIES WITH MEASURES TO DEAL WITH WORKPLACE...</td>\n",
       "      <td>94</td>\n",
       "    </tr>\n",
       "    <tr>\n",
       "      <th>3</th>\n",
       "      <td>5d27eca6172d9aa762d48032</td>\n",
       "      <td>&lt;p&gt;5 &lt;strong&gt;Ms Irene Quay Siew Ching&lt;/strong&gt;...</td>\n",
       "      <td>{\"0\": {\"entity\": \"NA\", \"content\": \"Ms Irene Qu...</td>\n",
       "      <td>Ms Irene Quay Siew Ching asked the Minister fo...</td>\n",
       "      <td>Environment</td>\n",
       "      <td>[Ms Irene Quay Siew Ching asked the Minister f...</td>\n",
       "      <td>13</td>\n",
       "      <td>[{'content': 'Ms Irene Quay Siew Ching asked t...</td>\n",
       "      <td>[The Senior Minister of State for Health, Dr L...</td>\n",
       "      <td>2</td>\n",
       "      <td>ORAL ANSWERS</td>\n",
       "      <td>2019-05-08</td>\n",
       "      <td>105</td>\n",
       "      <td>https://sprs.parl.gov.sg/search/sprs3topic?rep...</td>\n",
       "      <td>REVIEW OF DRUG TESTING STANDARDS IN SINGAPORE ...</td>\n",
       "      <td>94</td>\n",
       "    </tr>\n",
       "    <tr>\n",
       "      <th>4</th>\n",
       "      <td>5d27eca6172d9aa762d48033</td>\n",
       "      <td>&lt;p class=\"ql-align-justify\"&gt;2 &lt;strong&gt;Mr Lim B...</td>\n",
       "      <td>{\"0\": {\"entity\": \"NA\", \"content\": \"Mr Lim Biow...</td>\n",
       "      <td>Mr Lim Biow Chuan asked the Deputy Prime Minis...</td>\n",
       "      <td>Employment</td>\n",
       "      <td>[Mr Lim Biow Chuan asked the Deputy Prime Mini...</td>\n",
       "      <td>13</td>\n",
       "      <td>[{'content': 'Mr Lim Biow Chuan asked the Depu...</td>\n",
       "      <td>[Ms Indranee Rajah, The Second Minister for Fi...</td>\n",
       "      <td>2</td>\n",
       "      <td>ORAL ANSWERS</td>\n",
       "      <td>2019-05-08</td>\n",
       "      <td>105</td>\n",
       "      <td>https://sprs.parl.gov.sg/search/sprs3topic?rep...</td>\n",
       "      <td>LIVING IN PRIVATE PROPERTIES BUT WITH NO DECLA...</td>\n",
       "      <td>94</td>\n",
       "    </tr>\n",
       "  </tbody>\n",
       "</table>\n",
       "</div>"
      ],
      "text/plain": [
       "                        _id  \\\n",
       "0  5d27eca6172d9aa762d4802f   \n",
       "1  5d27eca6172d9aa762d48030   \n",
       "2  5d27eca6172d9aa762d48031   \n",
       "3  5d27eca6172d9aa762d48032   \n",
       "4  5d27eca6172d9aa762d48033   \n",
       "\n",
       "                                        article_text  \\\n",
       "0  <p>[(proc text) Debate resumed. (proc text)]</...   \n",
       "1  <p class=\"ql-align-justify\">4 <strong>Mr Vikra...   \n",
       "2  <p class=\"ql-align-justify\">8 <strong>Assoc Pr...   \n",
       "3  <p>5 <strong>Ms Irene Quay Siew Ching</strong>...   \n",
       "4  <p class=\"ql-align-justify\">2 <strong>Mr Lim B...   \n",
       "\n",
       "                                              chunks  \\\n",
       "0  {\"0\": {\"entity\": \"NA\", \"content\": \"[(proc text...   \n",
       "1  {\"0\": {\"entity\": \"NA\", \"content\": \"Mr Vikram N...   \n",
       "2  {\"0\": {\"entity\": \"NA\", \"content\": \"Assoc Prof ...   \n",
       "3  {\"0\": {\"entity\": \"NA\", \"content\": \"Ms Irene Qu...   \n",
       "4  {\"0\": {\"entity\": \"NA\", \"content\": \"Mr Lim Biow...   \n",
       "\n",
       "                                        cleaned_join     dominant_topic  \\\n",
       "0  [(proc text) Debate resumed. (proc text)]<br/>...            Society   \n",
       "1  Mr Vikram Nair asked the Minister for Foreign ...            Society   \n",
       "2  Assoc Prof Walter Theseira asked the Minister ...  Internal Security   \n",
       "3  Ms Irene Quay Siew Ching asked the Minister fo...        Environment   \n",
       "4  Mr Lim Biow Chuan asked the Deputy Prime Minis...         Employment   \n",
       "\n",
       "                                          html_clean  parliament_num  \\\n",
       "0  [[(proc text) Debate resumed. (proc text)], Mr...              13   \n",
       "1  [Mr Vikram Nair asked the Minister for Foreign...              13   \n",
       "2  [Assoc Prof Walter Theseira asked the Minister...              13   \n",
       "3  [Ms Irene Quay Siew Ching asked the Minister f...              13   \n",
       "4  [Mr Lim Biow Chuan asked the Deputy Prime Mini...              13   \n",
       "\n",
       "                                        parsed_convo  \\\n",
       "0  [{'content': '[(proc text) Debate resumed. (pr...   \n",
       "1  [{'content': 'Mr Vikram Nair asked the Ministe...   \n",
       "2  [{'content': 'Assoc Prof Walter Theseira asked...   \n",
       "3  [{'content': 'Ms Irene Quay Siew Ching asked t...   \n",
       "4  [{'content': 'Mr Lim Biow Chuan asked the Depu...   \n",
       "\n",
       "                                    persons_involved  session_num  \\\n",
       "0  [Mr Leon Perera, Mr K Shanmugam, Assoc Prof Wa...            2   \n",
       "1  [Dr Vivian Balakrishnan, The Minister for Fore...            2   \n",
       "2  [Ms Low Yen Ling, Ms Anthea Ong, Assoc Prof Wa...            2   \n",
       "3  [The Senior Minister of State for Health, Dr L...            2   \n",
       "4  [Ms Indranee Rajah, The Second Minister for Fi...            2   \n",
       "\n",
       "           session_type sitting_date  sitting_num  \\\n",
       "0  SECOND READING BILLS   2019-05-08          105   \n",
       "1          ORAL ANSWERS   2019-05-08          105   \n",
       "2          ORAL ANSWERS   2019-05-08          105   \n",
       "3          ORAL ANSWERS   2019-05-08          105   \n",
       "4          ORAL ANSWERS   2019-05-08          105   \n",
       "\n",
       "                                             src_url  \\\n",
       "0  https://sprs.parl.gov.sg/search/sprs3topic?rep...   \n",
       "1  https://sprs.parl.gov.sg/search/sprs3topic?rep...   \n",
       "2  https://sprs.parl.gov.sg/search/sprs3topic?rep...   \n",
       "3  https://sprs.parl.gov.sg/search/sprs3topic?rep...   \n",
       "4  https://sprs.parl.gov.sg/search/sprs3topic?rep...   \n",
       "\n",
       "                                               title  volume_num  \n",
       "0  PROTECTION FROM ONLINE FALSEHOODS AND MANIPULA...          94  \n",
       "1  STATE OF BILATERAL RELATIONS WITH MALAYSIA FOL...          94  \n",
       "2  COMPANIES WITH MEASURES TO DEAL WITH WORKPLACE...          94  \n",
       "3  REVIEW OF DRUG TESTING STANDARDS IN SINGAPORE ...          94  \n",
       "4  LIVING IN PRIVATE PROPERTIES BUT WITH NO DECLA...          94  "
      ]
     },
     "execution_count": 8,
     "metadata": {},
     "output_type": "execute_result"
    }
   ],
   "source": [
    "mongo_df.head()"
   ]
  },
  {
   "cell_type": "markdown",
   "metadata": {},
   "source": [
    "## Adding Entities"
   ]
  },
  {
   "cell_type": "code",
   "execution_count": 48,
   "metadata": {},
   "outputs": [],
   "source": [
    "from text_utils import cleaning \n",
    "from text_utils import metrics\n",
    "from bson import json_util"
   ]
  },
  {
   "cell_type": "code",
   "execution_count": 83,
   "metadata": {},
   "outputs": [
    {
     "data": {
      "text/plain": [
       "{'entity': 'NA',\n",
       " 'content': 'Dr Lim Wee Kiak asked the Minister for Transport following the recent errors in calculation of distances travelled by buses (a) how many commuters or EZ- Link card holders were affected; (b) whether there is a more convenient alternative for less literate commuters such as senior citizens, who may not  know how to use the ticketing machine to receive their refunds; and (c) what are the lessons learnt from this incident and how can we prevent it from occurring again.'}"
      ]
     },
     "execution_count": 83,
     "metadata": {},
     "output_type": "execute_result"
    }
   ],
   "source": [
    "sample = metrics.get_chunks_info(mongo_df['article_text'][8400],returns=True,verbose=False)\n",
    "sample[0]"
   ]
  },
  {
   "cell_type": "code",
   "execution_count": 36,
   "metadata": {},
   "outputs": [
    {
     "data": {
      "text/plain": [
       "['The Minister for Transport', 'Mr Raymond Lim Siang Keat', 'Dr Lim Wee Kiak']"
      ]
     },
     "execution_count": 36,
     "metadata": {},
     "output_type": "execute_result"
    }
   ],
   "source": [
    "list(set([re.sub(r'(\\(.*?\\))','',entity['entity']).strip() for entity in sample.values()\\\n",
    "                     if entity['entity'] != 'NA']))"
   ]
  },
  {
   "cell_type": "code",
   "execution_count": 38,
   "metadata": {},
   "outputs": [
    {
     "data": {
      "text/plain": [
       "['The Minister for Transport', 'Mr Raymond Lim Siang Keat', 'Dr Lim Wee Kiak']"
      ]
     },
     "execution_count": 38,
     "metadata": {},
     "output_type": "execute_result"
    }
   ],
   "source": [
    "entity = cleaning.get_entities(sample)\n",
    "entity"
   ]
  },
  {
   "cell_type": "code",
   "execution_count": 87,
   "metadata": {},
   "outputs": [
    {
     "name": "stdout",
     "output_type": "stream",
     "text": [
      "CPU times: user 2min 38s, sys: 4.06 s, total: 2min 42s\n",
      "Wall time: 3min 28s\n"
     ]
    }
   ],
   "source": [
    "%time mongo_df['chunks'] = mongo_df.article_text.map( lambda x : get_chunks_info(x,verbose=False))"
   ]
  },
  {
   "cell_type": "code",
   "execution_count": 88,
   "metadata": {},
   "outputs": [
    {
     "name": "stdout",
     "output_type": "stream",
     "text": [
      "CPU times: user 233 ms, sys: 356 ms, total: 589 ms\n",
      "Wall time: 604 ms\n"
     ]
    }
   ],
   "source": [
    "%time mongo_df['parsed_convo'] = mongo_df.chunks.map(lambda x : cleaning.parse_topics(x))"
   ]
  },
  {
   "cell_type": "code",
   "execution_count": 89,
   "metadata": {},
   "outputs": [
    {
     "name": "stdout",
     "output_type": "stream",
     "text": [
      "CPU times: user 87.6 ms, sys: 4.15 ms, total: 91.7 ms\n",
      "Wall time: 91.7 ms\n"
     ]
    }
   ],
   "source": [
    "%time mongo_df['persons_involved'] = mongo_df.chunks.map(lambda x : cleaning.get_entities(x))"
   ]
  },
  {
   "cell_type": "code",
   "execution_count": 90,
   "metadata": {},
   "outputs": [
    {
     "name": "stdout",
     "output_type": "stream",
     "text": [
      "CPU times: user 17.1 ms, sys: 1.58 ms, total: 18.7 ms\n",
      "Wall time: 19.8 ms\n"
     ]
    }
   ],
   "source": [
    "%time mongo_df['persons_involved'] = mongo_df.persons_involved.map(lambda x : [item for item in x if len(item)<40])"
   ]
  },
  {
   "cell_type": "code",
   "execution_count": 93,
   "metadata": {},
   "outputs": [
    {
     "data": {
      "text/html": [
       "<div>\n",
       "<style scoped>\n",
       "    .dataframe tbody tr th:only-of-type {\n",
       "        vertical-align: middle;\n",
       "    }\n",
       "\n",
       "    .dataframe tbody tr th {\n",
       "        vertical-align: top;\n",
       "    }\n",
       "\n",
       "    .dataframe thead th {\n",
       "        text-align: right;\n",
       "    }\n",
       "</style>\n",
       "<table border=\"1\" class=\"dataframe\">\n",
       "  <thead>\n",
       "    <tr style=\"text-align: right;\">\n",
       "      <th></th>\n",
       "      <th>_id</th>\n",
       "      <th>article_text</th>\n",
       "      <th>cleaned_join</th>\n",
       "      <th>html_clean</th>\n",
       "      <th>parliament_num</th>\n",
       "      <th>session_num</th>\n",
       "      <th>session_type</th>\n",
       "      <th>sitting_date</th>\n",
       "      <th>sitting_num</th>\n",
       "      <th>src_url</th>\n",
       "      <th>title</th>\n",
       "      <th>volume_num</th>\n",
       "      <th>chunks</th>\n",
       "      <th>parsed_convo</th>\n",
       "      <th>persons_involved</th>\n",
       "    </tr>\n",
       "  </thead>\n",
       "  <tbody>\n",
       "    <tr>\n",
       "      <th>0</th>\n",
       "      <td>5d27eca6172d9aa762d4802f</td>\n",
       "      <td>&lt;p&gt;[(proc text) Debate resumed. (proc text)]&lt;/...</td>\n",
       "      <td>[(proc text) Debate resumed. (proc text)]&lt;br/&gt;...</td>\n",
       "      <td>[[(proc text) Debate resumed. (proc text)], Mr...</td>\n",
       "      <td>13</td>\n",
       "      <td>2</td>\n",
       "      <td>SECOND READING BILLS</td>\n",
       "      <td>2019-05-08</td>\n",
       "      <td>105</td>\n",
       "      <td>https://sprs.parl.gov.sg/search/sprs3topic?rep...</td>\n",
       "      <td>PROTECTION FROM ONLINE FALSEHOODS AND MANIPULA...</td>\n",
       "      <td>94</td>\n",
       "      <td>{0: {'entity': 'NA', 'content': '[(proc text) ...</td>\n",
       "      <td>[{'content': '[(proc text) Debate resumed. (pr...</td>\n",
       "      <td>[Mr Leon Perera, Mr K Shanmugam, Assoc Prof Wa...</td>\n",
       "    </tr>\n",
       "    <tr>\n",
       "      <th>1</th>\n",
       "      <td>5d27eca6172d9aa762d48030</td>\n",
       "      <td>&lt;p class=\"ql-align-justify\"&gt;4 &lt;strong&gt;Mr Vikra...</td>\n",
       "      <td>Mr Vikram Nair asked the Minister for Foreign ...</td>\n",
       "      <td>[Mr Vikram Nair asked the Minister for Foreign...</td>\n",
       "      <td>13</td>\n",
       "      <td>2</td>\n",
       "      <td>ORAL ANSWERS</td>\n",
       "      <td>2019-05-08</td>\n",
       "      <td>105</td>\n",
       "      <td>https://sprs.parl.gov.sg/search/sprs3topic?rep...</td>\n",
       "      <td>STATE OF BILATERAL RELATIONS WITH MALAYSIA FOL...</td>\n",
       "      <td>94</td>\n",
       "      <td>{0: {'entity': 'NA', 'content': 'Mr Vikram Nai...</td>\n",
       "      <td>[{'content': 'Mr Vikram Nair asked the Ministe...</td>\n",
       "      <td>[Dr Vivian Balakrishnan, The Minister for Fore...</td>\n",
       "    </tr>\n",
       "    <tr>\n",
       "      <th>2</th>\n",
       "      <td>5d27eca6172d9aa762d48031</td>\n",
       "      <td>&lt;p class=\"ql-align-justify\"&gt;8 &lt;strong&gt;Assoc Pr...</td>\n",
       "      <td>Assoc Prof Walter Theseira asked the Minister ...</td>\n",
       "      <td>[Assoc Prof Walter Theseira asked the Minister...</td>\n",
       "      <td>13</td>\n",
       "      <td>2</td>\n",
       "      <td>ORAL ANSWERS</td>\n",
       "      <td>2019-05-08</td>\n",
       "      <td>105</td>\n",
       "      <td>https://sprs.parl.gov.sg/search/sprs3topic?rep...</td>\n",
       "      <td>COMPANIES WITH MEASURES TO DEAL WITH WORKPLACE...</td>\n",
       "      <td>94</td>\n",
       "      <td>{0: {'entity': 'NA', 'content': 'Assoc Prof Wa...</td>\n",
       "      <td>[{'content': 'Assoc Prof Walter Theseira asked...</td>\n",
       "      <td>[Ms Low Yen Ling, Ms Anthea Ong, Assoc Prof Wa...</td>\n",
       "    </tr>\n",
       "    <tr>\n",
       "      <th>3</th>\n",
       "      <td>5d27eca6172d9aa762d48032</td>\n",
       "      <td>&lt;p&gt;5 &lt;strong&gt;Ms Irene Quay Siew Ching&lt;/strong&gt;...</td>\n",
       "      <td>Ms Irene Quay Siew Ching asked the Minister fo...</td>\n",
       "      <td>[Ms Irene Quay Siew Ching asked the Minister f...</td>\n",
       "      <td>13</td>\n",
       "      <td>2</td>\n",
       "      <td>ORAL ANSWERS</td>\n",
       "      <td>2019-05-08</td>\n",
       "      <td>105</td>\n",
       "      <td>https://sprs.parl.gov.sg/search/sprs3topic?rep...</td>\n",
       "      <td>REVIEW OF DRUG TESTING STANDARDS IN SINGAPORE ...</td>\n",
       "      <td>94</td>\n",
       "      <td>{0: {'entity': 'NA', 'content': 'Ms Irene Quay...</td>\n",
       "      <td>[{'content': 'Ms Irene Quay Siew Ching asked t...</td>\n",
       "      <td>[The Senior Minister of State for Health, Dr L...</td>\n",
       "    </tr>\n",
       "    <tr>\n",
       "      <th>4</th>\n",
       "      <td>5d27eca6172d9aa762d48033</td>\n",
       "      <td>&lt;p class=\"ql-align-justify\"&gt;2 &lt;strong&gt;Mr Lim B...</td>\n",
       "      <td>Mr Lim Biow Chuan asked the Deputy Prime Minis...</td>\n",
       "      <td>[Mr Lim Biow Chuan asked the Deputy Prime Mini...</td>\n",
       "      <td>13</td>\n",
       "      <td>2</td>\n",
       "      <td>ORAL ANSWERS</td>\n",
       "      <td>2019-05-08</td>\n",
       "      <td>105</td>\n",
       "      <td>https://sprs.parl.gov.sg/search/sprs3topic?rep...</td>\n",
       "      <td>LIVING IN PRIVATE PROPERTIES BUT WITH NO DECLA...</td>\n",
       "      <td>94</td>\n",
       "      <td>{0: {'entity': 'NA', 'content': 'Mr Lim Biow C...</td>\n",
       "      <td>[{'content': 'Mr Lim Biow Chuan asked the Depu...</td>\n",
       "      <td>[Ms Indranee Rajah, The Second Minister for Fi...</td>\n",
       "    </tr>\n",
       "  </tbody>\n",
       "</table>\n",
       "</div>"
      ],
      "text/plain": [
       "                        _id  \\\n",
       "0  5d27eca6172d9aa762d4802f   \n",
       "1  5d27eca6172d9aa762d48030   \n",
       "2  5d27eca6172d9aa762d48031   \n",
       "3  5d27eca6172d9aa762d48032   \n",
       "4  5d27eca6172d9aa762d48033   \n",
       "\n",
       "                                        article_text  \\\n",
       "0  <p>[(proc text) Debate resumed. (proc text)]</...   \n",
       "1  <p class=\"ql-align-justify\">4 <strong>Mr Vikra...   \n",
       "2  <p class=\"ql-align-justify\">8 <strong>Assoc Pr...   \n",
       "3  <p>5 <strong>Ms Irene Quay Siew Ching</strong>...   \n",
       "4  <p class=\"ql-align-justify\">2 <strong>Mr Lim B...   \n",
       "\n",
       "                                        cleaned_join  \\\n",
       "0  [(proc text) Debate resumed. (proc text)]<br/>...   \n",
       "1  Mr Vikram Nair asked the Minister for Foreign ...   \n",
       "2  Assoc Prof Walter Theseira asked the Minister ...   \n",
       "3  Ms Irene Quay Siew Ching asked the Minister fo...   \n",
       "4  Mr Lim Biow Chuan asked the Deputy Prime Minis...   \n",
       "\n",
       "                                          html_clean  parliament_num  \\\n",
       "0  [[(proc text) Debate resumed. (proc text)], Mr...              13   \n",
       "1  [Mr Vikram Nair asked the Minister for Foreign...              13   \n",
       "2  [Assoc Prof Walter Theseira asked the Minister...              13   \n",
       "3  [Ms Irene Quay Siew Ching asked the Minister f...              13   \n",
       "4  [Mr Lim Biow Chuan asked the Deputy Prime Mini...              13   \n",
       "\n",
       "   session_num          session_type sitting_date  sitting_num  \\\n",
       "0            2  SECOND READING BILLS   2019-05-08          105   \n",
       "1            2          ORAL ANSWERS   2019-05-08          105   \n",
       "2            2          ORAL ANSWERS   2019-05-08          105   \n",
       "3            2          ORAL ANSWERS   2019-05-08          105   \n",
       "4            2          ORAL ANSWERS   2019-05-08          105   \n",
       "\n",
       "                                             src_url  \\\n",
       "0  https://sprs.parl.gov.sg/search/sprs3topic?rep...   \n",
       "1  https://sprs.parl.gov.sg/search/sprs3topic?rep...   \n",
       "2  https://sprs.parl.gov.sg/search/sprs3topic?rep...   \n",
       "3  https://sprs.parl.gov.sg/search/sprs3topic?rep...   \n",
       "4  https://sprs.parl.gov.sg/search/sprs3topic?rep...   \n",
       "\n",
       "                                               title  volume_num  \\\n",
       "0  PROTECTION FROM ONLINE FALSEHOODS AND MANIPULA...          94   \n",
       "1  STATE OF BILATERAL RELATIONS WITH MALAYSIA FOL...          94   \n",
       "2  COMPANIES WITH MEASURES TO DEAL WITH WORKPLACE...          94   \n",
       "3  REVIEW OF DRUG TESTING STANDARDS IN SINGAPORE ...          94   \n",
       "4  LIVING IN PRIVATE PROPERTIES BUT WITH NO DECLA...          94   \n",
       "\n",
       "                                              chunks  \\\n",
       "0  {0: {'entity': 'NA', 'content': '[(proc text) ...   \n",
       "1  {0: {'entity': 'NA', 'content': 'Mr Vikram Nai...   \n",
       "2  {0: {'entity': 'NA', 'content': 'Assoc Prof Wa...   \n",
       "3  {0: {'entity': 'NA', 'content': 'Ms Irene Quay...   \n",
       "4  {0: {'entity': 'NA', 'content': 'Mr Lim Biow C...   \n",
       "\n",
       "                                        parsed_convo  \\\n",
       "0  [{'content': '[(proc text) Debate resumed. (pr...   \n",
       "1  [{'content': 'Mr Vikram Nair asked the Ministe...   \n",
       "2  [{'content': 'Assoc Prof Walter Theseira asked...   \n",
       "3  [{'content': 'Ms Irene Quay Siew Ching asked t...   \n",
       "4  [{'content': 'Mr Lim Biow Chuan asked the Depu...   \n",
       "\n",
       "                                    persons_involved  \n",
       "0  [Mr Leon Perera, Mr K Shanmugam, Assoc Prof Wa...  \n",
       "1  [Dr Vivian Balakrishnan, The Minister for Fore...  \n",
       "2  [Ms Low Yen Ling, Ms Anthea Ong, Assoc Prof Wa...  \n",
       "3  [The Senior Minister of State for Health, Dr L...  \n",
       "4  [Ms Indranee Rajah, The Second Minister for Fi...  "
      ]
     },
     "execution_count": 93,
     "metadata": {},
     "output_type": "execute_result"
    }
   ],
   "source": [
    "mongo_df.head()"
   ]
  },
  {
   "cell_type": "code",
   "execution_count": 108,
   "metadata": {},
   "outputs": [
    {
     "data": {
      "text/plain": [
       "ObjectId('5d27eca6172d9aa762d4802f')"
      ]
     },
     "execution_count": 108,
     "metadata": {},
     "output_type": "execute_result"
    }
   ],
   "source": [
    "mongo_df['_id'][0]"
   ]
  },
  {
   "cell_type": "code",
   "execution_count": 113,
   "metadata": {},
   "outputs": [
    {
     "data": {
      "text/plain": [
       "<pymongo.results.UpdateResult at 0x228867208>"
      ]
     },
     "execution_count": 113,
     "metadata": {},
     "output_type": "execute_result"
    }
   ],
   "source": [
    "query = { \"_id\": mongo_df['_id'][0] }\n",
    "value = { \"$set\": {\"chunks\": json_util.dumps(mongo_df['chunks'][0]),\n",
    "                   \"parsed_convo\" : mongo_df['parsed_convo'][0],\n",
    "                   \"persons_involved\" : mongo_df['persons_involved'][0]}}\n",
    "\n",
    "\n",
    "articles.update_one(query,value)"
   ]
  },
  {
   "cell_type": "code",
   "execution_count": 127,
   "metadata": {},
   "outputs": [
    {
     "name": "stderr",
     "output_type": "stream",
     "text": [
      "9531it [00:24, 386.30it/s]\n"
     ]
    }
   ],
   "source": [
    "for row in tqdm(mongo_df.itertuples()):\n",
    "    query = { \"_id\" : row._1}\n",
    "    value = { \"$set\": { \"chunks\": json_util.dumps(row.chunks),\n",
    "                       \"parsed_convo\" : row.parsed_convo,\n",
    "                       \"persons_involved\" : row.persons_involved}}\n",
    "    articles.update_one(query,value)"
   ]
  },
  {
   "cell_type": "code",
   "execution_count": 128,
   "metadata": {},
   "outputs": [
    {
     "data": {
      "text/html": [
       "<div>\n",
       "<style scoped>\n",
       "    .dataframe tbody tr th:only-of-type {\n",
       "        vertical-align: middle;\n",
       "    }\n",
       "\n",
       "    .dataframe tbody tr th {\n",
       "        vertical-align: top;\n",
       "    }\n",
       "\n",
       "    .dataframe thead th {\n",
       "        text-align: right;\n",
       "    }\n",
       "</style>\n",
       "<table border=\"1\" class=\"dataframe\">\n",
       "  <thead>\n",
       "    <tr style=\"text-align: right;\">\n",
       "      <th></th>\n",
       "      <th>_id</th>\n",
       "      <th>article_text</th>\n",
       "      <th>chunks</th>\n",
       "      <th>cleaned_join</th>\n",
       "      <th>html_clean</th>\n",
       "      <th>parliament_num</th>\n",
       "      <th>parsed_convo</th>\n",
       "      <th>persons_involved</th>\n",
       "      <th>session_num</th>\n",
       "      <th>session_type</th>\n",
       "      <th>sitting_date</th>\n",
       "      <th>sitting_num</th>\n",
       "      <th>src_url</th>\n",
       "      <th>title</th>\n",
       "      <th>volume_num</th>\n",
       "    </tr>\n",
       "  </thead>\n",
       "  <tbody>\n",
       "    <tr>\n",
       "      <th>0</th>\n",
       "      <td>5d27eca6172d9aa762d4802f</td>\n",
       "      <td>&lt;p&gt;[(proc text) Debate resumed. (proc text)]&lt;/...</td>\n",
       "      <td>{\"0\": {\"entity\": \"NA\", \"content\": \"[(proc text...</td>\n",
       "      <td>[(proc text) Debate resumed. (proc text)]&lt;br/&gt;...</td>\n",
       "      <td>[[(proc text) Debate resumed. (proc text)], Mr...</td>\n",
       "      <td>13</td>\n",
       "      <td>[{'content': '[(proc text) Debate resumed. (pr...</td>\n",
       "      <td>[Mr Leon Perera, Mr K Shanmugam, Assoc Prof Wa...</td>\n",
       "      <td>2</td>\n",
       "      <td>SECOND READING BILLS</td>\n",
       "      <td>2019-05-08</td>\n",
       "      <td>105</td>\n",
       "      <td>https://sprs.parl.gov.sg/search/sprs3topic?rep...</td>\n",
       "      <td>PROTECTION FROM ONLINE FALSEHOODS AND MANIPULA...</td>\n",
       "      <td>94</td>\n",
       "    </tr>\n",
       "    <tr>\n",
       "      <th>1</th>\n",
       "      <td>5d27eca6172d9aa762d48030</td>\n",
       "      <td>&lt;p class=\"ql-align-justify\"&gt;4 &lt;strong&gt;Mr Vikra...</td>\n",
       "      <td>{\"0\": {\"entity\": \"NA\", \"content\": \"Mr Vikram N...</td>\n",
       "      <td>Mr Vikram Nair asked the Minister for Foreign ...</td>\n",
       "      <td>[Mr Vikram Nair asked the Minister for Foreign...</td>\n",
       "      <td>13</td>\n",
       "      <td>[{'content': 'Mr Vikram Nair asked the Ministe...</td>\n",
       "      <td>[Dr Vivian Balakrishnan, The Minister for Fore...</td>\n",
       "      <td>2</td>\n",
       "      <td>ORAL ANSWERS</td>\n",
       "      <td>2019-05-08</td>\n",
       "      <td>105</td>\n",
       "      <td>https://sprs.parl.gov.sg/search/sprs3topic?rep...</td>\n",
       "      <td>STATE OF BILATERAL RELATIONS WITH MALAYSIA FOL...</td>\n",
       "      <td>94</td>\n",
       "    </tr>\n",
       "    <tr>\n",
       "      <th>2</th>\n",
       "      <td>5d27eca6172d9aa762d48031</td>\n",
       "      <td>&lt;p class=\"ql-align-justify\"&gt;8 &lt;strong&gt;Assoc Pr...</td>\n",
       "      <td>{\"0\": {\"entity\": \"NA\", \"content\": \"Assoc Prof ...</td>\n",
       "      <td>Assoc Prof Walter Theseira asked the Minister ...</td>\n",
       "      <td>[Assoc Prof Walter Theseira asked the Minister...</td>\n",
       "      <td>13</td>\n",
       "      <td>[{'content': 'Assoc Prof Walter Theseira asked...</td>\n",
       "      <td>[Ms Low Yen Ling, Ms Anthea Ong, Assoc Prof Wa...</td>\n",
       "      <td>2</td>\n",
       "      <td>ORAL ANSWERS</td>\n",
       "      <td>2019-05-08</td>\n",
       "      <td>105</td>\n",
       "      <td>https://sprs.parl.gov.sg/search/sprs3topic?rep...</td>\n",
       "      <td>COMPANIES WITH MEASURES TO DEAL WITH WORKPLACE...</td>\n",
       "      <td>94</td>\n",
       "    </tr>\n",
       "    <tr>\n",
       "      <th>3</th>\n",
       "      <td>5d27eca6172d9aa762d48032</td>\n",
       "      <td>&lt;p&gt;5 &lt;strong&gt;Ms Irene Quay Siew Ching&lt;/strong&gt;...</td>\n",
       "      <td>{\"0\": {\"entity\": \"NA\", \"content\": \"Ms Irene Qu...</td>\n",
       "      <td>Ms Irene Quay Siew Ching asked the Minister fo...</td>\n",
       "      <td>[Ms Irene Quay Siew Ching asked the Minister f...</td>\n",
       "      <td>13</td>\n",
       "      <td>[{'content': 'Ms Irene Quay Siew Ching asked t...</td>\n",
       "      <td>[The Senior Minister of State for Health, Dr L...</td>\n",
       "      <td>2</td>\n",
       "      <td>ORAL ANSWERS</td>\n",
       "      <td>2019-05-08</td>\n",
       "      <td>105</td>\n",
       "      <td>https://sprs.parl.gov.sg/search/sprs3topic?rep...</td>\n",
       "      <td>REVIEW OF DRUG TESTING STANDARDS IN SINGAPORE ...</td>\n",
       "      <td>94</td>\n",
       "    </tr>\n",
       "    <tr>\n",
       "      <th>4</th>\n",
       "      <td>5d27eca6172d9aa762d48033</td>\n",
       "      <td>&lt;p class=\"ql-align-justify\"&gt;2 &lt;strong&gt;Mr Lim B...</td>\n",
       "      <td>{\"0\": {\"entity\": \"NA\", \"content\": \"Mr Lim Biow...</td>\n",
       "      <td>Mr Lim Biow Chuan asked the Deputy Prime Minis...</td>\n",
       "      <td>[Mr Lim Biow Chuan asked the Deputy Prime Mini...</td>\n",
       "      <td>13</td>\n",
       "      <td>[{'content': 'Mr Lim Biow Chuan asked the Depu...</td>\n",
       "      <td>[Ms Indranee Rajah, The Second Minister for Fi...</td>\n",
       "      <td>2</td>\n",
       "      <td>ORAL ANSWERS</td>\n",
       "      <td>2019-05-08</td>\n",
       "      <td>105</td>\n",
       "      <td>https://sprs.parl.gov.sg/search/sprs3topic?rep...</td>\n",
       "      <td>LIVING IN PRIVATE PROPERTIES BUT WITH NO DECLA...</td>\n",
       "      <td>94</td>\n",
       "    </tr>\n",
       "  </tbody>\n",
       "</table>\n",
       "</div>"
      ],
      "text/plain": [
       "                        _id  \\\n",
       "0  5d27eca6172d9aa762d4802f   \n",
       "1  5d27eca6172d9aa762d48030   \n",
       "2  5d27eca6172d9aa762d48031   \n",
       "3  5d27eca6172d9aa762d48032   \n",
       "4  5d27eca6172d9aa762d48033   \n",
       "\n",
       "                                        article_text  \\\n",
       "0  <p>[(proc text) Debate resumed. (proc text)]</...   \n",
       "1  <p class=\"ql-align-justify\">4 <strong>Mr Vikra...   \n",
       "2  <p class=\"ql-align-justify\">8 <strong>Assoc Pr...   \n",
       "3  <p>5 <strong>Ms Irene Quay Siew Ching</strong>...   \n",
       "4  <p class=\"ql-align-justify\">2 <strong>Mr Lim B...   \n",
       "\n",
       "                                              chunks  \\\n",
       "0  {\"0\": {\"entity\": \"NA\", \"content\": \"[(proc text...   \n",
       "1  {\"0\": {\"entity\": \"NA\", \"content\": \"Mr Vikram N...   \n",
       "2  {\"0\": {\"entity\": \"NA\", \"content\": \"Assoc Prof ...   \n",
       "3  {\"0\": {\"entity\": \"NA\", \"content\": \"Ms Irene Qu...   \n",
       "4  {\"0\": {\"entity\": \"NA\", \"content\": \"Mr Lim Biow...   \n",
       "\n",
       "                                        cleaned_join  \\\n",
       "0  [(proc text) Debate resumed. (proc text)]<br/>...   \n",
       "1  Mr Vikram Nair asked the Minister for Foreign ...   \n",
       "2  Assoc Prof Walter Theseira asked the Minister ...   \n",
       "3  Ms Irene Quay Siew Ching asked the Minister fo...   \n",
       "4  Mr Lim Biow Chuan asked the Deputy Prime Minis...   \n",
       "\n",
       "                                          html_clean  parliament_num  \\\n",
       "0  [[(proc text) Debate resumed. (proc text)], Mr...              13   \n",
       "1  [Mr Vikram Nair asked the Minister for Foreign...              13   \n",
       "2  [Assoc Prof Walter Theseira asked the Minister...              13   \n",
       "3  [Ms Irene Quay Siew Ching asked the Minister f...              13   \n",
       "4  [Mr Lim Biow Chuan asked the Deputy Prime Mini...              13   \n",
       "\n",
       "                                        parsed_convo  \\\n",
       "0  [{'content': '[(proc text) Debate resumed. (pr...   \n",
       "1  [{'content': 'Mr Vikram Nair asked the Ministe...   \n",
       "2  [{'content': 'Assoc Prof Walter Theseira asked...   \n",
       "3  [{'content': 'Ms Irene Quay Siew Ching asked t...   \n",
       "4  [{'content': 'Mr Lim Biow Chuan asked the Depu...   \n",
       "\n",
       "                                    persons_involved  session_num  \\\n",
       "0  [Mr Leon Perera, Mr K Shanmugam, Assoc Prof Wa...            2   \n",
       "1  [Dr Vivian Balakrishnan, The Minister for Fore...            2   \n",
       "2  [Ms Low Yen Ling, Ms Anthea Ong, Assoc Prof Wa...            2   \n",
       "3  [The Senior Minister of State for Health, Dr L...            2   \n",
       "4  [Ms Indranee Rajah, The Second Minister for Fi...            2   \n",
       "\n",
       "           session_type sitting_date  sitting_num  \\\n",
       "0  SECOND READING BILLS   2019-05-08          105   \n",
       "1          ORAL ANSWERS   2019-05-08          105   \n",
       "2          ORAL ANSWERS   2019-05-08          105   \n",
       "3          ORAL ANSWERS   2019-05-08          105   \n",
       "4          ORAL ANSWERS   2019-05-08          105   \n",
       "\n",
       "                                             src_url  \\\n",
       "0  https://sprs.parl.gov.sg/search/sprs3topic?rep...   \n",
       "1  https://sprs.parl.gov.sg/search/sprs3topic?rep...   \n",
       "2  https://sprs.parl.gov.sg/search/sprs3topic?rep...   \n",
       "3  https://sprs.parl.gov.sg/search/sprs3topic?rep...   \n",
       "4  https://sprs.parl.gov.sg/search/sprs3topic?rep...   \n",
       "\n",
       "                                               title  volume_num  \n",
       "0  PROTECTION FROM ONLINE FALSEHOODS AND MANIPULA...          94  \n",
       "1  STATE OF BILATERAL RELATIONS WITH MALAYSIA FOL...          94  \n",
       "2  COMPANIES WITH MEASURES TO DEAL WITH WORKPLACE...          94  \n",
       "3  REVIEW OF DRUG TESTING STANDARDS IN SINGAPORE ...          94  \n",
       "4  LIVING IN PRIVATE PROPERTIES BUT WITH NO DECLA...          94  "
      ]
     },
     "execution_count": 128,
     "metadata": {},
     "output_type": "execute_result"
    }
   ],
   "source": [
    "pd.DataFrame.from_records(articles.find()).head()"
   ]
  },
  {
   "cell_type": "code",
   "execution_count": 115,
   "metadata": {},
   "outputs": [],
   "source": [
    "new_df = pd.DataFrame.from_records(articles.find()).head()"
   ]
  },
  {
   "cell_type": "code",
   "execution_count": 126,
   "metadata": {},
   "outputs": [
    {
     "data": {
      "text/plain": [
       "'{\"0\": {\"entity\": \"NA\", \"content\": \"[(proc text) Debate resumed. (proc text)]\"}, \"1\": {\"entity\": \"Mr Deputy Speaker\", \"content\": \" Mr Png Eng Huat.6.57 pm\"}, \"2\": {\"entity\": \"Mr Png Eng Huat (Hougang)\"'"
      ]
     },
     "execution_count": 126,
     "metadata": {},
     "output_type": "execute_result"
    }
   ],
   "source": [
    "new_df.iloc[0].chunks[:200]"
   ]
  }
 ],
 "metadata": {
  "kernelspec": {
   "display_name": "Python 3",
   "language": "python",
   "name": "python3"
  },
  "language_info": {
   "codemirror_mode": {
    "name": "ipython",
    "version": 3
   },
   "file_extension": ".py",
   "mimetype": "text/x-python",
   "name": "python",
   "nbconvert_exporter": "python",
   "pygments_lexer": "ipython3",
   "version": "3.7.3"
  }
 },
 "nbformat": 4,
 "nbformat_minor": 2
}
