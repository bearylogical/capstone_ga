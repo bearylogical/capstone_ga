{
 "cells": [
  {
   "cell_type": "markdown",
   "metadata": {},
   "source": [
    "# 05 Topic Modelling\n",
    "\n",
    "Given that our corpus is currently not labelled, we would like to understand, based on the corpus, the distribution of terms associated in the corpus. The grouping of the terms by their likelihood of association can be obtained via the latent dirichlet allocation method. \n",
    "\n",
    "\n",
    "## Import Libraries"
   ]
  },
  {
   "cell_type": "code",
   "execution_count": 2,
   "metadata": {},
   "outputs": [],
   "source": [
    "import datetime\n",
    "import numpy as np\n",
    "import pandas as pd\n",
    "from datetime import date \n",
    "\n",
    "import matplotlib.pyplot as plt\n",
    "import seaborn as sns\n",
    "\n",
    "import pyLDAvis.gensim\n",
    "import pyLDAvis\n",
    "import pymongo \n",
    "import spacy\n",
    "import en_core_web_lg\n",
    "\n",
    "from tqdm import tqdm\n",
    "\n",
    "from bson.json_util import dumps"
   ]
  },
  {
   "cell_type": "markdown",
   "metadata": {},
   "source": [
    "## Import Corpus"
   ]
  },
  {
   "cell_type": "code",
   "execution_count": 9,
   "metadata": {},
   "outputs": [],
   "source": [
    "try:\n",
    "    client = pymongo.MongoClient(\"mongodb://localhost:27017/\")\n",
    "    client.server_info() # force connection on a request as the\n",
    "                         # connect=True parameter of MongoClient seems\n",
    "                         # to be useless here \n",
    "except pymongo.errors.ServerSelectionTimeoutError as err:\n",
    "    # do whatever you need\n",
    "    print(err)\n",
    "\n"
   ]
  },
  {
   "cell_type": "code",
   "execution_count": 10,
   "metadata": {},
   "outputs": [],
   "source": [
    "db = client[\"parliament\"]\n",
    "articles = db[\"articles\"]"
   ]
  },
  {
   "cell_type": "code",
   "execution_count": 11,
   "metadata": {},
   "outputs": [
    {
     "data": {
      "text/plain": [
       "'[(proc text) Debate resumed. (proc text)]<br/>Mr Deputy Speaker: Mr Png Eng Huat.6.57 pm<br/>Mr Png Eng Huat (Hougang): Sir, if this Bill is drafted solely to target the perpetrators of hate, violence, intolerance and disdain towards another race or religion, by all means, let us do it. We should never allow such people to propagate their vile ideologies in any form or manner. This world has no pl'"
      ]
     },
     "execution_count": 11,
     "metadata": {},
     "output_type": "execute_result"
    }
   ],
   "source": [
    "articles.find_one()['cleaned_join'][:400]"
   ]
  },
  {
   "cell_type": "code",
   "execution_count": 12,
   "metadata": {},
   "outputs": [],
   "source": [
    "mongo_df = pd.DataFrame.from_records(articles.find())"
   ]
  },
  {
   "cell_type": "code",
   "execution_count": 13,
   "metadata": {},
   "outputs": [
    {
     "data": {
      "text/html": [
       "<div>\n",
       "<style scoped>\n",
       "    .dataframe tbody tr th:only-of-type {\n",
       "        vertical-align: middle;\n",
       "    }\n",
       "\n",
       "    .dataframe tbody tr th {\n",
       "        vertical-align: top;\n",
       "    }\n",
       "\n",
       "    .dataframe thead th {\n",
       "        text-align: right;\n",
       "    }\n",
       "</style>\n",
       "<table border=\"1\" class=\"dataframe\">\n",
       "  <thead>\n",
       "    <tr style=\"text-align: right;\">\n",
       "      <th></th>\n",
       "      <th>_id</th>\n",
       "      <th>article_text</th>\n",
       "      <th>chunks</th>\n",
       "      <th>cleaned_join</th>\n",
       "      <th>html_clean</th>\n",
       "      <th>parliament_num</th>\n",
       "      <th>parsed_convo</th>\n",
       "      <th>persons_involved</th>\n",
       "      <th>session_num</th>\n",
       "      <th>session_type</th>\n",
       "      <th>sitting_date</th>\n",
       "      <th>sitting_num</th>\n",
       "      <th>src_url</th>\n",
       "      <th>title</th>\n",
       "      <th>volume_num</th>\n",
       "    </tr>\n",
       "  </thead>\n",
       "  <tbody>\n",
       "    <tr>\n",
       "      <th>0</th>\n",
       "      <td>5d27eca6172d9aa762d4802f</td>\n",
       "      <td>&lt;p&gt;[(proc text) Debate resumed. (proc text)]&lt;/...</td>\n",
       "      <td>{\"0\": {\"entity\": \"NA\", \"content\": \"[(proc text...</td>\n",
       "      <td>[(proc text) Debate resumed. (proc text)]&lt;br/&gt;...</td>\n",
       "      <td>[[(proc text) Debate resumed. (proc text)], Mr...</td>\n",
       "      <td>13</td>\n",
       "      <td>[{'content': '[(proc text) Debate resumed. (pr...</td>\n",
       "      <td>[Mr Leon Perera, Mr K Shanmugam, Assoc Prof Wa...</td>\n",
       "      <td>2</td>\n",
       "      <td>SECOND READING BILLS</td>\n",
       "      <td>2019-05-08</td>\n",
       "      <td>105</td>\n",
       "      <td>https://sprs.parl.gov.sg/search/sprs3topic?rep...</td>\n",
       "      <td>PROTECTION FROM ONLINE FALSEHOODS AND MANIPULA...</td>\n",
       "      <td>94</td>\n",
       "    </tr>\n",
       "    <tr>\n",
       "      <th>1</th>\n",
       "      <td>5d27eca6172d9aa762d48030</td>\n",
       "      <td>&lt;p class=\"ql-align-justify\"&gt;4 &lt;strong&gt;Mr Vikra...</td>\n",
       "      <td>{\"0\": {\"entity\": \"NA\", \"content\": \"Mr Vikram N...</td>\n",
       "      <td>Mr Vikram Nair asked the Minister for Foreign ...</td>\n",
       "      <td>[Mr Vikram Nair asked the Minister for Foreign...</td>\n",
       "      <td>13</td>\n",
       "      <td>[{'content': 'Mr Vikram Nair asked the Ministe...</td>\n",
       "      <td>[Dr Vivian Balakrishnan, The Minister for Fore...</td>\n",
       "      <td>2</td>\n",
       "      <td>ORAL ANSWERS</td>\n",
       "      <td>2019-05-08</td>\n",
       "      <td>105</td>\n",
       "      <td>https://sprs.parl.gov.sg/search/sprs3topic?rep...</td>\n",
       "      <td>STATE OF BILATERAL RELATIONS WITH MALAYSIA FOL...</td>\n",
       "      <td>94</td>\n",
       "    </tr>\n",
       "    <tr>\n",
       "      <th>2</th>\n",
       "      <td>5d27eca6172d9aa762d48031</td>\n",
       "      <td>&lt;p class=\"ql-align-justify\"&gt;8 &lt;strong&gt;Assoc Pr...</td>\n",
       "      <td>{\"0\": {\"entity\": \"NA\", \"content\": \"Assoc Prof ...</td>\n",
       "      <td>Assoc Prof Walter Theseira asked the Minister ...</td>\n",
       "      <td>[Assoc Prof Walter Theseira asked the Minister...</td>\n",
       "      <td>13</td>\n",
       "      <td>[{'content': 'Assoc Prof Walter Theseira asked...</td>\n",
       "      <td>[Ms Low Yen Ling, Ms Anthea Ong, Assoc Prof Wa...</td>\n",
       "      <td>2</td>\n",
       "      <td>ORAL ANSWERS</td>\n",
       "      <td>2019-05-08</td>\n",
       "      <td>105</td>\n",
       "      <td>https://sprs.parl.gov.sg/search/sprs3topic?rep...</td>\n",
       "      <td>COMPANIES WITH MEASURES TO DEAL WITH WORKPLACE...</td>\n",
       "      <td>94</td>\n",
       "    </tr>\n",
       "    <tr>\n",
       "      <th>3</th>\n",
       "      <td>5d27eca6172d9aa762d48032</td>\n",
       "      <td>&lt;p&gt;5 &lt;strong&gt;Ms Irene Quay Siew Ching&lt;/strong&gt;...</td>\n",
       "      <td>{\"0\": {\"entity\": \"NA\", \"content\": \"Ms Irene Qu...</td>\n",
       "      <td>Ms Irene Quay Siew Ching asked the Minister fo...</td>\n",
       "      <td>[Ms Irene Quay Siew Ching asked the Minister f...</td>\n",
       "      <td>13</td>\n",
       "      <td>[{'content': 'Ms Irene Quay Siew Ching asked t...</td>\n",
       "      <td>[The Senior Minister of State for Health, Dr L...</td>\n",
       "      <td>2</td>\n",
       "      <td>ORAL ANSWERS</td>\n",
       "      <td>2019-05-08</td>\n",
       "      <td>105</td>\n",
       "      <td>https://sprs.parl.gov.sg/search/sprs3topic?rep...</td>\n",
       "      <td>REVIEW OF DRUG TESTING STANDARDS IN SINGAPORE ...</td>\n",
       "      <td>94</td>\n",
       "    </tr>\n",
       "    <tr>\n",
       "      <th>4</th>\n",
       "      <td>5d27eca6172d9aa762d48033</td>\n",
       "      <td>&lt;p class=\"ql-align-justify\"&gt;2 &lt;strong&gt;Mr Lim B...</td>\n",
       "      <td>{\"0\": {\"entity\": \"NA\", \"content\": \"Mr Lim Biow...</td>\n",
       "      <td>Mr Lim Biow Chuan asked the Deputy Prime Minis...</td>\n",
       "      <td>[Mr Lim Biow Chuan asked the Deputy Prime Mini...</td>\n",
       "      <td>13</td>\n",
       "      <td>[{'content': 'Mr Lim Biow Chuan asked the Depu...</td>\n",
       "      <td>[Ms Indranee Rajah, The Second Minister for Fi...</td>\n",
       "      <td>2</td>\n",
       "      <td>ORAL ANSWERS</td>\n",
       "      <td>2019-05-08</td>\n",
       "      <td>105</td>\n",
       "      <td>https://sprs.parl.gov.sg/search/sprs3topic?rep...</td>\n",
       "      <td>LIVING IN PRIVATE PROPERTIES BUT WITH NO DECLA...</td>\n",
       "      <td>94</td>\n",
       "    </tr>\n",
       "  </tbody>\n",
       "</table>\n",
       "</div>"
      ],
      "text/plain": [
       "                        _id  \\\n",
       "0  5d27eca6172d9aa762d4802f   \n",
       "1  5d27eca6172d9aa762d48030   \n",
       "2  5d27eca6172d9aa762d48031   \n",
       "3  5d27eca6172d9aa762d48032   \n",
       "4  5d27eca6172d9aa762d48033   \n",
       "\n",
       "                                        article_text  \\\n",
       "0  <p>[(proc text) Debate resumed. (proc text)]</...   \n",
       "1  <p class=\"ql-align-justify\">4 <strong>Mr Vikra...   \n",
       "2  <p class=\"ql-align-justify\">8 <strong>Assoc Pr...   \n",
       "3  <p>5 <strong>Ms Irene Quay Siew Ching</strong>...   \n",
       "4  <p class=\"ql-align-justify\">2 <strong>Mr Lim B...   \n",
       "\n",
       "                                              chunks  \\\n",
       "0  {\"0\": {\"entity\": \"NA\", \"content\": \"[(proc text...   \n",
       "1  {\"0\": {\"entity\": \"NA\", \"content\": \"Mr Vikram N...   \n",
       "2  {\"0\": {\"entity\": \"NA\", \"content\": \"Assoc Prof ...   \n",
       "3  {\"0\": {\"entity\": \"NA\", \"content\": \"Ms Irene Qu...   \n",
       "4  {\"0\": {\"entity\": \"NA\", \"content\": \"Mr Lim Biow...   \n",
       "\n",
       "                                        cleaned_join  \\\n",
       "0  [(proc text) Debate resumed. (proc text)]<br/>...   \n",
       "1  Mr Vikram Nair asked the Minister for Foreign ...   \n",
       "2  Assoc Prof Walter Theseira asked the Minister ...   \n",
       "3  Ms Irene Quay Siew Ching asked the Minister fo...   \n",
       "4  Mr Lim Biow Chuan asked the Deputy Prime Minis...   \n",
       "\n",
       "                                          html_clean  parliament_num  \\\n",
       "0  [[(proc text) Debate resumed. (proc text)], Mr...              13   \n",
       "1  [Mr Vikram Nair asked the Minister for Foreign...              13   \n",
       "2  [Assoc Prof Walter Theseira asked the Minister...              13   \n",
       "3  [Ms Irene Quay Siew Ching asked the Minister f...              13   \n",
       "4  [Mr Lim Biow Chuan asked the Deputy Prime Mini...              13   \n",
       "\n",
       "                                        parsed_convo  \\\n",
       "0  [{'content': '[(proc text) Debate resumed. (pr...   \n",
       "1  [{'content': 'Mr Vikram Nair asked the Ministe...   \n",
       "2  [{'content': 'Assoc Prof Walter Theseira asked...   \n",
       "3  [{'content': 'Ms Irene Quay Siew Ching asked t...   \n",
       "4  [{'content': 'Mr Lim Biow Chuan asked the Depu...   \n",
       "\n",
       "                                    persons_involved  session_num  \\\n",
       "0  [Mr Leon Perera, Mr K Shanmugam, Assoc Prof Wa...            2   \n",
       "1  [Dr Vivian Balakrishnan, The Minister for Fore...            2   \n",
       "2  [Ms Low Yen Ling, Ms Anthea Ong, Assoc Prof Wa...            2   \n",
       "3  [The Senior Minister of State for Health, Dr L...            2   \n",
       "4  [Ms Indranee Rajah, The Second Minister for Fi...            2   \n",
       "\n",
       "           session_type sitting_date  sitting_num  \\\n",
       "0  SECOND READING BILLS   2019-05-08          105   \n",
       "1          ORAL ANSWERS   2019-05-08          105   \n",
       "2          ORAL ANSWERS   2019-05-08          105   \n",
       "3          ORAL ANSWERS   2019-05-08          105   \n",
       "4          ORAL ANSWERS   2019-05-08          105   \n",
       "\n",
       "                                             src_url  \\\n",
       "0  https://sprs.parl.gov.sg/search/sprs3topic?rep...   \n",
       "1  https://sprs.parl.gov.sg/search/sprs3topic?rep...   \n",
       "2  https://sprs.parl.gov.sg/search/sprs3topic?rep...   \n",
       "3  https://sprs.parl.gov.sg/search/sprs3topic?rep...   \n",
       "4  https://sprs.parl.gov.sg/search/sprs3topic?rep...   \n",
       "\n",
       "                                               title  volume_num  \n",
       "0  PROTECTION FROM ONLINE FALSEHOODS AND MANIPULA...          94  \n",
       "1  STATE OF BILATERAL RELATIONS WITH MALAYSIA FOL...          94  \n",
       "2  COMPANIES WITH MEASURES TO DEAL WITH WORKPLACE...          94  \n",
       "3  REVIEW OF DRUG TESTING STANDARDS IN SINGAPORE ...          94  \n",
       "4  LIVING IN PRIVATE PROPERTIES BUT WITH NO DECLA...          94  "
      ]
     },
     "execution_count": 13,
     "metadata": {},
     "output_type": "execute_result"
    }
   ],
   "source": [
    "mongo_df.head()"
   ]
  },
  {
   "cell_type": "code",
   "execution_count": 14,
   "metadata": {},
   "outputs": [
    {
     "data": {
      "text/plain": [
       "WRITTEN ANSWERS            4831\n",
       "ORAL ANSWERS               2451\n",
       "MOTIONS                     898\n",
       "SECOND READING BILLS        356\n",
       "BILLS INTRODUCED            299\n",
       "BUDGET                      208\n",
       "BILLS                       156\n",
       "PRESIDENT'S ADDRESS         138\n",
       "ASSENTS TO BILLS PASSED      67\n",
       "MINISTERIAL STATEMENTS       35\n",
       "ANNOUNCEMENT BY SPEAKER      26\n",
       "SPEAKER                      15\n",
       "CLARIFICATION                14\n",
       "MISCELLANEOUS                 8\n",
       "ADMINISTRATION OF OATHS       8\n",
       "ASSENT TO BILLS PASSED        6\n",
       "TRIBUTES                      6\n",
       "(BILL INTRODUCED              3\n",
       "PETITIONS                     3\n",
       "ADMINISTRATION OF OATH        2\n",
       "DEPUTY SPEAKER                1\n",
       "Name: session_type, dtype: int64"
      ]
     },
     "execution_count": 14,
     "metadata": {},
     "output_type": "execute_result"
    }
   ],
   "source": [
    "mongo_df.session_type.value_counts()"
   ]
  },
  {
   "cell_type": "markdown",
   "metadata": {},
   "source": [
    "## Tokenise Reviews"
   ]
  },
  {
   "cell_type": "code",
   "execution_count": 8,
   "metadata": {},
   "outputs": [
    {
     "data": {
      "text/plain": [
       "Index(['_id', 'article_text', 'cleaned_join', 'html_clean', 'parliament_num',\n",
       "       'session_num', 'session_type', 'sitting_date', 'sitting_num', 'src_url',\n",
       "       'title', 'volume_num'],\n",
       "      dtype='object')"
      ]
     },
     "execution_count": 8,
     "metadata": {},
     "output_type": "execute_result"
    }
   ],
   "source": [
    "mongo_df.columns"
   ]
  },
  {
   "cell_type": "code",
   "execution_count": 10,
   "metadata": {},
   "outputs": [
    {
     "data": {
      "text/html": [
       "<div>\n",
       "<style scoped>\n",
       "    .dataframe tbody tr th:only-of-type {\n",
       "        vertical-align: middle;\n",
       "    }\n",
       "\n",
       "    .dataframe tbody tr th {\n",
       "        vertical-align: top;\n",
       "    }\n",
       "\n",
       "    .dataframe thead th {\n",
       "        text-align: right;\n",
       "    }\n",
       "</style>\n",
       "<table border=\"1\" class=\"dataframe\">\n",
       "  <thead>\n",
       "    <tr style=\"text-align: right;\">\n",
       "      <th></th>\n",
       "      <th>_id</th>\n",
       "      <th>article_text</th>\n",
       "      <th>cleaned_join</th>\n",
       "      <th>html_clean</th>\n",
       "      <th>parliament_num</th>\n",
       "      <th>session_num</th>\n",
       "      <th>session_type</th>\n",
       "      <th>sitting_date</th>\n",
       "      <th>sitting_num</th>\n",
       "      <th>src_url</th>\n",
       "      <th>title</th>\n",
       "      <th>volume_num</th>\n",
       "    </tr>\n",
       "  </thead>\n",
       "  <tbody>\n",
       "    <tr>\n",
       "      <th>0</th>\n",
       "      <td>5d2340c5d46d0af6e74a4c64</td>\n",
       "      <td>&lt;p&gt;[(proc text) Debate resumed. (proc text)]&lt;/...</td>\n",
       "      <td>[(proc text) Debate resumed. (proc text)]&lt;br/&gt;...</td>\n",
       "      <td>[[(proc text) Debate resumed. (proc text)], Mr...</td>\n",
       "      <td>13</td>\n",
       "      <td>2</td>\n",
       "      <td>SECOND READING BILLS</td>\n",
       "      <td>2019-05-08</td>\n",
       "      <td>105</td>\n",
       "      <td>https://sprs.parl.gov.sg/search/sprs3topic?rep...</td>\n",
       "      <td>PROTECTION FROM ONLINE FALSEHOODS AND MANIPULA...</td>\n",
       "      <td>94</td>\n",
       "    </tr>\n",
       "    <tr>\n",
       "      <th>1</th>\n",
       "      <td>5d2340c5d46d0af6e74a4c65</td>\n",
       "      <td>&lt;p class=\"ql-align-justify\"&gt;4 &lt;strong&gt;Mr Vikra...</td>\n",
       "      <td>Mr Vikram Nair asked the Minister for Foreign ...</td>\n",
       "      <td>[Mr Vikram Nair asked the Minister for Foreign...</td>\n",
       "      <td>13</td>\n",
       "      <td>2</td>\n",
       "      <td>ORAL ANSWERS</td>\n",
       "      <td>2019-05-08</td>\n",
       "      <td>105</td>\n",
       "      <td>https://sprs.parl.gov.sg/search/sprs3topic?rep...</td>\n",
       "      <td>STATE OF BILATERAL RELATIONS WITH MALAYSIA FOL...</td>\n",
       "      <td>94</td>\n",
       "    </tr>\n",
       "    <tr>\n",
       "      <th>2</th>\n",
       "      <td>5d2340c5d46d0af6e74a4c66</td>\n",
       "      <td>&lt;p class=\"ql-align-justify\"&gt;8 &lt;strong&gt;Assoc Pr...</td>\n",
       "      <td>Assoc Prof Walter Theseira asked the Minister ...</td>\n",
       "      <td>[Assoc Prof Walter Theseira asked the Minister...</td>\n",
       "      <td>13</td>\n",
       "      <td>2</td>\n",
       "      <td>ORAL ANSWERS</td>\n",
       "      <td>2019-05-08</td>\n",
       "      <td>105</td>\n",
       "      <td>https://sprs.parl.gov.sg/search/sprs3topic?rep...</td>\n",
       "      <td>COMPANIES WITH MEASURES TO DEAL WITH WORKPLACE...</td>\n",
       "      <td>94</td>\n",
       "    </tr>\n",
       "    <tr>\n",
       "      <th>3</th>\n",
       "      <td>5d2340c5d46d0af6e74a4c67</td>\n",
       "      <td>&lt;p&gt;5 &lt;strong&gt;Ms Irene Quay Siew Ching&lt;/strong&gt;...</td>\n",
       "      <td>Ms Irene Quay Siew Ching asked the Minister fo...</td>\n",
       "      <td>[Ms Irene Quay Siew Ching asked the Minister f...</td>\n",
       "      <td>13</td>\n",
       "      <td>2</td>\n",
       "      <td>ORAL ANSWERS</td>\n",
       "      <td>2019-05-08</td>\n",
       "      <td>105</td>\n",
       "      <td>https://sprs.parl.gov.sg/search/sprs3topic?rep...</td>\n",
       "      <td>REVIEW OF DRUG TESTING STANDARDS IN SINGAPORE ...</td>\n",
       "      <td>94</td>\n",
       "    </tr>\n",
       "    <tr>\n",
       "      <th>4</th>\n",
       "      <td>5d2340c5d46d0af6e74a4c68</td>\n",
       "      <td>&lt;p class=\"ql-align-justify\"&gt;2 &lt;strong&gt;Mr Lim B...</td>\n",
       "      <td>Mr Lim Biow Chuan asked the Deputy Prime Minis...</td>\n",
       "      <td>[Mr Lim Biow Chuan asked the Deputy Prime Mini...</td>\n",
       "      <td>13</td>\n",
       "      <td>2</td>\n",
       "      <td>ORAL ANSWERS</td>\n",
       "      <td>2019-05-08</td>\n",
       "      <td>105</td>\n",
       "      <td>https://sprs.parl.gov.sg/search/sprs3topic?rep...</td>\n",
       "      <td>LIVING IN PRIVATE PROPERTIES BUT WITH NO DECLA...</td>\n",
       "      <td>94</td>\n",
       "    </tr>\n",
       "  </tbody>\n",
       "</table>\n",
       "</div>"
      ],
      "text/plain": [
       "                        _id  \\\n",
       "0  5d2340c5d46d0af6e74a4c64   \n",
       "1  5d2340c5d46d0af6e74a4c65   \n",
       "2  5d2340c5d46d0af6e74a4c66   \n",
       "3  5d2340c5d46d0af6e74a4c67   \n",
       "4  5d2340c5d46d0af6e74a4c68   \n",
       "\n",
       "                                        article_text  \\\n",
       "0  <p>[(proc text) Debate resumed. (proc text)]</...   \n",
       "1  <p class=\"ql-align-justify\">4 <strong>Mr Vikra...   \n",
       "2  <p class=\"ql-align-justify\">8 <strong>Assoc Pr...   \n",
       "3  <p>5 <strong>Ms Irene Quay Siew Ching</strong>...   \n",
       "4  <p class=\"ql-align-justify\">2 <strong>Mr Lim B...   \n",
       "\n",
       "                                        cleaned_join  \\\n",
       "0  [(proc text) Debate resumed. (proc text)]<br/>...   \n",
       "1  Mr Vikram Nair asked the Minister for Foreign ...   \n",
       "2  Assoc Prof Walter Theseira asked the Minister ...   \n",
       "3  Ms Irene Quay Siew Ching asked the Minister fo...   \n",
       "4  Mr Lim Biow Chuan asked the Deputy Prime Minis...   \n",
       "\n",
       "                                          html_clean  parliament_num  \\\n",
       "0  [[(proc text) Debate resumed. (proc text)], Mr...              13   \n",
       "1  [Mr Vikram Nair asked the Minister for Foreign...              13   \n",
       "2  [Assoc Prof Walter Theseira asked the Minister...              13   \n",
       "3  [Ms Irene Quay Siew Ching asked the Minister f...              13   \n",
       "4  [Mr Lim Biow Chuan asked the Deputy Prime Mini...              13   \n",
       "\n",
       "   session_num          session_type sitting_date  sitting_num  \\\n",
       "0            2  SECOND READING BILLS   2019-05-08          105   \n",
       "1            2          ORAL ANSWERS   2019-05-08          105   \n",
       "2            2          ORAL ANSWERS   2019-05-08          105   \n",
       "3            2          ORAL ANSWERS   2019-05-08          105   \n",
       "4            2          ORAL ANSWERS   2019-05-08          105   \n",
       "\n",
       "                                             src_url  \\\n",
       "0  https://sprs.parl.gov.sg/search/sprs3topic?rep...   \n",
       "1  https://sprs.parl.gov.sg/search/sprs3topic?rep...   \n",
       "2  https://sprs.parl.gov.sg/search/sprs3topic?rep...   \n",
       "3  https://sprs.parl.gov.sg/search/sprs3topic?rep...   \n",
       "4  https://sprs.parl.gov.sg/search/sprs3topic?rep...   \n",
       "\n",
       "                                               title  volume_num  \n",
       "0  PROTECTION FROM ONLINE FALSEHOODS AND MANIPULA...          94  \n",
       "1  STATE OF BILATERAL RELATIONS WITH MALAYSIA FOL...          94  \n",
       "2  COMPANIES WITH MEASURES TO DEAL WITH WORKPLACE...          94  \n",
       "3  REVIEW OF DRUG TESTING STANDARDS IN SINGAPORE ...          94  \n",
       "4  LIVING IN PRIVATE PROPERTIES BUT WITH NO DECLA...          94  "
      ]
     },
     "execution_count": 10,
     "metadata": {},
     "output_type": "execute_result"
    }
   ],
   "source": [
    "mongo_df.head()"
   ]
  },
  {
   "cell_type": "code",
   "execution_count": 21,
   "metadata": {},
   "outputs": [
    {
     "name": "stderr",
     "output_type": "stream",
     "text": [
      "/Users/syamil/anaconda3/envs/pivot/lib/python3.7/site-packages/nltk/decorators.py:68: DeprecationWarning: `formatargspec` is deprecated since Python 3.5. Use `signature` and the `Signature` object directly\n",
      "  regargs, varargs, varkwargs, defaults, formatvalue=lambda value: \"\"\n"
     ]
    }
   ],
   "source": [
    "import gensim\n",
    "from gensim.utils import simple_preprocess\n",
    "from nltk.corpus import stopwords\n",
    "stop_words = stopwords.words('english')\n",
    "\n",
    "def sent_to_words(sentences):\n",
    "    for sentence in sentences:\n",
    "        yield(gensim.utils.simple_preprocess(str(sentence), deacc=True))  # deacc=True removes punctuations\n",
    "\n",
    "def remove_stopwords(texts):\n",
    "    return [[word for word in simple_preprocess(str(doc)) if word not in stop_words] for doc in texts]\n",
    "\n",
    "def bigrams(words, bi_min=15, tri_min=10):\n",
    "    bigram = gensim.models.Phrases(words, min_count = bi_min)\n",
    "    bigram_mod = gensim.models.phrases.Phraser(bigram)\n",
    "    return bigram_mod\n",
    "    \n",
    "def get_corpus(df):\n",
    "    words = list(sent_to_words(df.cleaned_join))\n",
    "    words = remove_stopwords(words)\n",
    "    bigram_mod = bigrams(words)\n",
    "    bigram = [bigram_mod[review] for review in words]\n",
    "    id2word = gensim.corpora.Dictionary(bigram)\n",
    "    id2word.filter_extremes(no_below=10, no_above=0.35)\n",
    "    id2word.compactify()\n",
    "    corpus = [id2word.doc2bow(text) for text in bigram]\n",
    "    return corpus, id2word, bigram\n",
    "\n",
    "train_corpus, train_id2word, bigram_train = get_corpus(mongo_df)"
   ]
  },
  {
   "cell_type": "code",
   "execution_count": 19,
   "metadata": {},
   "outputs": [
    {
     "name": "stderr",
     "output_type": "stream",
     "text": [
      "/Users/syamil/anaconda3/envs/pivot/lib/python3.7/site-packages/smart_open/smart_open_lib.py:398: UserWarning: This function is deprecated, use smart_open.open instead. See the migration notes for details: https://github.com/RaRe-Technologies/smart_open/blob/master/README.rst#migrating-to-the-new-open-function\n",
      "  'See the migration notes for details: %s' % _MIGRATION_NOTES_URL\n",
      "/Users/syamil/anaconda3/envs/pivot/lib/python3.7/site-packages/smart_open/smart_open_lib.py:398: UserWarning: This function is deprecated, use smart_open.open instead. See the migration notes for details: https://github.com/RaRe-Technologies/smart_open/blob/master/README.rst#migrating-to-the-new-open-function\n",
      "  'See the migration notes for details: %s' % _MIGRATION_NOTES_URL\n"
     ]
    }
   ],
   "source": [
    "import warnings\n",
    "import logging # This allows for seeing if the model converges. A log file is created.\n",
    "logging.basicConfig(filename='lda_model.log', format='%(asctime)s : %(levelname)s : %(message)s', level=logging.INFO)\n",
    "\n",
    "with warnings.catch_warnings():\n",
    "    warnings.simplefilter('ignore')\n",
    "    lda_train = gensim.models.ldamulticore.LdaMulticore(\n",
    "                           corpus=train_corpus,\n",
    "                           num_topics=10,\n",
    "                           id2word=train_id2word,\n",
    "                           chunksize=100,\n",
    "                           workers=5, # Num. Processing Cores - 1\n",
    "                           passes=50,\n",
    "                           eval_every = 1,\n",
    "                           per_word_topics=True)\n",
    "lda_train.save('lda_train.model')"
   ]
  },
  {
   "cell_type": "code",
   "execution_count": 5,
   "metadata": {},
   "outputs": [
    {
     "name": "stderr",
     "output_type": "stream",
     "text": [
      "/Users/syamil/anaconda3/envs/pivot/lib/python3.7/site-packages/smart_open/smart_open_lib.py:398: UserWarning: This function is deprecated, use smart_open.open instead. See the migration notes for details: https://github.com/RaRe-Technologies/smart_open/blob/master/README.rst#migrating-to-the-new-open-function\n",
      "  'See the migration notes for details: %s' % _MIGRATION_NOTES_URL\n"
     ]
    }
   ],
   "source": [
    "from gensim.models.ldamodel import LdaModel\n",
    "\n",
    "model = LdaModel.load('lda_train.model')"
   ]
  },
  {
   "cell_type": "code",
   "execution_count": 20,
   "metadata": {},
   "outputs": [
    {
     "name": "stderr",
     "output_type": "stream",
     "text": [
      "/Users/syamil/anaconda3/envs/pivot/lib/python3.7/site-packages/pyLDAvis/_prepare.py:257: FutureWarning: Sorting because non-concatenation axis is not aligned. A future version\n",
      "of pandas will change to not sort by default.\n",
      "\n",
      "To accept the future behavior, pass 'sort=False'.\n",
      "\n",
      "To retain the current behavior and silence the warning, pass 'sort=True'.\n",
      "\n",
      "  return pd.concat([default_term_info] + list(topic_dfs))\n"
     ]
    },
    {
     "data": {
      "text/html": [
       "\n",
       "<link rel=\"stylesheet\" type=\"text/css\" href=\"https://cdn.rawgit.com/bmabey/pyLDAvis/files/ldavis.v1.0.0.css\">\n",
       "\n",
       "\n",
       "<div id=\"ldavis_el6575758672328567035389261\"></div>\n",
       "<script type=\"text/javascript\">\n",
       "\n",
       "var ldavis_el6575758672328567035389261_data = {\"mdsDat\": {\"x\": [0.0032957477049363145, 0.0964335772823222, -0.1579272819184821, 0.12457893083694116, 0.08191802490242386, 0.15457177642416295, -0.004387877634234276, -0.16538199361534361, -0.07805727766149097, -0.05504362632123555], \"y\": [0.09154280677331643, 0.03426289159385051, 0.11737149069449943, -0.05190851541016415, 0.06591103748635078, -0.0026100530042119526, 0.03200259065704927, -0.0030481334896329537, -0.01874247450521522, -0.26478164079584215], \"topics\": [1, 2, 3, 4, 5, 6, 7, 8, 9, 10], \"cluster\": [1, 1, 1, 1, 1, 1, 1, 1, 1, 1], \"Freq\": [21.565771102905273, 14.854328155517578, 10.805262565612793, 10.68991756439209, 9.454126358032227, 8.493563652038574, 8.286476135253906, 6.878953456878662, 5.158379554748535, 3.8132236003875732]}, \"tinfo\": {\"Category\": [\"Default\", \"Default\", \"Default\", \"Default\", \"Default\", \"Default\", \"Default\", \"Default\", \"Default\", \"Default\", \"Default\", \"Default\", \"Default\", \"Default\", \"Default\", \"Default\", \"Default\", \"Default\", \"Default\", \"Default\", \"Default\", \"Default\", \"Default\", \"Default\", \"Default\", \"Default\", \"Default\", \"Default\", \"Default\", \"Default\", \"Topic1\", \"Topic1\", \"Topic1\", \"Topic1\", \"Topic1\", \"Topic1\", \"Topic1\", \"Topic1\", \"Topic1\", \"Topic1\", \"Topic1\", \"Topic1\", \"Topic1\", \"Topic1\", \"Topic1\", \"Topic1\", \"Topic1\", \"Topic1\", \"Topic1\", \"Topic1\", \"Topic1\", \"Topic1\", \"Topic1\", \"Topic1\", \"Topic1\", \"Topic1\", \"Topic1\", \"Topic1\", \"Topic1\", \"Topic1\", \"Topic1\", \"Topic1\", \"Topic1\", \"Topic1\", \"Topic1\", \"Topic1\", \"Topic1\", \"Topic1\", \"Topic1\", \"Topic1\", \"Topic1\", \"Topic1\", \"Topic1\", \"Topic1\", \"Topic1\", \"Topic1\", \"Topic1\", \"Topic1\", \"Topic1\", \"Topic1\", \"Topic1\", \"Topic1\", \"Topic1\", \"Topic1\", \"Topic1\", \"Topic1\", \"Topic1\", \"Topic1\", \"Topic1\", \"Topic1\", \"Topic1\", \"Topic1\", \"Topic1\", \"Topic1\", \"Topic1\", \"Topic1\", \"Topic1\", \"Topic1\", \"Topic1\", \"Topic1\", \"Topic1\", \"Topic1\", \"Topic1\", \"Topic1\", \"Topic1\", \"Topic1\", \"Topic1\", \"Topic1\", \"Topic1\", \"Topic1\", \"Topic1\", \"Topic1\", \"Topic1\", \"Topic1\", \"Topic1\", \"Topic1\", \"Topic2\", \"Topic2\", \"Topic2\", \"Topic2\", \"Topic2\", \"Topic2\", \"Topic2\", \"Topic2\", \"Topic2\", \"Topic2\", \"Topic2\", \"Topic2\", \"Topic2\", \"Topic2\", \"Topic2\", \"Topic2\", \"Topic2\", \"Topic2\", \"Topic2\", \"Topic2\", \"Topic2\", \"Topic2\", \"Topic2\", \"Topic2\", \"Topic2\", \"Topic2\", \"Topic2\", \"Topic2\", \"Topic2\", \"Topic2\", \"Topic2\", \"Topic2\", \"Topic2\", \"Topic2\", \"Topic2\", \"Topic2\", \"Topic2\", \"Topic2\", \"Topic2\", \"Topic2\", \"Topic2\", \"Topic2\", \"Topic2\", \"Topic2\", \"Topic2\", \"Topic2\", \"Topic2\", \"Topic2\", \"Topic2\", \"Topic2\", \"Topic2\", \"Topic2\", \"Topic2\", \"Topic2\", \"Topic2\", \"Topic2\", \"Topic2\", \"Topic2\", \"Topic2\", \"Topic2\", \"Topic2\", \"Topic2\", \"Topic2\", \"Topic2\", \"Topic2\", \"Topic2\", \"Topic2\", \"Topic2\", \"Topic2\", \"Topic2\", \"Topic2\", \"Topic2\", \"Topic2\", \"Topic2\", \"Topic2\", \"Topic2\", \"Topic2\", \"Topic3\", \"Topic3\", \"Topic3\", \"Topic3\", \"Topic3\", \"Topic3\", \"Topic3\", \"Topic3\", \"Topic3\", \"Topic3\", \"Topic3\", \"Topic3\", \"Topic3\", \"Topic3\", \"Topic3\", \"Topic3\", \"Topic3\", \"Topic3\", \"Topic3\", \"Topic3\", \"Topic3\", \"Topic3\", \"Topic3\", \"Topic3\", \"Topic3\", \"Topic3\", \"Topic3\", \"Topic3\", \"Topic3\", \"Topic3\", \"Topic3\", \"Topic3\", \"Topic3\", \"Topic3\", \"Topic3\", \"Topic3\", \"Topic3\", \"Topic3\", \"Topic3\", \"Topic3\", \"Topic3\", \"Topic3\", \"Topic3\", \"Topic3\", \"Topic3\", \"Topic3\", \"Topic3\", \"Topic3\", \"Topic3\", \"Topic3\", \"Topic3\", \"Topic3\", \"Topic3\", \"Topic3\", \"Topic3\", \"Topic3\", \"Topic3\", \"Topic3\", \"Topic3\", \"Topic3\", \"Topic3\", \"Topic3\", \"Topic3\", \"Topic3\", \"Topic3\", \"Topic3\", \"Topic3\", \"Topic3\", \"Topic3\", \"Topic3\", \"Topic3\", \"Topic3\", \"Topic3\", \"Topic3\", \"Topic3\", \"Topic3\", \"Topic3\", \"Topic3\", \"Topic4\", \"Topic4\", \"Topic4\", \"Topic4\", \"Topic4\", \"Topic4\", \"Topic4\", \"Topic4\", \"Topic4\", \"Topic4\", \"Topic4\", \"Topic4\", \"Topic4\", \"Topic4\", \"Topic4\", \"Topic4\", \"Topic4\", \"Topic4\", \"Topic4\", \"Topic4\", \"Topic4\", \"Topic4\", \"Topic4\", \"Topic4\", \"Topic4\", \"Topic4\", \"Topic4\", \"Topic4\", \"Topic4\", \"Topic4\", \"Topic4\", \"Topic4\", \"Topic4\", \"Topic4\", \"Topic4\", \"Topic4\", \"Topic4\", \"Topic4\", \"Topic4\", \"Topic4\", \"Topic4\", \"Topic4\", \"Topic4\", \"Topic4\", \"Topic4\", \"Topic4\", \"Topic4\", \"Topic4\", \"Topic4\", \"Topic4\", \"Topic4\", \"Topic4\", \"Topic4\", \"Topic4\", \"Topic4\", \"Topic4\", \"Topic4\", \"Topic4\", \"Topic4\", \"Topic4\", \"Topic4\", \"Topic4\", \"Topic4\", \"Topic4\", \"Topic4\", \"Topic4\", \"Topic4\", \"Topic4\", \"Topic4\", \"Topic4\", \"Topic4\", \"Topic4\", \"Topic4\", \"Topic4\", \"Topic4\", \"Topic4\", \"Topic4\", \"Topic4\", \"Topic4\", \"Topic4\", \"Topic4\", \"Topic4\", \"Topic4\", \"Topic4\", \"Topic4\", \"Topic4\", \"Topic4\", \"Topic4\", \"Topic4\", \"Topic5\", \"Topic5\", \"Topic5\", \"Topic5\", \"Topic5\", \"Topic5\", \"Topic5\", \"Topic5\", \"Topic5\", \"Topic5\", \"Topic5\", \"Topic5\", \"Topic5\", \"Topic5\", \"Topic5\", \"Topic5\", \"Topic5\", \"Topic5\", \"Topic5\", \"Topic5\", \"Topic5\", \"Topic5\", \"Topic5\", \"Topic5\", \"Topic5\", \"Topic5\", \"Topic5\", \"Topic5\", \"Topic5\", \"Topic5\", \"Topic5\", \"Topic5\", \"Topic5\", \"Topic5\", \"Topic5\", \"Topic5\", \"Topic5\", \"Topic5\", \"Topic5\", \"Topic5\", \"Topic5\", \"Topic5\", \"Topic5\", \"Topic5\", \"Topic5\", \"Topic5\", \"Topic5\", \"Topic5\", \"Topic5\", \"Topic5\", \"Topic5\", \"Topic5\", \"Topic5\", \"Topic5\", \"Topic5\", \"Topic5\", \"Topic5\", \"Topic5\", \"Topic5\", \"Topic5\", \"Topic5\", \"Topic5\", \"Topic5\", \"Topic5\", \"Topic5\", \"Topic5\", \"Topic5\", \"Topic5\", \"Topic5\", \"Topic5\", \"Topic5\", \"Topic5\", \"Topic5\", \"Topic5\", \"Topic5\", \"Topic5\", \"Topic5\", \"Topic5\", \"Topic5\", \"Topic5\", \"Topic6\", \"Topic6\", \"Topic6\", \"Topic6\", \"Topic6\", \"Topic6\", \"Topic6\", \"Topic6\", \"Topic6\", \"Topic6\", \"Topic6\", \"Topic6\", \"Topic6\", \"Topic6\", \"Topic6\", \"Topic6\", \"Topic6\", \"Topic6\", \"Topic6\", \"Topic6\", \"Topic6\", \"Topic6\", \"Topic6\", \"Topic6\", \"Topic6\", \"Topic6\", \"Topic6\", \"Topic6\", \"Topic6\", \"Topic6\", \"Topic6\", \"Topic6\", \"Topic6\", \"Topic6\", \"Topic6\", \"Topic6\", \"Topic6\", \"Topic6\", \"Topic6\", \"Topic6\", \"Topic6\", \"Topic6\", \"Topic6\", \"Topic6\", \"Topic6\", \"Topic6\", \"Topic6\", \"Topic6\", \"Topic6\", \"Topic6\", \"Topic6\", \"Topic6\", \"Topic6\", \"Topic6\", \"Topic6\", \"Topic6\", \"Topic6\", \"Topic6\", \"Topic6\", \"Topic6\", \"Topic6\", \"Topic6\", \"Topic6\", \"Topic6\", \"Topic6\", \"Topic6\", \"Topic6\", \"Topic6\", \"Topic6\", \"Topic6\", \"Topic6\", \"Topic6\", \"Topic6\", \"Topic6\", \"Topic6\", \"Topic6\", \"Topic7\", \"Topic7\", \"Topic7\", \"Topic7\", \"Topic7\", \"Topic7\", \"Topic7\", \"Topic7\", \"Topic7\", \"Topic7\", \"Topic7\", \"Topic7\", \"Topic7\", \"Topic7\", \"Topic7\", \"Topic7\", \"Topic7\", \"Topic7\", \"Topic7\", \"Topic7\", \"Topic7\", \"Topic7\", \"Topic7\", \"Topic7\", \"Topic7\", \"Topic7\", \"Topic7\", \"Topic7\", \"Topic7\", \"Topic7\", \"Topic7\", \"Topic7\", \"Topic7\", \"Topic7\", \"Topic7\", \"Topic7\", \"Topic7\", \"Topic7\", \"Topic7\", \"Topic7\", \"Topic7\", \"Topic7\", \"Topic7\", \"Topic7\", \"Topic7\", \"Topic7\", \"Topic7\", \"Topic7\", \"Topic7\", \"Topic7\", \"Topic7\", \"Topic7\", \"Topic7\", \"Topic7\", \"Topic7\", \"Topic7\", \"Topic7\", \"Topic7\", \"Topic7\", \"Topic7\", \"Topic7\", \"Topic7\", \"Topic7\", \"Topic7\", \"Topic7\", \"Topic7\", \"Topic7\", \"Topic7\", \"Topic7\", \"Topic7\", \"Topic7\", \"Topic7\", \"Topic7\", \"Topic7\", \"Topic7\", \"Topic8\", \"Topic8\", \"Topic8\", \"Topic8\", \"Topic8\", \"Topic8\", \"Topic8\", \"Topic8\", \"Topic8\", \"Topic8\", \"Topic8\", \"Topic8\", \"Topic8\", \"Topic8\", \"Topic8\", \"Topic8\", \"Topic8\", \"Topic8\", \"Topic8\", \"Topic8\", \"Topic8\", \"Topic8\", \"Topic8\", \"Topic8\", \"Topic8\", \"Topic8\", \"Topic8\", \"Topic8\", \"Topic8\", \"Topic8\", \"Topic8\", \"Topic8\", \"Topic8\", \"Topic8\", \"Topic8\", \"Topic8\", \"Topic8\", \"Topic8\", \"Topic8\", \"Topic8\", \"Topic8\", \"Topic8\", \"Topic8\", \"Topic8\", \"Topic8\", \"Topic8\", \"Topic8\", \"Topic8\", \"Topic8\", \"Topic8\", \"Topic8\", \"Topic8\", \"Topic8\", \"Topic8\", \"Topic8\", \"Topic8\", \"Topic8\", \"Topic8\", \"Topic8\", \"Topic8\", \"Topic8\", \"Topic8\", \"Topic8\", \"Topic8\", \"Topic8\", \"Topic8\", \"Topic8\", \"Topic8\", \"Topic8\", \"Topic8\", \"Topic8\", \"Topic8\", \"Topic8\", \"Topic8\", \"Topic8\", \"Topic8\", \"Topic8\", \"Topic8\", \"Topic8\", \"Topic8\", \"Topic8\", \"Topic8\", \"Topic9\", \"Topic9\", \"Topic9\", \"Topic9\", \"Topic9\", \"Topic9\", \"Topic9\", \"Topic9\", \"Topic9\", \"Topic9\", \"Topic9\", \"Topic9\", \"Topic9\", \"Topic9\", \"Topic9\", \"Topic9\", \"Topic9\", \"Topic9\", \"Topic9\", \"Topic9\", \"Topic9\", \"Topic9\", \"Topic9\", \"Topic9\", \"Topic9\", \"Topic9\", \"Topic9\", \"Topic9\", \"Topic9\", \"Topic9\", \"Topic9\", \"Topic9\", \"Topic9\", \"Topic9\", \"Topic9\", \"Topic9\", \"Topic9\", \"Topic9\", \"Topic9\", \"Topic9\", \"Topic9\", \"Topic9\", \"Topic9\", \"Topic9\", \"Topic9\", \"Topic9\", \"Topic9\", \"Topic9\", \"Topic9\", \"Topic9\", \"Topic9\", \"Topic9\", \"Topic9\", \"Topic9\", \"Topic9\", \"Topic9\", \"Topic9\", \"Topic9\", \"Topic9\", \"Topic9\", \"Topic9\", \"Topic9\", \"Topic9\", \"Topic9\", \"Topic9\", \"Topic9\", \"Topic9\", \"Topic9\", \"Topic9\", \"Topic9\", \"Topic9\", \"Topic9\", \"Topic9\", \"Topic9\", \"Topic9\", \"Topic10\", \"Topic10\", \"Topic10\", \"Topic10\", \"Topic10\", \"Topic10\", \"Topic10\", \"Topic10\", \"Topic10\", \"Topic10\", \"Topic10\", \"Topic10\", \"Topic10\", \"Topic10\", \"Topic10\", \"Topic10\", \"Topic10\", \"Topic10\", \"Topic10\", \"Topic10\", \"Topic10\", \"Topic10\", \"Topic10\", \"Topic10\", \"Topic10\", \"Topic10\", \"Topic10\", \"Topic10\", \"Topic10\", \"Topic10\", \"Topic10\", \"Topic10\", \"Topic10\", \"Topic10\", \"Topic10\", \"Topic10\", \"Topic10\", \"Topic10\", \"Topic10\", \"Topic10\", \"Topic10\", \"Topic10\", \"Topic10\", \"Topic10\", \"Topic10\", \"Topic10\", \"Topic10\", \"Topic10\", \"Topic10\", \"Topic10\", \"Topic10\", \"Topic10\", \"Topic10\", \"Topic10\", \"Topic10\", \"Topic10\", \"Topic10\", \"Topic10\", \"Topic10\", \"Topic10\", \"Topic10\", \"Topic10\", \"Topic10\", \"Topic10\", \"Topic10\", \"Topic10\", \"Topic10\", \"Topic10\", \"Topic10\", \"Topic10\", \"Topic10\", \"Topic10\", \"Topic10\", \"Topic10\", \"Topic10\", \"Topic10\", \"Topic10\", \"Topic10\", \"Topic10\", \"Topic10\", \"Topic10\"], \"Freq\": [11819.0, 13129.0, 10228.0, 12536.0, 15202.0, 7220.0, 9031.0, 11022.0, 5191.0, 6737.0, 6363.0, 9388.0, 6952.0, 17870.0, 7046.0, 15020.0, 16600.0, 4475.0, 33441.0, 19722.0, 3919.0, 19552.0, 3748.0, 5903.0, 5818.0, 6372.0, 24047.0, 7781.0, 4661.0, 5347.0, 1099.042724609375, 896.2801513671875, 681.4205322265625, 586.9857177734375, 559.6182250976562, 494.096923828125, 490.0368957519531, 433.55450439453125, 418.2018127441406, 366.58758544921875, 330.7042236328125, 325.45819091796875, 288.84918212890625, 285.2715759277344, 260.9044189453125, 255.402587890625, 252.8358917236328, 246.53504943847656, 241.77120971679688, 229.49464416503906, 227.14585876464844, 223.68601989746094, 222.85264587402344, 219.65701293945312, 207.3365020751953, 206.2060089111328, 206.0889434814453, 201.52243041992188, 200.1675262451172, 198.51205444335938, 689.81396484375, 925.091796875, 2791.48046875, 1003.0994262695312, 470.1803894042969, 2223.2919921875, 320.785888671875, 806.044677734375, 2604.537109375, 2693.823974609375, 15286.5478515625, 1370.599365234375, 832.951171875, 538.8136596679688, 5974.5126953125, 1232.4217529296875, 2513.01806640625, 2529.969482421875, 2567.28369140625, 1987.4630126953125, 1714.5753173828125, 1088.1629638671875, 3099.245849609375, 4771.939453125, 9381.0537109375, 10720.171875, 3961.41796875, 3938.6640625, 4158.10595703125, 2812.34521484375, 8673.16015625, 5231.41943359375, 3931.53173828125, 2414.158935546875, 10858.611328125, 13808.25, 7532.3994140625, 5819.017578125, 11670.4931640625, 3806.3173828125, 11651.033203125, 4380.49609375, 4630.71923828125, 8479.4189453125, 5377.0673828125, 7065.13720703125, 5173.73046875, 4247.6982421875, 4249.20263671875, 6483.9755859375, 5181.89453125, 3849.037353515625, 5280.16015625, 4566.29345703125, 4080.632080078125, 3988.418701171875, 1971.1856689453125, 1710.1348876953125, 1501.4835205078125, 1370.076171875, 1244.239013671875, 1119.672607421875, 951.7259521484375, 796.7317504882812, 677.2874755859375, 635.3203125, 548.9246826171875, 532.1317749023438, 518.9715576171875, 506.64288330078125, 480.2923278808594, 441.7835388183594, 428.87957763671875, 419.7262878417969, 398.5482482910156, 391.9609375, 381.9076232910156, 333.0809020996094, 325.9421081542969, 314.0069274902344, 303.7888488769531, 283.5164489746094, 269.3296203613281, 256.7379150390625, 255.314208984375, 237.86883544921875, 497.4673767089844, 12311.708984375, 5538.18017578125, 661.1936645507812, 5599.4716796875, 5681.77197265625, 751.1878662109375, 1155.7674560546875, 2191.4169921875, 3655.935791015625, 1084.6070556640625, 2365.719482421875, 2511.3505859375, 1222.079833984375, 790.4014282226562, 1259.4078369140625, 3139.04736328125, 960.8667602539062, 2629.771240234375, 2507.512451171875, 1682.0155029296875, 3662.600341796875, 7747.48828125, 2312.981201171875, 7762.86572265625, 9751.7451171875, 6321.9951171875, 2807.92919921875, 3943.59326171875, 3034.0625, 5831.32861328125, 4317.43212890625, 3022.9736328125, 1665.3079833984375, 2438.92822265625, 2910.035888671875, 2778.961181640625, 4744.27978515625, 3434.01416015625, 3964.804931640625, 4815.55859375, 3931.307861328125, 4177.89697265625, 3799.5517578125, 3489.45751953125, 2727.259765625, 2604.077392578125, 2023.8250732421875, 1500.9285888671875, 745.544189453125, 570.08935546875, 568.5164184570312, 566.2476806640625, 511.54913330078125, 438.27227783203125, 436.8540344238281, 420.43505859375, 397.40216064453125, 387.3753662109375, 386.1340026855469, 366.3401794433594, 364.6065673828125, 361.4771728515625, 348.8439636230469, 333.5614013671875, 326.9203186035156, 315.6708984375, 314.5153503417969, 314.1031799316406, 313.8943176269531, 312.6726379394531, 305.1198425292969, 289.3163757324219, 274.8605041503906, 272.7796325683594, 240.3943328857422, 243.19371032714844, 1141.537841796875, 1826.136474609375, 446.0059814453125, 593.1110229492188, 9752.0146484375, 1672.1119384765625, 481.6448059082031, 2884.609375, 959.8113403320312, 679.9187622070312, 2816.939697265625, 942.4555053710938, 3061.703369140625, 1673.0333251953125, 5603.83984375, 3109.706298828125, 1750.4979248046875, 6928.8388671875, 1447.270751953125, 1491.024169921875, 1266.751220703125, 1340.6690673828125, 1432.6839599609375, 944.2750854492188, 1592.46923828125, 1676.382080078125, 3144.848876953125, 1276.4830322265625, 1299.2457275390625, 6747.5419921875, 2189.822265625, 2607.39404296875, 2095.51806640625, 2036.935546875, 2062.466552734375, 2839.45703125, 2015.5628662109375, 2271.413330078125, 2324.1083984375, 2460.2421875, 2538.673828125, 2357.303466796875, 2168.779052734375, 2275.9599609375, 2183.479248046875, 1840.8612060546875, 1919.7969970703125, 1777.31201171875, 842.8546752929688, 420.6231384277344, 383.7193908691406, 355.5980224609375, 284.224609375, 267.1259765625, 210.53488159179688, 202.55865478515625, 186.3599090576172, 182.97364807128906, 174.3867950439453, 165.84405517578125, 165.72454833984375, 176.1457977294922, 150.62388610839844, 145.2842254638672, 144.0913848876953, 140.6294708251953, 140.23294067382812, 285.13458251953125, 130.42552185058594, 129.2200164794922, 127.3715591430664, 126.51168060302734, 117.53836059570312, 116.95670318603516, 116.67743682861328, 123.78934478759766, 114.76248931884766, 117.05931091308594, 351.86322021484375, 446.3375549316406, 543.808349609375, 990.3019409179688, 611.2996215820312, 834.7333374023438, 325.40777587890625, 929.832763671875, 503.8227233886719, 706.0298461914062, 325.2107238769531, 500.7286376953125, 285.45794677734375, 207.27236938476562, 2640.49658203125, 944.772705078125, 542.7285766601562, 1578.9681396484375, 546.229248046875, 552.3773193359375, 3134.763916015625, 4776.0458984375, 936.6890258789062, 1633.723388671875, 867.9231567382812, 3483.043701171875, 2001.1949462890625, 1949.0238037109375, 5954.548828125, 3140.454833984375, 3124.0126953125, 2530.092529296875, 1385.5518798828125, 2421.774169921875, 1545.62548828125, 3834.78076171875, 2448.486083984375, 1641.1124267578125, 6202.06884765625, 1531.9500732421875, 2517.0927734375, 1596.70068359375, 1219.8131103515625, 5571.939453125, 4146.8134765625, 3660.396484375, 2365.12939453125, 1912.2476806640625, 2169.41943359375, 2516.531494140625, 2628.35791015625, 1991.9080810546875, 1695.276611328125, 2209.2421875, 2239.185546875, 2222.076171875, 2142.67529296875, 2032.7264404296875, 1895.7789306640625, 1272.461181640625, 709.3690185546875, 704.2105712890625, 537.9440307617188, 505.2343444824219, 483.55767822265625, 459.5364685058594, 456.5418395996094, 430.1344909667969, 380.2947998046875, 367.37957763671875, 344.3245849609375, 342.01715087890625, 339.60870361328125, 328.6451110839844, 312.60028076171875, 304.8081970214844, 300.07391357421875, 299.3939514160156, 290.9427490234375, 290.4518127441406, 275.6673278808594, 272.1075134277344, 224.59503173828125, 223.07077026367188, 218.22933959960938, 212.0316619873047, 203.1901092529297, 196.96632385253906, 194.4577178955078, 4446.70458984375, 765.8573608398438, 580.8170166015625, 515.5323486328125, 1297.160888671875, 1410.994873046875, 2058.198486328125, 768.2828979492188, 443.0607604980469, 1281.49462890625, 773.080810546875, 506.34088134765625, 1311.4815673828125, 7414.92578125, 1339.3172607421875, 1134.3896484375, 3880.36376953125, 3319.665771484375, 2681.2509765625, 4347.076171875, 759.2510986328125, 796.7869873046875, 2400.787841796875, 3080.54833984375, 4142.23291015625, 5848.79052734375, 3891.32763671875, 1358.378662109375, 744.1975708007812, 1451.6309814453125, 3162.075927734375, 1532.1097412109375, 4955.3271484375, 1912.033447265625, 3249.307861328125, 2328.183837890625, 4783.78857421875, 3475.6162109375, 2710.927490234375, 3884.685546875, 3917.09375, 2634.25048828125, 2188.139892578125, 2353.453369140625, 2056.649658203125, 1741.14794921875, 2074.318115234375, 2076.9091796875, 2050.310791015625, 1787.353759765625, 3030.5927734375, 961.0048828125, 843.0952758789062, 711.4705810546875, 646.084716796875, 607.8387451171875, 527.6025390625, 516.9667358398438, 458.90362548828125, 428.17578125, 424.5281982421875, 396.6578063964844, 378.8677062988281, 378.8392028808594, 343.6072692871094, 341.6266784667969, 335.1455078125, 321.82879638671875, 315.2369079589844, 314.6307067871094, 305.1902770996094, 267.5998840332031, 257.17578125, 248.78016662597656, 243.5104217529297, 234.2308807373047, 219.4363555908203, 216.1631317138672, 216.1668243408203, 194.2128143310547, 11682.689453125, 3898.75927734375, 1125.822998046875, 6816.4921875, 797.1197509765625, 603.2468872070312, 2952.233642578125, 5775.34375, 2230.7607421875, 1479.797119140625, 1428.305908203125, 413.0194091796875, 2915.5673828125, 658.41943359375, 602.7777099609375, 1018.6141357421875, 7514.85400390625, 528.2301635742188, 955.5929565429688, 1624.9072265625, 781.8860473632812, 826.732421875, 990.379638671875, 3485.567138671875, 3048.268310546875, 1245.284423828125, 3833.326171875, 4164.12646484375, 2507.202880859375, 1836.221435546875, 3548.09033203125, 2118.46484375, 1022.7857055664062, 2071.87890625, 2198.193115234375, 2260.868408203125, 2228.726806640625, 1397.8023681640625, 1600.5118408203125, 1520.970458984375, 1888.1363525390625, 1573.8541259765625, 1398.591064453125, 1542.03857421875, 1525.126953125, 1451.623779296875, 3747.68359375, 1735.440673828125, 961.9923706054688, 906.8316040039062, 774.4796142578125, 724.4696044921875, 648.5804443359375, 605.8258666992188, 600.4291381835938, 479.02203369140625, 433.05078125, 430.0815734863281, 427.3919677734375, 394.806396484375, 382.0044250488281, 348.0252990722656, 335.7734680175781, 330.5977478027344, 326.6316223144531, 308.6817932128906, 297.958984375, 291.1836242675781, 273.3853759765625, 265.3321838378906, 253.91342163085938, 250.88235473632812, 236.56076049804688, 230.37612915039062, 226.94891357421875, 221.86260986328125, 1364.6611328125, 3294.154541015625, 2564.3125, 760.1961059570312, 627.328857421875, 5982.63916015625, 1357.901611328125, 750.9017333984375, 401.08642578125, 1372.5858154296875, 2281.832275390625, 727.3734130859375, 536.4761352539062, 676.5130004882812, 962.0750122070312, 994.7831420898438, 1827.613037109375, 985.8388671875, 1694.27685546875, 714.2295532226562, 1887.569580078125, 1791.806640625, 691.5347290039062, 910.8765258789062, 2581.61865234375, 3723.890869140625, 896.7412109375, 921.2281494140625, 2726.843994140625, 3117.634765625, 1322.7991943359375, 2021.7100830078125, 1538.7889404296875, 1342.64013671875, 1564.51953125, 1492.3662109375, 1904.7396240234375, 1256.4830322265625, 1487.0869140625, 1492.4141845703125, 1413.9522705078125, 1498.33447265625, 1494.344482421875, 1391.4488525390625, 1363.7845458984375, 742.427978515625, 601.3598022460938, 517.893310546875, 374.04083251953125, 367.5007019042969, 301.864501953125, 299.5986633300781, 295.9386901855469, 284.671142578125, 257.6395263671875, 257.3104553222656, 250.17286682128906, 244.668212890625, 235.45225524902344, 234.6276092529297, 234.6118927001953, 229.2615203857422, 223.15090942382812, 221.49876403808594, 217.24801635742188, 213.524658203125, 207.89462280273438, 206.61463928222656, 202.32638549804688, 198.213623046875, 197.42593383789062, 187.1802215576172, 183.10293579101562, 182.46604919433594, 168.08840942382812, 5156.97998046875, 462.17742919921875, 403.1189270019531, 1382.188720703125, 497.54510498046875, 883.0203857421875, 701.6682739257812, 1147.6689453125, 536.0711059570312, 1653.951416015625, 930.2457275390625, 584.1961059570312, 762.984375, 604.6463012695312, 487.0592956542969, 306.12054443359375, 569.0175170898438, 479.1757507324219, 423.51043701171875, 962.7598266601562, 510.70068359375, 1119.8348388671875, 1094.8363037109375, 1216.394775390625, 684.7619018554688, 1020.8714599609375, 2505.293701171875, 803.8408203125, 837.7088623046875, 2221.94677734375, 1840.634765625, 772.30908203125, 2448.629150390625, 3135.2978515625, 963.4977416992188, 1115.737548828125, 1451.2183837890625, 1577.595947265625, 1479.6199951171875, 1540.508544921875, 1139.0489501953125, 1505.103759765625, 1322.540283203125, 1089.353271484375, 1083.91357421875, 1266.5648193359375, 1111.6953125, 1250.800048828125, 1402.8192138671875, 1186.638427734375, 1061.9305419921875, 1035.6990966796875, 2603.348388671875, 738.5848999023438, 716.669189453125, 704.9421997070312, 522.1187744140625, 1052.4322509765625, 287.94097900390625, 254.7509307861328, 254.3651123046875, 251.53439331054688, 228.21533203125, 227.13082885742188, 212.25929260253906, 209.0043182373047, 202.4232177734375, 433.6197814941406, 190.71380615234375, 645.982177734375, 174.44754028320312, 173.8468780517578, 156.8441619873047, 153.18263244628906, 152.55323791503906, 152.21800231933594, 151.91799926757812, 151.10919189453125, 151.05087280273438, 150.23776245117188, 150.073486328125, 146.521728515625, 378.6760559082031, 293.84759521484375, 222.11798095703125, 1289.0406494140625, 760.8389282226562, 346.7320861816406, 402.4095764160156, 1699.464111328125, 866.0192260742188, 2650.927490234375, 527.7151489257812, 609.5316162109375, 746.8265380859375, 325.42657470703125, 357.1989440917969, 1594.7452392578125, 457.7331237792969, 574.4589233398438, 833.3724975585938, 976.5996704101562, 620.6638793945312, 511.6704406738281, 646.7212524414062, 566.4990844726562, 548.9030151367188, 1799.906005859375, 2453.648193359375, 1233.2999267578125, 772.8552856445312, 978.4984130859375, 1475.6240234375, 1286.857666015625, 997.1942749023438, 963.8062133789062, 902.5371704101562, 1075.238525390625, 1197.140625, 958.9631958007812, 1016.8251953125, 753.3311767578125, 924.6651000976562, 868.0126953125, 790.0142211914062, 761.5584716796875, 757.9386596679688, 684.0658569335938, 269.731201171875, 234.69969177246094, 212.864990234375, 2309.625732421875, 184.33450317382812, 172.36019897460938, 161.10198974609375, 158.2908935546875, 157.12855529785156, 156.83583068847656, 155.5994415283203, 155.0307159423828, 149.56610107421875, 141.04251098632812, 138.67994689941406, 134.05909729003906, 132.83961486816406, 128.71353149414062, 119.23361206054688, 118.70623779296875, 398.2989196777344, 114.85763549804688, 101.72494506835938, 97.13874053955078, 96.7118148803711, 96.41334533691406, 96.08280181884766, 95.49649810791016, 94.15216827392578, 567.6586303710938, 2305.475341796875, 253.6159210205078, 1115.7049560546875, 378.1146240234375, 1116.1495361328125, 286.0711669921875, 645.794921875, 1783.7940673828125, 336.5666809082031, 793.1748046875, 1861.29052734375, 371.7490234375, 189.67640686035156, 333.8188171386719, 244.33642578125, 320.80499267578125, 635.998291015625, 321.3021545410156, 520.4819946289062, 988.99609375, 435.1573181152344, 1124.70556640625, 272.3748779296875, 457.9220275878906, 417.62078857421875, 476.2193603515625, 946.835693359375, 1842.265625, 508.4519348144531, 1568.7752685546875, 540.05908203125, 1352.627197265625, 1241.01708984375, 1243.854248046875, 1279.58056640625, 1566.0035400390625, 695.3936157226562, 1261.5091552734375, 541.7626342773438, 553.232421875, 487.2028503417969, 669.6624145507812, 737.00244140625, 678.4423217773438, 586.0347290039062, 631.0081787109375, 615.1050415039062, 605.8214721679688, 584.6753540039062, 586.7445678710938], \"Term\": [\"students\", \"workers\", \"bill\", \"children\", \"companies\", \"schools\", \"care\", \"education\", \"police\", \"hdb\", \"school\", \"act\", \"law\", \"us\", \"parents\", \"community\", \"public\", \"patients\", \"government\", \"people\", \"moe\", \"support\", \"lta\", \"health\", \"employers\", \"jobs\", \"singaporeans\", \"family\", \"healthcare\", \"countries\", \"workers_party\", \"politics\", \"pap\", \"opposition\", \"elections\", \"elected\", \"support_motion\", \"right_vote\", \"voters\", \"democracy\", \"cabinet\", \"happiness\", \"political_parties\", \"political_system\", \"sacrifice\", \"nmps\", \"politicians\", \"elected_president\", \"kuan_yew\", \"ncmps\", \"racial\", \"president_address\", \"falsehoods\", \"general_election\", \"regardless_race\", \"voices\", \"cpa\", \"elected_presidency\", \"prof_thio\", \"general_elections\", \"white_paper\", \"election\", \"political\", \"ministers\", \"speeches\", \"president\", \"wrote\", \"yesterday\", \"debate\", \"nation\", \"people\", \"never\", \"mr_lee\", \"motion\", \"said\", \"mps\", \"speech\", \"things\", \"parliament\", \"let_us\", \"views\", \"saying\", \"country\", \"society\", \"think\", \"us\", \"believe\", \"house\", \"say\", \"always\", \"must\", \"know\", \"world\", \"feel\", \"singaporeans\", \"government\", \"even\", \"want\", \"one\", \"cannot\", \"would\", \"much\", \"way\", \"need\", \"like\", \"sir\", \"good\", \"today\", \"see\", \"time\", \"make\", \"hope\", \"first\", \"could\", \"important\", \"take\", \"jobs_credit\", \"wages\", \"recession\", \"low_wage\", \"wage\", \"older_workers\", \"pmets\", \"pmes\", \"tripartite_partners\", \"economic_downturn\", \"wis\", \"retrenched\", \"resilience_package\", \"foreign_manpower\", \"workfare\", \"singaporean_workers\", \"economic_crisis\", \"labour_market\", \"mr_yeo\", \"retrenchment\", \"save_jobs\", \"workfare_income\", \"retrenchments\", \"minimum_wage\", \"foreign_labour\", \"refer_toappendix\", \"construction_sector\", \"foreign_workforce\", \"personal_income\", \"job_losses\", \"unemployment\", \"workers\", \"employers\", \"unemployed\", \"budget\", \"jobs\", \"finance_minister\", \"employer\", \"mom\", \"employment\", \"salary\", \"workforce\", \"employees\", \"downturn\", \"year_budget\", \"worker\", \"job\", \"labour\", \"foreign_workers\", \"productivity\", \"reserves\", \"economy\", \"companies\", \"income\", \"help\", \"government\", \"work\", \"growth\", \"scheme\", \"businesses\", \"singaporeans\", \"year\", \"training\", \"cpf\", \"pay\", \"measures\", \"increase\", \"need\", \"better\", \"support\", \"would\", \"time\", \"one\", \"sir\", \"new\", \"must\", \"years\", \"clause\", \"support_bill\", \"clause_bill\", \"clauses\", \"new_section\", \"high_court\", \"legal_aid\", \"time_passed\", \"court_appeal\", \"read_second\", \"order_second\", \"bill_considered\", \"reading_read\", \"house_immediately\", \"law_society\", \"resolved_committee\", \"read_third\", \"accordingly_read\", \"move_question\", \"litigation\", \"move_bill\", \"registrar\", \"without_amendment\", \"committee_reported\", \"films_act\", \"committed_committee\", \"chief_justice\", \"legal_profession\", \"small_claims\", \"geok_choo\", \"amendment_bill\", \"proc_text\", \"judges\", \"proposed_amendments\", \"bill\", \"lawyers\", \"law_firms\", \"amendments\", \"mediation\", \"party_political\", \"section\", \"tribunal\", \"legal\", \"amendment\", \"law\", \"court\", \"films\", \"act\", \"courts\", \"provisions\", \"film\", \"rights\", \"parties\", \"compensation\", \"powers\", \"protection\", \"case\", \"provision\", \"practice\", \"would\", \"person\", \"cases\", \"information\", \"process\", \"allow\", \"public\", \"order\", \"made\", \"members\", \"make\", \"sir\", \"first\", \"ensure\", \"time\", \"one\", \"set\", \"new\", \"could\", \"ida\", \"ie_singapore\", \"nlb\", \"infocomm\", \"libraries\", \"penny_low\", \"tacs\", \"broadband\", \"psb\", \"clean_energy\", \"nuclear_energy\", \"pay_tv\", \"infocomm_media\", \"singpost\", \"govtech\", \"itms\", \"free_air\", \"tpp\", \"psb_programmes\", \"industry_transformation\", \"energy_management\", \"breast_cancer\", \"industrial_land\", \"solar_energy\", \"inderjit_singh\", \"opennet\", \"tourism_sector\", \"tourism_board\", \"sme_centres\", \"overseas_markets\", \"smart_nation\", \"mediacorp\", \"trade_industry\", \"digital\", \"start_ups\", \"mti\", \"lim_hng\", \"spring\", \"minister_trade\", \"mica\", \"trade_associations\", \"edb\", \"library\", \"translation\", \"technology\", \"technologies\", \"enterprise\", \"innovation\", \"jtc\", \"tourism\", \"smes\", \"industry\", \"hub\", \"capabilities\", \"enterprises\", \"sector\", \"global\", \"sectors\", \"companies\", \"businesses\", \"business\", \"develop\", \"mr_chairman\", \"opportunities\", \"consumers\", \"services\", \"growth\", \"infrastructure\", \"new\", \"projects\", \"local\", \"initiatives\", \"energy\", \"government\", \"help\", \"support\", \"development\", \"market\", \"programme\", \"example\", \"continue\", \"efforts\", \"million\", \"us\", \"need\", \"one\", \"singaporeans\", \"work\", \"public\", \"medishield_life\", \"nursing_homes\", \"medishield\", \"nursing_home\", \"eldershield\", \"minimum_sum\", \"dementia\", \"care_givers\", \"public_hospitals\", \"caregiver\", \"community_hospitals\", \"diabetes\", \"primary_care\", \"allied_health\", \"chronic_diseases\", \"healthcare_professionals\", \"healthcare_institutions\", \"chas\", \"resolved_parliament\", \"use_medisave\", \"foreign_spouses\", \"health_screening\", \"polyclinic\", \"community_hospital\", \"restructured_hospitals\", \"baby_bonus\", \"parenthood\", \"hota\", \"transplant\", \"health_insurance\", \"patients\", \"premiums\", \"polyclinics\", \"healthcare_system\", \"medisave\", \"doctors\", \"moh\", \"mental_health\", \"nurses\", \"caregivers\", \"gan_kim\", \"beds\", \"hospital\", \"care\", \"hospitals\", \"patient\", \"healthcare\", \"medical\", \"seniors\", \"health\", \"msf\", \"social_service\", \"child\", \"elderly\", \"family\", \"children\", \"families\", \"treatment\", \"marriage\", \"subsidies\", \"parents\", \"women\", \"support\", \"age\", \"services\", \"home\", \"help\", \"community\", \"scheme\", \"singaporeans\", \"need\", \"provide\", \"social\", \"years\", \"needs\", \"life\", \"work\", \"one\", \"would\", \"ministry\", \"teachers\", \"teaching\", \"athletes\", \"muis\", \"educators\", \"nac\", \"primary_schools\", \"psle\", \"artists\", \"sped_schools\", \"ssc\", \"eg\", \"peis\", \"mccy\", \"primary_secondary\", \"secondary_schools\", \"nsas\", \"traditional_arts\", \"read_first\", \"special_education\", \"yog\", \"jenn_jong\", \"pupils\", \"mainstream_schools\", \"asked_acting\", \"sports_facilities\", \"museums\", \"chinese_language\", \"arts_groups\", \"sea_games\", \"students\", \"moe\", \"curriculum\", \"schools\", \"primary_school\", \"private_education\", \"sports\", \"school\", \"arts\", \"student\", \"pre_school\", \"mosques\", \"learning\", \"early_childhood\", \"arts_culture\", \"universities\", \"education\", \"subjects\", \"graduates\", \"youth\", \"games\", \"academic\", \"university\", \"programmes\", \"parents\", \"courses\", \"children\", \"community\", \"programme\", \"skills\", \"support\", \"training\", \"primary\", \"provide\", \"year\", \"work\", \"help\", \"develop\", \"ministry\", \"development\", \"one\", \"good\", \"level\", \"time\", \"new\", \"ensure\", \"lta\", \"commuters\", \"cycling\", \"cyclists\", \"minister_transport\", \"motorists\", \"taxis\", \"lup\", \"bus_services\", \"fares\", \"bicycles\", \"ptos\", \"lui_tuck\", \"pedestrians\", \"erp\", \"congestion\", \"flat_owners\", \"pedestrian\", \"peak_hours\", \"car_parks\", \"mr_mah\", \"bus_service\", \"bow_tan\", \"ptc\", \"commuter\", \"bus_lanes\", \"ridership\", \"bus_operators\", \"cynthia_phua\", \"bto_flats\", \"buses\", \"flats\", \"public_transport\", \"trains\", \"land_transport\", \"hdb\", \"bus\", \"taxi\", \"parking\", \"roads\", \"flat\", \"rental_flats\", \"smrt\", \"passengers\", \"cars\", \"traffic\", \"road\", \"hdb_flats\", \"transport\", \"khaw_boon\", \"housing\", \"operators\", \"wan\", \"car\", \"residents\", \"new\", \"drivers\", \"vehicles\", \"time\", \"would\", \"demand\", \"year\", \"development\", \"market\", \"system\", \"number\", \"one\", \"service\", \"would_like\", \"take\", \"two\", \"first\", \"sir\", \"years\", \"need\", \"harassment\", \"loansharks\", \"inmates\", \"mr_siew\", \"syndicates\", \"cltpa\", \"cnb\", \"death_penalty\", \"problem_gambling\", \"drug_abuse\", \"trafficking\", \"ncpg\", \"detainees\", \"drug_trafficking\", \"loansharking\", \"arrests\", \"remote_gambling\", \"syndicate\", \"year_st\", \"auxiliary_police\", \"april_st\", \"organised_crime\", \"drink_driving\", \"crime_prevention\", \"loanshark\", \"drug_abusers\", \"gang\", \"abusers\", \"caning\", \"mandatory_death\", \"police\", \"police_officers\", \"prisons\", \"crime\", \"arrested\", \"mha\", \"casinos\", \"home_team\", \"coi\", \"home_affairs\", \"offenders\", \"offender\", \"gambling\", \"crimes\", \"casino\", \"riot\", \"prison\", \"detention\", \"ica\", \"victims\", \"law_enforcement\", \"offences\", \"incident\", \"offence\", \"drug\", \"drugs\", \"officers\", \"victim\", \"incidents\", \"security\", \"safety\", \"investigations\", \"cases\", \"public\", \"enforcement\", \"persons\", \"order\", \"number\", \"measures\", \"ministry\", \"activities\", \"community\", \"act\", \"agencies\", \"person\", \"ensure\", \"case\", \"take\", \"would\", \"work\", \"first\", \"continue\", \"nea\", \"littering\", \"ava\", \"dengue\", \"haze\", \"pub\", \"mewr\", \"ahpetc\", \"food_waste\", \"drains\", \"cng\", \"environment_agency\", \"air_quality\", \"abc_waters\", \"reservoirs\", \"litter\", \"stallholders\", \"recycling\", \"zika\", \"sinking_funds\", \"food_hygiene\", \"food_safety\", \"water_efficiency\", \"tc\", \"mosquitoes\", \"masks\", \"managing_agent\", \"fmss\", \"public_cleanliness\", \"litterbugs\", \"stalls\", \"cleanliness\", \"tcs\", \"town_council\", \"environment_water\", \"pollution\", \"hawkers\", \"town_councils\", \"hawker_centres\", \"water\", \"nparks\", \"energy_efficiency\", \"smoking\", \"smokers\", \"high_rise\", \"food\", \"bca\", \"environmental\", \"clean\", \"buildings\", \"waste\", \"climate_change\", \"contractors\", \"noise\", \"cleaning\", \"residents\", \"public\", \"areas\", \"energy\", \"management\", \"ensure\", \"ministry\", \"health\", \"resources\", \"environment\", \"use\", \"year\", \"measures\", \"sir\", \"standards\", \"would\", \"work\", \"time\", \"would_like\", \"continue\", \"nsmen\", \"fis\", \"patent\", \"salespersons\", \"saf\", \"international_arbitration\", \"regional_security\", \"nsfs\", \"bankrupts\", \"piracy\", \"th_february\", \"ippt\", \"cmc\", \"lim_hwee\", \"defence_spending\", \"enlistment\", \"bmt\", \"fidrec\", \"seafarers\", \"mr_sin\", \"public_trustee\", \"servicemen\", \"pes\", \"asset_classes\", \"retail_investors\", \"mindef_saf\", \"asean_member\", \"financial_advisers\", \"government_securities\", \"th_march\", \"total_defence\", \"mas\", \"afghanistan\", \"mindef\", \"national_servicemen\", \"ns\", \"soldiers\", \"military\", \"asean\", \"gic\", \"financial_institutions\", \"defence\", \"moneylenders\", \"south_china\", \"foreign_affairs\", \"bilateral\", \"ships\", \"national_service\", \"tobacco\", \"relations\", \"banks\", \"convention\", \"region\", \"ng_eng\", \"indonesia\", \"aircraft\", \"sea\", \"china\", \"countries\", \"investors\", \"international\", \"malaysia\", \"security\", \"foreign\", \"financial\", \"training\", \"us\", \"investment\", \"year\", \"agreement\", \"loans\", \"cooperation\", \"economic\", \"continue\", \"including\", \"global\", \"first\", \"years\", \"sir\", \"asked\", \"two\"], \"Total\": [11819.0, 13129.0, 10228.0, 12536.0, 15202.0, 7220.0, 9031.0, 11022.0, 5191.0, 6737.0, 6363.0, 9388.0, 6952.0, 17870.0, 7046.0, 15020.0, 16600.0, 4475.0, 33441.0, 19722.0, 3919.0, 19552.0, 3748.0, 5903.0, 5818.0, 6372.0, 24047.0, 7781.0, 4661.0, 5347.0, 1099.8607177734375, 897.09814453125, 682.2386474609375, 587.8037109375, 560.4362182617188, 494.9149475097656, 490.85491943359375, 434.3739318847656, 419.0198669433594, 367.4056396484375, 331.5223083496094, 326.2762451171875, 289.6672668457031, 286.089599609375, 261.7225341796875, 256.2205810546875, 253.65391540527344, 247.3530731201172, 242.58929443359375, 230.31263732910156, 227.96397399902344, 224.5040283203125, 223.67063903808594, 220.47503662109375, 208.15455627441406, 207.02407836914062, 206.90707397460938, 202.34042358398438, 200.9864959716797, 199.33013916015625, 694.0661010742188, 947.9465942382812, 2932.203125, 1050.1063232421875, 483.2520751953125, 2439.611328125, 326.4492492675781, 853.6937255859375, 2958.247802734375, 3066.34375, 19722.537109375, 1540.1434326171875, 909.5608520507812, 569.79833984375, 7734.43017578125, 1398.1492919921875, 3041.006103515625, 3095.49560546875, 3167.324951171875, 2405.200927734375, 2049.621337890625, 1248.7684326171875, 4104.73779296875, 6753.888671875, 14756.3974609375, 17870.44140625, 5701.17578125, 5671.6474609375, 6268.56396484375, 3967.944091796875, 15795.3642578125, 8789.41796875, 6238.4111328125, 3428.570068359375, 24047.349609375, 33441.328125, 15110.216796875, 10760.9296875, 27946.255859375, 6310.54736328125, 33389.3203125, 8155.36083984375, 8911.0556640625, 24847.67578125, 12325.4990234375, 20211.740234375, 11586.0107421875, 8210.6650390625, 8590.3583984375, 21926.04296875, 14557.6474609375, 7291.8583984375, 17278.712890625, 13079.521484375, 9816.7685546875, 14776.689453125, 1972.0185546875, 1710.9677734375, 1502.31689453125, 1370.908935546875, 1245.07177734375, 1120.50537109375, 952.5587158203125, 797.5645141601562, 678.1202392578125, 636.1553955078125, 549.7573852539062, 532.9646606445312, 519.8046264648438, 507.47564697265625, 481.12506103515625, 442.61627197265625, 429.71392822265625, 420.5591735839844, 399.3839416503906, 392.79376220703125, 382.74053955078125, 333.9137268066406, 326.7750549316406, 314.83966064453125, 304.6217346191406, 284.3515625, 270.16253662109375, 257.5707702636719, 256.14691162109375, 238.7018585205078, 502.0159606933594, 13129.98828125, 5818.15771484375, 680.5886840820312, 6255.35693359375, 6372.49169921875, 781.4274291992188, 1237.400146484375, 2458.833740234375, 4289.85986328125, 1177.9503173828125, 2798.338134765625, 3006.218017578125, 1361.2607421875, 843.2682495117188, 1423.134521484375, 4138.15234375, 1074.4307861328125, 3569.280517578125, 3406.66259765625, 2153.98193359375, 5674.4130859375, 15202.89453125, 3626.79833984375, 23287.271484375, 33441.328125, 18436.630859375, 5554.97802734375, 10061.740234375, 6720.7607421875, 24047.349609375, 16157.330078125, 8093.01611328125, 2501.81005859375, 5559.392578125, 8169.36572265625, 7422.5263671875, 24847.67578125, 12418.439453125, 19552.658203125, 33389.3203125, 21926.04296875, 27946.255859375, 20211.740234375, 22902.365234375, 15795.3642578125, 12893.3203125, 2024.6292724609375, 1501.733154296875, 746.34814453125, 570.8936157226562, 569.3206787109375, 567.0516967773438, 512.3531494140625, 439.07647705078125, 437.6580505371094, 421.2391662597656, 398.2062683105469, 388.179443359375, 386.9380798339844, 367.1442565917969, 365.41070556640625, 362.28125, 349.6480407714844, 334.365478515625, 327.72467041015625, 316.4750671386719, 315.3194274902344, 314.90728759765625, 314.6983947753906, 313.4767150878906, 305.9239501953125, 290.1204528808594, 275.6646423339844, 273.58392333984375, 241.1984405517578, 244.01377868652344, 1147.088134765625, 1852.0645751953125, 448.4025573730469, 599.4391479492188, 10228.5791015625, 1729.615966796875, 487.0387878417969, 3033.06591796875, 994.0812377929688, 700.55078125, 3145.655517578125, 994.4844970703125, 3526.82470703125, 1874.637451171875, 6952.85791015625, 3668.884033203125, 1976.6009521484375, 9388.26953125, 1730.134765625, 1866.6881103515625, 1619.4393310546875, 1779.6885986328125, 2014.4639892578125, 1177.8779296875, 2419.032958984375, 2855.19677734375, 7183.78271484375, 2090.2294921875, 2177.608154296875, 33389.3203125, 5199.51416015625, 7852.759765625, 6170.9296875, 6012.49853515625, 6822.2626953125, 16600.220703125, 6756.4521484375, 9387.44921875, 10380.3974609375, 14557.6474609375, 20211.740234375, 17278.712890625, 13903.8955078125, 21926.04296875, 27946.255859375, 7993.728515625, 22902.365234375, 13079.521484375, 843.66259765625, 421.43115234375, 384.5273132324219, 356.4059753417969, 285.0331115722656, 267.93524169921875, 211.34275817871094, 203.36683654785156, 187.16781616210938, 183.78173828125, 175.19491577148438, 166.65199279785156, 166.53244018554688, 177.06198120117188, 151.43179321289062, 146.09210205078125, 144.8995361328125, 141.4374237060547, 141.04083251953125, 286.79083251953125, 131.2335968017578, 130.0296630859375, 128.17971801757812, 127.3196792602539, 118.34778594970703, 117.76464080810547, 117.48561096191406, 124.65313720703125, 115.57048797607422, 117.8876953125, 354.9269714355469, 451.34088134765625, 551.100830078125, 1013.318115234375, 637.9956665039062, 888.131591796875, 340.06256103515625, 1024.84375, 537.7460327148438, 775.4776000976562, 343.99224853515625, 547.215576171875, 300.3957214355469, 214.76715087890625, 3434.734619140625, 1139.2784423828125, 621.2335815429688, 2035.885009765625, 627.1314697265625, 649.6290283203125, 4999.20654296875, 8398.8125, 1235.8194580078125, 2435.85009765625, 1203.3240966796875, 6954.2255859375, 3530.931396484375, 3451.93505859375, 15202.89453125, 6720.7607421875, 6832.98486328125, 5284.66357421875, 2308.29150390625, 5057.642578125, 2717.3662109375, 10166.0029296875, 5554.97802734375, 3108.97900390625, 22902.365234375, 3038.15087890625, 6767.91796875, 3367.00634765625, 2167.242431640625, 33441.328125, 23287.271484375, 19552.658203125, 8023.1240234375, 5562.06787109375, 8084.95947265625, 12230.025390625, 13829.6796875, 7269.59521484375, 4919.6923828125, 17870.44140625, 24847.67578125, 27946.255859375, 24047.349609375, 18436.630859375, 16600.220703125, 1273.2720947265625, 710.179931640625, 705.0213623046875, 538.7549438476562, 506.045166015625, 484.36865234375, 460.3473815917969, 457.3526611328125, 430.9453430175781, 381.1083068847656, 368.1904296875, 345.1354675292969, 342.8279724121094, 340.4195861816406, 329.4560546875, 313.4111633300781, 305.61920166015625, 300.8847351074219, 300.2049865722656, 291.7535400390625, 291.26275634765625, 276.4782409667969, 272.9183349609375, 225.40585327148438, 223.88182067871094, 219.04019165039062, 212.8426055908203, 204.00094604492188, 197.77755737304688, 195.26866149902344, 4475.73876953125, 776.694580078125, 588.4022827148438, 521.8162841796875, 1332.092041015625, 1454.538330078125, 2139.508056640625, 785.054931640625, 448.2760314941406, 1327.1727294921875, 797.4954223632812, 521.0799560546875, 1427.839111328125, 9031.7919921875, 1466.02392578125, 1231.23193359375, 4661.7685546875, 4081.418701171875, 3290.65625, 5903.103515625, 845.2422485351562, 908.304443359375, 3664.6533203125, 5223.78955078125, 7781.04296875, 12536.4501953125, 8325.71484375, 1979.927978515625, 871.0807495117188, 2248.843994140625, 7046.6826171875, 2722.897705078125, 19552.658203125, 3940.551513671875, 10166.0029296875, 5755.525390625, 23287.271484375, 15020.5498046875, 10061.740234375, 24047.349609375, 24847.67578125, 12988.1220703125, 7703.89306640625, 12893.3203125, 8985.697265625, 6201.064453125, 18436.630859375, 27946.255859375, 33389.3203125, 9986.83203125, 3031.3994140625, 961.81201171875, 843.9022216796875, 712.2776489257812, 646.8917236328125, 608.6456909179688, 528.4096069335938, 517.773681640625, 459.710693359375, 428.9827575683594, 425.3352355957031, 397.4781799316406, 379.6746826171875, 379.6462707519531, 344.41436767578125, 342.4337158203125, 335.95245361328125, 322.6357421875, 316.0438537597656, 315.437744140625, 305.99737548828125, 268.41046142578125, 257.98284912109375, 249.58712768554688, 244.31869506835938, 235.03797912597656, 220.24343872070312, 216.97012329101562, 216.97386169433594, 195.01983642578125, 11819.0302734375, 3919.333740234375, 1131.479248046875, 7220.29443359375, 816.20166015625, 615.1257934570312, 3158.418212890625, 6363.97900390625, 2404.424560546875, 1572.84912109375, 1528.1263427734375, 421.5660705566406, 3489.9853515625, 700.2822265625, 642.721923828125, 1159.380126953125, 11022.12109375, 561.6590576171875, 1140.470703125, 2157.269287109375, 907.1217651367188, 976.1509399414062, 1235.8416748046875, 7359.71484375, 7046.6826171875, 1915.976318359375, 12536.4501953125, 15020.5498046875, 8084.95947265625, 4870.9990234375, 19552.658203125, 8093.01611328125, 1727.819580078125, 12988.1220703125, 16157.330078125, 18436.630859375, 23287.271484375, 5284.66357421875, 9986.83203125, 8023.1240234375, 27946.255859375, 11586.0107421875, 5912.98583984375, 21926.04296875, 22902.365234375, 13903.8955078125, 3748.5107421875, 1736.2681884765625, 962.8199462890625, 907.6590576171875, 775.3070678710938, 725.2970581054688, 649.407958984375, 606.6532592773438, 601.256591796875, 479.8495178222656, 433.8782653808594, 430.9089660644531, 428.219970703125, 395.6338806152344, 382.8318786621094, 348.8529357910156, 336.6009216308594, 331.4251708984375, 327.4591369628906, 309.5096130371094, 298.7870788574219, 292.01104736328125, 274.2132263183594, 266.1595458984375, 254.74085998535156, 251.70974731445312, 237.38812255859375, 231.2035675048828, 227.78147888183594, 222.69003295898438, 1387.8131103515625, 3414.676513671875, 2671.362060546875, 778.1875610351562, 640.7361450195312, 6737.3935546875, 1442.63037109375, 779.3922729492188, 409.3207702636719, 1524.3326416015625, 2682.89501953125, 789.3368530273438, 570.1549072265625, 746.707763671875, 1122.01220703125, 1204.2183837890625, 2505.560546875, 1192.6416015625, 2319.929931640625, 846.2426147460938, 3217.04248046875, 3014.296875, 819.5446166992188, 1234.6290283203125, 7330.41162109375, 22902.365234375, 1369.173583984375, 1536.147216796875, 21926.04296875, 33389.3203125, 4240.78759765625, 16157.330078125, 8023.1240234375, 5562.06787109375, 10061.3583984375, 9396.009765625, 27946.255859375, 5372.77001953125, 13689.6640625, 14776.689453125, 10905.6484375, 17278.712890625, 20211.740234375, 12893.3203125, 24847.67578125, 743.2381591796875, 602.1700439453125, 518.7037353515625, 374.8560791015625, 368.31085205078125, 302.674560546875, 300.40875244140625, 296.748779296875, 285.48138427734375, 258.4498596191406, 258.1206970214844, 250.98304748535156, 245.47857666015625, 236.2623291015625, 235.4376983642578, 235.42230224609375, 230.0715789794922, 223.96104431152344, 222.31463623046875, 218.05812072753906, 214.3404998779297, 208.7047119140625, 207.4247283935547, 203.13648986816406, 199.02394104003906, 198.23599243164062, 187.9905242919922, 183.9130859375, 183.27613830566406, 168.8985595703125, 5191.02294921875, 464.8404235839844, 407.7072448730469, 1415.769287109375, 504.4343566894531, 906.9197387695312, 719.9072265625, 1204.419677734375, 551.3661499023438, 1764.5845947265625, 982.2486572265625, 605.6983642578125, 800.1163940429688, 632.6265258789062, 505.6321716308594, 311.04315185546875, 600.5817260742188, 503.5973205566406, 441.309326171875, 1076.116943359375, 543.8987426757812, 1424.6138916015625, 1393.9393310546875, 1616.752685546875, 811.128662109375, 1323.9295654296875, 4773.70361328125, 1069.859130859375, 1146.6494140625, 4786.560546875, 3868.243896484375, 1099.9019775390625, 7852.759765625, 16600.220703125, 2063.01708984375, 3053.366943359375, 6756.4521484375, 9396.009765625, 8169.36572265625, 9986.83203125, 4250.87255859375, 15020.5498046875, 9388.26953125, 4593.2314453125, 5199.51416015625, 13903.8955078125, 7183.78271484375, 14776.689453125, 33389.3203125, 18436.630859375, 17278.712890625, 13829.6796875, 2604.157958984375, 739.39453125, 717.478759765625, 705.7517700195312, 522.928466796875, 1054.1865234375, 288.7506408691406, 255.56044006347656, 255.1746368408203, 252.34400939941406, 229.0254669189453, 227.94046020507812, 213.06884765625, 209.81390380859375, 203.23280334472656, 435.4234313964844, 191.52342224121094, 648.82763671875, 175.25709533691406, 174.65695190429688, 157.6536865234375, 153.9922332763672, 153.36276245117188, 153.02752685546875, 152.72755432128906, 151.91920471191406, 151.86056518554688, 151.0472869873047, 150.88302612304688, 147.3313751220703, 383.678955078125, 298.7597351074219, 224.83287048339844, 1359.15234375, 792.2598876953125, 355.2075500488281, 419.2381286621094, 1886.8424072265625, 946.3289184570312, 3139.244873046875, 572.2518310546875, 695.8319702148438, 872.3272094726562, 348.61334228515625, 388.4915466308594, 2416.003662109375, 541.1676635742188, 717.5228271484375, 1162.6207275390625, 1425.77294921875, 833.4136352539062, 654.1383056640625, 910.3136596679688, 776.4124145507812, 743.1199340820312, 7330.41162109375, 16600.220703125, 6545.5029296875, 2167.242431640625, 3991.529052734375, 13903.8955078125, 9986.83203125, 5903.103515625, 5471.05126953125, 4423.462890625, 9804.287109375, 16157.330078125, 8169.36572265625, 20211.740234375, 3058.9921875, 33389.3203125, 18436.630859375, 21926.04296875, 13689.6640625, 13829.6796875, 684.8890380859375, 270.5542907714844, 235.52291870117188, 213.6885528564453, 2319.879150390625, 185.15760803222656, 173.1831817626953, 161.92510986328125, 159.114013671875, 157.95184326171875, 157.6611785888672, 156.42247009277344, 155.85394287109375, 150.3904266357422, 141.86550903320312, 139.5030059814453, 134.88226318359375, 133.66323852539062, 129.53659057617188, 120.0595474243164, 119.52954864501953, 401.08843994140625, 115.6808090209961, 102.54811096191406, 97.9619140625, 97.53483581542969, 97.23646545410156, 96.90591430664062, 96.3195571899414, 94.9776840209961, 574.8598022460938, 2384.22119140625, 258.10955810546875, 1153.425537109375, 386.9420166015625, 1171.0263671875, 292.0141296386719, 689.0938720703125, 2035.7867431640625, 355.25030517578125, 897.7942504882812, 2331.08154296875, 409.2304382324219, 197.86370849609375, 383.38226318359375, 269.5229187011719, 376.25848388671875, 879.0811767578125, 388.85076904296875, 719.6366577148438, 1665.7357177734375, 586.9293212890625, 2016.505615234375, 319.8603210449219, 645.4970703125, 572.4955444335938, 698.0196533203125, 1966.734130859375, 5347.53271484375, 788.5386352539062, 4717.81982421875, 921.763427734375, 4786.560546875, 4738.3203125, 5896.986328125, 8093.01611328125, 17870.44140625, 2180.393310546875, 16157.330078125, 1179.888427734375, 1300.2130126953125, 866.109130859375, 4760.0556640625, 13829.6796875, 8442.400390625, 3530.931396484375, 17278.712890625, 12893.3203125, 20211.740234375, 6790.9052734375, 10905.6484375], \"loglift\": [30.0, 29.0, 28.0, 27.0, 26.0, 25.0, 24.0, 23.0, 22.0, 21.0, 20.0, 19.0, 18.0, 17.0, 16.0, 15.0, 14.0, 13.0, 12.0, 11.0, 10.0, 9.0, 8.0, 7.0, 6.0, 5.0, 4.0, 3.0, 2.0, 1.0, 1.5333000421524048, 1.5332000255584717, 1.5328999757766724, 1.5326999425888062, 1.5326000452041626, 1.5324000120162964, 1.5324000120162964, 1.5321999788284302, 1.532099962234497, 1.5318000316619873, 1.531599998474121, 1.531599998474121, 1.5312000513076782, 1.5312000513076782, 1.530900001525879, 1.530900001525879, 1.5307999849319458, 1.5307999849319458, 1.5306999683380127, 1.530500054359436, 1.530500054359436, 1.530400037765503, 1.530400037765503, 1.5303000211715698, 1.5300999879837036, 1.5300999879837036, 1.5300999879837036, 1.5299999713897705, 1.5299999713897705, 1.5299999713897705, 1.527899980545044, 1.5096999406814575, 1.4848999977111816, 1.4882999658584595, 1.506600022315979, 1.4412000179290771, 1.5166000127792358, 1.4766000509262085, 1.4067000150680542, 1.4045000076293945, 1.2792999744415283, 1.4174000024795532, 1.4460999965667725, 1.4781999588012695, 1.2759000062942505, 1.4078999757766724, 1.343400001525879, 1.3322999477386475, 1.3240000009536743, 1.3432999849319458, 1.3555999994277954, 1.396399974822998, 1.253100037574768, 1.1866999864578247, 1.0810999870300293, 1.0230000019073486, 1.1699999570846558, 1.1693999767303467, 1.1236000061035156, 1.1898000240325928, 0.9345999956130981, 1.0152000188827515, 1.0723999738693237, 1.1833000183105469, 0.7390000224113464, 0.6495000123977661, 0.8378999829292297, 0.9193000197410583, 0.6607999801635742, 1.028499960899353, 0.4812000095844269, 0.9125000238418579, 0.8794999718666077, 0.45890000462532043, 0.7045000195503235, 0.4830000102519989, 0.7279000282287598, 0.875, 0.8302000164985657, 0.3156999945640564, 0.5011000037193298, 0.8950999975204468, 0.34850001335144043, 0.48170000314712524, 0.6561999917030334, 0.22439999878406525, 1.906499981880188, 1.9063999652862549, 1.9062999486923218, 1.9062999486923218, 1.9062000513076782, 1.9061000347137451, 1.906000018119812, 1.9057999849319458, 1.9056999683380127, 1.9055999517440796, 1.905400037765503, 1.9053000211715698, 1.9053000211715698, 1.9052000045776367, 1.9050999879837036, 1.9049999713897705, 1.9048999547958374, 1.9048999547958374, 1.9048000574111938, 1.9048000574111938, 1.9047000408172607, 1.9043999910354614, 1.9042999744415283, 1.9041999578475952, 1.904099941253662, 1.9039000272750854, 1.9038000106811523, 1.9035999774932861, 1.9035999774932861, 1.90339994430542, 1.8977999687194824, 1.8424999713897705, 1.8575999736785889, 1.878000020980835, 1.7961000204086304, 1.792199969291687, 1.867400050163269, 1.8386000394821167, 1.791700005531311, 1.746999979019165, 1.8243000507354736, 1.7388999462127686, 1.7269999980926514, 1.7990000247955322, 1.8421000242233276, 1.7847000360488892, 1.6304999589920044, 1.795199990272522, 1.6014000177383423, 1.6003999710083008, 1.659600019454956, 1.469099998474121, 1.232800006866455, 1.4571000337600708, 0.8083000183105469, 0.6744999885559082, 0.8366000056266785, 1.2245999574661255, 0.9702000021934509, 1.1116000413894653, 0.4900999963283539, 0.5871999859809875, 0.9221000075340271, 1.499899983406067, 1.082900047302246, 0.8747000098228455, 0.9243999719619751, 0.25110000371932983, 0.621399998664856, 0.31119999289512634, -0.029500000178813934, 0.1881999969482422, 0.006399999838322401, 0.23549999296665192, 0.02539999969303608, 0.15049999952316284, 0.30720001459121704, 2.2246999740600586, 2.224600076675415, 2.224100112915039, 2.2237000465393066, 2.2237000465393066, 2.2237000465393066, 2.223599910736084, 2.223299980163574, 2.223299980163574, 2.2232000827789307, 2.223099946975708, 2.223099946975708, 2.223099946975708, 2.222899913787842, 2.222899913787842, 2.222899913787842, 2.2228000164031982, 2.2227001190185547, 2.2227001190185547, 2.222599983215332, 2.222599983215332, 2.222599983215332, 2.222599983215332, 2.222599983215332, 2.2225000858306885, 2.222399950027466, 2.2221999168395996, 2.2221999168395996, 2.2218000888824463, 2.2218000888824463, 2.2202999591827393, 2.2109999656677246, 2.2197999954223633, 2.2144999504089355, 2.1774001121520996, 2.1912999153137207, 2.2139999866485596, 2.174999952316284, 2.1900999546051025, 2.195199966430664, 2.114799976348877, 2.1714000701904297, 2.083699941635132, 2.1113998889923096, 2.009399890899658, 2.059799909591675, 2.1036999225616455, 1.9213999509811401, 2.046600103378296, 2.0004000663757324, 1.9795000553131104, 1.9419000148773193, 1.8842999935150146, 2.0041000843048096, 1.8071000576019287, 1.6926000118255615, 1.3990999460220337, 1.7319999933242798, 1.7086999416351318, 0.6261000037193298, 1.3603999614715576, 1.1225999593734741, 1.1450999975204468, 1.142699956893921, 1.0288000106811523, 0.4593000113964081, 1.0154999494552612, 0.8062000274658203, 0.728600025177002, 0.447299987077713, 0.15049999952316284, 0.23319999873638153, 0.3671000003814697, -0.04010000079870224, -0.32420000433921814, 0.7566999793052673, -0.2538999915122986, 0.22920000553131104, 2.2348999977111816, 2.2339999675750732, 2.233799934387207, 2.233599901199341, 2.2330000400543213, 2.232800006866455, 2.2320001125335693, 2.2318999767303467, 2.2314999103546143, 2.2314999103546143, 2.2311999797821045, 2.2309999465942383, 2.2309999465942383, 2.2307000160217285, 2.2304999828338623, 2.230299949645996, 2.230299949645996, 2.23009991645813, 2.23009991645813, 2.23009991645813, 2.2297000885009766, 2.229599952697754, 2.2295000553131104, 2.2295000553131104, 2.2290000915527344, 2.2290000915527344, 2.2290000915527344, 2.2288999557495117, 2.2288999557495117, 2.228800058364868, 2.2272000312805176, 2.2246999740600586, 2.2225000858306885, 2.212899923324585, 2.1930999755859375, 2.1738998889923096, 2.191800117492676, 2.1386001110076904, 2.1707000732421875, 2.1419999599456787, 2.1796998977661133, 2.1470999717712402, 2.1849000453948975, 2.2002999782562256, 1.9729000329971313, 2.0487000942230225, 2.100800037384033, 1.9816999435424805, 2.0978000164031982, 2.073699951171875, 1.7690999507904053, 1.6713999509811401, 1.9586999416351318, 1.836400032043457, 1.90910005569458, 1.5443999767303467, 1.6680999994277954, 1.6642999649047852, 1.2984999418258667, 1.475000023841858, 1.4531999826431274, 1.4993000030517578, 1.7254999876022339, 1.499500036239624, 1.6715999841690063, 1.2609000205993652, 1.416599988937378, 1.5968999862670898, 0.9294999837875366, 1.551200032234192, 1.2467999458312988, 1.489799976348877, 1.6611000299453735, 0.4438000023365021, 0.5102999806404114, 0.5602999925613403, 1.0144000053405762, 1.1682000160217285, 0.9203000068664551, 0.6549000144004822, 0.5753999948501587, 0.9412999749183655, 1.1705000400543213, 0.1454000025987625, -0.17080000042915344, -0.29600000381469727, -0.18209999799728394, 0.030899999663233757, 0.06610000133514404, 2.358099937438965, 2.357599973678589, 2.357599973678589, 2.3571999073028564, 2.357100009918213, 2.3570001125335693, 2.3570001125335693, 2.3568999767303467, 2.356800079345703, 2.356600046157837, 2.3564999103546143, 2.3564000129699707, 2.3564000129699707, 2.356300115585327, 2.356300115585327, 2.356100082397461, 2.356100082397461, 2.3559999465942383, 2.3559999465942383, 2.3559000492095947, 2.3559000492095947, 2.355799913406372, 2.3557000160217285, 2.35509991645813, 2.35509991645813, 2.3550000190734863, 2.3548998832702637, 2.3547000885009766, 2.354599952697754, 2.354599952697754, 2.3522000312805176, 2.3447000980377197, 2.3457000255584717, 2.34660005569458, 2.3320999145507812, 2.3282999992370605, 2.319999933242798, 2.337100028991699, 2.3469998836517334, 2.323699951171875, 2.3276000022888184, 2.3299999237060547, 2.273699998855591, 2.1614999771118164, 2.2683000564575195, 2.2767999172210693, 2.175299882888794, 2.152100086212158, 2.153899908065796, 2.0527000427246094, 2.2513999938964844, 2.2276999950408936, 1.9357999563217163, 1.8306000232696533, 1.7282999753952026, 1.5963000059127808, 1.598099946975708, 1.9819999933242798, 2.2012999057769775, 1.9210000038146973, 1.5573999881744385, 1.7836999893188477, 0.9861000180244446, 1.635599970817566, 1.2180999517440796, 1.4536000490188599, 0.7760000228881836, 0.8950999975204468, 1.0472999811172485, 0.5357000231742859, 0.5113000273704529, 0.7633000016212463, 1.100000023841858, 0.6578999757766724, 0.8841999769210815, 1.0885000228881836, 0.17399999499320984, -0.24070000648498535, -0.43149998784065247, 0.6381999850273132, 2.46560001373291, 2.4649999141693115, 2.464900016784668, 2.4646999835968018, 2.464600086212158, 2.4644999504089355, 2.4642999172210693, 2.4642999172210693, 2.464099884033203, 2.4639999866485596, 2.4639999866485596, 2.4637999534606934, 2.46370005607605, 2.46370005607605, 2.4635000228881836, 2.4635000228881836, 2.4635000228881836, 2.463399887084961, 2.4632999897003174, 2.4632999897003174, 2.463200092315674, 2.4628000259399414, 2.4626998901367188, 2.462599992752075, 2.4625000953674316, 2.462399959564209, 2.4621999263763428, 2.462100028991699, 2.462100028991699, 2.461699962615967, 2.4542999267578125, 2.460599899291992, 2.460900068283081, 2.4082999229431152, 2.442199945449829, 2.4463999271392822, 2.398400068283081, 2.368799924850464, 2.390899896621704, 2.404900074005127, 2.3982999324798584, 2.4453999996185303, 2.2860000133514404, 2.4042000770568848, 2.401700019836426, 2.336400032043457, 2.0827999114990234, 2.4045000076293945, 2.2890000343322754, 2.182499885559082, 2.3173000812530518, 2.2997000217437744, 2.2444000244140625, 1.718500018119812, 1.6279000043869019, 2.0350000858306885, 1.281000018119812, 1.1828999519348145, 1.2949999570846558, 1.4903000593185425, 0.7591999769210815, 1.125599980354309, 1.941499948501587, 0.630299985408783, 0.47110000252723694, 0.36730000376701355, 0.11940000206232071, 1.1360000371932983, 0.6348999738693237, 0.8029000163078308, -0.2287999987602234, 0.46959999203681946, 1.0241999626159668, -0.18870000541210175, -0.24330000579357147, 0.20640000700950623, 2.490299940109253, 2.4900999069213867, 2.4897000789642334, 2.4895999431610107, 2.489500045776367, 2.4893999099731445, 2.489300012588501, 2.4892001152038574, 2.4892001152038574, 2.488800048828125, 2.488600015640259, 2.488600015640259, 2.488600015640259, 2.4885001182556152, 2.4883999824523926, 2.4881999492645264, 2.488100051879883, 2.48799991607666, 2.48799991607666, 2.4879000186920166, 2.487799882888794, 2.4876999855041504, 2.487499952316284, 2.4874000549316406, 2.487299919128418, 2.487299919128418, 2.4870998859405518, 2.486999988555908, 2.4869000911712646, 2.486799955368042, 2.4737000465393066, 2.4546000957489014, 2.4495999813079834, 2.4672000408172607, 2.469399929046631, 2.3717000484466553, 2.430000066757202, 2.4532999992370605, 2.4702000617980957, 2.385699987411499, 2.3285999298095703, 2.408799886703491, 2.4296998977661133, 2.3917999267578125, 2.3368000984191895, 2.299499988555908, 2.174999952316284, 2.300100088119507, 2.176300048828125, 2.3208999633789062, 1.9573999643325806, 1.9703999757766724, 2.32069993019104, 2.1863999366760254, 1.4469000101089478, 0.6740999817848206, 2.0673999786376953, 1.979200005531311, 0.4059999883174896, 0.11940000206232071, 1.3255000114440918, 0.4120999872684479, 0.8392000198364258, 1.069200038909912, 0.6294000148773193, 0.650600016117096, -0.19539999961853027, 1.037500023841858, 0.27070000767707825, 0.19789999723434448, 0.44769999384880066, 0.04540000110864639, -0.11400000005960464, 0.26420000195503235, -0.41200000047683716, 2.675600051879883, 2.6754000186920166, 2.675100088119507, 2.674499988555908, 2.674499988555908, 2.6740000247955322, 2.6740000247955322, 2.6740000247955322, 2.6738998889923096, 2.6735999584198, 2.6735999584198, 2.6735000610351562, 2.6733999252319336, 2.67330002784729, 2.67330002784729, 2.67330002784729, 2.6731998920440674, 2.673099994659424, 2.6730000972747803, 2.6730000972747803, 2.6728999614715576, 2.672800064086914, 2.672800064086914, 2.6726999282836914, 2.672600030899048, 2.672600030899048, 2.6723999977111816, 2.672300100326538, 2.672300100326538, 2.6719000339508057, 2.670099973678589, 2.6710000038146973, 2.6654000282287598, 2.6526999473571777, 2.6630001068115234, 2.6500000953674316, 2.6510000228881836, 2.6284000873565674, 2.6486001014709473, 2.611999988555908, 2.622299909591675, 2.6405999660491943, 2.629199981689453, 2.631500005722046, 2.6393001079559326, 2.660799980163574, 2.6226999759674072, 2.627000093460083, 2.635499954223633, 2.5653998851776123, 2.6136999130249023, 2.436000108718872, 2.4351999759674072, 2.392199993133545, 2.5072999000549316, 2.416800022125244, 2.0320000648498535, 2.3907999992370605, 2.362799882888794, 1.9092999696731567, 1.934000015258789, 2.3231000900268555, 1.5113999843597412, 1.0099999904632568, 1.9153000116348267, 1.6699999570846558, 1.1385999917984009, 0.892300009727478, 0.9681000113487244, 0.8075000047683716, 1.3597999811172485, 0.37610000371932983, 0.7167999744415283, 1.2376999855041504, 1.1087000370025635, 0.2808000147342682, 0.8108000159263611, 0.20739999413490295, -0.49300000071525574, -0.06650000065565109, -0.11270000040531158, 0.08500000089406967, 2.964200019836426, 2.9635000228881836, 2.963399887084961, 2.963399887084961, 2.9630000591278076, 2.962899923324585, 2.961699962615967, 2.961400032043457, 2.961400032043457, 2.9612998962402344, 2.9609999656677246, 2.9609999656677246, 2.960700035095215, 2.960700035095215, 2.960599899291992, 2.960400104522705, 2.9602999687194824, 2.960200071334839, 2.95989990234375, 2.95989990234375, 2.959399938583374, 2.9593000411987305, 2.9593000411987305, 2.959199905395508, 2.959199905395508, 2.959199905395508, 2.959199905395508, 2.959199905395508, 2.959199905395508, 2.9590001106262207, 2.9514000415802, 2.947999954223633, 2.952399969100952, 2.911600112915039, 2.924099922180176, 2.9403998851776123, 2.9235999584198, 2.859999895095825, 2.8759000301361084, 2.7955000400543213, 2.883500099182129, 2.8320999145507812, 2.8092000484466553, 2.895699977874756, 2.8805999755859375, 2.549099922180176, 2.797100067138672, 2.7421998977661133, 2.6315999031066895, 2.586199998855591, 2.669800043106079, 2.718899965286255, 2.6226999759674072, 2.6493000984191895, 2.661600112915039, 1.5602999925613403, 1.0527000427246094, 1.2955000400543213, 1.93340003490448, 1.5585999488830566, 0.7214999794960022, 0.9154999852180481, 1.1863000392913818, 1.2281999588012695, 1.375100016593933, 0.7542999982833862, 0.3621000051498413, 0.8223000168800354, -0.02500000037252903, 1.5631999969482422, -0.621999979019165, -0.09130000323057175, -0.3587999939918518, 0.0754999965429306, 0.060600001364946365, 3.265500068664551, 3.2636001110076904, 3.263200044631958, 3.2627999782562256, 3.2623000144958496, 3.262200117111206, 3.261899948120117, 3.2616000175476074, 3.2614998817443848, 3.2614998817443848, 3.261399984359741, 3.261399984359741, 3.261399984359741, 3.261199951171875, 3.2609000205993652, 3.2607998847961426, 3.2606000900268555, 3.260499954223633, 3.2602999210357666, 3.2597999572753906, 3.2597999572753906, 3.259700059890747, 3.2595999240875244, 3.2585999965667725, 3.2583000659942627, 3.25819993019104, 3.25819993019104, 3.25819993019104, 3.2581000328063965, 3.257999897003174, 3.2541000843048096, 3.233099937438965, 3.2490999698638916, 3.2334001064300537, 3.2435998916625977, 3.2186999320983887, 3.2460999488830566, 3.2018001079559326, 3.1345999240875244, 3.2126998901367188, 3.1428000926971436, 3.041599988937378, 3.170599937438965, 3.224400043487549, 3.1282999515533447, 3.168600082397461, 3.107300043106079, 2.943000078201294, 3.075900077819824, 2.942699909210205, 2.7453999519348145, 2.9674999713897705, 2.6828999519348145, 3.1059999465942383, 2.9233999252319336, 2.9512999057769775, 2.8842999935150146, 2.5357000827789307, 2.2011001110076904, 2.827899932861328, 2.165600061416626, 2.732100009918213, 2.0028998851776123, 1.926900029182434, 1.7105000019073486, 1.4221999645233154, 0.832099974155426, 2.1238999366760254, 0.7166000008583069, 2.488300085067749, 2.4121999740600586, 2.6914000511169434, 1.3055000305175781, 0.33469998836517334, 0.7455000281333923, 1.4708000421524048, -0.04320000112056732, 0.2240000069141388, -0.24070000648498535, 0.8144000172615051, 0.3441999852657318], \"logprob\": [30.0, 29.0, 28.0, 27.0, 26.0, 25.0, 24.0, 23.0, 22.0, 21.0, 20.0, 19.0, 18.0, 17.0, 16.0, 15.0, 14.0, 13.0, 12.0, 11.0, 10.0, 9.0, 8.0, 7.0, 6.0, 5.0, 4.0, 3.0, 2.0, 1.0, -7.1890997886657715, -7.393099784851074, -7.667200088500977, -7.816299915313721, -7.864099979400635, -7.98859977722168, -7.9969000816345215, -8.11929988861084, -8.155400276184082, -8.287099838256836, -8.39009952545166, -8.406100273132324, -8.525400161743164, -8.5378999710083, -8.62720012664795, -8.648500442504883, -8.658599853515625, -8.683799743652344, -8.703300476074219, -8.755499839782715, -8.765700340270996, -8.781100273132324, -8.784799575805664, -8.799300193786621, -8.857000350952148, -8.862500190734863, -8.86299991607666, -8.88539981842041, -8.892200469970703, -8.900500297546387, -7.654900074005127, -7.361400127410889, -6.256999969482422, -7.2804999351501465, -8.038200378417969, -6.484600067138672, -8.420599937438965, -7.499199867248535, -6.326300144195557, -6.292600154876709, -4.556600093841553, -6.968299865722656, -7.466400146484375, -7.9019999504089355, -5.496099948883057, -7.0746002197265625, -6.362100124359131, -6.355400085449219, -6.340700149536133, -6.596700191497803, -6.7444000244140625, -7.199100017547607, -6.152400016784668, -5.720799922943115, -5.044899940490723, -4.911499977111816, -5.9070000648498535, -5.912700176239014, -5.858500003814697, -6.249599933624268, -5.1234002113342285, -5.628900051116943, -5.914599895477295, -6.402200222015381, -4.898600101470947, -4.658299922943115, -5.264400005340576, -5.522500038146973, -4.826499938964844, -5.946899890899658, -4.828199863433838, -5.806399822235107, -5.750899791717529, -5.145899772644043, -5.601399898529053, -5.328400135040283, -5.639999866485596, -5.837200164794922, -5.836900234222412, -5.4141998291015625, -5.638400077819824, -5.935800075531006, -5.61959981918335, -5.764900207519531, -5.877299785614014, -5.900199890136719, -6.232100009918213, -6.374199867248535, -6.504300117492676, -6.595900058746338, -6.692200183868408, -6.797699928283691, -6.96019983291626, -7.138000011444092, -7.3003997802734375, -7.3643999099731445, -7.5106000900268555, -7.541600227355957, -7.566699981689453, -7.590700149536133, -7.644100189208984, -7.727700233459473, -7.757299900054932, -7.778900146484375, -7.830699920654297, -7.847400188446045, -7.873300075531006, -8.010100364685059, -8.031800270080566, -8.069100379943848, -8.10219955444336, -8.171299934387207, -8.222599983215332, -8.270500183105469, -8.276000022888184, -8.346799850463867, -7.609000205993652, -4.400199890136719, -5.199100017547607, -7.32450008392334, -5.1880998611450195, -5.173500061035156, -7.196899890899658, -6.765999794006348, -6.126200199127197, -5.6143999099731445, -6.829599857330322, -6.049699783325195, -5.9899001121521, -6.71019983291626, -7.145999908447266, -6.680099964141846, -5.7667999267578125, -6.950699806213379, -5.943900108337402, -5.991499900817871, -6.3907999992370605, -5.612599849700928, -4.863399982452393, -6.072199821472168, -4.861400127410889, -4.633299827575684, -5.066699981689453, -5.878300189971924, -5.538700103759766, -5.800899982452393, -5.147500038146973, -5.4481000900268555, -5.804500102996826, -6.4008002281188965, -6.019199848175049, -5.842599868774414, -5.888700008392334, -5.353799819946289, -5.677000045776367, -5.533299922943115, -5.338900089263916, -5.541800022125244, -5.480999946594238, -5.575900077819824, -5.660999774932861, -5.90749979019165, -5.953700065612793, -5.887499809265137, -6.186399936676025, -6.886199951171875, -7.1545000076293945, -7.157199859619141, -7.161200046539307, -7.262800216674805, -7.417399883270264, -7.4207000732421875, -7.459000110626221, -7.5152997970581055, -7.540900230407715, -7.544099807739258, -7.596700191497803, -7.601399898529053, -7.610099792480469, -7.645599842071533, -7.690400123596191, -7.7104997634887695, -7.74560022354126, -7.749199867248535, -7.750500202178955, -7.751200199127197, -7.755099773406982, -7.779600143432617, -7.832699775695801, -7.883999824523926, -7.891600131988525, -8.017999649047852, -8.006400108337402, -6.460100173950195, -5.990300178527832, -7.399899959564209, -7.1149001121521, -4.315000057220459, -6.078400135040283, -7.3231000900268555, -5.533100128173828, -6.633500099182129, -6.978300094604492, -5.5569000244140625, -6.651800155639648, -5.473499774932861, -6.077899932861328, -4.869100093841553, -5.458000183105469, -6.032599925994873, -4.656799793243408, -6.222799777984619, -6.192999839782715, -6.356100082397461, -6.299300193786621, -6.232999801635742, -6.649799823760986, -6.127200126647949, -6.075900077819824, -5.446700096130371, -6.348400115966797, -6.330699920654297, -4.683300018310547, -5.808700084686279, -5.634200096130371, -5.852700233459473, -5.881100177764893, -5.868599891662598, -5.548900127410889, -5.891600131988525, -5.77209997177124, -5.749199867248535, -5.692200183868408, -5.660900115966797, -5.735000133514404, -5.818299770355225, -5.770100116729736, -5.811600208282471, -5.9822998046875, -5.940299987792969, -6.017399787902832, -6.752699851989746, -7.447800159454346, -7.539599895477295, -7.615699768066406, -7.839799880981445, -7.901800155639648, -8.139900207519531, -8.178500175476074, -8.261899948120117, -8.280200004577637, -8.328300476074219, -8.378499984741211, -8.379199981689453, -8.31820011138916, -8.474699974060059, -8.5108003616333, -8.519100189208984, -8.543399810791016, -8.546199798583984, -7.836599826812744, -8.61870002746582, -8.628000259399414, -8.642399787902832, -8.649200439453125, -8.722800254821777, -8.727700233459473, -8.73009967803955, -8.670999526977539, -8.746700286865234, -8.726900100708008, -7.626299858093262, -7.388500213623047, -7.190899848937988, -6.5914998054504395, -7.07390022277832, -6.762400150299072, -7.704500198364258, -6.6545000076293945, -7.267300128936768, -6.929900169372559, -7.705100059509277, -7.273499965667725, -7.835400104522705, -8.155500411987305, -5.610799789428711, -6.638599872589111, -7.19290018081665, -6.125, -7.186500072479248, -7.175300121307373, -5.439199924468994, -5.018199920654297, -6.647200107574463, -6.09089994430542, -6.723400115966797, -5.333899974822998, -5.888000011444092, -5.914400100708008, -4.797599792480469, -5.437399864196777, -5.442699909210205, -5.653500080108643, -6.25570011138916, -5.697299957275391, -6.146299839019775, -5.23769998550415, -5.686299800872803, -6.086400032043457, -4.756899833679199, -6.155200004577637, -5.658699989318848, -6.113800048828125, -6.3831000328063965, -4.863999843597412, -5.15939998626709, -5.284200191497803, -5.720900058746338, -5.933499813079834, -5.807300090789795, -5.658899784088135, -5.6153998374938965, -5.8927001953125, -6.053899765014648, -5.789100170135498, -5.775700092315674, -5.783299922943115, -5.819699764251709, -5.872399806976318, -5.9421000480651855, -6.2179999351501465, -6.802299976348877, -6.809599876403809, -7.07889986038208, -7.14169979095459, -7.185500144958496, -7.236499786376953, -7.243000030517578, -7.302599906921387, -7.4257001876831055, -7.460299968719482, -7.525100231170654, -7.531799793243408, -7.538899898529053, -7.571700096130371, -7.621799945831299, -7.646999835968018, -7.662700176239014, -7.664899826049805, -7.693600177764893, -7.695199966430664, -7.747499942779541, -7.760499954223633, -7.952400207519531, -7.959199905395508, -7.981100082397461, -8.009900093078613, -8.052499771118164, -8.083600044250488, -8.096500396728516, -4.966800212860107, -6.7256999015808105, -7.002200126647949, -7.121500015258789, -6.198699951171875, -6.11460018157959, -5.737100124359131, -6.722499847412109, -7.2729997634887695, -6.210899829864502, -6.716300010681152, -7.139500141143799, -6.18779993057251, -4.455399990081787, -6.166800022125244, -6.332799911499023, -5.103000164031982, -5.259099960327148, -5.472599983215332, -4.9893999099731445, -6.734399795532227, -6.686100006103516, -5.583099842071533, -5.333799839019775, -5.037700176239014, -4.692699909210205, -5.100200176239014, -6.152599811553955, -6.75439977645874, -6.08620023727417, -5.307700157165527, -6.032299995422363, -4.858500003814697, -5.810800075531006, -5.2804999351501465, -5.613800048828125, -4.893700122833252, -5.213200092315674, -5.461599826812744, -5.101900100708008, -5.093599796295166, -5.490300178527832, -5.675899982452393, -5.603000164031982, -5.737800121307373, -5.904399871826172, -5.729300022125244, -5.728000164031982, -5.740900039672852, -5.878200054168701, -5.243000030517578, -6.391600131988525, -6.522500038146973, -6.692200183868408, -6.788599967956543, -6.849599838256836, -6.991199970245361, -7.011600017547607, -7.13070011138916, -7.199999809265137, -7.208600044250488, -7.276500225067139, -7.322400093078613, -7.322400093078613, -7.420000076293945, -7.42579984664917, -7.445000171661377, -7.485499858856201, -7.506199836730957, -7.5081000328063965, -7.538599967956543, -7.670000076293945, -7.709799766540527, -7.743000030517578, -7.764400005340576, -7.803199768066406, -7.868500232696533, -7.883500099182129, -7.883500099182129, -7.990600109100342, -3.893699884414673, -4.991099834442139, -6.23330020904541, -4.432400226593018, -6.578499794006348, -6.8572001457214355, -5.269199848175049, -4.598199844360352, -5.5493998527526855, -5.95989990234375, -5.995299816131592, -7.236000061035156, -5.281700134277344, -6.769700050354004, -6.857999801635742, -6.3333001136779785, -4.33489990234375, -6.989999771118164, -6.397200107574463, -5.866300106048584, -6.597799777984619, -6.542099952697754, -6.361499786376953, -5.1031999588012695, -5.237199783325195, -6.132400035858154, -5.0081000328063965, -4.925300121307373, -5.432600021362305, -5.744100093841553, -5.085400104522705, -5.601099967956543, -6.3292999267578125, -5.623300075531006, -5.5640997886657715, -5.535999774932861, -5.5503997802734375, -6.016900062561035, -5.881499767303467, -5.932400226593018, -5.71619987487793, -5.8983001708984375, -6.016300201416016, -5.918700218200684, -5.929699897766113, -5.979100227355957, -5.00600004196167, -5.7758002281188965, -6.365799903869629, -6.424900054931641, -6.582699775695801, -6.649400234222412, -6.7600998878479, -6.8282999992370605, -6.837200164794922, -7.0630998611450195, -7.164000034332275, -7.170899868011475, -7.177199840545654, -7.256499767303467, -7.289400100708008, -7.382599830627441, -7.418399810791016, -7.434000015258789, -7.446000099182129, -7.502500057220459, -7.537899971008301, -7.5609002113342285, -7.624000072479248, -7.653900146484375, -7.69789981842041, -7.70989990234375, -7.768700122833252, -7.795100212097168, -7.810100078582764, -7.832799911499023, -6.016200065612793, -5.135000228881836, -5.38539981842041, -6.60129976272583, -6.793399810791016, -4.5381999015808105, -6.021200180053711, -6.61359977722168, -7.240699768066406, -6.01039981842041, -5.502099990844727, -6.645400047302246, -6.94980001449585, -6.717899799346924, -6.365799903869629, -6.332300186157227, -5.724100112915039, -6.341400146484375, -5.799799919128418, -6.663700103759766, -5.691800117492676, -5.743899822235107, -6.695899963378906, -6.420400142669678, -5.378699779510498, -5.01230001449585, -6.436100006103516, -6.40910005569458, -5.323999881744385, -5.190000057220459, -6.047399997711182, -5.623199939727783, -5.896100044250488, -6.03249979019165, -5.879499912261963, -5.926700115203857, -5.682799816131592, -6.098800182342529, -5.930300235748291, -5.926700115203857, -5.9807000160217285, -5.922699928283691, -5.9253997802734375, -5.996799945831299, -6.0167999267578125, -6.438799858093262, -6.649499893188477, -6.798900127410889, -7.124300003051758, -7.142000198364258, -7.338699817657471, -7.34630012512207, -7.358500003814697, -7.39739990234375, -7.497099876403809, -7.4984002113342285, -7.526500225067139, -7.548799991607666, -7.587200164794922, -7.590700149536133, -7.590799808502197, -7.613800048828125, -7.6407999992370605, -7.6483001708984375, -7.667699813842773, -7.684899806976318, -7.711699962615967, -7.717800140380859, -7.738800048828125, -7.759399890899658, -7.763299942016602, -7.8165998458862305, -7.838600158691406, -7.842100143432617, -7.924200057983398, -4.5005998611450195, -6.912700176239014, -7.049499988555908, -5.817299842834473, -6.839000225067139, -6.265399932861328, -6.495200157165527, -6.003200054168701, -6.764400005340576, -5.637800216674805, -6.213200092315674, -6.678500175476074, -6.411499977111816, -6.644100189208984, -6.860300064086914, -7.324699878692627, -6.704800128936768, -6.8765997886657715, -7.000100135803223, -6.178899765014648, -6.812900066375732, -6.0278000831604, -6.050300121307373, -5.945099830627441, -6.519599914550781, -6.120299816131592, -5.222499847412109, -6.359300136566162, -6.317999839782715, -5.342599868774414, -5.530799865722656, -6.3993000984191895, -5.2453999519348145, -4.998199939727783, -6.178100109100342, -6.031400203704834, -5.768499851226807, -5.684999942779541, -5.749199867248535, -5.708799839019775, -6.010700225830078, -5.732100009918213, -5.861400127410889, -6.0553998947143555, -6.060400009155273, -5.904600143432617, -6.035099983215332, -5.917200088500977, -5.802499771118164, -5.969799995422363, -6.080900192260742, -6.105899810791016, -4.896299839019775, -6.156099796295166, -6.186200141906738, -6.202700138092041, -6.502999782562256, -5.802000045776367, -7.098100185394287, -7.220600128173828, -7.222099781036377, -7.23330020904541, -7.330599784851074, -7.335299968719482, -7.4029998779296875, -7.418499946594238, -7.450500011444092, -6.688700199127197, -7.5100998878479, -6.29010009765625, -7.5991997718811035, -7.602700233459473, -7.705599784851074, -7.7291998863220215, -7.73330020904541, -7.735499858856201, -7.737500190734863, -7.7428998947143555, -7.743199825286865, -7.748600006103516, -7.74970006942749, -7.77370023727417, -6.82420015335083, -7.0777997970581055, -7.357600212097168, -5.5991997718811035, -6.126399993896484, -6.912300109863281, -6.763400077819824, -5.322800159454346, -5.9969000816345215, -4.878200054168701, -6.492300033569336, -6.348199844360352, -6.144999980926514, -6.9756999015808105, -6.882599830627441, -5.38640022277832, -6.6346001625061035, -6.407400131225586, -6.035399913787842, -5.876800060272217, -6.330100059509277, -6.523200035095215, -6.288899898529053, -6.42140007019043, -6.452899932861328, -5.265399932861328, -4.95550012588501, -5.643400192260742, -6.110799789428711, -5.874800205230713, -5.464000225067139, -5.600900173187256, -5.855899810791016, -5.889999866485596, -5.955599784851074, -5.780600070953369, -5.6732001304626465, -5.894999980926514, -5.836400032043457, -6.136300086975098, -5.931399822235107, -5.99459981918335, -6.088799953460693, -6.125500202178955, -6.130300045013428, -5.930699825286865, -6.861299991607666, -7.000400066375732, -7.0980000495910645, -4.713900089263916, -7.242000102996826, -7.309100151062012, -7.376699924468994, -7.3942999839782715, -7.401599884033203, -7.403500080108643, -7.411399841308594, -7.41510009765625, -7.451000213623047, -7.5096001625061035, -7.526500225067139, -7.560400009155273, -7.5696001052856445, -7.601099967956543, -7.677599906921387, -7.68209981918335, -6.471499919891357, -7.715000152587891, -7.836400032043457, -7.882599830627441, -7.88700008392334, -7.890100002288818, -7.893499851226807, -7.899600028991699, -7.91379976272583, -6.117199897766113, -4.715700149536133, -6.922900199890137, -5.441500186920166, -6.523499965667725, -5.441100120544434, -6.802499771118164, -5.9882001876831055, -4.9721999168396, -6.639900207519531, -5.782700061798096, -4.929699897766113, -6.540500164031982, -7.213399887084961, -6.648099899291992, -6.96019983291626, -6.687900066375732, -6.003499984741211, -6.686299800872803, -6.203999996185303, -5.561999797821045, -6.382999897003174, -5.4334001541137695, -6.851500034332275, -6.331999778747559, -6.424099922180176, -6.292799949645996, -5.605599880218506, -4.940000057220459, -6.22730016708374, -5.1006999015808105, -6.166999816894531, -5.248899936676025, -5.335000038146973, -5.332699775695801, -5.3043999671936035, -5.102399826049805, -5.9141998291015625, -5.318600177764893, -6.163899898529053, -6.142899990081787, -6.269999980926514, -5.951900005340576, -5.856100082397461, -5.938899993896484, -6.085299968719482, -6.01140022277832, -6.036900043487549, -6.05210018157959, -6.087600231170654, -6.084099769592285]}, \"token.table\": {\"Topic\": [9, 8, 1, 2, 4, 6, 3, 1, 2, 3, 4, 5, 8, 9, 1, 2, 3, 4, 5, 6, 7, 8, 9, 10, 1, 10, 1, 2, 3, 5, 6, 7, 8, 10, 2, 3, 4, 5, 6, 7, 8, 9, 10, 1, 2, 3, 4, 7, 9, 10, 9, 9, 6, 7, 10, 5, 1, 2, 3, 4, 5, 6, 7, 8, 9, 10, 1, 2, 3, 4, 5, 6, 7, 8, 9, 10, 1, 3, 5, 3, 10, 1, 3, 8, 8, 1, 2, 3, 4, 5, 6, 7, 8, 9, 10, 1, 8, 8, 6, 3, 4, 6, 4, 6, 6, 4, 10, 10, 1, 2, 3, 4, 5, 6, 7, 8, 9, 10, 6, 10, 6, 8, 9, 5, 10, 2, 3, 4, 10, 2, 4, 7, 9, 4, 5, 8, 1, 2, 3, 4, 5, 6, 7, 8, 9, 1, 2, 3, 4, 5, 6, 7, 8, 9, 10, 7, 4, 10, 1, 2, 3, 5, 8, 9, 3, 10, 7, 4, 4, 7, 1, 2, 4, 6, 7, 10, 1, 4, 7, 9, 1, 2, 7, 8, 7, 7, 7, 7, 2, 7, 2, 3, 4, 7, 9, 10, 2, 3, 4, 9, 1, 8, 1, 2, 3, 4, 5, 6, 7, 8, 9, 10, 1, 2, 4, 5, 6, 8, 10, 1, 2, 7, 8, 9, 7, 1, 2, 3, 5, 6, 8, 9, 5, 5, 2, 5, 6, 2, 7, 8, 9, 1, 2, 3, 4, 5, 6, 7, 8, 9, 2, 3, 5, 6, 7, 8, 9, 10, 2, 8, 2, 8, 5, 3, 1, 3, 5, 6, 8, 1, 2, 5, 6, 7, 8, 1, 2, 4, 10, 6, 5, 3, 3, 3, 1, 2, 4, 8, 9, 4, 2, 6, 9, 2, 9, 4, 9, 8, 10, 8, 9, 7, 8, 3, 3, 1, 4, 5, 6, 7, 8, 9, 5, 5, 7, 7, 2, 3, 4, 9, 2, 3, 7, 10, 7, 2, 2, 3, 4, 9, 1, 2, 3, 4, 5, 6, 7, 8, 9, 10, 2, 4, 7, 8, 9, 1, 2, 3, 5, 6, 10, 1, 4, 8, 9, 10, 1, 2, 3, 4, 5, 6, 7, 8, 9, 10, 1, 2, 4, 5, 6, 8, 9, 10, 1, 2, 3, 4, 8, 10, 2, 3, 4, 5, 6, 10, 1, 3, 8, 9, 10, 3, 1, 3, 8, 1, 2, 5, 1, 8, 10, 8, 1, 3, 8, 6, 9, 7, 7, 7, 8, 1, 2, 3, 5, 7, 9, 1, 8, 10, 10, 2, 3, 4, 5, 6, 7, 8, 9, 5, 1, 9, 8, 1, 8, 9, 1, 2, 3, 4, 5, 6, 7, 8, 9, 10, 1, 2, 3, 4, 5, 6, 7, 9, 10, 5, 1, 3, 4, 1, 3, 5, 2, 4, 7, 10, 9, 8, 2, 4, 7, 8, 4, 5, 8, 8, 8, 8, 5, 8, 5, 6, 1, 2, 4, 7, 10, 2, 2, 1, 2, 4, 10, 2, 4, 1, 2, 3, 4, 5, 6, 7, 8, 9, 10, 6, 1, 2, 4, 5, 6, 7, 8, 9, 10, 6, 1, 2, 4, 5, 7, 5, 1, 1, 1, 1, 3, 1, 2, 3, 4, 5, 8, 2, 5, 8, 10, 2, 5, 6, 8, 10, 2, 3, 5, 6, 8, 10, 1, 2, 4, 9, 4, 9, 4, 2, 3, 7, 8, 9, 10, 1, 2, 3, 4, 5, 6, 7, 8, 9, 10, 2, 4, 9, 2, 4, 1, 2, 3, 4, 5, 6, 7, 8, 9, 10, 9, 2, 4, 9, 1, 4, 6, 9, 7, 1, 2, 3, 4, 5, 6, 7, 8, 9, 10, 1, 2, 3, 4, 5, 6, 7, 8, 9, 10, 1, 1, 2, 5, 6, 7, 8, 1, 2, 5, 6, 7, 8, 7, 1, 2, 3, 5, 6, 7, 8, 10, 1, 3, 4, 6, 1, 3, 4, 3, 1, 2, 10, 1, 2, 3, 4, 5, 6, 7, 9, 10, 10, 2, 3, 4, 10, 1, 2, 3, 4, 5, 6, 7, 8, 9, 10, 10, 1, 2, 3, 5, 7, 7, 2, 5, 7, 9, 9, 1, 2, 4, 5, 6, 9, 9, 9, 9, 1, 2, 3, 4, 5, 6, 8, 10, 1, 10, 2, 2, 5, 2, 8, 2, 4, 2, 8, 1, 4, 6, 8, 5, 8, 8, 1, 1, 3, 2, 10, 1, 2, 4, 6, 8, 9, 10, 1, 2, 3, 4, 5, 6, 7, 8, 9, 10, 1, 2, 3, 4, 5, 6, 7, 8, 9, 10, 10, 4, 2, 3, 6, 1, 2, 3, 4, 7, 1, 8, 1, 2, 9, 2, 9, 9, 1, 2, 5, 7, 9, 1, 2, 5, 7, 9, 1, 2, 3, 4, 5, 6, 8, 9, 10, 5, 5, 1, 2, 4, 5, 5, 5, 1, 5, 1, 2, 3, 4, 5, 6, 7, 8, 9, 10, 3, 4, 7, 9, 1, 2, 4, 5, 6, 7, 8, 9, 10, 1, 8, 1, 6, 8, 10, 1, 2, 3, 4, 5, 6, 7, 9, 1, 5, 8, 9, 1, 4, 5, 8, 9, 5, 1, 2, 3, 4, 5, 6, 7, 8, 9, 10, 3, 1, 2, 5, 6, 7, 3, 4, 7, 10, 2, 5, 8, 4, 4, 1, 2, 3, 4, 5, 6, 7, 8, 9, 10, 1, 7, 8, 9, 10, 1, 4, 7, 8, 9, 10, 1, 2, 3, 4, 5, 6, 7, 8, 9, 10, 2, 3, 5, 6, 7, 10, 1, 2, 3, 4, 5, 6, 7, 8, 9, 10, 4, 1, 9, 10, 4, 2, 3, 4, 6, 7, 9, 2, 4, 4, 4, 1, 2, 3, 4, 5, 6, 7, 8, 9, 10, 1, 2, 3, 4, 6, 7, 9, 1, 2, 4, 5, 6, 7, 8, 9, 8, 2, 4, 6, 1, 2, 3, 4, 6, 8, 9, 10, 10, 3, 5, 8, 9, 10, 2, 4, 6, 7, 10, 2, 3, 4, 7, 10, 10, 4, 6, 1, 2, 4, 5, 6, 7, 8, 2, 1, 2, 4, 6, 8, 2, 4, 7, 1, 3, 5, 7, 9, 1, 2, 3, 4, 5, 6, 7, 8, 9, 10, 1, 1, 2, 3, 4, 8, 2, 4, 7, 1, 3, 8, 3, 8, 3, 10, 3, 1, 3, 1, 2, 4, 6, 1, 3, 4, 5, 8, 10, 3, 3, 1, 2, 3, 5, 6, 7, 9, 1, 2, 3, 4, 5, 6, 7, 8, 9, 10, 4, 4, 6, 1, 2, 4, 5, 6, 7, 8, 9, 1, 2, 3, 4, 5, 6, 7, 8, 9, 10, 2, 4, 10, 3, 3, 9, 9, 9, 2, 4, 6, 7, 10, 8, 8, 8, 1, 2, 3, 4, 5, 6, 7, 8, 9, 10, 2, 7, 7, 7, 1, 2, 3, 4, 5, 6, 7, 8, 9, 10, 6, 1, 2, 3, 4, 5, 6, 7, 8, 9, 1, 4, 7, 9, 10, 2, 3, 4, 5, 6, 7, 8, 9, 10, 9, 8, 2, 3, 4, 7, 9, 10, 1, 3, 5, 6, 2, 4, 10, 9, 6, 2, 3, 4, 5, 6, 7, 8, 9, 10, 1, 4, 1, 2, 3, 1, 2, 4, 5, 6, 8, 10, 2, 5, 5, 5, 1, 2, 3, 4, 5, 6, 7, 8, 9, 10, 5, 6, 8, 9, 1, 4, 8, 4, 6, 1, 10, 1, 2, 4, 5, 6, 7, 9, 10, 1, 4, 6, 10, 10, 5, 2, 2, 3, 4, 7, 1, 4, 6, 2, 3, 4, 5, 6, 7, 8, 9, 10, 2, 6, 4, 5, 9, 2, 8, 8, 10, 1, 6, 9, 1, 7, 10, 7, 3, 3, 1, 2, 7, 4, 5, 6, 7, 8, 10, 1, 2, 4, 7, 9, 7, 8, 10, 2, 5, 6, 8, 2, 4, 1, 2, 3, 4, 5, 6, 7, 8, 9, 10, 6, 6, 1, 2, 3, 4, 5, 6, 7, 8, 9, 10, 6, 1, 2, 4, 6, 10, 1, 6, 10, 1, 10, 1, 8, 9, 1, 2, 3, 4, 5, 6, 7, 8, 9, 10, 1, 2, 3, 4, 5, 6, 7, 8, 9, 10, 1, 2, 3, 5, 7, 8, 1, 2, 3, 4, 5, 6, 7, 8, 9, 10, 3, 6, 10, 4, 1, 1, 4, 7, 8, 9, 7, 9, 1, 6, 10, 6, 10, 10, 4, 1, 2, 3, 4, 5, 6, 7, 8, 9, 10, 4, 5, 5, 5, 3, 8, 3, 8, 9, 8, 9, 8, 9, 1, 2, 3, 4, 5, 6, 8, 9, 10, 2, 1, 2, 3, 4, 5, 6, 7, 8, 9, 10, 4, 2, 3, 4, 5, 6, 7, 8, 9, 1, 2, 4, 6, 1, 1, 2, 3, 4, 5, 6, 7, 8, 9, 10, 3, 8, 4, 1, 5, 1, 5, 6, 5, 7, 8, 1, 2, 3, 5, 6, 7, 8, 10, 1, 3, 4, 8, 9, 10, 1, 3, 7, 8, 10, 10, 1, 2, 4, 5, 7, 4, 5, 8, 1, 2, 3, 5, 6, 7, 9, 4, 7, 7, 7, 6, 4, 1, 2, 3, 4, 5, 6, 7, 8, 9, 1, 2, 3, 5, 8, 9, 2, 1, 2, 3, 5, 6, 7, 8, 10, 10, 2, 2, 1, 8, 1, 8, 1, 2, 10, 1, 1, 1, 1, 7, 9, 5, 2, 5, 8, 1, 3, 8, 10, 1, 2, 3, 4, 5, 6, 7, 8, 9, 10, 2, 6, 5, 7, 1, 2, 3, 10, 1, 1, 2, 3, 5, 6, 7, 8, 9, 10, 5, 2, 6, 6, 6, 2, 5, 6, 8, 6, 8, 3, 6, 8, 1, 3, 6, 10, 1, 2, 3, 4, 5, 6, 7, 8, 9, 10, 2, 4, 1, 2, 4, 5, 6, 7, 8, 9, 2, 4, 5, 6, 8, 9, 2, 4, 6, 7, 9, 1, 3, 2, 3, 4, 5, 8, 9, 10, 1, 2, 3, 4, 5, 6, 7, 8, 9, 10, 1, 2, 3, 4, 5, 6, 7, 8, 9, 1, 2, 3, 5, 6, 7, 8, 10, 4, 4, 6, 7, 7, 2, 9, 1, 3, 4, 5, 6, 7, 8, 9, 9, 5, 2, 7, 8, 10, 6, 1, 6, 3, 3, 3, 2, 6, 9, 2, 1, 1, 4, 9, 10, 10, 3, 1, 2, 10, 8, 2, 5, 6, 7, 1, 2, 9, 10, 9, 1, 2, 4, 5, 6, 7, 8, 9, 2, 3, 5, 1, 2, 3, 4, 5, 6, 7, 8, 9, 10, 5, 10, 2, 2, 2, 7, 1, 1, 2, 3, 8, 10, 1, 8, 1, 2, 4, 7, 8, 9, 1, 7, 8, 9, 1, 1, 10, 2, 5, 6, 7, 8, 9, 10, 1, 2, 3, 5, 6, 7, 8, 9, 10, 1, 2, 5, 10, 2, 1, 2, 3, 5, 6, 7, 8, 9, 1, 2, 3, 8, 1, 2, 3, 4, 5, 6, 7, 9, 10, 1, 2, 5, 6, 7, 1, 6, 7, 8, 9, 1, 4, 7, 9, 10, 6, 10, 6, 1, 3, 8, 9, 10, 2, 3, 4, 5, 6, 2, 4, 8, 1, 2, 4, 8, 9, 10, 1, 2, 3, 4, 5, 6, 7, 8, 9, 10, 2, 4, 5, 1, 2, 3, 4, 5, 6, 7, 8, 9, 10, 8, 10, 2, 3, 4, 5, 6, 7, 8, 9, 1, 2, 3, 4, 5, 6, 7, 8, 9, 10, 1, 2, 7, 10, 2, 1, 2, 4, 5, 6, 7, 9, 10, 4, 9, 1, 2, 3, 4, 5, 6, 7, 8, 9, 10, 1, 2, 4, 6, 8, 3, 1, 4, 4, 2, 4, 5, 9, 5, 9, 10, 7, 8, 1, 2, 4, 5, 6, 8, 9, 2, 5, 6, 1, 2, 3, 4, 5, 6, 8, 4, 1, 10, 1, 10, 6, 6, 1, 2, 3, 4, 5, 6, 1, 3, 1, 2, 5, 6, 7, 6, 2, 3, 4, 7, 9, 6, 9, 2, 8, 9, 1, 2, 3, 4, 5, 6, 7, 8, 9, 10, 2, 4, 1, 4, 6, 1, 2, 4, 6, 1, 6, 8, 2, 5, 6, 7, 1, 2, 3, 4, 5, 6, 7, 8, 9, 10, 3, 1, 8, 8, 1, 2, 3, 4, 5, 6, 7, 8, 9, 10, 4, 1, 2, 3, 4, 5, 6, 7, 8, 9, 10, 2, 5, 7, 7, 9, 7, 9, 6, 6, 2, 4, 8, 9, 1, 2, 3, 4, 5, 6, 7, 8, 9, 10, 10, 10, 1, 2, 3, 4, 5, 6, 7, 8, 9, 1, 2, 3, 4, 5, 6, 7, 8, 9, 10, 1, 2, 3, 4, 5, 6, 7, 8, 9, 10, 3, 5, 10, 1, 2, 3, 4, 5, 6, 7, 8, 9, 10, 1, 10, 2, 3, 4, 8, 4, 4, 1, 7, 9, 1, 7, 8, 9, 4, 2, 4, 2, 4, 6, 1, 4, 7, 8, 9, 8, 2, 4, 5, 6, 8, 9, 10, 6, 7, 8, 10, 1, 4, 5, 1, 2, 4, 5, 7, 8, 9, 10, 1, 2, 3, 4, 5, 8, 9, 3, 5, 10, 2, 1, 2, 3, 4, 5, 6, 7, 8, 9, 10, 2, 5, 8, 2, 5, 1, 2, 4, 6, 1, 2, 6, 10, 1, 2, 4, 5, 6, 7, 8, 9, 10, 1, 2, 3, 4, 5, 6, 7, 8, 9, 10, 5, 2, 4, 7, 8, 9, 10, 1, 3, 8, 1, 3, 6, 8, 1, 3, 4, 5, 6, 9, 1, 1, 2, 2, 5, 7, 9, 1, 2, 3, 4, 5, 6, 7, 8, 9, 1, 2, 4, 9, 1, 2, 4, 9, 9, 1, 2, 3, 4, 5, 6, 7, 8, 9, 10, 1, 2, 2, 3, 1, 2, 5, 8, 1, 2, 3, 4, 5, 6, 7, 8, 9, 10, 1, 2, 5, 8, 2, 5, 8, 1, 2, 2, 2, 4, 5, 6, 1, 2, 4, 6, 9, 10, 1, 2, 3, 4, 5, 6, 7, 8, 9, 10, 1, 2, 3, 4, 5, 6, 7, 8, 9, 10, 1, 3, 1, 2, 3, 4, 5, 6, 7, 8, 9, 10, 2, 4, 8, 1, 2, 3, 4, 5, 6, 7, 8, 9, 10, 1, 2, 6, 1, 4, 5, 6, 8, 9, 10, 9], \"Freq\": [0.996120810508728, 0.9950352311134338, 0.1280539631843567, 0.0010244317818433046, 0.023561930283904076, 0.8472050428390503, 0.9989069700241089, 0.05687949061393738, 0.008308240212500095, 0.7380486726760864, 0.005006247200071812, 0.018959831446409225, 0.14092053472995758, 0.03195476904511452, 0.015996715053915977, 0.016467208042740822, 0.08868767321109772, 0.2126622200012207, 0.04375572130084038, 0.21642614901065826, 0.02211310714483261, 0.26794499158859253, 0.07810161262750626, 0.037874575704336166, 0.015497295185923576, 0.9840782284736633, 0.07460884749889374, 0.2611309587955475, 0.03324407711625099, 0.4852112829685211, 0.07435507327318192, 0.016495153307914734, 0.051008086651563644, 0.0038065738044679165, 0.059652991592884064, 0.06661976873874664, 0.3531282842159271, 0.0785939022898674, 0.04092979058623314, 0.03918809816241264, 0.23708799481391907, 0.10689642280340195, 0.017852354794740677, 0.07543086260557175, 0.04407196491956711, 0.27375468611717224, 0.04576703906059265, 0.03220643475651741, 0.06865055859088898, 0.45936545729637146, 0.9978070259094238, 0.9949835538864136, 0.01572064682841301, 0.25327709317207336, 0.7301366925239563, 0.9987674355506897, 0.1732563078403473, 0.1292826235294342, 0.30224576592445374, 0.06508104503154755, 0.08604183793067932, 0.06288236379623413, 0.11066709458827972, 0.041921574622392654, 0.018029209226369858, 0.010407104156911373, 0.7086793184280396, 0.09475939720869064, 0.0408271886408329, 0.03351861611008644, 0.023185810074210167, 0.020917633548378944, 0.04259132593870163, 0.012853004038333893, 0.012348963879048824, 0.010584826581180096, 0.09815230965614319, 0.8924392461776733, 0.00906842015683651, 0.9955642819404602, 0.004358862992376089, 0.024068055674433708, 0.9511827826499939, 0.024727454409003258, 0.9984114170074463, 0.09548540413379669, 0.08219383656978607, 0.03819416090846062, 0.19983185827732086, 0.028569232672452927, 0.11045751720666885, 0.12512408196926117, 0.09181876480579376, 0.1883736103773117, 0.03987470641732216, 0.011894511058926582, 0.9872444272041321, 0.9982061982154846, 0.9984540343284607, 0.009149798192083836, 0.06280089169740677, 0.9278727173805237, 0.06067942827939987, 0.9381973147392273, 0.9955115914344788, 0.12329385429620743, 0.8763197064399719, 0.9872839450836182, 0.2657966613769531, 0.08290500193834305, 0.14313261210918427, 0.08378853648900986, 0.07259709388017654, 0.04682733491063118, 0.10455159842967987, 0.05963858589529991, 0.05463189259171486, 0.08614462614059448, 0.9986955523490906, 0.9946550726890564, 0.9989308714866638, 0.9951475262641907, 0.9993327260017395, 0.9952511191368103, 0.9929986596107483, 0.33978980779647827, 0.011406371369957924, 0.05463051423430443, 0.5937316417694092, 0.04434854909777641, 0.02956569939851761, 0.08130566775798798, 0.8463181257247925, 0.013433638960123062, 0.9710602164268494, 0.013433638960123062, 0.6947689652442932, 0.14558400213718414, 0.1047152429819107, 0.01736483909189701, 0.004385060165077448, 0.010348742827773094, 0.014032193459570408, 0.004560462664812803, 0.0040342556312680244, 0.23239634931087494, 0.27652427554130554, 0.02367447130382061, 0.14116105437278748, 0.1281159371137619, 0.10403883457183838, 0.06667504459619522, 0.012481439858675003, 0.014252998866140842, 0.0005636779242195189, 0.997975766658783, 0.08904623240232468, 0.9053033590316772, 0.005181560292840004, 0.002932958770543337, 0.9534071087837219, 0.02844969928264618, 0.006256978493183851, 0.0038128462620079517, 0.9969615936279297, 0.9934589862823486, 0.9955756068229675, 0.992081344127655, 0.9981961846351624, 0.9969013929367065, 0.008792463690042496, 0.8950728178024292, 0.060428205877542496, 0.005115615203976631, 0.015027119778096676, 0.01550670899450779, 0.07294289022684097, 0.13396242260932922, 0.10801158845424652, 0.6852423548698425, 0.02772713080048561, 0.024261238053441048, 0.9413360953330994, 0.0062386044301092625, 0.9971802830696106, 0.9947943091392517, 0.9965376257896423, 0.9979100823402405, 0.015852278098464012, 0.9835618138313293, 0.31772351264953613, 0.20137612521648407, 0.457194060087204, 0.009805378504097462, 0.008341888897120953, 0.005561259109526873, 0.45143699645996094, 0.06040982902050018, 0.46720901131629944, 0.020830975845456123, 0.9984245300292969, 0.9930370450019836, 0.6031172275543213, 0.12899039685726166, 0.10759764164686203, 0.009190961718559265, 0.03581305965781212, 0.012677188962697983, 0.051818009465932846, 0.027414420619606972, 0.022660475224256516, 0.0006338594248518348, 0.011494960635900497, 0.10673891752958298, 0.6708130240440369, 0.017652975395321846, 0.028737399727106094, 0.05460106208920479, 0.10961265861988068, 0.0413079559803009, 0.14174297451972961, 0.7378734946250916, 0.06317687034606934, 0.015389238484203815, 0.9983534812927246, 0.08536511659622192, 0.0363161601126194, 0.004428799729794264, 0.8209887742996216, 0.028787199407815933, 0.017161600291728973, 0.006975359749048948, 0.9992288947105408, 0.9970918893814087, 0.020343998447060585, 0.9652097225189209, 0.013562665320932865, 0.07486549764871597, 0.8573881983757019, 0.005347535479813814, 0.06149665638804436, 0.1777614951133728, 0.0608314611017704, 0.437791645526886, 0.01252821832895279, 0.06514673680067062, 0.009883372113108635, 0.04120391979813576, 0.15479309856891632, 0.04022950306534767, 0.05386641249060631, 0.331985205411911, 0.17344221472740173, 0.008659375831484795, 0.06201641261577606, 0.3118648827075958, 0.05170156806707382, 0.006367188412696123, 0.0355990007519722, 0.9631507396697998, 0.02500322088599205, 0.9751256704330444, 0.9970595836639404, 0.9975889325141907, 0.0624888576567173, 0.0111879613250494, 0.6551779508590698, 0.2652365565299988, 0.006003296468406916, 0.21058592200279236, 0.013799759559333324, 0.466559499502182, 0.30574843287467957, 0.0012762784026563168, 0.0019941849168390036, 0.19982364773750305, 0.0030507429037243128, 0.3152434229850769, 0.48150891065597534, 0.9955287575721741, 0.9986157417297363, 0.9996891617774963, 0.9995335340499878, 0.9984347224235535, 0.21933205425739288, 0.018062639981508255, 0.02752402238547802, 0.018062639981508255, 0.7164847254753113, 0.995746374130249, 0.25298741459846497, 0.00807406660169363, 0.7387771010398865, 0.013388684950768948, 0.9840683341026306, 0.21707947552204132, 0.7827091217041016, 0.9977713227272034, 0.994520902633667, 0.9986393451690674, 0.9955224990844727, 0.027205152437090874, 0.9721307754516602, 0.9961379766464233, 0.9984792470932007, 0.25671496987342834, 0.10332511365413666, 0.23141629993915558, 0.277220219373703, 0.005059734918177128, 0.10019606351852417, 0.026097580790519714, 0.998199462890625, 0.9967668056488037, 0.9970917105674744, 0.9992696046829224, 0.5095739960670471, 0.06544806063175201, 0.39170172810554504, 0.03321735933423042, 0.10697203874588013, 0.8014413118362427, 0.020375626161694527, 0.06961672008037567, 0.9975550174713135, 0.9956969022750854, 0.008464078418910503, 0.3451871871948242, 0.5689332485198975, 0.07728071510791779, 0.14454419910907745, 0.18510913848876953, 0.01728167198598385, 0.19002608954906464, 0.11034239828586578, 0.10477466136217117, 0.06493281573057175, 0.07491134852170944, 0.054809655994176865, 0.05329118296504021, 0.07579804956912994, 0.015379314310848713, 0.1856502890586853, 0.013182269409298897, 0.7107440233230591, 0.003407565411180258, 0.020445391535758972, 0.18400852382183075, 0.027260523289442062, 0.023852957412600517, 0.7411454319953918, 0.16626080870628357, 0.05426567792892456, 0.1547149121761322, 0.06234779953956604, 0.5622848272323608, 0.34909534454345703, 0.15237560868263245, 0.13586123287677765, 0.0720209851861, 0.07951360940933228, 0.03042924776673317, 0.06452835351228714, 0.06452835351228714, 0.04166819155216217, 0.009939201176166534, 0.31154555082321167, 0.10939624160528183, 0.11519331485033035, 0.020196229219436646, 0.006919078528881073, 0.06900378316640854, 0.023375265300273895, 0.3444579243659973, 0.7549812197685242, 0.07308627665042877, 0.023874850943684578, 0.019489673897624016, 0.0038979346863925457, 0.12449029088020325, 0.2557442784309387, 0.008350834250450134, 0.05010500177741051, 0.02974984608590603, 0.6497992873191833, 0.00574119808152318, 0.04797099158167839, 0.8476691842079163, 0.091035857796669, 0.010902497917413712, 0.0024530619848519564, 0.998496413230896, 0.04566118121147156, 0.8363510370254517, 0.11790989339351654, 0.9956160187721252, 0.6655181646347046, 0.3341580629348755, 0.020483562722802162, 0.9761477708816528, 0.00282531906850636, 0.9944052696228027, 0.007903557270765305, 0.03477565199136734, 0.956330418586731, 0.9951574206352234, 0.0044189938344061375, 0.9991483688354492, 0.9992738962173462, 0.9965691566467285, 0.9974766969680786, 0.8805888295173645, 0.04935353994369507, 0.06152290478348732, 0.004732531029731035, 0.002704303478822112, 0.0010141137754544616, 0.10595940053462982, 0.09523476660251617, 0.7983418703079224, 0.9938991069793701, 0.27094024419784546, 0.006366741843521595, 0.20939506590366364, 0.09385049343109131, 0.055178429931402206, 0.3119703531265259, 0.0221656933426857, 0.029947267845273018, 0.9992454051971436, 0.9988959431648254, 0.998934805393219, 0.9980504512786865, 0.009928567335009575, 0.9511567950248718, 0.03574284166097641, 0.06376942992210388, 0.09707335382699966, 0.00359530933201313, 0.4787438213825226, 0.05241582542657852, 0.26453906297683716, 0.013624330051243305, 0.007379845250397921, 0.018165772780776024, 0.0009461340378038585, 0.05072836950421333, 0.05945315212011337, 0.008226222358644009, 0.2947729527950287, 0.10083354264497757, 0.18957702815532684, 0.19182054698467255, 0.05421828106045723, 0.050354450941085815, 0.9967100620269775, 0.011842283420264721, 0.010855426080524921, 0.9769883751869202, 0.0055000269785523415, 0.024062618613243103, 0.9700672626495361, 0.8976972103118896, 0.03599604219198227, 0.05656521022319794, 0.009549970738589764, 0.9986367225646973, 0.997952401638031, 0.05623830482363701, 0.021180659532546997, 0.6551397442817688, 0.2680448889732361, 0.02342415042221546, 0.13191495835781097, 0.8445022702217102, 0.9982593655586243, 0.9937650561332703, 0.9946570992469788, 0.22810880839824677, 0.7711890339851379, 0.05854782462120056, 0.9396211504936218, 0.18697260320186615, 0.34243297576904297, 0.32478612661361694, 0.004831876140087843, 0.14075465500354767, 0.9983385801315308, 0.9981837868690491, 0.056393496692180634, 0.6455293297767639, 0.28320109844207764, 0.014979522675275803, 0.08406193554401398, 0.9155440926551819, 0.06541390717029572, 0.11168449372053146, 0.014153355732560158, 0.025857092812657356, 0.03311522305011749, 0.6818106770515442, 0.000997993047349155, 0.04318587854504585, 0.019052594900131226, 0.004808512050658464, 0.9986215233802795, 0.05681196600198746, 0.15296587347984314, 0.2740180194377899, 0.0965665876865387, 0.14567524194717407, 0.016919786110520363, 0.11087274551391602, 0.08542428910732269, 0.060663625597953796, 0.9987969398498535, 0.11887921392917633, 0.1311308592557907, 0.01818603090941906, 0.5898017287254333, 0.14204247295856476, 0.9979346394538879, 0.9981513023376465, 0.9983175992965698, 0.998572587966919, 0.9757933616638184, 0.02320805937051773, 0.9992216229438782, 0.8352687358856201, 0.08881591260433197, 0.016632193699479103, 0.033597029745578766, 0.025946222245693207, 0.9342167973518372, 0.023436235263943672, 0.025860672816634178, 0.016162920743227005, 0.9518476724624634, 0.018906328827142715, 0.008250034414231777, 0.018046949058771133, 0.002750011393800378, 0.8522422909736633, 0.020047275349497795, 0.06480398029088974, 0.03333442285656929, 0.028672264888882637, 0.0011655392590910196, 0.051217157393693924, 0.029069198295474052, 0.5629273056983948, 0.356674462556839, 0.1235930547118187, 0.8766484260559082, 0.9905999898910522, 0.011633447371423244, 0.2864736318588257, 0.07319377362728119, 0.4667920470237732, 0.16141407191753387, 0.9963942766189575, 0.06055856868624687, 0.1639108955860138, 0.15599945187568665, 0.1001158282160759, 0.10371194034814835, 0.1044311672449112, 0.08012142777442932, 0.09112554043531418, 0.10615730285644531, 0.03394732251763344, 0.1207275390625, 0.8740673661231995, 0.0032194009982049465, 0.27839547395706177, 0.7213351726531982, 0.23420564830303192, 0.1329275369644165, 0.003843142883852124, 0.20346049964427948, 0.02622379921376705, 0.10806013643741608, 0.004973479080945253, 0.02396312542259693, 0.20413871109485626, 0.05832534655928612, 0.9958741068840027, 0.021457605063915253, 0.016408756375312805, 0.9605433940887451, 0.08640839904546738, 0.09616418927907944, 0.016724206507205963, 0.7999745607376099, 0.9978270530700684, 0.498470664024353, 0.15883292257785797, 0.07498238235712051, 0.05175306275486946, 0.06075359508395195, 0.02667069621384144, 0.05539298430085182, 0.04553210735321045, 0.01919231191277504, 0.008404909633100033, 0.13556799292564392, 0.14971350133419037, 0.12289426475763321, 0.2058049738407135, 0.08659017086029053, 0.09092377126216888, 0.06541278213262558, 0.0833195298910141, 0.037612348794937134, 0.022158579900860786, 0.9970016479492188, 0.1855696439743042, 0.13200068473815918, 0.46734726428985596, 0.11266300082206726, 0.08816059678792953, 0.014052847400307655, 0.32964733242988586, 0.06837129592895508, 0.5323193669319153, 0.02531794272363186, 0.009381775744259357, 0.03495675325393677, 0.9982296228408813, 0.7040836215019226, 0.16333340108394623, 0.03704168274998665, 0.040250014513731, 0.023333342745900154, 0.01895834133028984, 0.012833338230848312, 0.9950379729270935, 0.011732455343008041, 0.7823695540428162, 0.19883424043655396, 0.007409972138702869, 0.008094703778624535, 0.8853582739830017, 0.10624299198389053, 0.996979832649231, 0.019195640459656715, 0.9610617160797119, 0.017915930598974228, 0.07054451107978821, 0.20569829642772675, 0.1995934695005417, 0.05341711640357971, 0.20366334915161133, 0.030015330761671066, 0.02153642475605011, 0.004578609950840473, 0.21095521748065948, 0.9906516075134277, 0.016707614064216614, 0.004455363843590021, 0.09356264024972916, 0.8832758665084839, 0.3055783212184906, 0.14121422171592712, 0.13641062378883362, 0.07483196258544922, 0.0687551200389862, 0.04994584992527962, 0.08669627457857132, 0.06146291270852089, 0.03860241174697876, 0.036518923938274384, 0.9979512691497803, 0.0480823889374733, 0.08349189907312393, 0.0018636584281921387, 0.015654731541872025, 0.850573718547821, 0.9982147216796875, 0.02196401357650757, 0.008199898526072502, 0.9646594524383545, 0.004685656167566776, 0.9930664896965027, 0.0716058537364006, 0.08733430504798889, 0.12748324871063232, 0.04014894738793373, 0.013245012611150742, 0.6601811051368713, 0.9958536624908447, 0.9935566186904907, 0.9953967332839966, 0.08230765163898468, 0.15997229516506195, 0.2703489661216736, 0.07238852232694626, 0.02110452577471733, 0.06795657426118851, 0.06373566389083862, 0.261907160282135, 0.1278097778558731, 0.8711931705474854, 0.9979590177536011, 0.999062716960907, 0.9956645369529724, 0.7368431687355042, 0.2630782425403595, 0.9977840185165405, 0.9937919974327087, 0.04499345272779465, 0.9536112546920776, 0.01322865393012762, 0.06945043057203293, 0.8620672821998596, 0.05401700362563133, 0.9692845344543457, 0.030094217509031296, 0.9947310090065002, 0.9978454113006592, 0.9983437657356262, 0.995845377445221, 0.05066850036382675, 0.9486269354820251, 0.10507142543792725, 0.14018963277339935, 0.5667060017585754, 0.013310935348272324, 0.004531382117420435, 0.003964959643781185, 0.1659618765115738, 0.44657304883003235, 0.1610562950372696, 0.03288448601961136, 0.08087339252233505, 0.05187290161848068, 0.13585348427295685, 0.025375429540872574, 0.01406869012862444, 0.03642323613166809, 0.01501811109483242, 0.41290226578712463, 0.29161521792411804, 0.03663131967186928, 0.1666201800107956, 0.0534069687128067, 0.000119612472190056, 0.026015713810920715, 0.0007774810655973852, 0.00950919184833765, 0.002422152552753687, 0.9863002300262451, 0.9971485733985901, 0.1359087973833084, 0.02542809769511223, 0.8382503986358643, 0.013681421987712383, 0.5054925680160522, 0.0019802057649940252, 0.44068580865859985, 0.03798395022749901, 0.996088445186615, 0.9983341097831726, 0.07925362884998322, 0.005283575039356947, 0.915115237236023, 0.03816446661949158, 0.9588822722434998, 0.9982244968414307, 0.018553169444203377, 0.009647647850215435, 0.016623638570308685, 0.8880288600921631, 0.06708826124668121, 0.06791646033525467, 0.06875494122505188, 0.00922322366386652, 0.8267362117767334, 0.026831194758415222, 0.01880366913974285, 0.036082714796066284, 0.0028798410203307867, 0.011858168989419937, 0.7363923192024231, 0.00474326778203249, 0.013213388621807098, 0.1688942164182663, 0.00728430412709713, 0.9935029745101929, 0.9982702136039734, 0.009438478387892246, 0.12806297838687897, 0.030031520873308182, 0.8323021531105042, 0.9979739189147949, 0.9986881017684937, 0.011498299427330494, 0.9888537526130676, 0.09095097333192825, 0.3333580791950226, 0.0026623986195772886, 0.17808011174201965, 0.20543411374092102, 0.09571752697229385, 0.040537167340517044, 0.032807622104883194, 0.016146158799529076, 0.004294191487133503, 0.998145341873169, 0.010296233929693699, 0.06949958205223083, 0.918938934803009, 0.2766037583351135, 0.09295415878295898, 0.05664122477173805, 0.40448087453842163, 0.06428605318069458, 0.06306982785463333, 0.021370768547058105, 0.01424717903137207, 0.006254859268665314, 0.062337618321180344, 0.9373310804367065, 0.02905963733792305, 0.0016605507116764784, 0.9531561136245728, 0.015775231644511223, 0.5278489589691162, 0.14824752509593964, 0.060615550726652145, 0.0710381343960762, 0.07597514241933823, 0.04511881247162819, 0.04827301576733589, 0.022765114903450012, 0.016108257696032524, 0.918170690536499, 0.047624412924051285, 0.01750897616147995, 0.014324459247291088, 0.014324459247291088, 0.9133548140525818, 0.013642341829836369, 0.04365549609065056, 0.9950934052467346, 0.6945071816444397, 0.04231574758887291, 0.14228670299053192, 0.007934202440083027, 0.016573667526245117, 0.0031736809760332108, 0.03438154608011246, 0.032618388533592224, 0.01886576972901821, 0.007228940259665251, 0.9968833327293396, 0.09636180102825165, 0.1865067034959793, 0.12931132316589355, 0.0009325335267931223, 0.5868744254112244, 0.14888906478881836, 0.7582013607025146, 0.07849042862653732, 0.01375605445355177, 0.011329921893775463, 0.02719181217253208, 0.9607773423194885, 0.9992145895957947, 0.9989769458770752, 0.4157172441482544, 0.14821578562259674, 0.09443026036024094, 0.11113636940717697, 0.06651883572340012, 0.08128947764635086, 0.010492251254618168, 0.03443088382482529, 0.015585577115416527, 0.022206900641322136, 0.02510869689285755, 0.027978261932730675, 0.7855435013771057, 0.10617391765117645, 0.05452174320816994, 0.0069768489338457584, 0.007848955690860748, 0.10552484542131424, 0.7308249473571777, 0.07412902265787125, 0.07500112801790237, 0.05507912114262581, 0.1475883573293686, 0.09499667584896088, 0.12472756206989288, 0.14379796385765076, 0.1035250574350357, 0.06325215101242065, 0.11181654036045074, 0.07486022263765335, 0.08030891418457031, 0.6377525925636292, 0.013234813697636127, 0.2710379660129547, 0.013234813697636127, 0.05928093567490578, 0.005238780286163092, 0.027079729363322258, 0.3744008243083954, 0.013741951435804367, 0.12394701689481735, 0.1491405963897705, 0.04930935800075531, 0.1279887706041336, 0.040552228689193726, 0.0602220818400383, 0.03368125483393669, 0.9970613121986389, 0.18280485272407532, 0.1068943664431572, 0.7095307111740112, 0.9907963871955872, 0.19455131888389587, 0.11644503474235535, 0.5686517953872681, 0.04762578010559082, 0.048102039843797684, 0.024646341800689697, 0.0034868617076426744, 0.9937556385993958, 0.9988608956336975, 0.996802806854248, 0.07032976299524307, 0.005185604561120272, 0.33965709805488586, 0.1967288702726364, 0.0816732719540596, 0.04067458584904671, 0.04148483648896217, 0.15265123546123505, 0.034030526876449585, 0.03743358328938484, 0.12383486330509186, 0.10389263182878494, 0.0025731921195983887, 0.5278260111808777, 0.0038597879465669394, 0.19845743477344513, 0.03924117982387543, 0.0106919901445508, 0.23255079984664917, 0.474308580160141, 0.08939692378044128, 0.12117589265108109, 0.020195981487631798, 0.0317789725959301, 0.01989898271858692, 0.9986432790756226, 0.19450999796390533, 0.7755841016769409, 0.02947121299803257, 0.04599582031369209, 0.0012717738281935453, 0.08626866340637207, 0.32620999217033386, 0.16045546531677246, 0.03285415843129158, 0.014413436874747276, 0.33256885409355164, 0.9937480092048645, 0.17547018826007843, 0.03454853221774101, 0.7018807530403137, 0.0718245804309845, 0.015455923043191433, 0.3531472980976105, 0.26921749114990234, 0.022014377638697624, 0.03623199462890625, 0.3187498450279236, 0.1483757346868515, 0.017754361033439636, 0.17373910546302795, 0.015218024142086506, 0.6442297101020813, 0.9972991943359375, 0.9925245642662048, 0.9984707832336426, 0.13943420350551605, 0.7585511207580566, 0.008699534460902214, 0.012082687579095364, 0.047605786472558975, 0.00894118845462799, 0.02464868128299713, 0.99705970287323, 0.020400183275341988, 0.8916449546813965, 0.07187141478061676, 0.00972931832075119, 0.006276979576796293, 0.9994835257530212, 0.8706308603286743, 0.1275649517774582, 0.00446027796715498, 0.9946419596672058, 0.09217214584350586, 0.8437296748161316, 0.06381148844957352, 0.5951474905014038, 0.09568323940038681, 0.04846737161278725, 0.043233808130025864, 0.05392848700284958, 0.04255116730928421, 0.06314411014318466, 0.03379063308238983, 0.019910305738449097, 0.003982061054557562, 0.997570812702179, 0.042813368141651154, 0.8944270610809326, 0.0037229014560580254, 0.04188264161348343, 0.017683781683444977, 0.9986703991889954, 0.020289162173867226, 0.9785619378089905, 0.08874049037694931, 0.8059995174407959, 0.10513662546873093, 0.05883448198437691, 0.939513087272644, 0.9896542429924011, 0.010266122408211231, 0.9988760352134705, 0.032955292612314224, 0.9666885733604431, 0.009742161259055138, 0.0776507556438446, 0.07679115235805511, 0.835533618927002, 0.05699177458882332, 0.8682030439376831, 0.020414963364601135, 0.004536658525466919, 0.02580224722623825, 0.023817457258701324, 0.9993107318878174, 0.9978656768798828, 0.8261263966560364, 0.12181934714317322, 0.00582071952521801, 0.01330450177192688, 0.002078828401863575, 0.01787792332470417, 0.012888736091554165, 0.1263321191072464, 0.18738417327404022, 0.007610368076711893, 0.12227325141429901, 0.06223589926958084, 0.23659789562225342, 0.06477268785238266, 0.04633868858218193, 0.07661104202270508, 0.07001538574695587, 0.9963754415512085, 0.9487485289573669, 0.0466051921248436, 0.3899330496788025, 0.15271571278572083, 0.013062273152172565, 0.280758261680603, 0.1244947537779808, 0.0019351516384631395, 0.02725338563323021, 0.009837021119892597, 0.43625009059906006, 0.13013671338558197, 0.02596243843436241, 0.1457953155040741, 0.046488989144563675, 0.06782686710357666, 0.06466269493103027, 0.030181333422660828, 0.03034359961748123, 0.022311469539999962, 0.04116889461874962, 0.9557064771652222, 0.9974039196968079, 0.9984988570213318, 0.0022966149263083935, 0.9967309236526489, 0.9977508187294006, 0.9994664192199707, 0.26611024141311646, 0.11844213306903839, 0.02230403758585453, 0.16689573228359222, 0.42531493306159973, 0.9948551654815674, 0.9981409311294556, 0.998056948184967, 0.0019208270823583007, 0.23596622049808502, 0.08968784660100937, 0.37190166115760803, 0.01566212810575962, 0.15204085409641266, 0.02630055509507656, 0.04831618815660477, 0.05496520549058914, 0.003102874383330345, 0.9993369579315186, 0.9998637437820435, 0.9971510767936707, 0.9989231824874878, 0.3702816367149353, 0.08319618552923203, 0.24191875755786896, 0.05251692980527878, 0.06423470377922058, 0.030040109530091286, 0.04889507219195366, 0.06455427408218384, 0.021837668493390083, 0.022370293736457825, 0.9976475834846497, 0.3559640944004059, 0.15538224577903748, 0.1689833402633667, 0.07528688758611679, 0.07247050106525421, 0.059075478464365005, 0.07508081197738647, 0.02548488788306713, 0.012227250263094902, 0.2809831500053406, 0.05315897613763809, 0.00433950824663043, 0.07485651969909668, 0.5858336091041565, 0.1513204574584961, 0.10271752625703812, 0.1603395640850067, 0.10046275705099106, 0.0884372889995575, 0.04684921354055405, 0.059626273810863495, 0.2450188845396042, 0.04484497010707855, 0.9943332076072693, 0.994679868221283, 0.26015505194664, 0.036677006632089615, 0.3437570333480835, 0.24145695567131042, 0.043149419128894806, 0.07479232549667358, 0.05739995837211609, 0.03558797389268875, 0.85411137342453, 0.05280796438455582, 0.028520843014121056, 0.00419424194842577, 0.966772735118866, 0.9939494132995605, 0.9982976913452148, 0.35620880126953125, 0.05520624294877052, 0.09706995636224747, 0.053247708827257156, 0.009915090166032314, 0.10588337481021881, 0.18116462230682373, 0.11738977581262589, 0.02399207092821598, 0.008862481452524662, 0.9881666302680969, 0.03219052776694298, 0.001005953992716968, 0.9657158255577087, 0.016170848160982132, 0.04140717163681984, 0.004900256637483835, 0.8134426474571228, 0.00220511551015079, 0.04165218397974968, 0.08011920005083084, 0.02552376128733158, 0.973656415939331, 0.9985513091087341, 0.9990009069442749, 0.3159801959991455, 0.08082541823387146, 0.2238835245370865, 0.03949752449989319, 0.12976381182670593, 0.036703795194625854, 0.045759327709674835, 0.060883987694978714, 0.024276526644825935, 0.0425802581012249, 0.9782754778862, 0.014011758379638195, 0.006368981208652258, 0.9974004030227661, 0.020950034260749817, 0.0044105337001383305, 0.9736253023147583, 0.9104067087173462, 0.08897742629051208, 0.06240078806877136, 0.9374629855155945, 0.16972605884075165, 0.23680342733860016, 0.3445337414741516, 0.044718243181705475, 0.029270123690366745, 0.07744386792182922, 0.05854024738073349, 0.03882356733083725, 0.013004740700125694, 0.007802844513207674, 0.011270775459706783, 0.9675527215003967, 0.9945164918899536, 0.999238908290863, 0.9973330497741699, 0.022315366193652153, 0.03905189037322998, 0.9372454285621643, 0.9983141422271729, 0.9551413655281067, 0.021902544423937798, 0.021902544423937798, 0.07980508357286453, 0.09732816368341446, 0.08741510659456253, 0.17893561720848083, 0.16031110286712646, 0.0851120725274086, 0.1543031930923462, 0.1288696974515915, 0.028036918491125107, 0.005102908238768578, 0.9948119521141052, 0.0032717802096158266, 0.9619033932685852, 0.034119993448257446, 0.8910728693008423, 0.10858806222677231, 0.09041360765695572, 0.9090232849121094, 0.018976859748363495, 0.9796803593635559, 0.9952362775802612, 0.9459487199783325, 0.03334512934088707, 0.02106008306145668, 0.998211681842804, 0.9989869594573975, 0.9977887868881226, 0.8811648488044739, 0.061509884893894196, 0.05650326609611511, 0.6004440784454346, 0.06498312950134277, 0.11047131568193436, 0.11307064443826675, 0.007364754565060139, 0.10397300124168396, 0.9158265590667725, 0.005497158505022526, 0.040678970515728, 0.023088064044713974, 0.014292611740529537, 0.9973657727241516, 0.9977162480354309, 0.9911748170852661, 0.9990386366844177, 0.8979673981666565, 0.09346432983875275, 0.008281649090349674, 0.05967584252357483, 0.9401760101318359, 0.5370700359344482, 0.19545425474643707, 0.030777301639318466, 0.04561416804790497, 0.056159380823373795, 0.030777301639318466, 0.06045103445649147, 0.008951167576014996, 0.016676146537065506, 0.018024953082203865, 0.9982062578201294, 0.994354248046875, 0.5490851402282715, 0.17264558374881744, 0.09952287375926971, 0.06210682913661003, 0.016143977642059326, 0.0157008096575737, 0.013295040465891361, 0.045203134417533875, 0.021145444363355637, 0.005254706367850304, 0.9989391565322876, 0.8785707950592041, 0.010109759867191315, 0.06587649881839752, 0.02967703714966774, 0.0156538225710392, 0.20362170040607452, 0.07166573405265808, 0.7234826683998108, 0.0206749327480793, 0.9768905639648438, 0.9943006038665771, 0.9960831999778748, 0.9995553493499756, 0.34123915433883667, 0.1909232884645462, 0.06274228543043137, 0.09010902792215347, 0.1576405018568039, 0.046362485736608505, 0.05489446967840195, 0.02829238399863243, 0.027487481012940407, 0.0002817164931911975, 0.1527983844280243, 0.2000957727432251, 0.012909404002130032, 0.14990489184856415, 0.2289193570613861, 0.1435614824295044, 0.0782354399561882, 0.009682053700089455, 0.01034978125244379, 0.013688419945538044, 0.8901768326759338, 0.042203862220048904, 0.03246450796723366, 0.009090062230825424, 0.003246450796723366, 0.02272515557706356, 0.1437842696905136, 0.15234234929084778, 0.08383413404226303, 0.27080172300338745, 0.039253588765859604, 0.06658700853586197, 0.16260328888893127, 0.026722131296992302, 0.03030254691839218, 0.023796668276190758, 0.9994367361068726, 0.14693914353847504, 0.8503711819648743, 0.9986286759376526, 0.9952362179756165, 0.002575950464233756, 0.005151900928467512, 0.20092414319515228, 0.06053483858704567, 0.7289940118789673, 0.07688922435045242, 0.9226707220077515, 0.028180407360196114, 0.017932986840605736, 0.9530101418495178, 0.9971649050712585, 0.9942867755889893, 0.9987019300460815, 0.9931795001029968, 0.051085516810417175, 0.15676867961883545, 0.06747545301914215, 0.042464833706617355, 0.16028080880641937, 0.10972742736339569, 0.15879081189632416, 0.16794362664222717, 0.05023409053683281, 0.03522771969437599, 0.011153842322528362, 0.9882304072380066, 0.9985987544059753, 0.998338520526886, 0.24740952253341675, 0.7521249055862427, 0.1895250380039215, 0.786177933216095, 0.023866115137934685, 0.9641762971878052, 0.03467072173953056, 0.9468070864677429, 0.05192168056964874, 0.05739778280258179, 0.006284428760409355, 0.06703390926122665, 0.15794864296913147, 0.043362557888031006, 0.012149895541369915, 0.5247498154640198, 0.0597020722925663, 0.07122352719306946, 0.9995489716529846, 0.4175872504711151, 0.1495012491941452, 0.07811421900987625, 0.07950975745916367, 0.07432122528553009, 0.06755824387073517, 0.06816655397415161, 0.033421292901039124, 0.026336265727877617, 0.005439011380076408, 0.9935070276260376, 0.004312780220061541, 0.010284322313964367, 0.07066324353218079, 0.020568644627928734, 0.1111370325088501, 0.5945001840591431, 0.10715600103139877, 0.08127932250499725, 0.09628991782665253, 0.181309774518013, 0.47887924313545227, 0.24339403212070465, 0.9986326694488525, 0.24361898005008698, 0.07237526029348373, 0.2983814477920532, 0.04617808014154434, 0.03330150246620178, 0.025457147508859634, 0.04380997642874718, 0.21475768089294434, 0.019536880776286125, 0.0026641201693564653, 0.9969707727432251, 0.9966233968734741, 0.9924699664115906, 0.9981844425201416, 0.9960411787033081, 0.11863738298416138, 0.4487217962741852, 0.43254396319389343, 0.007329215295612812, 0.9796717762947083, 0.012215358205139637, 0.8104630708694458, 0.007577372249215841, 0.14144428074359894, 0.004420133773237467, 0.0034729621838778257, 0.005367305129766464, 0.0034729621838778257, 0.02304784022271633, 0.17622554302215576, 0.7113555073738098, 0.003474869765341282, 0.003474869765341282, 0.036734338849782944, 0.06850457191467285, 0.028548965230584145, 0.9706647992134094, 0.9066465497016907, 0.08704878389835358, 0.006696059834212065, 0.9977797269821167, 0.017056087031960487, 0.021117061376571655, 0.022741449996829033, 0.921028733253479, 0.017056087031960487, 0.005138816311955452, 0.9935789704322815, 0.0013405608478933573, 0.11943750828504562, 0.4387170076370239, 0.07482831925153732, 0.25020718574523926, 0.008454160764813423, 0.10270906239748001, 0.005576148629188538, 0.9960876703262329, 0.9985978603363037, 0.9987171292304993, 0.9983978271484375, 0.9982230067253113, 0.9965094327926636, 0.7751030921936035, 0.07382417470216751, 0.0009126614895649254, 0.058663852512836456, 0.03665857017040253, 0.0021802468691021204, 0.017796898260712624, 0.03021923638880253, 0.004664714448153973, 0.2346373051404953, 0.01865558885037899, 0.4211932122707367, 0.11231818795204163, 0.20848101377487183, 0.0048081413842737675, 0.9955224394798279, 0.02227049693465233, 0.048798590898513794, 0.3831835687160492, 0.1673562377691269, 0.007532668299973011, 0.005567624233663082, 0.3654981553554535, 0.9941147565841675, 0.9939738512039185, 0.9992921948432922, 0.9994134306907654, 0.006357128731906414, 0.9934458136558533, 0.004302551969885826, 0.9938894510269165, 0.9518440365791321, 0.0006820809794589877, 0.047063589096069336, 0.9976964592933655, 0.9961913824081421, 0.9974220395088196, 0.9987758994102478, 0.02252204343676567, 0.9768936634063721, 0.9966351389884949, 0.006798070389777422, 0.9874196648597717, 0.005098552443087101, 0.049606598913669586, 0.6581141948699951, 0.2476196140050888, 0.044232551008462906, 0.07026057690382004, 0.05235101655125618, 0.596526026725769, 0.009643608704209328, 0.0872516930103302, 0.07944495975971222, 0.027553167194128036, 0.012398924678564072, 0.0440850667655468, 0.020205656066536903, 0.06478521972894669, 0.934477686882019, 0.9862306714057922, 0.012875073589384556, 0.9112107157707214, 0.014756448566913605, 0.018445560708642006, 0.05533668398857117, 0.9977549314498901, 0.08912967890501022, 0.031832028180360794, 0.07755439728498459, 0.12790687382221222, 0.5920757055282593, 0.01504786778241396, 0.021993037313222885, 0.01504786778241396, 0.028938205912709236, 0.997584879398346, 0.022053373977541924, 0.9764743447303772, 0.999224841594696, 0.9987968802452087, 0.026640838012099266, 0.016650523990392685, 0.008325261995196342, 0.947414755821228, 0.009810960851609707, 0.9884543418884277, 0.017882520332932472, 0.9802873134613037, 0.9983137845993042, 0.0005399379879236221, 0.9859267473220825, 0.011338697746396065, 0.0016198139637708664, 0.2529730200767517, 0.09962580353021622, 0.3387942612171173, 0.09530147910118103, 0.04706861823797226, 0.05455302819609642, 0.04623701795935631, 0.03226612135767937, 0.02794179506599903, 0.005322246812283993, 0.7362043857574463, 0.2636010944843292, 0.9950917363166809, 0.12096535414457321, 0.2682759165763855, 0.12220221757888794, 0.31008195877075195, 0.09721755236387253, 0.013729196973145008, 0.06753280758857727, 0.14280444383621216, 0.2231064736843109, 0.11291198432445526, 0.4736596643924713, 0.03722970187664032, 0.010326487012207508, 0.09578194469213486, 0.5042541027069092, 0.08261603862047195, 0.11783483624458313, 0.19946342706680298, 0.01000935584306717, 0.9892580509185791, 0.05778936296701431, 0.5869998335838318, 0.06374341994524002, 0.14674995839595795, 0.0980667993426323, 0.02276550605893135, 0.023816222324967384, 0.018324434757232666, 0.18439924716949463, 0.13212071359157562, 0.12888699769973755, 0.2028006762266159, 0.159530371427536, 0.08068910986185074, 0.037495799362659454, 0.030643383041024208, 0.025176849216222763, 0.03205389529466629, 0.04305747151374817, 0.6104592680931091, 0.01578773930668831, 0.12199617177248001, 0.06267254054546356, 0.061715710908174515, 0.018179822713136673, 0.03348914533853531, 0.01874978467822075, 0.0637492686510086, 0.798740804195404, 0.027321115136146545, 0.02571398951113224, 0.023035449907183647, 0.038035277277231216, 0.005357081536203623, 0.9937605857849121, 0.9926203489303589, 0.9985057711601257, 0.9956434369087219, 0.9978905916213989, 0.0009485987247899175, 0.997925877571106, 0.199937105178833, 0.17102181911468506, 0.11421535164117813, 0.0885530412197113, 0.0177106074988842, 0.07186651229858398, 0.18885290622711182, 0.1478293538093567, 0.9941475987434387, 0.9978063702583313, 0.031818974763154984, 0.9598100185394287, 0.00786115787923336, 0.9955697059631348, 0.9961902499198914, 0.9957713484764099, 0.9966971278190613, 0.9970582723617554, 0.9981465935707092, 0.9975756406784058, 0.9991233944892883, 0.0030824828427284956, 0.9956419467926025, 0.9987636208534241, 0.9944533705711365, 0.1681126058101654, 0.25440049171447754, 0.019836295396089554, 0.5578957796096802, 0.9931680560112, 0.9971188902854919, 0.25290539860725403, 0.022233441472053528, 0.7225868701934814, 0.9953424334526062, 0.0177364069968462, 0.04940856248140335, 0.011401976458728313, 0.9210262894630432, 0.1754889339208603, 0.7808793187141418, 0.011142155155539513, 0.03203369304537773, 0.9939340353012085, 0.14392097294330597, 0.0635707825422287, 0.0013641798868775368, 0.10736095905303955, 0.021554041653871536, 0.3522312343120575, 0.06452570855617523, 0.24555237591266632, 0.9984520673751831, 0.9964633584022522, 0.9959861040115356, 0.101260244846344, 0.15719099342823029, 0.020654166117310524, 0.1657816618680954, 0.0773160383105278, 0.1802213042974472, 0.015901880338788033, 0.07877828180789948, 0.17620013654232025, 0.02686869353055954, 0.9960612058639526, 0.9901807308197021, 0.9981899857521057, 0.9979791641235352, 0.9976281523704529, 0.998365044593811, 0.999139130115509, 0.17812104523181915, 0.04382789134979248, 0.753502607345581, 0.013485505245625973, 0.011799816973507404, 0.012859951704740524, 0.9837863445281982, 0.08940115571022034, 0.02674052305519581, 0.030731646344065666, 0.7295772433280945, 0.06625264137983322, 0.05787128210067749, 0.014432545751333237, 0.9007220268249512, 0.04854583367705345, 0.03608136251568794, 0.9972392916679382, 0.0043105692602694035, 0.9957415461540222, 0.02042270451784134, 0.008789517916738987, 0.0012925761984661222, 0.23137113451957703, 0.47592654824256897, 0.17423927783966064, 0.08763666450977325, 0.7725197672843933, 0.07304998487234116, 0.049906715750694275, 0.008921148255467415, 0.008662564679980278, 0.0338745042681694, 0.028444241732358932, 0.022755393758416176, 0.0018100880552083254, 0.056878458708524704, 0.9210914969444275, 0.02122330665588379, 0.9967777729034424, 0.998065173625946, 0.6633098125457764, 0.14245687425136566, 0.0762535110116005, 0.01611214317381382, 0.006381046958267689, 0.046103063970804214, 0.03142665699124336, 0.018026458099484444, 0.8712584376335144, 0.07447337359189987, 0.04244181513786316, 0.011211046017706394, 0.009839252568781376, 0.3919799029827118, 0.06072508171200752, 0.07523549348115921, 0.26943647861480713, 0.05545760318636894, 0.12234464287757874, 0.012224525213241577, 0.0027828188613057137, 0.0584539957344532, 0.009742332622408867, 0.018384724855422974, 0.9074511528015137, 0.005971107166260481, 0.010664384812116623, 0.9440058469772339, 0.008171412162482738, 0.014680841937661171, 0.022298259660601616, 0.108879454433918, 0.035815611481666565, 0.10171633213758469, 0.07019859552383423, 0.6819292306900024, 0.9947705864906311, 0.9958575963973999, 0.9987334609031677, 0.027657192200422287, 0.895520806312561, 0.06453344970941544, 0.008901165798306465, 0.0031789876520633698, 0.21526479721069336, 0.018693670630455017, 0.5008465647697449, 0.1028151884675026, 0.16220353543758392, 0.43222135305404663, 0.5646108388900757, 0.002896925900131464, 0.046588774770498276, 0.11762098968029022, 0.08085137605667114, 0.464216411113739, 0.008147813379764557, 0.2826664447784424, 0.4946242868900299, 0.15226373076438904, 0.01897476054728031, 0.06344322115182877, 0.06053297966718674, 0.06798319518566132, 0.09242920577526093, 0.022117819637060165, 0.02363114431500435, 0.0040743350982666016, 0.03920190781354904, 0.14556367695331573, 0.8147311210632324, 0.07426337152719498, 0.13289234042167664, 0.11148811131715775, 0.18556535243988037, 0.11949143558740616, 0.0657016783952713, 0.2337713986635208, 0.0338745191693306, 0.00521146459504962, 0.03778311610221863, 0.004986431449651718, 0.9922998547554016, 0.07082429528236389, 0.11026949435472488, 0.3772377371788025, 0.3195946216583252, 0.012394252233207226, 0.09256342053413391, 0.005016720853745937, 0.012099150568246841, 0.1962788701057434, 0.10333100706338882, 0.2303055375814438, 0.17788945138454437, 0.07005491852760315, 0.08256472647190094, 0.05829570069909096, 0.033401183784008026, 0.04203294962644577, 0.005879609379917383, 0.03720846399664879, 0.010630989447236061, 0.09833665192127228, 0.8531368970870972, 0.9986076354980469, 0.4515674412250519, 0.24247995018959045, 0.08911585062742233, 0.16155625879764557, 0.02657257579267025, 0.015885327011346817, 0.0012059541186317801, 0.011643694713711739, 0.9940022230148315, 0.9962385892868042, 0.3495493233203888, 0.18800954520702362, 0.1256200522184372, 0.05709552764892578, 0.03972938284277916, 0.039630431681871414, 0.0739174336194992, 0.046161290258169174, 0.05031729117035866, 0.02998257428407669, 0.005337714217603207, 0.42106351256370544, 0.17306511104106903, 0.3769247233867645, 0.023403823375701904, 0.9950312972068787, 0.005634962115436792, 0.991753339767456, 0.9950637221336365, 0.3728591799736023, 0.6270995140075684, 0.06310716271400452, 0.9322649240493774, 0.13068491220474243, 0.8563300371170044, 0.012609947472810745, 0.9400953650474548, 0.0578790083527565, 0.342683881521225, 0.1558952033519745, 0.06126772612333298, 0.2840122580528259, 0.11851151287555695, 0.03452799841761589, 0.002985503524541855, 0.011009524576365948, 0.8774591088294983, 0.11119619756937027, 0.7065559029579163, 0.09268734604120255, 0.010956650599837303, 0.0198404211550951, 0.06499958783388138, 0.06870116293430328, 0.03627539798617363, 0.9974891543388367, 0.017122458666563034, 0.9794046878814697, 0.03537788614630699, 0.9602569341659546, 0.9986122846603394, 0.9977090954780579, 0.8263712525367737, 0.042091332376003265, 0.09667853266000748, 0.0157842505723238, 0.012167026288807392, 0.006576770916581154, 0.9725772738456726, 0.024831760674715042, 0.017097165808081627, 0.004749212879687548, 0.03704385831952095, 0.9346450567245483, 0.006332283839583397, 0.9955837726593018, 0.07513340562582016, 0.004878792446106672, 0.9074553847312927, 0.003903033910319209, 0.008781826123595238, 0.999211847782135, 0.9972670674324036, 0.002606345806270838, 0.007819036953151226, 0.9878050088882446, 0.004249765537679195, 0.09970603883266449, 0.2075847089290619, 0.11605129390954971, 0.0447859913110733, 0.14318440854549408, 0.10166747123003006, 0.018306683748960495, 0.24615950882434845, 0.017979778349399567, 0.040752626955509186, 0.9576867818832397, 0.050227321684360504, 0.008265255950391293, 0.9409675598144531, 0.0005076558445580304, 0.0021152328699827194, 0.008883977308869362, 0.9884905815124512, 0.04095010831952095, 0.9400720596313477, 0.017804395407438278, 0.24234673380851746, 0.6456650495529175, 0.04179925471544266, 0.07025831937789917, 0.10392449051141739, 0.20278573036193848, 0.01160967443138361, 0.1871868222951889, 0.2534182369709015, 0.18145869672298431, 0.006955576129257679, 0.030737508088350296, 0.0010228788014501333, 0.020866727456450462, 0.9995117783546448, 0.9982582926750183, 0.9957088828086853, 0.9991559982299805, 0.24489735066890717, 0.12384013831615448, 0.10465783625841141, 0.05555909872055054, 0.06380847841501236, 0.08358712494373322, 0.15554559230804443, 0.04810483753681183, 0.06400725990533829, 0.05605604872107506, 0.9983782172203064, 0.26988452672958374, 0.16905003786087036, 0.07186995446681976, 0.07119321078062057, 0.0828331708908081, 0.07207297533750534, 0.1009698435664177, 0.0846603736281395, 0.048860739916563034, 0.02855849452316761, 0.02566101960837841, 0.010264407843351364, 0.9635712504386902, 0.9993718266487122, 0.9932853579521179, 0.00889549683779478, 0.9874001145362854, 0.9998682141304016, 0.9991557598114014, 0.005266491323709488, 0.8294723629951477, 0.01755497045814991, 0.14746175706386566, 0.07627954334020615, 0.02765861339867115, 0.019506601616740227, 0.7686183452606201, 0.010481159202754498, 0.016012882813811302, 0.0005822866223752499, 0.05153236538171768, 0.028240900486707687, 0.0011645732447504997, 0.9958063364028931, 0.9897061586380005, 0.8173165917396545, 0.0833469107747078, 0.015183351933956146, 0.019059952348470688, 0.005168800707906485, 0.009045401588082314, 0.02196740359067917, 0.01066065113991499, 0.018413852900266647, 0.6357242465019226, 0.10876638442277908, 0.0701390728354454, 0.013417908921837807, 0.021075604483485222, 0.023854060098528862, 0.07596705108880997, 0.03354477137327194, 0.017416175454854965, 0.00013553442840930074, 0.2957213819026947, 0.17928451299667358, 0.10380350053310394, 0.04688488319516182, 0.0810907855629921, 0.07032732665538788, 0.12437264621257782, 0.03607581928372383, 0.03603021427989006, 0.02640695311129093, 0.9975483417510986, 0.17230260372161865, 0.8255094885826111, 0.5173758864402771, 0.13896560668945312, 0.05651186406612396, 0.09816500544548035, 0.058460552245378494, 0.04579409956932068, 0.07867816090583801, 0.002070477930828929, 0.003410198725759983, 0.0006089640664868057, 0.010437327437102795, 0.9880669713020325, 0.07234898209571838, 0.030786801129579544, 0.8497157096862793, 0.046180203557014465, 0.9947603344917297, 0.9958666563034058, 0.04193790256977081, 0.009564785286784172, 0.9483852386474609, 0.007949789986014366, 0.0757879912853241, 0.015369593165814877, 0.9004461765289307, 0.9969072937965393, 0.052326761186122894, 0.9447887539863586, 0.012701849453151226, 0.987115204334259, 0.9980295300483704, 0.0066433134488761425, 0.055637747049331665, 0.8262621164321899, 0.10297135263681412, 0.008304141461849213, 0.9956582188606262, 0.37353193759918213, 0.04608912020921707, 0.0638822391629219, 0.2617071270942688, 0.0879770889878273, 0.0086494330316782, 0.15816105902194977, 0.005140149034559727, 0.976628303527832, 0.011565335094928741, 0.005140149034559727, 0.032593440264463425, 0.9638345241546631, 0.99606853723526, 0.0275870393961668, 0.08793368935585022, 0.07672645151615143, 0.040949512273073196, 0.7301944494247437, 0.01681085303425789, 0.0025862851180136204, 0.01724190078675747, 0.034849751740694046, 0.03636495769023895, 0.11364049464464188, 0.009091239422559738, 0.6858835220336914, 0.06868936866521835, 0.051011957228183746, 0.9472244381904602, 0.04424402862787247, 0.008044368587434292, 0.9983479976654053, 0.26573386788368225, 0.13800187408924103, 0.10389111936092377, 0.05996892228722572, 0.07033053040504456, 0.0739983543753624, 0.129657581448555, 0.06143605336546898, 0.043096933513879776, 0.053825318813323975, 0.9712180495262146, 0.019101111218333244, 0.00881589762866497, 0.9900083541870117, 0.00796787440776825, 0.011212888173758984, 0.007762768771499395, 0.10177852213382721, 0.878917932510376, 0.16021469235420227, 0.025893284007906914, 0.8010734915733337, 0.011328311637043953, 0.5998732447624207, 0.10967832058668137, 0.1236119419336319, 0.030944954603910446, 0.012086998671293259, 0.008785457350313663, 0.0077222492545843124, 0.019585413858294487, 0.0876307412981987, 0.09577442705631256, 0.1178056076169014, 0.11658165603876114, 0.16870170831680298, 0.07731311768293381, 0.07384524494409561, 0.12749524414539337, 0.09036862850189209, 0.10964591056108475, 0.02243916317820549, 0.9974172115325928, 0.0032548962626606226, 0.006509792525321245, 0.5995519161224365, 0.13019585609436035, 0.2245878428220749, 0.035803861916065216, 0.013085834681987762, 0.23461031913757324, 0.7515007853507996, 0.06876575946807861, 0.03345361351966858, 0.002787801204249263, 0.8948841691017151, 0.8367398977279663, 0.12148585170507431, 0.020491590723395348, 0.004391055088490248, 0.009757899679243565, 0.006830529775470495, 0.9950533509254456, 0.9975660443305969, 0.9991391897201538, 0.9994343519210815, 0.08907385915517807, 0.8443713784217834, 0.06711044162511826, 0.5407525300979614, 0.1379062980413437, 0.02444026805460453, 0.05324818566441536, 0.06337742507457733, 0.08707425743341446, 0.06281985342502594, 0.01839989796280861, 0.012080740183591843, 0.14278623461723328, 0.06479375809431076, 0.04679549112915993, 0.7451282143592834, 0.09492728859186172, 0.013060465455055237, 0.04746364429593086, 0.8444706201553345, 0.9976345896720886, 0.519691526889801, 0.1682180017232895, 0.05790559574961662, 0.07507528364658356, 0.022331809625029564, 0.03692042827606201, 0.07406529784202576, 0.026932835578918457, 0.01773078367114067, 0.0013466418022289872, 0.9941416382789612, 0.005763140041381121, 0.9986223578453064, 0.9977807402610779, 0.22843311727046967, 0.196481853723526, 0.5626358985900879, 0.012119441293179989, 0.12800604104995728, 0.34290429949760437, 0.020502662286162376, 0.11026960611343384, 0.11249344050884247, 0.12263628840446472, 0.039866287261247635, 0.06438269466161728, 0.047080185264348984, 0.011878525838255882, 0.01686418242752552, 0.884666919708252, 0.061835333704948425, 0.035133711993694305, 0.9377007484436035, 0.03587207943201065, 0.02642805129289627, 0.9992174506187439, 0.9976615905761719, 0.9972636103630066, 0.8455018401145935, 0.09291228652000427, 0.032519299536943436, 0.02894575148820877, 0.6302887201309204, 0.062035027891397476, 0.2045392543077469, 0.015709128230810165, 0.01330466940999031, 0.07421761751174927, 0.34894391894340515, 0.14423774182796478, 0.20210054516792297, 0.029081154614686966, 0.06139687821269035, 0.042887963354587555, 0.09338315576314926, 0.042019423097372055, 0.02770346961915493, 0.008296065963804722, 0.25793182849884033, 0.15595707297325134, 0.09204024076461792, 0.08948356658220291, 0.10993695259094238, 0.07684629410505295, 0.10862209647893906, 0.03732743114233017, 0.055662430822849274, 0.016289662569761276, 0.9833075404167175, 0.015316316857933998, 0.05718766525387764, 0.267185240983963, 0.0015472853556275368, 0.1114664375782013, 0.10713403671979904, 0.13603731989860535, 0.12514443695545197, 0.042086161673069, 0.07408402115106583, 0.07810696214437485, 0.9368311762809753, 0.06166483834385872, 0.9940866231918335, 0.20708397030830383, 0.20196504890918732, 0.005274048540741205, 0.04808691516518593, 0.18249760568141937, 0.10059472173452377, 0.10788532346487045, 0.059798404574394226, 0.03916756808757782, 0.04769911617040634, 0.9441325068473816, 0.05505487322807312, 0.9967405796051025, 0.03754746913909912, 0.007880332879722118, 0.014833567664027214, 0.7532671093940735, 0.13118436932563782, 0.010661627165973186, 0.04450070485472679, 0.9928271174430847], \"Term\": [\"abc_waters\", \"abusers\", \"academic\", \"academic\", \"academic\", \"academic\", \"accordingly_read\", \"act\", \"act\", \"act\", \"act\", \"act\", \"act\", \"act\", \"activities\", \"activities\", \"activities\", \"activities\", \"activities\", \"activities\", \"activities\", \"activities\", \"activities\", \"activities\", \"afghanistan\", \"afghanistan\", \"age\", \"age\", \"age\", \"age\", \"age\", \"age\", \"age\", \"age\", \"agencies\", \"agencies\", \"agencies\", \"agencies\", \"agencies\", \"agencies\", \"agencies\", \"agencies\", \"agencies\", \"agreement\", \"agreement\", \"agreement\", \"agreement\", \"agreement\", \"agreement\", \"agreement\", \"ahpetc\", \"air_quality\", \"aircraft\", \"aircraft\", \"aircraft\", \"allied_health\", \"allow\", \"allow\", \"allow\", \"allow\", \"allow\", \"allow\", \"allow\", \"allow\", \"allow\", \"allow\", \"always\", \"always\", \"always\", \"always\", \"always\", \"always\", \"always\", \"always\", \"always\", \"always\", \"amendment\", \"amendment\", \"amendment\", \"amendment_bill\", \"amendment_bill\", \"amendments\", \"amendments\", \"amendments\", \"april_st\", \"areas\", \"areas\", \"areas\", \"areas\", \"areas\", \"areas\", \"areas\", \"areas\", \"areas\", \"areas\", \"arrested\", \"arrested\", \"arrests\", \"artists\", \"arts\", \"arts\", \"arts\", \"arts_culture\", \"arts_culture\", \"arts_groups\", \"asean\", \"asean\", \"asean_member\", \"asked\", \"asked\", \"asked\", \"asked\", \"asked\", \"asked\", \"asked\", \"asked\", \"asked\", \"asked\", \"asked_acting\", \"asset_classes\", \"athletes\", \"auxiliary_police\", \"ava\", \"baby_bonus\", \"bankrupts\", \"banks\", \"banks\", \"banks\", \"banks\", \"bca\", \"bca\", \"bca\", \"bca\", \"beds\", \"beds\", \"beds\", \"believe\", \"believe\", \"believe\", \"believe\", \"believe\", \"believe\", \"believe\", \"believe\", \"believe\", \"better\", \"better\", \"better\", \"better\", \"better\", \"better\", \"better\", \"better\", \"better\", \"better\", \"bicycles\", \"bilateral\", \"bilateral\", \"bill\", \"bill\", \"bill\", \"bill\", \"bill\", \"bill\", \"bill_considered\", \"bmt\", \"bow_tan\", \"breast_cancer\", \"broadband\", \"bto_flats\", \"budget\", \"budget\", \"budget\", \"budget\", \"budget\", \"budget\", \"buildings\", \"buildings\", \"buildings\", \"buildings\", \"bus\", \"bus\", \"bus\", \"bus\", \"bus_lanes\", \"bus_operators\", \"bus_service\", \"bus_services\", \"buses\", \"buses\", \"business\", \"business\", \"business\", \"business\", \"business\", \"business\", \"businesses\", \"businesses\", \"businesses\", \"businesses\", \"cabinet\", \"caning\", \"cannot\", \"cannot\", \"cannot\", \"cannot\", \"cannot\", \"cannot\", \"cannot\", \"cannot\", \"cannot\", \"cannot\", \"capabilities\", \"capabilities\", \"capabilities\", \"capabilities\", \"capabilities\", \"capabilities\", \"capabilities\", \"car\", \"car\", \"car\", \"car\", \"car\", \"car_parks\", \"care\", \"care\", \"care\", \"care\", \"care\", \"care\", \"care\", \"care_givers\", \"caregiver\", \"caregivers\", \"caregivers\", \"caregivers\", \"cars\", \"cars\", \"cars\", \"cars\", \"case\", \"case\", \"case\", \"case\", \"case\", \"case\", \"case\", \"case\", \"case\", \"cases\", \"cases\", \"cases\", \"cases\", \"cases\", \"cases\", \"cases\", \"cases\", \"casino\", \"casino\", \"casinos\", \"casinos\", \"chas\", \"chief_justice\", \"child\", \"child\", \"child\", \"child\", \"child\", \"children\", \"children\", \"children\", \"children\", \"children\", \"children\", \"china\", \"china\", \"china\", \"china\", \"chinese_language\", \"chronic_diseases\", \"clause\", \"clause_bill\", \"clauses\", \"clean\", \"clean\", \"clean\", \"clean\", \"clean\", \"clean_energy\", \"cleaning\", \"cleaning\", \"cleaning\", \"cleanliness\", \"cleanliness\", \"climate_change\", \"climate_change\", \"cltpa\", \"cmc\", \"cnb\", \"cng\", \"coi\", \"coi\", \"committed_committee\", \"committee_reported\", \"community\", \"community\", \"community\", \"community\", \"community\", \"community\", \"community\", \"community_hospital\", \"community_hospitals\", \"commuter\", \"commuters\", \"companies\", \"companies\", \"companies\", \"companies\", \"compensation\", \"compensation\", \"compensation\", \"compensation\", \"congestion\", \"construction_sector\", \"consumers\", \"consumers\", \"consumers\", \"consumers\", \"continue\", \"continue\", \"continue\", \"continue\", \"continue\", \"continue\", \"continue\", \"continue\", \"continue\", \"continue\", \"contractors\", \"contractors\", \"contractors\", \"contractors\", \"contractors\", \"convention\", \"convention\", \"convention\", \"convention\", \"convention\", \"convention\", \"cooperation\", \"cooperation\", \"cooperation\", \"cooperation\", \"cooperation\", \"could\", \"could\", \"could\", \"could\", \"could\", \"could\", \"could\", \"could\", \"could\", \"could\", \"countries\", \"countries\", \"countries\", \"countries\", \"countries\", \"countries\", \"countries\", \"countries\", \"country\", \"country\", \"country\", \"country\", \"country\", \"country\", \"courses\", \"courses\", \"courses\", \"courses\", \"courses\", \"courses\", \"court\", \"court\", \"court\", \"court\", \"court\", \"court_appeal\", \"courts\", \"courts\", \"courts\", \"cpa\", \"cpf\", \"cpf\", \"crime\", \"crime\", \"crime\", \"crime_prevention\", \"crimes\", \"crimes\", \"crimes\", \"curriculum\", \"curriculum\", \"cycling\", \"cyclists\", \"cynthia_phua\", \"death_penalty\", \"debate\", \"debate\", \"debate\", \"debate\", \"debate\", \"debate\", \"defence\", \"defence\", \"defence\", \"defence_spending\", \"demand\", \"demand\", \"demand\", \"demand\", \"demand\", \"demand\", \"demand\", \"demand\", \"dementia\", \"democracy\", \"dengue\", \"detainees\", \"detention\", \"detention\", \"detention\", \"develop\", \"develop\", \"develop\", \"develop\", \"develop\", \"develop\", \"develop\", \"develop\", \"develop\", \"develop\", \"development\", \"development\", \"development\", \"development\", \"development\", \"development\", \"development\", \"development\", \"development\", \"diabetes\", \"digital\", \"digital\", \"digital\", \"doctors\", \"doctors\", \"doctors\", \"downturn\", \"downturn\", \"downturn\", \"downturn\", \"drains\", \"drink_driving\", \"drivers\", \"drivers\", \"drivers\", \"drivers\", \"drug\", \"drug\", \"drug\", \"drug_abuse\", \"drug_abusers\", \"drug_trafficking\", \"drugs\", \"drugs\", \"early_childhood\", \"early_childhood\", \"economic\", \"economic\", \"economic\", \"economic\", \"economic\", \"economic_crisis\", \"economic_downturn\", \"economy\", \"economy\", \"economy\", \"economy\", \"edb\", \"edb\", \"education\", \"education\", \"education\", \"education\", \"education\", \"education\", \"education\", \"education\", \"education\", \"education\", \"educators\", \"efforts\", \"efforts\", \"efforts\", \"efforts\", \"efforts\", \"efforts\", \"efforts\", \"efforts\", \"efforts\", \"eg\", \"elderly\", \"elderly\", \"elderly\", \"elderly\", \"elderly\", \"eldershield\", \"elected\", \"elected_presidency\", \"elected_president\", \"election\", \"election\", \"elections\", \"employees\", \"employees\", \"employees\", \"employees\", \"employees\", \"employer\", \"employer\", \"employer\", \"employer\", \"employers\", \"employers\", \"employers\", \"employers\", \"employers\", \"employment\", \"employment\", \"employment\", \"employment\", \"employment\", \"employment\", \"energy\", \"energy\", \"energy\", \"energy\", \"energy_efficiency\", \"energy_efficiency\", \"energy_management\", \"enforcement\", \"enforcement\", \"enforcement\", \"enforcement\", \"enforcement\", \"enlistment\", \"ensure\", \"ensure\", \"ensure\", \"ensure\", \"ensure\", \"ensure\", \"ensure\", \"ensure\", \"ensure\", \"ensure\", \"enterprise\", \"enterprise\", \"enterprise\", \"enterprises\", \"enterprises\", \"environment\", \"environment\", \"environment\", \"environment\", \"environment\", \"environment\", \"environment\", \"environment\", \"environment\", \"environment\", \"environment_agency\", \"environment_water\", \"environment_water\", \"environment_water\", \"environmental\", \"environmental\", \"environmental\", \"environmental\", \"erp\", \"even\", \"even\", \"even\", \"even\", \"even\", \"even\", \"even\", \"even\", \"even\", \"even\", \"example\", \"example\", \"example\", \"example\", \"example\", \"example\", \"example\", \"example\", \"example\", \"example\", \"falsehoods\", \"families\", \"families\", \"families\", \"families\", \"families\", \"families\", \"family\", \"family\", \"family\", \"family\", \"family\", \"family\", \"fares\", \"feel\", \"feel\", \"feel\", \"feel\", \"feel\", \"feel\", \"feel\", \"fidrec\", \"film\", \"film\", \"film\", \"film\", \"films\", \"films\", \"films\", \"films_act\", \"finance_minister\", \"finance_minister\", \"finance_minister\", \"financial\", \"financial\", \"financial\", \"financial\", \"financial\", \"financial\", \"financial\", \"financial\", \"financial\", \"financial_advisers\", \"financial_institutions\", \"financial_institutions\", \"financial_institutions\", \"financial_institutions\", \"first\", \"first\", \"first\", \"first\", \"first\", \"first\", \"first\", \"first\", \"first\", \"first\", \"fis\", \"flat\", \"flat\", \"flat\", \"flat\", \"flat\", \"flat_owners\", \"flats\", \"flats\", \"flats\", \"flats\", \"fmss\", \"food\", \"food\", \"food\", \"food\", \"food\", \"food\", \"food_hygiene\", \"food_safety\", \"food_waste\", \"foreign\", \"foreign\", \"foreign\", \"foreign\", \"foreign\", \"foreign\", \"foreign\", \"foreign\", \"foreign_affairs\", \"foreign_affairs\", \"foreign_labour\", \"foreign_manpower\", \"foreign_spouses\", \"foreign_workers\", \"foreign_workers\", \"foreign_workforce\", \"free_air\", \"gambling\", \"gambling\", \"games\", \"games\", \"games\", \"games\", \"gan_kim\", \"gan_kim\", \"gang\", \"general_election\", \"general_elections\", \"geok_choo\", \"gic\", \"gic\", \"global\", \"global\", \"global\", \"global\", \"global\", \"global\", \"global\", \"good\", \"good\", \"good\", \"good\", \"good\", \"good\", \"good\", \"good\", \"good\", \"good\", \"government\", \"government\", \"government\", \"government\", \"government\", \"government\", \"government\", \"government\", \"government\", \"government\", \"government_securities\", \"govtech\", \"graduates\", \"graduates\", \"graduates\", \"growth\", \"growth\", \"growth\", \"growth\", \"growth\", \"happiness\", \"harassment\", \"hawker_centres\", \"hawker_centres\", \"hawker_centres\", \"hawkers\", \"hawkers\", \"haze\", \"hdb\", \"hdb\", \"hdb\", \"hdb\", \"hdb\", \"hdb_flats\", \"hdb_flats\", \"hdb_flats\", \"hdb_flats\", \"hdb_flats\", \"health\", \"health\", \"health\", \"health\", \"health\", \"health\", \"health\", \"health\", \"health\", \"health_insurance\", \"health_screening\", \"healthcare\", \"healthcare\", \"healthcare\", \"healthcare\", \"healthcare_institutions\", \"healthcare_professionals\", \"healthcare_system\", \"healthcare_system\", \"help\", \"help\", \"help\", \"help\", \"help\", \"help\", \"help\", \"help\", \"help\", \"help\", \"high_court\", \"high_rise\", \"high_rise\", \"high_rise\", \"home\", \"home\", \"home\", \"home\", \"home\", \"home\", \"home\", \"home\", \"home\", \"home_affairs\", \"home_affairs\", \"home_team\", \"home_team\", \"home_team\", \"home_team\", \"hope\", \"hope\", \"hope\", \"hope\", \"hope\", \"hope\", \"hope\", \"hope\", \"hospital\", \"hospital\", \"hospital\", \"hospital\", \"hospitals\", \"hospitals\", \"hospitals\", \"hospitals\", \"hospitals\", \"hota\", \"house\", \"house\", \"house\", \"house\", \"house\", \"house\", \"house\", \"house\", \"house\", \"house\", \"house_immediately\", \"housing\", \"housing\", \"housing\", \"housing\", \"housing\", \"hub\", \"hub\", \"hub\", \"hub\", \"ica\", \"ica\", \"ica\", \"ida\", \"ie_singapore\", \"important\", \"important\", \"important\", \"important\", \"important\", \"important\", \"important\", \"important\", \"important\", \"important\", \"incident\", \"incident\", \"incident\", \"incident\", \"incident\", \"incidents\", \"incidents\", \"incidents\", \"incidents\", \"incidents\", \"incidents\", \"including\", \"including\", \"including\", \"including\", \"including\", \"including\", \"including\", \"including\", \"including\", \"including\", \"income\", \"income\", \"income\", \"income\", \"income\", \"income\", \"increase\", \"increase\", \"increase\", \"increase\", \"increase\", \"increase\", \"increase\", \"increase\", \"increase\", \"increase\", \"inderjit_singh\", \"indonesia\", \"indonesia\", \"indonesia\", \"industrial_land\", \"industry\", \"industry\", \"industry\", \"industry\", \"industry\", \"industry\", \"industry_transformation\", \"industry_transformation\", \"infocomm\", \"infocomm_media\", \"information\", \"information\", \"information\", \"information\", \"information\", \"information\", \"information\", \"information\", \"information\", \"information\", \"infrastructure\", \"infrastructure\", \"infrastructure\", \"infrastructure\", \"infrastructure\", \"infrastructure\", \"infrastructure\", \"initiatives\", \"initiatives\", \"initiatives\", \"initiatives\", \"initiatives\", \"initiatives\", \"initiatives\", \"initiatives\", \"inmates\", \"innovation\", \"innovation\", \"innovation\", \"international\", \"international\", \"international\", \"international\", \"international\", \"international\", \"international\", \"international\", \"international_arbitration\", \"investigations\", \"investigations\", \"investigations\", \"investigations\", \"investigations\", \"investment\", \"investment\", \"investment\", \"investment\", \"investment\", \"investors\", \"investors\", \"investors\", \"investors\", \"investors\", \"ippt\", \"itms\", \"jenn_jong\", \"job\", \"job\", \"job\", \"job\", \"job\", \"job\", \"job\", \"job_losses\", \"jobs\", \"jobs\", \"jobs\", \"jobs\", \"jobs\", \"jobs_credit\", \"jtc\", \"jtc\", \"judges\", \"judges\", \"khaw_boon\", \"khaw_boon\", \"khaw_boon\", \"know\", \"know\", \"know\", \"know\", \"know\", \"know\", \"know\", \"know\", \"know\", \"know\", \"kuan_yew\", \"labour\", \"labour\", \"labour\", \"labour\", \"labour\", \"labour_market\", \"land_transport\", \"land_transport\", \"law\", \"law\", \"law\", \"law_enforcement\", \"law_enforcement\", \"law_firms\", \"law_firms\", \"law_society\", \"lawyers\", \"lawyers\", \"learning\", \"learning\", \"learning\", \"learning\", \"legal\", \"legal\", \"legal\", \"legal\", \"legal\", \"legal\", \"legal_aid\", \"legal_profession\", \"let_us\", \"let_us\", \"let_us\", \"let_us\", \"let_us\", \"let_us\", \"let_us\", \"level\", \"level\", \"level\", \"level\", \"level\", \"level\", \"level\", \"level\", \"level\", \"level\", \"libraries\", \"library\", \"library\", \"life\", \"life\", \"life\", \"life\", \"life\", \"life\", \"life\", \"life\", \"like\", \"like\", \"like\", \"like\", \"like\", \"like\", \"like\", \"like\", \"like\", \"like\", \"lim_hng\", \"lim_hng\", \"lim_hwee\", \"litigation\", \"litter\", \"litter\", \"litterbugs\", \"littering\", \"loans\", \"loans\", \"loans\", \"loans\", \"loans\", \"loanshark\", \"loansharking\", \"loansharks\", \"local\", \"local\", \"local\", \"local\", \"local\", \"local\", \"local\", \"local\", \"local\", \"local\", \"low_wage\", \"lta\", \"lui_tuck\", \"lup\", \"made\", \"made\", \"made\", \"made\", \"made\", \"made\", \"made\", \"made\", \"made\", \"made\", \"mainstream_schools\", \"make\", \"make\", \"make\", \"make\", \"make\", \"make\", \"make\", \"make\", \"make\", \"malaysia\", \"malaysia\", \"malaysia\", \"malaysia\", \"malaysia\", \"management\", \"management\", \"management\", \"management\", \"management\", \"management\", \"management\", \"management\", \"management\", \"managing_agent\", \"mandatory_death\", \"market\", \"market\", \"market\", \"market\", \"market\", \"market\", \"marriage\", \"marriage\", \"marriage\", \"marriage\", \"mas\", \"mas\", \"mas\", \"masks\", \"mccy\", \"measures\", \"measures\", \"measures\", \"measures\", \"measures\", \"measures\", \"measures\", \"measures\", \"measures\", \"mediacorp\", \"mediacorp\", \"mediation\", \"mediation\", \"mediation\", \"medical\", \"medical\", \"medical\", \"medical\", \"medical\", \"medical\", \"medical\", \"medisave\", \"medisave\", \"medishield\", \"medishield_life\", \"members\", \"members\", \"members\", \"members\", \"members\", \"members\", \"members\", \"members\", \"members\", \"members\", \"mental_health\", \"mental_health\", \"mental_health\", \"mewr\", \"mha\", \"mha\", \"mha\", \"mica\", \"mica\", \"military\", \"military\", \"million\", \"million\", \"million\", \"million\", \"million\", \"million\", \"million\", \"million\", \"mindef\", \"mindef\", \"mindef\", \"mindef\", \"mindef_saf\", \"minimum_sum\", \"minimum_wage\", \"minister_trade\", \"minister_trade\", \"minister_trade\", \"minister_transport\", \"ministers\", \"ministers\", \"ministers\", \"ministry\", \"ministry\", \"ministry\", \"ministry\", \"ministry\", \"ministry\", \"ministry\", \"ministry\", \"ministry\", \"moe\", \"moe\", \"moh\", \"moh\", \"moh\", \"mom\", \"mom\", \"moneylenders\", \"moneylenders\", \"mosques\", \"mosques\", \"mosquitoes\", \"motion\", \"motion\", \"motion\", \"motorists\", \"move_bill\", \"move_question\", \"mps\", \"mps\", \"mps\", \"mr_chairman\", \"mr_chairman\", \"mr_chairman\", \"mr_chairman\", \"mr_chairman\", \"mr_chairman\", \"mr_lee\", \"mr_lee\", \"mr_lee\", \"mr_lee\", \"mr_lee\", \"mr_mah\", \"mr_siew\", \"mr_sin\", \"mr_yeo\", \"msf\", \"msf\", \"msf\", \"mti\", \"mti\", \"much\", \"much\", \"much\", \"much\", \"much\", \"much\", \"much\", \"much\", \"much\", \"much\", \"muis\", \"museums\", \"must\", \"must\", \"must\", \"must\", \"must\", \"must\", \"must\", \"must\", \"must\", \"must\", \"nac\", \"nation\", \"nation\", \"nation\", \"nation\", \"nation\", \"national_service\", \"national_service\", \"national_service\", \"national_servicemen\", \"national_servicemen\", \"ncmps\", \"ncpg\", \"nea\", \"need\", \"need\", \"need\", \"need\", \"need\", \"need\", \"need\", \"need\", \"need\", \"need\", \"needs\", \"needs\", \"needs\", \"needs\", \"needs\", \"needs\", \"needs\", \"needs\", \"needs\", \"needs\", \"never\", \"never\", \"never\", \"never\", \"never\", \"never\", \"new\", \"new\", \"new\", \"new\", \"new\", \"new\", \"new\", \"new\", \"new\", \"new\", \"new_section\", \"ng_eng\", \"ng_eng\", \"nlb\", \"nmps\", \"noise\", \"noise\", \"noise\", \"noise\", \"noise\", \"nparks\", \"nparks\", \"ns\", \"ns\", \"ns\", \"nsas\", \"nsfs\", \"nsmen\", \"nuclear_energy\", \"number\", \"number\", \"number\", \"number\", \"number\", \"number\", \"number\", \"number\", \"number\", \"number\", \"nurses\", \"nurses\", \"nursing_home\", \"nursing_homes\", \"offence\", \"offence\", \"offences\", \"offences\", \"offences\", \"offender\", \"offender\", \"offenders\", \"offenders\", \"officers\", \"officers\", \"officers\", \"officers\", \"officers\", \"officers\", \"officers\", \"officers\", \"officers\", \"older_workers\", \"one\", \"one\", \"one\", \"one\", \"one\", \"one\", \"one\", \"one\", \"one\", \"one\", \"opennet\", \"operators\", \"operators\", \"operators\", \"operators\", \"operators\", \"operators\", \"operators\", \"operators\", \"opportunities\", \"opportunities\", \"opportunities\", \"opportunities\", \"opposition\", \"order\", \"order\", \"order\", \"order\", \"order\", \"order\", \"order\", \"order\", \"order\", \"order\", \"order_second\", \"organised_crime\", \"overseas_markets\", \"pap\", \"parenthood\", \"parents\", \"parents\", \"parents\", \"parking\", \"parking\", \"parking\", \"parliament\", \"parliament\", \"parliament\", \"parliament\", \"parliament\", \"parliament\", \"parliament\", \"parliament\", \"parties\", \"parties\", \"parties\", \"parties\", \"parties\", \"parties\", \"party_political\", \"party_political\", \"passengers\", \"passengers\", \"passengers\", \"patent\", \"patient\", \"patient\", \"patient\", \"patient\", \"patient\", \"patients\", \"patients\", \"patients\", \"pay\", \"pay\", \"pay\", \"pay\", \"pay\", \"pay\", \"pay\", \"pay_tv\", \"peak_hours\", \"pedestrian\", \"pedestrians\", \"peis\", \"penny_low\", \"people\", \"people\", \"people\", \"people\", \"people\", \"people\", \"people\", \"people\", \"people\", \"person\", \"person\", \"person\", \"person\", \"person\", \"person\", \"personal_income\", \"persons\", \"persons\", \"persons\", \"persons\", \"persons\", \"persons\", \"persons\", \"pes\", \"piracy\", \"pmes\", \"pmets\", \"police\", \"police\", \"police_officers\", \"police_officers\", \"political\", \"political\", \"political\", \"political_parties\", \"political_system\", \"politicians\", \"politics\", \"pollution\", \"pollution\", \"polyclinic\", \"polyclinics\", \"polyclinics\", \"polyclinics\", \"powers\", \"powers\", \"powers\", \"powers\", \"practice\", \"practice\", \"practice\", \"practice\", \"practice\", \"practice\", \"practice\", \"practice\", \"practice\", \"practice\", \"pre_school\", \"pre_school\", \"premiums\", \"premiums\", \"president\", \"president\", \"president\", \"president\", \"president_address\", \"primary\", \"primary\", \"primary\", \"primary\", \"primary\", \"primary\", \"primary\", \"primary\", \"primary\", \"primary_care\", \"primary_school\", \"primary_school\", \"primary_schools\", \"primary_secondary\", \"prison\", \"prison\", \"prison\", \"prison\", \"prisons\", \"prisons\", \"private_education\", \"private_education\", \"problem_gambling\", \"proc_text\", \"proc_text\", \"proc_text\", \"proc_text\", \"process\", \"process\", \"process\", \"process\", \"process\", \"process\", \"process\", \"process\", \"process\", \"process\", \"productivity\", \"productivity\", \"prof_thio\", \"programme\", \"programme\", \"programme\", \"programme\", \"programme\", \"programme\", \"programme\", \"programmes\", \"programmes\", \"programmes\", \"programmes\", \"programmes\", \"programmes\", \"projects\", \"projects\", \"projects\", \"projects\", \"projects\", \"proposed_amendments\", \"proposed_amendments\", \"protection\", \"protection\", \"protection\", \"protection\", \"protection\", \"protection\", \"protection\", \"provide\", \"provide\", \"provide\", \"provide\", \"provide\", \"provide\", \"provide\", \"provide\", \"provide\", \"provide\", \"provision\", \"provision\", \"provision\", \"provision\", \"provision\", \"provision\", \"provision\", \"provision\", \"provision\", \"provisions\", \"provisions\", \"provisions\", \"provisions\", \"provisions\", \"provisions\", \"provisions\", \"provisions\", \"psb\", \"psb_programmes\", \"psle\", \"ptc\", \"ptos\", \"pub\", \"pub\", \"public\", \"public\", \"public\", \"public\", \"public\", \"public\", \"public\", \"public\", \"public_cleanliness\", \"public_hospitals\", \"public_transport\", \"public_transport\", \"public_transport\", \"public_trustee\", \"pupils\", \"racial\", \"read_first\", \"read_second\", \"read_third\", \"reading_read\", \"recession\", \"recycling\", \"recycling\", \"refer_toappendix\", \"regardless_race\", \"region\", \"region\", \"region\", \"region\", \"regional_security\", \"registrar\", \"relations\", \"relations\", \"relations\", \"remote_gambling\", \"rental_flats\", \"rental_flats\", \"rental_flats\", \"rental_flats\", \"reserves\", \"reserves\", \"reserves\", \"reserves\", \"reservoirs\", \"residents\", \"residents\", \"residents\", \"residents\", \"residents\", \"residents\", \"residents\", \"residents\", \"resilience_package\", \"resolved_committee\", \"resolved_parliament\", \"resources\", \"resources\", \"resources\", \"resources\", \"resources\", \"resources\", \"resources\", \"resources\", \"resources\", \"resources\", \"restructured_hospitals\", \"retail_investors\", \"retrenched\", \"retrenchment\", \"retrenchments\", \"ridership\", \"right_vote\", \"rights\", \"rights\", \"rights\", \"rights\", \"rights\", \"riot\", \"riot\", \"road\", \"road\", \"road\", \"road\", \"road\", \"road\", \"roads\", \"roads\", \"roads\", \"roads\", \"sacrifice\", \"saf\", \"saf\", \"safety\", \"safety\", \"safety\", \"safety\", \"safety\", \"safety\", \"safety\", \"said\", \"said\", \"said\", \"said\", \"said\", \"said\", \"said\", \"said\", \"said\", \"salary\", \"salary\", \"salary\", \"salespersons\", \"save_jobs\", \"say\", \"say\", \"say\", \"say\", \"say\", \"say\", \"say\", \"say\", \"saying\", \"saying\", \"saying\", \"saying\", \"scheme\", \"scheme\", \"scheme\", \"scheme\", \"scheme\", \"scheme\", \"scheme\", \"scheme\", \"scheme\", \"school\", \"school\", \"school\", \"school\", \"school\", \"schools\", \"schools\", \"schools\", \"schools\", \"schools\", \"sea\", \"sea\", \"sea\", \"sea\", \"sea\", \"sea_games\", \"seafarers\", \"secondary_schools\", \"section\", \"section\", \"section\", \"section\", \"section\", \"sector\", \"sector\", \"sector\", \"sector\", \"sector\", \"sectors\", \"sectors\", \"sectors\", \"security\", \"security\", \"security\", \"security\", \"security\", \"security\", \"see\", \"see\", \"see\", \"see\", \"see\", \"see\", \"see\", \"see\", \"see\", \"see\", \"seniors\", \"seniors\", \"seniors\", \"service\", \"service\", \"service\", \"service\", \"service\", \"service\", \"service\", \"service\", \"service\", \"service\", \"servicemen\", \"servicemen\", \"services\", \"services\", \"services\", \"services\", \"services\", \"services\", \"services\", \"services\", \"set\", \"set\", \"set\", \"set\", \"set\", \"set\", \"set\", \"set\", \"set\", \"set\", \"ships\", \"ships\", \"ships\", \"ships\", \"singaporean_workers\", \"singaporeans\", \"singaporeans\", \"singaporeans\", \"singaporeans\", \"singaporeans\", \"singaporeans\", \"singaporeans\", \"singaporeans\", \"singpost\", \"sinking_funds\", \"sir\", \"sir\", \"sir\", \"sir\", \"sir\", \"sir\", \"sir\", \"sir\", \"sir\", \"sir\", \"skills\", \"skills\", \"skills\", \"skills\", \"skills\", \"small_claims\", \"smart_nation\", \"smart_nation\", \"sme_centres\", \"smes\", \"smes\", \"smokers\", \"smokers\", \"smoking\", \"smoking\", \"smoking\", \"smrt\", \"smrt\", \"social\", \"social\", \"social\", \"social\", \"social\", \"social\", \"social\", \"social_service\", \"social_service\", \"social_service\", \"society\", \"society\", \"society\", \"society\", \"society\", \"society\", \"society\", \"solar_energy\", \"soldiers\", \"soldiers\", \"south_china\", \"south_china\", \"special_education\", \"sped_schools\", \"speech\", \"speech\", \"speech\", \"speech\", \"speech\", \"speech\", \"speeches\", \"speeches\", \"sports\", \"sports\", \"sports\", \"sports\", \"sports\", \"sports_facilities\", \"spring\", \"spring\", \"spring\", \"spring\", \"spring\", \"ssc\", \"stallholders\", \"stalls\", \"stalls\", \"stalls\", \"standards\", \"standards\", \"standards\", \"standards\", \"standards\", \"standards\", \"standards\", \"standards\", \"standards\", \"standards\", \"start_ups\", \"start_ups\", \"student\", \"student\", \"student\", \"students\", \"students\", \"students\", \"students\", \"subjects\", \"subjects\", \"subjects\", \"subsidies\", \"subsidies\", \"subsidies\", \"subsidies\", \"support\", \"support\", \"support\", \"support\", \"support\", \"support\", \"support\", \"support\", \"support\", \"support\", \"support_bill\", \"support_motion\", \"syndicate\", \"syndicates\", \"system\", \"system\", \"system\", \"system\", \"system\", \"system\", \"system\", \"system\", \"system\", \"system\", \"tacs\", \"take\", \"take\", \"take\", \"take\", \"take\", \"take\", \"take\", \"take\", \"take\", \"take\", \"taxi\", \"taxi\", \"taxi\", \"taxis\", \"tc\", \"tcs\", \"tcs\", \"teachers\", \"teaching\", \"technologies\", \"technologies\", \"technologies\", \"technologies\", \"technology\", \"technology\", \"technology\", \"technology\", \"technology\", \"technology\", \"technology\", \"technology\", \"technology\", \"technology\", \"th_february\", \"th_march\", \"things\", \"things\", \"things\", \"things\", \"things\", \"things\", \"things\", \"things\", \"things\", \"think\", \"think\", \"think\", \"think\", \"think\", \"think\", \"think\", \"think\", \"think\", \"think\", \"time\", \"time\", \"time\", \"time\", \"time\", \"time\", \"time\", \"time\", \"time\", \"time\", \"time_passed\", \"tobacco\", \"tobacco\", \"today\", \"today\", \"today\", \"today\", \"today\", \"today\", \"today\", \"today\", \"today\", \"today\", \"total_defence\", \"total_defence\", \"tourism\", \"tourism\", \"tourism\", \"tourism\", \"tourism_board\", \"tourism_sector\", \"town_council\", \"town_council\", \"town_council\", \"town_councils\", \"town_councils\", \"town_councils\", \"town_councils\", \"tpp\", \"trade_associations\", \"trade_associations\", \"trade_industry\", \"trade_industry\", \"traditional_arts\", \"traffic\", \"traffic\", \"traffic\", \"traffic\", \"traffic\", \"trafficking\", \"training\", \"training\", \"training\", \"training\", \"training\", \"training\", \"training\", \"trains\", \"trains\", \"trains\", \"trains\", \"translation\", \"translation\", \"transplant\", \"transport\", \"transport\", \"transport\", \"transport\", \"transport\", \"transport\", \"transport\", \"transport\", \"treatment\", \"treatment\", \"treatment\", \"treatment\", \"treatment\", \"treatment\", \"treatment\", \"tribunal\", \"tribunal\", \"tribunal\", \"tripartite_partners\", \"two\", \"two\", \"two\", \"two\", \"two\", \"two\", \"two\", \"two\", \"two\", \"two\", \"unemployed\", \"unemployed\", \"unemployed\", \"unemployment\", \"unemployment\", \"universities\", \"universities\", \"universities\", \"universities\", \"university\", \"university\", \"university\", \"university\", \"us\", \"us\", \"us\", \"us\", \"us\", \"us\", \"us\", \"us\", \"us\", \"use\", \"use\", \"use\", \"use\", \"use\", \"use\", \"use\", \"use\", \"use\", \"use\", \"use_medisave\", \"vehicles\", \"vehicles\", \"vehicles\", \"vehicles\", \"vehicles\", \"vehicles\", \"victim\", \"victim\", \"victim\", \"victims\", \"victims\", \"victims\", \"victims\", \"views\", \"views\", \"views\", \"views\", \"views\", \"views\", \"voices\", \"voters\", \"wage\", \"wages\", \"wan\", \"wan\", \"wan\", \"want\", \"want\", \"want\", \"want\", \"want\", \"want\", \"want\", \"want\", \"want\", \"waste\", \"waste\", \"waste\", \"waste\", \"water\", \"water\", \"water\", \"water\", \"water_efficiency\", \"way\", \"way\", \"way\", \"way\", \"way\", \"way\", \"way\", \"way\", \"way\", \"way\", \"white_paper\", \"white_paper\", \"wis\", \"without_amendment\", \"women\", \"women\", \"women\", \"women\", \"work\", \"work\", \"work\", \"work\", \"work\", \"work\", \"work\", \"work\", \"work\", \"work\", \"worker\", \"worker\", \"worker\", \"worker\", \"workers\", \"workers\", \"workers\", \"workers_party\", \"workfare\", \"workfare_income\", \"workforce\", \"workforce\", \"workforce\", \"workforce\", \"world\", \"world\", \"world\", \"world\", \"world\", \"world\", \"would\", \"would\", \"would\", \"would\", \"would\", \"would\", \"would\", \"would\", \"would\", \"would\", \"would_like\", \"would_like\", \"would_like\", \"would_like\", \"would_like\", \"would_like\", \"would_like\", \"would_like\", \"would_like\", \"would_like\", \"wrote\", \"wrote\", \"year\", \"year\", \"year\", \"year\", \"year\", \"year\", \"year\", \"year\", \"year\", \"year\", \"year_budget\", \"year_budget\", \"year_st\", \"years\", \"years\", \"years\", \"years\", \"years\", \"years\", \"years\", \"years\", \"years\", \"years\", \"yesterday\", \"yesterday\", \"yog\", \"youth\", \"youth\", \"youth\", \"youth\", \"youth\", \"youth\", \"youth\", \"zika\"]}, \"R\": 30, \"lambda.step\": 0.01, \"plot.opts\": {\"xlab\": \"PC1\", \"ylab\": \"PC2\"}, \"topic.order\": [8, 9, 10, 2, 7, 4, 5, 6, 1, 3]};\n",
       "\n",
       "function LDAvis_load_lib(url, callback){\n",
       "  var s = document.createElement('script');\n",
       "  s.src = url;\n",
       "  s.async = true;\n",
       "  s.onreadystatechange = s.onload = callback;\n",
       "  s.onerror = function(){console.warn(\"failed to load library \" + url);};\n",
       "  document.getElementsByTagName(\"head\")[0].appendChild(s);\n",
       "}\n",
       "\n",
       "if(typeof(LDAvis) !== \"undefined\"){\n",
       "   // already loaded: just create the visualization\n",
       "   !function(LDAvis){\n",
       "       new LDAvis(\"#\" + \"ldavis_el6575758672328567035389261\", ldavis_el6575758672328567035389261_data);\n",
       "   }(LDAvis);\n",
       "}else if(typeof define === \"function\" && define.amd){\n",
       "   // require.js is available: use it to load d3/LDAvis\n",
       "   require.config({paths: {d3: \"https://cdnjs.cloudflare.com/ajax/libs/d3/3.5.5/d3.min\"}});\n",
       "   require([\"d3\"], function(d3){\n",
       "      window.d3 = d3;\n",
       "      LDAvis_load_lib(\"https://cdn.rawgit.com/bmabey/pyLDAvis/files/ldavis.v1.0.0.js\", function(){\n",
       "        new LDAvis(\"#\" + \"ldavis_el6575758672328567035389261\", ldavis_el6575758672328567035389261_data);\n",
       "      });\n",
       "    });\n",
       "}else{\n",
       "    // require.js not available: dynamically load d3 & LDAvis\n",
       "    LDAvis_load_lib(\"https://cdnjs.cloudflare.com/ajax/libs/d3/3.5.5/d3.min.js\", function(){\n",
       "         LDAvis_load_lib(\"https://cdn.rawgit.com/bmabey/pyLDAvis/files/ldavis.v1.0.0.js\", function(){\n",
       "                 new LDAvis(\"#\" + \"ldavis_el6575758672328567035389261\", ldavis_el6575758672328567035389261_data);\n",
       "            })\n",
       "         });\n",
       "}\n",
       "</script>"
      ],
      "text/plain": [
       "<IPython.core.display.HTML object>"
      ]
     },
     "execution_count": 20,
     "metadata": {},
     "output_type": "execute_result"
    }
   ],
   "source": [
    "pyLDAvis.enable_notebook(sort=True)\n",
    "vis = pyLDAvis.gensim.prepare(lda_train, train_corpus, train_id2word)\n",
    "pyLDAvis.display(vis)"
   ]
  },
  {
   "cell_type": "markdown",
   "metadata": {},
   "source": [
    "## Topics Tuning"
   ]
  },
  {
   "cell_type": "code",
   "execution_count": 28,
   "metadata": {},
   "outputs": [],
   "source": [
    "from gensim.models import CoherenceModel\n",
    "\n",
    "def compute_coherence_values(dictionary, corpus, texts, limit, start=2, step=3):\n",
    "    \"\"\"\n",
    "    Compute c_v coherence for various number of topics\n",
    "\n",
    "    Parameters:\n",
    "    ----------\n",
    "    dictionary : Gensim dictionary\n",
    "    corpus : Gensim corpus\n",
    "    texts : List of input texts\n",
    "    limit : Max num of topics\n",
    "\n",
    "    Returns:\n",
    "    -------\n",
    "    model_list : List of LDA topic models\n",
    "    coherence_values : Coherence values corresponding to the LDA model with respective number of topics\n",
    "    \"\"\"\n",
    "    coherence_values = []\n",
    "    model_list = []\n",
    "    for num_topics in range(start, limit, step):\n",
    "        model = gensim.models.ldamulticore.LdaMulticore(\n",
    "                           corpus=corpus,\n",
    "                           num_topics=num_topics,\n",
    "                           id2word=train_id2word,\n",
    "                           chunksize=1000,\n",
    "                           workers=5, # Num. Processing Cores - 1\n",
    "                           passes=50,\n",
    "                           eval_every = 1,\n",
    "                           per_word_topics=True)\n",
    "        model_list.append(model)\n",
    "        coherencemodel = CoherenceModel(model=model, texts=texts, dictionary=dictionary, coherence='c_v')\n",
    "        coherence_values.append(coherencemodel.get_coherence())\n",
    "\n",
    "    return model_list, coherence_values\n"
   ]
  },
  {
   "cell_type": "code",
   "execution_count": 69,
   "metadata": {},
   "outputs": [],
   "source": [
    "# run\n",
    "model_list, coherence_values = compute_coherence_values(dictionary=train_id2word, \n",
    "                                                        corpus=train_corpus, texts=bigram_train, start=5, limit=40, step=2)"
   ]
  },
  {
   "cell_type": "markdown",
   "metadata": {},
   "source": [
    "## Visualise Coherence Scores"
   ]
  },
  {
   "cell_type": "code",
   "execution_count": 72,
   "metadata": {},
   "outputs": [
    {
     "data": {
      "image/png": "[encoded data removed]",
      "text/plain": [
       "<Figure size 432x288 with 1 Axes>"
      ]
     },
     "metadata": {
      "needs_background": "light"
     },
     "output_type": "display_data"
    }
   ],
   "source": [
    "import matplotlib.pyplot as plt\n",
    "\n",
    "%matplotlib inline\n",
    "\n",
    "# Show graph\n",
    "limit=40; start=5; step=2;\n",
    "x = range(start, limit, step)\n",
    "plt.plot(x, coherence_values)\n",
    "plt.xlabel(\"Num Topics\")\n",
    "plt.ylabel(\"Coherence score\")\n",
    "plt.legend((\"coherence_values\"), loc='best')\n",
    "plt.show()\n",
    "\n"
   ]
  },
  {
   "cell_type": "code",
   "execution_count": 37,
   "metadata": {},
   "outputs": [
    {
     "name": "stdout",
     "output_type": "stream",
     "text": [
      "\n",
      "Perplexity:  -8.480003947883418\n",
      "\n",
      "Coherence Score:  0.4453539206402436\n"
     ]
    }
   ],
   "source": [
    "from gensim.models import CoherenceModel\n",
    "\n",
    "# Compute Perplexity\n",
    "print('\\nPerplexity: ', lda_train.log_perplexity(train_corpus))  # a measure of how good the model is. lower the better.\n",
    "\n",
    "# Compute Coherence Score\n",
    "cm = CoherenceModel(model=lda_train, corpus=train_corpus,texts=bigram_train, coherence='c_v')\n",
    "coherence_lda = cm.get_coherence()\n",
    "print('\\nCoherence Score: ', coherence_lda)"
   ]
  },
  {
   "cell_type": "code",
   "execution_count": 54,
   "metadata": {},
   "outputs": [
    {
     "data": {
      "text/plain": [
       "'water , nea , public , residents , town_councils , food , ensure , town_council , ministry , areas'"
      ]
     },
     "execution_count": 54,
     "metadata": {},
     "output_type": "execute_result"
    }
   ],
   "source": [
    "\",\".join(re.sub(r'\\d.\\d+\\*','',lda_train.print_topics(-1)[0][1]).replace('\"','').split('+'))"
   ]
  },
  {
   "cell_type": "code",
   "execution_count": 73,
   "metadata": {},
   "outputs": [
    {
     "name": "stdout",
     "output_type": "stream",
     "text": [
      "1. Topic: 0  \n",
      "\t- Key Words: water , nea , public , residents , town_councils , food , ensure , town_council , ministry , areas , year , use , pub , sir , health , management , buildings , resources , measures , would\n",
      "2. Topic: 1  \n",
      "\t- Key Words: new , companies , government , industry , help , services , support , sector , businesses , smes , business , technology , continue , develop , local , example , growth , opportunities , development , need\n",
      "3. Topic: 2  \n",
      "\t- Key Words: saf , mas , defence , countries , asean , international , us , security , training , year , financial , foreign , region , ns , mindef , banks , china , financial_institutions , continue , investment\n",
      "4. Topic: 3  \n",
      "\t- Key Words: students , education , schools , school , community , moe , children , support , programmes , parents , teachers , sports , learning , programme , work , arts , help , year , training , provide\n",
      "5. Topic: 4  \n",
      "\t- Key Words: hdb , lta , new , flats , would , time , residents , public_transport , flat , year , one , housing , road , operators , commuters , transport , system , development , first , sir\n",
      "6. Topic: 5  \n",
      "\t- Key Words: police , public , officers , cases , security , safety , home_affairs , number , ministry , community , measures , order , would , crime , act , ensure , take , offence , work , home_team\n",
      "7. Topic: 6  \n",
      "\t- Key Words: care , children , support , help , patients , health , family , need , families , singaporeans , healthcare , community , medical , services , parents , elderly , scheme , seniors , provide , child\n",
      "8. Topic: 7  \n",
      "\t- Key Words: people , government , one , would , singaporeans , us , think , must , need , even , sir , time , said , want , like , first , know , make , good , society\n",
      "9. Topic: 8  \n",
      "\t- Key Words: workers , government , help , companies , work , singaporeans , jobs , budget , employers , would , need , year , one , support , scheme , time , sir , economy , employment , new\n",
      "10. Topic: 9  \n",
      "\t- Key Words: bill , act , would , law , case , court , legal , amendments , public , section , cases , sir , make , first , members , time , made , person , one , ensure\n"
     ]
    }
   ],
   "source": [
    "for idx, topic in lda_train.print_topics(-1, num_words=20):\n",
    "    print(\"{}. Topic: {}  \\n\\t- Key Words: {}\".format(idx+1, idx, (\",\".join(re.sub(r'\\d.\\d+\\*','',topic).replace('\"','').split('+')))))"
   ]
  },
  {
   "cell_type": "markdown",
   "metadata": {},
   "source": [
    "We see here that coherence improved greatly when the number of topics is greater than 8. Thus, the earlier assumption of having 10 topics generated via LDA is valid. Accordingly, we can label the 10 topics as follows:\n",
    "\n",
    "1. Topic: 0 - Environment\n",
    "\t- Key Words: water , nea , public , residents , town_councils , food , ensure , town_council , ministry , areas\n",
    "2. Topic: 1 - Business \n",
    "\t- Key Words: new , companies , government , industry , help , services , support , sector , businesses , smes  \n",
    "3. Topic: 2 - External Security   \n",
    "\t- Key Words: saf , mas , defence , countries , asean , international , us , security , training , year    \n",
    "4. Topic: 3 - Education   \n",
    "\t- Key Words: students , education , schools , school , community , moe , children , support , programmes , parents    \n",
    "5. Topic: 4 - Living   \n",
    "\t- Key Words: hdb , lta , new , flats , would , time , residents , public_transport , flat , year    \n",
    "6. Topic: 5 - Internal Security   \n",
    "\t- Key Words: police , public , officers , cases , security , safety , home_affairs , number , ministry , community    \n",
    "7. Topic: 6 - Healthcare   \n",
    "\t- Key Words: care , children , support , help , patients , health , family , need , families , singaporeans    \n",
    "8. Topic: 7 - Society   \n",
    "\t- Key Words: people , government , one , would , singaporeans , us , think , must , need , even    \n",
    "9. Topic: 8 - Employment   \n",
    "\t- Key Words: workers , government , help , companies , work , singaporeans , jobs , budget , employers , would    \n",
    "10. Topic: 9 - Law   \n",
    "\t- Key Words: bill , act , would , law , case , court , legal , amendments , public , section"
   ]
  },
  {
   "cell_type": "markdown",
   "metadata": {},
   "source": [
    "## Appending our Corpus with Tags!\n",
    "\n",
    "### Finding Dominant Topic in each sentence"
   ]
  },
  {
   "cell_type": "markdown",
   "metadata": {},
   "source": [
    "Using gensim's LDA topic modelling on a document"
   ]
  },
  {
   "cell_type": "code",
   "execution_count": 43,
   "metadata": {},
   "outputs": [
    {
     "data": {
      "text/plain": [
       "[(7, 0.43655953),\n",
       " (2, 0.17807838),\n",
       " (0, 0.13052306),\n",
       " (9, 0.09896996),\n",
       " (5, 0.058110144),\n",
       " (1, 0.054801296),\n",
       " (4, 0.042660255)]"
      ]
     },
     "execution_count": 43,
     "metadata": {},
     "output_type": "execute_result"
    }
   ],
   "source": [
    "sent_topics_df = pd.DataFrame()\n",
    "\n",
    "row = model[train_corpus][1]\n",
    "row = sorted(row[0], key=lambda x: x[1], reverse=True)\n",
    "row"
   ]
  },
  {
   "cell_type": "code",
   "execution_count": 146,
   "metadata": {},
   "outputs": [
    {
     "data": {
      "text/plain": [
       "3374"
      ]
     },
     "execution_count": 146,
     "metadata": {},
     "output_type": "execute_result"
    }
   ],
   "source": [
    "len(train_corpus[0])"
   ]
  },
  {
   "cell_type": "code",
   "execution_count": 45,
   "metadata": {},
   "outputs": [
    {
     "data": {
      "text/html": [
       "<div>\n",
       "<style scoped>\n",
       "    .dataframe tbody tr th:only-of-type {\n",
       "        vertical-align: middle;\n",
       "    }\n",
       "\n",
       "    .dataframe tbody tr th {\n",
       "        vertical-align: top;\n",
       "    }\n",
       "\n",
       "    .dataframe thead th {\n",
       "        text-align: right;\n",
       "    }\n",
       "</style>\n",
       "<table border=\"1\" class=\"dataframe\">\n",
       "  <thead>\n",
       "    <tr style=\"text-align: right;\">\n",
       "      <th></th>\n",
       "      <th>Document_No</th>\n",
       "      <th>Dominant_Topic</th>\n",
       "      <th>Topic_Perc_Contrib</th>\n",
       "      <th>Keywords</th>\n",
       "      <th>Text</th>\n",
       "    </tr>\n",
       "  </thead>\n",
       "  <tbody>\n",
       "    <tr>\n",
       "      <th>0</th>\n",
       "      <td>0</td>\n",
       "      <td>7.0</td>\n",
       "      <td>0.4911</td>\n",
       "      <td>people, government, one, would, singaporeans, ...</td>\n",
       "      <td>[proc_text, debate_resumed, proc_text, br_mr, ...</td>\n",
       "    </tr>\n",
       "    <tr>\n",
       "      <th>1</th>\n",
       "      <td>1</td>\n",
       "      <td>7.0</td>\n",
       "      <td>0.4366</td>\n",
       "      <td>people, government, one, would, singaporeans, ...</td>\n",
       "      <td>[mr_vikram, nair_asked, minister, foreign_affa...</td>\n",
       "    </tr>\n",
       "    <tr>\n",
       "      <th>2</th>\n",
       "      <td>2</td>\n",
       "      <td>5.0</td>\n",
       "      <td>0.3280</td>\n",
       "      <td>police, public, officers, cases, security, saf...</td>\n",
       "      <td>[assoc_prof, walter_theseira, asked_minister, ...</td>\n",
       "    </tr>\n",
       "    <tr>\n",
       "      <th>3</th>\n",
       "      <td>3</td>\n",
       "      <td>0.0</td>\n",
       "      <td>0.2807</td>\n",
       "      <td>water, nea, public, residents, town_councils, ...</td>\n",
       "      <td>[ms_irene, quay_siew, ching, asked_minister, h...</td>\n",
       "    </tr>\n",
       "    <tr>\n",
       "      <th>4</th>\n",
       "      <td>4</td>\n",
       "      <td>7.0</td>\n",
       "      <td>0.3995</td>\n",
       "      <td>people, government, one, would, singaporeans, ...</td>\n",
       "      <td>[mr_lim, biow_chuan, asked_deputy, prime_minis...</td>\n",
       "    </tr>\n",
       "    <tr>\n",
       "      <th>5</th>\n",
       "      <td>5</td>\n",
       "      <td>6.0</td>\n",
       "      <td>0.4204</td>\n",
       "      <td>care, children, support, help, patients, healt...</td>\n",
       "      <td>[mr_louis, ng_kok, kwang_asked, minister, heal...</td>\n",
       "    </tr>\n",
       "    <tr>\n",
       "      <th>6</th>\n",
       "      <td>6</td>\n",
       "      <td>7.0</td>\n",
       "      <td>0.3054</td>\n",
       "      <td>people, government, one, would, singaporeans, ...</td>\n",
       "      <td>[mr_png, eng_huat, asked_deputy, prime_ministe...</td>\n",
       "    </tr>\n",
       "    <tr>\n",
       "      <th>7</th>\n",
       "      <td>7</td>\n",
       "      <td>8.0</td>\n",
       "      <td>0.2996</td>\n",
       "      <td>workers, government, help, companies, work, si...</td>\n",
       "      <td>[mr_louis, ng_kok, kwang_asked, minister_manpo...</td>\n",
       "    </tr>\n",
       "    <tr>\n",
       "      <th>8</th>\n",
       "      <td>8</td>\n",
       "      <td>3.0</td>\n",
       "      <td>0.5370</td>\n",
       "      <td>students, education, schools, school, communit...</td>\n",
       "      <td>[ms_irene, quay_siew, ching, asked_minister, e...</td>\n",
       "    </tr>\n",
       "    <tr>\n",
       "      <th>9</th>\n",
       "      <td>9</td>\n",
       "      <td>7.0</td>\n",
       "      <td>0.4994</td>\n",
       "      <td>people, government, one, would, singaporeans, ...</td>\n",
       "      <td>[proc_text, resumption_debate, question, may, ...</td>\n",
       "    </tr>\n",
       "  </tbody>\n",
       "</table>\n",
       "</div>"
      ],
      "text/plain": [
       "   Document_No  Dominant_Topic  Topic_Perc_Contrib  \\\n",
       "0            0             7.0              0.4911   \n",
       "1            1             7.0              0.4366   \n",
       "2            2             5.0              0.3280   \n",
       "3            3             0.0              0.2807   \n",
       "4            4             7.0              0.3995   \n",
       "5            5             6.0              0.4204   \n",
       "6            6             7.0              0.3054   \n",
       "7            7             8.0              0.2996   \n",
       "8            8             3.0              0.5370   \n",
       "9            9             7.0              0.4994   \n",
       "\n",
       "                                            Keywords  \\\n",
       "0  people, government, one, would, singaporeans, ...   \n",
       "1  people, government, one, would, singaporeans, ...   \n",
       "2  police, public, officers, cases, security, saf...   \n",
       "3  water, nea, public, residents, town_councils, ...   \n",
       "4  people, government, one, would, singaporeans, ...   \n",
       "5  care, children, support, help, patients, healt...   \n",
       "6  people, government, one, would, singaporeans, ...   \n",
       "7  workers, government, help, companies, work, si...   \n",
       "8  students, education, schools, school, communit...   \n",
       "9  people, government, one, would, singaporeans, ...   \n",
       "\n",
       "                                                Text  \n",
       "0  [proc_text, debate_resumed, proc_text, br_mr, ...  \n",
       "1  [mr_vikram, nair_asked, minister, foreign_affa...  \n",
       "2  [assoc_prof, walter_theseira, asked_minister, ...  \n",
       "3  [ms_irene, quay_siew, ching, asked_minister, h...  \n",
       "4  [mr_lim, biow_chuan, asked_deputy, prime_minis...  \n",
       "5  [mr_louis, ng_kok, kwang_asked, minister, heal...  \n",
       "6  [mr_png, eng_huat, asked_deputy, prime_ministe...  \n",
       "7  [mr_louis, ng_kok, kwang_asked, minister_manpo...  \n",
       "8  [ms_irene, quay_siew, ching, asked_minister, e...  \n",
       "9  [proc_text, resumption_debate, question, may, ...  "
      ]
     },
     "execution_count": 45,
     "metadata": {},
     "output_type": "execute_result"
    }
   ],
   "source": [
    "def format_topics_sentences(ldamodel=model, corpus=train_corpus,texts=bigram_train):\n",
    "    # https://www.machinelearningplus.com/nlp/topic-modeling-gensim-python/\n",
    "    # Init output\n",
    "    sent_topics_df = pd.DataFrame()\n",
    "\n",
    "    # Get top 3 topic in each document\n",
    "    for i, row in enumerate(ldamodel[corpus]):\n",
    "        row = sorted(row[0], key=lambda x: x[1], reverse=True)\n",
    "        # Get the Dominant topic, Perc Contribution and Keywords for each document\n",
    "        for j, (topic_num, prop_topic) in enumerate(row):\n",
    "            if j == 0:  # => dominant topic\n",
    "                wp = ldamodel.show_topic(topic_num)\n",
    "                topic_keywords = \", \".join([word for word, prop in wp])\n",
    "                sent_topics_df = sent_topics_df.append(pd.Series([int(topic_num), round(prop_topic,4), topic_keywords]), ignore_index=True)\n",
    "            else:\n",
    "                break\n",
    "    sent_topics_df.columns = ['Dominant_Topic', 'Perc_Contribution', 'Topic_Keywords']\n",
    "\n",
    "    # Add original text to the end of the output\n",
    "    contents = pd.Series(texts)\n",
    "    sent_topics_df = pd.concat([sent_topics_df, contents], axis=1)\n",
    "    return(sent_topics_df)\n",
    "\n",
    "df_topic_sents_keywords = format_topics_sentences(ldamodel=model, corpus=train_corpus, texts=bigram_train)\n",
    "\n",
    "# Format\n",
    "df_dominant_topic = df_topic_sents_keywords.reset_index()\n",
    "df_dominant_topic.columns = ['Document_No', 'Dominant_Topic', 'Topic_Perc_Contrib', 'Keywords', 'Text']\n",
    "\n",
    "# Show\n",
    "df_dominant_topic.head(10)"
   ]
  },
  {
   "cell_type": "markdown",
   "metadata": {},
   "source": [
    "### LDA Inference \n",
    "\n",
    "#### Load Dictionary"
   ]
  },
  {
   "cell_type": "code",
   "execution_count": 15,
   "metadata": {},
   "outputs": [],
   "source": [
    "from gensim.corpora.dictionary import Dictionary"
   ]
  },
  {
   "cell_type": "code",
   "execution_count": 16,
   "metadata": {},
   "outputs": [],
   "source": [
    "lda_dict = Dictionary.load('lda_train.model.id2word')"
   ]
  },
  {
   "cell_type": "code",
   "execution_count": 17,
   "metadata": {},
   "outputs": [],
   "source": [
    "doc_bow_sample = lda_dict.doc2bow(mongo_df.cleaned_join[1].replace('<br/>','').split()) "
   ]
  },
  {
   "cell_type": "code",
   "execution_count": 18,
   "metadata": {},
   "outputs": [
    {
     "data": {
      "text/plain": [
       "[(7, 0.38439086),\n",
       " (2, 0.27236545),\n",
       " (0, 0.24063131),\n",
       " (9, 0.052908543),\n",
       " (4, 0.04900857)]"
      ]
     },
     "execution_count": 18,
     "metadata": {},
     "output_type": "execute_result"
    }
   ],
   "source": [
    "sorted(model.get_document_topics(doc_bow_sample),key=lambda x : x[1], reverse=True)"
   ]
  },
  {
   "cell_type": "code",
   "execution_count": 19,
   "metadata": {},
   "outputs": [],
   "source": [
    "def retrieve_dominant_topic(doc, model=model ,ref_dict=lda_dict, threshold=0.1):\n",
    "    doc_bow_sample = ref_dict.doc2bow(doc.split()) #input has to be a list of strings\n",
    "    highest_prob = sorted(model.get_document_topics(doc_bow_sample),key=lambda x : x[1], reverse=True)[0][1]\n",
    "    if highest_prob > threshold:\n",
    "        topic_num = sorted(model.get_document_topics(doc_bow_sample),key=lambda x : x[1], reverse=True)[0][0]\n",
    "    else:\n",
    "        topic_num = 11 # no topic identidied\n",
    "    \n",
    "    return topic_num "
   ]
  },
  {
   "cell_type": "code",
   "execution_count": 20,
   "metadata": {},
   "outputs": [
    {
     "name": "stdout",
     "output_type": "stream",
     "text": [
      "CPU times: user 44.8 s, sys: 3 s, total: 47.8 s\n",
      "Wall time: 28.7 s\n"
     ]
    }
   ],
   "source": [
    "%time mongo_df['dominant_topic'] = mongo_df.cleaned_join.map(lambda x : retrieve_dominant_topic(x))"
   ]
  },
  {
   "cell_type": "markdown",
   "metadata": {},
   "source": [
    "## Creating the mappings to put into our system"
   ]
  },
  {
   "cell_type": "markdown",
   "metadata": {},
   "source": [
    "1. Topic: 0 - Environment\n",
    "2. Topic: 1 - Business \n",
    "3. Topic: 2 - External Security   \n",
    "4. Topic: 3 - Education    \n",
    "5. Topic: 4 - Living   \n",
    "6. Topic: 5 - Internal Security     \n",
    "7. Topic: 6 - Healthcare       \n",
    "8. Topic: 7 - Society       \n",
    "9. Topic: 8 - Employment      \n",
    "10. Topic: 9 - Law   "
   ]
  },
  {
   "cell_type": "code",
   "execution_count": 21,
   "metadata": {},
   "outputs": [],
   "source": [
    "dominant_topic_mappings = {\n",
    "    0 : 'Environment',\n",
    "    1 : 'Business',\n",
    "    2 : 'External Security',\n",
    "    3 : 'Education',\n",
    "    4 : 'Living',\n",
    "    5 : 'Internal Security',\n",
    "    6 : 'Healthcare',\n",
    "    7 : 'Society',\n",
    "    8 : 'Employment',\n",
    "    9 : 'Law',\n",
    "    11 : 'Unidentified'\n",
    "}"
   ]
  },
  {
   "cell_type": "code",
   "execution_count": 22,
   "metadata": {},
   "outputs": [],
   "source": [
    "mongo_df['dominant_topic'] = mongo_df['dominant_topic'].map(dominant_topic_mappings)"
   ]
  },
  {
   "cell_type": "code",
   "execution_count": 26,
   "metadata": {},
   "outputs": [
    {
     "data": {
      "text/plain": [
       "<seaborn.axisgrid.FacetGrid at 0x1356be7b8>"
      ]
     },
     "execution_count": 26,
     "metadata": {},
     "output_type": "execute_result"
    },
    {
     "data": {
      "image/png": "[encoded data removed]",
      "text/plain": [
       "<Figure size 360x360 with 1 Axes>"
      ]
     },
     "metadata": {
      "needs_background": "light"
     },
     "output_type": "display_data"
    }
   ],
   "source": [
    "\n",
    "sns.catplot(x='dominant_topic',kind=\"count\",data = mongo_df )\n"
   ]
  },
  {
   "cell_type": "code",
   "execution_count": 24,
   "metadata": {},
   "outputs": [
    {
     "data": {
      "text/html": [
       "<div>\n",
       "<style scoped>\n",
       "    .dataframe tbody tr th:only-of-type {\n",
       "        vertical-align: middle;\n",
       "    }\n",
       "\n",
       "    .dataframe tbody tr th {\n",
       "        vertical-align: top;\n",
       "    }\n",
       "\n",
       "    .dataframe thead th {\n",
       "        text-align: right;\n",
       "    }\n",
       "</style>\n",
       "<table border=\"1\" class=\"dataframe\">\n",
       "  <thead>\n",
       "    <tr style=\"text-align: right;\">\n",
       "      <th></th>\n",
       "      <th>_id</th>\n",
       "      <th>article_text</th>\n",
       "      <th>chunks</th>\n",
       "      <th>cleaned_join</th>\n",
       "      <th>html_clean</th>\n",
       "      <th>parliament_num</th>\n",
       "      <th>parsed_convo</th>\n",
       "      <th>persons_involved</th>\n",
       "      <th>session_num</th>\n",
       "      <th>session_type</th>\n",
       "      <th>sitting_date</th>\n",
       "      <th>sitting_num</th>\n",
       "      <th>src_url</th>\n",
       "      <th>title</th>\n",
       "      <th>volume_num</th>\n",
       "      <th>dominant_topic</th>\n",
       "    </tr>\n",
       "  </thead>\n",
       "  <tbody>\n",
       "    <tr>\n",
       "      <th>0</th>\n",
       "      <td>5d27eca6172d9aa762d4802f</td>\n",
       "      <td>&lt;p&gt;[(proc text) Debate resumed. (proc text)]&lt;/...</td>\n",
       "      <td>{\"0\": {\"entity\": \"NA\", \"content\": \"[(proc text...</td>\n",
       "      <td>[(proc text) Debate resumed. (proc text)]&lt;br/&gt;...</td>\n",
       "      <td>[[(proc text) Debate resumed. (proc text)], Mr...</td>\n",
       "      <td>13</td>\n",
       "      <td>[{'content': '[(proc text) Debate resumed. (pr...</td>\n",
       "      <td>[Mr Leon Perera, Mr K Shanmugam, Assoc Prof Wa...</td>\n",
       "      <td>2</td>\n",
       "      <td>SECOND READING BILLS</td>\n",
       "      <td>2019-05-08</td>\n",
       "      <td>105</td>\n",
       "      <td>https://sprs.parl.gov.sg/search/sprs3topic?rep...</td>\n",
       "      <td>PROTECTION FROM ONLINE FALSEHOODS AND MANIPULA...</td>\n",
       "      <td>94</td>\n",
       "      <td>Society</td>\n",
       "    </tr>\n",
       "    <tr>\n",
       "      <th>1</th>\n",
       "      <td>5d27eca6172d9aa762d48030</td>\n",
       "      <td>&lt;p class=\"ql-align-justify\"&gt;4 &lt;strong&gt;Mr Vikra...</td>\n",
       "      <td>{\"0\": {\"entity\": \"NA\", \"content\": \"Mr Vikram N...</td>\n",
       "      <td>Mr Vikram Nair asked the Minister for Foreign ...</td>\n",
       "      <td>[Mr Vikram Nair asked the Minister for Foreign...</td>\n",
       "      <td>13</td>\n",
       "      <td>[{'content': 'Mr Vikram Nair asked the Ministe...</td>\n",
       "      <td>[Dr Vivian Balakrishnan, The Minister for Fore...</td>\n",
       "      <td>2</td>\n",
       "      <td>ORAL ANSWERS</td>\n",
       "      <td>2019-05-08</td>\n",
       "      <td>105</td>\n",
       "      <td>https://sprs.parl.gov.sg/search/sprs3topic?rep...</td>\n",
       "      <td>STATE OF BILATERAL RELATIONS WITH MALAYSIA FOL...</td>\n",
       "      <td>94</td>\n",
       "      <td>Society</td>\n",
       "    </tr>\n",
       "    <tr>\n",
       "      <th>2</th>\n",
       "      <td>5d27eca6172d9aa762d48031</td>\n",
       "      <td>&lt;p class=\"ql-align-justify\"&gt;8 &lt;strong&gt;Assoc Pr...</td>\n",
       "      <td>{\"0\": {\"entity\": \"NA\", \"content\": \"Assoc Prof ...</td>\n",
       "      <td>Assoc Prof Walter Theseira asked the Minister ...</td>\n",
       "      <td>[Assoc Prof Walter Theseira asked the Minister...</td>\n",
       "      <td>13</td>\n",
       "      <td>[{'content': 'Assoc Prof Walter Theseira asked...</td>\n",
       "      <td>[Ms Low Yen Ling, Ms Anthea Ong, Assoc Prof Wa...</td>\n",
       "      <td>2</td>\n",
       "      <td>ORAL ANSWERS</td>\n",
       "      <td>2019-05-08</td>\n",
       "      <td>105</td>\n",
       "      <td>https://sprs.parl.gov.sg/search/sprs3topic?rep...</td>\n",
       "      <td>COMPANIES WITH MEASURES TO DEAL WITH WORKPLACE...</td>\n",
       "      <td>94</td>\n",
       "      <td>Internal Security</td>\n",
       "    </tr>\n",
       "    <tr>\n",
       "      <th>3</th>\n",
       "      <td>5d27eca6172d9aa762d48032</td>\n",
       "      <td>&lt;p&gt;5 &lt;strong&gt;Ms Irene Quay Siew Ching&lt;/strong&gt;...</td>\n",
       "      <td>{\"0\": {\"entity\": \"NA\", \"content\": \"Ms Irene Qu...</td>\n",
       "      <td>Ms Irene Quay Siew Ching asked the Minister fo...</td>\n",
       "      <td>[Ms Irene Quay Siew Ching asked the Minister f...</td>\n",
       "      <td>13</td>\n",
       "      <td>[{'content': 'Ms Irene Quay Siew Ching asked t...</td>\n",
       "      <td>[The Senior Minister of State for Health, Dr L...</td>\n",
       "      <td>2</td>\n",
       "      <td>ORAL ANSWERS</td>\n",
       "      <td>2019-05-08</td>\n",
       "      <td>105</td>\n",
       "      <td>https://sprs.parl.gov.sg/search/sprs3topic?rep...</td>\n",
       "      <td>REVIEW OF DRUG TESTING STANDARDS IN SINGAPORE ...</td>\n",
       "      <td>94</td>\n",
       "      <td>Environment</td>\n",
       "    </tr>\n",
       "    <tr>\n",
       "      <th>4</th>\n",
       "      <td>5d27eca6172d9aa762d48033</td>\n",
       "      <td>&lt;p class=\"ql-align-justify\"&gt;2 &lt;strong&gt;Mr Lim B...</td>\n",
       "      <td>{\"0\": {\"entity\": \"NA\", \"content\": \"Mr Lim Biow...</td>\n",
       "      <td>Mr Lim Biow Chuan asked the Deputy Prime Minis...</td>\n",
       "      <td>[Mr Lim Biow Chuan asked the Deputy Prime Mini...</td>\n",
       "      <td>13</td>\n",
       "      <td>[{'content': 'Mr Lim Biow Chuan asked the Depu...</td>\n",
       "      <td>[Ms Indranee Rajah, The Second Minister for Fi...</td>\n",
       "      <td>2</td>\n",
       "      <td>ORAL ANSWERS</td>\n",
       "      <td>2019-05-08</td>\n",
       "      <td>105</td>\n",
       "      <td>https://sprs.parl.gov.sg/search/sprs3topic?rep...</td>\n",
       "      <td>LIVING IN PRIVATE PROPERTIES BUT WITH NO DECLA...</td>\n",
       "      <td>94</td>\n",
       "      <td>Employment</td>\n",
       "    </tr>\n",
       "  </tbody>\n",
       "</table>\n",
       "</div>"
      ],
      "text/plain": [
       "                        _id  \\\n",
       "0  5d27eca6172d9aa762d4802f   \n",
       "1  5d27eca6172d9aa762d48030   \n",
       "2  5d27eca6172d9aa762d48031   \n",
       "3  5d27eca6172d9aa762d48032   \n",
       "4  5d27eca6172d9aa762d48033   \n",
       "\n",
       "                                        article_text  \\\n",
       "0  <p>[(proc text) Debate resumed. (proc text)]</...   \n",
       "1  <p class=\"ql-align-justify\">4 <strong>Mr Vikra...   \n",
       "2  <p class=\"ql-align-justify\">8 <strong>Assoc Pr...   \n",
       "3  <p>5 <strong>Ms Irene Quay Siew Ching</strong>...   \n",
       "4  <p class=\"ql-align-justify\">2 <strong>Mr Lim B...   \n",
       "\n",
       "                                              chunks  \\\n",
       "0  {\"0\": {\"entity\": \"NA\", \"content\": \"[(proc text...   \n",
       "1  {\"0\": {\"entity\": \"NA\", \"content\": \"Mr Vikram N...   \n",
       "2  {\"0\": {\"entity\": \"NA\", \"content\": \"Assoc Prof ...   \n",
       "3  {\"0\": {\"entity\": \"NA\", \"content\": \"Ms Irene Qu...   \n",
       "4  {\"0\": {\"entity\": \"NA\", \"content\": \"Mr Lim Biow...   \n",
       "\n",
       "                                        cleaned_join  \\\n",
       "0  [(proc text) Debate resumed. (proc text)]<br/>...   \n",
       "1  Mr Vikram Nair asked the Minister for Foreign ...   \n",
       "2  Assoc Prof Walter Theseira asked the Minister ...   \n",
       "3  Ms Irene Quay Siew Ching asked the Minister fo...   \n",
       "4  Mr Lim Biow Chuan asked the Deputy Prime Minis...   \n",
       "\n",
       "                                          html_clean  parliament_num  \\\n",
       "0  [[(proc text) Debate resumed. (proc text)], Mr...              13   \n",
       "1  [Mr Vikram Nair asked the Minister for Foreign...              13   \n",
       "2  [Assoc Prof Walter Theseira asked the Minister...              13   \n",
       "3  [Ms Irene Quay Siew Ching asked the Minister f...              13   \n",
       "4  [Mr Lim Biow Chuan asked the Deputy Prime Mini...              13   \n",
       "\n",
       "                                        parsed_convo  \\\n",
       "0  [{'content': '[(proc text) Debate resumed. (pr...   \n",
       "1  [{'content': 'Mr Vikram Nair asked the Ministe...   \n",
       "2  [{'content': 'Assoc Prof Walter Theseira asked...   \n",
       "3  [{'content': 'Ms Irene Quay Siew Ching asked t...   \n",
       "4  [{'content': 'Mr Lim Biow Chuan asked the Depu...   \n",
       "\n",
       "                                    persons_involved  session_num  \\\n",
       "0  [Mr Leon Perera, Mr K Shanmugam, Assoc Prof Wa...            2   \n",
       "1  [Dr Vivian Balakrishnan, The Minister for Fore...            2   \n",
       "2  [Ms Low Yen Ling, Ms Anthea Ong, Assoc Prof Wa...            2   \n",
       "3  [The Senior Minister of State for Health, Dr L...            2   \n",
       "4  [Ms Indranee Rajah, The Second Minister for Fi...            2   \n",
       "\n",
       "           session_type sitting_date  sitting_num  \\\n",
       "0  SECOND READING BILLS   2019-05-08          105   \n",
       "1          ORAL ANSWERS   2019-05-08          105   \n",
       "2          ORAL ANSWERS   2019-05-08          105   \n",
       "3          ORAL ANSWERS   2019-05-08          105   \n",
       "4          ORAL ANSWERS   2019-05-08          105   \n",
       "\n",
       "                                             src_url  \\\n",
       "0  https://sprs.parl.gov.sg/search/sprs3topic?rep...   \n",
       "1  https://sprs.parl.gov.sg/search/sprs3topic?rep...   \n",
       "2  https://sprs.parl.gov.sg/search/sprs3topic?rep...   \n",
       "3  https://sprs.parl.gov.sg/search/sprs3topic?rep...   \n",
       "4  https://sprs.parl.gov.sg/search/sprs3topic?rep...   \n",
       "\n",
       "                                               title  volume_num  \\\n",
       "0  PROTECTION FROM ONLINE FALSEHOODS AND MANIPULA...          94   \n",
       "1  STATE OF BILATERAL RELATIONS WITH MALAYSIA FOL...          94   \n",
       "2  COMPANIES WITH MEASURES TO DEAL WITH WORKPLACE...          94   \n",
       "3  REVIEW OF DRUG TESTING STANDARDS IN SINGAPORE ...          94   \n",
       "4  LIVING IN PRIVATE PROPERTIES BUT WITH NO DECLA...          94   \n",
       "\n",
       "      dominant_topic  \n",
       "0            Society  \n",
       "1            Society  \n",
       "2  Internal Security  \n",
       "3        Environment  \n",
       "4         Employment  "
      ]
     },
     "execution_count": 24,
     "metadata": {},
     "output_type": "execute_result"
    }
   ],
   "source": [
    "mongo_df.head()"
   ]
  },
  {
   "cell_type": "code",
   "execution_count": 25,
   "metadata": {},
   "outputs": [
    {
     "data": {
      "text/plain": [
       "ObjectId('5d27eca6172d9aa762d4802f')"
      ]
     },
     "execution_count": 25,
     "metadata": {},
     "output_type": "execute_result"
    }
   ],
   "source": [
    "mongo_df._id[0]"
   ]
  },
  {
   "cell_type": "code",
   "execution_count": 73,
   "metadata": {},
   "outputs": [
    {
     "data": {
      "text/plain": [
       "<pymongo.results.UpdateResult at 0x12676aac8>"
      ]
     },
     "execution_count": 73,
     "metadata": {},
     "output_type": "execute_result"
    }
   ],
   "source": [
    "query = { \"_id\": mongo_df['_id'][0] }\n",
    "value = { \"$set\": { \"dominant_topic\": mongo_df['dominant_topic'][0] } }\n",
    "\n",
    "\n",
    "articles.update_one(query,value)"
   ]
  },
  {
   "cell_type": "code",
   "execution_count": 27,
   "metadata": {},
   "outputs": [
    {
     "name": "stderr",
     "output_type": "stream",
     "text": [
      "9531it [00:16, 584.68it/s]\n"
     ]
    }
   ],
   "source": [
    "from tqdm import tqdm\n",
    "\n",
    "for row in tqdm(mongo_df.itertuples()):\n",
    "    query = { \"_id\" : row._1 }\n",
    "    value = { \"$set\": { \"dominant_topic\": row.dominant_topic } }\n",
    "    articles.update_one(query,value)"
   ]
  },
  {
   "cell_type": "code",
   "execution_count": null,
   "metadata": {},
   "outputs": [],
   "source": []
  }
 ],
 "metadata": {
  "kernelspec": {
   "display_name": "Python 3",
   "language": "python",
   "name": "python3"
  },
  "language_info": {
   "codemirror_mode": {
    "name": "ipython",
    "version": 3
   },
   "file_extension": ".py",
   "mimetype": "text/x-python",
   "name": "python",
   "nbconvert_exporter": "python",
   "pygments_lexer": "ipython3",
   "version": "3.7.3"
  }
 },
 "nbformat": 4,
 "nbformat_minor": 2
}
