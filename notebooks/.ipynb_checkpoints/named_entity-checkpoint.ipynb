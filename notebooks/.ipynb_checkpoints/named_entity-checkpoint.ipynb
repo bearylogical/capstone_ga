{
 "cells": [
  {
   "cell_type": "markdown",
   "metadata": {},
   "source": [
    "## Named Entity Recognition\n",
    "\n",
    "SpaCy named entity recognition"
   ]
  },
  {
   "cell_type": "code",
   "execution_count": 45,
   "metadata": {},
   "outputs": [],
   "source": [
    "import datetime\n",
    "import numpy as np\n",
    "import pandas as pd\n",
    "from datetime import date \n",
    "\n",
    "from text_utils import metrics\n",
    "import re\n",
    "\n",
    "import pymongo \n",
    "import spacy\n",
    "import en_core_web_lg"
   ]
  },
  {
   "cell_type": "code",
   "execution_count": 46,
   "metadata": {},
   "outputs": [],
   "source": [
    "client = pymongo.MongoClient(\"mongodb://localhost:27017/\")\n",
    "\n",
    "db = client[\"parliament\"]\n",
    "articles = db[\"articles\"]"
   ]
  },
  {
   "cell_type": "code",
   "execution_count": 47,
   "metadata": {},
   "outputs": [
    {
     "data": {
      "text/plain": [
       "dict_keys(['_id', 'parliament_num', 'volume_num', 'sitting_num', 'session_num', 'session_type', 'article_text', 'title', 'sitting_date', 'src_url', 'html_clean', 'cleaned_join'])"
      ]
     },
     "execution_count": 47,
     "metadata": {},
     "output_type": "execute_result"
    }
   ],
   "source": [
    "articles.find_one().keys()"
   ]
  },
  {
   "cell_type": "code",
   "execution_count": 48,
   "metadata": {
    "scrolled": true
   },
   "outputs": [
    {
     "data": {
      "text/plain": [
       "'[(proc text) Debate resumed. (proc text)]<br/>Mr Deputy Speaker: Mr Png Eng Huat.6.57 pm<br/>Mr Png Eng Huat (Hougang): Sir, if this Bill is drafted solely to target the perpetrators of hate, violence, intolerance and disdain towards another race or religion, by all means, let us do it. We should never allow such people to propagate their vile ideologies in any form or manner. This world has no pl'"
      ]
     },
     "execution_count": 48,
     "metadata": {},
     "output_type": "execute_result"
    }
   ],
   "source": [
    "articles.find_one()['cleaned_join'][:400]"
   ]
  },
  {
   "cell_type": "code",
   "execution_count": 49,
   "metadata": {},
   "outputs": [],
   "source": [
    "mongo_df = pd.DataFrame.from_records(articles.find())"
   ]
  },
  {
   "cell_type": "code",
   "execution_count": 50,
   "metadata": {},
   "outputs": [
    {
     "data": {
      "text/html": [
       "<div>\n",
       "<style scoped>\n",
       "    .dataframe tbody tr th:only-of-type {\n",
       "        vertical-align: middle;\n",
       "    }\n",
       "\n",
       "    .dataframe tbody tr th {\n",
       "        vertical-align: top;\n",
       "    }\n",
       "\n",
       "    .dataframe thead th {\n",
       "        text-align: right;\n",
       "    }\n",
       "</style>\n",
       "<table border=\"1\" class=\"dataframe\">\n",
       "  <thead>\n",
       "    <tr style=\"text-align: right;\">\n",
       "      <th></th>\n",
       "      <th>_id</th>\n",
       "      <th>article_text</th>\n",
       "      <th>cleaned_join</th>\n",
       "      <th>html_clean</th>\n",
       "      <th>parliament_num</th>\n",
       "      <th>session_num</th>\n",
       "      <th>session_type</th>\n",
       "      <th>sitting_date</th>\n",
       "      <th>sitting_num</th>\n",
       "      <th>src_url</th>\n",
       "      <th>title</th>\n",
       "      <th>volume_num</th>\n",
       "    </tr>\n",
       "  </thead>\n",
       "  <tbody>\n",
       "    <tr>\n",
       "      <th>0</th>\n",
       "      <td>5d25dd11c63e4c829673ceac</td>\n",
       "      <td>&lt;p&gt;[(proc text) Debate resumed. (proc text)]&lt;/...</td>\n",
       "      <td>[(proc text) Debate resumed. (proc text)]&lt;br/&gt;...</td>\n",
       "      <td>[[(proc text) Debate resumed. (proc text)], Mr...</td>\n",
       "      <td>13</td>\n",
       "      <td>2</td>\n",
       "      <td>SECOND READING BILLS</td>\n",
       "      <td>2019-05-08</td>\n",
       "      <td>105</td>\n",
       "      <td>https://sprs.parl.gov.sg/search/sprs3topic?rep...</td>\n",
       "      <td>PROTECTION FROM ONLINE FALSEHOODS AND MANIPULA...</td>\n",
       "      <td>94</td>\n",
       "    </tr>\n",
       "    <tr>\n",
       "      <th>1</th>\n",
       "      <td>5d25dd11c63e4c829673cead</td>\n",
       "      <td>&lt;p class=\"ql-align-justify\"&gt;4 &lt;strong&gt;Mr Vikra...</td>\n",
       "      <td>Mr Vikram Nair asked the Minister for Foreign ...</td>\n",
       "      <td>[Mr Vikram Nair asked the Minister for Foreign...</td>\n",
       "      <td>13</td>\n",
       "      <td>2</td>\n",
       "      <td>ORAL ANSWERS</td>\n",
       "      <td>2019-05-08</td>\n",
       "      <td>105</td>\n",
       "      <td>https://sprs.parl.gov.sg/search/sprs3topic?rep...</td>\n",
       "      <td>STATE OF BILATERAL RELATIONS WITH MALAYSIA FOL...</td>\n",
       "      <td>94</td>\n",
       "    </tr>\n",
       "    <tr>\n",
       "      <th>2</th>\n",
       "      <td>5d25dd11c63e4c829673ceae</td>\n",
       "      <td>&lt;p class=\"ql-align-justify\"&gt;8 &lt;strong&gt;Assoc Pr...</td>\n",
       "      <td>Assoc Prof Walter Theseira asked the Minister ...</td>\n",
       "      <td>[Assoc Prof Walter Theseira asked the Minister...</td>\n",
       "      <td>13</td>\n",
       "      <td>2</td>\n",
       "      <td>ORAL ANSWERS</td>\n",
       "      <td>2019-05-08</td>\n",
       "      <td>105</td>\n",
       "      <td>https://sprs.parl.gov.sg/search/sprs3topic?rep...</td>\n",
       "      <td>COMPANIES WITH MEASURES TO DEAL WITH WORKPLACE...</td>\n",
       "      <td>94</td>\n",
       "    </tr>\n",
       "    <tr>\n",
       "      <th>3</th>\n",
       "      <td>5d25dd11c63e4c829673ceaf</td>\n",
       "      <td>&lt;p&gt;5 &lt;strong&gt;Ms Irene Quay Siew Ching&lt;/strong&gt;...</td>\n",
       "      <td>Ms Irene Quay Siew Ching asked the Minister fo...</td>\n",
       "      <td>[Ms Irene Quay Siew Ching asked the Minister f...</td>\n",
       "      <td>13</td>\n",
       "      <td>2</td>\n",
       "      <td>ORAL ANSWERS</td>\n",
       "      <td>2019-05-08</td>\n",
       "      <td>105</td>\n",
       "      <td>https://sprs.parl.gov.sg/search/sprs3topic?rep...</td>\n",
       "      <td>REVIEW OF DRUG TESTING STANDARDS IN SINGAPORE ...</td>\n",
       "      <td>94</td>\n",
       "    </tr>\n",
       "    <tr>\n",
       "      <th>4</th>\n",
       "      <td>5d25dd11c63e4c829673ceb0</td>\n",
       "      <td>&lt;p class=\"ql-align-justify\"&gt;2 &lt;strong&gt;Mr Lim B...</td>\n",
       "      <td>Mr Lim Biow Chuan asked the Deputy Prime Minis...</td>\n",
       "      <td>[Mr Lim Biow Chuan asked the Deputy Prime Mini...</td>\n",
       "      <td>13</td>\n",
       "      <td>2</td>\n",
       "      <td>ORAL ANSWERS</td>\n",
       "      <td>2019-05-08</td>\n",
       "      <td>105</td>\n",
       "      <td>https://sprs.parl.gov.sg/search/sprs3topic?rep...</td>\n",
       "      <td>LIVING IN PRIVATE PROPERTIES BUT WITH NO DECLA...</td>\n",
       "      <td>94</td>\n",
       "    </tr>\n",
       "  </tbody>\n",
       "</table>\n",
       "</div>"
      ],
      "text/plain": [
       "                        _id  \\\n",
       "0  5d25dd11c63e4c829673ceac   \n",
       "1  5d25dd11c63e4c829673cead   \n",
       "2  5d25dd11c63e4c829673ceae   \n",
       "3  5d25dd11c63e4c829673ceaf   \n",
       "4  5d25dd11c63e4c829673ceb0   \n",
       "\n",
       "                                        article_text  \\\n",
       "0  <p>[(proc text) Debate resumed. (proc text)]</...   \n",
       "1  <p class=\"ql-align-justify\">4 <strong>Mr Vikra...   \n",
       "2  <p class=\"ql-align-justify\">8 <strong>Assoc Pr...   \n",
       "3  <p>5 <strong>Ms Irene Quay Siew Ching</strong>...   \n",
       "4  <p class=\"ql-align-justify\">2 <strong>Mr Lim B...   \n",
       "\n",
       "                                        cleaned_join  \\\n",
       "0  [(proc text) Debate resumed. (proc text)]<br/>...   \n",
       "1  Mr Vikram Nair asked the Minister for Foreign ...   \n",
       "2  Assoc Prof Walter Theseira asked the Minister ...   \n",
       "3  Ms Irene Quay Siew Ching asked the Minister fo...   \n",
       "4  Mr Lim Biow Chuan asked the Deputy Prime Minis...   \n",
       "\n",
       "                                          html_clean  parliament_num  \\\n",
       "0  [[(proc text) Debate resumed. (proc text)], Mr...              13   \n",
       "1  [Mr Vikram Nair asked the Minister for Foreign...              13   \n",
       "2  [Assoc Prof Walter Theseira asked the Minister...              13   \n",
       "3  [Ms Irene Quay Siew Ching asked the Minister f...              13   \n",
       "4  [Mr Lim Biow Chuan asked the Deputy Prime Mini...              13   \n",
       "\n",
       "   session_num          session_type sitting_date  sitting_num  \\\n",
       "0            2  SECOND READING BILLS   2019-05-08          105   \n",
       "1            2          ORAL ANSWERS   2019-05-08          105   \n",
       "2            2          ORAL ANSWERS   2019-05-08          105   \n",
       "3            2          ORAL ANSWERS   2019-05-08          105   \n",
       "4            2          ORAL ANSWERS   2019-05-08          105   \n",
       "\n",
       "                                             src_url  \\\n",
       "0  https://sprs.parl.gov.sg/search/sprs3topic?rep...   \n",
       "1  https://sprs.parl.gov.sg/search/sprs3topic?rep...   \n",
       "2  https://sprs.parl.gov.sg/search/sprs3topic?rep...   \n",
       "3  https://sprs.parl.gov.sg/search/sprs3topic?rep...   \n",
       "4  https://sprs.parl.gov.sg/search/sprs3topic?rep...   \n",
       "\n",
       "                                               title  volume_num  \n",
       "0  PROTECTION FROM ONLINE FALSEHOODS AND MANIPULA...          94  \n",
       "1  STATE OF BILATERAL RELATIONS WITH MALAYSIA FOL...          94  \n",
       "2  COMPANIES WITH MEASURES TO DEAL WITH WORKPLACE...          94  \n",
       "3  REVIEW OF DRUG TESTING STANDARDS IN SINGAPORE ...          94  \n",
       "4  LIVING IN PRIVATE PROPERTIES BUT WITH NO DECLA...          94  "
      ]
     },
     "execution_count": 50,
     "metadata": {},
     "output_type": "execute_result"
    }
   ],
   "source": [
    "mongo_df.head()"
   ]
  },
  {
   "cell_type": "markdown",
   "metadata": {},
   "source": [
    "## SpaCy NER Implementation"
   ]
  },
  {
   "cell_type": "code",
   "execution_count": 12,
   "metadata": {},
   "outputs": [
    {
     "name": "stdout",
     "output_type": "stream",
     "text": [
      "Original Sentence: \n",
      "Ms Irene Quay Siew Ching asked the Minister for Education with regard to the post-Secondary admission system to be implemented in 2028 (a) how does the new subject banding determine subsequent admission to post-Secondary institutions of choice; and (b) how can it be ensured that a student chooses subject bands based on his ability and talent and not influenced primarily by entry criteria of his favoured post-Secondary institutions.<br/>The Second Minister for Education (Ms Indranee Rajah) (for the Minister for Education): Mr Speaker, as announced earlier during the COS debate, MOE will study how the post-Secondary posting system should be adjusted to complement the roll-out of Full SBB.We have some time to work out the details, and will announce them in good time. But the general thrust is to build upon ongoing efforts to recognise the strengths and talents of students.For example, we have the Polytechnic Foundation Programme (PFP) today, where students who have done well in the Normal (Academic) course can apply straight to Polytechnic. The core feature of PFP is to inject flexibility into the posting system, recognising the fact that students blossom at different times and have different strengths. In future, under \"one Secondary education, many subject bands\", such considerations should not be just for special schemes like PFP, but an integral feature of the posting system.In a similar vein, we will also study how we can further evolve the Early Admissions Exercise (EAE) for Polytechnics and ITE, and Direct School Admissions (DSA) for JCs.To help students make informed post-Secondary choices, students go through education and career guidance (ECG) in secondary school to help them better understand their strengths and interests. Teachers and ECG counsellors guide students to explore different education pathways, different industries and job roles.Full SBB and expanding aptitude-based admissions are part of the multiple pathways that we are creating to better cater to students with different interests and learning needs. We will keep evolving our education system to ensure that students are able to choose their subjects bands and PSEIs based on what best fits their aptitudes and interests.\n",
      "\n",
      "Identified Entities:\n",
      "Type: PERSON, Value: Ms Irene Quay Siew Ching\n",
      "Type: DATE, Value: 2028\n",
      "Type: ORDINAL, Value: Second\n",
      "Type: ORG, Value: COS\n",
      "Type: ORG, Value: MOE\n",
      "Type: PRODUCT, Value: Full SBB.We\n",
      "Type: ORG, Value: the Polytechnic Foundation Programme\n",
      "Type: ORG, Value: PFP\n",
      "Type: DATE, Value: today\n",
      "Type: ORG, Value: Polytechnic\n",
      "Type: ORG, Value: PFP\n",
      "Type: CARDINAL, Value: one\n",
      "Type: ORG, Value: PFP\n",
      "Type: WORK_OF_ART, Value: the Early Admissions Exercise\n",
      "Type: ORG, Value: EAE\n",
      "Type: ORG, Value: Polytechnics\n",
      "Type: ORG, Value: ITE\n",
      "Type: ORG, Value: Direct School Admissions (DSA\n",
      "Type: ORDINAL, Value: secondary\n",
      "Type: ORG, Value: ECG\n",
      "Type: ORG, Value: SBB\n"
     ]
    },
    {
     "data": {
      "text/html": [
       "<div class=\"entities\" style=\"line-height: 2.5; direction: ltr\">\n",
       "<mark class=\"entity\" style=\"background: #aa9cfc; padding: 0.45em 0.6em; margin: 0 0.25em; line-height: 1; border-radius: 0.35em; box-decoration-break: clone; -webkit-box-decoration-break: clone\">\n",
       "    Ms Irene Quay Siew Ching\n",
       "    <span style=\"font-size: 0.8em; font-weight: bold; line-height: 1; border-radius: 0.35em; text-transform: uppercase; vertical-align: middle; margin-left: 0.5rem\">PERSON</span>\n",
       "</mark>\n",
       " asked the Minister for Education with regard to the post-Secondary admission system to be implemented in \n",
       "<mark class=\"entity\" style=\"background: #bfe1d9; padding: 0.45em 0.6em; margin: 0 0.25em; line-height: 1; border-radius: 0.35em; box-decoration-break: clone; -webkit-box-decoration-break: clone\">\n",
       "    2028\n",
       "    <span style=\"font-size: 0.8em; font-weight: bold; line-height: 1; border-radius: 0.35em; text-transform: uppercase; vertical-align: middle; margin-left: 0.5rem\">DATE</span>\n",
       "</mark>\n",
       " (a) how does the new subject banding determine subsequent admission to post-Secondary institutions of choice; and (b) how can it be ensured that a student chooses subject bands based on his ability and talent and not influenced primarily by entry criteria of his favoured post-Secondary institutions.&lt;br/&gt;The \n",
       "<mark class=\"entity\" style=\"background: #e4e7d2; padding: 0.45em 0.6em; margin: 0 0.25em; line-height: 1; border-radius: 0.35em; box-decoration-break: clone; -webkit-box-decoration-break: clone\">\n",
       "    Second\n",
       "    <span style=\"font-size: 0.8em; font-weight: bold; line-height: 1; border-radius: 0.35em; text-transform: uppercase; vertical-align: middle; margin-left: 0.5rem\">ORDINAL</span>\n",
       "</mark>\n",
       " Minister for Education (Ms Indranee Rajah) (for the Minister for Education): Mr Speaker, as announced earlier during the \n",
       "<mark class=\"entity\" style=\"background: #7aecec; padding: 0.45em 0.6em; margin: 0 0.25em; line-height: 1; border-radius: 0.35em; box-decoration-break: clone; -webkit-box-decoration-break: clone\">\n",
       "    COS\n",
       "    <span style=\"font-size: 0.8em; font-weight: bold; line-height: 1; border-radius: 0.35em; text-transform: uppercase; vertical-align: middle; margin-left: 0.5rem\">ORG</span>\n",
       "</mark>\n",
       " debate, \n",
       "<mark class=\"entity\" style=\"background: #7aecec; padding: 0.45em 0.6em; margin: 0 0.25em; line-height: 1; border-radius: 0.35em; box-decoration-break: clone; -webkit-box-decoration-break: clone\">\n",
       "    MOE\n",
       "    <span style=\"font-size: 0.8em; font-weight: bold; line-height: 1; border-radius: 0.35em; text-transform: uppercase; vertical-align: middle; margin-left: 0.5rem\">ORG</span>\n",
       "</mark>\n",
       " will study how the post-Secondary posting system should be adjusted to complement the roll-out of \n",
       "<mark class=\"entity\" style=\"background: #bfeeb7; padding: 0.45em 0.6em; margin: 0 0.25em; line-height: 1; border-radius: 0.35em; box-decoration-break: clone; -webkit-box-decoration-break: clone\">\n",
       "    Full SBB.We\n",
       "    <span style=\"font-size: 0.8em; font-weight: bold; line-height: 1; border-radius: 0.35em; text-transform: uppercase; vertical-align: middle; margin-left: 0.5rem\">PRODUCT</span>\n",
       "</mark>\n",
       " have some time to work out the details, and will announce them in good time. But the general thrust is to build upon ongoing efforts to recognise the strengths and talents of students.For example, we have \n",
       "<mark class=\"entity\" style=\"background: #7aecec; padding: 0.45em 0.6em; margin: 0 0.25em; line-height: 1; border-radius: 0.35em; box-decoration-break: clone; -webkit-box-decoration-break: clone\">\n",
       "    the Polytechnic Foundation Programme\n",
       "    <span style=\"font-size: 0.8em; font-weight: bold; line-height: 1; border-radius: 0.35em; text-transform: uppercase; vertical-align: middle; margin-left: 0.5rem\">ORG</span>\n",
       "</mark>\n",
       " (\n",
       "<mark class=\"entity\" style=\"background: #7aecec; padding: 0.45em 0.6em; margin: 0 0.25em; line-height: 1; border-radius: 0.35em; box-decoration-break: clone; -webkit-box-decoration-break: clone\">\n",
       "    PFP\n",
       "    <span style=\"font-size: 0.8em; font-weight: bold; line-height: 1; border-radius: 0.35em; text-transform: uppercase; vertical-align: middle; margin-left: 0.5rem\">ORG</span>\n",
       "</mark>\n",
       ") \n",
       "<mark class=\"entity\" style=\"background: #bfe1d9; padding: 0.45em 0.6em; margin: 0 0.25em; line-height: 1; border-radius: 0.35em; box-decoration-break: clone; -webkit-box-decoration-break: clone\">\n",
       "    today\n",
       "    <span style=\"font-size: 0.8em; font-weight: bold; line-height: 1; border-radius: 0.35em; text-transform: uppercase; vertical-align: middle; margin-left: 0.5rem\">DATE</span>\n",
       "</mark>\n",
       ", where students who have done well in the Normal (Academic) course can apply straight to \n",
       "<mark class=\"entity\" style=\"background: #7aecec; padding: 0.45em 0.6em; margin: 0 0.25em; line-height: 1; border-radius: 0.35em; box-decoration-break: clone; -webkit-box-decoration-break: clone\">\n",
       "    Polytechnic\n",
       "    <span style=\"font-size: 0.8em; font-weight: bold; line-height: 1; border-radius: 0.35em; text-transform: uppercase; vertical-align: middle; margin-left: 0.5rem\">ORG</span>\n",
       "</mark>\n",
       ". The core feature of \n",
       "<mark class=\"entity\" style=\"background: #7aecec; padding: 0.45em 0.6em; margin: 0 0.25em; line-height: 1; border-radius: 0.35em; box-decoration-break: clone; -webkit-box-decoration-break: clone\">\n",
       "    PFP\n",
       "    <span style=\"font-size: 0.8em; font-weight: bold; line-height: 1; border-radius: 0.35em; text-transform: uppercase; vertical-align: middle; margin-left: 0.5rem\">ORG</span>\n",
       "</mark>\n",
       " is to inject flexibility into the posting system, recognising the fact that students blossom at different times and have different strengths. In future, under &quot;\n",
       "<mark class=\"entity\" style=\"background: #e4e7d2; padding: 0.45em 0.6em; margin: 0 0.25em; line-height: 1; border-radius: 0.35em; box-decoration-break: clone; -webkit-box-decoration-break: clone\">\n",
       "    one\n",
       "    <span style=\"font-size: 0.8em; font-weight: bold; line-height: 1; border-radius: 0.35em; text-transform: uppercase; vertical-align: middle; margin-left: 0.5rem\">CARDINAL</span>\n",
       "</mark>\n",
       " Secondary education, many subject bands&quot;, such considerations should not be just for special schemes like \n",
       "<mark class=\"entity\" style=\"background: #7aecec; padding: 0.45em 0.6em; margin: 0 0.25em; line-height: 1; border-radius: 0.35em; box-decoration-break: clone; -webkit-box-decoration-break: clone\">\n",
       "    PFP\n",
       "    <span style=\"font-size: 0.8em; font-weight: bold; line-height: 1; border-radius: 0.35em; text-transform: uppercase; vertical-align: middle; margin-left: 0.5rem\">ORG</span>\n",
       "</mark>\n",
       ", but an integral feature of the posting system.In a similar vein, we will also study how we can further evolve \n",
       "<mark class=\"entity\" style=\"background: #f0d0ff; padding: 0.45em 0.6em; margin: 0 0.25em; line-height: 1; border-radius: 0.35em; box-decoration-break: clone; -webkit-box-decoration-break: clone\">\n",
       "    the Early Admissions Exercise\n",
       "    <span style=\"font-size: 0.8em; font-weight: bold; line-height: 1; border-radius: 0.35em; text-transform: uppercase; vertical-align: middle; margin-left: 0.5rem\">WORK_OF_ART</span>\n",
       "</mark>\n",
       " (\n",
       "<mark class=\"entity\" style=\"background: #7aecec; padding: 0.45em 0.6em; margin: 0 0.25em; line-height: 1; border-radius: 0.35em; box-decoration-break: clone; -webkit-box-decoration-break: clone\">\n",
       "    EAE\n",
       "    <span style=\"font-size: 0.8em; font-weight: bold; line-height: 1; border-radius: 0.35em; text-transform: uppercase; vertical-align: middle; margin-left: 0.5rem\">ORG</span>\n",
       "</mark>\n",
       ") for \n",
       "<mark class=\"entity\" style=\"background: #7aecec; padding: 0.45em 0.6em; margin: 0 0.25em; line-height: 1; border-radius: 0.35em; box-decoration-break: clone; -webkit-box-decoration-break: clone\">\n",
       "    Polytechnics\n",
       "    <span style=\"font-size: 0.8em; font-weight: bold; line-height: 1; border-radius: 0.35em; text-transform: uppercase; vertical-align: middle; margin-left: 0.5rem\">ORG</span>\n",
       "</mark>\n",
       " and \n",
       "<mark class=\"entity\" style=\"background: #7aecec; padding: 0.45em 0.6em; margin: 0 0.25em; line-height: 1; border-radius: 0.35em; box-decoration-break: clone; -webkit-box-decoration-break: clone\">\n",
       "    ITE\n",
       "    <span style=\"font-size: 0.8em; font-weight: bold; line-height: 1; border-radius: 0.35em; text-transform: uppercase; vertical-align: middle; margin-left: 0.5rem\">ORG</span>\n",
       "</mark>\n",
       ", and \n",
       "<mark class=\"entity\" style=\"background: #7aecec; padding: 0.45em 0.6em; margin: 0 0.25em; line-height: 1; border-radius: 0.35em; box-decoration-break: clone; -webkit-box-decoration-break: clone\">\n",
       "    Direct School Admissions (DSA\n",
       "    <span style=\"font-size: 0.8em; font-weight: bold; line-height: 1; border-radius: 0.35em; text-transform: uppercase; vertical-align: middle; margin-left: 0.5rem\">ORG</span>\n",
       "</mark>\n",
       ") for JCs.To help students make informed post-Secondary choices, students go through education and career guidance (ECG) in \n",
       "<mark class=\"entity\" style=\"background: #e4e7d2; padding: 0.45em 0.6em; margin: 0 0.25em; line-height: 1; border-radius: 0.35em; box-decoration-break: clone; -webkit-box-decoration-break: clone\">\n",
       "    secondary\n",
       "    <span style=\"font-size: 0.8em; font-weight: bold; line-height: 1; border-radius: 0.35em; text-transform: uppercase; vertical-align: middle; margin-left: 0.5rem\">ORDINAL</span>\n",
       "</mark>\n",
       " school to help them better understand their strengths and interests. Teachers and \n",
       "<mark class=\"entity\" style=\"background: #7aecec; padding: 0.45em 0.6em; margin: 0 0.25em; line-height: 1; border-radius: 0.35em; box-decoration-break: clone; -webkit-box-decoration-break: clone\">\n",
       "    ECG\n",
       "    <span style=\"font-size: 0.8em; font-weight: bold; line-height: 1; border-radius: 0.35em; text-transform: uppercase; vertical-align: middle; margin-left: 0.5rem\">ORG</span>\n",
       "</mark>\n",
       " counsellors guide students to explore different education pathways, different industries and job roles.Full \n",
       "<mark class=\"entity\" style=\"background: #7aecec; padding: 0.45em 0.6em; margin: 0 0.25em; line-height: 1; border-radius: 0.35em; box-decoration-break: clone; -webkit-box-decoration-break: clone\">\n",
       "    SBB\n",
       "    <span style=\"font-size: 0.8em; font-weight: bold; line-height: 1; border-radius: 0.35em; text-transform: uppercase; vertical-align: middle; margin-left: 0.5rem\">ORG</span>\n",
       "</mark>\n",
       " and expanding aptitude-based admissions are part of the multiple pathways that we are creating to better cater to students with different interests and learning needs. We will keep evolving our education system to ensure that students are able to choose their subjects bands and PSEIs based on what best fits their aptitudes and interests.</div>"
      ],
      "text/plain": [
       "<IPython.core.display.HTML object>"
      ]
     },
     "metadata": {},
     "output_type": "display_data"
    }
   ],
   "source": [
    "spacy_nlp = en_core_web_lg.load()\n",
    "document = spacy_nlp(mongo_df['cleaned_join'][8])\n",
    "\n",
    "print('Original Sentence: \\n%s' % (document))\n",
    "print('\\nIdentified Entities:')\n",
    "for element in document.ents:\n",
    "    print('Type: %s, Value: %s' % (element.label_, element)) \n",
    "    \n",
    "spacy.displacy.render(document, style=\"ent\")"
   ]
  },
  {
   "cell_type": "code",
   "execution_count": 13,
   "metadata": {},
   "outputs": [
    {
     "name": "stdout",
     "output_type": "stream",
     "text": [
      "Original Sentence: \n",
      "Ms Irene Quay Siew Ching asked the Minister for Education with regard to the post-Secondary admission system to be implemented in 2028 (a) how does the new subject banding determine subsequent admission to post-Secondary institutions of choice; and (b) how can it be ensured that a student chooses subject bands based on his ability and talent and not influenced primarily by entry criteria of his favoured post-Secondary institutions.<br/>The Second Minister for Education (Ms Indranee Rajah) (for the Minister for Education): Mr Speaker, as announced earlier during the COS debate, MOE will study how the post-Secondary posting system should be adjusted to complement the roll-out of Full SBB.We have some time to work out the details, and will announce them in good time. But the general thrust is to build upon ongoing efforts to recognise the strengths and talents of students.For example, we have the Polytechnic Foundation Programme (PFP) today, where students who have done well in the Normal (Academic) course can apply straight to Polytechnic. The core feature of PFP is to inject flexibility into the posting system, recognising the fact that students blossom at different times and have different strengths. In future, under \"one Secondary education, many subject bands\", such considerations should not be just for special schemes like PFP, but an integral feature of the posting system.In a similar vein, we will also study how we can further evolve the Early Admissions Exercise (EAE) for Polytechnics and ITE, and Direct School Admissions (DSA) for JCs.To help students make informed post-Secondary choices, students go through education and career guidance (ECG) in secondary school to help them better understand their strengths and interests. Teachers and ECG counsellors guide students to explore different education pathways, different industries and job roles.Full SBB and expanding aptitude-based admissions are part of the multiple pathways that we are creating to better cater to students with different interests and learning needs. We will keep evolving our education system to ensure that students are able to choose their subjects bands and PSEIs based on what best fits their aptitudes and interests.\n",
      "\n",
      "Identified Entities:\n",
      "Type: PERSON, Value: Siew Ching\n",
      "Type: DATE, Value: 2028\n",
      "Type: ORDINAL, Value: Second\n",
      "Type: ORG, Value: COS\n",
      "Type: ORG, Value: MOE\n",
      "Type: ORG, Value: the Polytechnic Foundation Programme\n",
      "Type: ORG, Value: PFP\n",
      "Type: DATE, Value: today\n",
      "Type: ORG, Value: the Normal (Academic\n",
      "Type: ORG, Value: Polytechnic\n",
      "Type: ORG, Value: PFP\n",
      "Type: CARDINAL, Value: one\n",
      "Type: ORG, Value: Secondary\n",
      "Type: ORG, Value: PFP\n",
      "Type: LAW, Value: the Early Admissions Exercise\n",
      "Type: ORG, Value: EAE\n",
      "Type: ORG, Value: Polytechnics\n",
      "Type: ORG, Value: ITE\n",
      "Type: ORG, Value: Direct School Admissions\n",
      "Type: ORG, Value: DSA\n",
      "Type: ORG, Value: -Secondary\n",
      "Type: ORG, Value: ECG\n",
      "Type: ORG, Value: ECG\n",
      "Type: PERSON, Value: SBB\n"
     ]
    },
    {
     "data": {
      "text/html": [
       "<div class=\"entities\" style=\"line-height: 2.5; direction: ltr\">Ms Irene Quay \n",
       "<mark class=\"entity\" style=\"background: #aa9cfc; padding: 0.45em 0.6em; margin: 0 0.25em; line-height: 1; border-radius: 0.35em; box-decoration-break: clone; -webkit-box-decoration-break: clone\">\n",
       "    Siew Ching\n",
       "    <span style=\"font-size: 0.8em; font-weight: bold; line-height: 1; border-radius: 0.35em; text-transform: uppercase; vertical-align: middle; margin-left: 0.5rem\">PERSON</span>\n",
       "</mark>\n",
       " asked the Minister for Education with regard to the post-Secondary admission system to be implemented in \n",
       "<mark class=\"entity\" style=\"background: #bfe1d9; padding: 0.45em 0.6em; margin: 0 0.25em; line-height: 1; border-radius: 0.35em; box-decoration-break: clone; -webkit-box-decoration-break: clone\">\n",
       "    2028\n",
       "    <span style=\"font-size: 0.8em; font-weight: bold; line-height: 1; border-radius: 0.35em; text-transform: uppercase; vertical-align: middle; margin-left: 0.5rem\">DATE</span>\n",
       "</mark>\n",
       " (a) how does the new subject banding determine subsequent admission to post-Secondary institutions of choice; and (b) how can it be ensured that a student chooses subject bands based on his ability and talent and not influenced primarily by entry criteria of his favoured post-Secondary institutions.&lt;br/&gt;The \n",
       "<mark class=\"entity\" style=\"background: #e4e7d2; padding: 0.45em 0.6em; margin: 0 0.25em; line-height: 1; border-radius: 0.35em; box-decoration-break: clone; -webkit-box-decoration-break: clone\">\n",
       "    Second\n",
       "    <span style=\"font-size: 0.8em; font-weight: bold; line-height: 1; border-radius: 0.35em; text-transform: uppercase; vertical-align: middle; margin-left: 0.5rem\">ORDINAL</span>\n",
       "</mark>\n",
       " Minister for Education (Ms Indranee Rajah) (for the Minister for Education): Mr Speaker, as announced earlier during the \n",
       "<mark class=\"entity\" style=\"background: #7aecec; padding: 0.45em 0.6em; margin: 0 0.25em; line-height: 1; border-radius: 0.35em; box-decoration-break: clone; -webkit-box-decoration-break: clone\">\n",
       "    COS\n",
       "    <span style=\"font-size: 0.8em; font-weight: bold; line-height: 1; border-radius: 0.35em; text-transform: uppercase; vertical-align: middle; margin-left: 0.5rem\">ORG</span>\n",
       "</mark>\n",
       " debate, \n",
       "<mark class=\"entity\" style=\"background: #7aecec; padding: 0.45em 0.6em; margin: 0 0.25em; line-height: 1; border-radius: 0.35em; box-decoration-break: clone; -webkit-box-decoration-break: clone\">\n",
       "    MOE\n",
       "    <span style=\"font-size: 0.8em; font-weight: bold; line-height: 1; border-radius: 0.35em; text-transform: uppercase; vertical-align: middle; margin-left: 0.5rem\">ORG</span>\n",
       "</mark>\n",
       " will study how the post-Secondary posting system should be adjusted to complement the roll-out of Full SBB.We have some time to work out the details, and will announce them in good time. But the general thrust is to build upon ongoing efforts to recognise the strengths and talents of students.For example, we have \n",
       "<mark class=\"entity\" style=\"background: #7aecec; padding: 0.45em 0.6em; margin: 0 0.25em; line-height: 1; border-radius: 0.35em; box-decoration-break: clone; -webkit-box-decoration-break: clone\">\n",
       "    the Polytechnic Foundation Programme\n",
       "    <span style=\"font-size: 0.8em; font-weight: bold; line-height: 1; border-radius: 0.35em; text-transform: uppercase; vertical-align: middle; margin-left: 0.5rem\">ORG</span>\n",
       "</mark>\n",
       " (\n",
       "<mark class=\"entity\" style=\"background: #7aecec; padding: 0.45em 0.6em; margin: 0 0.25em; line-height: 1; border-radius: 0.35em; box-decoration-break: clone; -webkit-box-decoration-break: clone\">\n",
       "    PFP\n",
       "    <span style=\"font-size: 0.8em; font-weight: bold; line-height: 1; border-radius: 0.35em; text-transform: uppercase; vertical-align: middle; margin-left: 0.5rem\">ORG</span>\n",
       "</mark>\n",
       ") \n",
       "<mark class=\"entity\" style=\"background: #bfe1d9; padding: 0.45em 0.6em; margin: 0 0.25em; line-height: 1; border-radius: 0.35em; box-decoration-break: clone; -webkit-box-decoration-break: clone\">\n",
       "    today\n",
       "    <span style=\"font-size: 0.8em; font-weight: bold; line-height: 1; border-radius: 0.35em; text-transform: uppercase; vertical-align: middle; margin-left: 0.5rem\">DATE</span>\n",
       "</mark>\n",
       ", where students who have done well in \n",
       "<mark class=\"entity\" style=\"background: #7aecec; padding: 0.45em 0.6em; margin: 0 0.25em; line-height: 1; border-radius: 0.35em; box-decoration-break: clone; -webkit-box-decoration-break: clone\">\n",
       "    the Normal (Academic\n",
       "    <span style=\"font-size: 0.8em; font-weight: bold; line-height: 1; border-radius: 0.35em; text-transform: uppercase; vertical-align: middle; margin-left: 0.5rem\">ORG</span>\n",
       "</mark>\n",
       ") course can apply straight to \n",
       "<mark class=\"entity\" style=\"background: #7aecec; padding: 0.45em 0.6em; margin: 0 0.25em; line-height: 1; border-radius: 0.35em; box-decoration-break: clone; -webkit-box-decoration-break: clone\">\n",
       "    Polytechnic\n",
       "    <span style=\"font-size: 0.8em; font-weight: bold; line-height: 1; border-radius: 0.35em; text-transform: uppercase; vertical-align: middle; margin-left: 0.5rem\">ORG</span>\n",
       "</mark>\n",
       ". The core feature of \n",
       "<mark class=\"entity\" style=\"background: #7aecec; padding: 0.45em 0.6em; margin: 0 0.25em; line-height: 1; border-radius: 0.35em; box-decoration-break: clone; -webkit-box-decoration-break: clone\">\n",
       "    PFP\n",
       "    <span style=\"font-size: 0.8em; font-weight: bold; line-height: 1; border-radius: 0.35em; text-transform: uppercase; vertical-align: middle; margin-left: 0.5rem\">ORG</span>\n",
       "</mark>\n",
       " is to inject flexibility into the posting system, recognising the fact that students blossom at different times and have different strengths. In future, under &quot;\n",
       "<mark class=\"entity\" style=\"background: #e4e7d2; padding: 0.45em 0.6em; margin: 0 0.25em; line-height: 1; border-radius: 0.35em; box-decoration-break: clone; -webkit-box-decoration-break: clone\">\n",
       "    one\n",
       "    <span style=\"font-size: 0.8em; font-weight: bold; line-height: 1; border-radius: 0.35em; text-transform: uppercase; vertical-align: middle; margin-left: 0.5rem\">CARDINAL</span>\n",
       "</mark>\n",
       " \n",
       "<mark class=\"entity\" style=\"background: #7aecec; padding: 0.45em 0.6em; margin: 0 0.25em; line-height: 1; border-radius: 0.35em; box-decoration-break: clone; -webkit-box-decoration-break: clone\">\n",
       "    Secondary\n",
       "    <span style=\"font-size: 0.8em; font-weight: bold; line-height: 1; border-radius: 0.35em; text-transform: uppercase; vertical-align: middle; margin-left: 0.5rem\">ORG</span>\n",
       "</mark>\n",
       " education, many subject bands&quot;, such considerations should not be just for special schemes like \n",
       "<mark class=\"entity\" style=\"background: #7aecec; padding: 0.45em 0.6em; margin: 0 0.25em; line-height: 1; border-radius: 0.35em; box-decoration-break: clone; -webkit-box-decoration-break: clone\">\n",
       "    PFP\n",
       "    <span style=\"font-size: 0.8em; font-weight: bold; line-height: 1; border-radius: 0.35em; text-transform: uppercase; vertical-align: middle; margin-left: 0.5rem\">ORG</span>\n",
       "</mark>\n",
       ", but an integral feature of the posting system.In a similar vein, we will also study how we can further evolve \n",
       "<mark class=\"entity\" style=\"background: #ff8197; padding: 0.45em 0.6em; margin: 0 0.25em; line-height: 1; border-radius: 0.35em; box-decoration-break: clone; -webkit-box-decoration-break: clone\">\n",
       "    the Early Admissions Exercise\n",
       "    <span style=\"font-size: 0.8em; font-weight: bold; line-height: 1; border-radius: 0.35em; text-transform: uppercase; vertical-align: middle; margin-left: 0.5rem\">LAW</span>\n",
       "</mark>\n",
       " (\n",
       "<mark class=\"entity\" style=\"background: #7aecec; padding: 0.45em 0.6em; margin: 0 0.25em; line-height: 1; border-radius: 0.35em; box-decoration-break: clone; -webkit-box-decoration-break: clone\">\n",
       "    EAE\n",
       "    <span style=\"font-size: 0.8em; font-weight: bold; line-height: 1; border-radius: 0.35em; text-transform: uppercase; vertical-align: middle; margin-left: 0.5rem\">ORG</span>\n",
       "</mark>\n",
       ") for \n",
       "<mark class=\"entity\" style=\"background: #7aecec; padding: 0.45em 0.6em; margin: 0 0.25em; line-height: 1; border-radius: 0.35em; box-decoration-break: clone; -webkit-box-decoration-break: clone\">\n",
       "    Polytechnics\n",
       "    <span style=\"font-size: 0.8em; font-weight: bold; line-height: 1; border-radius: 0.35em; text-transform: uppercase; vertical-align: middle; margin-left: 0.5rem\">ORG</span>\n",
       "</mark>\n",
       " and \n",
       "<mark class=\"entity\" style=\"background: #7aecec; padding: 0.45em 0.6em; margin: 0 0.25em; line-height: 1; border-radius: 0.35em; box-decoration-break: clone; -webkit-box-decoration-break: clone\">\n",
       "    ITE\n",
       "    <span style=\"font-size: 0.8em; font-weight: bold; line-height: 1; border-radius: 0.35em; text-transform: uppercase; vertical-align: middle; margin-left: 0.5rem\">ORG</span>\n",
       "</mark>\n",
       ", and \n",
       "<mark class=\"entity\" style=\"background: #7aecec; padding: 0.45em 0.6em; margin: 0 0.25em; line-height: 1; border-radius: 0.35em; box-decoration-break: clone; -webkit-box-decoration-break: clone\">\n",
       "    Direct School Admissions\n",
       "    <span style=\"font-size: 0.8em; font-weight: bold; line-height: 1; border-radius: 0.35em; text-transform: uppercase; vertical-align: middle; margin-left: 0.5rem\">ORG</span>\n",
       "</mark>\n",
       " (\n",
       "<mark class=\"entity\" style=\"background: #7aecec; padding: 0.45em 0.6em; margin: 0 0.25em; line-height: 1; border-radius: 0.35em; box-decoration-break: clone; -webkit-box-decoration-break: clone\">\n",
       "    DSA\n",
       "    <span style=\"font-size: 0.8em; font-weight: bold; line-height: 1; border-radius: 0.35em; text-transform: uppercase; vertical-align: middle; margin-left: 0.5rem\">ORG</span>\n",
       "</mark>\n",
       ") for JCs.To help students make informed post\n",
       "<mark class=\"entity\" style=\"background: #7aecec; padding: 0.45em 0.6em; margin: 0 0.25em; line-height: 1; border-radius: 0.35em; box-decoration-break: clone; -webkit-box-decoration-break: clone\">\n",
       "    -Secondary\n",
       "    <span style=\"font-size: 0.8em; font-weight: bold; line-height: 1; border-radius: 0.35em; text-transform: uppercase; vertical-align: middle; margin-left: 0.5rem\">ORG</span>\n",
       "</mark>\n",
       " choices, students go through education and career guidance (\n",
       "<mark class=\"entity\" style=\"background: #7aecec; padding: 0.45em 0.6em; margin: 0 0.25em; line-height: 1; border-radius: 0.35em; box-decoration-break: clone; -webkit-box-decoration-break: clone\">\n",
       "    ECG\n",
       "    <span style=\"font-size: 0.8em; font-weight: bold; line-height: 1; border-radius: 0.35em; text-transform: uppercase; vertical-align: middle; margin-left: 0.5rem\">ORG</span>\n",
       "</mark>\n",
       ") in secondary school to help them better understand their strengths and interests. Teachers and \n",
       "<mark class=\"entity\" style=\"background: #7aecec; padding: 0.45em 0.6em; margin: 0 0.25em; line-height: 1; border-radius: 0.35em; box-decoration-break: clone; -webkit-box-decoration-break: clone\">\n",
       "    ECG\n",
       "    <span style=\"font-size: 0.8em; font-weight: bold; line-height: 1; border-radius: 0.35em; text-transform: uppercase; vertical-align: middle; margin-left: 0.5rem\">ORG</span>\n",
       "</mark>\n",
       " counsellors guide students to explore different education pathways, different industries and job roles.Full \n",
       "<mark class=\"entity\" style=\"background: #aa9cfc; padding: 0.45em 0.6em; margin: 0 0.25em; line-height: 1; border-radius: 0.35em; box-decoration-break: clone; -webkit-box-decoration-break: clone\">\n",
       "    SBB\n",
       "    <span style=\"font-size: 0.8em; font-weight: bold; line-height: 1; border-radius: 0.35em; text-transform: uppercase; vertical-align: middle; margin-left: 0.5rem\">PERSON</span>\n",
       "</mark>\n",
       " and expanding aptitude-based admissions are part of the multiple pathways that we are creating to better cater to students with different interests and learning needs. We will keep evolving our education system to ensure that students are able to choose their subjects bands and PSEIs based on what best fits their aptitudes and interests.</div>"
      ],
      "text/plain": [
       "<IPython.core.display.HTML object>"
      ]
     },
     "metadata": {},
     "output_type": "display_data"
    }
   ],
   "source": [
    "nlp = spacy.load('en_core_web_sm')\n",
    "document = nlp(mongo_df['cleaned_join'][8])\n",
    "\n",
    "print('Original Sentence: \\n%s' % (document))\n",
    "print('\\nIdentified Entities:')\n",
    "for element in document.ents:\n",
    "    print('Type: %s, Value: %s' % (element.label_, element)) \n",
    "    \n",
    "spacy.displacy.render(document, style=\"ent\")"
   ]
  },
  {
   "cell_type": "markdown",
   "metadata": {},
   "source": [
    "### Stanford NER"
   ]
  },
  {
   "cell_type": "code",
   "execution_count": 14,
   "metadata": {},
   "outputs": [
    {
     "name": "stdout",
     "output_type": "stream",
     "text": [
      "[('Ms', 'O'), ('Irene', 'PERSON'), ('Quay', 'PERSON'), ('Siew', 'PERSON'), ('Ching', 'PERSON'), ('asked', 'O'), ('the', 'O'), ('Minister', 'ORGANIZATION'), ('for', 'ORGANIZATION'), ('Education', 'ORGANIZATION'), ('with', 'O'), ('regard', 'O'), ('to', 'O'), ('the', 'O'), ('post-Secondary', 'O'), ('admission', 'O'), ('system', 'O'), ('to', 'O'), ('be', 'O'), ('implemented', 'O'), ('in', 'O'), ('2028', 'O'), ('(', 'O'), ('a', 'O'), (')', 'O'), ('how', 'O'), ('does', 'O'), ('the', 'O'), ('new', 'O'), ('subject', 'O'), ('banding', 'O'), ('determine', 'O'), ('subsequent', 'O'), ('admission', 'O'), ('to', 'O'), ('post-Secondary', 'O'), ('institutions', 'O'), ('of', 'O'), ('choice', 'O'), (';', 'O'), ('and', 'O'), ('(', 'O'), ('b', 'O'), (')', 'O'), ('how', 'O'), ('can', 'O'), ('it', 'O'), ('be', 'O'), ('ensured', 'O'), ('that', 'O'), ('a', 'O'), ('student', 'O'), ('chooses', 'O'), ('subject', 'O'), ('bands', 'O'), ('based', 'O'), ('on', 'O'), ('his', 'O'), ('ability', 'O'), ('and', 'O'), ('talent', 'O'), ('and', 'O'), ('not', 'O'), ('influenced', 'O'), ('primarily', 'O'), ('by', 'O'), ('entry', 'O'), ('criteria', 'O'), ('of', 'O'), ('his', 'O'), ('favoured', 'O'), ('post-Secondary', 'O'), ('institutions.', 'O'), ('<', 'O'), ('br', 'O'), ('>', 'O'), ('The', 'O'), ('Second', 'O'), ('Minister', 'O'), ('for', 'O'), ('Education', 'O'), ('(', 'O'), ('Ms', 'O'), ('Indranee', 'O'), ('Rajah', 'O'), (')', 'O'), ('(', 'O'), ('for', 'O'), ('the', 'O'), ('Minister', 'O'), ('for', 'O'), ('Education', 'O'), (')', 'O'), (':', 'O'), ('Mr', 'O'), ('Speaker', 'O'), (',', 'O'), ('as', 'O'), ('announced', 'O'), ('earlier', 'O'), ('during', 'O'), ('the', 'O'), ('COS', 'O'), ('debate', 'O'), (',', 'O'), ('MOE', 'ORGANIZATION'), ('will', 'O'), ('study', 'O'), ('how', 'O'), ('the', 'O'), ('post-Secondary', 'O'), ('posting', 'O'), ('system', 'O'), ('should', 'O'), ('be', 'O'), ('adjusted', 'O'), ('to', 'O'), ('complement', 'O'), ('the', 'O'), ('roll-out', 'O'), ('of', 'O'), ('Full', 'O'), ('SBB.We', 'O'), ('have', 'O'), ('some', 'O'), ('time', 'O'), ('to', 'O'), ('work', 'O'), ('out', 'O'), ('the', 'O'), ('details', 'O'), (',', 'O'), ('and', 'O'), ('will', 'O'), ('announce', 'O'), ('them', 'O'), ('in', 'O'), ('good', 'O'), ('time', 'O'), ('.', 'O'), ('But', 'O'), ('the', 'O'), ('general', 'O'), ('thrust', 'O'), ('is', 'O'), ('to', 'O'), ('build', 'O'), ('upon', 'O'), ('ongoing', 'O'), ('efforts', 'O'), ('to', 'O'), ('recognise', 'O'), ('the', 'O'), ('strengths', 'O'), ('and', 'O'), ('talents', 'O'), ('of', 'O'), ('students.For', 'O'), ('example', 'O'), (',', 'O'), ('we', 'O'), ('have', 'O'), ('the', 'O'), ('Polytechnic', 'ORGANIZATION'), ('Foundation', 'ORGANIZATION'), ('Programme', 'ORGANIZATION'), ('(', 'O'), ('PFP', 'O'), (')', 'O'), ('today', 'O'), (',', 'O'), ('where', 'O'), ('students', 'O'), ('who', 'O'), ('have', 'O'), ('done', 'O'), ('well', 'O'), ('in', 'O'), ('the', 'O'), ('Normal', 'O'), ('(', 'O'), ('Academic', 'O'), (')', 'O'), ('course', 'O'), ('can', 'O'), ('apply', 'O'), ('straight', 'O'), ('to', 'O'), ('Polytechnic', 'O'), ('.', 'O'), ('The', 'O'), ('core', 'O'), ('feature', 'O'), ('of', 'O'), ('PFP', 'ORGANIZATION'), ('is', 'O'), ('to', 'O'), ('inject', 'O'), ('flexibility', 'O'), ('into', 'O'), ('the', 'O'), ('posting', 'O'), ('system', 'O'), (',', 'O'), ('recognising', 'O'), ('the', 'O'), ('fact', 'O'), ('that', 'O'), ('students', 'O'), ('blossom', 'O'), ('at', 'O'), ('different', 'O'), ('times', 'O'), ('and', 'O'), ('have', 'O'), ('different', 'O'), ('strengths', 'O'), ('.', 'O'), ('In', 'O'), ('future', 'O'), (',', 'O'), ('under', 'O'), ('``', 'O'), ('one', 'O'), ('Secondary', 'O'), ('education', 'O'), (',', 'O'), ('many', 'O'), ('subject', 'O'), ('bands', 'O'), (\"''\", 'O'), (',', 'O'), ('such', 'O'), ('considerations', 'O'), ('should', 'O'), ('not', 'O'), ('be', 'O'), ('just', 'O'), ('for', 'O'), ('special', 'O'), ('schemes', 'O'), ('like', 'O'), ('PFP', 'ORGANIZATION'), (',', 'O'), ('but', 'O'), ('an', 'O'), ('integral', 'O'), ('feature', 'O'), ('of', 'O'), ('the', 'O'), ('posting', 'O'), ('system.In', 'O'), ('a', 'O'), ('similar', 'O'), ('vein', 'O'), (',', 'O'), ('we', 'O'), ('will', 'O'), ('also', 'O'), ('study', 'O'), ('how', 'O'), ('we', 'O'), ('can', 'O'), ('further', 'O'), ('evolve', 'O'), ('the', 'O'), ('Early', 'O'), ('Admissions', 'O'), ('Exercise', 'O'), ('(', 'O'), ('EAE', 'O'), (')', 'O'), ('for', 'O'), ('Polytechnics', 'O'), ('and', 'O'), ('ITE', 'O'), (',', 'O'), ('and', 'O'), ('Direct', 'ORGANIZATION'), ('School', 'ORGANIZATION'), ('Admissions', 'ORGANIZATION'), ('(', 'O'), ('DSA', 'O'), (')', 'O'), ('for', 'O'), ('JCs.To', 'O'), ('help', 'O'), ('students', 'O'), ('make', 'O'), ('informed', 'O'), ('post-Secondary', 'O'), ('choices', 'O'), (',', 'O'), ('students', 'O'), ('go', 'O'), ('through', 'O'), ('education', 'O'), ('and', 'O'), ('career', 'O'), ('guidance', 'O'), ('(', 'O'), ('ECG', 'O'), (')', 'O'), ('in', 'O'), ('secondary', 'O'), ('school', 'O'), ('to', 'O'), ('help', 'O'), ('them', 'O'), ('better', 'O'), ('understand', 'O'), ('their', 'O'), ('strengths', 'O'), ('and', 'O'), ('interests', 'O'), ('.', 'O'), ('Teachers', 'O'), ('and', 'O'), ('ECG', 'O'), ('counsellors', 'O'), ('guide', 'O'), ('students', 'O'), ('to', 'O'), ('explore', 'O'), ('different', 'O'), ('education', 'O'), ('pathways', 'O'), (',', 'O'), ('different', 'O'), ('industries', 'O'), ('and', 'O'), ('job', 'O'), ('roles.Full', 'O'), ('SBB', 'ORGANIZATION'), ('and', 'O'), ('expanding', 'O'), ('aptitude-based', 'O'), ('admissions', 'O'), ('are', 'O'), ('part', 'O'), ('of', 'O'), ('the', 'O'), ('multiple', 'O'), ('pathways', 'O'), ('that', 'O'), ('we', 'O'), ('are', 'O'), ('creating', 'O'), ('to', 'O'), ('better', 'O'), ('cater', 'O'), ('to', 'O'), ('students', 'O'), ('with', 'O'), ('different', 'O'), ('interests', 'O'), ('and', 'O'), ('learning', 'O'), ('needs', 'O'), ('.', 'O'), ('We', 'O'), ('will', 'O'), ('keep', 'O'), ('evolving', 'O'), ('our', 'O'), ('education', 'O'), ('system', 'O'), ('to', 'O'), ('ensure', 'O'), ('that', 'O'), ('students', 'O'), ('are', 'O'), ('able', 'O'), ('to', 'O'), ('choose', 'O'), ('their', 'O'), ('subjects', 'O'), ('bands', 'O'), ('and', 'O'), ('PSEIs', 'O'), ('based', 'O'), ('on', 'O'), ('what', 'O'), ('best', 'O'), ('fits', 'O'), ('their', 'O'), ('aptitudes', 'O'), ('and', 'O'), ('interests', 'O'), ('.', 'O')]\n"
     ]
    }
   ],
   "source": [
    "from nltk.tag import StanfordNERTagger\n",
    "from nltk.tokenize import word_tokenize\n",
    "\n",
    "\n",
    "jar = '/users/syamil/Downloads/stanford-ner/stanford-ner.jar'\n",
    "model = '/users/syamil/Downloads/stanford-ner/classifiers/english.all.3class.distsim.crf.ser.gz'\n",
    "\n",
    "st = StanfordNERTagger(model,\n",
    "\t\t\t\t\t   jar,\n",
    "\t\t\t\t\t   encoding='utf-8')\n",
    "\n",
    "text = mongo_df['cleaned_join'][8]\n",
    "\n",
    "tokenized_text = word_tokenize(text)\n",
    "classified_text = st.tag(tokenized_text)\n",
    "\n",
    "print(classified_text)"
   ]
  },
  {
   "cell_type": "markdown",
   "metadata": {},
   "source": [
    "We observe that SpaCy's performance is much better than StanfordNER. The next plan is to improve upon the existing SpaCy model to be able to detect keywords better."
   ]
  },
  {
   "cell_type": "markdown",
   "metadata": {},
   "source": [
    "`get_chunks_info` : takes in a bunch of chunks and outputs useful information."
   ]
  },
  {
   "cell_type": "markdown",
   "metadata": {},
   "source": [
    "`ReadTime` : https://help.medium.com/hc/en-us/articles/214991667-Read-time\n",
    "\n",
    "> Read time is based on the average reading speed of an adult (roughly 265 WPM). We take the total word count of a post and translate it into minutes, with an adjustment made for images. For posts in Chinese, Japanese and Korean, it's a function of number of characters (500 characters/min) with an adjustment made for images."
   ]
  },
  {
   "cell_type": "code",
   "execution_count": 7,
   "metadata": {},
   "outputs": [],
   "source": [
    "from text_utils.cleaning import parse_hansard_text"
   ]
  },
  {
   "cell_type": "code",
   "execution_count": 8,
   "metadata": {},
   "outputs": [
    {
     "data": {
      "text/plain": [
       "['Ms Irene Quay Siew Ching asked the Minister for Education with regard to the post-Secondary admission system to be implemented in 2028 (a) how does the new subject banding determine subsequent admission to post-Secondary institutions of choice; and (b) how can it be ensured that a student chooses subject bands based on his ability and talent and not influenced primarily by entry criteria of his favoured post-Secondary institutions.',\n",
       " 'The Second Minister for Education (Ms Indranee Rajah) (for the Minister for Education): Mr Speaker, as announced earlier during the COS debate, MOE will study how the post-Secondary posting system should be adjusted to complement the roll-out of Full SBB.We have some time to work out the details, and will announce them in good time. But the general thrust is to build upon ongoing efforts to recognise the strengths and talents of students.For example, we have the Polytechnic Foundation Programme (PFP) today, where students who have done well in the Normal (Academic) course can apply straight to Polytechnic. The core feature of PFP is to inject flexibility into the posting system, recognising the fact that students blossom at different times and have different strengths. In future, under \"one Secondary education, many subject bands\", such considerations should not be just for special schemes like PFP, but an integral feature of the posting system.In a similar vein, we will also study how we can further evolve the Early Admissions Exercise (EAE) for Polytechnics and ITE, and Direct School Admissions (DSA) for JCs.To help students make informed post-Secondary choices, students go through education and career guidance (ECG) in secondary school to help them better understand their strengths and interests. Teachers and ECG counsellors guide students to explore different education pathways, different industries and job roles.Full SBB and expanding aptitude-based admissions are part of the multiple pathways that we are creating to better cater to students with different interests and learning needs. We will keep evolving our education system to ensure that students are able to choose their subjects bands and PSEIs based on what best fits their aptitudes and interests.']"
      ]
     },
     "execution_count": 8,
     "metadata": {},
     "output_type": "execute_result"
    }
   ],
   "source": [
    "mongo_df['html_clean'][8]"
   ]
  },
  {
   "cell_type": "markdown",
   "metadata": {},
   "source": [
    "## Implement Entity recognition via rules"
   ]
  },
  {
   "cell_type": "code",
   "execution_count": 9,
   "metadata": {},
   "outputs": [
    {
     "data": {
      "text/plain": [
       "\"<p>11 <strong>Mr Lim Biow Chuan</strong> asked&nbsp;the Minister for National Development (a) in the past three years, how many summons have been issued to offenders who feed pigeons; and (b) what other measures can the Ministry introduce to deter the feeding of pigeons.</p><p><strong>\\tThe Senior Parliamentary Secretary to the Minister for National Development (Ms Sun Xueling) (for the Minister for National Development)</strong>:&nbsp;Over the past three years, 682 enforcement notices were issued for pigeon feeding offences.&nbsp;NParks takes measures to deter the feeding of pigeons, including installing cameras and conducting surveillance at identified feeding hotspots.&nbsp;NParks also works with Town Councils to put up notices to ask for information about feeding activities, so as to carry out enforcement operations in a more targeted manner.</p><p>Public education is also an important strategy.&nbsp;NParks, NEA and the Town Councils work together to educate residents about the environmental health and hygiene issues caused by pigeon feeding.&nbsp;This is done through advisories, posters and outreach events.&nbsp;Agencies are also working with the Municipal Services Office to develop targeted public education messages and materials. The community and grassroots leaders can also help to spread the message.</p><p>To reduce the availability of food sources for pigeons, NEA ensures good food waste management in food centres and coffee shops in HDB estates and enforces against littering. Residents can and should also play their part by helping to maintain the overall cleanliness of their estates.&nbsp;</p><p><strong>\\tMr Lim Biow Chuan (Mountbatten)</strong>: I have had many complaints about pigeons at hawker centres, at window ledges, at everywhere. And the bird droppings, I understand, are considered to be infectious. So, I am asking the Senior Parliamentary Secretary, can NParks do more to step up enforcement. Following what hon Member Mr Louis Ng said, can there be more manpower given to NParks to enforce more, step more patrols, do more advisories, because when the Town Council talks to the residents, many at time, they are ignored? So, there should be greater enforcement to send the signal that feeding of pigeons is not something that is legal. Would Senior Parliamentary Secretary also consider increasing the penalties for pigeon feeding? I think the message has not gotten to many of these pigeon feeders that whatever they are doing is causing health risks to many other people?</p><p><strong>\\tMs Sun Xueling</strong>: I thank the Member for his two points.&nbsp;Firstly, I would encourage perhaps the Member to share with us where the hotspots are because I think that would be very helpful in allowing us to concentrate our manpower or the use of cameras and targeted patrols. Because if we know when the pigeon feeder normally comes out, it is easier for us to catch the pigeon feeder in action. So, I think information such as this from residents, from grassroots leaders and from the community will be very helpful in allowing us to be more effective in the way we conduct our enforcement.</p><p>On the second point about increasing penalties, currently, pigeon feeders can be fined up to $500 per offence. So, I think we can put more of this information out. And I would also like to share with him that there was this high-rise littering/pigeon feeding pilot in Yio Chu Kang that was actually spearheaded by one of my colleagues. On the enforcement front, not only do they deploy cameras to basically enforce and find out who the pigeon feeders are, they also put up captured images of the offenders. So, I think it is helpful in creating community awareness. And they also work with the local Agency for Integrated Care (AIC) to engage vulnerable and/or recalcitrant offenders. Because while we have our fines, and we enforce when we catch – as I mentioned, they can be fined up to $500 per offence – we also find that sometimes, some of these offenders may have some other issues that they are dealing with. And if we are able to work with the community, we can also reach out to the families and friends of these offenders and see how we can deter such behaviour from them.</p><p><strong>\\tMs Foo Mee Har (West Coast)</strong>:<strong> </strong>Similarly, in my constituency, we have a lot of pigeon issues. So, I listened with great interest in the pilot that the Senior Parliamentary Secretary spoke about. All the things that Senior Parliamentary Secretary spoke about, we have attempted. And I would say, over the last eight or nine years, I do not see much results. We have done everything that she has suggested. I think the pilot that she just mentioned, I listened with great interest and I would like to ask the Senior Parliamentary Secretary when can this be rolled out to the other parts of Singapore.</p><p><strong>\\tMs Sun Xueling</strong>: I thank the Member for the point she raised. The pilot consists of three parts. I had mentioned enforcement earlier. It also includes community solutioning which includes putting up educational materials which I am sure the Member has attempted. But also, I guess it is really about house-to-house visits for affected blocks. But I would say that the initial results from this high-rise littering/pigeon feeding pilot in Yio Chu Kang has been quite promising. We would look into it further and see how we can roll it out to different locations. As we understand it, pigeon feeding issues are quite local-based. It depends on the local infrastructure, the demographics of the residents who live in a certain area, certain habits, and the interaction between food centres in the local community.</p><p>So, while we currently seem to have a pilot that has seemed to have worked quite well in Yio Chu Kang, I think we will probably have to distill it further and work closely with the local Members of Parliament and grassroots advisors to see how we can adapt it for use in the local community.</p><p><strong>\\tMr Louis Ng Kok Kwang (Nee Soon)</strong>: I just want to go back to the point of whether MND can increase the manpower for the surveillance team because I think that is the crunch at this point, the bottleneck where we do not have enough officers to do the surveillance to tackle the feeding.</p><p>My second point is: a lot of us have focused on culling and culling is actually not the solution. That is is problem: the more you cull, the more pigeons you have. So, I am really hopeful that this pilot that the Senior Parliamentary Secretary has mentioned, we can roll out nationwide so that we can now effectively tackle this problem.</p><p><strong>\\tMs Sun Xueling</strong>: I thank the Member for his repeated mentions about manpower and also earlier, Member Mr Lim Biow Chuan's point. I will take that back to my Ministry and I will also talk to NParks about it. We will see where possible, how we can work towards achieving the outcome that we want, whether or not it is increasing more manpower or better use of the existing manpower that we have. I think we take the Member's points and we will see how we can work more effectively and efficiently on that.</p><p>On the point that the Member mentioned about culling, currently, population control measures are undertaken at the Town Council level. I believe that the Town Councils' first option is probably not to cull. I think they have worked very actively with NEA and NParks to enforce, like I mentioned, on pigeon feeders. Any strategy towards managing such local issues would include a variety of different initiatives. And I think culling is just but one part of it. I think people normally would much rather not do if they do not have to.</p><p>NParks is also looking at a variety of other initiatives. The Member has talked about the use of contraceptives before. We are looking into that. So, there are various other measures that we are looking into, things that we are trying out. And indeed, I think, where effective, we will try to roll it out to different communities and see how we can develop a holistic solution towards this issue that we face.</p>\""
      ]
     },
     "execution_count": 9,
     "metadata": {},
     "output_type": "execute_result"
    }
   ],
   "source": [
    "mongo_df['article_text'][10]"
   ]
  },
  {
   "cell_type": "code",
   "execution_count": 10,
   "metadata": {},
   "outputs": [
    {
     "data": {
      "text/plain": [
       "'https://sprs.parl.gov.sg/search/sprs3topic?reportid=oral-answer-1994'"
      ]
     },
     "execution_count": 10,
     "metadata": {},
     "output_type": "execute_result"
    }
   ],
   "source": [
    "mongo_df['src_url'][10]"
   ]
  },
  {
   "cell_type": "code",
   "execution_count": 8,
   "metadata": {
    "scrolled": false
   },
   "outputs": [
    {
     "name": "stdout",
     "output_type": "stream",
     "text": [
      "Number of Speech Chunks : 8\n",
      "Word Count : 1303 words\n",
      "Estmated reading time : 4 minutes\n",
      "Number of Individuals :  8\n",
      "Speakers :  {'NA', 'Mr Lim Biow Chuan (Mountbatten)', 'Ms Sun Xueling', 'The Senior Parliamentary Secretary to the Minister for National Development (Ms Sun Xueling) (for the Minister for National Development)', 'Mr Louis Ng Kok Kwang (Nee Soon)'}\n"
     ]
    }
   ],
   "source": [
    "t = metrics.get_chunks_info(mongo_df['article_text'][10])"
   ]
  },
  {
   "cell_type": "code",
   "execution_count": 23,
   "metadata": {},
   "outputs": [],
   "source": [
    "data = t\n",
    "question = []\n",
    "segment = []\n",
    "for key,data in data.items():\n",
    "    chunk = {}\n",
    "    chunk['content'] = ''\n",
    "    if data['entity'] == 'NA':\n",
    "        chunk['type'] = 'question'\n",
    "        chunk['content'] = data['content']\n",
    "        segment.append(chunk)\n",
    "    else:\n",
    "        chunk['type'] = 'response'\n",
    "        chunk['content'] = data['entity'] + ':' + data['content']\n",
    "        segment.append(chunk)\n",
    "        \n",
    "responses = \"\"\n",
    "for val in segment[1:]:\n",
    "    responses += '\\n\\n' + val['content']\n",
    "    \n",
    "compiled_responses = {\n",
    "    'type' : 'compiled_responses',\n",
    "    'content' : responses\n",
    "}\n",
    "\n",
    "segment.append(compiled_responses)"
   ]
  },
  {
   "cell_type": "code",
   "execution_count": 26,
   "metadata": {},
   "outputs": [
    {
     "data": {
      "text/plain": [
       "[{'content': 'Mr Lim Biow Chuan asked the Minister for National Development (a) in the past three years, how many summons have been issued to offenders who feed pigeons; and (b) what other measures can the Ministry introduce to deter the feeding of pigeons.',\n",
       "  'type': 'question'},\n",
       " {'content': 'The Senior Parliamentary Secretary to the Minister for National Development (Ms Sun Xueling) (for the Minister for National Development): Over the past three years, 682 enforcement notices were issued for pigeon feeding offences. NParks takes measures to deter the feeding of pigeons, including installing cameras and conducting surveillance at identified feeding hotspots. NParks also works with Town Councils to put up notices to ask for information about feeding activities, so as to carry out enforcement operations in a more targeted manner.Public education is also an important strategy. NParks, NEA and the Town Councils work together to educate residents about the environmental health and hygiene issues caused by pigeon feeding. This is done through advisories, posters and outreach events. Agencies are also working with the Municipal Services Office to develop targeted public education messages and materials. The community and grassroots leaders can also help to spread the message.To reduce the availability of food sources for pigeons, NEA ensures good food waste management in food centres and coffee shops in HDB estates and enforces against littering. Residents can and should also play their part by helping to maintain the overall cleanliness of their estates.',\n",
       "  'type': 'response'},\n",
       " {'content': 'Mr Lim Biow Chuan (Mountbatten): I have had many complaints about pigeons at hawker centres, at window ledges, at everywhere. And the bird droppings, I understand, are considered to be infectious. So, I am asking the Senior Parliamentary Secretary, can NParks do more to step up enforcement. Following what hon Member Mr Louis Ng said, can there be more manpower given to NParks to enforce more, step more patrols, do more advisories, because when the Town Council talks to the residents, many at time, they are ignored? So, there should be greater enforcement to send the signal that feeding of pigeons is not something that is legal. Would Senior Parliamentary Secretary also consider increasing the penalties for pigeon feeding? I think the message has not gotten to many of these pigeon feeders that whatever they are doing is causing health risks to many other people?',\n",
       "  'type': 'response'}]"
      ]
     },
     "execution_count": 26,
     "metadata": {},
     "output_type": "execute_result"
    }
   ],
   "source": [
    "segment[:3]"
   ]
  },
  {
   "cell_type": "code",
   "execution_count": 28,
   "metadata": {},
   "outputs": [],
   "source": [
    "from text_utils.cleaning import get_entities"
   ]
  },
  {
   "cell_type": "code",
   "execution_count": 51,
   "metadata": {},
   "outputs": [
    {
     "data": {
      "text/plain": [
       "['Mr Lim Biow Chuan asked the Minister for National Development (a) in the past three years, how many summons have been issued to offenders who feed pigeons; and (b) what other measures can the Ministry introduce to deter the feeding of pigeons.',\n",
       " 'The Senior Parliamentary Secretary to the Minister for National Development (Ms Sun Xueling) (for the Minister for National Development): Over the past three years, 682 enforcement notices were issued for pigeon feeding offences. NParks takes measures to deter the feeding of pigeons, including installing cameras and conducting surveillance at identified feeding hotspots. NParks also works with Town Councils to put up notices to ask for information about feeding activities, so as to carry out enforcement operations in a more targeted manner.Public education is also an important strategy. NParks, NEA and the Town Councils work together to educate residents about the environmental health and hygiene issues caused by pigeon feeding. This is done through advisories, posters and outreach events. Agencies are also working with the Municipal Services Office to develop targeted public education messages and materials. The community and grassroots leaders can also help to spread the message.To reduce the availability of food sources for pigeons, NEA ensures good food waste management in food centres and coffee shops in HDB estates and enforces against littering. Residents can and should also play their part by helping to maintain the overall cleanliness of their estates.',\n",
       " 'Mr Lim Biow Chuan (Mountbatten): I have had many complaints about pigeons at hawker centres, at window ledges, at everywhere. And the bird droppings, I understand, are considered to be infectious. So, I am asking the Senior Parliamentary Secretary, can NParks do more to step up enforcement. Following what hon Member Mr Louis Ng said, can there be more manpower given to NParks to enforce more, step more patrols, do more advisories, because when the Town Council talks to the residents, many at time, they are ignored? So, there should be greater enforcement to send the signal that feeding of pigeons is not something that is legal. Would Senior Parliamentary Secretary also consider increasing the penalties for pigeon feeding? I think the message has not gotten to many of these pigeon feeders that whatever they are doing is causing health risks to many other people?',\n",
       " 'Ms Sun Xueling: I thank the Member for his two points. Firstly, I would encourage perhaps the Member to share with us where the hotspots are because I think that would be very helpful in allowing us to concentrate our manpower or the use of cameras and targeted patrols. Because if we know when the pigeon feeder normally comes out, it is easier for us to catch the pigeon feeder in action. So, I think information such as this from residents, from grassroots leaders and from the community will be very helpful in allowing us to be more effective in the way we conduct our enforcement.On the second point about increasing penalties, currently, pigeon feeders can be fined up to $500 per offence. So, I think we can put more of this information out. And I would also like to share with him that there was this high-rise littering/pigeon feeding pilot in Yio Chu Kang that was actually spearheaded by one of my colleagues. On the enforcement front, not only do they deploy cameras to basically enforce and find out who the pigeon feeders are, they also put up captured images of the offenders. So, I think it is helpful in creating community awareness. And they also work with the local Agency for Integrated Care (AIC) to engage vulnerable and/or recalcitrant offenders. Because while we have our fines, and we enforce when we catch – as I mentioned, they can be fined up to $500 per offence – we also find that sometimes, some of these offenders may have some other issues that they are dealing with. And if we are able to work with the community, we can also reach out to the families and friends of these offenders and see how we can deter such behaviour from them.',\n",
       " 'Ms Foo Mee Har (West Coast) Similarly, in my constituency, we have a lot of pigeon issues. So, I listened with great interest in the pilot that the Senior Parliamentary Secretary spoke about. All the things that Senior Parliamentary Secretary spoke about, we have attempted. And I would say, over the last eight or nine years, I do not see much results. We have done everything that she has suggested. I think the pilot that she just mentioned, I listened with great interest and I would like to ask the Senior Parliamentary Secretary when can this be rolled out to the other parts of Singapore.',\n",
       " 'Ms Sun Xueling: I thank the Member for the point she raised. The pilot consists of three parts. I had mentioned enforcement earlier. It also includes community solutioning which includes putting up educational materials which I am sure the Member has attempted. But also, I guess it is really about house-to-house visits for affected blocks. But I would say that the initial results from this high-rise littering/pigeon feeding pilot in Yio Chu Kang has been quite promising. We would look into it further and see how we can roll it out to different locations. As we understand it, pigeon feeding issues are quite local-based. It depends on the local infrastructure, the demographics of the residents who live in a certain area, certain habits, and the interaction between food centres in the local community.So, while we currently seem to have a pilot that has seemed to have worked quite well in Yio Chu Kang, I think we will probably have to distill it further and work closely with the local Members of Parliament and grassroots advisors to see how we can adapt it for use in the local community.',\n",
       " 'Mr Louis Ng Kok Kwang (Nee Soon): I just want to go back to the point of whether MND can increase the manpower for the surveillance team because I think that is the crunch at this point, the bottleneck where we do not have enough officers to do the surveillance to tackle the feeding.My second point is: a lot of us have focused on culling and culling is actually not the solution. That is is problem: the more you cull, the more pigeons you have. So, I am really hopeful that this pilot that the Senior Parliamentary Secretary has mentioned, we can roll out nationwide so that we can now effectively tackle this problem.',\n",
       " \"Ms Sun Xueling: I thank the Member for his repeated mentions about manpower and also earlier, Member Mr Lim Biow Chuan's point. I will take that back to my Ministry and I will also talk to NParks about it. We will see where possible, how we can work towards achieving the outcome that we want, whether or not it is increasing more manpower or better use of the existing manpower that we have. I think we take the Member's points and we will see how we can work more effectively and efficiently on that.On the point that the Member mentioned about culling, currently, population control measures are undertaken at the Town Council level. I believe that the Town Councils' first option is probably not to cull. I think they have worked very actively with NEA and NParks to enforce, like I mentioned, on pigeon feeders. Any strategy towards managing such local issues would include a variety of different initiatives. And I think culling is just but one part of it. I think people normally would much rather not do if they do not have to.NParks is also looking at a variety of other initiatives. The Member has talked about the use of contraceptives before. We are looking into that. So, there are various other measures that we are looking into, things that we are trying out. And indeed, I think, where effective, we will try to roll it out to different communities and see how we can develop a holistic solution towards this issue that we face.\"]"
      ]
     },
     "execution_count": 51,
     "metadata": {},
     "output_type": "execute_result"
    }
   ],
   "source": [
    "mongo_df['html_clean'][10]"
   ]
  }
 ],
 "metadata": {
  "kernelspec": {
   "display_name": "Python 3",
   "language": "python",
   "name": "python3"
  },
  "language_info": {
   "codemirror_mode": {
    "name": "ipython",
    "version": 3
   },
   "file_extension": ".py",
   "mimetype": "text/x-python",
   "name": "python",
   "nbconvert_exporter": "python",
   "pygments_lexer": "ipython3",
   "version": "3.7.3"
  }
 },
 "nbformat": 4,
 "nbformat_minor": 2
}
