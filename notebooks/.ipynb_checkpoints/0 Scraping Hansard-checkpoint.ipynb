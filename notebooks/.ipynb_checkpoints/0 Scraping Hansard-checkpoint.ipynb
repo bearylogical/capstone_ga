{
 "cells": [
  {
   "cell_type": "markdown",
   "metadata": {},
   "source": [
    "# Scrape Singapore Hansard\n",
    "\n",
    "## Import Libraries"
   ]
  },
  {
   "cell_type": "code",
   "execution_count": 1,
   "metadata": {},
   "outputs": [],
   "source": [
    "from bs4 import BeautifulSoup\n",
    "import re\n",
    "import os\n",
    "import datetime\n",
    "import numpy as np\n",
    "from time import sleep, process_time\n",
    "import pandas\n",
    "import random\n",
    "from datetime import date \n",
    "import requests\n",
    "\n",
    "\n",
    "from selenium import webdriver\n",
    "from selenium.webdriver.common.keys import Keys\n",
    "from selenium.webdriver.support.ui import WebDriverWait, Select\n",
    "from selenium.webdriver.support import expected_conditions as EC\n",
    "from selenium.common.exceptions import TimeoutException, NoSuchElementException,ElementNotInteractableException\n",
    "from selenium.webdriver.common.by import By\n",
    "from selenium.webdriver.common.action_chains import ActionChains\n",
    "from json import JSONDecodeError\n",
    "\n",
    "from db.models import Link, Article, mp_record, MpResponse, \\\n",
    "    MemParliament, ApptRecord, CommitteeRecord, \\\n",
    "    ConstituencyRecord, postgres_engine\n",
    "from db.db_utils import get_or_create\n",
    "\n",
    "from requests.adapters import HTTPAdapter\n",
    "from requests.packages.urllib3.util.retry import Retry\n",
    "\n",
    "\n",
    "session = requests.Session()\n",
    "retry = Retry(connect=3, backoff_factor=0.5)\n",
    "adapter = HTTPAdapter(max_retries=retry)\n",
    "session.mount('http://', adapter)\n",
    "session.mount('https://', adapter)\n",
    "\n",
    "from multiprocessing import Pool, TimeoutError"
   ]
  },
  {
   "cell_type": "code",
   "execution_count": 2,
   "metadata": {},
   "outputs": [],
   "source": [
    "title = \"Protection from Online Falsehoods and Manipulation Bill\"\n",
    "url = \"https://sprs.parl.gov.sg/search/sprs3topic?reportid=bill-367\" \n",
    "sitting_date = \"8-5-2019\"\n",
    "\n"
   ]
  },
  {
   "cell_type": "code",
   "execution_count": 3,
   "metadata": {},
   "outputs": [
    {
     "data": {
      "text/plain": [
       "datetime.date(2019, 5, 8)"
      ]
     },
     "execution_count": 3,
     "metadata": {},
     "output_type": "execute_result"
    }
   ],
   "source": [
    "def parse_sittingdate(subtext):\n",
    "    \n",
    "    sitting_date = [int(k) for k in re.search(r\"(?<=\\:)(.*?)(?=\\,)\", subtext).group(0).strip().split('-')]\n",
    "    d = date(sitting_date[2],sitting_date[1],sitting_date[0])\n",
    "    \n",
    "    return d\n",
    "\n",
    "parse_sittingdate(\"Sitting Date: 8-5-2019 , Vol:94\")"
   ]
  },
  {
   "cell_type": "code",
   "execution_count": 4,
   "metadata": {},
   "outputs": [
    {
     "data": {
      "text/plain": [
       "'oral-answer-1987'"
      ]
     },
     "execution_count": 4,
     "metadata": {},
     "output_type": "execute_result"
    }
   ],
   "source": [
    "url = \"https://sprs.parl.gov.sg/search/sprs3topic?reportid=oral-answer-1987\"\n",
    "re.findall(r'(?<=sprs3topic\\?reportid=).*', url)[0]"
   ]
  },
  {
   "cell_type": "code",
   "execution_count": 5,
   "metadata": {},
   "outputs": [
    {
     "data": {
      "text/plain": [
       "('BILLS',\n",
       " 27,\n",
       " '2',\n",
       " '11',\n",
       " '87',\n",
       " '<span style=\"FONT-SIZE: 13pt; FONT-FAMILY: \\'Times New Roman\\'\"><p>\\xa0</p><p></p><p>\\xa0\\xa0\\xa0\\xa0 Order for Second Reading read.<br/>\\n</p>\\n<p>\\xa0</p>\\n<p>2.48 pm</p>\\n<p>\\xa0</p><p>\\xa0\\xa0\\xa0\\xa0\\xa0<b>Mr Lim Hng Kiang:</b> \\xa0Sir, I beg to move, \"That the Bill be now read a Second time.\"\\r\\n\\r\\n</p><p><br/>\\r\\n\\xa0\\xa0\\xa0\\xa0 This Bill enhances existing protection schemes for depositors and insurance policy owners, and brings them together into a single piece of legislation.\\xa0 The Deposit Insurance Act which established the Deposit Insurance\\xa0(DI) Scheme, as well as provisions under the Insurance Act relating to the Policy Owners\\' Protection (PPF) Scheme, will be repealed as a result.</p>\\n<p><br/>\\r\\n\\xa0\\xa0\\xa0\\xa0 The proposed enhancements in this Bill will strengthen the protection of depositors and owners of insurance policies.\\xa0 In developing the enhancements, MAS consulted the industry and the public and, where appropriate, incorporated their feedback in the key features of the Schemes.\\xa0 MAS also took into consideration lessons learned internationally during the recent global financial crisis.</p>\\n<p><br/>\\r\\n\\xa0\\xa0\\xa0\\xa0 Mr Speaker, Sir, I will first provide some background to the existing DI and PPF schemes.</p>\\n<p><br/>\\r\\n\\xa0\\xa0\\xa0\\xa0 The DI Scheme in Singapore was implemented in 2006.\\xa0 It aimed to provide a basic level of protection to small depositors.\\xa0 A DI Fund, built up through regular contributions levied on the full banks and finance companies who are Scheme members, would help ensure that depositors can receive quick compensation on their deposits up to the coverage limit without having to wait for the outcome of the Scheme member\\'s liquidation process.\\xa0 The Scheme was also designed to keep the cost of providing deposit insurance manageable, while preserving incentives for large depositors to continue to exercise market discipline.</p>\\n<p><br/>\\r\\n\\xa0\\xa0\\xa0\\xa0 At present, the DI Scheme insures Singapore dollar deposits of individuals and charities in current, savings and fixed deposit accounts held with a full bank or finance company, up to S$20,000 per insured depositor per Scheme member.\\xa0 This was sufficient to fully cover 86% of insured depositors when the Scheme was first designed, which was within international norms of 80% to 90%.\\xa0</p>\\n<p><br/>\\r\\n\\xa0\\xa0\\xa0\\xa0 A separate scheme – the Policy Owners\\' Protection (PPF) Scheme – exists to protect insurance policy owners.\\xa0 The PPF Scheme is provided for in the Insurance Act to compensate policy owners of life policies and compulsory insurance policies in the event that their insurer fails.\\xa0 The existing PPF Scheme covers 90% of the liabilities for life policies and 100% of the liabilities for compulsory insurance policies.\\xa0 The Scheme is currently post-funded.\\xa0 This means that PPF levies will be collected from PPF member insurers only when there is a payout following the failure of an insurer.</p>\\n<p><br/>\\r\\n\\xa0\\xa0\\xa0\\xa0 The PPF Scheme provides policy owners with certainty as to how much of their policy monies will be protected and also whether the losses they have incurred from insured events will be compensated, should their insurer fail.\\xa0 Besides alleviating financial distress to individual policy owners, the PPF Scheme supports public confidence in the insurance industry and helps limit possible disruption to the economy.\\xa0</p>\\n<p><br/>\\r\\n\\xa0\\xa0\\xa0\\xa0 To ensure that the DI and PPF Schemes continue to provide adequate protection to depositors and policy owners, several enhancements are proposed.\\xa0 Mr Speaker, Sir, I will now go through the key provisions of this Bill.</p>\\n<p>\\xa0</p>\\n<p></p>\\n<p><i>DI Scheme-Coverage</i></p>\\n<p><br/>\\r\\n\\xa0\\xa0\\xa0\\xa0 There are two main changes to the deposit insurance coverage.\\xa0 First, the coverage of the Scheme will be expanded from insuring only individuals and charities to insuring all non-bank depositors.\\xa0 This means that deposits of sole proprietorships, partnerships, companies and unincorporated entities will be insured up to the coverage limit.\\xa0 This will mitigate potential cash flow problems of small business depositors in the event of a bank failure, which is in line with the Scheme\\'s primary objective of protecting small depositors.</p>\\n<p><br/>\\r\\n\\xa0\\xa0\\xa0\\xa0 Second, the maximum level of coverage under the DI Scheme will be raised from S$20,000 to S$50,000 per depositor per DI Scheme member.\\xa0 The separate coverage of monies placed under the CPF Investment Scheme and CPF Minimum Sum Scheme will also be raised from S$20,000 to S$50,000.</p>\\n<p><br/>\\r\\n\\xa0\\xa0\\xa0\\xa0 With the increased S$50,000 coverage limit, the proportion of insured depositors that are fully insured will be raised to 91%.</p>\\n<p><br/>\\n<i>Gross payout</i></p>\\n<p><br/>\\r\\n\\xa0\\xa0\\xa0\\xa0 In addition, under the enhanced Scheme, depositors will be paid the gross amount of their insured deposits up to the DI coverage limit, without first netting off their liabilities to the Scheme member.\\xa0 Gross DI payout contributes to greater confidence and stability in a distressed situation as it is easier for depositors to understand and is operationally faster.\\xa0 It also allows depositors to have quick access to the full amount of their insured deposits up to the coverage limit, mitigating potential cash flow difficulties they may face.\\xa0 If payout is on a net basis, a depositor who has a loan with the same Scheme member may receive partial payout, or no payout if his loan is larger than his deposit, thereby limiting the effectiveness of the Scheme in protecting small depositors.\\xa0 The depositor, however, still remains responsible for any liabilities owed to the Scheme member. The Scheme member\\'s liquidator will be empowered to recover these liabilities from the depositor.</p>\\n<p><br/>\\n<i>PPF Scheme-Coverage</i></p>\\n<p><br/>\\r\\n\\xa0\\xa0\\xa0\\xa0 Sir, let me now explain the enhancements to the PPF Scheme.\\xa0 First, the scope of coverage will be expanded. Currently, the PPF Scheme only covers life policies written by life insurers as well as compulsory motor third party injury and work injury compensation insurance policies. The PPF Scheme will be extended to cover all accident and health (A&amp;H) policies written by life insurers and Singapore policies of specified personal lines written by general insurers.\\xa0 These specified personal lines are personal motor insurance, individual and group short-term A&amp;H insurance, personal property insurance for structure and contents, foreign domestic maid insurance, and personal travel insurance.</p>\\n<p><br/>\\r\\n\\xa0\\xa0\\xa0\\xa0 In addition, the PPF Scheme will be enhanced to cover 100% (up from the current 90%) of the liabilities of life policies, subject to caps.\\xa0 The increase in the level of coverage will help allay the concerns of policy owners, should they become anxious that their insurer may fail and seek to cancel their policies.\\xa0 Where the level of coverage is 90%, some policy owners may believe that they are better off getting back 100% of their policies\\' surrender values, rather than waiting for compensation under the PPF Scheme.\\xa0 But if the insurer does not fail, policy owners who prematurely surrendered their life policies may not be able to obtain equivalent new insurance cover, for example, due to advanced age or deteriorating health.</p>\\n<p><br/>\\r\\n\\xa0\\xa0\\xa0\\xa0 The introduction of the aggregate caps, which did not exist previously, will mitigate the risk of moral hazard as it creates an incentive for policy owners to exercise prudence in their selection of insurers.\\xa0 In this way, the caps will help keep the PPF Scheme affordable.\\xa0 This approach is similar with the DI Scheme, which provides for 100% coverage up to a cap of S$50,000 per depositor per Scheme member.\\xa0 General insurance policies will be fully covered with no caps, as general insurance policies typically indemnify losses as they occur and payouts are made based on actual claims incurred. As there is no relationship between the amount of losses and the level of sophistication of the policy owner, the moral hazard risk is lesser.</p>\\n<p><br/>\\n<i>Pre-funding</i></p>\\n<p><br/>\\r\\n\\xa0\\xa0\\xa0\\xa0 In addition, the revised PPF Scheme will now be pre-funded, like the DI Scheme.\\xa0 Life insurers and general insurers will pay levies annually into the PPF Life Fund and PPF General Fund, respectively.\\xa0 A pre-funded approach is more equitable compared to a post-funded approach, as the failed insurer would have contributed to the fund prior to its failure.\\xa0 It will also expedite payout in the event that an insurer fails.</p>\\n<p></p>\\n<p>\\xa0</p>\\n<p><i>Review and administration of the schemes</i></p>\\n<p><br/>\\r\\n\\xa0\\xa0\\xa0\\xa0 Sir, the coverage limits and scope of the DI and PPF Schemes have been carefully calibrated to meet the objectives of these Schemes.\\xa0 These features will be reviewed from time to time by the MAS in consultation with the Singapore Deposit Insurance Corporation (SDIC).\\xa0 To facilitate changes that may arise from such reviews, the Minister-in-charge of MAS will be given powers to approve an increase in coverage for these Schemes, based on MAS\\' recommendations.\\xa0 In its review, MAS will have regard to the interests of depositors and policy owners, taking into account the costs to the Schemes, or the stability of, or confidence in, the financial system.\\xa0 If the increase is temporary, the Minister may also decide on the duration of the increase and the period of any extension.</p>\\n<p><br/>\\r\\n\\xa0\\xa0\\xa0\\xa0 Sir, I will also speak briefly on the administration of the Schemes.\\xa0 The SDIC, which currently administers the DI Scheme, will also administer the PPF Scheme.\\xa0 This arrangement ensures cost efficiency and leverages on the SDIC\\'s capabilities.\\xa0 Since its incorporation, the SDIC has established systems and processes to ensure that insured depositors can be compensated quickly in the event of a payout.\\xa0</p>\\n<p><br/>\\r\\n\\xa0\\xa0\\xa0\\xa0 The SDIC will collect premium contributions and levies from DI and PPF Scheme members respectively, compensate those who have been insured in the event of a payout as well educate the public on the DI and PPF Schemes.\\xa0 In addition, the SDIC will manage the DI, PPF Life and PPF General Funds.\\xa0 These three funds will be maintained separately and no inter-fund lending will be allowed.\\xa0 The Bill requires the SDIC and the funds to be audited, and for a copy of the audited financial statements, auditor\\'s report and annual report of SDIC\\'s key activities during the year, to be provided to the Minister.\\xa0\\xa0\\xa0</p>\\n<p><br/>\\r\\n\\xa0\\xa0\\xa0\\xa0 Sir, the proposed enhancements to the DI and PPF Schemes will strengthen the safety net for small depositors and policy owners.\\xa0 The enhancements have been carefully designed to achieve this objective, while keeping the costs of the Schemes manageable and preserving incentives for market discipline.</p>\\n<p><br/>\\r\\n \\xa0\\xa0\\xa0\\xa0 Sir, I beg to move.</p>\\n<p>\\xa0</p>\\n<p></p>\\n<p>\\xa0\\xa0\\xa0\\xa0 Question proposed.</p>\\n</span></div>\\n<!-- Begin CDATA tag -->\\n<!-- End CDATA tag -->\\n<!-- HTML stuff is enclosed in CDATA tag -->\\n<meta content=\"text/html; charset=utf-8\" http-equiv=\"Content-Type\"/>\\n</div>\\n<!--MP_NAME:Assoc. Prof. Paulin Tay Straughan (Nominated Member)-->\\n<div align=\"left\"><span style=\"FONT-SIZE: 13pt; FONT-FAMILY: \\'Times New Roman\\'\"><p>\\xa0</p><p>3.00 pm</p><p>\\xa0</p><p>\\xa0\\xa0\\xa0\\xa0\\xa0<b>Assoc. Prof. Paulin Tay Straughan (Nominated Member):</b> Sir,\\xa0I rise in support of this very important Bill which serves to alleviate Singaporeans\\' concerns about the security of their saving deposits in financial institutions.\\xa0 This Bill is particularly timely as Singaporeans are still recovering from the financial crisis triggered by the failure of Lehman Brothers in 2008.\\r\\n\\r\\n</p><p>\\xa0</p>\\n<p>\\xa0\\xa0\\xa0\\xa0 I have one short query for the Minister.\\xa0\\xa0With regard to health and life insurance policies, my primary concern is with older policy owners.\\xa0\\xa0 Should an insurer fail, one main concern for older Singaporeans is their inability to take up alternative insurance because of their advanced age and/or deteriorating health conditions.\\xa0 Is there provision in the Bill to ensure that they would be able to obtain equivalent new insurance cover?</p>\\n</span></div>\\n<!--MP_NAME:Mrs Mildred Tan-->\\n<div align=\"left\"><span style=\"FONT-SIZE: 13pt; FONT-FAMILY: \\'Times New Roman\\'\"><p>\\xa0</p><p></p><p>\\xa0</p><p>\\xa0\\xa0\\xa0\\xa0\\xa0<b>Mrs Mildred Tan:</b> Mr Speaker, Sir, thank you for allowing me to speak on this Bill.\\r\\n\\r\\n</p><p>\\xa0</p>\\n<p>\\xa0\\xa0\\xa0\\xa0 It is an important Bill and it augurs well that MAS has been proactive in the ever changing developments in the global financial regulatory environment as well as looking after the needs of local depositors.</p>\\n<p>\\xa0</p>\\n<p>\\xa0\\xa0\\xa0\\xa0 Since the Singapore Deposit Insurance Corporation (SDIC) was formed in 2006, we have seen an increase of the amount\\xa0insured from $20,000 to $50,000.\\xa0 This, I believe, is in keeping with international norms as well as the growing wealth of Singaporeans.\\xa0\\xa0 At the same time, this is an increase of 150% over the past five years.\\xa0 Perhaps, it is a little bit like crystal-ball gazing, but I wonder if the Minister would be able to project future increases or\\xa0see the\\xa0need to increase this over time, and to give regular interval updates on the need to review this.</p>\\n<p>\\xa0</p>\\n<p>\\xa0\\xa0\\xa0\\xa0 Sir, I would like to speak on two parts: first,\\xa0relating to businesses and insurance practitioners; and, second,\\xa0on retail depositors.</p>\\n<p>\\xa0</p>\\n<p><i>\\xa0\\xa0\\xa0\\xa0</i> First, on business and insurance.\\xa0 Sir,\\xa0this Bill seems to address a gap that exists for deposit insurance when compared to intrinsically similar deposits written by banks which have been covered historically by other legislation.\\xa0\\xa0 I understand that the Policyholder Protection\\xa0Fund (PPF) will be formally established in this Bill.\\xa0 To me, this is significant as previously there was no formal PPF that existed, especially with the early contribution by insurers.\\xa0 It is also heartening to know that with the enhancements, we will see an increase of the life policyholder\\'s coverage\\xa0to 100% and\\xa0the introduction of an aggregate cap that will enable PPF to be more accessible.</p>\\n<p>\\xa0</p>\\n<p>\\xa0\\xa0\\xa0\\xa0 I would say that this Bill will provide policyholders with an additional level of comfort over and above that which already exists in the form of insurers\\' holding reserves and capital.\\xa0 However, having said that, PPF will increase the costs to the insurers which will ultimately be passed back to policyholders.\\xa0 It then begs the question and the consideration as to how large is large enough.\\xa0\\xa0Too small a fund, there is no protection or\\xa0even worse, it creates a perception of protection without the means to provide the protection.\\xa0 Too large a fund, the capital costs will be unduly onerous.</p>\\n<p>\\xa0</p>\\n<p>\\xa0\\xa0\\xa0\\xa0\\xa0Sir, the basis\\xa0for levies paid to the Scheme needs to be clear and fair in respect of an insurer\\'s overall risk profile.\\xa0 For instance, insurers that maintain a capital adequacy ratio above a certain level might reasonably pay a lower levy as their risk insolvency is higher.\\xa0 The levy should also be reasonably consistent over time to allow an insurer to make the right commercial decision as to what the price to set and where to deploy its capital.</p>\\n<p>\\xa0</p>\\n<p>\\xa0\\xa0\\xa0\\xa0 Sir, next, I move on to businesses.\\xa0 It is clear that the DI Scheme is to protect small depositors which include small businesses.\\xa0 First, I must say this is an important step to protect businesses as I think that this follows the same form as the protection for retail depositors:\\xa0that you may be very rich, but $50,000 is all the protection you are getting at this point and, generally, this is a sensible approach.\\xa0\\xa0 I applaud MAS for this timely initiative and congratulate them for having gotten consensus to expand the Scheme to include businesses.\\xa0</p>\\n<p>\\xa0</p>\\n<p><i>\\xa0\\xa0\\xa0</i> Sir, the Deposit Insurance and Policy Owners\\' Protection Schemes Bill\\xa0increases the protection of depositors from $20,000 to $50,000.\\xa0\\xa0Then, I ask, for all intents and purposes, can someone with, say, $200,000 in cash\\xa0be protected completely? Can they, therefore, spread their money to four banks, with each amount of $50,000,\\xa0up to $200,000?\\xa0\\xa0The percentage of people who are covered under this Scheme would therefore mean that there is an increase of 83% to 91% protection.\\xa0\\xa0This places us on the high side of norms in terms of actual amounts insured, and there are countries such as Hongkong,\\xa0United States and Britain which pay out such high amounts.</p>\\n<p>\\xa0</p>\\n<p>\\xa0\\xa0\\xa0\\xa0 Sir, I note that there is no cover on investment products such as unit trusts or guaranteed capital funds.\\xa0 The increase of deposit over $50,000 may encourage investments in low interest deposit accounts.\\xa0 This is not desirable in an inflationary environment.\\xa0 One way is for the\\xa0protection to be extended to less risky investment products to ensure higher interest savings\\xa0but, at the same time, I know this risk increases the costs to banks and financial institutions.\\xa0\\xa0Sir, this is a delicate balancing act and one that we may need to constantly bear in mind.\\xa0 The balancing is not between risks and premiums alone, but it is also assurance and reality checks.</p>\\n<p>\\xa0</p>\\n<p>\\xa0\\xa0\\xa0\\xa0 Sir, I would like to finally touch on corporate governance and audits.\\xa0 Here, I would like to declare that I am from Ernst and Young, a public accounting firm.\\xa0 The current Bill talks about\\xa0audits, as the Minister had mentioned, but it does not quite indicate the audit of premium collections and the internal audit of SDIC.\\xa0 Perhaps, this could be considered.</p>\\n<p>\\xa0</p>\\n<p>\\xa0\\xa0\\xa0\\xa0 Finally, I stand in support of the Bill as I believe that the changes are for the better and this is an important juncture for us to do this.\\xa0 I urge the agency, the Singapore Deposit Insurance Corporation, to continue its good work of educating the public on its role, and the strength of Singapore\\'s financial system as the fundamental issue remains one of credit, and\\xa0even more basic\\xa0– that of trust.\\xa0\\xa0 This is partly for the general financial literary and also to\\xa0build up an important reservoir of trust, so that in the event of any financial crisis, the depth of trust would provide some form of foundation and stability.\\xa0</p>\\n<p>\\xa0</p>\\n<p>\\xa0\\xa0\\xa0\\xa0\\xa0To that end, I do hope there will be more public education and, perhaps, the Minister can share with us the outcomes he hopes to share and the key messages he will ask SDIC to send out.</p>\\n</span></div>\\n<!--MP_NAME:Mr Lim Hng Kiang-->\\n<div align=\"left\"><span style=\"FONT-SIZE: 13pt; FONT-FAMILY: \\'Times New Roman\\'\"><p>\\xa0</p><p></p><p>\\xa0</p><p>\\xa0\\xa0\\xa0\\xa0\\xa0<b>Mr Lim Hng Kiang:</b> Mr Speaker, Sir, I would like to thank the Members for their support of the Bill and for their comments raised.\\xa0 Let me address these comments respectively.\\r\\n\\r\\n</p><p>\\xa0</p>\\n<p>\\xa0\\xa0\\xa0\\xa0 First, Assoc. Prof. Paulin Straughan asked whether the PPF insurance will allow the transfer of policies from a failing insurer to another insurer.\\xa0 This, I think, is one of the key intentions.\\xa0 If the insurer fails, if there is indeed a willing buyer and allows the insurance policies to be transferred to this willing buyer, then, of course, we will try to facilitate it because this is a very neat solution.\\xa0</p>\\n<p>\\xa0</p>\\n<p>\\xa0\\xa0\\xa0\\xa0 In the event that there is not a willing buyer, then, of course, SDIC has the option to establish\\xa0a separate legal vehicle to continue with the coverage of the outstanding policies and let these policies, as a technical term,\\xa0run off.\\xa0 Of course, if this is not deemed to be a good solution, then the third option is to pay off the policies.\\xa0 But\\xa0we do recognise that for older policyholders, especially those with existing health conditions, finding a willing buyer is a better option or having a run-off is also a good option.</p>\\n<p>\\xa0</p>\\n<p>\\xa0\\xa0\\xa0\\xa0 Mrs Mildred Tan asked about the review timeframe.\\xa0I think we established the key parameters of the Deposit Insurance Scheme on the level\\xa0of coverage desired and, therefore, the review will really take place when we see the coverage dropping.\\xa0 So, we\\xa0try to achieve between\\xa080% and 90% coverage.\\xa0 When the Scheme was first started in 2006, it took us five years to review it and the significant increase is because of the increases in the level of deposits and we are now able to achieve 91% coverage.</p>\\n<p>\\xa0</p>\\n<p>\\xa0\\xa0\\xa0\\xa0 The second question is, of course, the cost considerations.\\xa0 I think this is\\xa0a very important trade-off.\\xa0 The more comprehensive the coverage of the PPF, the higher the funds will need to be created and, therefore, the higher the levies.\\xa0\\xa0 So, we need to have this balance and we have yet to establish the actual fund size and the levy structure.\\xa0 MAS will be consulting the industry both\\xa0on the target fund size as well as the levies in due course.\\xa0 The aim of this Bill is to set up the structure but,\\xa0in setting up the target size and the levies, we will\\xa0be very mindful of this trade-off needed\\xa0and also the basic principles in setting up the levies.\\xa0 This will be risk adjusted to be equitable to all the participants.</p>\\n<p>\\xa0</p>\\n<p>\\xa0\\xa0\\xa0\\xa0 Mrs Mildred Tan\\xa0also\\xa0asked whether\\xa0the DI can be extended to investment products.\\xa0 This is something that we have considered and consulted with the industry and felt that we should not at this moment provide cover for investment products because that will entail higher costs because the\\xa0nature of investment products entails a higher risk.\\xa0 At this juncture, it is better for people to understand the risks especially if they invest in complicated investment products and do not expect this to be insured by the DI.\\xa0 So, this is the position for the time being.</p>\\n<p>\\xa0</p>\\n<p>\\xa0\\xa0\\xa0\\xa0\\xa0On corporate governance: this is very important.\\xa0There will be proper audit of the SDIC.\\xa0 The process will be that MAS will decide on the levies of the individual\\'s scheme member participants depending on their deposit liability base and the SDIC will then collect the appropriate levies from them.\\xa0 And as MAS does its bank inspection, they will be able to check that these deposit liabilities that\\xa0are declared by the banks and the finance companies are actually accurate and true.\\xa0 So, there will be proper processes to make sure that everybody who is participating pay up the correct levies.</p>\\n<p>\\xa0</p>\\n<p>\\xa0\\xa0\\xa0\\xa0 Question put, and agreed to.</p>\\n<p>\\xa0</p>\\n<p>\\xa0\\xa0\\xa0\\xa0 Bill accordingly read a Second time and committed to a Committee of the whole House.</p>\\n<p>\\xa0</p>\\n<p>\\xa0\\xa0\\xa0\\xa0 The House immediately resolved itself into a Committee on the Bill.\\xa0– [Mr Lim Hng Kiang].</p>\\n<p>\\xa0</p>\\n<p>\\xa0\\xa0\\xa0\\xa0 Bill considered in Committee; reported without amendment; read a Third time and passed.</p>\\n</span></div>\\n<!-- Begin CDATA tag -->\\n<!-- End CDATA tag -->\\n<!-- HTML stuff is enclosed in CDATA tag -->\\n<meta content=\"text/html; charset=utf-8\" http-equiv=\"Content-Type\"/>\\n</b></div></body>')"
      ]
     },
     "execution_count": 5,
     "metadata": {},
     "output_type": "execute_result"
    }
   ],
   "source": [
    "url_old_1 = \"https://sprs.parl.gov.sg/search/topic?reportid=030_20110214_S0007_T0002\"\n",
    "url = \"https://sprs.parl.gov.sg/search/topic?reportid=034_20120116_S0015_T0004\"\n",
    "url_old = \"https://sprs.parl.gov.sg/search/topic?reportid=020_20110411_S0004_T0002\" #with changes to API\n",
    "res_t = re.findall(r'(?<=\\?reportid=).*', url_old)[0]\n",
    "\n",
    "def parse_res_old(res):\n",
    "    uri = \"https://sprs.parl.gov.sg/search/getHansardTopic/?id=\" + res\n",
    "    code = int(session.post(uri).status_code)\n",
    "    \n",
    "    \n",
    "    if code==200:\n",
    "        result = session.post(uri).json()['htmlContent']\n",
    "        b = BeautifulSoup(result,'lxml')\n",
    "        raw = b.get_text()\n",
    "        d = b.find_all('meta',{'name':\"Parl_No\"}) ## check which API it belongs under\n",
    "        if d: ## for deprecated API (old v1)\n",
    "            session_type = b.find('meta',{'name':\"Sect_Name\"})['content']\n",
    "            sitting_num = int(re.findall(r'(?s)(?<=Sitting No:)(\\d+?)(?=\\nSitting Date|\\Sitting Date)',raw)[0].strip())\n",
    "            session_num = b.find('meta',{'name':\"Sess_No\"})['content']\n",
    "            parliament_num = b.find('meta',{'name':\"Parl_No\"})['content']\n",
    "            volume_num = b.find('meta',{'name':\"Vol_No\"})['content']\n",
    "            article_text = re.findall(r'(?s)(?<=<div align=\"left\">).*?(?=<\\/html>)',str(b))[0]\n",
    "            return session_type,sitting_num,session_num,parliament_num,volume_num,article_text\n",
    "        else:\n",
    "            ## for recent API (old v2)\n",
    "#             raw = b.get_text()\n",
    "            title = re.findall(r'(?s)(?<=Title:).*?(?=MPs)',raw)[0].strip().replace('\\r\\n',' ')\n",
    "            exclude = ['Assent to Bills Passed','Administration of Oaths']\n",
    "\n",
    "            if title not in exclude:\n",
    "                session_type = str(re.findall(r'(?<=Section Name:)(.*?)(?=Title)',raw)[0].strip())\n",
    "                sitting_num = int(re.findall(r'(?<=Sitting No:)(.*?)(?=Sitting)',raw)[0].strip())\n",
    "                session_num = int(re.findall(r'(?<=Session No:)(.*?)(?=Volume)',raw)[0].strip())\n",
    "                parliament_num = int(re.findall(r'(?<=Parliament No:)(.*?)(?=Session)',raw)[0].strip())\n",
    "                volume_num = int(re.findall(r'(?<=Volume No:)(.*?)(?=Sitting)',raw)[0].strip())\n",
    "                article_text = str(b.find(\"div\", class_ = \"body hansardBaseBody hansardContenteBody\"))\n",
    "            else:\n",
    "                session_type = title\n",
    "                sitting_num = int(re.findall(r'(?<=Sitting No:)(.*?)(?=Sitting)',raw)[0].strip())\n",
    "                session_num = int(re.findall(r'(?<=Session No:)(.*?)(?=Volume)',raw)[0].strip())\n",
    "                parliament_num = int(re.findall(r'(?<=Parliament No:)(.*?)(?=Session)',raw)[0].strip())\n",
    "                volume_num = int(re.findall(r'(?<=Volume No:)(.*?)(?=Sitting)',raw)[0].strip())\n",
    "                article_text = str(b.find(\"div\", class_ = \"body hansardBaseBody hansardContenteBody\"))\n",
    "\n",
    "            return session_type,sitting_num,session_num,parliament_num,volume_num,article_text\n",
    "    else:\n",
    "        raise ValueError\n",
    "    \n",
    "parse_res_old(res_t)"
   ]
  },
  {
   "cell_type": "code",
   "execution_count": 6,
   "metadata": {},
   "outputs": [
    {
     "data": {
      "text/plain": [
       "('Written Answers to Questions for Oral Answer Not Answered by 3.00 pm',\n",
       " '7',\n",
       " '1',\n",
       " '12',\n",
       " '89',\n",
       " '<p>30 <strong>Mr R Dhinakaran</strong> asked the Acting Minister for Community Development, Youth and Sports if it will be timely to consider shifting the responsibility of childcare and pre-school education to the Ministry of Education since the Ministry of Community Development, Youth and Sports is undergoing a restructuring, so that there is a better fit.</p><p><strong>Mr Chan Chun Sing</strong>: While the pre-school sector is currently overseen by two Ministries, MOE and MCYS have coordinated closely in key policy areas, especially at the kindergarten level. These include requiring the same qualifications for principals and teachers teaching children aged four to six, and adopting the Singapore Pre-school Accreditation Framework (SPARK) for both kindergartens and childcare centres.</p><p>As recently announced, the Government will be setting up a new statutory board to oversee early childhood education and care for pre-school children across the age ranges. The statutory board will be responsible for the development and regulation of the pre-school sector, covering both kindergartens and childcare centres. It will serve as a single focal point to drive quality, accessibility and affordability improvements in the sector.</p><p>MOE and the new Ministry of Social and Family Development will work closely together on the formation of the new statutory board. More details will be announced in due course.</p>')"
      ]
     },
     "execution_count": 6,
     "metadata": {},
     "output_type": "execute_result"
    }
   ],
   "source": [
    "url = \"https://sprs.parl.gov.sg/search/sprs3topic?reportid=written-answer-na-962\"\n",
    "res_t = re.findall(r'(?<=\\?reportid=).*', url)[0]\n",
    "\n",
    "def parse_res(res):\n",
    "    uri = \"https://sprs.parl.gov.sg/search/getHansardTopic/?id=\" + res\n",
    "    result = session.post(uri).json()\n",
    "    r_type = result['type']\n",
    "    \n",
    "    if r_type !='atbp':\n",
    "        w = result['resultHTML']\n",
    "        session_type = w['reportType']\n",
    "        sitting_num = w['sittingNo']\n",
    "        session_num = w['sessionNo']\n",
    "        parliament_num = w['parlNo']\n",
    "        volume_num = w['volumeNo']\n",
    "        article_text = w['content']\n",
    "        return session_type,sitting_num,session_num,parliament_num,volume_num,article_text\n",
    "    else:\n",
    "        w = result['resultData']\n",
    "        session_type = r_type\n",
    "        sitting_num = w['sittingNo']\n",
    "        session_num = w['sessionNo']\n",
    "        parliament_num = w['parlNo']\n",
    "        volume_num = w['volumeNo']\n",
    "        article_text = str(w['atbpList'])\n",
    "        return session_type,sitting_num,session_num,parliament_num,volume_num,article_text\n",
    "    \n",
    "\n",
    "parse_res(res_t)"
   ]
  },
  {
   "cell_type": "code",
   "execution_count": 7,
   "metadata": {},
   "outputs": [],
   "source": [
    "def assign_parser(url):\n",
    "    res = re.findall(r'(?<=\\?reportid=).*', url)[0]\n",
    "    if 'sprs3topic' in url:\n",
    "        return parse_res(res)\n",
    "    else:\n",
    "        return parse_res_old(res)\n",
    "        "
   ]
  },
  {
   "cell_type": "code",
   "execution_count": 8,
   "metadata": {},
   "outputs": [
    {
     "data": {
      "text/plain": [
       "('ORAL ANSWERS TO QUESTIONS NOT REACHED',\n",
       " 16,\n",
       " '2',\n",
       " '11',\n",
       " '87',\n",
       " ' <p><span style=\"FONT-SIZE: 13pt; FONT-FAMILY: \\'Times New Roman\\'\">\\xa0\\xa0\\xa0\\xa0\\xa022.</span>\\xa0\\xa0\\t        <!--MP_NAME:Assoc. Prof. Paulin Tay Straughan--><span style=\"FONT-SIZE: 13pt; FONT-FAMILY: \\'Times New Roman\\'\"><b>Assoc. Prof. Paulin Tay Straughan </b>asked the Minister for Manpower if he can provide data on (a) the proportion of employers aside from the Civil Service that offer paternity leave and unrecorded childcare leave as part of employee benefits; and (b) the proportion of unrecorded childcare leave that is taken by fathers.</span></p> <span style=\"FONT-SIZE: 13pt; FONT-FAMILY: \\'Times New Roman\\'\"><!--MP_NAME:Mr Gan Kim Yong--><p align=\"left\">\\xa0\\xa0\\xa0\\xa0\\xa0<b>Mr Gan Kim Yong:</b></p><p>\\xa0\\xa0\\xa0\\xa0\\xa0\\xa0 Even though paternity leave is not specifically legislated, MOM’s survey showed that about 48% of private sector establishments with at least 25 employees provided paternity leave last year.</p><p>\\xa0</p><p>\\xa0\\xa0\\xa0\\xa0 In addition, all working fathers of Singaporean children enjoy six days of paid childcare leave for children aged up to seven years old and six days of unpaid infant care leave for children aged up to two years old as provided for under the Children Development Co-Savings Act (CDCA). On the proportion of paid childcare leave taken by fathers, in 2009, there were more than 25,000 claims made in respect of Government-paid childcare leave taken by fathers, just slightly below the 27,000 claims for mothers. Last year, about two in\\xa010 (about 19%) private sector establishments also provided childcare sick leave beyond the legal requirements.</p><p>\\xa0</p><p>\\xa0\\xa0\\xa0\\xa0 Anecdotally, companies may also provide flexible work arrangements or allow working parents to take time-off on an informal basis for them to attend to the needs of their children. However, as such work arrangements are non-statutory, and usually arranged under mutual agreement between the employer and employee, we do not have data on the take-up by working fathers.</p></span> <div align=\"center\"><span font-family:=\"\" new=\"\" roman=\"\" style=\\'\\\\\"FONT-SIZE:\\'><b> </b></span></div></div></body>')"
      ]
     },
     "execution_count": 8,
     "metadata": {},
     "output_type": "execute_result"
    }
   ],
   "source": [
    "assign_parser('https://sprs.parl.gov.sg/search/topic?reportid=030_20110214_S0007_T0002')"
   ]
  },
  {
   "cell_type": "code",
   "execution_count": 12,
   "metadata": {},
   "outputs": [],
   "source": [
    "HANSARD_URL = \"https://sprs.parl.gov.sg/search/home\"\n",
    "\n",
    "# Firefox session\n",
    "\n",
    "\n",
    "today_date = datetime.datetime.today()\n",
    "parse_date = today_date.strftime(\"%Y-%m-%d\")\n",
    "timeout=5\n",
    "\n",
    "def fetch_links():\n",
    "    \n",
    "    \n",
    "    driver = webdriver.Firefox(executable_path='./drivers/geckodriver-osx')\n",
    "    url = HANSARD_URL\n",
    "    driver.get(url)\n",
    "    assert \"Search\" in driver.title\n",
    "    sleep(2)\n",
    "    try:\n",
    "        date_range = driver.find_element_by_class_name(\"date-range\")\n",
    "        Select(date_range.find_element_by_class_name(\"form-control\")).select_by_visible_text('Specified range')\n",
    "        sleep(1)\n",
    "        \n",
    "        # Specify Time Range\n",
    "        Select(driver.find_element_by_id(\"fromday\")).select_by_visible_text('1')\n",
    "        Select(driver.find_element_by_id(\"frommonth\")).select_by_visible_text('1')\n",
    "        Select(driver.find_element_by_id(\"fromyear\")).select_by_visible_text('1995')\n",
    "        Select(driver.find_element_by_id(\"today\")).select_by_visible_text('12')\n",
    "        Select(driver.find_element_by_id(\"tomonth\")).select_by_visible_text('3')\n",
    "        Select(driver.find_element_by_id(\"toyear\")).select_by_visible_text('2004')\n",
    "        \n",
    "        # Go to search results\n",
    "        driver.find_element_by_css_selector(\".btn-black[label='Search']\").click()\n",
    "        sleep(5)\n",
    "        driver.switch_to_window(driver.window_handles[-1])       \n",
    "        sleep(5)\n",
    "        print(f\"Current URL : {driver.current_url}\")\n",
    "        query_result = driver.find_element_by_class_name(\"showingResults\").text\n",
    "        \n",
    "        \n",
    "        num_results = int(re.search(\"\\w+$\", query_result).group(0))\n",
    "        # curr_cnt = initial_cnt\n",
    "        page_cnt = 1\n",
    "        link_cnt = 1\n",
    "        print(\"\\n ////////////////// NEW PAGE //////////////////////// \\n\")\n",
    "        print(\"Number of results : {}\".format(query_result))\n",
    "        while link_cnt <= num_results:\n",
    "            if page_cnt > 1 :\n",
    "                sleep(1)\n",
    "                print(\"\\n ////////////////// NEW PAGE //////////////////////// \\n\")\n",
    "                print(\"Number of results so far : {}\".format(link_cnt))\n",
    "\n",
    "            print(\"Current page count: {}\".format(page_cnt))\n",
    "            # curr_cnt = int(re.findall(r\"\\d+(?![of])\", query_result)[1])\n",
    "            results = driver.find_elements_by_tag_name(\"tbody\")\n",
    "            result_idx = 0\n",
    "#             print(results)\n",
    "            while result_idx < len(results):\n",
    "                try:\n",
    "                    sleep(3)\n",
    "                    print(f\"Current ID = {result_idx}\")\n",
    "                    print(\"Processing\")\n",
    "                    result = results[result_idx]\n",
    "                    title = result.find_element_by_tag_name(\"a\").text # get report name\n",
    "                    sub_text = result.find_element_by_tag_name(\"i\").text # get subtext \n",
    "\n",
    "                    result.find_element_by_tag_name(\"a\").click() # opens a new tab \n",
    "\n",
    "                    driver.switch_to_window(driver.window_handles[-1])\n",
    "                    sleep(3)\n",
    "                    current_url = driver.current_url\n",
    "                    while current_url == 'about:blank':\n",
    "                        print(\"blank url, retrying\")\n",
    "                        sleep(2)\n",
    "                        current_url = driver.current_url\n",
    "\n",
    "                    source = driver.page_source\n",
    "                    res_url = re.findall(r'(?<=\\?reportid=).*', current_url)[0]\n",
    "                    print(f\"Current URL : {driver.current_url}, Resource = {res_url}\")\n",
    "                    \n",
    "                    session_type,sitting_num,session_num,parliament_num,volume_num,article_text = assign_parser(current_url)\n",
    "\n",
    "                    link_entry = get_or_create(Link, title=title, res_url=res_url,\n",
    "                                               src_url=current_url, \n",
    "                                               sitting_date=parse_sittingdate(sub_text))\n",
    "\n",
    "                    get_or_create(Article,link_article=link_entry,parliament_num=parliament_num,\n",
    "                                                           volume_num=volume_num,\n",
    "                                                           sitting_num=sitting_num,\n",
    "                                                           session_num=session_num,\n",
    "                                                           session_type=session_type,\n",
    "                                                           article_text=article_text\n",
    "                                                          )\n",
    "#                   \n",
    "                    result_idx += 1\n",
    "                    link_cnt+=1\n",
    "                    driver.close()\n",
    "                    sleep(random.randint(1,3))\n",
    "                    driver.switch_to_window(driver.window_handles[-1])\n",
    "                except IndexError:\n",
    "                    print(\"Index of JSON not found,skipping\")\n",
    "                    sleep(1)\n",
    "                    result_idx += 1\n",
    "                    link_cnt+=1\n",
    "                    driver.close()\n",
    "                    sleep(random.randint(1,3))\n",
    "                    driver.switch_to_window(driver.window_handles[-1])\n",
    "                    continue\n",
    "                except ElementNotInteractableException:\n",
    "                    print(f\"No Element Exists at {result_idx}, go to next\")\n",
    "                    result_idx += 1\n",
    "                    link_cnt+=1\n",
    "                    sleep(5)\n",
    "                    continue\n",
    "                except NoSuchElementException:\n",
    "                    print(f\"No Element Exists at {result_idx}, go to next\")\n",
    "                    result_idx += 1\n",
    "                    link_cnt+=1\n",
    "                    sleep(5)\n",
    "                    continue\n",
    "                except JSONDecodeError:\n",
    "                    print(f\"JSON Error on:{res_url} , retrying\")\n",
    "                    driver.close()\n",
    "                    sleep(random.randint(1,3))\n",
    "                    driver.switch_to_window(driver.window_handles[-1])\n",
    "                    pass\n",
    "                except AttributeError:\n",
    "                    print(f\"JSON not found at {result_idx}, go to next\")\n",
    "                    result_idx += 1\n",
    "                    link_cnt+=1\n",
    "                    driver.close()\n",
    "                    sleep(random.randint(1,3))\n",
    "                    driver.switch_to_window(driver.window_handles[-1])\n",
    "                    sleep(5)\n",
    "                    continue\n",
    "                except ValueError:\n",
    "                    print(f\"Value Error on:{res_url} , skipping\")\n",
    "                    result_idx += 1\n",
    "                    link_cnt+=1\n",
    "                    driver.close()\n",
    "                    sleep(random.randint(1,3))\n",
    "                    driver.switch_to_window(driver.window_handles[-1])\n",
    "                    continue\n",
    "                    \n",
    "                    \n",
    "            page_cnt+=1\n",
    "            sleep(4)\n",
    "            next_btn = driver.find_element_by_class_name(\"fa-angle-right\")\n",
    "            if (next_btn):\n",
    "                next_btn.click()\n",
    "                sleep(random.randint(1,3))\n",
    "            else:\n",
    "                break\n",
    "\n",
    "    except Exception as e:\n",
    "        driver.save_screenshot('error.png')\n",
    "        print(str(e))\n",
    "    except KeyboardInterrupt:\n",
    "        return source\n",
    "    finally:\n",
    "        print(\"Total of {} links processed\".format(link_cnt))\n",
    "        driver.quit()"
   ]
  },
  {
   "cell_type": "code",
   "execution_count": 13,
   "metadata": {},
   "outputs": [
    {
     "name": "stderr",
     "output_type": "stream",
     "text": [
      "/Users/syamil/anaconda3/envs/pivot/lib/python3.7/site-packages/ipykernel_launcher.py:33: DeprecationWarning: use driver.switch_to.window instead\n"
     ]
    },
    {
     "name": "stdout",
     "output_type": "stream",
     "text": [
      "Current URL : https://sprs.parl.gov.sg/search/result\n",
      "'NoneType' object has no attribute 'group'\n"
     ]
    },
    {
     "ename": "UnboundLocalError",
     "evalue": "local variable 'link_cnt' referenced before assignment",
     "output_type": "error",
     "traceback": [
      "\u001b[0;31m---------------------------------------------------------------------------\u001b[0m",
      "\u001b[0;31mUnboundLocalError\u001b[0m                         Traceback (most recent call last)",
      "\u001b[0;32m<ipython-input-13-406321580f07>\u001b[0m in \u001b[0;36m<module>\u001b[0;34m\u001b[0m\n\u001b[0;32m----> 1\u001b[0;31m \u001b[0mget_ipython\u001b[0m\u001b[0;34m(\u001b[0m\u001b[0;34m)\u001b[0m\u001b[0;34m.\u001b[0m\u001b[0mrun_cell_magic\u001b[0m\u001b[0;34m(\u001b[0m\u001b[0;34m'timeit'\u001b[0m\u001b[0;34m,\u001b[0m \u001b[0;34m''\u001b[0m\u001b[0;34m,\u001b[0m \u001b[0;34m'src = fetch_links()\\n'\u001b[0m\u001b[0;34m)\u001b[0m\u001b[0;34m\u001b[0m\u001b[0;34m\u001b[0m\u001b[0m\n\u001b[0m",
      "\u001b[0;32m~/anaconda3/envs/pivot/lib/python3.7/site-packages/IPython/core/interactiveshell.py\u001b[0m in \u001b[0;36mrun_cell_magic\u001b[0;34m(self, magic_name, line, cell)\u001b[0m\n\u001b[1;32m   2350\u001b[0m             \u001b[0;32mwith\u001b[0m \u001b[0mself\u001b[0m\u001b[0;34m.\u001b[0m\u001b[0mbuiltin_trap\u001b[0m\u001b[0;34m:\u001b[0m\u001b[0;34m\u001b[0m\u001b[0;34m\u001b[0m\u001b[0m\n\u001b[1;32m   2351\u001b[0m                 \u001b[0margs\u001b[0m \u001b[0;34m=\u001b[0m \u001b[0;34m(\u001b[0m\u001b[0mmagic_arg_s\u001b[0m\u001b[0;34m,\u001b[0m \u001b[0mcell\u001b[0m\u001b[0;34m)\u001b[0m\u001b[0;34m\u001b[0m\u001b[0;34m\u001b[0m\u001b[0m\n\u001b[0;32m-> 2352\u001b[0;31m                 \u001b[0mresult\u001b[0m \u001b[0;34m=\u001b[0m \u001b[0mfn\u001b[0m\u001b[0;34m(\u001b[0m\u001b[0;34m*\u001b[0m\u001b[0margs\u001b[0m\u001b[0;34m,\u001b[0m \u001b[0;34m**\u001b[0m\u001b[0mkwargs\u001b[0m\u001b[0;34m)\u001b[0m\u001b[0;34m\u001b[0m\u001b[0;34m\u001b[0m\u001b[0m\n\u001b[0m\u001b[1;32m   2353\u001b[0m             \u001b[0;32mreturn\u001b[0m \u001b[0mresult\u001b[0m\u001b[0;34m\u001b[0m\u001b[0;34m\u001b[0m\u001b[0m\n\u001b[1;32m   2354\u001b[0m \u001b[0;34m\u001b[0m\u001b[0m\n",
      "\u001b[0;32m</Users/syamil/anaconda3/envs/pivot/lib/python3.7/site-packages/decorator.py:decorator-gen-60>\u001b[0m in \u001b[0;36mtimeit\u001b[0;34m(self, line, cell, local_ns)\u001b[0m\n",
      "\u001b[0;32m~/anaconda3/envs/pivot/lib/python3.7/site-packages/IPython/core/magic.py\u001b[0m in \u001b[0;36m<lambda>\u001b[0;34m(f, *a, **k)\u001b[0m\n\u001b[1;32m    185\u001b[0m     \u001b[0;31m# but it's overkill for just that one bit of state.\u001b[0m\u001b[0;34m\u001b[0m\u001b[0;34m\u001b[0m\u001b[0;34m\u001b[0m\u001b[0m\n\u001b[1;32m    186\u001b[0m     \u001b[0;32mdef\u001b[0m \u001b[0mmagic_deco\u001b[0m\u001b[0;34m(\u001b[0m\u001b[0marg\u001b[0m\u001b[0;34m)\u001b[0m\u001b[0;34m:\u001b[0m\u001b[0;34m\u001b[0m\u001b[0;34m\u001b[0m\u001b[0m\n\u001b[0;32m--> 187\u001b[0;31m         \u001b[0mcall\u001b[0m \u001b[0;34m=\u001b[0m \u001b[0;32mlambda\u001b[0m \u001b[0mf\u001b[0m\u001b[0;34m,\u001b[0m \u001b[0;34m*\u001b[0m\u001b[0ma\u001b[0m\u001b[0;34m,\u001b[0m \u001b[0;34m**\u001b[0m\u001b[0mk\u001b[0m\u001b[0;34m:\u001b[0m \u001b[0mf\u001b[0m\u001b[0;34m(\u001b[0m\u001b[0;34m*\u001b[0m\u001b[0ma\u001b[0m\u001b[0;34m,\u001b[0m \u001b[0;34m**\u001b[0m\u001b[0mk\u001b[0m\u001b[0;34m)\u001b[0m\u001b[0;34m\u001b[0m\u001b[0;34m\u001b[0m\u001b[0m\n\u001b[0m\u001b[1;32m    188\u001b[0m \u001b[0;34m\u001b[0m\u001b[0m\n\u001b[1;32m    189\u001b[0m         \u001b[0;32mif\u001b[0m \u001b[0mcallable\u001b[0m\u001b[0;34m(\u001b[0m\u001b[0marg\u001b[0m\u001b[0;34m)\u001b[0m\u001b[0;34m:\u001b[0m\u001b[0;34m\u001b[0m\u001b[0;34m\u001b[0m\u001b[0m\n",
      "\u001b[0;32m~/anaconda3/envs/pivot/lib/python3.7/site-packages/IPython/core/magics/execution.py\u001b[0m in \u001b[0;36mtimeit\u001b[0;34m(self, line, cell, local_ns)\u001b[0m\n\u001b[1;32m   1145\u001b[0m             \u001b[0;32mfor\u001b[0m \u001b[0mindex\u001b[0m \u001b[0;32min\u001b[0m \u001b[0mrange\u001b[0m\u001b[0;34m(\u001b[0m\u001b[0;36m0\u001b[0m\u001b[0;34m,\u001b[0m \u001b[0;36m10\u001b[0m\u001b[0;34m)\u001b[0m\u001b[0;34m:\u001b[0m\u001b[0;34m\u001b[0m\u001b[0;34m\u001b[0m\u001b[0m\n\u001b[1;32m   1146\u001b[0m                 \u001b[0mnumber\u001b[0m \u001b[0;34m=\u001b[0m \u001b[0;36m10\u001b[0m \u001b[0;34m**\u001b[0m \u001b[0mindex\u001b[0m\u001b[0;34m\u001b[0m\u001b[0;34m\u001b[0m\u001b[0m\n\u001b[0;32m-> 1147\u001b[0;31m                 \u001b[0mtime_number\u001b[0m \u001b[0;34m=\u001b[0m \u001b[0mtimer\u001b[0m\u001b[0;34m.\u001b[0m\u001b[0mtimeit\u001b[0m\u001b[0;34m(\u001b[0m\u001b[0mnumber\u001b[0m\u001b[0;34m)\u001b[0m\u001b[0;34m\u001b[0m\u001b[0;34m\u001b[0m\u001b[0m\n\u001b[0m\u001b[1;32m   1148\u001b[0m                 \u001b[0;32mif\u001b[0m \u001b[0mtime_number\u001b[0m \u001b[0;34m>=\u001b[0m \u001b[0;36m0.2\u001b[0m\u001b[0;34m:\u001b[0m\u001b[0;34m\u001b[0m\u001b[0;34m\u001b[0m\u001b[0m\n\u001b[1;32m   1149\u001b[0m                     \u001b[0;32mbreak\u001b[0m\u001b[0;34m\u001b[0m\u001b[0;34m\u001b[0m\u001b[0m\n",
      "\u001b[0;32m~/anaconda3/envs/pivot/lib/python3.7/site-packages/IPython/core/magics/execution.py\u001b[0m in \u001b[0;36mtimeit\u001b[0;34m(self, number)\u001b[0m\n\u001b[1;32m    159\u001b[0m         \u001b[0mgc\u001b[0m\u001b[0;34m.\u001b[0m\u001b[0mdisable\u001b[0m\u001b[0;34m(\u001b[0m\u001b[0;34m)\u001b[0m\u001b[0;34m\u001b[0m\u001b[0;34m\u001b[0m\u001b[0m\n\u001b[1;32m    160\u001b[0m         \u001b[0;32mtry\u001b[0m\u001b[0;34m:\u001b[0m\u001b[0;34m\u001b[0m\u001b[0;34m\u001b[0m\u001b[0m\n\u001b[0;32m--> 161\u001b[0;31m             \u001b[0mtiming\u001b[0m \u001b[0;34m=\u001b[0m \u001b[0mself\u001b[0m\u001b[0;34m.\u001b[0m\u001b[0minner\u001b[0m\u001b[0;34m(\u001b[0m\u001b[0mit\u001b[0m\u001b[0;34m,\u001b[0m \u001b[0mself\u001b[0m\u001b[0;34m.\u001b[0m\u001b[0mtimer\u001b[0m\u001b[0;34m)\u001b[0m\u001b[0;34m\u001b[0m\u001b[0;34m\u001b[0m\u001b[0m\n\u001b[0m\u001b[1;32m    162\u001b[0m         \u001b[0;32mfinally\u001b[0m\u001b[0;34m:\u001b[0m\u001b[0;34m\u001b[0m\u001b[0;34m\u001b[0m\u001b[0m\n\u001b[1;32m    163\u001b[0m             \u001b[0;32mif\u001b[0m \u001b[0mgcold\u001b[0m\u001b[0;34m:\u001b[0m\u001b[0;34m\u001b[0m\u001b[0;34m\u001b[0m\u001b[0m\n",
      "\u001b[0;32m<magic-timeit>\u001b[0m in \u001b[0;36minner\u001b[0;34m(_it, _timer)\u001b[0m\n",
      "\u001b[0;32m<ipython-input-12-843a2cad395f>\u001b[0m in \u001b[0;36mfetch_links\u001b[0;34m()\u001b[0m\n\u001b[1;32m    157\u001b[0m         \u001b[0;32mreturn\u001b[0m \u001b[0msource\u001b[0m\u001b[0;34m\u001b[0m\u001b[0;34m\u001b[0m\u001b[0m\n\u001b[1;32m    158\u001b[0m     \u001b[0;32mfinally\u001b[0m\u001b[0;34m:\u001b[0m\u001b[0;34m\u001b[0m\u001b[0;34m\u001b[0m\u001b[0m\n\u001b[0;32m--> 159\u001b[0;31m         \u001b[0mprint\u001b[0m\u001b[0;34m(\u001b[0m\u001b[0;34m\"Total of {} links processed\"\u001b[0m\u001b[0;34m.\u001b[0m\u001b[0mformat\u001b[0m\u001b[0;34m(\u001b[0m\u001b[0mlink_cnt\u001b[0m\u001b[0;34m)\u001b[0m\u001b[0;34m)\u001b[0m\u001b[0;34m\u001b[0m\u001b[0;34m\u001b[0m\u001b[0m\n\u001b[0m\u001b[1;32m    160\u001b[0m         \u001b[0mdriver\u001b[0m\u001b[0;34m.\u001b[0m\u001b[0mquit\u001b[0m\u001b[0;34m(\u001b[0m\u001b[0;34m)\u001b[0m\u001b[0;34m\u001b[0m\u001b[0;34m\u001b[0m\u001b[0m\n",
      "\u001b[0;31mUnboundLocalError\u001b[0m: local variable 'link_cnt' referenced before assignment"
     ]
    }
   ],
   "source": [
    "%%timeit\n",
    "src = fetch_links()"
   ]
  },
  {
   "cell_type": "code",
   "execution_count": null,
   "metadata": {},
   "outputs": [],
   "source": []
  }
 ],
 "metadata": {
  "kernelspec": {
   "display_name": "Python 3",
   "language": "python",
   "name": "python3"
  },
  "language_info": {
   "codemirror_mode": {
    "name": "ipython",
    "version": 3
   },
   "file_extension": ".py",
   "mimetype": "text/x-python",
   "name": "python",
   "nbconvert_exporter": "python",
   "pygments_lexer": "ipython3",
   "version": "3.7.3"
  }
 },
 "nbformat": 4,
 "nbformat_minor": 2
}
