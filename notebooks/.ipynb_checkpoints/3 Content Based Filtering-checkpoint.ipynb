{
 "cells": [
  {
   "cell_type": "markdown",
   "metadata": {},
   "source": [
    "# Doc2Vec Implementation on Corpus\n",
    "\n",
    "## Import Libraries"
   ]
  },
  {
   "cell_type": "code",
   "execution_count": 27,
   "metadata": {},
   "outputs": [],
   "source": [
    "import gensim\n",
    "from gensim.utils import simple_preprocess\n",
    "from nltk.corpus import stopwords\n",
    "import pymongo\n",
    "import pandas as pd\n",
    "import numpy as np\n",
    "\n",
    "from sklearn.model_selection import train_test_split\n",
    "\n",
    "stop_words = stopwords.words('english')\n",
    "\n",
    "\n",
    "## custome stop_words\n",
    "stop_words.extend(['br','mr'])"
   ]
  },
  {
   "cell_type": "markdown",
   "metadata": {},
   "source": [
    "## Read in Data from MongoDB"
   ]
  },
  {
   "cell_type": "code",
   "execution_count": 4,
   "metadata": {},
   "outputs": [],
   "source": [
    "client = pymongo.MongoClient(\"mongodb://localhost:27017/\")\n",
    "\n",
    "db = client[\"parliament\"]\n",
    "articles = db[\"articles\"]"
   ]
  },
  {
   "cell_type": "code",
   "execution_count": 5,
   "metadata": {},
   "outputs": [
    {
     "data": {
      "text/html": [
       "<div>\n",
       "<style scoped>\n",
       "    .dataframe tbody tr th:only-of-type {\n",
       "        vertical-align: middle;\n",
       "    }\n",
       "\n",
       "    .dataframe tbody tr th {\n",
       "        vertical-align: top;\n",
       "    }\n",
       "\n",
       "    .dataframe thead th {\n",
       "        text-align: right;\n",
       "    }\n",
       "</style>\n",
       "<table border=\"1\" class=\"dataframe\">\n",
       "  <thead>\n",
       "    <tr style=\"text-align: right;\">\n",
       "      <th></th>\n",
       "      <th>_id</th>\n",
       "      <th>article_text</th>\n",
       "      <th>chunks</th>\n",
       "      <th>cleaned_join</th>\n",
       "      <th>dominant_topic</th>\n",
       "      <th>html_clean</th>\n",
       "      <th>parliament_num</th>\n",
       "      <th>parsed_convo</th>\n",
       "      <th>persons_involved</th>\n",
       "      <th>session_num</th>\n",
       "      <th>session_type</th>\n",
       "      <th>sitting_date</th>\n",
       "      <th>sitting_num</th>\n",
       "      <th>src_url</th>\n",
       "      <th>title</th>\n",
       "      <th>volume_num</th>\n",
       "    </tr>\n",
       "  </thead>\n",
       "  <tbody>\n",
       "    <tr>\n",
       "      <th>0</th>\n",
       "      <td>5d27eca6172d9aa762d4802f</td>\n",
       "      <td>&lt;p&gt;[(proc text) Debate resumed. (proc text)]&lt;/...</td>\n",
       "      <td>{\"0\": {\"entity\": \"NA\", \"content\": \"[(proc text...</td>\n",
       "      <td>[(proc text) Debate resumed. (proc text)]&lt;br/&gt;...</td>\n",
       "      <td>Society</td>\n",
       "      <td>[[(proc text) Debate resumed. (proc text)], Mr...</td>\n",
       "      <td>13</td>\n",
       "      <td>[{'content': '[(proc text) Debate resumed. (pr...</td>\n",
       "      <td>[Mr Leon Perera, Mr K Shanmugam, Assoc Prof Wa...</td>\n",
       "      <td>2</td>\n",
       "      <td>SECOND READING BILLS</td>\n",
       "      <td>2019-05-08</td>\n",
       "      <td>105</td>\n",
       "      <td>https://sprs.parl.gov.sg/search/sprs3topic?rep...</td>\n",
       "      <td>PROTECTION FROM ONLINE FALSEHOODS AND MANIPULA...</td>\n",
       "      <td>94</td>\n",
       "    </tr>\n",
       "    <tr>\n",
       "      <th>1</th>\n",
       "      <td>5d27eca6172d9aa762d48030</td>\n",
       "      <td>&lt;p class=\"ql-align-justify\"&gt;4 &lt;strong&gt;Mr Vikra...</td>\n",
       "      <td>{\"0\": {\"entity\": \"NA\", \"content\": \"Mr Vikram N...</td>\n",
       "      <td>Mr Vikram Nair asked the Minister for Foreign ...</td>\n",
       "      <td>Society</td>\n",
       "      <td>[Mr Vikram Nair asked the Minister for Foreign...</td>\n",
       "      <td>13</td>\n",
       "      <td>[{'content': 'Mr Vikram Nair asked the Ministe...</td>\n",
       "      <td>[Dr Vivian Balakrishnan, The Minister for Fore...</td>\n",
       "      <td>2</td>\n",
       "      <td>ORAL ANSWERS</td>\n",
       "      <td>2019-05-08</td>\n",
       "      <td>105</td>\n",
       "      <td>https://sprs.parl.gov.sg/search/sprs3topic?rep...</td>\n",
       "      <td>STATE OF BILATERAL RELATIONS WITH MALAYSIA FOL...</td>\n",
       "      <td>94</td>\n",
       "    </tr>\n",
       "    <tr>\n",
       "      <th>2</th>\n",
       "      <td>5d27eca6172d9aa762d48031</td>\n",
       "      <td>&lt;p class=\"ql-align-justify\"&gt;8 &lt;strong&gt;Assoc Pr...</td>\n",
       "      <td>{\"0\": {\"entity\": \"NA\", \"content\": \"Assoc Prof ...</td>\n",
       "      <td>Assoc Prof Walter Theseira asked the Minister ...</td>\n",
       "      <td>Internal Security</td>\n",
       "      <td>[Assoc Prof Walter Theseira asked the Minister...</td>\n",
       "      <td>13</td>\n",
       "      <td>[{'content': 'Assoc Prof Walter Theseira asked...</td>\n",
       "      <td>[Ms Low Yen Ling, Ms Anthea Ong, Assoc Prof Wa...</td>\n",
       "      <td>2</td>\n",
       "      <td>ORAL ANSWERS</td>\n",
       "      <td>2019-05-08</td>\n",
       "      <td>105</td>\n",
       "      <td>https://sprs.parl.gov.sg/search/sprs3topic?rep...</td>\n",
       "      <td>COMPANIES WITH MEASURES TO DEAL WITH WORKPLACE...</td>\n",
       "      <td>94</td>\n",
       "    </tr>\n",
       "    <tr>\n",
       "      <th>3</th>\n",
       "      <td>5d27eca6172d9aa762d48032</td>\n",
       "      <td>&lt;p&gt;5 &lt;strong&gt;Ms Irene Quay Siew Ching&lt;/strong&gt;...</td>\n",
       "      <td>{\"0\": {\"entity\": \"NA\", \"content\": \"Ms Irene Qu...</td>\n",
       "      <td>Ms Irene Quay Siew Ching asked the Minister fo...</td>\n",
       "      <td>Environment</td>\n",
       "      <td>[Ms Irene Quay Siew Ching asked the Minister f...</td>\n",
       "      <td>13</td>\n",
       "      <td>[{'content': 'Ms Irene Quay Siew Ching asked t...</td>\n",
       "      <td>[The Senior Minister of State for Health, Dr L...</td>\n",
       "      <td>2</td>\n",
       "      <td>ORAL ANSWERS</td>\n",
       "      <td>2019-05-08</td>\n",
       "      <td>105</td>\n",
       "      <td>https://sprs.parl.gov.sg/search/sprs3topic?rep...</td>\n",
       "      <td>REVIEW OF DRUG TESTING STANDARDS IN SINGAPORE ...</td>\n",
       "      <td>94</td>\n",
       "    </tr>\n",
       "    <tr>\n",
       "      <th>4</th>\n",
       "      <td>5d27eca6172d9aa762d48033</td>\n",
       "      <td>&lt;p class=\"ql-align-justify\"&gt;2 &lt;strong&gt;Mr Lim B...</td>\n",
       "      <td>{\"0\": {\"entity\": \"NA\", \"content\": \"Mr Lim Biow...</td>\n",
       "      <td>Mr Lim Biow Chuan asked the Deputy Prime Minis...</td>\n",
       "      <td>Employment</td>\n",
       "      <td>[Mr Lim Biow Chuan asked the Deputy Prime Mini...</td>\n",
       "      <td>13</td>\n",
       "      <td>[{'content': 'Mr Lim Biow Chuan asked the Depu...</td>\n",
       "      <td>[Ms Indranee Rajah, The Second Minister for Fi...</td>\n",
       "      <td>2</td>\n",
       "      <td>ORAL ANSWERS</td>\n",
       "      <td>2019-05-08</td>\n",
       "      <td>105</td>\n",
       "      <td>https://sprs.parl.gov.sg/search/sprs3topic?rep...</td>\n",
       "      <td>LIVING IN PRIVATE PROPERTIES BUT WITH NO DECLA...</td>\n",
       "      <td>94</td>\n",
       "    </tr>\n",
       "  </tbody>\n",
       "</table>\n",
       "</div>"
      ],
      "text/plain": [
       "                        _id  \\\n",
       "0  5d27eca6172d9aa762d4802f   \n",
       "1  5d27eca6172d9aa762d48030   \n",
       "2  5d27eca6172d9aa762d48031   \n",
       "3  5d27eca6172d9aa762d48032   \n",
       "4  5d27eca6172d9aa762d48033   \n",
       "\n",
       "                                        article_text  \\\n",
       "0  <p>[(proc text) Debate resumed. (proc text)]</...   \n",
       "1  <p class=\"ql-align-justify\">4 <strong>Mr Vikra...   \n",
       "2  <p class=\"ql-align-justify\">8 <strong>Assoc Pr...   \n",
       "3  <p>5 <strong>Ms Irene Quay Siew Ching</strong>...   \n",
       "4  <p class=\"ql-align-justify\">2 <strong>Mr Lim B...   \n",
       "\n",
       "                                              chunks  \\\n",
       "0  {\"0\": {\"entity\": \"NA\", \"content\": \"[(proc text...   \n",
       "1  {\"0\": {\"entity\": \"NA\", \"content\": \"Mr Vikram N...   \n",
       "2  {\"0\": {\"entity\": \"NA\", \"content\": \"Assoc Prof ...   \n",
       "3  {\"0\": {\"entity\": \"NA\", \"content\": \"Ms Irene Qu...   \n",
       "4  {\"0\": {\"entity\": \"NA\", \"content\": \"Mr Lim Biow...   \n",
       "\n",
       "                                        cleaned_join     dominant_topic  \\\n",
       "0  [(proc text) Debate resumed. (proc text)]<br/>...            Society   \n",
       "1  Mr Vikram Nair asked the Minister for Foreign ...            Society   \n",
       "2  Assoc Prof Walter Theseira asked the Minister ...  Internal Security   \n",
       "3  Ms Irene Quay Siew Ching asked the Minister fo...        Environment   \n",
       "4  Mr Lim Biow Chuan asked the Deputy Prime Minis...         Employment   \n",
       "\n",
       "                                          html_clean  parliament_num  \\\n",
       "0  [[(proc text) Debate resumed. (proc text)], Mr...              13   \n",
       "1  [Mr Vikram Nair asked the Minister for Foreign...              13   \n",
       "2  [Assoc Prof Walter Theseira asked the Minister...              13   \n",
       "3  [Ms Irene Quay Siew Ching asked the Minister f...              13   \n",
       "4  [Mr Lim Biow Chuan asked the Deputy Prime Mini...              13   \n",
       "\n",
       "                                        parsed_convo  \\\n",
       "0  [{'content': '[(proc text) Debate resumed. (pr...   \n",
       "1  [{'content': 'Mr Vikram Nair asked the Ministe...   \n",
       "2  [{'content': 'Assoc Prof Walter Theseira asked...   \n",
       "3  [{'content': 'Ms Irene Quay Siew Ching asked t...   \n",
       "4  [{'content': 'Mr Lim Biow Chuan asked the Depu...   \n",
       "\n",
       "                                    persons_involved  session_num  \\\n",
       "0  [Mr Leon Perera, Mr K Shanmugam, Assoc Prof Wa...            2   \n",
       "1  [Dr Vivian Balakrishnan, The Minister for Fore...            2   \n",
       "2  [Ms Low Yen Ling, Ms Anthea Ong, Assoc Prof Wa...            2   \n",
       "3  [The Senior Minister of State for Health, Dr L...            2   \n",
       "4  [Ms Indranee Rajah, The Second Minister for Fi...            2   \n",
       "\n",
       "           session_type sitting_date  sitting_num  \\\n",
       "0  SECOND READING BILLS   2019-05-08          105   \n",
       "1          ORAL ANSWERS   2019-05-08          105   \n",
       "2          ORAL ANSWERS   2019-05-08          105   \n",
       "3          ORAL ANSWERS   2019-05-08          105   \n",
       "4          ORAL ANSWERS   2019-05-08          105   \n",
       "\n",
       "                                             src_url  \\\n",
       "0  https://sprs.parl.gov.sg/search/sprs3topic?rep...   \n",
       "1  https://sprs.parl.gov.sg/search/sprs3topic?rep...   \n",
       "2  https://sprs.parl.gov.sg/search/sprs3topic?rep...   \n",
       "3  https://sprs.parl.gov.sg/search/sprs3topic?rep...   \n",
       "4  https://sprs.parl.gov.sg/search/sprs3topic?rep...   \n",
       "\n",
       "                                               title  volume_num  \n",
       "0  PROTECTION FROM ONLINE FALSEHOODS AND MANIPULA...          94  \n",
       "1  STATE OF BILATERAL RELATIONS WITH MALAYSIA FOL...          94  \n",
       "2  COMPANIES WITH MEASURES TO DEAL WITH WORKPLACE...          94  \n",
       "3  REVIEW OF DRUG TESTING STANDARDS IN SINGAPORE ...          94  \n",
       "4  LIVING IN PRIVATE PROPERTIES BUT WITH NO DECLA...          94  "
      ]
     },
     "execution_count": 5,
     "metadata": {},
     "output_type": "execute_result"
    }
   ],
   "source": [
    "mongo_df = pd.DataFrame.from_records(articles.find())\n",
    "mongo_df.head()"
   ]
  },
  {
   "cell_type": "markdown",
   "metadata": {},
   "source": [
    "## Text Preprocessing"
   ]
  },
  {
   "cell_type": "code",
   "execution_count": 5,
   "metadata": {},
   "outputs": [],
   "source": [
    "def sent_to_words(sentences):\n",
    "    for sentence in sentences:\n",
    "        yield(gensim.utils.simple_preprocess(str(sentence), deacc=True))  # deacc=True removes punctuations\n",
    "\n",
    "def remove_stopwords(texts):\n",
    "    return [[word for word in simple_preprocess(str(doc)) if word not in stop_words] for doc in texts]\n",
    "\n",
    "def bigrams(words, bi_min=15, tri_min=10):\n",
    "    bigram = gensim.models.Phrases(words, min_count = bi_min)\n",
    "    bigram_mod = gensim.models.phrases.Phraser(bigram)\n",
    "    return bigram_mod\n",
    "    \n",
    "def get_corpus(df):\n",
    "    words = list(sent_to_words(df))\n",
    "    words = remove_stopwords(words)\n",
    "    bigram_mod = bigrams(words)\n",
    "    bigram = [bigram_mod[review] for review in words]\n",
    "    id2word = gensim.corpora.Dictionary(bigram)\n",
    "    id2word.filter_extremes(no_below=10, no_above=0.35)\n",
    "    id2word.compactify()\n",
    "    corpus = [id2word.doc2bow(text) for text in bigram]\n",
    "    return corpus, id2word, bigram\n",
    "\n",
    "def process_doc(doc):\n",
    "    words = sent_to_words(doc)\n",
    "    words = remove_stopwords(words)\n",
    "    bigram_mod = bigrams(words)\n",
    "    \n",
    "    return bigram_mod"
   ]
  },
  {
   "cell_type": "code",
   "execution_count": 16,
   "metadata": {},
   "outputs": [],
   "source": [
    "train_doc, test_doc = train_test_split(mongo_df)"
   ]
  },
  {
   "cell_type": "code",
   "execution_count": 9,
   "metadata": {},
   "outputs": [
    {
     "data": {
      "text/plain": [
       "<gensim.models.phrases.Phraser at 0x1708bcc88>"
      ]
     },
     "execution_count": 9,
     "metadata": {},
     "output_type": "execute_result"
    }
   ],
   "source": [
    "process_doc(train_doc)"
   ]
  },
  {
   "cell_type": "code",
   "execution_count": 10,
   "metadata": {},
   "outputs": [
    {
     "data": {
      "text/plain": [
       "['assoc', 'prof', 'walter', 'theseira']"
      ]
     },
     "execution_count": 10,
     "metadata": {},
     "output_type": "execute_result"
    }
   ],
   "source": [
    "[word for word in simple_preprocess(str(train_doc[2])) if word not in stop_words][:4]"
   ]
  },
  {
   "cell_type": "code",
   "execution_count": 65,
   "metadata": {},
   "outputs": [],
   "source": [
    "def read_corpus(series_docs, tokens_only=False):\n",
    "    for line in series_docs.itertuples():\n",
    "        if tokens_only:\n",
    "            yield simple_preprocess(line.cleaned_join)\n",
    "        else:\n",
    "            # For training data, add tags\n",
    "            yield gensim.models.doc2vec.TaggedDocument(simple_preprocess(line.cleaned_join), tags=str(line._1))\n"
   ]
  },
  {
   "cell_type": "code",
   "execution_count": 25,
   "metadata": {},
   "outputs": [],
   "source": [
    "train_corpus = list(read_corpus(train_doc, tokens_only=False))\n",
    "test_corpus = list(read_corpus(test_doc, tokens_only=True))"
   ]
  },
  {
   "cell_type": "code",
   "execution_count": 66,
   "metadata": {},
   "outputs": [],
   "source": [
    "corpus = list(read_corpus(mongo_df,tokens_only=False))"
   ]
  },
  {
   "cell_type": "code",
   "execution_count": 108,
   "metadata": {},
   "outputs": [
    {
     "data": {
      "text/plain": [
       "'5d27eca6172d9aa762d48030'"
      ]
     },
     "execution_count": 108,
     "metadata": {},
     "output_type": "execute_result"
    }
   ],
   "source": [
    "corpus[1].tags"
   ]
  },
  {
   "cell_type": "markdown",
   "metadata": {},
   "source": [
    "## Instantiating a Doc2Vec GenSim Instance"
   ]
  },
  {
   "cell_type": "code",
   "execution_count": null,
   "metadata": {},
   "outputs": [],
   "source": [
    "model = gensim.models.doc2vec.Doc2Vec(vector_size=50, min_count=5, epochs=100)"
   ]
  },
  {
   "cell_type": "markdown",
   "metadata": {},
   "source": [
    "### Build a Vocabulary"
   ]
  },
  {
   "cell_type": "code",
   "execution_count": 69,
   "metadata": {},
   "outputs": [],
   "source": [
    "model.build_vocab(corpus)"
   ]
  },
  {
   "cell_type": "code",
   "execution_count": 73,
   "metadata": {},
   "outputs": [
    {
     "name": "stdout",
     "output_type": "stream",
     "text": [
      "CPU times: user 17h 33min 52s, sys: 9min 40s, total: 17h 43min 32s\n",
      "Wall time: 6h 48min 22s\n"
     ]
    }
   ],
   "source": [
    "%time model.train(corpus, total_examples=model.corpus_count, epochs=model.epochs)"
   ]
  },
  {
   "cell_type": "markdown",
   "metadata": {},
   "source": [
    "### Save Model"
   ]
  },
  {
   "cell_type": "code",
   "execution_count": 74,
   "metadata": {},
   "outputs": [
    {
     "name": "stderr",
     "output_type": "stream",
     "text": [
      "/Users/syamil/anaconda3/envs/pivot/lib/python3.7/site-packages/smart_open/smart_open_lib.py:398: UserWarning: This function is deprecated, use smart_open.open instead. See the migration notes for details: https://github.com/RaRe-Technologies/smart_open/blob/master/README.rst#migrating-to-the-new-open-function\n",
      "  'See the migration notes for details: %s' % _MIGRATION_NOTES_URL\n"
     ]
    }
   ],
   "source": [
    "model.save('doc2vec')"
   ]
  },
  {
   "cell_type": "code",
   "execution_count": 20,
   "metadata": {},
   "outputs": [],
   "source": [
    "model.delete_temporary_training_data()"
   ]
  },
  {
   "cell_type": "markdown",
   "metadata": {},
   "source": [
    "## Load Model"
   ]
  },
  {
   "cell_type": "code",
   "execution_count": 122,
   "metadata": {},
   "outputs": [
    {
     "name": "stderr",
     "output_type": "stream",
     "text": [
      "/Users/syamil/anaconda3/envs/pivot/lib/python3.7/site-packages/smart_open/smart_open_lib.py:398: UserWarning: This function is deprecated, use smart_open.open instead. See the migration notes for details: https://github.com/RaRe-Technologies/smart_open/blob/master/README.rst#migrating-to-the-new-open-function\n",
      "  'See the migration notes for details: %s' % _MIGRATION_NOTES_URL\n"
     ]
    }
   ],
   "source": [
    "model = gensim.models.doc2vec.Doc2Vec.load('doc2vec')"
   ]
  },
  {
   "cell_type": "markdown",
   "metadata": {},
   "source": [
    "## Inference"
   ]
  },
  {
   "cell_type": "code",
   "execution_count": 104,
   "metadata": {},
   "outputs": [
    {
     "data": {
      "text/plain": [
       "['the',\n",
       " 'chairman',\n",
       " 'head',\n",
       " 'ministry',\n",
       " 'of',\n",
       " 'home',\n",
       " 'affairs',\n",
       " 'mr',\n",
       " 'christopher',\n",
       " 'de']"
      ]
     },
     "execution_count": 104,
     "metadata": {},
     "output_type": "execute_result"
    }
   ],
   "source": [
    "corpus[291].words[:10]"
   ]
  },
  {
   "cell_type": "code",
   "execution_count": 93,
   "metadata": {},
   "outputs": [],
   "source": [
    "inference_1 = model.infer_vector(corpus[291].words)"
   ]
  },
  {
   "cell_type": "code",
   "execution_count": 100,
   "metadata": {},
   "outputs": [
    {
     "data": {
      "text/plain": [
       "'5d27eca6172d9aa762d48040'"
      ]
     },
     "execution_count": 100,
     "metadata": {},
     "output_type": "execute_result"
    }
   ],
   "source": [
    "corpus[17].tags"
   ]
  },
  {
   "cell_type": "code",
   "execution_count": 109,
   "metadata": {},
   "outputs": [
    {
     "ename": "TypeError",
     "evalue": "'<' not supported between instances of 'str' and 'int'",
     "output_type": "error",
     "traceback": [
      "\u001b[0;31m---------------------------------------------------------------------------\u001b[0m",
      "\u001b[0;31mTypeError\u001b[0m                                 Traceback (most recent call last)",
      "\u001b[0;32m<ipython-input-109-3459e38332b7>\u001b[0m in \u001b[0;36m<module>\u001b[0;34m\u001b[0m\n\u001b[0;32m----> 1\u001b[0;31m \u001b[0mmodel\u001b[0m\u001b[0;34m.\u001b[0m\u001b[0mdocvecs\u001b[0m\u001b[0;34m.\u001b[0m\u001b[0mmost_similar\u001b[0m\u001b[0;34m(\u001b[0m\u001b[0mstr\u001b[0m\u001b[0;34m(\u001b[0m\u001b[0mcorpus\u001b[0m\u001b[0;34m[\u001b[0m\u001b[0;36m291\u001b[0m\u001b[0;34m]\u001b[0m\u001b[0;34m.\u001b[0m\u001b[0mtags\u001b[0m\u001b[0;34m)\u001b[0m\u001b[0;34m)\u001b[0m\u001b[0;34m\u001b[0m\u001b[0;34m\u001b[0m\u001b[0m\n\u001b[0m",
      "\u001b[0;32m~/anaconda3/envs/pivot/lib/python3.7/site-packages/gensim/models/keyedvectors.py\u001b[0m in \u001b[0;36mmost_similar\u001b[0;34m(self, positive, negative, topn, clip_start, clip_end, indexer)\u001b[0m\n\u001b[1;32m   1709\u001b[0m             \u001b[0;32mif\u001b[0m \u001b[0misinstance\u001b[0m\u001b[0;34m(\u001b[0m\u001b[0mdoc\u001b[0m\u001b[0;34m,\u001b[0m \u001b[0mndarray\u001b[0m\u001b[0;34m)\u001b[0m\u001b[0;34m:\u001b[0m\u001b[0;34m\u001b[0m\u001b[0;34m\u001b[0m\u001b[0m\n\u001b[1;32m   1710\u001b[0m                 \u001b[0mmean\u001b[0m\u001b[0;34m.\u001b[0m\u001b[0mappend\u001b[0m\u001b[0;34m(\u001b[0m\u001b[0mweight\u001b[0m \u001b[0;34m*\u001b[0m \u001b[0mdoc\u001b[0m\u001b[0;34m)\u001b[0m\u001b[0;34m\u001b[0m\u001b[0;34m\u001b[0m\u001b[0m\n\u001b[0;32m-> 1711\u001b[0;31m             \u001b[0;32melif\u001b[0m \u001b[0mdoc\u001b[0m \u001b[0;32min\u001b[0m \u001b[0mself\u001b[0m\u001b[0;34m.\u001b[0m\u001b[0mdoctags\u001b[0m \u001b[0;32mor\u001b[0m \u001b[0mdoc\u001b[0m \u001b[0;34m<\u001b[0m \u001b[0mself\u001b[0m\u001b[0;34m.\u001b[0m\u001b[0mcount\u001b[0m\u001b[0;34m:\u001b[0m\u001b[0;34m\u001b[0m\u001b[0;34m\u001b[0m\u001b[0m\n\u001b[0m\u001b[1;32m   1712\u001b[0m                 \u001b[0mmean\u001b[0m\u001b[0;34m.\u001b[0m\u001b[0mappend\u001b[0m\u001b[0;34m(\u001b[0m\u001b[0mweight\u001b[0m \u001b[0;34m*\u001b[0m \u001b[0mself\u001b[0m\u001b[0;34m.\u001b[0m\u001b[0mvectors_docs_norm\u001b[0m\u001b[0;34m[\u001b[0m\u001b[0mself\u001b[0m\u001b[0;34m.\u001b[0m\u001b[0m_int_index\u001b[0m\u001b[0;34m(\u001b[0m\u001b[0mdoc\u001b[0m\u001b[0;34m,\u001b[0m \u001b[0mself\u001b[0m\u001b[0;34m.\u001b[0m\u001b[0mdoctags\u001b[0m\u001b[0;34m,\u001b[0m \u001b[0mself\u001b[0m\u001b[0;34m.\u001b[0m\u001b[0mmax_rawint\u001b[0m\u001b[0;34m)\u001b[0m\u001b[0;34m]\u001b[0m\u001b[0;34m)\u001b[0m\u001b[0;34m\u001b[0m\u001b[0;34m\u001b[0m\u001b[0m\n\u001b[1;32m   1713\u001b[0m                 \u001b[0mall_docs\u001b[0m\u001b[0;34m.\u001b[0m\u001b[0madd\u001b[0m\u001b[0;34m(\u001b[0m\u001b[0mself\u001b[0m\u001b[0;34m.\u001b[0m\u001b[0m_int_index\u001b[0m\u001b[0;34m(\u001b[0m\u001b[0mdoc\u001b[0m\u001b[0;34m,\u001b[0m \u001b[0mself\u001b[0m\u001b[0;34m.\u001b[0m\u001b[0mdoctags\u001b[0m\u001b[0;34m,\u001b[0m \u001b[0mself\u001b[0m\u001b[0;34m.\u001b[0m\u001b[0mmax_rawint\u001b[0m\u001b[0;34m)\u001b[0m\u001b[0;34m)\u001b[0m\u001b[0;34m\u001b[0m\u001b[0;34m\u001b[0m\u001b[0m\n",
      "\u001b[0;31mTypeError\u001b[0m: '<' not supported between instances of 'str' and 'int'"
     ]
    }
   ],
   "source": [
    "model.docvecs.most_similar(str(corpus[291].tags))"
   ]
  },
  {
   "cell_type": "code",
   "execution_count": 88,
   "metadata": {},
   "outputs": [
    {
     "ename": "TypeError",
     "evalue": "list indices must be integers or slices, not str",
     "output_type": "error",
     "traceback": [
      "\u001b[0;31m---------------------------------------------------------------------------\u001b[0m",
      "\u001b[0;31mTypeError\u001b[0m                                 Traceback (most recent call last)",
      "\u001b[0;32m<ipython-input-88-0baa0390df5a>\u001b[0m in \u001b[0;36m<module>\u001b[0;34m\u001b[0m\n\u001b[0;32m----> 1\u001b[0;31m \u001b[0;34m\" \"\u001b[0m\u001b[0;34m.\u001b[0m\u001b[0mjoin\u001b[0m\u001b[0;34m(\u001b[0m\u001b[0mtrain_corpus\u001b[0m\u001b[0;34m[\u001b[0m\u001b[0;34m'a'\u001b[0m\u001b[0;34m]\u001b[0m\u001b[0;34m.\u001b[0m\u001b[0mwords\u001b[0m\u001b[0;34m)\u001b[0m\u001b[0;34m\u001b[0m\u001b[0;34m\u001b[0m\u001b[0m\n\u001b[0m",
      "\u001b[0;31mTypeError\u001b[0m: list indices must be integers or slices, not str"
     ]
    }
   ],
   "source": [
    "\" \".join(train_corpus[].words)"
   ]
  },
  {
   "cell_type": "code",
   "execution_count": 78,
   "metadata": {},
   "outputs": [
    {
     "data": {
      "text/plain": [
       "'5d27eca6172d9aa762d48038'"
      ]
     },
     "execution_count": 78,
     "metadata": {},
     "output_type": "execute_result"
    }
   ],
   "source": [
    "corpus[9][1]"
   ]
  },
  {
   "cell_type": "code",
   "execution_count": null,
   "metadata": {},
   "outputs": [],
   "source": []
  }
 ],
 "metadata": {
  "kernelspec": {
   "display_name": "Python 3",
   "language": "python",
   "name": "python3"
  },
  "language_info": {
   "codemirror_mode": {
    "name": "ipython",
    "version": 3
   },
   "file_extension": ".py",
   "mimetype": "text/x-python",
   "name": "python",
   "nbconvert_exporter": "python",
   "pygments_lexer": "ipython3",
   "version": "3.7.3"
  }
 },
 "nbformat": 4,
 "nbformat_minor": 2
}
